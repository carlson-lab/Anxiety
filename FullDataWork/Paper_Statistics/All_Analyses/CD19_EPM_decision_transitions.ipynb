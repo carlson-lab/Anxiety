{
 "cells": [
  {
   "cell_type": "code",
   "execution_count": null,
   "id": "c4c90dc0-9bea-4e34-812a-2c4a99512610",
   "metadata": {},
   "outputs": [],
   "source": [
    "import numpy as np\n",
    "import pandas as pd\n",
    "import statsmodels.api as sm \n",
    "from scipy.stats import ranksums, mannwhitneyu\n",
    "import pingouin as pg\n",
    "from statsmodels.formula.api import ols \n",
    "from statsmodels.stats.anova import AnovaRM\n",
    "import matplotlib.pyplot as plt\n",
    "\n",
    "c2o_file = \"/hpc/home/mk423/Anxiety/FullDataWork/Projections/EPM_center_to_open_vs_center_to_closed_net_{}.csv\""
   ]
  }
 ],
 "metadata": {
  "kernelspec": {
   "display_name": "Python 3 (ipykernel)",
   "language": "python",
   "name": "python3"
  },
  "language_info": {
   "codemirror_mode": {
    "name": "ipython",
    "version": 3
   },
   "file_extension": ".py",
   "mimetype": "text/x-python",
   "name": "python",
   "nbconvert_exporter": "python",
   "pygments_lexer": "ipython3",
   "version": "3.7.13"
  }
 },
 "nbformat": 4,
 "nbformat_minor": 5
}

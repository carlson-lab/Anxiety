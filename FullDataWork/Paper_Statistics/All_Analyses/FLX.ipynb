{
 "cells": [
  {
   "cell_type": "code",
   "execution_count": 1,
   "id": "d0672524-84f5-44f3-84a1-2136dc26a342",
   "metadata": {},
   "outputs": [
    {
     "name": "stderr",
     "output_type": "stream",
     "text": [
      "/opt/conda/lib/python3.7/site-packages/tqdm/auto.py:22: TqdmWarning: IProgress not found. Please update jupyter and ipywidgets. See https://ipywidgets.readthedocs.io/en/stable/user_install.html\n",
      "  from .autonotebook import tqdm as notebook_tqdm\n",
      "/hpc/home/mk423/.local/lib/python3.7/site-packages/lpne/pipelines/__init__.py:14: UserWarning: Could not load lpne/pipelines/default_params.yaml!\n",
      "  warnings.warn(\"Could not load lpne/pipelines/default_params.yaml!\")\n",
      "/hpc/home/mk423/.local/lib/python3.7/site-packages/outdated/utils.py:18: OutdatedPackageWarning: The package pingouin is out of date. Your version is 0.5.3, the latest is 0.5.4.\n",
      "Set the environment variable OUTDATED_IGNORE=1 to disable these warnings.\n",
      "  **kwargs\n"
     ]
    }
   ],
   "source": [
    "import numpy as np\n",
    "import pandas as pd\n",
    "import torch\n",
    "import pickle\n",
    "import matplotlib.pyplot as plt\n",
    "from lpne.models import DcsfaNmf\n",
    "from sklearn.metrics import roc_auc_score\n",
    "import statsmodels.api as sm \n",
    "from statsmodels.formula.api import ols \n",
    "import pingouin as pg\n",
    "from scipy.stats import boxcox\n",
    "from statsmodels.stats.anova import AnovaRM\n",
    "\n",
    "MODEL_FILE = \"/hpc/home/mk423/Anxiety/FullDataWork/Models/Final_mt_Model_500_epochs.pt\"\n",
    "DATA_PATH = \"/work/mk423/Anxiety/\"\n",
    "PROJECT_PATH = \"/hpc/home/mk423/Anxiety/FullDataWork/Projections/\"\n",
    "data_file = DATA_PATH + \"final_FLX_test.pkl\"\n",
    "proj_file = PROJECT_PATH + \"FLX_Holdout_Projections_bxcx.csv\"\n",
    "mean_file = PROJECT_PATH + \"{}_FLX_Holdout_mean_scores.csv\"\n",
    "\n",
    "model = torch.load(MODEL_FILE,map_location=\"cpu\")\n",
    "model.device=\"cpu\"\n",
    "\n",
    "import os, sys\n",
    "umc_data_tools_path = \"/hpc/home/mk423/Anxiety/Universal-Mouse-Code/\"\n",
    "sys.path.append(umc_data_tools_path)\n",
    "import umc_data_tools as umc_dt\n",
    "import pingouin as pg\n",
    "from sklearn.preprocessing import OrdinalEncoder\n",
    "from sklearn.preprocessing import MinMaxScaler"
   ]
  },
  {
   "cell_type": "code",
   "execution_count": 2,
   "id": "b58ea6fa-ec7d-495c-8627-a0b863fcbd44",
   "metadata": {},
   "outputs": [],
   "source": [
    "df = pd.read_csv(proj_file)"
   ]
  },
  {
   "cell_type": "code",
   "execution_count": 4,
   "id": "5a3d6647-8cc2-469f-9b0a-4babc165ed15",
   "metadata": {},
   "outputs": [],
   "source": [
    "mouse_encoder = OrdinalEncoder().fit(df.mouse.values.reshape(-1,1))\n",
    "df_me = {\n",
    "    \"n1_scores\":np.hstack([df[df.flx==1][\"net 1 scores\"],\n",
    "                           df[df.flx==0][\"net 1 scores\"]]),\n",
    "    \n",
    "    \"n2_scores\":np.hstack([df[df.flx==1][\"net 2 scores\"],\n",
    "                           df[df.flx==0][\"net 2 scores\"]]),\n",
    "    \n",
    "    \"mouse\":np.hstack([mouse_encoder.transform(df[df.flx==1][\"mouse\"].values.reshape(-1,1)).squeeze(),\n",
    "                       mouse_encoder.transform(df[df.flx==0][\"mouse\"].values.reshape(-1,1)).squeeze()]).astype(int)+1,\n",
    "    \n",
    "    \"flx\":np.hstack([df[df.flx==1][\"flx\"],df[df.flx==0][\"flx\"]]).astype(int),\n",
    "    \n",
    "    \"time\":np.hstack([df[df.flx==1][\"time\"],df[df.flx==0][\"time\"]]),#MinMaxScaler().fit_transform(np.hstack([df[df.flx==1][\"time\"],df[df.flx==0][\"time\"]]).astype(float).reshape(-1,1)).squeeze(),\n",
    "    \n",
    "}\n",
    "\n",
    "df_me = pd.DataFrame.from_dict(df_me)\n",
    "#df_me.to_csv(\"/hpc/home/mk423/scaled_FLX_bxcx.csv\",index=False)"
   ]
  },
  {
   "cell_type": "code",
   "execution_count": 10,
   "id": "a16b4865-6d29-45bc-a6bf-24c35bb88a0d",
   "metadata": {},
   "outputs": [],
   "source": [
    "stacks = []\n",
    "time_scaler = MinMaxScaler()\n",
    "\n",
    "for mouse in np.unique(df_me.mouse):\n",
    "    for drug in np.unique(df_me.flx):\n",
    "        mask = np.logical_and(df_me.mouse==mouse,df_me.flx==drug)\n",
    "        \n",
    "        #We want 60 minutes of Data\n",
    "        for i in range(60):\n",
    "            time_mask = np.logical_and(df_me.time > i*60, df_me.time <= (i+1)*60)\n",
    "            temp_mask = np.logical_and(time_mask,mask).values\n",
    "            \n",
    "            n1_mean_score = np.nanmean(df_me[temp_mask==1].n1_scores.values)\n",
    "            n2_mean_score = np.nanmean(df_me[temp_mask==1].n2_scores.values)\n",
    "            \n",
    "            stacks.append(np.array([n1_mean_score,n2_mean_score,mouse,drug,i]))\n",
    "            \n",
    "            \n",
    "df_stats = pd.DataFrame(stacks,columns=[\"n1_scores\",\"n2_scores\",\"mouse\",\"flx\",\"minute\"])\n",
    "\n",
    "df_stats.minute = time_scaler.fit_transform(df_stats.minute.values.reshape(-1,1)).squeeze()\n",
    "df_stats.n1_scores = boxcox(20*df_stats.n1_scores)[0]\n",
    "df_stats.n2_scores = boxcox(20*df_stats.n2_scores)[0]"
   ]
  },
  {
   "cell_type": "code",
   "execution_count": 13,
   "id": "4fa9477e-5a4d-4fd5-8190-944d4b734677",
   "metadata": {},
   "outputs": [
    {
     "data": {
      "text/plain": [
       "array([[0.50847458]])"
      ]
     },
     "execution_count": 13,
     "metadata": {},
     "output_type": "execute_result"
    }
   ],
   "source": [
    "time_scaler.transform([[30]])"
   ]
  },
  {
   "cell_type": "code",
   "execution_count": 23,
   "id": "feac38f3-d739-446a-8b96-73abbe69a666",
   "metadata": {},
   "outputs": [
    {
     "data": {
      "text/html": [
       "<div>\n",
       "<style scoped>\n",
       "    .dataframe tbody tr th:only-of-type {\n",
       "        vertical-align: middle;\n",
       "    }\n",
       "\n",
       "    .dataframe tbody tr th {\n",
       "        vertical-align: top;\n",
       "    }\n",
       "\n",
       "    .dataframe thead th {\n",
       "        text-align: right;\n",
       "    }\n",
       "</style>\n",
       "<table border=\"1\" class=\"dataframe\">\n",
       "  <thead>\n",
       "    <tr style=\"text-align: right;\">\n",
       "      <th></th>\n",
       "      <th>Source</th>\n",
       "      <th>SS</th>\n",
       "      <th>ddof1</th>\n",
       "      <th>ddof2</th>\n",
       "      <th>MS</th>\n",
       "      <th>F</th>\n",
       "      <th>p-unc</th>\n",
       "      <th>p-GG-corr</th>\n",
       "      <th>ng2</th>\n",
       "      <th>eps</th>\n",
       "    </tr>\n",
       "  </thead>\n",
       "  <tbody>\n",
       "    <tr>\n",
       "      <th>0</th>\n",
       "      <td>minute</td>\n",
       "      <td>3.080009</td>\n",
       "      <td>59</td>\n",
       "      <td>295</td>\n",
       "      <td>0.052204</td>\n",
       "      <td>4.054338</td>\n",
       "      <td>7.825426e-16</td>\n",
       "      <td>0.014101</td>\n",
       "      <td>0.049029</td>\n",
       "      <td>0.068460</td>\n",
       "    </tr>\n",
       "    <tr>\n",
       "      <th>1</th>\n",
       "      <td>flx</td>\n",
       "      <td>4.293213</td>\n",
       "      <td>1</td>\n",
       "      <td>5</td>\n",
       "      <td>4.293213</td>\n",
       "      <td>9.165288</td>\n",
       "      <td>2.916734e-02</td>\n",
       "      <td>0.029167</td>\n",
       "      <td>0.067047</td>\n",
       "      <td>1.000000</td>\n",
       "    </tr>\n",
       "    <tr>\n",
       "      <th>2</th>\n",
       "      <td>minute * flx</td>\n",
       "      <td>0.888407</td>\n",
       "      <td>59</td>\n",
       "      <td>295</td>\n",
       "      <td>0.015058</td>\n",
       "      <td>1.136061</td>\n",
       "      <td>2.466370e-01</td>\n",
       "      <td>0.368043</td>\n",
       "      <td>0.014653</td>\n",
       "      <td>0.069951</td>\n",
       "    </tr>\n",
       "  </tbody>\n",
       "</table>\n",
       "</div>"
      ],
      "text/plain": [
       "         Source        SS  ddof1  ddof2        MS         F         p-unc  \\\n",
       "0        minute  3.080009     59    295  0.052204  4.054338  7.825426e-16   \n",
       "1           flx  4.293213      1      5  4.293213  9.165288  2.916734e-02   \n",
       "2  minute * flx  0.888407     59    295  0.015058  1.136061  2.466370e-01   \n",
       "\n",
       "   p-GG-corr       ng2       eps  \n",
       "0   0.014101  0.049029  0.068460  \n",
       "1   0.029167  0.067047  1.000000  \n",
       "2   0.368043  0.014653  0.069951  "
      ]
     },
     "execution_count": 23,
     "metadata": {},
     "output_type": "execute_result"
    }
   ],
   "source": [
    "from pingouin import rm_anova\n",
    "rm_anova(dv=\"n1_scores\",within=[\"minute\",\"flx\"],subject=\"mouse\",data=df_stats)"
   ]
  },
  {
   "cell_type": "code",
   "execution_count": 22,
   "id": "4cf55030-2fed-491c-bd2d-986d810a844e",
   "metadata": {},
   "outputs": [
    {
     "data": {
      "text/html": [
       "<div>\n",
       "<style scoped>\n",
       "    .dataframe tbody tr th:only-of-type {\n",
       "        vertical-align: middle;\n",
       "    }\n",
       "\n",
       "    .dataframe tbody tr th {\n",
       "        vertical-align: top;\n",
       "    }\n",
       "\n",
       "    .dataframe thead th {\n",
       "        text-align: right;\n",
       "    }\n",
       "</style>\n",
       "<table border=\"1\" class=\"dataframe\">\n",
       "  <thead>\n",
       "    <tr style=\"text-align: right;\">\n",
       "      <th></th>\n",
       "      <th>Source</th>\n",
       "      <th>SS</th>\n",
       "      <th>ddof1</th>\n",
       "      <th>ddof2</th>\n",
       "      <th>MS</th>\n",
       "      <th>F</th>\n",
       "      <th>p-unc</th>\n",
       "      <th>p-GG-corr</th>\n",
       "      <th>ng2</th>\n",
       "      <th>eps</th>\n",
       "    </tr>\n",
       "  </thead>\n",
       "  <tbody>\n",
       "    <tr>\n",
       "      <th>0</th>\n",
       "      <td>minute</td>\n",
       "      <td>13.034927</td>\n",
       "      <td>59</td>\n",
       "      <td>295</td>\n",
       "      <td>0.220931</td>\n",
       "      <td>3.851086</td>\n",
       "      <td>9.982110e-15</td>\n",
       "      <td>0.015017</td>\n",
       "      <td>0.056540</td>\n",
       "      <td>0.072691</td>\n",
       "    </tr>\n",
       "    <tr>\n",
       "      <th>1</th>\n",
       "      <td>flx</td>\n",
       "      <td>20.771919</td>\n",
       "      <td>1</td>\n",
       "      <td>5</td>\n",
       "      <td>20.771919</td>\n",
       "      <td>5.755776</td>\n",
       "      <td>6.168788e-02</td>\n",
       "      <td>0.061688</td>\n",
       "      <td>0.087175</td>\n",
       "      <td>1.000000</td>\n",
       "    </tr>\n",
       "    <tr>\n",
       "      <th>2</th>\n",
       "      <td>minute * flx</td>\n",
       "      <td>4.293664</td>\n",
       "      <td>59</td>\n",
       "      <td>295</td>\n",
       "      <td>0.072774</td>\n",
       "      <td>1.356014</td>\n",
       "      <td>5.447795e-02</td>\n",
       "      <td>0.279306</td>\n",
       "      <td>0.019358</td>\n",
       "      <td>0.076220</td>\n",
       "    </tr>\n",
       "  </tbody>\n",
       "</table>\n",
       "</div>"
      ],
      "text/plain": [
       "         Source         SS  ddof1  ddof2         MS         F         p-unc  \\\n",
       "0        minute  13.034927     59    295   0.220931  3.851086  9.982110e-15   \n",
       "1           flx  20.771919      1      5  20.771919  5.755776  6.168788e-02   \n",
       "2  minute * flx   4.293664     59    295   0.072774  1.356014  5.447795e-02   \n",
       "\n",
       "   p-GG-corr       ng2       eps  \n",
       "0   0.015017  0.056540  0.072691  \n",
       "1   0.061688  0.087175  1.000000  \n",
       "2   0.279306  0.019358  0.076220  "
      ]
     },
     "execution_count": 22,
     "metadata": {},
     "output_type": "execute_result"
    }
   ],
   "source": [
    "rm_anova(dv=\"n2_scores\",within=[\"minute\",\"flx\"],subject=\"mouse\",data=df_stats)"
   ]
  },
  {
   "cell_type": "markdown",
   "id": "c8c61b75-b5dc-45ab-9af7-8866249b12ef",
   "metadata": {},
   "source": [
    "### First 30 Minutes"
   ]
  },
  {
   "cell_type": "code",
   "execution_count": 25,
   "id": "26e475d4-ff89-40eb-bb11-89021d12f186",
   "metadata": {},
   "outputs": [
    {
     "data": {
      "text/html": [
       "<div>\n",
       "<style scoped>\n",
       "    .dataframe tbody tr th:only-of-type {\n",
       "        vertical-align: middle;\n",
       "    }\n",
       "\n",
       "    .dataframe tbody tr th {\n",
       "        vertical-align: top;\n",
       "    }\n",
       "\n",
       "    .dataframe thead th {\n",
       "        text-align: right;\n",
       "    }\n",
       "</style>\n",
       "<table border=\"1\" class=\"dataframe\">\n",
       "  <thead>\n",
       "    <tr style=\"text-align: right;\">\n",
       "      <th></th>\n",
       "      <th>Source</th>\n",
       "      <th>SS</th>\n",
       "      <th>ddof1</th>\n",
       "      <th>ddof2</th>\n",
       "      <th>MS</th>\n",
       "      <th>F</th>\n",
       "      <th>p-unc</th>\n",
       "      <th>p-GG-corr</th>\n",
       "      <th>ng2</th>\n",
       "      <th>eps</th>\n",
       "    </tr>\n",
       "  </thead>\n",
       "  <tbody>\n",
       "    <tr>\n",
       "      <th>0</th>\n",
       "      <td>minute</td>\n",
       "      <td>1.343732</td>\n",
       "      <td>30</td>\n",
       "      <td>150</td>\n",
       "      <td>0.044791</td>\n",
       "      <td>3.232381</td>\n",
       "      <td>0.000001</td>\n",
       "      <td>0.045959</td>\n",
       "      <td>0.043012</td>\n",
       "      <td>0.109727</td>\n",
       "    </tr>\n",
       "    <tr>\n",
       "      <th>1</th>\n",
       "      <td>flx</td>\n",
       "      <td>2.763185</td>\n",
       "      <td>1</td>\n",
       "      <td>5</td>\n",
       "      <td>2.763185</td>\n",
       "      <td>14.578316</td>\n",
       "      <td>0.012396</td>\n",
       "      <td>0.012396</td>\n",
       "      <td>0.084604</td>\n",
       "      <td>1.000000</td>\n",
       "    </tr>\n",
       "    <tr>\n",
       "      <th>2</th>\n",
       "      <td>minute * flx</td>\n",
       "      <td>0.485816</td>\n",
       "      <td>30</td>\n",
       "      <td>150</td>\n",
       "      <td>0.016194</td>\n",
       "      <td>1.423756</td>\n",
       "      <td>0.087531</td>\n",
       "      <td>0.262239</td>\n",
       "      <td>0.015990</td>\n",
       "      <td>0.134106</td>\n",
       "    </tr>\n",
       "  </tbody>\n",
       "</table>\n",
       "</div>"
      ],
      "text/plain": [
       "         Source        SS  ddof1  ddof2        MS          F     p-unc  \\\n",
       "0        minute  1.343732     30    150  0.044791   3.232381  0.000001   \n",
       "1           flx  2.763185      1      5  2.763185  14.578316  0.012396   \n",
       "2  minute * flx  0.485816     30    150  0.016194   1.423756  0.087531   \n",
       "\n",
       "   p-GG-corr       ng2       eps  \n",
       "0   0.045959  0.043012  0.109727  \n",
       "1   0.012396  0.084604  1.000000  \n",
       "2   0.262239  0.015990  0.134106  "
      ]
     },
     "execution_count": 25,
     "metadata": {},
     "output_type": "execute_result"
    }
   ],
   "source": [
    "rm_anova(dv=\"n1_scores\",within=[\"minute\",\"flx\"],subject=\"mouse\",data=df_stats[df_stats.minute < 0.50847458].copy())"
   ]
  },
  {
   "cell_type": "code",
   "execution_count": 29,
   "id": "f1c042ee-4b4e-4a0c-b63a-3d2bbeb81d1b",
   "metadata": {},
   "outputs": [
    {
     "data": {
      "text/html": [
       "<div>\n",
       "<style scoped>\n",
       "    .dataframe tbody tr th:only-of-type {\n",
       "        vertical-align: middle;\n",
       "    }\n",
       "\n",
       "    .dataframe tbody tr th {\n",
       "        vertical-align: top;\n",
       "    }\n",
       "\n",
       "    .dataframe thead th {\n",
       "        text-align: right;\n",
       "    }\n",
       "</style>\n",
       "<table border=\"1\" class=\"dataframe\">\n",
       "  <thead>\n",
       "    <tr style=\"text-align: right;\">\n",
       "      <th></th>\n",
       "      <th>Source</th>\n",
       "      <th>SS</th>\n",
       "      <th>ddof1</th>\n",
       "      <th>ddof2</th>\n",
       "      <th>MS</th>\n",
       "      <th>F</th>\n",
       "      <th>p-unc</th>\n",
       "      <th>p-GG-corr</th>\n",
       "      <th>ng2</th>\n",
       "      <th>eps</th>\n",
       "    </tr>\n",
       "  </thead>\n",
       "  <tbody>\n",
       "    <tr>\n",
       "      <th>0</th>\n",
       "      <td>minute</td>\n",
       "      <td>3.251339</td>\n",
       "      <td>30</td>\n",
       "      <td>150</td>\n",
       "      <td>0.108378</td>\n",
       "      <td>2.180245</td>\n",
       "      <td>0.001177</td>\n",
       "      <td>0.105959</td>\n",
       "      <td>0.033266</td>\n",
       "      <td>0.136819</td>\n",
       "    </tr>\n",
       "    <tr>\n",
       "      <th>1</th>\n",
       "      <td>flx</td>\n",
       "      <td>9.868756</td>\n",
       "      <td>1</td>\n",
       "      <td>5</td>\n",
       "      <td>9.868756</td>\n",
       "      <td>7.866697</td>\n",
       "      <td>0.037781</td>\n",
       "      <td>0.037781</td>\n",
       "      <td>0.094569</td>\n",
       "      <td>1.000000</td>\n",
       "    </tr>\n",
       "    <tr>\n",
       "      <th>2</th>\n",
       "      <td>minute * flx</td>\n",
       "      <td>2.722885</td>\n",
       "      <td>30</td>\n",
       "      <td>150</td>\n",
       "      <td>0.090763</td>\n",
       "      <td>2.199698</td>\n",
       "      <td>0.001041</td>\n",
       "      <td>0.100393</td>\n",
       "      <td>0.028011</td>\n",
       "      <td>0.141867</td>\n",
       "    </tr>\n",
       "  </tbody>\n",
       "</table>\n",
       "</div>"
      ],
      "text/plain": [
       "         Source        SS  ddof1  ddof2        MS         F     p-unc  \\\n",
       "0        minute  3.251339     30    150  0.108378  2.180245  0.001177   \n",
       "1           flx  9.868756      1      5  9.868756  7.866697  0.037781   \n",
       "2  minute * flx  2.722885     30    150  0.090763  2.199698  0.001041   \n",
       "\n",
       "   p-GG-corr       ng2       eps  \n",
       "0   0.105959  0.033266  0.136819  \n",
       "1   0.037781  0.094569  1.000000  \n",
       "2   0.100393  0.028011  0.141867  "
      ]
     },
     "execution_count": 29,
     "metadata": {},
     "output_type": "execute_result"
    }
   ],
   "source": [
    "rm_anova(dv=\"n2_scores\",within=[\"minute\",\"flx\"],subject=\"mouse\",data=df_stats[df_stats.minute < 0.50847458].copy())"
   ]
  },
  {
   "cell_type": "markdown",
   "id": "24aff5fb-7f37-444a-90f0-6746e5985323",
   "metadata": {},
   "source": [
    "### Adding more mice test"
   ]
  },
  {
   "cell_type": "code",
   "execution_count": 61,
   "id": "68288ff5-e56d-47f5-b0e9-dcdb6db9d864",
   "metadata": {},
   "outputs": [
    {
     "data": {
      "text/plain": [
       "array([1., 2., 3., 4., 5., 6.])"
      ]
     },
     "execution_count": 61,
     "metadata": {},
     "output_type": "execute_result"
    }
   ],
   "source": [
    "np.unique(df_stats.mouse)"
   ]
  },
  {
   "cell_type": "code",
   "execution_count": 91,
   "id": "46dc6cb4-f1e7-4f21-8092-223bcc30f853",
   "metadata": {},
   "outputs": [
    {
     "name": "stdout",
     "output_type": "stream",
     "text": [
      "1\n"
     ]
    },
    {
     "data": {
      "image/png": "[encoded data removed]",
      "text/plain": [
       "<Figure size 432x288 with 2 Axes>"
      ]
     },
     "metadata": {
      "needs_background": "light"
     },
     "output_type": "display_data"
    },
    {
     "name": "stdout",
     "output_type": "stream",
     "text": [
      "2\n"
     ]
    },
    {
     "data": {
      "image/png": "[encoded data removed]",
      "text/plain": [
       "<Figure size 432x288 with 2 Axes>"
      ]
     },
     "metadata": {
      "needs_background": "light"
     },
     "output_type": "display_data"
    },
    {
     "name": "stdout",
     "output_type": "stream",
     "text": [
      "3\n"
     ]
    },
    {
     "data": {
      "image/png": "[encoded data removed]",
      "text/plain": [
       "<Figure size 432x288 with 2 Axes>"
      ]
     },
     "metadata": {
      "needs_background": "light"
     },
     "output_type": "display_data"
    },
    {
     "name": "stdout",
     "output_type": "stream",
     "text": [
      "5\n"
     ]
    },
    {
     "data": {
      "image/png": "[encoded data removed]",
      "text/plain": [
       "<Figure size 432x288 with 2 Axes>"
      ]
     },
     "metadata": {
      "needs_background": "light"
     },
     "output_type": "display_data"
    },
    {
     "name": "stdout",
     "output_type": "stream",
     "text": [
      "10\n"
     ]
    },
    {
     "data": {
      "image/png": "[encoded data removed]",
      "text/plain": [
       "<Figure size 432x288 with 2 Axes>"
      ]
     },
     "metadata": {
      "needs_background": "light"
     },
     "output_type": "display_data"
    },
    {
     "name": "stdout",
     "output_type": "stream",
     "text": [
      "20\n"
     ]
    },
    {
     "data": {
      "image/png": "[encoded data removed]",
      "text/plain": [
       "<Figure size 432x288 with 2 Axes>"
      ]
     },
     "metadata": {
      "needs_background": "light"
     },
     "output_type": "display_data"
    }
   ],
   "source": [
    "np.random.seed(42)\n",
    "mice_options = np.unique(df_stats.mouse)\n",
    "n1_ratios = []\n",
    "n2_ratios = []\n",
    "num_samps = 30\n",
    "\n",
    "for i in [1,2,3,5,10,20]:\n",
    "    print(i)\n",
    "    num_n1_sig = 0\n",
    "    num_n2_sig = 0\n",
    "    n1_pvalues = []\n",
    "    n2_pvalues = []\n",
    "    for j in range(num_samps):\n",
    "        base_df = df_stats.copy()\n",
    "        choices = np.random.choice(mice_options,size=i)\n",
    "        \n",
    "        df_list = []\n",
    "        for idx,mouse in enumerate(choices):\n",
    "            temp = df_stats[df_stats.mouse==mouse].copy()\n",
    "            temp.mouse = np.ones(temp.mouse.values.shape[0])*idx+len(mice_options)\n",
    "            df_list.append(temp)\n",
    "            \n",
    "        df_list.append(base_df)\n",
    "        aug_df = pd.concat(df_list)\n",
    "        n1_result = rm_anova(dv=\"n1_scores\",within=[\"minute\",\"flx\"],subject=\"mouse\",data=aug_df)\n",
    "        n2_result = rm_anova(dv=\"n2_scores\",within=[\"minute\",\"flx\"],subject=\"mouse\",data=aug_df)\n",
    "        \n",
    "        n1_pvalues.append(n1_result[\"p-GG-corr\"].values[2])\n",
    "        n2_pvalues.append(n2_result[\"p-GG-corr\"].values[2])\n",
    "        \n",
    "        num_n1_sig += n1_result[\"p-GG-corr\"].values[2] < 0.05\n",
    "        num_n2_sig += n2_result[\"p-GG-corr\"].values[2] < 0.05\n",
    "        \n",
    "        \n",
    "        #print(aug_df.shape, choices, n1_pvalues[-1],n2_pvalues[-1])\n",
    "        #print(choices)\n",
    "    \n",
    "    plt.figure()\n",
    "    plt.subplot(1,2,1)\n",
    "    plt.hist(n1_pvalues)\n",
    "    plt.axvline(0.5,color=\"red\",linestyle=\"--\")\n",
    "    plt.xlim([0,0.3])\n",
    "    plt.subplot(1,2,2)\n",
    "    plt.hist(n2_pvalues)\n",
    "    plt.axvline(0.5,color=\"red\",linestyle=\"--\")\n",
    "    plt.xlim([0,0.3])\n",
    "    plt.show()\n",
    "    n1_ratios.append(num_n1_sig / num_samps)\n",
    "    n2_ratios.append(num_n2_sig / num_samps)\n"
   ]
  },
  {
   "cell_type": "code",
   "execution_count": 92,
   "id": "a830a574-93f8-4cc0-8f0d-eca86013ea62",
   "metadata": {},
   "outputs": [
    {
     "data": {
      "image/png": "[encoded data removed]",
      "text/plain": [
       "<Figure size 432x288 with 1 Axes>"
      ]
     },
     "metadata": {
      "needs_background": "light"
     },
     "output_type": "display_data"
    }
   ],
   "source": [
    "plt.plot([1,2,3,5,10,20],n1_ratios,label=\"n1\")\n",
    "plt.plot([1,2,3,5,10,20],n2_ratios,label=\"n2\")\n",
    "plt.xticks([1,2,3,5,10,20],[1,2,3,5,10,20])\n",
    "plt.title(\"p-corr-gg Percentage of tests that were significant\")\n",
    "plt.show()"
   ]
  },
  {
   "cell_type": "code",
   "execution_count": 93,
   "id": "0ed0317f-1e2c-447b-b45e-190631ea515b",
   "metadata": {},
   "outputs": [
    {
     "name": "stdout",
     "output_type": "stream",
     "text": [
      "1\n",
      "2\n",
      "3\n",
      "5\n",
      "10\n",
      "20\n"
     ]
    }
   ],
   "source": [
    "np.random.seed(42)\n",
    "mice_options = np.unique(df_stats.mouse)\n",
    "n1_ratios = []\n",
    "n2_ratios = []\n",
    "num_samps = 30\n",
    "\n",
    "for i in [1,2,3,5,10,20]:\n",
    "    print(i)\n",
    "    num_n1_sig = 0\n",
    "    num_n2_sig = 0\n",
    "    n1_pvalues = []\n",
    "    n2_pvalues = []\n",
    "    for j in range(num_samps):\n",
    "        base_df = df_stats.copy()\n",
    "        choices = np.random.choice(mice_options,size=i)\n",
    "        \n",
    "        df_list = []\n",
    "        for idx,mouse in enumerate(choices):\n",
    "            temp = df_stats[df_stats.mouse==mouse].copy()\n",
    "            temp.mouse = np.ones(temp.mouse.values.shape[0])*idx+len(mice_options)\n",
    "            df_list.append(temp)\n",
    "            \n",
    "        df_list.append(base_df)\n",
    "        aug_df = pd.concat(df_list)\n",
    "        n1_result = rm_anova(dv=\"n1_scores\",within=[\"minute\",\"flx\"],subject=\"mouse\",data=aug_df)\n",
    "        n2_result = rm_anova(dv=\"n2_scores\",within=[\"minute\",\"flx\"],subject=\"mouse\",data=aug_df)\n",
    "        \n",
    "        n1_pvalues.append(n1_result[\"p-unc\"].values[2])\n",
    "        n2_pvalues.append(n2_result[\"p-unc\"].values[2])\n",
    "        \n",
    "        num_n1_sig += n1_result[\"p-unc\"].values[2] < 0.05\n",
    "        num_n2_sig += n2_result[\"p-unc\"].values[2] < 0.05\n",
    "        \n",
    "        \n",
    "        #print(aug_df.shape, choices, n1_pvalues[-1],n2_pvalues[-1])\n",
    "        #print(choices)\n",
    "    n1_ratios.append(num_n1_sig / num_samps)\n",
    "    n2_ratios.append(num_n2_sig / num_samps)\n"
   ]
  },
  {
   "cell_type": "code",
   "execution_count": 95,
   "id": "1659c5d8-c15e-4e4d-87c6-927441c38a73",
   "metadata": {},
   "outputs": [
    {
     "data": {
      "image/png": "[encoded data removed]",
      "text/plain": [
       "<Figure size 432x288 with 1 Axes>"
      ]
     },
     "metadata": {
      "needs_background": "light"
     },
     "output_type": "display_data"
    }
   ],
   "source": [
    "plt.plot([1,2,3,5,10,20],n1_ratios,label=\"n1\")\n",
    "plt.plot([1,2,3,5,10,20],n2_ratios,label=\"n2\")\n",
    "plt.xticks([1,2,3,5,10,20],[1,2,3,5,10,20])\n",
    "plt.title(\"p-unc Percentage of tests that were significant\")\n",
    "plt.xlabel(\"Number of New Mice (Bootstrapped)\")\n",
    "plt.show()"
   ]
  },
  {
   "cell_type": "markdown",
   "id": "e36ad63c-4028-4bca-8a63-0937c8a8c3dc",
   "metadata": {},
   "source": [
    "### Mixed Effects Model"
   ]
  },
  {
   "cell_type": "code",
   "execution_count": 5,
   "id": "4db54fad-a229-488e-b7aa-5d8e54c0e6cf",
   "metadata": {},
   "outputs": [
    {
     "name": "stderr",
     "output_type": "stream",
     "text": [
      "/hpc/home/mk423/.local/lib/python3.7/site-packages/statsmodels/regression/mixed_linear_model.py:2237: ConvergenceWarning: The MLE may be on the boundary of the parameter space.\n",
      "  warnings.warn(msg, ConvergenceWarning)\n"
     ]
    },
    {
     "name": "stdout",
     "output_type": "stream",
     "text": [
      "          Mixed Linear Model Regression Results\n",
      "=========================================================\n",
      "Model:            MixedLM Dependent Variable: n1_scores  \n",
      "No. Observations: 44778   Method:             REML       \n",
      "No. Groups:       6       Scale:              0.0005     \n",
      "Min. group size:  6995    Log-Likelihood:     106956.8406\n",
      "Max. group size:  8109    Converged:          Yes        \n",
      "Mean group size:  7463.0                                 \n",
      "---------------------------------------------------------\n",
      "              Coef.  Std.Err.    z    P>|z| [0.025 0.975]\n",
      "---------------------------------------------------------\n",
      "Intercept      0.078    0.005  16.494 0.000  0.069  0.087\n",
      "flx            0.007    0.000  16.497 0.000  0.006  0.008\n",
      "time          -0.000    0.000 -10.941 0.000 -0.000 -0.000\n",
      "flx:time      -0.000    0.000  -2.508 0.012 -0.000 -0.000\n",
      "mouse Var      0.000    0.001                            \n",
      "=========================================================\n",
      "\n",
      "flx:time <F test: F=6.291600854957616, p=0.012134649947367756, df_denom=4.48e+04, df_num=1>\n",
      "flx <F test: F=272.1503472497565, p=5.840504040633753e-61, df_denom=4.48e+04, df_num=1>\n",
      "time <F test: F=119.70336108668269, p=7.967814676474538e-28, df_denom=4.48e+04, df_num=1>\n"
     ]
    }
   ],
   "source": [
    "import pandas as pd\n",
    "import statsmodels.api as sm\n",
    "from statsmodels.regression.mixed_linear_model import MixedLM\n",
    "\n",
    "\n",
    "re_formula = \"0 + mouse\"\n",
    "md = MixedLM.from_formula(\"n1_scores ~ flx + time + flx*time\",data=df_me,groups=df_me[\"mouse\"],re_formula=re_formula)\n",
    "result = md.fit()\n",
    "print(result.summary())\n",
    "print(\"flx:time\",result.f_test(\"flx:time\"))\n",
    "print(\"flx\",result.f_test(\"flx\"))\n",
    "print(\"time\",result.f_test(\"time\"))"
   ]
  },
  {
   "cell_type": "code",
   "execution_count": 6,
   "id": "016d7612-7683-4eee-8257-ece4c00b6f43",
   "metadata": {},
   "outputs": [
    {
     "name": "stdout",
     "output_type": "stream",
     "text": [
      "         Mixed Linear Model Regression Results\n",
      "========================================================\n",
      "Model:            MixedLM Dependent Variable: n2_scores \n",
      "No. Observations: 44778   Method:             REML      \n",
      "No. Groups:       6       Scale:              0.0019    \n",
      "Min. group size:  6995    Log-Likelihood:     77246.0943\n",
      "Max. group size:  8109    Converged:          Yes       \n",
      "Mean group size:  7463.0                                \n",
      "--------------------------------------------------------\n",
      "             Coef.  Std.Err.    z    P>|z| [0.025 0.975]\n",
      "--------------------------------------------------------\n",
      "Intercept     0.131    0.008  16.247 0.000  0.116  0.147\n",
      "flx           0.008    0.001   9.841 0.000  0.006  0.010\n",
      "time         -0.000    0.000 -17.064 0.000 -0.000 -0.000\n",
      "flx:time      0.000    0.000   5.123 0.000  0.000  0.000\n",
      "mouse Var     0.000    0.001                            \n",
      "========================================================\n",
      "\n",
      "flx:time <F test: F=26.244064222585788, p=3.021242776217519e-07, df_denom=4.48e+04, df_num=1>\n",
      "flx <F test: F=96.84739106373978, p=7.898722745442837e-23, df_denom=4.48e+04, df_num=1>\n",
      "time <F test: F=291.17672094529365, p=4.428677381518741e-65, df_denom=4.48e+04, df_num=1>\n"
     ]
    },
    {
     "name": "stderr",
     "output_type": "stream",
     "text": [
      "/hpc/home/mk423/.local/lib/python3.7/site-packages/statsmodels/regression/mixed_linear_model.py:2237: ConvergenceWarning: The MLE may be on the boundary of the parameter space.\n",
      "  warnings.warn(msg, ConvergenceWarning)\n"
     ]
    }
   ],
   "source": [
    "\n",
    "re_formula = \"0 + mouse\"\n",
    "\n",
    "md = sm.MixedLM.from_formula(\"n2_scores ~ flx + time + flx*time\",data=df_me,groups=\"mouse\",re_formula=re_formula)\n",
    "mdf = md.fit()\n",
    "print(mdf.summary())\n",
    "\n",
    "print(\"flx:time\",mdf.f_test(\"flx:time\"))\n",
    "print(\"flx\",mdf.f_test(\"flx\"))\n",
    "print(\"time\",mdf.f_test(\"time\"))"
   ]
  },
  {
   "cell_type": "markdown",
   "id": "58365527-90bd-4550-aa4b-ddf3d6ec7e4c",
   "metadata": {},
   "source": [
    "# FLX and Saline time ANOVAs"
   ]
  },
  {
   "cell_type": "code",
   "execution_count": 11,
   "id": "9427ad60-3f42-4e7d-adf5-e8081cce16bd",
   "metadata": {},
   "outputs": [
    {
     "name": "stdout",
     "output_type": "stream",
     "text": [
      "               df       sum_sq    mean_sq           F        PR(>F)\n",
      "time          1.0    24.656263  24.656263  129.191996  7.420493e-30\n",
      "Residual  22605.0  4314.159090   0.190850         NaN           NaN\n"
     ]
    }
   ],
   "source": [
    "import pandas as pd\n",
    "import statsmodels.api as sm\n",
    "from statsmodels.formula.api import ols\n",
    "\n",
    "model = ols('n1_scores ~ time',data=df_me[df_me.flx==1]).fit()\n",
    "# Create ANOVA table\n",
    "anova_table = sm.stats.anova_lm(model)\n",
    "\n",
    "# Print the ANOVA table\n",
    "print(anova_table)"
   ]
  },
  {
   "cell_type": "code",
   "execution_count": 12,
   "id": "3de8b2ff-0765-46bd-8fb8-72ac2e677370",
   "metadata": {},
   "outputs": [
    {
     "name": "stdout",
     "output_type": "stream",
     "text": [
      "               df        sum_sq    mean_sq          F        PR(>F)\n",
      "time          1.0     46.516975  46.516975  89.744809  2.967051e-21\n",
      "Residual  22605.0  11716.735913   0.518325        NaN           NaN\n"
     ]
    }
   ],
   "source": [
    "model = ols('n2_scores ~ time',data=df_me[df_me.flx==1]).fit()\n",
    "# Create ANOVA table\n",
    "anova_table = sm.stats.anova_lm(model)\n",
    "\n",
    "# Print the ANOVA table\n",
    "print(anova_table)"
   ]
  },
  {
   "cell_type": "code",
   "execution_count": 13,
   "id": "61aac514-1734-4bbf-a8ff-07fd24edd7b7",
   "metadata": {},
   "outputs": [
    {
     "name": "stdout",
     "output_type": "stream",
     "text": [
      "               df       sum_sq    mean_sq           F        PR(>F)\n",
      "time          1.0    24.577005  24.577005  141.256525  1.774734e-32\n",
      "Residual  22169.0  3857.150157   0.173988         NaN           NaN\n"
     ]
    }
   ],
   "source": [
    "model = ols('n1_scores ~ time',data=df_me[df_me.flx==0]).fit()\n",
    "# Create ANOVA table\n",
    "anova_table = sm.stats.anova_lm(model)\n",
    "\n",
    "# Print the ANOVA table\n",
    "print(anova_table)"
   ]
  },
  {
   "cell_type": "code",
   "execution_count": 14,
   "id": "f39fc756-87f6-4814-a1b4-367b8a5c4ed0",
   "metadata": {},
   "outputs": [
    {
     "name": "stdout",
     "output_type": "stream",
     "text": [
      "               df       sum_sq     mean_sq           F        PR(>F)\n",
      "time          1.0   102.860734  102.860734  229.361195  1.488559e-51\n",
      "Residual  22169.0  9942.046304    0.448466         NaN           NaN\n"
     ]
    }
   ],
   "source": [
    "model = ols('n2_scores ~ time',data=df_me[df_me.flx==0]).fit()\n",
    "# Create ANOVA table\n",
    "anova_table = sm.stats.anova_lm(model)\n",
    "\n",
    "# Print the ANOVA table\n",
    "print(anova_table)"
   ]
  },
  {
   "cell_type": "markdown",
   "id": "6855cd98-3f0b-425f-a26f-6a394d41c229",
   "metadata": {},
   "source": [
    "# Basic 2 way anova results"
   ]
  },
  {
   "cell_type": "code",
   "execution_count": null,
   "id": "bb72ea31-a755-48c6-8b17-9db488b8c453",
   "metadata": {},
   "outputs": [
    {
     "name": "stdout",
     "output_type": "stream",
     "text": [
      "               df     sum_sq   mean_sq           F         PR(>F)\n",
      "flx           1.0   1.430382  1.430382  714.890099  2.934308e-156\n",
      "time          1.0   0.539639  0.539639  269.705920   1.976932e-60\n",
      "flx:time      1.0   0.000128  0.000128    0.064021   8.002509e-01\n",
      "Residual  44774.0  89.585711  0.002001         NaN            NaN\n"
     ]
    }
   ],
   "source": [
    "model_ols = ols('bxcx_net_1_scores ~ flx + time + flx:time',\n",
    "            data = df).fit()\n",
    "result = sm.stats.anova_lm(model_ols,type=2)\n",
    "print(result)"
   ]
  },
  {
   "cell_type": "code",
   "execution_count": null,
   "id": "8405404a-bf45-4794-bff5-02b87a8490e4",
   "metadata": {},
   "outputs": [
    {
     "name": "stdout",
     "output_type": "stream",
     "text": [
      "               df      sum_sq   mean_sq           F         PR(>F)\n",
      "flx           1.0    4.159003  4.159003  628.476779  9.595507e-138\n",
      "time          1.0    1.955011  1.955011  295.426310   5.325842e-66\n",
      "flx:time      1.0    0.088472  0.088472   13.369143   2.560910e-04\n",
      "Residual  44774.0  296.296080  0.006618         NaN            NaN\n"
     ]
    },
    {
     "name": "stderr",
     "output_type": "stream",
     "text": [
      "/hpc/home/mk423/.local/lib/python3.7/site-packages/outdated/utils.py:18: OutdatedPackageWarning: The package pingouin is out of date. Your version is 0.5.3, the latest is 0.5.4.\n",
      "Set the environment variable OUTDATED_IGNORE=1 to disable these warnings.\n",
      "  **kwargs\n"
     ]
    }
   ],
   "source": [
    "model_ols = ols('bxcx_net_2_scores ~ flx + time + flx:time',\n",
    "            data = df).fit()\n",
    "result = sm.stats.anova_lm(model_ols,type=2)\n",
    "print(result)"
   ]
  }
 ],
 "metadata": {
  "kernelspec": {
   "display_name": "Python 3 (ipykernel)",
   "language": "python",
   "name": "python3"
  },
  "language_info": {
   "codemirror_mode": {
    "name": "ipython",
    "version": 3
   },
   "file_extension": ".py",
   "mimetype": "text/x-python",
   "name": "python",
   "nbconvert_exporter": "python",
   "pygments_lexer": "ipython3",
   "version": "3.7.13"
  }
 },
 "nbformat": 4,
 "nbformat_minor": 5
}

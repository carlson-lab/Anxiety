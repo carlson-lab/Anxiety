{
 "cells": [
  {
   "cell_type": "code",
   "execution_count": 14,
   "id": "2fb8b942-5f66-47f2-8195-00ec77d35d40",
   "metadata": {},
   "outputs": [],
   "source": [
    "n1_before = [0.117985834,\n",
    "0.085555578,\n",
    "0.08253171,\n",
    "0.078919036,\n",
    "0.067255693,\n",
    "0.100318535,\n",
    "0.068388707,\n",
    "0.104454089,\n",
    "0.079240189,\n",
    "            ]\n",
    "n1_after = [0.102092789,\n",
    "0.092759812,\n",
    "0.078888673,\n",
    "0.081580897,\n",
    "0.066571829,\n",
    "0.083134614,\n",
    "0.078006672,\n",
    "0.099984541,\n",
    "0.072352199,\n",
    "           ]"
   ]
  },
  {
   "cell_type": "code",
   "execution_count": 15,
   "id": "8f993301-7897-4ccb-83bf-402489aad0a8",
   "metadata": {},
   "outputs": [
    {
     "name": "stdout",
     "output_type": "stream",
     "text": [
      "WilcoxonResult(statistic=30.0, pvalue=0.8203125)\n"
     ]
    }
   ],
   "source": [
    "from scipy.stats import wilcoxon\n",
    "\n",
    "results = wilcoxon(n1_before,n1_after,alternative=\"less\")\n",
    "print(results)"
   ]
  },
  {
   "cell_type": "code",
   "execution_count": 16,
   "id": "34c92ba8-5d2b-4ab5-af97-2a8b39cd0a78",
   "metadata": {},
   "outputs": [],
   "source": [
    "n2_before = [0.13550541,\n",
    "0.196518291,\n",
    "0.203236172,\n",
    "0.177628701,\n",
    "0.142841189,\n",
    "0.141556096,\n",
    "0.235816855,\n",
    "0.218601411,\n",
    "0.156118174,\n",
    "            ]\n",
    "n2_after = [0.101041907,\n",
    "0.182449796,\n",
    "0.191125632,\n",
    "0.138981335,\n",
    "0.134786836,\n",
    "0.11496514,\n",
    "0.218164325,\n",
    "0.230977027,\n",
    "0.146426447,\n",
    "           ]\n"
   ]
  },
  {
   "cell_type": "code",
   "execution_count": 17,
   "id": "1b8d946a-5267-4dc8-8a85-4f9f8cefd746",
   "metadata": {},
   "outputs": [
    {
     "name": "stdout",
     "output_type": "stream",
     "text": [
      "WilcoxonResult(statistic=41.0, pvalue=0.990234375)\n"
     ]
    }
   ],
   "source": [
    "results = wilcoxon(n2_before,n2_after,alternative=\"less\")\n",
    "print(results)"
   ]
  },
  {
   "cell_type": "code",
   "execution_count": null,
   "id": "62b489a1-6fbc-427a-a82e-740dbecae026",
   "metadata": {},
   "outputs": [],
   "source": []
  }
 ],
 "metadata": {
  "kernelspec": {
   "display_name": "Python 3 (ipykernel)",
   "language": "python",
   "name": "python3"
  },
  "language_info": {
   "codemirror_mode": {
    "name": "ipython",
    "version": 3
   },
   "file_extension": ".py",
   "mimetype": "text/x-python",
   "name": "python",
   "nbconvert_exporter": "python",
   "pygments_lexer": "ipython3",
   "version": "3.7.13"
  }
 },
 "nbformat": 4,
 "nbformat_minor": 5
}

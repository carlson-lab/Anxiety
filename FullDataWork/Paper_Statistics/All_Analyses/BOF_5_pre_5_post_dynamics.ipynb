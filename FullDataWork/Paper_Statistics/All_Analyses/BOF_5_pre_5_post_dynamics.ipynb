{
 "cells": [
  {
   "cell_type": "code",
   "execution_count": 62,
   "id": "18cfef26-33da-4a4b-8ed0-a4011985db18",
   "metadata": {},
   "outputs": [],
   "source": [
    "import numpy as np\n",
    "from scipy.stats import wilcoxon, mannwhitneyu\n",
    "import pandas as pd\n",
    "\n",
    "PROJECT_PATH = \"/hpc/home/mk423/Anxiety/FullDataWork/Projections/\"\n",
    "#data_file = \"BOF_Center_vs_Surround_11_second_neighborhood_all_nets.csv\"\n",
    "data_file = \"0s_filterd_BOF_11s_slice_data.csv\"\n",
    "df = pd.read_csv(PROJECT_PATH + data_file)"
   ]
  },
  {
   "cell_type": "code",
   "execution_count": 46,
   "id": "fe54a825-41a3-4b73-ba0c-a0a49ee3a176",
   "metadata": {},
   "outputs": [],
   "source": [
    "pre_idxs = np.arange(-5,0).astype(str)\n",
    "post_idxs = np.arange(1,6).astype(str)\n",
    "locations_idxs = [\"0\"]"
   ]
  },
  {
   "cell_type": "markdown",
   "id": "c5694ceb-d91d-4afb-bba3-48fd46292513",
   "metadata": {},
   "source": [
    "## Center vs Surround"
   ]
  },
  {
   "cell_type": "code",
   "execution_count": 64,
   "id": "a531463a-5a65-4005-9e60-82b3b7a729a9",
   "metadata": {},
   "outputs": [
    {
     "name": "stdout",
     "output_type": "stream",
     "text": [
      "Network 1 Center vs. Surround - one-sided Wilcoxon U=22.00, p=0.5449\n",
      "Network 2 Center vs. Surround - one-sided Wilcoxon U=20.00, p=0.6328\n",
      "\n"
     ]
    }
   ],
   "source": [
    "## Network 1\n",
    "\n",
    "center_mask = np.logical_and(df.network==1,\n",
    "                         df.location==\"ctr\")\n",
    "surr_mask = np.logical_and(df.network==1,\n",
    "                         df.location==\"surr\")\n",
    "\n",
    "result = wilcoxon(df[center_mask==1][\"0\"],\n",
    "                  df[surr_mask==1][\"0\"],\n",
    "                  alternative=\"greater\")\n",
    "\n",
    "#print(df[center_mask==1][\"0\"],df[surr_mask==1][\"0\"])\n",
    "print(\"Network 1 Center vs. Surround - one-sided Wilcoxon U={:.2f}, p={:.4f}\".format(result.statistic,result.pvalue))\n",
    "\n",
    "\n",
    "## Network 2\n",
    "\n",
    "center_mask = np.logical_and(df.network==2,\n",
    "                         df.location==\"ctr\")\n",
    "surr_mask = np.logical_and(df.network==2,\n",
    "                         df.location==\"surr\")\n",
    "\n",
    "result = wilcoxon(df[center_mask==1][\"0\"],\n",
    "                  df[surr_mask==1][\"0\"],\n",
    "                  alternative=\"greater\")\n",
    "\n",
    "#print(df[center_mask==1][\"0\"],df[surr_mask==1][\"0\"])\n",
    "\n",
    "print(\"Network 2 Center vs. Surround - one-sided Wilcoxon U={:.2f}, p={:.4f}\".format(result.statistic,result.pvalue))\n",
    "#print(result)\n",
    "\n",
    "print('')"
   ]
  },
  {
   "cell_type": "markdown",
   "id": "269b9333-c35c-41bb-bc58-668a834e55df",
   "metadata": {},
   "source": [
    "### 5s Pre"
   ]
  },
  {
   "cell_type": "code",
   "execution_count": 65,
   "id": "a6146ec8-a2d2-424e-b60b-8ae71f152473",
   "metadata": {},
   "outputs": [
    {
     "name": "stdout",
     "output_type": "stream",
     "text": [
      "Network 1 Center vs. Surround - one-sided Wilcoxon U=7.00, p=0.0371\n",
      "Network 2 Center vs. Surround - one-sided Wilcoxon U=8.00, p=0.0488\n"
     ]
    }
   ],
   "source": [
    "## Network 1\n",
    "\n",
    "center_mask = np.logical_and(df.network==1,\n",
    "                         df.location==\"ctr\")\n",
    "surr_mask = np.logical_and(df.network==1,\n",
    "                         df.location==\"surr\")\n",
    "\n",
    "result = wilcoxon(np.mean(df[center_mask==1][pre_idxs],axis=1),\n",
    "                  np.mean(df[surr_mask==1][pre_idxs],axis=1),\n",
    "                  alternative=\"less\")\n",
    "\n",
    "#print(df[center_mask==1][\"0\"],df[surr_mask==1][\"0\"])\n",
    "print(\"Network 1 Center vs. Surround - one-sided Wilcoxon U={:.2f}, p={:.4f}\".format(result.statistic,result.pvalue))\n",
    "\n",
    "\n",
    "## Network 2\n",
    "\n",
    "center_mask = np.logical_and(df.network==2,\n",
    "                         df.location==\"ctr\")\n",
    "surr_mask = np.logical_and(df.network==2,\n",
    "                         df.location==\"surr\")\n",
    "\n",
    "result = wilcoxon(np.mean(df[center_mask==1][pre_idxs],axis=1),\n",
    "                  np.mean(df[surr_mask==1][pre_idxs],axis=1),\n",
    "                  alternative=\"less\")\n",
    "\n",
    "#print(df[center_mask==1][\"0\"],df[surr_mask==1][\"0\"])\n",
    "\n",
    "print(\"Network 2 Center vs. Surround - one-sided Wilcoxon U={:.2f}, p={:.4f}\".format(result.statistic,result.pvalue))\n",
    "#print(result)\n"
   ]
  },
  {
   "cell_type": "markdown",
   "id": "9eb8a396-7e6d-41e9-9939-1153742c2ff0",
   "metadata": {},
   "source": [
    "### 5s Post"
   ]
  },
  {
   "cell_type": "code",
   "execution_count": 68,
   "id": "ab27b441-8a1c-4671-8715-2a06e0cc6553",
   "metadata": {},
   "outputs": [
    {
     "name": "stdout",
     "output_type": "stream",
     "text": [
      "Network 1 Center vs. Surround - one-sided Wilcoxon U=18.00, p=0.7148\n",
      "Network 2 Center vs. Surround - one-sided Wilcoxon U=13.00, p=0.8750\n"
     ]
    }
   ],
   "source": [
    "## Network 1\n",
    "\n",
    "center_mask = np.logical_and(df.network==1,\n",
    "                         df.location==\"ctr\")\n",
    "surr_mask = np.logical_and(df.network==1,\n",
    "                         df.location==\"surr\")\n",
    "\n",
    "result = wilcoxon(np.mean(df[center_mask==1][post_idxs],axis=1),\n",
    "                  np.mean(df[surr_mask==1][post_idxs],axis=1),\n",
    "                  alternative=\"greater\")\n",
    "\n",
    "#print(df[center_mask==1][\"0\"],df[surr_mask==1][\"0\"])\n",
    "print(\"Network 1 Center vs. Surround - one-sided Wilcoxon U={:.2f}, p={:.4f}\".format(result.statistic,result.pvalue))\n",
    "\n",
    "\n",
    "## Network 2\n",
    "\n",
    "center_mask = np.logical_and(df.network==2,\n",
    "                         df.location==\"ctr\")\n",
    "surr_mask = np.logical_and(df.network==2,\n",
    "                         df.location==\"surr\")\n",
    "\n",
    "result = wilcoxon(np.mean(df[center_mask==1][post_idxs],axis=1),\n",
    "                  np.mean(df[surr_mask==1][post_idxs],axis=1),\n",
    "                  alternative=\"greater\")\n",
    "\n",
    "#print(df[center_mask==1][\"0\"],df[surr_mask==1][\"0\"])\n",
    "\n",
    "print(\"Network 2 Center vs. Surround - one-sided Wilcoxon U={:.2f}, p={:.4f}\".format(result.statistic,result.pvalue))\n",
    "#print(result)\n"
   ]
  },
  {
   "cell_type": "code",
   "execution_count": null,
   "id": "8e44ae5f-1628-4a49-8f75-5334c2e8255e",
   "metadata": {},
   "outputs": [],
   "source": []
  }
 ],
 "metadata": {
  "kernelspec": {
   "display_name": "Python 3 (ipykernel)",
   "language": "python",
   "name": "python3"
  },
  "language_info": {
   "codemirror_mode": {
    "name": "ipython",
    "version": 3
   },
   "file_extension": ".py",
   "mimetype": "text/x-python",
   "name": "python",
   "nbconvert_exporter": "python",
   "pygments_lexer": "ipython3",
   "version": "3.7.13"
  }
 },
 "nbformat": 4,
 "nbformat_minor": 5
}

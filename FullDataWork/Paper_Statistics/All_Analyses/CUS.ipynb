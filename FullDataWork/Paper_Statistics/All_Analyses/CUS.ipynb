{
 "cells": [
  {
   "cell_type": "code",
   "execution_count": 14,
   "id": "0d06b29e-58ae-452e-bd8b-d647357cb274",
   "metadata": {},
   "outputs": [],
   "source": [
    "import pandas as pd\n",
    "import numpy as np\n",
    "from scipy.stats import ranksums, ttest_ind, mannwhitneyu"
   ]
  },
  {
   "cell_type": "markdown",
   "id": "14cdb824-7b5d-4ae6-9912-028f6f49666b",
   "metadata": {},
   "source": [
    "### Behavior EPM"
   ]
  },
  {
   "cell_type": "code",
   "execution_count": 18,
   "id": "a2456a79-23ee-47aa-bf3e-38f1afdb64da",
   "metadata": {},
   "outputs": [
    {
     "name": "stdout",
     "output_type": "stream",
     "text": [
      "Control Var: 36.34 Stressed Var: 6.87\n",
      "Ttest_indResult(statistic=3.7599545031538755, pvalue=0.0037057195472138867)\n"
     ]
    }
   ],
   "source": [
    "#times are a percentage\n",
    "C_OA_time = [7.92561,8.46916,24.74087,16.73718,15.71615,20.4452]\n",
    "S_OA_time = [7.95148,7.86974,5.31543,1.369729,3.039897,2.166308]\n",
    "\n",
    "print(\"Control Var: {:.2f} Stressed Var: {:.2f}\".format(np.std(C_OA_time)**2,np.std(S_OA_time)**2))\n",
    "result = ttest_ind(C_OA_time,S_OA_time,equal_var=False,alternative=\"greater\")\n",
    "print(result)"
   ]
  },
  {
   "cell_type": "markdown",
   "id": "f44238b2-0bea-4a04-b592-8199640f6a81",
   "metadata": {},
   "source": [
    "### Network 1 Homecage Activity"
   ]
  },
  {
   "cell_type": "code",
   "execution_count": 16,
   "id": "992281a8-b2d5-4033-bf5f-f7452550c5fa",
   "metadata": {},
   "outputs": [
    {
     "name": "stdout",
     "output_type": "stream",
     "text": [
      "MannwhitneyuResult(statistic=5.0, pvalue=0.020562770562770564)\n"
     ]
    }
   ],
   "source": [
    "C_avg_HC = [0.06334403,0.09205309,0.04660195,0.07462807,0.041973677,0.057892665]\n",
    "S_avg_HC = [0.07407721,0.0660719,0.09233438,0.0952514,0.08015043,0.10543811]\n",
    "\n",
    "result = mannwhitneyu(C_avg_HC,S_avg_HC,alternative=\"less\")\n",
    "print(result)"
   ]
  },
  {
   "cell_type": "markdown",
   "id": "0aef734d-fde3-4bae-8681-6af073a6dbc2",
   "metadata": {},
   "source": [
    "### Network 2 Homecage Activity"
   ]
  },
  {
   "cell_type": "code",
   "execution_count": 15,
   "id": "2d5c0933-1245-4452-8b88-b9f99bb7c6b0",
   "metadata": {},
   "outputs": [
    {
     "name": "stdout",
     "output_type": "stream",
     "text": [
      "MannwhitneyuResult(statistic=10.0, pvalue=0.12012987012987013)\n"
     ]
    }
   ],
   "source": [
    "C_avg_HC = [0.17239141,0.10769659,0.065067746,0.12491463,0.041578718,0.109278575]\n",
    "S_avg_HC = [0.17151186,0.12722774,0.1041459,0.13213436,0.1466029,0.121950425]\n",
    "\n",
    "result = mannwhitneyu(C_avg_HC,S_avg_HC,alternative=\"less\")\n",
    "print(result)"
   ]
  },
  {
   "cell_type": "code",
   "execution_count": null,
   "id": "944bb3cc-576e-4369-9f26-33eaa1aabd9f",
   "metadata": {},
   "outputs": [],
   "source": []
  }
 ],
 "metadata": {
  "kernelspec": {
   "display_name": "Python 3 (ipykernel)",
   "language": "python",
   "name": "python3"
  },
  "language_info": {
   "codemirror_mode": {
    "name": "ipython",
    "version": 3
   },
   "file_extension": ".py",
   "mimetype": "text/x-python",
   "name": "python",
   "nbconvert_exporter": "python",
   "pygments_lexer": "ipython3",
   "version": "3.7.13"
  }
 },
 "nbformat": 4,
 "nbformat_minor": 5
}

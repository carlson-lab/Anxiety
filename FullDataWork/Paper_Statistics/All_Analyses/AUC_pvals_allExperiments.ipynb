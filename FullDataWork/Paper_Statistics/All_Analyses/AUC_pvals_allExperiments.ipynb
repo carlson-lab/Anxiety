{
 "cells": [
  {
   "cell_type": "markdown",
   "id": "794365e4-989c-4cb1-afce-9f5fffb18d5a",
   "metadata": {},
   "source": [
    "## Generate p-values for all experiment AUCs\n",
    "\n",
    "To generate a pvalue for experiment AUCs, we perform a mann-whitney-U ranksum test on all of the mouse AUCs vs a set of 0.5 AUCs for the same number of samples.\n",
    "\n",
    "We perform this AUC analysis on all experiments in this single notebook as this is a posthoc analysis after collecting the mouse AUCs."
   ]
  },
  {
   "cell_type": "code",
   "execution_count": 1,
   "id": "4b44caec-854a-4deb-b5d6-37c9de80fce6",
   "metadata": {},
   "outputs": [],
   "source": [
    "import pandas as pd\n",
    "from scipy.stats import mannwhitneyu, wilcoxon, ttest_1samp\n",
    "import numpy as np\n",
    "PROJECT_PATH = \"/hpc/home/mk423/Anxiety/FullDataWork/Projections/\"\n",
    "\n",
    "def mw_auc(s,y):\n",
    "    s_pos = s[y==1]\n",
    "    s_neg = s[y==0]\n",
    "\n",
    "    U, pval = mannwhitneyu(s_pos,s_neg)\n",
    "    auc = U / (np.sum(y==1)*np.sum(y==0))\n",
    "\n",
    "    return auc, pval\n",
    "\n",
    "def generateNullAUC(s,y):\n",
    "    y_shuffle = y.copy()\n",
    "    np.random.shuffle(y_shuffle)\n",
    "    return mw_auc(s,y_shuffle)[0]\n",
    "\n",
    "def getMouseNullAUCs(s,y,y_mouse):\n",
    "    \n",
    "    null_aucs = []\n",
    "    mice = []\n",
    "    for mouse in np.unique(y_mouse):\n",
    "        mouse_mask = y_mouse==mouse\n",
    "        nullAuc = generateNullAUC(s[mouse_mask==1],y[mouse_mask==1])\n",
    "        null_aucs.append(nullAuc)\n",
    "        mice.append(mouse)\n",
    "        \n",
    "    return null_aucs, mice"
   ]
  },
  {
   "cell_type": "markdown",
   "id": "d856a26c-8054-42e5-b973-32c91de01d54",
   "metadata": {},
   "source": [
    "# Training Experiments: {FLX,EPM,BOF}"
   ]
  },
  {
   "cell_type": "code",
   "execution_count": 6,
   "id": "7d167b7b-a60e-4f39-95ba-c64269cb4e2f",
   "metadata": {},
   "outputs": [],
   "source": [
    "bof_proj = PROJECT_PATH + \"OFT_Holdout_Projections.csv\"\n",
    "flx_proj = PROJECT_PATH + \"FLX_Holdout_Projections.csv\"\n",
    "epm_proj = PROJECT_PATH + \"EPM_Holdout_Projections.csv\"\n",
    "\n",
    "df_bof = pd.read_csv(bof_proj)\n",
    "df_flx = pd.read_csv(flx_proj)\n",
    "df_epm = pd.read_csv(epm_proj)"
   ]
  },
  {
   "cell_type": "markdown",
   "id": "28485289-ccce-4da7-89d0-5ab745a0af45",
   "metadata": {},
   "source": [
    "### FLX"
   ]
  },
  {
   "cell_type": "code",
   "execution_count": 7,
   "id": "34683eb8-ec6d-4b42-a8a1-475a1c1fb0e0",
   "metadata": {},
   "outputs": [
    {
     "name": "stdout",
     "output_type": "stream",
     "text": [
      "FLX auc (last-30-minutes)t: 2.251, pval: 0.0370915\n",
      "FLX net 1 auc (last-30-minutes)t: 2.214, pval: 0.0388401\n",
      "FLX net 2 auc (last-30-minutes)t: 2.179, pval: 0.0405963\n",
      "FLX net 3 auc (last-30-minutes)t: -6.872, pval: 0.9995012\n"
     ]
    }
   ],
   "source": [
    "df_flx\n",
    "\n",
    "df_aucs_name = [\"auc (last-30-minutes)\",\n",
    "                 \"net 1 auc (last-30-minutes)\",\n",
    "                 \"net 2 auc (last-30-minutes)\",\n",
    "                 \"net 3 auc (last-30-minutes)\",]\n",
    "\n",
    "for auc_type in df_aucs_name:\n",
    "    mouse_auc_list = []\n",
    "    #print(len(mouse_auc_list))\n",
    "    for mouse in np.unique(df_flx.mouse):\n",
    "        mouse_auc_list.append(df_flx[df_flx.mouse==mouse][auc_type].values[0])\n",
    "        \n",
    "    #print(len(mouse_auc_list))\n",
    "        \n",
    "    result = ttest_1samp(mouse_auc_list,0.5,alternative=\"greater\")\n",
    "    \n",
    "    print(\"FLX \" + auc_type + \"t: {:.3f}, pval: {:.7f}\".format(result.statistic,result.pvalue))"
   ]
  },
  {
   "cell_type": "markdown",
   "id": "e1117bcd-90ce-4bd5-a70c-3fa29946241a",
   "metadata": {},
   "source": [
    "### EPM"
   ]
  },
  {
   "cell_type": "code",
   "execution_count": 8,
   "id": "3685d805-9b9d-4ef7-9814-f272692d4494",
   "metadata": {},
   "outputs": [
    {
     "name": "stdout",
     "output_type": "stream",
     "text": [
      "EPM auc (Homecage vs. Task)t: 9.130, pval: 0.0000018\n",
      "EPM net 1 auc (Homecage vs. Task)t: 6.643, pval: 0.0000288\n",
      "EPM net 2 auc (Homecage vs. Task)t: 9.679, pval: 0.0000011\n",
      "EPM net 3 auc (Homecage vs. Task)t: 0.473, pval: 0.3230649\n"
     ]
    }
   ],
   "source": [
    "df_aucs_name = [\"auc (Homecage vs. Task)\",\n",
    "                \"net 1 auc (Homecage vs. Task)\",\n",
    "                \"net 2 auc (Homecage vs. Task)\",\n",
    "                \"net 3 auc (Homecage vs. Task)\"]\n",
    "\n",
    "for auc_type in df_aucs_name:\n",
    "    mouse_auc_list = []\n",
    "    #print(len(mouse_auc_list))\n",
    "    for mouse in np.unique(df_epm.mouse):\n",
    "        mouse_auc_list.append(df_epm[df_epm.mouse==mouse][auc_type].values[0])\n",
    "        \n",
    "    #print(len(mouse_auc_list))\n",
    "        \n",
    "    result = ttest_1samp(mouse_auc_list,0.5,alternative=\"greater\")\n",
    "    print(\"EPM \" + auc_type + \"t: {:.3f}, pval: {:.7f}\".format(result.statistic,result.pvalue))"
   ]
  },
  {
   "cell_type": "markdown",
   "id": "5b4913a0-8d66-4997-96cc-99b5bfa55b78",
   "metadata": {},
   "source": [
    "### BOF"
   ]
  },
  {
   "cell_type": "code",
   "execution_count": 12,
   "id": "d589bf12-61de-4766-aa58-8b77c3d02b74",
   "metadata": {},
   "outputs": [
    {
     "name": "stdout",
     "output_type": "stream",
     "text": [
      "BOF auc (Homecage vs. Task)t: 12.861, pval: 0.0000006\n",
      "BOF net 1 auc (Homecage vs. Task)t: 11.651, pval: 0.0000013\n",
      "BOF net 2 auc (Homecage vs. Task)t: 12.261, pval: 0.0000009\n",
      "BOF net 3 auc (Homecage vs. Task)t: 6.756, pval: 0.0000721\n"
     ]
    }
   ],
   "source": [
    "df_aucs_name = [\"auc (Homecage vs. Task)\",\n",
    "                \"net 1 auc (Homecage vs. Task)\",\n",
    "                \"net 2 auc (Homecage vs. Task)\",\n",
    "                \"net 3 auc (Homecage vs. Task)\"]\n",
    "\n",
    "for auc_type in df_aucs_name:\n",
    "    mouse_auc_list = []\n",
    "    #print(len(mouse_auc_list))\n",
    "    for mouse in np.unique(df_bof.mouse):\n",
    "        mouse_auc_list.append(df_bof[df_bof.mouse==mouse][auc_type].values[0])\n",
    "        \n",
    "    #print(len(mouse_auc_list))\n",
    "        \n",
    "    result = ttest_1samp(mouse_auc_list,0.5,alternative=\"greater\")\n",
    "    print(\"BOF \" + auc_type + \"t: {:.3f}, pval: {:.7f}\".format(result.statistic,result.pvalue))"
   ]
  },
  {
   "cell_type": "code",
   "execution_count": 17,
   "id": "952c22e7-ab0f-46ca-9463-e21ffeb205b4",
   "metadata": {},
   "outputs": [
    {
     "data": {
      "text/html": [
       "<div>\n",
       "<style scoped>\n",
       "    .dataframe tbody tr th:only-of-type {\n",
       "        vertical-align: middle;\n",
       "    }\n",
       "\n",
       "    .dataframe tbody tr th {\n",
       "        vertical-align: top;\n",
       "    }\n",
       "\n",
       "    .dataframe thead th {\n",
       "        text-align: right;\n",
       "    }\n",
       "</style>\n",
       "<table border=\"1\" class=\"dataframe\">\n",
       "  <thead>\n",
       "    <tr style=\"text-align: right;\">\n",
       "      <th></th>\n",
       "      <th>experiment</th>\n",
       "      <th>agg_net_pvals</th>\n",
       "      <th>agg_net_t_stat</th>\n",
       "      <th>n1_pvals</th>\n",
       "      <th>n1_t_stat</th>\n",
       "      <th>n2_pvals</th>\n",
       "      <th>n2_t_stat</th>\n",
       "      <th>n3_pvals</th>\n",
       "      <th>n3_t_stat</th>\n",
       "    </tr>\n",
       "  </thead>\n",
       "  <tbody>\n",
       "    <tr>\n",
       "      <th>0</th>\n",
       "      <td>flx</td>\n",
       "      <td>3.709150e-02</td>\n",
       "      <td>2.251</td>\n",
       "      <td>0.038840</td>\n",
       "      <td>2.214</td>\n",
       "      <td>4.059630e-02</td>\n",
       "      <td>2.179</td>\n",
       "      <td>0.999501</td>\n",
       "      <td>-6.872</td>\n",
       "    </tr>\n",
       "    <tr>\n",
       "      <th>1</th>\n",
       "      <td>epm</td>\n",
       "      <td>1.800000e-06</td>\n",
       "      <td>9.130</td>\n",
       "      <td>0.000029</td>\n",
       "      <td>6.643</td>\n",
       "      <td>1.100000e-06</td>\n",
       "      <td>9.679</td>\n",
       "      <td>0.323065</td>\n",
       "      <td>0.473</td>\n",
       "    </tr>\n",
       "    <tr>\n",
       "      <th>2</th>\n",
       "      <td>bof</td>\n",
       "      <td>6.000000e-07</td>\n",
       "      <td>12.861</td>\n",
       "      <td>0.000001</td>\n",
       "      <td>11.651</td>\n",
       "      <td>9.000000e-07</td>\n",
       "      <td>12.261</td>\n",
       "      <td>0.000072</td>\n",
       "      <td>6.756</td>\n",
       "    </tr>\n",
       "  </tbody>\n",
       "</table>\n",
       "</div>"
      ],
      "text/plain": [
       "  experiment  agg_net_pvals  agg_net_t_stat  n1_pvals  n1_t_stat  \\\n",
       "0        flx   3.709150e-02           2.251  0.038840      2.214   \n",
       "1        epm   1.800000e-06           9.130  0.000029      6.643   \n",
       "2        bof   6.000000e-07          12.861  0.000001     11.651   \n",
       "\n",
       "       n2_pvals  n2_t_stat  n3_pvals  n3_t_stat  \n",
       "0  4.059630e-02      2.179  0.999501     -6.872  \n",
       "1  1.100000e-06      9.679  0.323065      0.473  \n",
       "2  9.000000e-07     12.261  0.000072      6.756  "
      ]
     },
     "execution_count": 17,
     "metadata": {},
     "output_type": "execute_result"
    }
   ],
   "source": [
    "final_model_exps = [\"flx\",\"epm\",\"bof\"]\n",
    "final_model_agg_pvals = [0.0370915,0.0000018,0.0000006]\n",
    "final_model_agg_ts = [2.251,9.130,12.861]\n",
    "final_model_n1_pvals = [0.0388401,0.0000288,0.0000013]\n",
    "final_model_n1_ts = [2.214,6.643,11.651]\n",
    "final_model_n2_pvals = [0.0405963,0.0000011,0.0000009]\n",
    "final_model_n2_ts = [2.179,9.679,12.261]\n",
    "final_model_n3_pvals = [0.9995012,0.3230649,0.0000721]\n",
    "final_model_n3_ts = [-6.872,0.473,6.756]\n",
    "\n",
    "final_model_results_dict = {\n",
    "    \"experiment\":final_model_exps,\n",
    "    \"agg_net_pvals\":final_model_agg_pvals,\n",
    "    \"agg_net_t_stat\":final_model_agg_ts,\n",
    "    \"n1_pvals\":final_model_n1_pvals,\n",
    "    \"n1_t_stat\":final_model_n1_ts,\n",
    "    \"n2_pvals\":final_model_n2_pvals,\n",
    "    \"n2_t_stat\":final_model_n2_ts,\n",
    "    \"n3_pvals\":final_model_n3_pvals,\n",
    "    \"n3_t_stat\":final_model_n3_ts,\n",
    "}\n",
    "\n",
    "df = pd.DataFrame.from_dict(final_model_results_dict)\n",
    "df.to_csv(PROJECT_PATH + \"FLX_EPM_BOF_Final_Model_dcsfa_stats.csv\")\n",
    "df.head()"
   ]
  },
  {
   "cell_type": "code",
   "execution_count": null,
   "id": "2d54d1ff-07fc-45f8-8ea0-d9c814b77308",
   "metadata": {},
   "outputs": [],
   "source": []
  }
 ],
 "metadata": {
  "kernelspec": {
   "display_name": "Python 3 (ipykernel)",
   "language": "python",
   "name": "python3"
  },
  "language_info": {
   "codemirror_mode": {
    "name": "ipython",
    "version": 3
   },
   "file_extension": ".py",
   "mimetype": "text/x-python",
   "name": "python",
   "nbconvert_exporter": "python",
   "pygments_lexer": "ipython3",
   "version": "3.7.13"
  }
 },
 "nbformat": 4,
 "nbformat_minor": 5
}

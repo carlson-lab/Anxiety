{
 "cells": [
  {
   "cell_type": "code",
   "execution_count": 1,
   "id": "43f94111-e13c-4319-9fd4-6e5cace90572",
   "metadata": {},
   "outputs": [],
   "source": [
    "import pandas as pd\n",
    "from scipy.stats import wilcoxon, ranksums, mannwhitneyu,ttest_ind\n",
    "import numpy as np\n",
    "\n",
    "projection_file = \"/hpc/home/mk423/Anxiety/FullDataWork/Projections/FC_Tone_Start_Event_7.csv\"\n",
    "df = pd.read_csv(projection_file)\n",
    "\n",
    "ten_before = np.arange(-10,0).astype(int)\n",
    "tw_after = np.arange(0,20).astype(int)"
   ]
  },
  {
   "cell_type": "markdown",
   "id": "e284b03b-a51e-4ee9-a950-e26cdd0b7b4c",
   "metadata": {},
   "source": [
    "### Behavior"
   ]
  },
  {
   "cell_type": "code",
   "execution_count": 2,
   "id": "89e4a75b-d2ed-4528-b920-f592250032a9",
   "metadata": {},
   "outputs": [
    {
     "name": "stdout",
     "output_type": "stream",
     "text": [
      "Control Var: 176.30 Fear Conditioned Var: 154.85\n",
      "Ttest_indResult(statistic=-4.820396851479193, pvalue=1.3403586033758305e-05)\n"
     ]
    }
   ],
   "source": [
    "FC_CR = [44.4,27.8,50.6,39.4,58.6,42.3,45.2,60.8,57.3,71.5,48.9,35.4,67.9,52.7,66.4,68,65.3]\n",
    "C_CR = [29,35.3,20.3,25.3,33.6,35.5,38.5,22.1,41.4,34.2,27.6,25.6,8.8,12.7,36.8,32.4,51.2,57.7,61.7,19.5,20.4,47.5]\n",
    "print(\"Control Var: {:.2f} Fear Conditioned Var: {:.2f}\".format(np.std(C_CR)**2,np.std(FC_CR)**2))\n",
    "result = ttest_ind(C_CR,FC_CR,equal_var=False,alternative=\"less\")\n",
    "print(result)"
   ]
  },
  {
   "cell_type": "markdown",
   "id": "609c2755-a214-42bd-8590-85c5aff913a2",
   "metadata": {},
   "source": [
    "### 10 Seconds Before Tone"
   ]
  },
  {
   "cell_type": "code",
   "execution_count": 3,
   "id": "6346f564-c31b-4adb-bba9-146d6ab074b9",
   "metadata": {},
   "outputs": [
    {
     "name": "stdout",
     "output_type": "stream",
     "text": [
      "Net 1 10s before g1vsg2 results:  MannwhitneyuResult(statistic=120.0, pvalue=0.027410172582105426)\n"
     ]
    }
   ],
   "source": [
    "time_list = []\n",
    "mouse_list = []\n",
    "group_list = []\n",
    "net_list = []\n",
    "for mouse in np.unique(df.mouse):\n",
    "    mouse_mask = np.array(df.mouse).astype(str)==mouse\n",
    "    ten_b4_mask = df.time.isin(ten_before)\n",
    "    \n",
    "    group = df[mouse_mask==1][\"group\"].values.astype(str)[0]\n",
    "    net_list.append(df[mouse_mask==1][\"net 1\"].transpose().values.reshape(1,-1)[:,:10])\n",
    "    mouse_list.append(mouse)\n",
    "    group_list.append(group)\n",
    "\n",
    "data = np.hstack([np.array(mouse_list).reshape(-1,1),np.array(group_list).reshape(-1,1),np.array(net_list).squeeze()])\n",
    "\n",
    "df_tenb4 = pd.DataFrame(data)\n",
    "df_tenb4.columns = np.hstack([[\"Mouse\",\"Group\"],ten_before])\n",
    "g1_means = np.nanmean(df_tenb4[df_tenb4.Group.astype(str)==\"group 1\"][ten_before.astype(str)].astype(float).values,axis=1)\n",
    "g2_means = np.nanmean(df_tenb4[df_tenb4.Group.astype(str)==\"group 2\"][ten_before.astype(str)].astype(float).values,axis=1)\n",
    "\n",
    "results = mannwhitneyu(g1_means,g2_means,alternative=\"greater\")\n",
    "print(\"Net 1 10s before g1vsg2 results: \",results)"
   ]
  },
  {
   "cell_type": "code",
   "execution_count": 4,
   "id": "36547ef1-cf92-49f4-b59f-901f93c0dac1",
   "metadata": {},
   "outputs": [
    {
     "name": "stdout",
     "output_type": "stream",
     "text": [
      "Net 2 10s before g1vsg2 results MannwhitneyuResult(statistic=93.0, pvalue=0.3018806160540957)\n"
     ]
    }
   ],
   "source": [
    "time_list = []\n",
    "mouse_list = []\n",
    "group_list = []\n",
    "net_list = []\n",
    "for mouse in np.unique(df.mouse):\n",
    "    mouse_mask = np.array(df.mouse).astype(str)==mouse\n",
    "    ten_b4_mask = df.time.isin(ten_before)\n",
    "    \n",
    "    group = df[mouse_mask==1][\"group\"].values.astype(str)[0]\n",
    "    net_list.append(df[mouse_mask==1][\"net 2\"].transpose().values.reshape(1,-1)[:,:10])\n",
    "    mouse_list.append(mouse)\n",
    "    group_list.append(group)\n",
    "\n",
    "data = np.hstack([np.array(mouse_list).reshape(-1,1),np.array(group_list).reshape(-1,1),np.array(net_list).squeeze()])\n",
    "\n",
    "df_tenb4 = pd.DataFrame(data)\n",
    "df_tenb4.columns = np.hstack([[\"Mouse\",\"Group\"],ten_before])\n",
    "g1_means = np.nanmean(df_tenb4[df_tenb4.Group.astype(str)==\"group 1\"][ten_before.astype(str)].astype(float).values,axis=1)\n",
    "g2_means = np.nanmean(df_tenb4[df_tenb4.Group.astype(str)==\"group 2\"][ten_before.astype(str)].astype(float).values,axis=1)\n",
    "\n",
    "results = mannwhitneyu(g1_means,g2_means,alternative=\"greater\")\n",
    "print(\"Net 2 10s before g1vsg2 results\",results)"
   ]
  },
  {
   "cell_type": "markdown",
   "id": "f176b3b7-e998-4dda-81f9-accdd34c40dc",
   "metadata": {},
   "source": [
    "### 20 Seconds After Tone"
   ]
  },
  {
   "cell_type": "code",
   "execution_count": 6,
   "id": "834e101f-27ba-4cbc-bbea-9cc579c50895",
   "metadata": {},
   "outputs": [
    {
     "name": "stdout",
     "output_type": "stream",
     "text": [
      "Net 1 20s after g1vsg2 pval results:  MannwhitneyuResult(statistic=112.0, pvalue=0.06614944687693056)\n"
     ]
    }
   ],
   "source": [
    "time_list = []\n",
    "mouse_list = []\n",
    "group_list = []\n",
    "net_list = []\n",
    "for mouse in np.unique(df.mouse):\n",
    "    mouse_mask = np.array(df.mouse).astype(str)==mouse\n",
    "    ten_b4_mask = df.time.isin(tw_after)\n",
    "    \n",
    "    group = df[mouse_mask==1][\"group\"].values.astype(str)[0]\n",
    "    net_list.append(df[mouse_mask==1][\"net 1\"].transpose().values.reshape(1,-1)[:,10:30])\n",
    "    mouse_list.append(mouse)\n",
    "    group_list.append(group)\n",
    "\n",
    "data = np.hstack([np.array(mouse_list).reshape(-1,1),np.array(group_list).reshape(-1,1),np.array(net_list).squeeze()])\n",
    "\n",
    "df_tw_after = pd.DataFrame(data)\n",
    "df_tw_after.columns = np.hstack([[\"Mouse\",\"Group\"],tw_after.astype(str)])\n",
    "g1_means = np.nanmean(df_tw_after[df_tw_after.Group.astype(str)==\"group 1\"][tw_after.astype(str)].astype(float).values,axis=1)\n",
    "g2_means = np.nanmean(df_tw_after[df_tw_after.Group.astype(str)==\"group 2\"][tw_after.astype(str)].astype(float).values,axis=1)\n",
    "\n",
    "results = mannwhitneyu(g1_means,g2_means,alternative=\"greater\")\n",
    "print(\"Net 1 20s after g1vsg2 pval results: \",results)"
   ]
  },
  {
   "cell_type": "code",
   "execution_count": 8,
   "id": "25da438b-4a72-48e7-ada8-c30d3710967b",
   "metadata": {},
   "outputs": [
    {
     "name": "stdout",
     "output_type": "stream",
     "text": [
      "Net 2 20s after g1vsg2 pval results:  MannwhitneyuResult(statistic=121.0, pvalue=0.024293542454629374)\n"
     ]
    }
   ],
   "source": [
    "time_list = []\n",
    "mouse_list = []\n",
    "group_list = []\n",
    "net_list = []\n",
    "for mouse in np.unique(df.mouse):\n",
    "    mouse_mask = np.array(df.mouse).astype(str)==mouse\n",
    "    ten_b4_mask = df.time.isin(tw_after)\n",
    "    \n",
    "    group = df[mouse_mask==1][\"group\"].values.astype(str)[0]\n",
    "    net_list.append(df[mouse_mask==1][\"net 2\"].transpose().values.reshape(1,-1)[:,10:30])\n",
    "    mouse_list.append(mouse)\n",
    "    group_list.append(group)\n",
    "\n",
    "data = np.hstack([np.array(mouse_list).reshape(-1,1),np.array(group_list).reshape(-1,1),np.array(net_list).squeeze()])\n",
    "\n",
    "df_tw_after = pd.DataFrame(data)\n",
    "df_tw_after.columns = np.hstack([[\"Mouse\",\"Group\"],tw_after.astype(str)])\n",
    "g1_means = np.nanmean(df_tw_after[df_tw_after.Group.astype(str)==\"group 1\"][tw_after.astype(str)].astype(float).values,axis=1)\n",
    "g2_means = np.nanmean(df_tw_after[df_tw_after.Group.astype(str)==\"group 2\"][tw_after.astype(str)].astype(float).values,axis=1)\n",
    "\n",
    "results = mannwhitneyu(g1_means,g2_means,alternative=\"greater\")\n",
    "print(\"Net 2 20s after g1vsg2 pval results: \",results)"
   ]
  },
  {
   "cell_type": "code",
   "execution_count": null,
   "id": "77f6427f-984c-4825-8e3a-0ab69ef89083",
   "metadata": {},
   "outputs": [],
   "source": []
  }
 ],
 "metadata": {
  "kernelspec": {
   "display_name": "Python 3 (ipykernel)",
   "language": "python",
   "name": "python3"
  },
  "language_info": {
   "codemirror_mode": {
    "name": "ipython",
    "version": 3
   },
   "file_extension": ".py",
   "mimetype": "text/x-python",
   "name": "python",
   "nbconvert_exporter": "python",
   "pygments_lexer": "ipython3",
   "version": "3.7.13"
  }
 },
 "nbformat": 4,
 "nbformat_minor": 5
}

{
 "cells": [
  {
   "cell_type": "markdown",
   "id": "794365e4-989c-4cb1-afce-9f5fffb18d5a",
   "metadata": {},
   "source": [
    "## Generate p-values for all experiment AUCs\n",
    "\n",
    "To generate a pvalue for experiment AUCs, we perform a mann-whitney-U ranksum test on all of the mouse AUCs vs a set of 0.5 AUCs for the same number of samples.\n",
    "\n",
    "We perform this AUC analysis on all experiments in this single notebook as this is a posthoc analysis after collecting the mouse AUCs."
   ]
  },
  {
   "cell_type": "code",
   "execution_count": 1,
   "id": "4b44caec-854a-4deb-b5d6-37c9de80fce6",
   "metadata": {},
   "outputs": [],
   "source": [
    "import pandas as pd\n",
    "from scipy.stats import mannwhitneyu, wilcoxon, ttest_1samp\n",
    "import numpy as np\n",
    "PROJECT_PATH = \"/hpc/home/mk423/Anxiety/FullDataWork/Projections/\""
   ]
  },
  {
   "cell_type": "markdown",
   "id": "d856a26c-8054-42e5-b973-32c91de01d54",
   "metadata": {},
   "source": [
    "# Training Experiments: {FLX,EPM,BOF}"
   ]
  },
  {
   "cell_type": "code",
   "execution_count": 2,
   "id": "7d167b7b-a60e-4f39-95ba-c64269cb4e2f",
   "metadata": {},
   "outputs": [],
   "source": [
    "bof_proj = PROJECT_PATH + \"OFT_Holdout_Projections.csv\"\n",
    "flx_proj = PROJECT_PATH + \"FLX_Holdout_Projections.csv\"\n",
    "epm_proj = PROJECT_PATH + \"EPM_Holdout_Projections.csv\""
   ]
  },
  {
   "cell_type": "code",
   "execution_count": 9,
   "id": "6ced3656-fff2-43bd-8ec4-261932655700",
   "metadata": {},
   "outputs": [],
   "source": [
    "df_bof = pd.read_csv(bof_proj)\n",
    "df_flx = pd.read_csv(flx_proj)\n",
    "df_epm = pd.read_csv(epm_proj)"
   ]
  },
  {
   "cell_type": "markdown",
   "id": "28485289-ccce-4da7-89d0-5ab745a0af45",
   "metadata": {},
   "source": [
    "### FLX"
   ]
  },
  {
   "cell_type": "code",
   "execution_count": 20,
   "id": "34683eb8-ec6d-4b42-a8a1-475a1c1fb0e0",
   "metadata": {},
   "outputs": [
    {
     "name": "stdout",
     "output_type": "stream",
     "text": [
      "FLX auc (last-30-minutes)t: 2.251, pval: 0.0370915\n",
      "FLX net 1 auc (last-30-minutes)t: 2.214, pval: 0.0388401\n",
      "FLX net 2 auc (last-30-minutes)t: 2.179, pval: 0.0405963\n",
      "FLX net 3 auc (last-30-minutes)t: -6.872, pval: 0.9995012\n"
     ]
    }
   ],
   "source": [
    "df_flx\n",
    "\n",
    "df_aucs_name = [\"auc (last-30-minutes)\",\n",
    "                 \"net 1 auc (last-30-minutes)\",\n",
    "                 \"net 2 auc (last-30-minutes)\",\n",
    "                 \"net 3 auc (last-30-minutes)\",]\n",
    "\n",
    "for auc_type in df_aucs_name:\n",
    "    mouse_auc_list = []\n",
    "    #print(len(mouse_auc_list))\n",
    "    for mouse in np.unique(df_flx.mouse):\n",
    "        mouse_auc_list.append(df_flx[df_flx.mouse==mouse][auc_type].values[0])\n",
    "        \n",
    "    #print(len(mouse_auc_list))\n",
    "        \n",
    "    result = ttest_1samp(mouse_auc_list,0.5,alternative=\"greater\")\n",
    "    print(\"FLX \" + auc_type + \"t: {:.3f}, pval: {:.7f}\".format(result.statistic,result.pvalue))"
   ]
  },
  {
   "cell_type": "markdown",
   "id": "e1117bcd-90ce-4bd5-a70c-3fa29946241a",
   "metadata": {},
   "source": [
    "### EPM"
   ]
  },
  {
   "cell_type": "code",
   "execution_count": 21,
   "id": "3685d805-9b9d-4ef7-9814-f272692d4494",
   "metadata": {},
   "outputs": [
    {
     "name": "stdout",
     "output_type": "stream",
     "text": [
      "EPM auc (Homecage vs. Task)t: 9.130, pval: 0.0000018\n",
      "EPM net 1 auc (Homecage vs. Task)t: 6.643, pval: 0.0000288\n",
      "EPM net 2 auc (Homecage vs. Task)t: 9.679, pval: 0.0000011\n",
      "EPM net 3 auc (Homecage vs. Task)t: 0.473, pval: 0.3230649\n"
     ]
    }
   ],
   "source": [
    "df_aucs_name = [\"auc (Homecage vs. Task)\",\n",
    "                \"net 1 auc (Homecage vs. Task)\",\n",
    "                \"net 2 auc (Homecage vs. Task)\",\n",
    "                \"net 3 auc (Homecage vs. Task)\"]\n",
    "\n",
    "for auc_type in df_aucs_name:\n",
    "    mouse_auc_list = []\n",
    "    #print(len(mouse_auc_list))\n",
    "    for mouse in np.unique(df_epm.mouse):\n",
    "        mouse_auc_list.append(df_epm[df_epm.mouse==mouse][auc_type].values[0])\n",
    "        \n",
    "    #print(len(mouse_auc_list))\n",
    "        \n",
    "    result = ttest_1samp(mouse_auc_list,0.5,alternative=\"greater\")\n",
    "    print(\"EPM \" + auc_type + \"t: {:.3f}, pval: {:.7f}\".format(result.statistic,result.pvalue))"
   ]
  },
  {
   "cell_type": "code",
   "execution_count": 4,
   "id": "55e04b8a-560f-44ef-a64a-c8ac1d28c885",
   "metadata": {},
   "outputs": [
    {
     "data": {
      "text/plain": [
       "[0.4422708093594169,\n",
       " 0.5796521564290741,\n",
       " 0.4846620500200309,\n",
       " 0.531189428202229,\n",
       " 0.5226735947094946,\n",
       " 0.4770805161467764,\n",
       " 0.47212158808933,\n",
       " 0.4584980589888894,\n",
       " 0.6228323699421965,\n",
       " 0.6031144253665873,\n",
       " 0.413127025554249]"
      ]
     },
     "execution_count": 4,
     "metadata": {},
     "output_type": "execute_result"
    }
   ],
   "source": [
    "mouse_auc_list"
   ]
  },
  {
   "cell_type": "code",
   "execution_count": 39,
   "id": "6235f570-e043-48c3-b8cc-76bfe1561a00",
   "metadata": {},
   "outputs": [
    {
     "data": {
      "text/plain": [
       "MannwhitneyuResult(statistic=121.0, pvalue=2.5529886111115496e-05)"
      ]
     },
     "execution_count": 39,
     "metadata": {},
     "output_type": "execute_result"
    }
   ],
   "source": [
    "temp1 = [0.65460298, 0.65979293, 0.66354511, 0.70851814, 0.71981505, 0.7389144,\n",
    " 0.74223245, 0.76100806, 0.87163943, 0.89168594, 0.90662737]\n",
    "\n",
    "temp1a = [0.64619154, 0.66775434, 0.67170964, 0.69116951, 0.70443991, 0.7356636,\n",
    " 0.73696453, 0.74767097, 0.8499576,  0.85398613, 0.89325435,]\n",
    "\n",
    "temp2 = [0.5 for _ in temp1]\n",
    "\n",
    "mannwhitneyu(temp1,temp2)"
   ]
  },
  {
   "cell_type": "code",
   "execution_count": 40,
   "id": "36d2432c-9e72-4c8e-9afe-e8178009e6e7",
   "metadata": {},
   "outputs": [
    {
     "data": {
      "text/plain": [
       "MannwhitneyuResult(statistic=121.0, pvalue=2.5529886111115496e-05)"
      ]
     },
     "execution_count": 40,
     "metadata": {},
     "output_type": "execute_result"
    }
   ],
   "source": [
    "mannwhitneyu(temp1a,temp2)"
   ]
  },
  {
   "cell_type": "code",
   "execution_count": null,
   "id": "9a5e5f2c-f453-4db1-9612-fb9b401eeaf3",
   "metadata": {},
   "outputs": [],
   "source": []
  }
 ],
 "metadata": {
  "kernelspec": {
   "display_name": "Python 3 (ipykernel)",
   "language": "python",
   "name": "python3"
  },
  "language_info": {
   "codemirror_mode": {
    "name": "ipython",
    "version": 3
   },
   "file_extension": ".py",
   "mimetype": "text/x-python",
   "name": "python",
   "nbconvert_exporter": "python",
   "pygments_lexer": "ipython3",
   "version": "3.7.13"
  }
 },
 "nbformat": 4,
 "nbformat_minor": 5
}

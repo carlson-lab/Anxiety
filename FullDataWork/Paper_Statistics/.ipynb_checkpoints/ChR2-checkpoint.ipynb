{
 "cells": [
  {
   "cell_type": "code",
   "execution_count": 8,
   "id": "71875f6b-eab1-40f6-83d3-63f265f8cd99",
   "metadata": {},
   "outputs": [],
   "source": [
    "from scipy.stats import wilcoxon \n"
   ]
  },
  {
   "cell_type": "code",
   "execution_count": 9,
   "id": "2e576d47-56a2-4b26-b4de-1a1b62663655",
   "metadata": {},
   "outputs": [],
   "source": [
    "#Scores pulled from Anxiety_Analysis_Master\n",
    "net1_avgBLaser = [0.12779549,\n",
    "0.07867113,\n",
    "0.1158421,\n",
    "0.0722859,\n",
    "0.095808394,\n",
    "0.12023622,\n",
    "0.09550821,\n",
    "0.04865461,\n",
    "0.082251735,\n",
    "0.09242949,\n",
    "0.07448845]\n",
    "\n",
    "net1_avgYLaser = [0.10365598,\n",
    "0.08277289,\n",
    "0.09747792,\n",
    "0.09587639,\n",
    "0.099271536,\n",
    "0.09868466,\n",
    "0.095549114,\n",
    "0.04579112,\n",
    "0.07240378,\n",
    "0.08603952,\n",
    "0.074362464]"
   ]
  },
  {
   "cell_type": "code",
   "execution_count": 10,
   "id": "950ccc04-ad23-4636-b3f4-242e995cd548",
   "metadata": {},
   "outputs": [
    {
     "name": "stdout",
     "output_type": "stream",
     "text": [
      "WilcoxonResult(statistic=20.0, pvalue=0.13916015625)\n"
     ]
    }
   ],
   "source": [
    "results = wilcoxon(net1_avgYLaser,net1_avgBLaser,alternative=\"less\")\n",
    "print(results)"
   ]
  },
  {
   "cell_type": "code",
   "execution_count": 11,
   "id": "a16ebd34-f495-4ecf-90de-de2a29a03254",
   "metadata": {},
   "outputs": [],
   "source": [
    "net2_avgBLaser = [0.18966472,\n",
    "0.1677112,\n",
    "0.18480687,\n",
    "0.19181289,\n",
    "0.15341973,\n",
    "0.11820631,\n",
    "0.12932165,\n",
    "0.17695488,\n",
    "0.15574542,\n",
    "0.18324709,\n",
    "0.20462549]\n",
    "\n",
    "net2_avgYLaser = [0.15359317,\n",
    "0.1342459,\n",
    "0.14961608,\n",
    "0.17864245,\n",
    "0.1294595,\n",
    "0.07505619,\n",
    "0.12555599,\n",
    "0.14299113,\n",
    "0.12740327,\n",
    "0.16454686,\n",
    "0.15790963]"
   ]
  },
  {
   "cell_type": "code",
   "execution_count": 12,
   "id": "06dc6615-d78e-4c71-a0a4-804aaafd92ef",
   "metadata": {},
   "outputs": [
    {
     "name": "stdout",
     "output_type": "stream",
     "text": [
      "WilcoxonResult(statistic=0.0, pvalue=0.00048828125)\n"
     ]
    }
   ],
   "source": [
    "results = wilcoxon(net2_avgYLaser,net2_avgBLaser,alternative=\"less\")\n",
    "print(results)"
   ]
  },
  {
   "cell_type": "code",
   "execution_count": null,
   "id": "180e35de-0d71-42d3-919b-1b6fb8696f06",
   "metadata": {},
   "outputs": [],
   "source": []
  }
 ],
 "metadata": {
  "kernelspec": {
   "display_name": "Python 3 (ipykernel)",
   "language": "python",
   "name": "python3"
  },
  "language_info": {
   "codemirror_mode": {
    "name": "ipython",
    "version": 3
   },
   "file_extension": ".py",
   "mimetype": "text/x-python",
   "name": "python",
   "nbconvert_exporter": "python",
   "pygments_lexer": "ipython3",
   "version": "3.7.13"
  }
 },
 "nbformat": 4,
 "nbformat_minor": 5
}

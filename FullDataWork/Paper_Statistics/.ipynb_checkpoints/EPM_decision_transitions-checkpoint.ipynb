{
 "cells": [
  {
   "cell_type": "code",
   "execution_count": 17,
   "id": "174fce9f-2822-44f7-bf0f-1fe0e1ac00eb",
   "metadata": {},
   "outputs": [],
   "source": [
    "import numpy as np\n",
    "import pandas as pd\n",
    "import statsmodels.api as sm \n",
    "from scipy.stats import ranksums, mannwhitneyu\n",
    "import pingouin as pg\n",
    "from statsmodels.formula.api import ols \n",
    "from statsmodels.stats.anova import AnovaRM\n",
    "import matplotlib.pyplot as plt\n",
    "\n",
    "c2o_file = \"/hpc/home/mk423/Anxiety/FullDataWork/Projections/EPM_center_to_open_vs_center_to_closed_net_{}.csv\""
   ]
  },
  {
   "cell_type": "markdown",
   "id": "a28aa39b-b4f5-4a75-a36b-e53ad5b59f47",
   "metadata": {},
   "source": [
    "## Network 1 - 2 tailed rank sum test"
   ]
  },
  {
   "cell_type": "code",
   "execution_count": 45,
   "id": "d1d600e8-24e0-4dca-886d-393c7870b4fe",
   "metadata": {},
   "outputs": [
    {
     "data": {
      "text/html": [
       "<div>\n",
       "<style scoped>\n",
       "    .dataframe tbody tr th:only-of-type {\n",
       "        vertical-align: middle;\n",
       "    }\n",
       "\n",
       "    .dataframe tbody tr th {\n",
       "        vertical-align: top;\n",
       "    }\n",
       "\n",
       "    .dataframe thead th {\n",
       "        text-align: right;\n",
       "    }\n",
       "</style>\n",
       "<table border=\"1\" class=\"dataframe\">\n",
       "  <thead>\n",
       "    <tr style=\"text-align: right;\">\n",
       "      <th></th>\n",
       "      <th>Unnamed: 0</th>\n",
       "      <th>mouse</th>\n",
       "      <th>decision</th>\n",
       "      <th>-3</th>\n",
       "      <th>-2</th>\n",
       "      <th>-1</th>\n",
       "      <th>0</th>\n",
       "      <th>1</th>\n",
       "    </tr>\n",
       "  </thead>\n",
       "  <tbody>\n",
       "    <tr>\n",
       "      <th>0</th>\n",
       "      <td>0</td>\n",
       "      <td>Mouse39115</td>\n",
       "      <td>center-&gt;open</td>\n",
       "      <td>0.102450</td>\n",
       "      <td>0.102619</td>\n",
       "      <td>0.083062</td>\n",
       "      <td>0.112369</td>\n",
       "      <td>0.090748</td>\n",
       "    </tr>\n",
       "    <tr>\n",
       "      <th>1</th>\n",
       "      <td>1</td>\n",
       "      <td>Mouse39121</td>\n",
       "      <td>center-&gt;open</td>\n",
       "      <td>0.151714</td>\n",
       "      <td>0.120567</td>\n",
       "      <td>0.182943</td>\n",
       "      <td>0.145361</td>\n",
       "      <td>0.170097</td>\n",
       "    </tr>\n",
       "    <tr>\n",
       "      <th>2</th>\n",
       "      <td>2</td>\n",
       "      <td>Mouse39122</td>\n",
       "      <td>center-&gt;open</td>\n",
       "      <td>0.069167</td>\n",
       "      <td>0.079357</td>\n",
       "      <td>0.087318</td>\n",
       "      <td>0.068791</td>\n",
       "      <td>0.072284</td>\n",
       "    </tr>\n",
       "    <tr>\n",
       "      <th>3</th>\n",
       "      <td>3</td>\n",
       "      <td>Mouse39132</td>\n",
       "      <td>center-&gt;open</td>\n",
       "      <td>0.127988</td>\n",
       "      <td>0.072307</td>\n",
       "      <td>0.109856</td>\n",
       "      <td>0.090766</td>\n",
       "      <td>0.076866</td>\n",
       "    </tr>\n",
       "    <tr>\n",
       "      <th>4</th>\n",
       "      <td>4</td>\n",
       "      <td>Mouse39135</td>\n",
       "      <td>center-&gt;open</td>\n",
       "      <td>0.084959</td>\n",
       "      <td>0.068305</td>\n",
       "      <td>0.063514</td>\n",
       "      <td>0.071567</td>\n",
       "      <td>0.078235</td>\n",
       "    </tr>\n",
       "  </tbody>\n",
       "</table>\n",
       "</div>"
      ],
      "text/plain": [
       "   Unnamed: 0       mouse      decision        -3        -2        -1  \\\n",
       "0           0  Mouse39115  center->open  0.102450  0.102619  0.083062   \n",
       "1           1  Mouse39121  center->open  0.151714  0.120567  0.182943   \n",
       "2           2  Mouse39122  center->open  0.069167  0.079357  0.087318   \n",
       "3           3  Mouse39132  center->open  0.127988  0.072307  0.109856   \n",
       "4           4  Mouse39135  center->open  0.084959  0.068305  0.063514   \n",
       "\n",
       "          0         1  \n",
       "0  0.112369  0.090748  \n",
       "1  0.145361  0.170097  \n",
       "2  0.068791  0.072284  \n",
       "3  0.090766  0.076866  \n",
       "4  0.071567  0.078235  "
      ]
     },
     "execution_count": 45,
     "metadata": {},
     "output_type": "execute_result"
    }
   ],
   "source": [
    "c2o_v_c2cl_df = pd.read_csv(c2o_file.format(0))\n",
    "c2o_v_c2cl_df.head()"
   ]
  },
  {
   "cell_type": "code",
   "execution_count": 46,
   "id": "e8a0bd3c-0e24-4fd6-8931-5288c8895630",
   "metadata": {},
   "outputs": [],
   "source": [
    "c2o_mask = c2o_v_c2cl_df.decision==\"center->open\"\n",
    "c2o_data = c2o_v_c2cl_df[c2o_mask==1][\"-1\"]\n",
    "c2cl_data = c2o_v_c2cl_df[c2o_mask==0][\"-1\"]"
   ]
  },
  {
   "cell_type": "code",
   "execution_count": 47,
   "id": "d25b681a-4f8d-4438-8835-76b4164fd13b",
   "metadata": {},
   "outputs": [
    {
     "data": {
      "image/png": "[encoded data removed]",
      "text/plain": [
       "<Figure size 432x288 with 1 Axes>"
      ]
     },
     "metadata": {
      "needs_background": "light"
     },
     "output_type": "display_data"
    }
   ],
   "source": [
    "plt.boxplot([c2o_data,c2cl_data])\n",
    "plt.scatter(np.ones(c2o_data.shape[0]),c2o_data,color=\"black\")\n",
    "plt.scatter(np.ones(c2cl_data.shape[0])*2,c2cl_data,color=\"black\")\n",
    "plt.xticks([1,2],[\"center->open\",\"center->closed\"])\n",
    "plt.ylabel(\"Network 1 Score\")\n",
    "plt.title(\"Network 1 Activity in the Center prior to Decision\")\n",
    "plt.show()"
   ]
  },
  {
   "cell_type": "code",
   "execution_count": 48,
   "id": "29882011-97a9-41fe-8013-d123195d8022",
   "metadata": {},
   "outputs": [
    {
     "name": "stdout",
     "output_type": "stream",
     "text": [
      "31.0 1.0\n"
     ]
    }
   ],
   "source": [
    "U, stat = mannwhitneyu(c2o_data,c2cl_data)\n",
    "print(U,stat)"
   ]
  },
  {
   "cell_type": "markdown",
   "id": "ad6b5dfb-fb0e-48f0-bc85-1f00dba1a733",
   "metadata": {},
   "source": [
    "## Network 2 - 2 tailed rank sum test"
   ]
  },
  {
   "cell_type": "code",
   "execution_count": 27,
   "id": "dacbc1a9-9b82-44f8-833a-9b7e1980b6ec",
   "metadata": {},
   "outputs": [
    {
     "data": {
      "text/html": [
       "<div>\n",
       "<style scoped>\n",
       "    .dataframe tbody tr th:only-of-type {\n",
       "        vertical-align: middle;\n",
       "    }\n",
       "\n",
       "    .dataframe tbody tr th {\n",
       "        vertical-align: top;\n",
       "    }\n",
       "\n",
       "    .dataframe thead th {\n",
       "        text-align: right;\n",
       "    }\n",
       "</style>\n",
       "<table border=\"1\" class=\"dataframe\">\n",
       "  <thead>\n",
       "    <tr style=\"text-align: right;\">\n",
       "      <th></th>\n",
       "      <th>Unnamed: 0</th>\n",
       "      <th>mouse</th>\n",
       "      <th>decision</th>\n",
       "      <th>-3</th>\n",
       "      <th>-2</th>\n",
       "      <th>-1</th>\n",
       "      <th>0</th>\n",
       "      <th>1</th>\n",
       "    </tr>\n",
       "  </thead>\n",
       "  <tbody>\n",
       "    <tr>\n",
       "      <th>0</th>\n",
       "      <td>0</td>\n",
       "      <td>Mouse39115</td>\n",
       "      <td>center-&gt;open</td>\n",
       "      <td>0.219017</td>\n",
       "      <td>0.116769</td>\n",
       "      <td>0.131320</td>\n",
       "      <td>0.193976</td>\n",
       "      <td>0.164312</td>\n",
       "    </tr>\n",
       "    <tr>\n",
       "      <th>1</th>\n",
       "      <td>1</td>\n",
       "      <td>Mouse39121</td>\n",
       "      <td>center-&gt;open</td>\n",
       "      <td>0.176762</td>\n",
       "      <td>0.086230</td>\n",
       "      <td>0.258118</td>\n",
       "      <td>0.164985</td>\n",
       "      <td>0.212486</td>\n",
       "    </tr>\n",
       "    <tr>\n",
       "      <th>2</th>\n",
       "      <td>2</td>\n",
       "      <td>Mouse39122</td>\n",
       "      <td>center-&gt;open</td>\n",
       "      <td>0.239385</td>\n",
       "      <td>0.221426</td>\n",
       "      <td>0.272218</td>\n",
       "      <td>0.261057</td>\n",
       "      <td>0.268863</td>\n",
       "    </tr>\n",
       "    <tr>\n",
       "      <th>3</th>\n",
       "      <td>3</td>\n",
       "      <td>Mouse39132</td>\n",
       "      <td>center-&gt;open</td>\n",
       "      <td>0.259783</td>\n",
       "      <td>0.101776</td>\n",
       "      <td>0.226221</td>\n",
       "      <td>0.186007</td>\n",
       "      <td>0.099649</td>\n",
       "    </tr>\n",
       "    <tr>\n",
       "      <th>4</th>\n",
       "      <td>4</td>\n",
       "      <td>Mouse39135</td>\n",
       "      <td>center-&gt;open</td>\n",
       "      <td>0.239012</td>\n",
       "      <td>0.210480</td>\n",
       "      <td>0.218093</td>\n",
       "      <td>0.173619</td>\n",
       "      <td>0.257065</td>\n",
       "    </tr>\n",
       "  </tbody>\n",
       "</table>\n",
       "</div>"
      ],
      "text/plain": [
       "   Unnamed: 0       mouse      decision        -3        -2        -1  \\\n",
       "0           0  Mouse39115  center->open  0.219017  0.116769  0.131320   \n",
       "1           1  Mouse39121  center->open  0.176762  0.086230  0.258118   \n",
       "2           2  Mouse39122  center->open  0.239385  0.221426  0.272218   \n",
       "3           3  Mouse39132  center->open  0.259783  0.101776  0.226221   \n",
       "4           4  Mouse39135  center->open  0.239012  0.210480  0.218093   \n",
       "\n",
       "          0         1  \n",
       "0  0.193976  0.164312  \n",
       "1  0.164985  0.212486  \n",
       "2  0.261057  0.268863  \n",
       "3  0.186007  0.099649  \n",
       "4  0.173619  0.257065  "
      ]
     },
     "execution_count": 27,
     "metadata": {},
     "output_type": "execute_result"
    }
   ],
   "source": [
    "c2o_v_c2cl_df = pd.read_csv(c2o_file.format(1))\n",
    "c2o_v_c2cl_df.head()"
   ]
  },
  {
   "cell_type": "code",
   "execution_count": 28,
   "id": "9a806c0d-4197-48a3-98fe-75158fdc2bb7",
   "metadata": {},
   "outputs": [],
   "source": [
    "c2o_mask = c2o_v_c2cl_df.decision==\"center->open\"\n",
    "c2o_data = c2o_v_c2cl_df[c2o_mask==1][\"-1\"]\n",
    "c2cl_data = c2o_v_c2cl_df[c2o_mask==0][\"-1\"]"
   ]
  },
  {
   "cell_type": "code",
   "execution_count": 44,
   "id": "12c5ae94-a302-4cf4-9c8a-75a6e95f92db",
   "metadata": {},
   "outputs": [
    {
     "data": {
      "image/png": "[encoded data removed]",
      "text/plain": [
       "<Figure size 432x288 with 1 Axes>"
      ]
     },
     "metadata": {
      "needs_background": "light"
     },
     "output_type": "display_data"
    }
   ],
   "source": [
    "plt.boxplot([c2o_data,c2cl_data])\n",
    "plt.scatter(np.ones(c2o_data.shape[0]),c2o_data,color=\"black\")\n",
    "plt.scatter(np.ones(c2cl_data.shape[0])*2,c2cl_data,color=\"black\")\n",
    "plt.xticks([1,2],[\"center->open\",\"center->closed\"])\n",
    "plt.ylabel(\"Network 2 Score\")\n",
    "plt.title(\"Network 2 Activity in the Center prior to Decision\")\n",
    "plt.show()"
   ]
  },
  {
   "cell_type": "code",
   "execution_count": 35,
   "id": "5ee2996b-7f4a-415f-ac72-4e4a351dcae1",
   "metadata": {},
   "outputs": [
    {
     "name": "stdout",
     "output_type": "stream",
     "text": [
      "44.0 0.2104895104895105\n"
     ]
    }
   ],
   "source": [
    "U, stat = mannwhitneyu(c2o_data,c2cl_data,alternative=\"two-sided\")\n",
    "print(U,stat)"
   ]
  },
  {
   "cell_type": "code",
   "execution_count": 40,
   "id": "06e7b8c6-7aef-4621-8e63-e7d00bce2e36",
   "metadata": {},
   "outputs": [
    {
     "name": "stdout",
     "output_type": "stream",
     "text": [
      "0.21165344614285714 0.01716084192262858\n"
     ]
    }
   ],
   "source": [
    "print(np.mean(c2o_data), np.std(c2o_data) / np.sqrt(np.sum(c2o_mask)))"
   ]
  },
  {
   "cell_type": "code",
   "execution_count": 41,
   "id": "bcbaf3a6-a1e7-4e4b-adf4-d897ab179193",
   "metadata": {},
   "outputs": [
    {
     "name": "stdout",
     "output_type": "stream",
     "text": [
      "0.181884894 0.012734581851543475\n"
     ]
    }
   ],
   "source": [
    "print(np.mean(c2cl_data), np.std(c2cl_data) / np.sqrt(np.sum(1-c2o_mask)))"
   ]
  },
  {
   "cell_type": "code",
   "execution_count": null,
   "id": "70f77137-3451-4b54-9938-6bc56e9de840",
   "metadata": {},
   "outputs": [],
   "source": []
  }
 ],
 "metadata": {
  "kernelspec": {
   "display_name": "Python 3 (ipykernel)",
   "language": "python",
   "name": "python3"
  },
  "language_info": {
   "codemirror_mode": {
    "name": "ipython",
    "version": 3
   },
   "file_extension": ".py",
   "mimetype": "text/x-python",
   "name": "python",
   "nbconvert_exporter": "python",
   "pygments_lexer": "ipython3",
   "version": "3.7.13"
  }
 },
 "nbformat": 4,
 "nbformat_minor": 5
}

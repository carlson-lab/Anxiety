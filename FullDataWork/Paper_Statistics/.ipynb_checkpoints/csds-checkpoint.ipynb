{
 "cells": [
  {
   "cell_type": "code",
   "execution_count": 1,
   "id": "af4354a4-38a7-4e0d-baf5-a4dbb8801e22",
   "metadata": {},
   "outputs": [],
   "source": [
    "#Check for rounding consistency\n",
    "from scipy.stats import mannwhitneyu\n",
    "from scipy.stats import ttest_ind"
   ]
  },
  {
   "cell_type": "code",
   "execution_count": 2,
   "id": "8f33649e-3dfc-4018-9976-c67b8b0feb32",
   "metadata": {},
   "outputs": [],
   "source": [
    "oa_time_controls = [31.233,\n",
    "16.8998,\n",
    "72.1659,\n",
    "22.2331,\n",
    "36.333,\n",
    "47.7995,\n",
    "40.9996,\n",
    "14.1665,\n",
    "46.7995,\n",
    "20.9331]\n",
    "\n",
    "oa_time_treatment = [14.6332,\n",
    "34.3663,\n",
    "9.63324,\n",
    "29.1997,\n",
    "11.3999,\n",
    "33.2997,\n",
    "24.9997,\n",
    "10.8666,\n",
    "35.3663,\n",
    "12.5999,\n",
    "11.0332,\n",
    "17.9998]\n",
    "\n"
   ]
  },
  {
   "cell_type": "code",
   "execution_count": 3,
   "id": "5f5015b6-9768-437a-af9c-32684faab04b",
   "metadata": {},
   "outputs": [
    {
     "name": "stdout",
     "output_type": "stream",
     "text": [
      "Ttest_indResult(statistic=2.278121938635819, pvalue=0.019588690049136465)\n"
     ]
    }
   ],
   "source": [
    "result = ttest_ind(oa_time_controls,oa_time_treatment,equal_var=False,alternative=\"greater\")\n",
    "print(result)"
   ]
  },
  {
   "cell_type": "code",
   "execution_count": 4,
   "id": "8c62a468-96bc-4c33-b001-db3cd13bcada",
   "metadata": {},
   "outputs": [],
   "source": [
    "n1_controls = [0.13209996,\n",
    "0.08860528,\n",
    "0.12542096,\n",
    "0.1130541,\n",
    "0.12916543,\n",
    "0.09851285,\n",
    "0.106516734,\n",
    "0.074355945,\n",
    "0.099651635,\n",
    "0.10330909,\n",
    "0.10258236,\n",
    "0.11946623,\n",
    "0.117537856,\n",
    "0.088315025,\n",
    "0.0832978,\n",
    "0.09017941,\n",
    "]\n",
    "\n",
    "n1_stressed = [0.10144501,\n",
    "0.12053263,\n",
    "0.109575115,\n",
    "0.09208387,\n",
    "0.08235062,\n",
    "0.10454647,\n",
    "0.10122817,\n",
    "0.077978835,\n",
    "0.08794347,\n",
    "0.08252181,\n",
    "0.13687693,\n",
    "0.100685805,\n",
    "0.08841932,\n",
    "0.1122109,\n",
    "0.069795735,\n",
    "0.11358703,\n",
    "0.116861865,\n",
    "0.085565954,\n",
    "0.11427411,\n",
    "0.1059447,\n",
    "0.08065029,\n",
    "0.09160555,\n",
    "0.09317912,\n",
    "0.098858304,\n",
    "0.07878075,\n",
    "0.114371404,\n",
    "0.080751844,\n",
    "0.08174943,\n",
    "0.09733099,\n",
    "0.12482209,\n",
    "0.11426126,\n",
    "0.09287291,\n",
    "0.07028328,\n",
    "0.11732262,          ]"
   ]
  },
  {
   "cell_type": "code",
   "execution_count": 5,
   "id": "9add1d4c-ce18-45ea-9a8b-dc79fc9e788c",
   "metadata": {},
   "outputs": [
    {
     "name": "stdout",
     "output_type": "stream",
     "text": [
      "MannwhitneyuResult(statistic=332.0, pvalue=0.895846451570331)\n"
     ]
    }
   ],
   "source": [
    "results = mannwhitneyu(n1_controls,n1_stressed,alternative=\"less\")\n",
    "print(results)"
   ]
  },
  {
   "cell_type": "code",
   "execution_count": 6,
   "id": "6d58839b-8a6e-438f-9bb8-45b0e5e2ead6",
   "metadata": {},
   "outputs": [],
   "source": [
    "n2_controls = [0.16590576,\n",
    "0.1559711,\n",
    "0.10274604,\n",
    "0.14615537,\n",
    "0.1547166,\n",
    "0.13236012,\n",
    "0.16244788,\n",
    "0.10395203,\n",
    "0.143876,\n",
    "0.15528396,\n",
    "0.13654219,\n",
    "0.15213549,\n",
    "0.120909564,\n",
    "0.14977184,\n",
    "0.17923498,\n",
    "0.1707246,\n",
    "              ]\n",
    "n2_stressed = [0.14817208,\n",
    "0.1299391,\n",
    "0.17197576,\n",
    "0.15844333,\n",
    "0.14676349,\n",
    "0.16147691,\n",
    "0.16561686,\n",
    "0.18691994,\n",
    "0.19753139,\n",
    "0.14573713,\n",
    "0.17338702,\n",
    "0.152217,\n",
    "0.16079117,\n",
    "0.17806402,\n",
    "0.25795507,\n",
    "0.17744072,\n",
    "0.1592459,\n",
    "0.14234573,\n",
    "0.12006196,\n",
    "0.17275535,\n",
    "0.17591017,\n",
    "0.16584295,\n",
    "0.18432225,\n",
    "0.14326335,\n",
    "0.15053149,\n",
    "0.1568534,\n",
    "0.14613849,\n",
    "0.1533377,\n",
    "0.16679615,\n",
    "0.14208172,\n",
    "0.16234766,\n",
    "0.17978083,\n",
    "0.22157797,\n",
    "0.17104663,\n",
    "              ]"
   ]
  },
  {
   "cell_type": "code",
   "execution_count": 7,
   "id": "c2e7387c-32c9-485a-91c6-30fe1a2cc824",
   "metadata": {},
   "outputs": [
    {
     "name": "stdout",
     "output_type": "stream",
     "text": [
      "MannwhitneyuResult(statistic=159.0, pvalue=0.009649835802987217)\n"
     ]
    }
   ],
   "source": [
    "\n",
    "results = mannwhitneyu(n2_controls,n2_stressed,alternative=\"less\")\n",
    "print(results)\n"
   ]
  },
  {
   "cell_type": "code",
   "execution_count": null,
   "id": "2179c6dc-2868-4925-b577-56001d66e116",
   "metadata": {},
   "outputs": [],
   "source": []
  }
 ],
 "metadata": {
  "kernelspec": {
   "display_name": "Python 3 (ipykernel)",
   "language": "python",
   "name": "python3"
  },
  "language_info": {
   "codemirror_mode": {
    "name": "ipython",
    "version": 3
   },
   "file_extension": ".py",
   "mimetype": "text/x-python",
   "name": "python",
   "nbconvert_exporter": "python",
   "pygments_lexer": "ipython3",
   "version": "3.7.13"
  }
 },
 "nbformat": 4,
 "nbformat_minor": 5
}

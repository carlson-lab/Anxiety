{
 "cells": [
  {
   "cell_type": "code",
   "execution_count": 19,
   "id": "dd37f1bf-4add-4c0f-b5a1-6cd3ace8b3bd",
   "metadata": {},
   "outputs": [],
   "source": [
    "import matplotlib.pyplot as plt\n",
    "import pandas as pd\n",
    "import numpy as np\n",
    "from scipy.stats import wilcoxon, ttest_ind, mannwhitneyu\n",
    "\n",
    "PROJECTION_PATH = \"/hpc/home/mk423/Anxiety/FullDataWork/Projections/\"\n",
    "\n",
    "csds = PROJECTION_PATH + \"csds_fit_mean_scores.csv\"\n",
    "cms = PROJECTION_PATH + \"FC_Tone_Start_Event_7.csv\"\n",
    "\n",
    "\n",
    "csds_control_mice = [\n",
    "    'Mouse3203','Mouse3205','Mouse3215','Mouse3221','Mouse3223','Mouse3231',\n",
    "    'Mouse3235','Mouse3252','Mouse1381','Mouse1393','Mouse1403','Mouse1412','Mouse7181',\n",
    "    'Mouse7185','Mouse7191','Mouse7222'\n",
    "]\n",
    "\n",
    "csds_resilient_mice = [\n",
    "    'Mouse3211','Mouse3212','Mouse3213','Mouse3214','Mouse1382','Mouse1392',\n",
    "    'Mouse1402','Mouse1404','Mouse1405','Mouse1413','Mouse7182','Mouse7192',\n",
    "    'Mouse7221'\n",
    "]\n",
    "\n",
    "csds_susceptible_mice = ['Mouse3201','Mouse3202','Mouse3204','Mouse3224','Mouse3233','Mouse3234',\n",
    "    'Mouse3251','Mouse3253','Mouse1383','Mouse1384','Mouse1391','Mouse1401',\n",
    "    'Mouse1411','Mouse7183','Mouse7184','Mouse7193','Mouse7194','Mouse7195',\n",
    "    'Mouse7202','Mouse7203','Mouse7204'\n",
    "]"
   ]
  },
  {
   "cell_type": "markdown",
   "id": "658d8efe-a024-46ba-8515-611e704aa112",
   "metadata": {},
   "source": [
    "### CSDS"
   ]
  },
  {
   "cell_type": "markdown",
   "id": "d1afcd41-64ce-4f26-95ae-47fe5c4c06fd",
   "metadata": {},
   "source": [
    "#### Behavior"
   ]
  },
  {
   "cell_type": "code",
   "execution_count": 20,
   "id": "8f4fa63f-082f-46ed-bf5c-de33ca485b7a",
   "metadata": {},
   "outputs": [
    {
     "name": "stdout",
     "output_type": "stream",
     "text": [
      "Ttest_indResult(statistic=2.278121938635819, pvalue=0.019588690049136465)\n"
     ]
    }
   ],
   "source": [
    "oa_time_controls = [31.233,\n",
    "16.8998,\n",
    "72.1659,\n",
    "22.2331,\n",
    "36.333,\n",
    "47.7995,\n",
    "40.9996,\n",
    "14.1665,\n",
    "46.7995,\n",
    "20.9331]\n",
    "\n",
    "oa_time_treatment = [14.6332,\n",
    "34.3663,\n",
    "9.63324,\n",
    "29.1997,\n",
    "11.3999,\n",
    "33.2997,\n",
    "24.9997,\n",
    "10.8666,\n",
    "35.3663,\n",
    "12.5999,\n",
    "11.0332,\n",
    "17.9998]\n",
    "\n",
    "result = ttest_ind(oa_time_controls,oa_time_treatment,equal_var=False,alternative=\"greater\")\n",
    "print(result)"
   ]
  },
  {
   "cell_type": "markdown",
   "id": "d6117706-4f5e-4e27-b9b1-f9f28bb239e4",
   "metadata": {},
   "source": [
    "#### Homecage Stress vs Controls (Resilient vs Susceptible)"
   ]
  },
  {
   "cell_type": "code",
   "execution_count": 21,
   "id": "690d56ec-e9c4-4a6e-a0b4-0bd0757d8ebc",
   "metadata": {},
   "outputs": [],
   "source": [
    "df = pd.read_csv(csds)\n",
    "\n",
    "df_hc = df[[\"mouse\",\"interval 1 mean net 1 score\",\"interval 1 mean net 2 score\"]]\n",
    "df_controls = df_hc[df_hc.mouse.isin(csds_control_mice)]\n",
    "df_res = df_hc[df_hc.mouse.isin(csds_resilient_mice)]\n",
    "df_sus = df_hc[df_hc.mouse.isin(csds_susceptible_mice)]"
   ]
  },
  {
   "cell_type": "code",
   "execution_count": 32,
   "id": "cf8045bf-9b03-4c21-babb-4f0b18645904",
   "metadata": {},
   "outputs": [
    {
     "name": "stdout",
     "output_type": "stream",
     "text": [
      "Net 1 Controls vs. Stressed :  MannwhitneyuResult(statistic=332.0, pvalue=0.895846451570331)\n",
      "Net 1 Susceptible vs. Resilient :  MannwhitneyuResult(statistic=135.0, pvalue=0.9717300889311167)\n"
     ]
    },
    {
     "data": {
      "image/png": "[encoded data removed]",
      "text/plain": [
       "<Figure size 432x288 with 1 Axes>"
      ]
     },
     "metadata": {
      "needs_background": "light"
     },
     "output_type": "display_data"
    },
    {
     "name": "stdout",
     "output_type": "stream",
     "text": [
      "Net 2 Controls vs. Stressed :  MannwhitneyuResult(statistic=159.0, pvalue=0.009649835802987217)\n",
      "Net 2 Susceptible vs. Resilient :  MannwhitneyuResult(statistic=151.0, pvalue=0.619796388494133)\n"
     ]
    },
    {
     "data": {
      "image/png": "[encoded data removed]",
      "text/plain": [
       "<Figure size 432x288 with 1 Axes>"
      ]
     },
     "metadata": {
      "needs_background": "light"
     },
     "output_type": "display_data"
    }
   ],
   "source": [
    "print(\"Net 1 Controls vs. Stressed : \",mannwhitneyu(df_controls[\"interval 1 mean net 1 score\"],\n",
    "                                              np.hstack([df_sus[\"interval 1 mean net 1 score\"],\n",
    "                                                         df_res[\"interval 1 mean net 1 score\"]]),\n",
    "                                              alternative=\"less\"))\n",
    "\n",
    "print(\"Net 1 Susceptible vs. Resilient : \",mannwhitneyu(df_sus[\"interval 1 mean net 1 score\"],\n",
    "                                                  df_res[\"interval 1 mean net 1 score\"]))\n",
    "      \n",
    "plt.boxplot([df_controls[\"interval 1 mean net 1 score\"],\n",
    "             df_sus[\"interval 1 mean net 1 score\"],\n",
    "             df_res[\"interval 1 mean net 1 score\"]])\n",
    "plt.ylim([0.05,0.25])\n",
    "plt.xticks([1,2,3],[\"control\",\"susceptible\",\"resilient\"])\n",
    "plt.title(\"Network 1\")\n",
    "plt.show()\n",
    "\n",
    "\n",
    "print(\"Net 2 Controls vs. Stressed : \",mannwhitneyu(df_controls[\"interval 1 mean net 2 score\"],\n",
    "                                              np.hstack([df_sus[\"interval 1 mean net 2 score\"],\n",
    "                                                         df_res[\"interval 1 mean net 2 score\"]]),\n",
    "                                              alternative=\"less\"))\n",
    "\n",
    "print(\"Net 2 Susceptible vs. Resilient : \",mannwhitneyu(df_sus[\"interval 1 mean net 2 score\"],\n",
    "                                                  df_res[\"interval 1 mean net 2 score\"]))\n",
    "      \n",
    "plt.boxplot([df_controls[\"interval 1 mean net 2 score\"],\n",
    "             df_sus[\"interval 1 mean net 2 score\"],\n",
    "             df_res[\"interval 1 mean net 2 score\"]])\n",
    "plt.ylim([0.10,0.35])\n",
    "plt.xticks([1,2,3],[\"control\",\"susceptible\",\"resilient\"])\n",
    "plt.title(\"Network 2\")\n",
    "plt.show()"
   ]
  },
  {
   "cell_type": "markdown",
   "id": "ad5f88c1-c1bc-4332-91ba-568d91058663",
   "metadata": {},
   "source": [
    "### CMS"
   ]
  },
  {
   "cell_type": "code",
   "execution_count": null,
   "id": "8c21b484-b6c7-460c-94ef-997dd4862a1f",
   "metadata": {},
   "outputs": [],
   "source": []
  }
 ],
 "metadata": {
  "kernelspec": {
   "display_name": "Python 3 (ipykernel)",
   "language": "python",
   "name": "python3"
  },
  "language_info": {
   "codemirror_mode": {
    "name": "ipython",
    "version": 3
   },
   "file_extension": ".py",
   "mimetype": "text/x-python",
   "name": "python",
   "nbconvert_exporter": "python",
   "pygments_lexer": "ipython3",
   "version": "3.7.13"
  }
 },
 "nbformat": 4,
 "nbformat_minor": 5
}

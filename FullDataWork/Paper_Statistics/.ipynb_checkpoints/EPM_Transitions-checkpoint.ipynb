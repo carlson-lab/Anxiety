{
 "cells": [
  {
   "cell_type": "code",
   "execution_count": 1,
   "id": "a6aabeed-3e03-469e-909d-dc420c9835eb",
   "metadata": {},
   "outputs": [],
   "source": [
    "import numpy as np\n",
    "import pandas as pd\n",
    "import statsmodels.api as sm \n",
    "import pingouin as pg\n",
    "from statsmodels.formula.api import ols \n",
    "from statsmodels.stats.anova import AnovaRM\n",
    "\n",
    "ca_to_oa_files = \"/hpc/home/mk423/Anxiety/FullDataWork/Projections/EPM_Holdout_net_{}_CA_to_OA_Entry.csv\"\n",
    "oa_to_ca_files = \"/hpc/home/mk423/Anxiety/FullDataWork/Projections/EPM_Holdout_net_{}_OA_to_CA_Entry.csv\"\n",
    "\n"
   ]
  },
  {
   "cell_type": "markdown",
   "id": "9e3bdcfa-1f97-469e-87d0-17fa7c33af71",
   "metadata": {},
   "source": [
    "## Network 1 - Entry Events 2 Way Anova with Mixed Effects"
   ]
  },
  {
   "cell_type": "code",
   "execution_count": 2,
   "id": "a9f6f2fc-3945-461b-a6ae-ed7a034fcfd3",
   "metadata": {},
   "outputs": [
    {
     "data": {
      "text/html": [
       "<div>\n",
       "<style scoped>\n",
       "    .dataframe tbody tr th:only-of-type {\n",
       "        vertical-align: middle;\n",
       "    }\n",
       "\n",
       "    .dataframe tbody tr th {\n",
       "        vertical-align: top;\n",
       "    }\n",
       "\n",
       "    .dataframe thead th {\n",
       "        text-align: right;\n",
       "    }\n",
       "</style>\n",
       "<table border=\"1\" class=\"dataframe\">\n",
       "  <thead>\n",
       "    <tr style=\"text-align: right;\">\n",
       "      <th></th>\n",
       "      <th>Unnamed: 0</th>\n",
       "      <th>Mouse</th>\n",
       "      <th>-4</th>\n",
       "      <th>-3</th>\n",
       "      <th>-2</th>\n",
       "      <th>-1</th>\n",
       "      <th>0</th>\n",
       "      <th>1</th>\n",
       "      <th>2</th>\n",
       "    </tr>\n",
       "  </thead>\n",
       "  <tbody>\n",
       "    <tr>\n",
       "      <th>0</th>\n",
       "      <td>0</td>\n",
       "      <td>Mouse0641</td>\n",
       "      <td>0.084265</td>\n",
       "      <td>0.103459</td>\n",
       "      <td>0.145537</td>\n",
       "      <td>0.133251</td>\n",
       "      <td>0.108809</td>\n",
       "      <td>0.080984</td>\n",
       "      <td>0.108532</td>\n",
       "    </tr>\n",
       "    <tr>\n",
       "      <th>1</th>\n",
       "      <td>1</td>\n",
       "      <td>Mouse0641</td>\n",
       "      <td>0.194711</td>\n",
       "      <td>0.152978</td>\n",
       "      <td>0.133001</td>\n",
       "      <td>0.095518</td>\n",
       "      <td>0.118674</td>\n",
       "      <td>0.108715</td>\n",
       "      <td>0.080920</td>\n",
       "    </tr>\n",
       "    <tr>\n",
       "      <th>2</th>\n",
       "      <td>2</td>\n",
       "      <td>Mouse0641</td>\n",
       "      <td>0.165495</td>\n",
       "      <td>0.103755</td>\n",
       "      <td>0.152859</td>\n",
       "      <td>0.098014</td>\n",
       "      <td>0.114687</td>\n",
       "      <td>0.111827</td>\n",
       "      <td>0.124948</td>\n",
       "    </tr>\n",
       "    <tr>\n",
       "      <th>3</th>\n",
       "      <td>3</td>\n",
       "      <td>Mouse39115</td>\n",
       "      <td>0.138141</td>\n",
       "      <td>0.096498</td>\n",
       "      <td>0.123382</td>\n",
       "      <td>0.084696</td>\n",
       "      <td>0.162968</td>\n",
       "      <td>0.114069</td>\n",
       "      <td>0.121460</td>\n",
       "    </tr>\n",
       "    <tr>\n",
       "      <th>4</th>\n",
       "      <td>4</td>\n",
       "      <td>Mouse39121</td>\n",
       "      <td>0.138874</td>\n",
       "      <td>0.177863</td>\n",
       "      <td>0.115521</td>\n",
       "      <td>0.072393</td>\n",
       "      <td>0.158933</td>\n",
       "      <td>0.159287</td>\n",
       "      <td>0.148237</td>\n",
       "    </tr>\n",
       "  </tbody>\n",
       "</table>\n",
       "</div>"
      ],
      "text/plain": [
       "   Unnamed: 0       Mouse        -4        -3        -2        -1         0  \\\n",
       "0           0   Mouse0641  0.084265  0.103459  0.145537  0.133251  0.108809   \n",
       "1           1   Mouse0641  0.194711  0.152978  0.133001  0.095518  0.118674   \n",
       "2           2   Mouse0641  0.165495  0.103755  0.152859  0.098014  0.114687   \n",
       "3           3  Mouse39115  0.138141  0.096498  0.123382  0.084696  0.162968   \n",
       "4           4  Mouse39121  0.138874  0.177863  0.115521  0.072393  0.158933   \n",
       "\n",
       "          1         2  \n",
       "0  0.080984  0.108532  \n",
       "1  0.108715  0.080920  \n",
       "2  0.111827  0.124948  \n",
       "3  0.114069  0.121460  \n",
       "4  0.159287  0.148237  "
      ]
     },
     "execution_count": 2,
     "metadata": {},
     "output_type": "execute_result"
    }
   ],
   "source": [
    "#Closed Arm to Open Arm\n",
    "ca_to_oa = pd.read_csv(ca_to_oa_files.format(\"0\"))\n",
    "oa_to_ca = pd.read_csv(oa_to_ca_files.format(\"0\"))\n",
    "ca_to_oa.head()"
   ]
  },
  {
   "cell_type": "code",
   "execution_count": 3,
   "id": "5bd36288-1ea8-4747-8114-1650b518de3a",
   "metadata": {},
   "outputs": [
    {
     "data": {
      "text/plain": [
       "(11,)"
      ]
     },
     "execution_count": 3,
     "metadata": {},
     "output_type": "execute_result"
    }
   ],
   "source": [
    "np.unique(oa_to_ca.Mouse).shape"
   ]
  },
  {
   "cell_type": "code",
   "execution_count": 4,
   "id": "f952d80e-b285-4d65-ae4a-e831998832b6",
   "metadata": {},
   "outputs": [
    {
     "data": {
      "text/plain": [
       "(10,)"
      ]
     },
     "execution_count": 4,
     "metadata": {},
     "output_type": "execute_result"
    }
   ],
   "source": [
    "np.unique(ca_to_oa.Mouse).shape"
   ]
  },
  {
   "cell_type": "code",
   "execution_count": 5,
   "id": "70f0d8ae-88ba-4025-91c6-def9ca835027",
   "metadata": {},
   "outputs": [
    {
     "name": "stderr",
     "output_type": "stream",
     "text": [
      "/hpc/home/mk423/.local/lib/python3.7/site-packages/outdated/utils.py:18: OutdatedPackageWarning: The package pingouin is out of date. Your version is 0.5.3, the latest is 0.5.4.\n",
      "Set the environment variable OUTDATED_IGNORE=1 to disable these warnings.\n",
      "  **kwargs\n"
     ]
    },
    {
     "data": {
      "image/png": "[encoded data removed]",
      "text/plain": [
       "<Figure size 432x288 with 1 Axes>"
      ]
     },
     "metadata": {
      "needs_background": "light"
     },
     "output_type": "display_data"
    }
   ],
   "source": [
    "import matplotlib.pyplot as plt\n",
    "scores = []\n",
    "scores_2 = []\n",
    "idxs = [\"-4\",\"-3\",\"-2\",\"-1\",\"0\",\"1\",\"2\"]\n",
    "mouse_list = []\n",
    "transition_list = []\n",
    "for idx, mouse in enumerate(np.unique(oa_to_ca.Mouse)):\n",
    "    mask = np.array(oa_to_ca.Mouse).astype(str) == mouse\n",
    "    scores.append(np.mean(oa_to_ca[mask==1][idxs],axis=0))\n",
    "    mouse_list.append(idx+1)\n",
    "    transition_list.append(\"o_to_c\")\n",
    "    \n",
    "for mouse in np.unique(ca_to_oa.Mouse):\n",
    "    mask = np.array(ca_to_oa.Mouse).astype(str) == mouse\n",
    "    scores_2.append(np.mean(ca_to_oa[mask==1][idxs],axis=0))\n",
    "    mouse_list.append(mouse_list[-1]+1)\n",
    "    transition_list.append(\"c_to_o\")\n",
    "    \n",
    "scores = np.vstack(scores)\n",
    "scores_2 = np.vstack(scores_2)\n",
    "plt.plot(np.mean(scores,axis=0),label=\"OA_to_CA\")\n",
    "plt.plot(np.mean(scores_2,axis=0),label=\"CA_to_OA\")\n",
    "\n",
    "plt.fill_between(range(7),np.mean(scores,axis=0) + np.std(scores,axis=0)/np.sqrt(7),np.mean(scores,axis=0) - np.std(scores,axis=0)/np.sqrt(7),alpha=0.5)\n",
    "plt.fill_between(range(7),np.mean(scores_2,axis=0) + np.std(scores_2,axis=0)/np.sqrt(7),np.mean(scores_2,axis=0) - np.std(scores_2,axis=0)/np.sqrt(7),alpha=0.5)\n",
    "\n",
    "plt.xticks(range(7),idxs)\n",
    "plt.legend()\n",
    "plt.show()"
   ]
  },
  {
   "cell_type": "code",
   "execution_count": 6,
   "id": "7806cd9b-9db5-4515-9de1-6864da4c2449",
   "metadata": {},
   "outputs": [
    {
     "data": {
      "text/plain": [
       "[1, 2, 3, 4, 5, 6, 7, 8, 9, 10, 11, 12, 13, 14, 15, 16, 17, 18, 19, 20, 21]"
      ]
     },
     "execution_count": 6,
     "metadata": {},
     "output_type": "execute_result"
    }
   ],
   "source": [
    "mouse_list"
   ]
  },
  {
   "cell_type": "code",
   "execution_count": 8,
   "id": "35816811-b7de-4742-be1d-49c1a6db7e0f",
   "metadata": {},
   "outputs": [],
   "source": [
    "df = pd.DataFrame(np.hstack([np.array(mouse_list).reshape(-1,1),\n",
    "           np.array(transition_list).reshape(-1,1),\n",
    "           np.vstack((scores,scores_2))]),\n",
    "                  columns=[\"mouse\",\"transition_type\",\"-4\",\"-3\",\"-2\",\"-1\",\"0\",\"1\",\"2\"])\n",
    "\n",
    "#df[\"mouse\"] = pd.Categorical(df[\"mouse\"])\n",
    "df[\"transition_type\"] = pd.Categorical(df[\"transition_type\"])\n",
    "\n",
    "df_pre = df[[\"mouse\",\"transition_type\",\"-1\"]]\n",
    "df_post = df[[\"mouse\",\"transition_type\",\"0\"]]\n",
    "\n",
    "scores = np.hstack([df[\"-1\"].values,df[\"0\"].values])\n",
    "pre_post = np.hstack([[0 for i in range(df[\"-1\"].shape[0])],[1 for i in range(df[\"0\"].shape[0])]]).reshape(-1,1)\n",
    "mice = np.hstack([df[\"mouse\"].to_numpy().astype(str),df[\"mouse\"].to_numpy().astype(str)])\n",
    "transition_type = np.hstack([df[\"transition_type\"].to_numpy().astype(str),df[\"transition_type\"].to_numpy().astype(str)])\n",
    "\n",
    "\n",
    "data = np.hstack([scores.reshape(-1,1),pre_post.reshape(-1,1),mice.reshape(-1,1),transition_type.reshape(-1,1)])\n",
    "df_anova = pd.DataFrame.from_dict(data)\n",
    "df_anova.columns = [\"scores\",\"pre-post\",\"mouse\",\"direction\"]\n",
    "df_anova[\"mouse\"] = pd.to_numeric(df_anova[\"mouse\"])\n",
    "df_anova[\"direction\"].replace([\"o_to_c\",\"c_to_o\"],[0,1],inplace=True)\n",
    "df_anova[\"direction\"] = pd.to_numeric(df_anova[\"direction\"])\n",
    "df_anova[\"scores\"] = pd.to_numeric(df_anova[\"scores\"])\n",
    "df_anova[\"pre-post\"] = pd.to_numeric(df_anova[\"pre-post\"])#.replace([\"o_to_c\",\"c_to_o\"],[0,1],inplace=True)# = pd.Categorical(df_anova[\"group\"])\n",
    "#df_anova[\"mouse\"] = pd.Categorical(df_anova[\"mouse\"])"
   ]
  },
  {
   "cell_type": "code",
   "execution_count": 9,
   "id": "8f5f3176-a744-4546-8a8a-358f01c6386e",
   "metadata": {},
   "outputs": [
    {
     "data": {
      "text/html": [
       "<div>\n",
       "<style scoped>\n",
       "    .dataframe tbody tr th:only-of-type {\n",
       "        vertical-align: middle;\n",
       "    }\n",
       "\n",
       "    .dataframe tbody tr th {\n",
       "        vertical-align: top;\n",
       "    }\n",
       "\n",
       "    .dataframe thead th {\n",
       "        text-align: right;\n",
       "    }\n",
       "</style>\n",
       "<table border=\"1\" class=\"dataframe\">\n",
       "  <thead>\n",
       "    <tr style=\"text-align: right;\">\n",
       "      <th></th>\n",
       "      <th>Source</th>\n",
       "      <th>SS</th>\n",
       "      <th>DF1</th>\n",
       "      <th>DF2</th>\n",
       "      <th>MS</th>\n",
       "      <th>F</th>\n",
       "      <th>p-unc</th>\n",
       "      <th>np2</th>\n",
       "      <th>eps</th>\n",
       "    </tr>\n",
       "  </thead>\n",
       "  <tbody>\n",
       "    <tr>\n",
       "      <th>0</th>\n",
       "      <td>direction</td>\n",
       "      <td>0.000138</td>\n",
       "      <td>1</td>\n",
       "      <td>19</td>\n",
       "      <td>0.000138</td>\n",
       "      <td>0.159585</td>\n",
       "      <td>0.693994</td>\n",
       "      <td>0.008329</td>\n",
       "      <td>NaN</td>\n",
       "    </tr>\n",
       "    <tr>\n",
       "      <th>1</th>\n",
       "      <td>pre-post</td>\n",
       "      <td>0.000570</td>\n",
       "      <td>1</td>\n",
       "      <td>19</td>\n",
       "      <td>0.000570</td>\n",
       "      <td>1.360819</td>\n",
       "      <td>0.257830</td>\n",
       "      <td>0.066835</td>\n",
       "      <td>1.0</td>\n",
       "    </tr>\n",
       "    <tr>\n",
       "      <th>2</th>\n",
       "      <td>Interaction</td>\n",
       "      <td>0.003155</td>\n",
       "      <td>1</td>\n",
       "      <td>19</td>\n",
       "      <td>0.003155</td>\n",
       "      <td>7.531206</td>\n",
       "      <td>0.012893</td>\n",
       "      <td>0.283862</td>\n",
       "      <td>NaN</td>\n",
       "    </tr>\n",
       "  </tbody>\n",
       "</table>\n",
       "</div>"
      ],
      "text/plain": [
       "        Source        SS  DF1  DF2        MS         F     p-unc       np2  \\\n",
       "0    direction  0.000138    1   19  0.000138  0.159585  0.693994  0.008329   \n",
       "1     pre-post  0.000570    1   19  0.000570  1.360819  0.257830  0.066835   \n",
       "2  Interaction  0.003155    1   19  0.003155  7.531206  0.012893  0.283862   \n",
       "\n",
       "   eps  \n",
       "0  NaN  \n",
       "1  1.0  \n",
       "2  NaN  "
      ]
     },
     "execution_count": 9,
     "metadata": {},
     "output_type": "execute_result"
    }
   ],
   "source": [
    "pg.mixed_anova(dv=\"scores\",between=\"direction\",within=\"pre-post\",subject=\"mouse\",data=df_anova)"
   ]
  },
  {
   "cell_type": "markdown",
   "id": "aa945029-7b1b-4fc7-a5f6-bff3a3d48f58",
   "metadata": {},
   "source": [
    "## Network 2 - Entry Events 2 Way Anova with Mixed Effects"
   ]
  },
  {
   "cell_type": "code",
   "execution_count": 10,
   "id": "7ce7a4ef-6f2b-498d-b57d-edc2b547c92c",
   "metadata": {},
   "outputs": [
    {
     "data": {
      "text/html": [
       "<div>\n",
       "<style scoped>\n",
       "    .dataframe tbody tr th:only-of-type {\n",
       "        vertical-align: middle;\n",
       "    }\n",
       "\n",
       "    .dataframe tbody tr th {\n",
       "        vertical-align: top;\n",
       "    }\n",
       "\n",
       "    .dataframe thead th {\n",
       "        text-align: right;\n",
       "    }\n",
       "</style>\n",
       "<table border=\"1\" class=\"dataframe\">\n",
       "  <thead>\n",
       "    <tr style=\"text-align: right;\">\n",
       "      <th></th>\n",
       "      <th>Unnamed: 0</th>\n",
       "      <th>Mouse</th>\n",
       "      <th>-4</th>\n",
       "      <th>-3</th>\n",
       "      <th>-2</th>\n",
       "      <th>-1</th>\n",
       "      <th>0</th>\n",
       "      <th>1</th>\n",
       "      <th>2</th>\n",
       "    </tr>\n",
       "  </thead>\n",
       "  <tbody>\n",
       "    <tr>\n",
       "      <th>0</th>\n",
       "      <td>0</td>\n",
       "      <td>Mouse0641</td>\n",
       "      <td>0.097210</td>\n",
       "      <td>0.172329</td>\n",
       "      <td>0.184439</td>\n",
       "      <td>0.151755</td>\n",
       "      <td>0.176518</td>\n",
       "      <td>0.181784</td>\n",
       "      <td>0.145235</td>\n",
       "    </tr>\n",
       "    <tr>\n",
       "      <th>1</th>\n",
       "      <td>1</td>\n",
       "      <td>Mouse0641</td>\n",
       "      <td>0.185293</td>\n",
       "      <td>0.248391</td>\n",
       "      <td>0.181906</td>\n",
       "      <td>0.171851</td>\n",
       "      <td>0.234939</td>\n",
       "      <td>0.161323</td>\n",
       "      <td>0.102398</td>\n",
       "    </tr>\n",
       "    <tr>\n",
       "      <th>2</th>\n",
       "      <td>2</td>\n",
       "      <td>Mouse0641</td>\n",
       "      <td>0.259132</td>\n",
       "      <td>0.051681</td>\n",
       "      <td>0.165674</td>\n",
       "      <td>0.102790</td>\n",
       "      <td>0.186688</td>\n",
       "      <td>0.182094</td>\n",
       "      <td>0.108576</td>\n",
       "    </tr>\n",
       "    <tr>\n",
       "      <th>3</th>\n",
       "      <td>3</td>\n",
       "      <td>Mouse39115</td>\n",
       "      <td>0.263318</td>\n",
       "      <td>0.149901</td>\n",
       "      <td>0.253333</td>\n",
       "      <td>0.227130</td>\n",
       "      <td>0.306421</td>\n",
       "      <td>0.150360</td>\n",
       "      <td>0.252734</td>\n",
       "    </tr>\n",
       "    <tr>\n",
       "      <th>4</th>\n",
       "      <td>4</td>\n",
       "      <td>Mouse39121</td>\n",
       "      <td>0.187783</td>\n",
       "      <td>0.233171</td>\n",
       "      <td>0.122828</td>\n",
       "      <td>0.077356</td>\n",
       "      <td>0.172196</td>\n",
       "      <td>0.178734</td>\n",
       "      <td>0.167608</td>\n",
       "    </tr>\n",
       "  </tbody>\n",
       "</table>\n",
       "</div>"
      ],
      "text/plain": [
       "   Unnamed: 0       Mouse        -4        -3        -2        -1         0  \\\n",
       "0           0   Mouse0641  0.097210  0.172329  0.184439  0.151755  0.176518   \n",
       "1           1   Mouse0641  0.185293  0.248391  0.181906  0.171851  0.234939   \n",
       "2           2   Mouse0641  0.259132  0.051681  0.165674  0.102790  0.186688   \n",
       "3           3  Mouse39115  0.263318  0.149901  0.253333  0.227130  0.306421   \n",
       "4           4  Mouse39121  0.187783  0.233171  0.122828  0.077356  0.172196   \n",
       "\n",
       "          1         2  \n",
       "0  0.181784  0.145235  \n",
       "1  0.161323  0.102398  \n",
       "2  0.182094  0.108576  \n",
       "3  0.150360  0.252734  \n",
       "4  0.178734  0.167608  "
      ]
     },
     "execution_count": 10,
     "metadata": {},
     "output_type": "execute_result"
    }
   ],
   "source": [
    "ca_to_oa = pd.read_csv(ca_to_oa_files.format(\"1\"))\n",
    "oa_to_ca = pd.read_csv(oa_to_ca_files.format(\"1\"))\n",
    "ca_to_oa.head()"
   ]
  },
  {
   "cell_type": "code",
   "execution_count": 11,
   "id": "02d6725b-268b-459a-9ad3-889176892e9e",
   "metadata": {},
   "outputs": [
    {
     "data": {
      "image/png": "[encoded data removed]",
      "text/plain": [
       "<Figure size 432x288 with 1 Axes>"
      ]
     },
     "metadata": {
      "needs_background": "light"
     },
     "output_type": "display_data"
    }
   ],
   "source": [
    "import matplotlib.pyplot as plt\n",
    "scores = []\n",
    "scores_2 = []\n",
    "idxs = [\"-4\",\"-3\",\"-2\",\"-1\",\"0\",\"1\",\"2\"]\n",
    "mouse_list = []\n",
    "transition_list = []\n",
    "for idx, mouse in enumerate(np.unique(oa_to_ca.Mouse)):\n",
    "    mask = np.array(oa_to_ca.Mouse).astype(str) == mouse\n",
    "    scores.append(np.mean(oa_to_ca[mask==1][idxs],axis=0))\n",
    "    mouse_list.append(idx+1)\n",
    "    transition_list.append(\"o_to_c\")\n",
    "    \n",
    "for mouse in np.unique(ca_to_oa.Mouse):\n",
    "    mask = np.array(ca_to_oa.Mouse).astype(str) == mouse\n",
    "    scores_2.append(np.mean(ca_to_oa[mask==1][idxs],axis=0))\n",
    "    mouse_list.append(mouse_list[-1]+1)\n",
    "    transition_list.append(\"c_to_o\")\n",
    "    \n",
    "scores = np.vstack(scores)\n",
    "scores_2 = np.vstack(scores_2)\n",
    "plt.plot(np.mean(scores,axis=0),label=\"OA_to_CA\")\n",
    "plt.plot(np.mean(scores_2,axis=0),label=\"CA_to_OA\")\n",
    "\n",
    "plt.fill_between(range(7),np.mean(scores,axis=0) + np.std(scores,axis=0)/np.sqrt(7),np.mean(scores,axis=0) - np.std(scores,axis=0)/np.sqrt(7),alpha=0.5)\n",
    "plt.fill_between(range(7),np.mean(scores_2,axis=0) + np.std(scores_2,axis=0)/np.sqrt(7),np.mean(scores_2,axis=0) - np.std(scores_2,axis=0)/np.sqrt(7),alpha=0.5)\n",
    "\n",
    "plt.xticks(range(7),idxs)\n",
    "plt.legend()\n",
    "plt.show()"
   ]
  },
  {
   "cell_type": "code",
   "execution_count": 12,
   "id": "709adfed-8bef-4c11-b4d2-0e817efc4d48",
   "metadata": {},
   "outputs": [],
   "source": [
    "df = pd.DataFrame(np.hstack([np.array(mouse_list).reshape(-1,1),\n",
    "           np.array(transition_list).reshape(-1,1),\n",
    "           np.vstack((scores,scores_2))]),\n",
    "                  columns=[\"mouse\",\"transition_type\",\"-4\",\"-3\",\"-2\",\"-1\",\"0\",\"1\",\"2\"])\n",
    "\n",
    "#df[\"mouse\"] = pd.Categorical(df[\"mouse\"])\n",
    "df[\"transition_type\"] = pd.Categorical(df[\"transition_type\"])\n",
    "\n",
    "df_pre = df[[\"mouse\",\"transition_type\",\"-1\"]]\n",
    "df_post = df[[\"mouse\",\"transition_type\",\"0\"]]\n",
    "\n",
    "scores = np.hstack([df[\"-1\"].values,df[\"0\"].values])\n",
    "pre_post = np.hstack([[0 for i in range(df[\"-1\"].shape[0])],[1 for i in range(df[\"0\"].shape[0])]]).reshape(-1,1)\n",
    "mice = np.hstack([df[\"mouse\"].to_numpy().astype(str),df[\"mouse\"].to_numpy().astype(str)])\n",
    "transition_type = np.hstack([df[\"transition_type\"].to_numpy().astype(str),df[\"transition_type\"].to_numpy().astype(str)])\n",
    "\n",
    "\n",
    "data = np.hstack([scores.reshape(-1,1),pre_post.reshape(-1,1),mice.reshape(-1,1),transition_type.reshape(-1,1)])\n",
    "df_anova = pd.DataFrame.from_dict(data)\n",
    "df_anova.columns = [\"scores\",\"pre-post\",\"mouse\",\"direction\"]\n",
    "df_anova[\"mouse\"] = pd.to_numeric(df_anova[\"mouse\"])\n",
    "df_anova[\"direction\"].replace([\"o_to_c\",\"c_to_o\"],[0,1],inplace=True)\n",
    "df_anova[\"direction\"] = pd.to_numeric(df_anova[\"direction\"])\n",
    "df_anova[\"scores\"] = pd.to_numeric(df_anova[\"scores\"])\n",
    "df_anova[\"pre-post\"] = pd.to_numeric(df_anova[\"pre-post\"])#.replace([\"o_to_c\",\"c_to_o\"],[0,1],inplace=True)# = pd.Categorical(df_anova[\"group\"])\n",
    "#df_anova[\"mouse\"] = pd.Categorical(df_anova[\"mouse\"])"
   ]
  },
  {
   "cell_type": "code",
   "execution_count": 13,
   "id": "90e275e9-1909-487f-af47-b582ca9ff2ca",
   "metadata": {},
   "outputs": [
    {
     "data": {
      "text/html": [
       "<div>\n",
       "<style scoped>\n",
       "    .dataframe tbody tr th:only-of-type {\n",
       "        vertical-align: middle;\n",
       "    }\n",
       "\n",
       "    .dataframe tbody tr th {\n",
       "        vertical-align: top;\n",
       "    }\n",
       "\n",
       "    .dataframe thead th {\n",
       "        text-align: right;\n",
       "    }\n",
       "</style>\n",
       "<table border=\"1\" class=\"dataframe\">\n",
       "  <thead>\n",
       "    <tr style=\"text-align: right;\">\n",
       "      <th></th>\n",
       "      <th>Source</th>\n",
       "      <th>SS</th>\n",
       "      <th>DF1</th>\n",
       "      <th>DF2</th>\n",
       "      <th>MS</th>\n",
       "      <th>F</th>\n",
       "      <th>p-unc</th>\n",
       "      <th>np2</th>\n",
       "      <th>eps</th>\n",
       "    </tr>\n",
       "  </thead>\n",
       "  <tbody>\n",
       "    <tr>\n",
       "      <th>0</th>\n",
       "      <td>direction</td>\n",
       "      <td>0.005802</td>\n",
       "      <td>1</td>\n",
       "      <td>19</td>\n",
       "      <td>0.005802</td>\n",
       "      <td>0.983421</td>\n",
       "      <td>0.333818</td>\n",
       "      <td>0.049212</td>\n",
       "      <td>NaN</td>\n",
       "    </tr>\n",
       "    <tr>\n",
       "      <th>1</th>\n",
       "      <td>pre-post</td>\n",
       "      <td>0.001933</td>\n",
       "      <td>1</td>\n",
       "      <td>19</td>\n",
       "      <td>0.001933</td>\n",
       "      <td>1.597092</td>\n",
       "      <td>0.221602</td>\n",
       "      <td>0.077540</td>\n",
       "      <td>1.0</td>\n",
       "    </tr>\n",
       "    <tr>\n",
       "      <th>2</th>\n",
       "      <td>Interaction</td>\n",
       "      <td>0.011114</td>\n",
       "      <td>1</td>\n",
       "      <td>19</td>\n",
       "      <td>0.011114</td>\n",
       "      <td>9.183274</td>\n",
       "      <td>0.006882</td>\n",
       "      <td>0.325841</td>\n",
       "      <td>NaN</td>\n",
       "    </tr>\n",
       "  </tbody>\n",
       "</table>\n",
       "</div>"
      ],
      "text/plain": [
       "        Source        SS  DF1  DF2        MS         F     p-unc       np2  \\\n",
       "0    direction  0.005802    1   19  0.005802  0.983421  0.333818  0.049212   \n",
       "1     pre-post  0.001933    1   19  0.001933  1.597092  0.221602  0.077540   \n",
       "2  Interaction  0.011114    1   19  0.011114  9.183274  0.006882  0.325841   \n",
       "\n",
       "   eps  \n",
       "0  NaN  \n",
       "1  1.0  \n",
       "2  NaN  "
      ]
     },
     "execution_count": 13,
     "metadata": {},
     "output_type": "execute_result"
    }
   ],
   "source": [
    "pg.mixed_anova(dv=\"scores\",between=\"direction\",within=\"pre-post\",subject=\"mouse\",data=df_anova)"
   ]
  }
 ],
 "metadata": {
  "kernelspec": {
   "display_name": "Python 3 (ipykernel)",
   "language": "python",
   "name": "python3"
  },
  "language_info": {
   "codemirror_mode": {
    "name": "ipython",
    "version": 3
   },
   "file_extension": ".py",
   "mimetype": "text/x-python",
   "name": "python",
   "nbconvert_exporter": "python",
   "pygments_lexer": "ipython3",
   "version": "3.7.13"
  }
 },
 "nbformat": 4,
 "nbformat_minor": 5
}

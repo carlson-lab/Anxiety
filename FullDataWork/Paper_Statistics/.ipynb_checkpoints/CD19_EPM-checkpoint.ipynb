{
 "cells": [
  {
   "cell_type": "code",
   "execution_count": 1,
   "id": "b5c8e4ca-330a-40cd-a70c-d8af0fca4fb2",
   "metadata": {},
   "outputs": [
    {
     "name": "stderr",
     "output_type": "stream",
     "text": [
      "/hpc/home/mk423/.local/lib/python3.7/site-packages/outdated/utils.py:18: OutdatedPackageWarning: The package pingouin is out of date. Your version is 0.5.3, the latest is 0.5.4.\n",
      "Set the environment variable OUTDATED_IGNORE=1 to disable these warnings.\n",
      "  **kwargs\n"
     ]
    }
   ],
   "source": [
    "from scipy.stats import mannwhitneyu, ttest_ind\n",
    "import numpy as np\n",
    "import pandas as pd\n",
    "import pingouin as pg\n",
    "from sklearn.preprocessing import OrdinalEncoder\n",
    "from scipy.stats import boxcox"
   ]
  },
  {
   "cell_type": "markdown",
   "id": "53e20707-3633-44be-b5f4-532f6dba94dc",
   "metadata": {},
   "source": [
    "## Homecage vs Task"
   ]
  },
  {
   "cell_type": "code",
   "execution_count": 17,
   "id": "dcd78954-0ee2-47e5-96d1-e85481d3b5c3",
   "metadata": {},
   "outputs": [],
   "source": [
    "score_means_file = \"/hpc/home/mk423/Anxiety/FullDataWork/Projections/bxcx_c19_epm_mean_scores.csv\"\n",
    "df = pd.read_csv(score_means_file)\n",
    "#df = df.sort_values(\"condition\").copy()\n",
    "\n",
    "mouse_encoder = OrdinalEncoder().fit(df[\"mouse\"].values.reshape(-1,1))\n",
    "geno_encoder = OrdinalEncoder().fit(df[\"condition\"].values.reshape(-1,1))\n",
    "\n",
    "anova_dict = {\n",
    "    \"n1_score\":np.hstack([df[\"net 1 avgHCScore\"],\n",
    "                          df[\"net 1 avgTaskScore\"]])*20,\n",
    "    \n",
    "    \"n2_score\":np.hstack([df[\"net 2 avgHCScore\"],\n",
    "                          df[\"net 2 avgTaskScore\"]])*20,\n",
    "    \n",
    "    \"mouse\":np.hstack([mouse_encoder.transform(df[\"mouse\"].values.reshape(-1,1)).squeeze(),\n",
    "                       mouse_encoder.transform(df[\"mouse\"].values.reshape(-1,1)).squeeze()]).astype(int)+1,\n",
    "    \n",
    "    \"geno\":np.hstack([geno_encoder.transform(df[\"condition\"].values.reshape(-1,1)).squeeze(),\n",
    "                      geno_encoder.transform(df[\"condition\"].values.reshape(-1,1)).squeeze()]).astype(int),\n",
    "    \n",
    "    \"inTask\":np.hstack([np.zeros(df.shape[0]),\n",
    "                         np.ones(df.shape[0])]).astype(int),\n",
    "}\n",
    "\n",
    "df_anova = pd.DataFrame.from_dict(anova_dict)"
   ]
  },
  {
   "cell_type": "code",
   "execution_count": 18,
   "id": "cae120be-148f-49b4-97cb-5f9dee15534f",
   "metadata": {},
   "outputs": [
    {
     "data": {
      "text/html": [
       "<div>\n",
       "<style scoped>\n",
       "    .dataframe tbody tr th:only-of-type {\n",
       "        vertical-align: middle;\n",
       "    }\n",
       "\n",
       "    .dataframe tbody tr th {\n",
       "        vertical-align: top;\n",
       "    }\n",
       "\n",
       "    .dataframe thead th {\n",
       "        text-align: right;\n",
       "    }\n",
       "</style>\n",
       "<table border=\"1\" class=\"dataframe\">\n",
       "  <thead>\n",
       "    <tr style=\"text-align: right;\">\n",
       "      <th></th>\n",
       "      <th>Source</th>\n",
       "      <th>SS</th>\n",
       "      <th>DF1</th>\n",
       "      <th>DF2</th>\n",
       "      <th>MS</th>\n",
       "      <th>F</th>\n",
       "      <th>p-unc</th>\n",
       "      <th>np2</th>\n",
       "      <th>eps</th>\n",
       "    </tr>\n",
       "  </thead>\n",
       "  <tbody>\n",
       "    <tr>\n",
       "      <th>0</th>\n",
       "      <td>geno</td>\n",
       "      <td>0.367534</td>\n",
       "      <td>1</td>\n",
       "      <td>15</td>\n",
       "      <td>0.367534</td>\n",
       "      <td>1.167132</td>\n",
       "      <td>0.297056</td>\n",
       "      <td>0.072192</td>\n",
       "      <td>NaN</td>\n",
       "    </tr>\n",
       "    <tr>\n",
       "      <th>1</th>\n",
       "      <td>inTask</td>\n",
       "      <td>0.928660</td>\n",
       "      <td>1</td>\n",
       "      <td>15</td>\n",
       "      <td>0.928660</td>\n",
       "      <td>13.115022</td>\n",
       "      <td>0.002513</td>\n",
       "      <td>0.466477</td>\n",
       "      <td>1.0</td>\n",
       "    </tr>\n",
       "    <tr>\n",
       "      <th>2</th>\n",
       "      <td>Interaction</td>\n",
       "      <td>0.049052</td>\n",
       "      <td>1</td>\n",
       "      <td>15</td>\n",
       "      <td>0.049052</td>\n",
       "      <td>0.692741</td>\n",
       "      <td>0.418288</td>\n",
       "      <td>0.044144</td>\n",
       "      <td>NaN</td>\n",
       "    </tr>\n",
       "  </tbody>\n",
       "</table>\n",
       "</div>"
      ],
      "text/plain": [
       "        Source        SS  DF1  DF2        MS          F     p-unc       np2  \\\n",
       "0         geno  0.367534    1   15  0.367534   1.167132  0.297056  0.072192   \n",
       "1       inTask  0.928660    1   15  0.928660  13.115022  0.002513  0.466477   \n",
       "2  Interaction  0.049052    1   15  0.049052   0.692741  0.418288  0.044144   \n",
       "\n",
       "   eps  \n",
       "0  NaN  \n",
       "1  1.0  \n",
       "2  NaN  "
      ]
     },
     "execution_count": 18,
     "metadata": {},
     "output_type": "execute_result"
    }
   ],
   "source": [
    "pg.mixed_anova(dv=\"n1_score\",between=\"geno\",within=\"inTask\",subject=\"mouse\",data=df_anova)"
   ]
  },
  {
   "cell_type": "code",
   "execution_count": 19,
   "id": "89e74d49-9d76-4fab-a882-2890444c145f",
   "metadata": {},
   "outputs": [
    {
     "data": {
      "text/html": [
       "<div>\n",
       "<style scoped>\n",
       "    .dataframe tbody tr th:only-of-type {\n",
       "        vertical-align: middle;\n",
       "    }\n",
       "\n",
       "    .dataframe tbody tr th {\n",
       "        vertical-align: top;\n",
       "    }\n",
       "\n",
       "    .dataframe thead th {\n",
       "        text-align: right;\n",
       "    }\n",
       "</style>\n",
       "<table border=\"1\" class=\"dataframe\">\n",
       "  <thead>\n",
       "    <tr style=\"text-align: right;\">\n",
       "      <th></th>\n",
       "      <th>Source</th>\n",
       "      <th>SS</th>\n",
       "      <th>DF1</th>\n",
       "      <th>DF2</th>\n",
       "      <th>MS</th>\n",
       "      <th>F</th>\n",
       "      <th>p-unc</th>\n",
       "      <th>np2</th>\n",
       "      <th>eps</th>\n",
       "    </tr>\n",
       "  </thead>\n",
       "  <tbody>\n",
       "    <tr>\n",
       "      <th>0</th>\n",
       "      <td>geno</td>\n",
       "      <td>3.084184</td>\n",
       "      <td>1</td>\n",
       "      <td>15</td>\n",
       "      <td>3.084184</td>\n",
       "      <td>1.474075</td>\n",
       "      <td>0.243474</td>\n",
       "      <td>0.089478</td>\n",
       "      <td>NaN</td>\n",
       "    </tr>\n",
       "    <tr>\n",
       "      <th>1</th>\n",
       "      <td>inTask</td>\n",
       "      <td>5.552618</td>\n",
       "      <td>1</td>\n",
       "      <td>15</td>\n",
       "      <td>5.552618</td>\n",
       "      <td>12.252046</td>\n",
       "      <td>0.003222</td>\n",
       "      <td>0.449583</td>\n",
       "      <td>1.0</td>\n",
       "    </tr>\n",
       "    <tr>\n",
       "      <th>2</th>\n",
       "      <td>Interaction</td>\n",
       "      <td>0.225091</td>\n",
       "      <td>1</td>\n",
       "      <td>15</td>\n",
       "      <td>0.225091</td>\n",
       "      <td>0.496672</td>\n",
       "      <td>0.491765</td>\n",
       "      <td>0.032050</td>\n",
       "      <td>NaN</td>\n",
       "    </tr>\n",
       "  </tbody>\n",
       "</table>\n",
       "</div>"
      ],
      "text/plain": [
       "        Source        SS  DF1  DF2        MS          F     p-unc       np2  \\\n",
       "0         geno  3.084184    1   15  3.084184   1.474075  0.243474  0.089478   \n",
       "1       inTask  5.552618    1   15  5.552618  12.252046  0.003222  0.449583   \n",
       "2  Interaction  0.225091    1   15  0.225091   0.496672  0.491765  0.032050   \n",
       "\n",
       "   eps  \n",
       "0  NaN  \n",
       "1  1.0  \n",
       "2  NaN  "
      ]
     },
     "execution_count": 19,
     "metadata": {},
     "output_type": "execute_result"
    }
   ],
   "source": [
    "pg.mixed_anova(dv=\"n2_score\",between=\"geno\",within=\"inTask\",subject=\"mouse\",data=df_anova)"
   ]
  },
  {
   "cell_type": "code",
   "execution_count": 20,
   "id": "1e4deedb-6132-4cc8-ae37-525f86afa2d9",
   "metadata": {},
   "outputs": [
    {
     "name": "stdout",
     "output_type": "stream",
     "text": [
      "           Mixed Linear Model Regression Results\n",
      "===========================================================\n",
      "Model:               MixedLM  Dependent Variable:  n1_score\n",
      "No. Observations:    34       Method:              REML    \n",
      "No. Groups:          17       Scale:               0.0923  \n",
      "Min. group size:     2        Log-Likelihood:      -21.1485\n",
      "Max. group size:     2        Converged:           Yes     \n",
      "Mean group size:     2.0                                   \n",
      "-----------------------------------------------------------\n",
      "             Coef.  Std.Err.    z     P>|z|  [0.025  0.975]\n",
      "-----------------------------------------------------------\n",
      "Intercept   -19.946    0.193 -103.281 0.000 -20.325 -19.568\n",
      "geno          0.457    0.272    1.679 0.093  -0.076   0.990\n",
      "inTask        0.259    0.143    1.808 0.071  -0.022   0.540\n",
      "geno:inTask   0.152    0.209    0.729 0.466  -0.257   0.561\n",
      "mouse Var     0.002    0.007                               \n",
      "===========================================================\n",
      "\n",
      "geno:task <F test: F=0.5312489288672607, p=0.4717343792697638, df_denom=30, df_num=1>\n",
      "geno <F test: F=2.8207076672415186, p=0.10344224308964885, df_denom=30, df_num=1>\n",
      "task <F test: F=3.2671165689430213, p=0.08071936235259605, df_denom=30, df_num=1>\n"
     ]
    },
    {
     "name": "stderr",
     "output_type": "stream",
     "text": [
      "/hpc/home/mk423/.local/lib/python3.7/site-packages/statsmodels/regression/mixed_linear_model.py:2237: ConvergenceWarning: The MLE may be on the boundary of the parameter space.\n",
      "  warnings.warn(msg, ConvergenceWarning)\n"
     ]
    }
   ],
   "source": [
    "import pandas as pd\n",
    "import statsmodels.api as sm\n",
    "from statsmodels.regression.mixed_linear_model import MixedLM\n",
    "\n",
    "re_formula = \"0 + mouse\"\n",
    "md = MixedLM.from_formula(\"n1_score ~ geno + inTask + geno*inTask\",data=df_anova,groups=df_anova[\"mouse\"],re_formula=re_formula)\n",
    "result = md.fit()\n",
    "print(result.summary())\n",
    "print(\"geno:task\",result.f_test(\"geno:inTask\"))\n",
    "print(\"geno\",result.f_test(\"geno\"))\n",
    "print(\"task\",result.f_test(\"inTask\"))"
   ]
  },
  {
   "cell_type": "code",
   "execution_count": 21,
   "id": "617b90b1-e439-40fb-a73f-05f156497136",
   "metadata": {},
   "outputs": [
    {
     "name": "stdout",
     "output_type": "stream",
     "text": [
      "          Mixed Linear Model Regression Results\n",
      "==========================================================\n",
      "Model:              MixedLM  Dependent Variable:  n2_score\n",
      "No. Observations:   34       Method:              REML    \n",
      "No. Groups:         17       Scale:               0.5917  \n",
      "Min. group size:    2        Log-Likelihood:      -47.9800\n",
      "Max. group size:    2        Converged:           Yes     \n",
      "Mean group size:    2.0                                   \n",
      "----------------------------------------------------------\n",
      "             Coef.  Std.Err.    z    P>|z|  [0.025  0.975]\n",
      "----------------------------------------------------------\n",
      "Intercept   -22.170    0.350 -63.349 0.000 -22.856 -21.484\n",
      "geno          0.711    0.513   1.387 0.165  -0.294   1.716\n",
      "inTask        0.655    0.363   1.806 0.071  -0.056   1.366\n",
      "geno:inTask   0.326    0.529   0.617 0.537  -0.710   1.362\n",
      "mouse Var     0.009    0.011                              \n",
      "==========================================================\n",
      "\n",
      "geno:task <F test: F=0.38043208095864545, p=0.5420250474142003, df_denom=30, df_num=1>\n",
      "geno <F test: F=1.9245296373009437, p=0.1755787986048793, df_denom=30, df_num=1>\n",
      "task <F test: F=3.26112212453952, p=0.08098415675833966, df_denom=30, df_num=1>\n"
     ]
    },
    {
     "name": "stderr",
     "output_type": "stream",
     "text": [
      "/hpc/home/mk423/.local/lib/python3.7/site-packages/statsmodels/regression/mixed_linear_model.py:2237: ConvergenceWarning: The MLE may be on the boundary of the parameter space.\n",
      "  warnings.warn(msg, ConvergenceWarning)\n"
     ]
    }
   ],
   "source": [
    "import pandas as pd\n",
    "import statsmodels.api as sm\n",
    "from statsmodels.regression.mixed_linear_model import MixedLM\n",
    "\n",
    "re_formula = \"0 + mouse\"\n",
    "md = MixedLM.from_formula(\"n2_score ~ geno + inTask + geno*inTask\",data=df_anova,groups=df_anova[\"mouse\"],re_formula=re_formula)\n",
    "result = md.fit()\n",
    "print(result.summary())\n",
    "print(\"geno:task\",result.f_test(\"geno:inTask\"))\n",
    "print(\"geno\",result.f_test(\"geno\"))\n",
    "print(\"task\",result.f_test(\"inTask\"))"
   ]
  },
  {
   "cell_type": "markdown",
   "id": "b7857a08-40ab-4d9d-9366-9ed9a601fd4e",
   "metadata": {},
   "source": [
    "### Behavior"
   ]
  },
  {
   "cell_type": "code",
   "execution_count": 4,
   "id": "69fee89c-e2ea-4589-8573-01f87fcbfcb2",
   "metadata": {},
   "outputs": [
    {
     "name": "stdout",
     "output_type": "stream",
     "text": [
      "WT Var: 114.19 CLOCK Var: 920.03\n",
      "Ttest_indResult(statistic=-2.901357840619022, pvalue=0.004427193719733533)\n"
     ]
    }
   ],
   "source": [
    "CLOCK_OA_TIME_PERC = [2.24,10.47,19.68,6.18,6.94,4.74,3.78,14.30,6.16,1.93,1.00,0.68,1.23,2.10,2.78,4.01,9.95]\n",
    "WT_OA_TIME_PERC = [0.56,0.39,4.20,1.61,0.39,5.94,1.68,1.29,0.66,5.46,3.99,0.60,0.78,0.97,0.28,2.06,1.22]\n",
    "\n",
    "CLOCK_OA_TIME = [13.45,62.80,118.08,37.10,41.63,28.45,22.68,85.78,36.98,11.57,5.98,4.08,7.38,12.58,16.70,24.05,59.70]\n",
    "WT_OA_TIME = [3.38,2.33,25.18,9.65,2.33,35.63,10.08,7.73,3.98,32.75,23.93,3.58,4.70,5.80,1.68,12.38,7.33]\n",
    "\n",
    "\n",
    "print(\"WT Var: {:.2f} CLOCK Var: {:.2f}\".format(np.std(WT_OA_TIME)**2,np.std(CLOCK_OA_TIME)**2))\n",
    "result = ttest_ind(WT_OA_TIME,CLOCK_OA_TIME,equal_var=False,alternative=\"less\")\n",
    "print(result)"
   ]
  },
  {
   "cell_type": "markdown",
   "id": "318d98d7-58d2-40c8-978a-e987e44fe355",
   "metadata": {},
   "source": [
    "### Homecage"
   ]
  },
  {
   "cell_type": "code",
   "execution_count": 45,
   "id": "4ef0571e-45e9-41e9-8983-2b90fd6d6e88",
   "metadata": {},
   "outputs": [
    {
     "name": "stdout",
     "output_type": "stream",
     "text": [
      "MannwhitneyuResult(statistic=42.0, pvalue=0.30292060880296173)\n"
     ]
    }
   ],
   "source": [
    "hc_clck_mouse_id = [\"Mouse0912\",\n",
    "\"Mouse0913\",\n",
    "\"Mouse69872\",\n",
    "\"Mouse69873\",\n",
    "\"Mouse2401\",\n",
    "\"Mouse3881\",\n",
    "\"Mouse3882\",\n",
    "\"Mouse3883\",\n",
    "\"Mouse69841\",\n",
    "                ]\n",
    "clck_net_1_hc_scores = [0.06092664,0.04750466,0.074340366,0.07358543,0.0842634,0.05705384,0.09860658,0.09719049,0.07288882]\n",
    "\n",
    "hc_wt_mouse_id = [\"Mouse0911\",\n",
    "\"Mouse0914\",\n",
    "\"Mouse69861\",\n",
    "\"Mouse69862\",\n",
    "\"Mouse2402\",\n",
    "\"Mouse2403\",\n",
    "\"Mouse30391\",\n",
    "\"Mouse30392\",\n",
    "                 ]\n",
    "wt_net_1_hc_scores = [0.090969,0.0930634,0.07141278,0.07168583,0.06135689,0.08069093,0.087130055,0.07916829]\n",
    "\n",
    "result = mannwhitneyu(wt_net_1_hc_scores,clck_net_1_hc_scores,alternative=\"greater\")\n",
    "print(result)"
   ]
  },
  {
   "cell_type": "code",
   "execution_count": 46,
   "id": "5b0e68f8-4218-4ab0-87ee-d827fd64dff8",
   "metadata": {},
   "outputs": [
    {
     "name": "stdout",
     "output_type": "stream",
     "text": [
      "MannwhitneyuResult(statistic=47.0, pvalue=0.16063348416289594)\n"
     ]
    }
   ],
   "source": [
    "clck_net_2_hc_scores = [0.10615021,0.13203858,0.13508245,0.06408509,0.15980944,0.08499632,0.13755529,0.13206524,0.08291493]\n",
    "wt_net_2_hc_scores = [0.1441459,0.15201557,0.08090967,0.10579219,0.14723016,0.1413077,0.14531954,0.09232564]\n",
    "\n",
    "result = mannwhitneyu(wt_net_2_hc_scores,clck_net_2_hc_scores,alternative=\"greater\")\n",
    "print(result)"
   ]
  },
  {
   "cell_type": "markdown",
   "id": "1a8b69f4-318b-42b8-8a35-eb62386f9604",
   "metadata": {},
   "source": [
    "### Transitions"
   ]
  },
  {
   "cell_type": "code",
   "execution_count": 47,
   "id": "44c5070b-e3ab-4aa8-905a-ff2902275a52",
   "metadata": {},
   "outputs": [],
   "source": [
    "tran_clock_mouse_id = [\"Mouse0912\",\n",
    "\"Mouse0913\",\n",
    "\"Mouse69872\",\n",
    "\"Mouse69873\",\n",
    "\"Mouse2401\",\n",
    "\"Mouse3881\",\n",
    "\"Mouse3882\",\n",
    "\"Mouse3883\",\n",
    "\"Mouse69841\",\n",
    "                      ]\n",
    "\n",
    "n1_clock_transition = [0.045136111,\n",
    "0.069879461,\n",
    "0.101347684,\n",
    "0.099294627,\n",
    "0.089232487,\n",
    "0.090017068,\n",
    "0.110296893,\n",
    "0.100642435,\n",
    "0.093758095,\n",
    "                      ]\n",
    "\n",
    "tran_wt_mouse_id = [\n",
    "\"Mouse2402\",\n",
    "\"Mouse2403\",\n",
    "\"Mouse30391\",\n",
    "\"Mouse30392\",\n",
    "\"Mouse0914\",\n",
    "\"Mouse69861\",\n",
    "\"Mouse69862\",\n",
    "\n",
    "]\n",
    "n1_wt_transitions = [0.07703671,\n",
    "0.102370776,\n",
    "0.105240737,\n",
    "0.122051986,\n",
    "0.124922679,\n",
    "0.122349318,\n",
    "0.124128159,\n",
    "                    ]\n",
    "\n"
   ]
  },
  {
   "cell_type": "code",
   "execution_count": 48,
   "id": "d7221d80-6e6e-46c2-878a-e23bfa682521",
   "metadata": {},
   "outputs": [
    {
     "name": "stdout",
     "output_type": "stream",
     "text": [
      "MannwhitneyuResult(statistic=9.0, pvalue=0.008216783216783218)\n"
     ]
    }
   ],
   "source": [
    "results = mannwhitneyu(n1_clock_transition,n1_wt_transitions,alternative=\"less\")\n",
    "print(results)"
   ]
  },
  {
   "cell_type": "code",
   "execution_count": 49,
   "id": "0689e4aa-976e-42ca-acb4-8e395f1ca028",
   "metadata": {},
   "outputs": [],
   "source": [
    "n2_clock_transitions = [0.119389881,\n",
    "0.170481203,\n",
    "0.156258801,\n",
    "0.132562868,\n",
    "0.17544026,\n",
    "0.124476281,\n",
    "0.159161024,\n",
    "0.13951989,\n",
    "0.123745577]\n",
    "\n",
    "n2_wt_transitions = [0.178078196,\n",
    "0.153959205,\n",
    "0.175951997,\n",
    "0.162913553,\n",
    "0.2112835,\n",
    "0.159183934,\n",
    "0.165844992]"
   ]
  },
  {
   "cell_type": "code",
   "execution_count": 50,
   "id": "3ece6795-3110-4237-abab-c2b7e0b6d9ad",
   "metadata": {},
   "outputs": [
    {
     "name": "stdout",
     "output_type": "stream",
     "text": [
      "MannwhitneyuResult(statistic=10.0, pvalue=0.011451048951048953)\n"
     ]
    }
   ],
   "source": [
    "results = mannwhitneyu(n2_clock_transitions,n2_wt_transitions,alternative=\"less\")\n",
    "print(results)"
   ]
  },
  {
   "cell_type": "markdown",
   "id": "961c02c9-8cd9-4c1f-a41b-8b5b7ed4d0ce",
   "metadata": {},
   "source": [
    "## Mixed Effects Anova"
   ]
  },
  {
   "cell_type": "code",
   "execution_count": 62,
   "id": "ac38cf27-1620-490f-b877-eb2f4615d7ac",
   "metadata": {},
   "outputs": [],
   "source": [
    "all_mice_list = list(set(hc_clck_mouse_id+hc_wt_mouse_id+tran_clock_mouse_id+tran_wt_mouse_id))"
   ]
  },
  {
   "cell_type": "code",
   "execution_count": 71,
   "id": "d2b1d3ef-ea22-4a2d-b9ab-d52c77fb759c",
   "metadata": {},
   "outputs": [
    {
     "data": {
      "text/html": [
       "<div>\n",
       "<style scoped>\n",
       "    .dataframe tbody tr th:only-of-type {\n",
       "        vertical-align: middle;\n",
       "    }\n",
       "\n",
       "    .dataframe tbody tr th {\n",
       "        vertical-align: top;\n",
       "    }\n",
       "\n",
       "    .dataframe thead th {\n",
       "        text-align: right;\n",
       "    }\n",
       "</style>\n",
       "<table border=\"1\" class=\"dataframe\">\n",
       "  <thead>\n",
       "    <tr style=\"text-align: right;\">\n",
       "      <th></th>\n",
       "      <th>Source</th>\n",
       "      <th>SS</th>\n",
       "      <th>DF1</th>\n",
       "      <th>DF2</th>\n",
       "      <th>MS</th>\n",
       "      <th>F</th>\n",
       "      <th>p-unc</th>\n",
       "      <th>np2</th>\n",
       "      <th>eps</th>\n",
       "    </tr>\n",
       "  </thead>\n",
       "  <tbody>\n",
       "    <tr>\n",
       "      <th>0</th>\n",
       "      <td>genotype</td>\n",
       "      <td>0.001337</td>\n",
       "      <td>1</td>\n",
       "      <td>14</td>\n",
       "      <td>0.001337</td>\n",
       "      <td>2.891762</td>\n",
       "      <td>0.111130</td>\n",
       "      <td>0.171194</td>\n",
       "      <td>NaN</td>\n",
       "    </tr>\n",
       "    <tr>\n",
       "      <th>1</th>\n",
       "      <td>location</td>\n",
       "      <td>0.004205</td>\n",
       "      <td>1</td>\n",
       "      <td>14</td>\n",
       "      <td>0.004205</td>\n",
       "      <td>35.566997</td>\n",
       "      <td>0.000035</td>\n",
       "      <td>0.717554</td>\n",
       "      <td>1.0</td>\n",
       "    </tr>\n",
       "    <tr>\n",
       "      <th>2</th>\n",
       "      <td>Interaction</td>\n",
       "      <td>0.000679</td>\n",
       "      <td>1</td>\n",
       "      <td>14</td>\n",
       "      <td>0.000679</td>\n",
       "      <td>5.739160</td>\n",
       "      <td>0.031127</td>\n",
       "      <td>0.290750</td>\n",
       "      <td>NaN</td>\n",
       "    </tr>\n",
       "  </tbody>\n",
       "</table>\n",
       "</div>"
      ],
      "text/plain": [
       "        Source        SS  DF1  DF2        MS          F     p-unc       np2  \\\n",
       "0     genotype  0.001337    1   14  0.001337   2.891762  0.111130  0.171194   \n",
       "1     location  0.004205    1   14  0.004205  35.566997  0.000035  0.717554   \n",
       "2  Interaction  0.000679    1   14  0.000679   5.739160  0.031127  0.290750   \n",
       "\n",
       "   eps  \n",
       "0  NaN  \n",
       "1  1.0  \n",
       "2  NaN  "
      ]
     },
     "execution_count": 71,
     "metadata": {},
     "output_type": "execute_result"
    }
   ],
   "source": [
    "n1_df = pd.DataFrame({\"scores\":np.hstack([clck_net_1_hc_scores,\n",
    "                                          wt_net_1_hc_scores,\n",
    "                                          n1_clock_transition,\n",
    "                                          n1_wt_transitions]).astype(float),\n",
    "                      \n",
    "                      \"genotype\":np.hstack([[0 for _ in clck_net_1_hc_scores],\n",
    "                                            [1 for _ in wt_net_1_hc_scores],\n",
    "                                            [0 for _ in n1_clock_transition],\n",
    "                                            [1 for _ in n1_wt_transitions]]).astype(int),\n",
    "                      \n",
    "                      \"location\":np.hstack([[0 for _ in clck_net_1_hc_scores],\n",
    "                                            [0 for _ in wt_net_1_hc_scores],\n",
    "                                            [1 for _ in n1_clock_transition],\n",
    "                                            [1 for _ in n1_wt_transitions]]).astype(int),\n",
    "                      \n",
    "                      \"mouse\":np.hstack([[all_mice_list.index(mouse) for mouse in hc_clck_mouse_id],\n",
    "                                          [all_mice_list.index(mouse) for mouse in hc_wt_mouse_id],\n",
    "                                          [all_mice_list.index(mouse) for mouse in tran_clock_mouse_id],\n",
    "                                          [all_mice_list.index(mouse) for mouse in tran_wt_mouse_id]]).astype(int)+1\n",
    "                        })\n",
    "\n",
    "pg.mixed_anova(dv=\"scores\",between=\"genotype\",within=\"location\",subject=\"mouse\",data=n1_df)"
   ]
  },
  {
   "cell_type": "code",
   "execution_count": 70,
   "id": "18ff1ae1-05ef-4f8c-9d04-a77c0c4c93a2",
   "metadata": {},
   "outputs": [
    {
     "data": {
      "text/html": [
       "<div>\n",
       "<style scoped>\n",
       "    .dataframe tbody tr th:only-of-type {\n",
       "        vertical-align: middle;\n",
       "    }\n",
       "\n",
       "    .dataframe tbody tr th {\n",
       "        vertical-align: top;\n",
       "    }\n",
       "\n",
       "    .dataframe thead th {\n",
       "        text-align: right;\n",
       "    }\n",
       "</style>\n",
       "<table border=\"1\" class=\"dataframe\">\n",
       "  <thead>\n",
       "    <tr style=\"text-align: right;\">\n",
       "      <th></th>\n",
       "      <th>Source</th>\n",
       "      <th>SS</th>\n",
       "      <th>DF1</th>\n",
       "      <th>DF2</th>\n",
       "      <th>MS</th>\n",
       "      <th>F</th>\n",
       "      <th>p-unc</th>\n",
       "      <th>np2</th>\n",
       "      <th>eps</th>\n",
       "    </tr>\n",
       "  </thead>\n",
       "  <tbody>\n",
       "    <tr>\n",
       "      <th>0</th>\n",
       "      <td>genotype</td>\n",
       "      <td>0.002622</td>\n",
       "      <td>1</td>\n",
       "      <td>14</td>\n",
       "      <td>0.002622</td>\n",
       "      <td>2.298143</td>\n",
       "      <td>0.151779</td>\n",
       "      <td>0.141006</td>\n",
       "      <td>NaN</td>\n",
       "    </tr>\n",
       "    <tr>\n",
       "      <th>1</th>\n",
       "      <td>location</td>\n",
       "      <td>0.011577</td>\n",
       "      <td>1</td>\n",
       "      <td>14</td>\n",
       "      <td>0.011577</td>\n",
       "      <td>50.333140</td>\n",
       "      <td>0.000005</td>\n",
       "      <td>0.782383</td>\n",
       "      <td>1.0</td>\n",
       "    </tr>\n",
       "    <tr>\n",
       "      <th>2</th>\n",
       "      <td>Interaction</td>\n",
       "      <td>0.000734</td>\n",
       "      <td>1</td>\n",
       "      <td>14</td>\n",
       "      <td>0.000734</td>\n",
       "      <td>3.191347</td>\n",
       "      <td>0.095695</td>\n",
       "      <td>0.185637</td>\n",
       "      <td>NaN</td>\n",
       "    </tr>\n",
       "  </tbody>\n",
       "</table>\n",
       "</div>"
      ],
      "text/plain": [
       "        Source        SS  DF1  DF2        MS          F     p-unc       np2  \\\n",
       "0     genotype  0.002622    1   14  0.002622   2.298143  0.151779  0.141006   \n",
       "1     location  0.011577    1   14  0.011577  50.333140  0.000005  0.782383   \n",
       "2  Interaction  0.000734    1   14  0.000734   3.191347  0.095695  0.185637   \n",
       "\n",
       "   eps  \n",
       "0  NaN  \n",
       "1  1.0  \n",
       "2  NaN  "
      ]
     },
     "execution_count": 70,
     "metadata": {},
     "output_type": "execute_result"
    }
   ],
   "source": [
    "n2_df = pd.DataFrame({\"scores\":np.hstack([clck_net_2_hc_scores,\n",
    "                                          wt_net_2_hc_scores,\n",
    "                                          n2_clock_transitions,\n",
    "                                          n2_wt_transitions]).astype(float),\n",
    "                      \n",
    "                      \"genotype\":np.hstack([[0 for _ in clck_net_2_hc_scores],\n",
    "                                            [1 for _ in wt_net_2_hc_scores],\n",
    "                                            [0 for _ in n2_clock_transitions],\n",
    "                                            [1 for _ in n2_wt_transitions]]).astype(int),\n",
    "                      \n",
    "                      \"location\":np.hstack([[0 for _ in clck_net_2_hc_scores],\n",
    "                                            [0 for _ in wt_net_2_hc_scores],\n",
    "                                            [1 for _ in n2_clock_transitions],\n",
    "                                            [1 for _ in n2_wt_transitions]]).astype(int),\n",
    "                      \n",
    "                      \"mouse\":np.hstack([[all_mice_list.index(mouse) for mouse in hc_clck_mouse_id],\n",
    "                                          [all_mice_list.index(mouse) for mouse in hc_wt_mouse_id],\n",
    "                                          [all_mice_list.index(mouse) for mouse in tran_clock_mouse_id],\n",
    "                                          [all_mice_list.index(mouse) for mouse in tran_wt_mouse_id]]).astype(int)+1\n",
    "                        })\n",
    "\n",
    "pg.mixed_anova(dv=\"scores\",between=\"genotype\",within=\"location\",subject=\"mouse\",data=n2_df)"
   ]
  },
  {
   "cell_type": "code",
   "execution_count": null,
   "id": "394bb56f-3b45-4792-a75a-a6e87fca4ad2",
   "metadata": {},
   "outputs": [],
   "source": []
  }
 ],
 "metadata": {
  "kernelspec": {
   "display_name": "Python 3 (ipykernel)",
   "language": "python",
   "name": "python3"
  },
  "language_info": {
   "codemirror_mode": {
    "name": "ipython",
    "version": 3
   },
   "file_extension": ".py",
   "mimetype": "text/x-python",
   "name": "python",
   "nbconvert_exporter": "python",
   "pygments_lexer": "ipython3",
   "version": "3.7.13"
  }
 },
 "nbformat": 4,
 "nbformat_minor": 5
}

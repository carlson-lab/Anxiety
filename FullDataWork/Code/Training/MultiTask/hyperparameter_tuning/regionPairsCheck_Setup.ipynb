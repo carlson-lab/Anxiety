{
 "cells": [
  {
   "cell_type": "code",
   "execution_count": 1,
   "id": "5123023a-c2e2-4ce7-81bb-4762f393f8bb",
   "metadata": {},
   "outputs": [
    {
     "name": "stderr",
     "output_type": "stream",
     "text": [
      "/opt/conda/lib/python3.7/site-packages/tqdm/auto.py:22: TqdmWarning: IProgress not found. Please update jupyter and ipywidgets. See https://ipywidgets.readthedocs.io/en/stable/user_install.html\n",
      "  from .autonotebook import tqdm as notebook_tqdm\n",
      "/hpc/home/mk423/.local/lib/python3.7/site-packages/lpne/pipelines/__init__.py:14: UserWarning: Could not load lpne/pipelines/default_params.yaml!\n",
      "  warnings.warn(\"Could not load lpne/pipelines/default_params.yaml!\")\n"
     ]
    }
   ],
   "source": [
    "import pickle\n",
    "from itertools import permutations, combinations\n",
    "import numpy as np\n",
    "import torch\n",
    "import numpy as np\n",
    "import pickle\n",
    "from lpne.models import DcsfaNmf\n",
    "from lpne.plotting import circle_plot\n",
    "from sklearn.preprocessing import OneHotEncoder, OrdinalEncoder\n",
    "#from PIL import Image\n",
    "import matplotlib.pyplot as plt\n",
    "import matplotlib.image as image\n",
    "import os, sys\n",
    "import seaborn as sns\n",
    "import pandas as pd\n",
    "\n",
    "umc_data_tools_path = \"/hpc/home/mk423/Anxiety/Universal-Mouse-Code/\"\n",
    "sys.path.append(umc_data_tools_path)\n",
    "import umc_data_tools as umc_dt\n",
    "\n",
    "#pull array value from environment\n",
    "#featureIdx = int(os.environ['SLURM_ARRAY_TASK_ID']) #0-91\n",
    "\n",
    "flx_data_path = \"/work/mk423/Anxiety/final_FLX_{}.pkl\"\n",
    "epm_data_path = \"/work/mk423/Anxiety/EPM_{}_dict_May_17.pkl\"\n",
    "oft_data_path = \"/work/mk423/Anxiety/OFT_{}_dict_old_features_hand_picked.pkl\"\n",
    "\n",
    "anx_info_dict = \"/work/mk423/Anxiety/Anx_Info_Dict.pkl\"\n",
    "\n",
    "feature_list = [\"X_psd\",\"X_coh\",\"X_gc\"]\n",
    "old_feature_list = [\"X_power_1_2\",\"X_coh_1_2\",\"X_gc_1_2\"]\n",
    "feature_weights = [10,1,1]\n",
    "RANDOM_STATE = 42\n",
    "EPSILON = 1e-6\n",
    "\n",
    "anx_info_dict = \"/work/mk423/Anxiety/Anx_Info_Dict.pkl\"\n",
    "anxInfoDict = pickle.load(open(anx_info_dict,\"rb\"))"
   ]
  },
  {
   "cell_type": "code",
   "execution_count": 2,
   "id": "1e6764dc-f084-4f49-9f8d-8b4de591587e",
   "metadata": {},
   "outputs": [],
   "source": [
    "brain_area_comb_idx = 0\n",
    "brain_areas = anxInfoDict['area']\n",
    "allFeatures = np.hstack([anxInfoDict[\"powerFeatures\"],anxInfoDict[\"cohFeatures\"],anxInfoDict[\"gcFeatures\"]])\n",
    "powerFeatureMask = np.zeros(len(allFeatures))\n",
    "powerFeatureMask[:8*56] = 1\n",
    "combinations_list = list(combinations(brain_areas, 2))\n",
    "filtered_combinations = [(area1, area2) for area1, area2 in combinations_list if area1 != area2] #0-27 combinations\n",
    "brain_area_1_features = np.char.find(allFeatures,filtered_combinations[brain_area_comb_idx][0]) != -1\n",
    "brain_area_2_features = np.char.find(allFeatures,filtered_combinations[brain_area_comb_idx][1]) != -1\n",
    "brain_comb_idxs = np.logical_and(brain_area_1_features,brain_area_2_features) + np.logical_and(brain_area_1_features,powerFeatureMask) + np.logical_and(brain_area_2_features,powerFeatureMask)\n"
   ]
  },
  {
   "cell_type": "code",
   "execution_count": 3,
   "id": "0069f9ec-992b-4866-8fd3-07d423f9399d",
   "metadata": {},
   "outputs": [],
   "source": [
    "with open(flx_data_path.format(\"train\"),\"rb\") as f:\n",
    "    train_dict = pickle.load(f)\n",
    "    \n",
    "with open(flx_data_path.format(\"val\"),\"rb\") as f:\n",
    "    val_dict = pickle.load(f)\n",
    "    \n",
    "with open(flx_data_path.format(\"test\"),\"rb\") as f:\n",
    "    test_dict = pickle.load(f)\n",
    "    \n",
    "flx_X_train = np.hstack([train_dict[feature]*weight for feature,weight in zip(feature_list,feature_weights)])\n",
    "flx_y_train = train_dict['y_flx']\n",
    "flx_y_mouse_train = train_dict['y_mouse']\n",
    "flx_y_hab_train = train_dict['y_hab']\n",
    "flx_y_time_train = train_dict['y_time']\n",
    "\n",
    "flx_X_val = np.hstack([val_dict[feature]*weight for feature,weight in zip(feature_list,feature_weights)])\n",
    "flx_y_val = val_dict['y_flx']\n",
    "flx_y_mouse_val = val_dict['y_mouse']\n",
    "flx_y_hab_val = val_dict['y_hab']\n",
    "flx_y_time_val = val_dict['y_time']\n",
    "\n",
    "flx_X_test = np.hstack([test_dict[feature]*weight for feature,weight in zip(feature_list,feature_weights)])\n",
    "flx_y_test = test_dict['y_flx']\n",
    "flx_y_mouse_test = test_dict['y_mouse']\n",
    "flx_y_hab_test = test_dict['y_hab']\n",
    "flx_y_time_test = test_dict['y_time']\n",
    "flx_y_expDate_test = test_dict['y_expDate']\n",
    "\n",
    "#Stack Validation and Training Data from timepoints after 30 minutes\n",
    "flx_X = np.vstack([flx_X_train[flx_y_hab_train==1],flx_X_val[flx_y_hab_val==1]])\n",
    "flx_y = np.hstack([flx_y_train[flx_y_hab_train==1],flx_y_val[flx_y_hab_val==1]])\n",
    "flx_y_mouse = np.hstack([flx_y_mouse_train[flx_y_hab_train==1], flx_y_mouse_val[flx_y_hab_val==1]])\n",
    "\n",
    "with open(oft_data_path.format(\"train\"),'rb') as f:\n",
    "    train_dict = pickle.load(f)\n",
    "\n",
    "with open(oft_data_path.format(\"validation\"),'rb') as f:\n",
    "    val_dict = pickle.load(f)\n",
    "    \n",
    "with open(oft_data_path.format(\"test\"),'rb') as f:\n",
    "    test_dict = pickle.load(f)\n",
    "    \n",
    "\n",
    "running_idx = 0\n",
    "feature_groups = []\n",
    "for idx,feature in enumerate(old_feature_list):\n",
    "    f_begin = running_idx\n",
    "    f_end = f_begin + train_dict[feature].shape[1] \n",
    "    if idx == 0:\n",
    "        f_end = f_end -1\n",
    "    feature_groups.append((f_begin,f_end))\n",
    "\n",
    "    running_idx = f_end\n",
    "\n",
    "NUM_FREQS = 56\n",
    "NUM_FEATURES = np.hstack([train_dict[feature] for feature in old_feature_list]).shape[1] // NUM_FREQS\n",
    "scale_vector = np.array([np.arange(1,NUM_FREQS+1) for feature in range(NUM_FEATURES)]).flatten()\n",
    "\n",
    "#Train Arrays\n",
    "oft_X_train = np.hstack([train_dict[feature]*weight for feature,weight in zip(old_feature_list,feature_weights)])\n",
    "oft_y_hc_train = train_dict['y_Homecage'].astype(bool)\n",
    "oft_y_task_train = ~oft_y_hc_train\n",
    "oft_y_ROI_train = train_dict['y_ROI']\n",
    "oft_y_vel_train = train_dict['y_vel']\n",
    "oft_y_mouse_train = train_dict['y_mouse']\n",
    "oft_y_time_train = train_dict['y_time']\n",
    "\n",
    "#Validation Arrays\n",
    "oft_X_val = np.hstack([val_dict[feature]*weight for feature,weight in zip(old_feature_list,feature_weights)])\n",
    "oft_y_hc_val = val_dict['y_Homecage'].astype(bool)\n",
    "oft_y_task_val = ~oft_y_hc_val\n",
    "oft_y_ROI_val = val_dict['y_ROI']\n",
    "oft_y_vel_val = val_dict['y_vel']\n",
    "oft_y_mouse_val = val_dict['y_mouse']\n",
    "oft_y_time_val = val_dict['y_time']\n",
    "\n",
    "#Test Arrays\n",
    "oft_X_test = np.hstack([test_dict[feature]*weight for feature,weight in zip(old_feature_list,feature_weights)])\n",
    "oft_y_hc_test = test_dict['y_Homecage'].astype(bool)\n",
    "oft_y_task_test = ~oft_y_hc_test\n",
    "oft_y_ROI_test = test_dict['y_ROI']\n",
    "oft_y_vel_test = test_dict['y_vel']\n",
    "oft_y_mouse_test = test_dict['y_mouse']\n",
    "oft_y_time_test = test_dict['y_time']\n",
    "oft_y_expDate_test = test_dict['y_expDate']\n",
    "\n",
    "oft_X = np.vstack([oft_X_train,oft_X_val])\n",
    "oft_y_task = np.hstack([oft_y_task_train,oft_y_task_val])\n",
    "oft_y_mouse = np.hstack([oft_y_mouse_train,oft_y_mouse_val])\n",
    "\n",
    "with open(epm_data_path.format(\"train\"),\"rb\") as f:\n",
    "    epm_train_dict = pickle.load(f)\n",
    "\n",
    "with open(epm_data_path.format(\"val\"),\"rb\") as f:\n",
    "    epm_validation_dict = pickle.load(f)\n",
    "    \n",
    "with open(epm_data_path.format(\"test\"),\"rb\") as f:\n",
    "    epm_test_dict = pickle.load(f)\n",
    "\n",
    "#Load the data\n",
    "NUM_FREQS = 56\n",
    "NUM_FEATURES = (epm_train_dict[\"X_power_1_2\"].shape[1] + \\\n",
    "                epm_train_dict[\"X_coh_1_2\"].shape[1] + \\\n",
    "                epm_train_dict[\"X_gc_1_2\"].shape[1]) // NUM_FREQS\n",
    "SCALE_VECTOR = np.array([np.arange(1,57) for feature in range(NUM_FEATURES)]).flatten()\n",
    "\n",
    "X_train = np.hstack([epm_train_dict[feature]*weight for feature,weight in zip(old_feature_list,feature_weights)])\n",
    "X_train[X_train<0] = 0\n",
    "y_train = (epm_train_dict['y_ROI']%2).astype(bool)\n",
    "y_in_task_mask_train = ~epm_train_dict['y_Homecage'].astype(bool)\n",
    "y_mouse_train = epm_train_dict['y_mouse']\n",
    "y_time_train = epm_train_dict['y_time']\n",
    "train_nan_mask = (epm_train_dict['y_ROI'] > 0)\n",
    "\n",
    "\n",
    "X_train_task = X_train[np.logical_and(y_in_task_mask_train==1,train_nan_mask)==1]\n",
    "y_train_task = y_train[np.logical_and(y_in_task_mask_train==1,train_nan_mask)==1]\n",
    "y_mouse_train_task = y_mouse_train[np.logical_and(y_in_task_mask_train==1,train_nan_mask)==1]\n",
    "y_time_train_task = y_time_train[np.logical_and(y_in_task_mask_train==1,train_nan_mask)==1]\n",
    "X_val = np.hstack([epm_validation_dict[feature]*weight for feature,weight in zip(old_feature_list,feature_weights)])\n",
    "\n",
    "\n",
    "y_val = (epm_validation_dict['y_ROI']%2).astype(bool)\n",
    "y_in_task_mask_val= ~epm_validation_dict['y_Homecage'].astype(bool)\n",
    "y_mouse_val = epm_validation_dict['y_mouse']\n",
    "y_time_val = epm_validation_dict['y_time']\n",
    "val_nan_mask = (epm_validation_dict['y_ROI'] > 0)\n",
    "\n",
    "X_val_task = X_val[np.logical_and(y_in_task_mask_val==1,val_nan_mask)==1]\n",
    "y_val_task = y_val[np.logical_and(y_in_task_mask_val==1,val_nan_mask)==1]\n",
    "y_mouse_val_task = y_mouse_val[np.logical_and(y_in_task_mask_val==1,val_nan_mask)==1]\n",
    "y_time_val_task = y_time_val[np.logical_and(y_in_task_mask_val==1,val_nan_mask)==1]\n",
    "\n",
    "X_test = np.hstack([epm_test_dict[feature]*weight for feature,weight in zip(old_feature_list,feature_weights)])\n",
    "y_test = (epm_test_dict['y_ROI']%2).astype(bool)\n",
    "y_in_task_mask_test= ~epm_test_dict['y_Homecage'].astype(bool)\n",
    "y_mouse_test = epm_test_dict['y_mouse']\n",
    "y_time_test = epm_test_dict['y_time']\n",
    "test_nan_mask = (epm_test_dict['y_ROI'] > 0)\n",
    "epm_y_expDate_test = epm_test_dict['y_expDate']\n",
    "\n",
    "X_test_task = X_test[np.logical_and(y_in_task_mask_test==1,test_nan_mask)==1]\n",
    "y_test_task = y_test[np.logical_and(y_in_task_mask_test==1,test_nan_mask)==1]\n",
    "y_mouse_test_task = y_mouse_test[np.logical_and(y_in_task_mask_test==1,test_nan_mask)==1]\n",
    "y_time_test_task = y_time_test[np.logical_and(y_in_task_mask_test==1,test_nan_mask)==1]\n",
    "\n",
    "epm_X = np.vstack([X_train,X_val])\n",
    "epm_y_task = np.hstack([y_in_task_mask_train,y_in_task_mask_val])\n",
    "epm_y_mouse = np.hstack([y_mouse_train,y_mouse_val])\n",
    "epm_y_time = np.hstack([y_time_train,y_time_val])\n",
    "\n",
    "mt_X_train = np.vstack([flx_X,oft_X,epm_X])[:,brain_comb_idxs]\n",
    "mt_y_train = np.hstack([flx_y,oft_y_task,epm_y_task]).reshape(-1,1)\n",
    "mt_y_mouse_train = np.hstack([flx_y_mouse,oft_y_mouse,epm_y_mouse])\n",
    "\n",
    "mt_X_test = np.vstack([flx_X_test[flx_y_hab_test==1],oft_X_test,X_test])[:,brain_comb_idxs]\n",
    "mt_y_test = np.hstack([flx_y_test[flx_y_hab_test==1],oft_y_task_test,y_in_task_mask_test]).reshape(-1,1)\n",
    "mt_y_mouse_test = np.hstack([flx_y_mouse_test[flx_y_hab_test==1],oft_y_mouse_test,y_mouse_test])\n",
    "\n",
    "intercept_mask = OneHotEncoder().fit_transform(mt_y_mouse_train.reshape(-1,1)).todense()\n",
    "sample_groups = OrdinalEncoder().fit_transform(mt_y_mouse_train.reshape(-1,1))\n",
    "nmf_groups = np.hstack(\n",
    "    [\n",
    "        np.ones(flx_X.shape[0])*0,\n",
    "        np.ones(oft_X.shape[0]),\n",
    "        np.ones(epm_X.shape[0])*2\n",
    "    ]\n",
    ")\n"
   ]
  },
  {
   "cell_type": "code",
   "execution_count": 6,
   "id": "ba5679f0-c4c0-4eb0-b98c-063e58ca7107",
   "metadata": {},
   "outputs": [
    {
     "name": "stdout",
     "output_type": "stream",
     "text": [
      "(55657, 280) (55657, 3)\n",
      "Pretraining NMF...\n"
     ]
    },
    {
     "name": "stderr",
     "output_type": "stream",
     "text": [
      "/opt/conda/lib/python3.7/site-packages/sklearn/decomposition/_nmf.py:1641: ConvergenceWarning: Maximum number of iterations 1 reached. Increase it to improve convergence.\n",
      "  ConvergenceWarning,\n"
     ]
    },
    {
     "name": "stdout",
     "output_type": "stream",
     "text": [
      "Identifying predictive components for supervised network 0\n"
     ]
    },
    {
     "name": "stderr",
     "output_type": "stream",
     "text": [
      "100%|██████████| 30/30 [00:01<00:00, 15.75it/s]\n"
     ]
    },
    {
     "name": "stdout",
     "output_type": "stream",
     "text": [
      "Selecting network: 6 with auc 0.5307857756000905 for sup net 0 using constraint n/a correlation\n",
      "Identifying predictive components for supervised network 1\n"
     ]
    },
    {
     "name": "stderr",
     "output_type": "stream",
     "text": [
      "100%|██████████| 30/30 [00:01<00:00, 15.26it/s]\n"
     ]
    },
    {
     "name": "stdout",
     "output_type": "stream",
     "text": [
      "Selecting network: 19 with auc 0.5275098880527044 for sup net 1 using constraint n/a correlation\n",
      "Identifying predictive components for supervised network 2\n"
     ]
    },
    {
     "name": "stderr",
     "output_type": "stream",
     "text": [
      "100%|██████████| 30/30 [00:01<00:00, 15.69it/s]\n"
     ]
    },
    {
     "name": "stdout",
     "output_type": "stream",
     "text": [
      "Selecting network: 5 with auc 0.47499997938221195 for sup net 2 using constraint n/a correlation\n"
     ]
    },
    {
     "name": "stderr",
     "output_type": "stream",
     "text": [
      "Encoder Pretrain Epoch: 0, Recon Loss: 2.67394: 100%|██████████| 1/1 [00:03<00:00,  3.36s/it]\n"
     ]
    },
    {
     "name": "stdout",
     "output_type": "stream",
     "text": [
      "Beginning Training\n"
     ]
    },
    {
     "name": "stderr",
     "output_type": "stream",
     "text": [
      "Epoch: 0, Current Training MSE: 0.180901, Current Training by Window ROC-AUC: [0.514357274200375]: 100%|██████████| 1/1 [00:04<00:00,  4.56s/it]"
     ]
    },
    {
     "name": "stdout",
     "output_type": "stream",
     "text": [
      "Saving the last epoch with training MSE: 0.180901 and AUCs:[0.514357274200375]\n"
     ]
    },
    {
     "name": "stderr",
     "output_type": "stream",
     "text": [
      "\n"
     ]
    }
   ],
   "source": [
    "saved_model_path = \"/work/mk423/Anxiety/brainRegionPairModels/\"\n",
    "saved_model_name = \"demo_{}_{}_brainRegionPair_model_30_components.pt\"\n",
    "\n",
    "TRAIN = True\n",
    "n_components=30\n",
    "if TRAIN:\n",
    "    model = DcsfaNmf(\n",
    "        n_components=n_components,\n",
    "        n_sup_networks=3,\n",
    "        sup_type=\"sc\",\n",
    "        n_intercepts=intercept_mask.shape[1],\n",
    "        optim_name=\"SGD\",\n",
    "        recon_loss=\"MSE\",\n",
    "        save_folder=saved_model_path,\n",
    "    )\n",
    "\n",
    "    model.fit(mt_X_train,\n",
    "              mt_y_train,\n",
    "              intercept_mask=intercept_mask,\n",
    "              y_sample_groups=sample_groups,\n",
    "              batch_size=128,\n",
    "              lr=1e-3,\n",
    "              n_pre_epochs=1,\n",
    "              n_epochs=1,\n",
    "              nmf_max_iter=1,\n",
    "              nmf_groups=nmf_groups,\n",
    "              bootstrap=True,\n",
    "              pretrain=True,\n",
    "              verbose=True,\n",
    "              best_model_name=saved_model_name.format(filtered_combinations[brain_area_comb_idx][0],\n",
    "                                                      filtered_combinations[brain_area_comb_idx][1]))\n",
    "\n",
    "    torch.save(model,saved_model_path + saved_model_name.format(filtered_combinations[brain_area_comb_idx][0],\n",
    "                                                      filtered_combinations[brain_area_comb_idx][1]))\n",
    "else:\n",
    "    model = torch.load(saved_model_path + saved_model_name.format(currentFeature,n_components),map_location=\"cpu\")\n",
    "    model.device=\"cpu\""
   ]
  },
  {
   "cell_type": "code",
   "execution_count": 8,
   "id": "4178582a-634f-4ecc-9425-aecea2c7196c",
   "metadata": {},
   "outputs": [
    {
     "name": "stdout",
     "output_type": "stream",
     "text": [
      "FLX test auc: 0.519 +/- 0.011\n",
      "{'Mouse69061': [0.47915718863391404], 'Mouse78732': [0.5693263694970179], 'Mouse78743': [0.525877593495935], 'Mouse78745': [0.5118861459697651], 'Mouse78751': [0.5241407781775265], 'Mouse78764': [0.5065391108719723]}\n",
      "EPM test auc: 0.506 +/- 0.011\n",
      "{'Mouse0641': [0.45648734177215194], 'Mouse39115': [0.5342213732783754], 'Mouse39121': [0.5155287205021081], 'Mouse39122': [0.5230475690518495], 'Mouse39132': [0.5468587623996221], 'Mouse39135': [0.5249994270129037], 'Mouse6674': [0.5036476426799007], 'Mouse69061': [0.4789746106822542], 'Mouse69071': [0.5494694750178161], 'Mouse69075': [0.5067155449722187], 'Mouse8893': [0.4256101758109387]}\n",
      "OFT test auc: 0.541 +/- 0.013\n",
      "{'Mouse04203': [0.5184240899114508], 'Mouse39115': [0.4842671587423312], 'Mouse39121': [0.5445802866335185], 'Mouse39122': [0.5906135775205604], 'Mouse39132': [0.5867438979330131], 'Mouse39135': [0.48630557259998886], 'Mouse69061': [0.5167999426255961], 'Mouse69071': [0.5829657261343308], 'Mouse69075': [0.55633572319202]}\n",
      "regions ('Amy', 'Cg_Cx')\n"
     ]
    }
   ],
   "source": [
    "results_path = \"/hpc/home/mk423/Anxiety/FullDataWork/Validations/RegionPairs_Check/\"\n",
    "results_file = results_path + \"demo_{}_{}_brainRegionPair_model_30_components_results.pkl\"\n",
    "\n",
    "flx_X_test_regions = flx_X_test[flx_y_hab_test==1]\n",
    "flx_X_test_regions = flx_X_test_regions[:,brain_comb_idxs==1]\n",
    "flx_test_auc = model.score(flx_X_test_regions,\n",
    "                      flx_y_test[flx_y_hab_test==1].reshape(-1,1),\n",
    "                        flx_y_mouse_test[flx_y_hab_test==1],\n",
    "                        return_dict=True)\n",
    "\n",
    "flx_mean_test_auc = np.mean([flx_test_auc[key] for key in flx_test_auc.keys()])\n",
    "flx_stderr_test_auc = np.std([flx_test_auc[key] for key in flx_test_auc.keys()]) / np.sqrt(len(flx_test_auc.keys()))\n",
    "\n",
    "print(\"FLX test auc: {:.3f} +/- {:.3f}\".format(flx_mean_test_auc,flx_stderr_test_auc))\n",
    "print(flx_test_auc)\n",
    "\n",
    "epm_test_auc = model.score(X_test[:,brain_comb_idxs==1],\n",
    "                      y_in_task_mask_test.reshape(-1,1),\n",
    "                      y_mouse_test,\n",
    "                      return_dict=True)\n",
    "\n",
    "epm_mean_test_auc = np.mean([epm_test_auc[key] for key in epm_test_auc.keys()])\n",
    "epm_stderr_test_auc = np.std([epm_test_auc[key] for key in epm_test_auc.keys()]) / np.sqrt(len(epm_test_auc.keys()))\n",
    "\n",
    "print(\"EPM test auc: {:.3f} +/- {:.3f}\".format(epm_mean_test_auc,epm_stderr_test_auc))\n",
    "print(epm_test_auc)\n",
    "\n",
    "oft_test_auc = model.score(oft_X_test[:,brain_comb_idxs==1],\n",
    "                            oft_y_task_test.reshape(-1,1),\n",
    "                            oft_y_mouse_test,\n",
    "                            return_dict=True)\n",
    "\n",
    "oft_mean_test_auc = np.mean([oft_test_auc[key] for key in oft_test_auc.keys()])\n",
    "oft_stderr_test_auc = np.std([oft_test_auc[key] for key in oft_test_auc.keys()]) / np.sqrt(len(oft_test_auc.keys()))\n",
    "print(\"OFT test auc: {:.3f} +/- {:.3f}\".format(oft_mean_test_auc,oft_stderr_test_auc))\n",
    "print(oft_test_auc)\n",
    "\n",
    "s = model.project(mt_X_test)\n",
    "X_recon = model.reconstruct(mt_X_test)+ EPSILON\n",
    "perc_recon_list = []\n",
    "for i in range(3):\n",
    "    X_sup_recon = model.get_comp_recon(torch.Tensor(s).to(model.device),i) + EPSILON\n",
    "    net_recon_contribution = np.mean(X_sup_recon/X_recon,axis=0) \n",
    "    perc_recon_list.append(net_recon_contribution)\n",
    "\n",
    "results_dict = {\n",
    "    \"flx_auc\":flx_test_auc,\n",
    "    \"flx_mean_test_auc\":flx_mean_test_auc,\n",
    "    \"flx_stderr_test_auc\":flx_stderr_test_auc,\n",
    "\n",
    "    \"epm_auc\":epm_test_auc,\n",
    "    \"epm_mean_test_auc\":epm_mean_test_auc,\n",
    "    \"epm_stderr_test_auc\":epm_stderr_test_auc,\n",
    "\n",
    "    \"oft_auc\":oft_test_auc,\n",
    "    \"oft_mean_test_auc\":oft_mean_test_auc,\n",
    "    \"oft_stderr_test_auc\":oft_stderr_test_auc,\n",
    "\n",
    "    \"recon_hist\":model.recon_hist,\n",
    "    \"pred_hist\":model.pred_hist,\n",
    "    \"n_components\":n_components,\n",
    "    \"coefficients\":model.classifier[0].weight[0].detach().cpu().numpy(),\n",
    "    \"s_avg\":np.mean(s,axis=0)[:3],\n",
    "    \"regions\":(filtered_combinations[brain_area_comb_idx][0],filtered_combinations[brain_area_comb_idx][1]),\n",
    "}\n",
    "\n",
    "with open(results_file.format(filtered_combinations[brain_area_comb_idx][0],filtered_combinations[brain_area_comb_idx][1]),\"wb\") as f:\n",
    "    pickle.dump(results_dict,f)\n",
    "    \n",
    "print(\"regions\",results_dict[\"regions\"])"
   ]
  },
  {
   "cell_type": "code",
   "execution_count": 42,
   "id": "83f16619-1efd-424f-b148-275f5c3da375",
   "metadata": {},
   "outputs": [
    {
     "data": {
      "text/plain": [
       "[<matplotlib.lines.Line2D at 0x7f189ad04150>]"
      ]
     },
     "execution_count": 42,
     "metadata": {},
     "output_type": "execute_result"
    },
    {
     "data": {
      "image/png": "[encoded data removed]",
      "text/plain": [
       "<Figure size 432x288 with 1 Axes>"
      ]
     },
     "metadata": {
      "needs_background": "light"
     },
     "output_type": "display_data"
    }
   ],
   "source": [
    "plt.plot(model.recon_hist)"
   ]
  },
  {
   "cell_type": "code",
   "execution_count": 46,
   "id": "084b85e5-a9c2-4418-aa73-92910e1deb71",
   "metadata": {},
   "outputs": [
    {
     "name": "stderr",
     "output_type": "stream",
     "text": [
      "/opt/conda/lib/python3.7/site-packages/sklearn/decomposition/_nmf.py:294: FutureWarning: The 'init' value, when 'init=None' and n_components is less than n_samples and n_features, will be changed from 'nndsvd' to 'nndsvda' in 1.1 (renaming of 0.26).\n",
      "  FutureWarning,\n"
     ]
    },
    {
     "data": {
      "text/plain": [
       "NMF(max_iter=2000, n_components=30)"
      ]
     },
     "execution_count": 46,
     "metadata": {},
     "output_type": "execute_result"
    }
   ],
   "source": [
    "from sklearn.decomposition import NMF\n",
    "\n",
    "unsup_recon = NMF(n_components=30,max_iter=2000)\n",
    "unsup_recon.fit(mt_X_train)"
   ]
  },
  {
   "cell_type": "code",
   "execution_count": 47,
   "id": "d98ffe79-6a82-45c8-871e-686a722fedb7",
   "metadata": {},
   "outputs": [
    {
     "data": {
      "text/plain": [
       "275.80474298056134"
      ]
     },
     "execution_count": 47,
     "metadata": {},
     "output_type": "execute_result"
    }
   ],
   "source": [
    "unsup_recon.reconstruction_err_"
   ]
  },
  {
   "cell_type": "code",
   "execution_count": 52,
   "id": "bc5f856f-f885-4c8e-94ed-a0b330d4f152",
   "metadata": {},
   "outputs": [
    {
     "data": {
      "text/plain": [
       "(30, 280)"
      ]
     },
     "execution_count": 52,
     "metadata": {},
     "output_type": "execute_result"
    }
   ],
   "source": [
    "unsup_recon.components_.shape"
   ]
  },
  {
   "cell_type": "code",
   "execution_count": 55,
   "id": "97f7329e-1e58-40e5-bea0-a2e2f9f6941d",
   "metadata": {},
   "outputs": [
    {
     "data": {
      "text/plain": [
       "0.0038689160119302645"
      ]
     },
     "execution_count": 55,
     "metadata": {},
     "output_type": "execute_result"
    }
   ],
   "source": [
    "np.mean((mt_X_test - unsup_recon.transform(mt_X_test) @ unsup_recon.components_)**2)"
   ]
  },
  {
   "cell_type": "code",
   "execution_count": 57,
   "id": "4010dc3c-7abd-4f12-9bad-57c958d0cb48",
   "metadata": {},
   "outputs": [
    {
     "data": {
      "text/plain": [
       "0.06624955902726991"
      ]
     },
     "execution_count": 57,
     "metadata": {},
     "output_type": "execute_result"
    }
   ],
   "source": [
    "np.std(mt_X_train)**2"
   ]
  },
  {
   "cell_type": "code",
   "execution_count": null,
   "id": "45ffd66a-4866-4ebd-a4ba-2cabb76c30d2",
   "metadata": {},
   "outputs": [],
   "source": []
  }
 ],
 "metadata": {
  "kernelspec": {
   "display_name": "Python 3 (ipykernel)",
   "language": "python",
   "name": "python3"
  },
  "language_info": {
   "codemirror_mode": {
    "name": "ipython",
    "version": 3
   },
   "file_extension": ".py",
   "mimetype": "text/x-python",
   "name": "python",
   "nbconvert_exporter": "python",
   "pygments_lexer": "ipython3",
   "version": "3.7.13"
  }
 },
 "nbformat": 4,
 "nbformat_minor": 5
}

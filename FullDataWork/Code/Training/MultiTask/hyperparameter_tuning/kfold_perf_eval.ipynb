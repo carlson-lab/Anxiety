{
 "cells": [
  {
   "cell_type": "code",
   "execution_count": 14,
   "id": "fdda5d37-fa4d-4f49-a70f-8194dcc36e48",
   "metadata": {},
   "outputs": [],
   "source": [
    "import torch\n",
    "import numpy as np\n",
    "import pickle\n",
    "from lpne.models import DcsfaNmf\n",
    "from lpne.plotting import circle_plot\n",
    "from sklearn.preprocessing import OneHotEncoder, OrdinalEncoder\n",
    "from PIL import Image\n",
    "import matplotlib.pyplot as plt\n",
    "import os, sys\n",
    "\n",
    "umc_data_tools_path = \"/hpc/home/mk423/Anxiety/Universal-Mouse-Code/\"\n",
    "sys.path.append(umc_data_tools_path)\n",
    "import umc_data_tools as umc_dt\n",
    "\n",
    "N_COMPONENTS=30\n",
    "\n",
    "#fold = int(os.environ['SLURM_ARRAY_TASK_ID'])\n",
    "fold = 1\n",
    "flx_data_path = \"/work/mk423/Anxiety/flx_kf_dict_fold_{}.pkl\".format(fold)\n",
    "epm_data_path = \"/work/mk423/Anxiety/epm_kf_dict_fold_{}.pkl\".format(fold)\n",
    "oft_data_path = \"/work/mk423/Anxiety/oft_kf_dict_fold_{}.pkl\".format(fold)\n",
    "anx_info_dict = \"/work/mk423/Anxiety/Anx_Info_Dict.pkl\"\n",
    "\n",
    "saved_model_path = \"/work/mk423/Anxiety/kfold_models/\"\n",
    "saved_model_name = \"try_3_kf_fold_{}_model.pt\".format(fold)\n",
    "\n",
    "results_path = \"/hpc/home/mk423/Anxiety/FullDataWork/Validations/\"\n",
    "results_file = results_path + \"try_3_fold_{}_results.pkl\".format(fold)\n",
    "\n",
    "projection_save_path = \"/hpc/home/mk423/Anxiety/FullDataWork/Projections/\"\n",
    "plots_path = \"/hpc/home/mk423/Anxiety/FullDataWork/Figures/\"\n",
    "\n",
    "def reshapeData(X_psd,X_coh,n_rois,n_freqs,pow_features,coh_features,areas):\n",
    "    X_3d = np.zeros((n_rois,n_rois,n_freqs))\n",
    "    \n",
    "    for i in range(n_rois):\n",
    "        X_3d[i,i,:] = X_psd[i*n_freqs:(i+1)*n_freqs]\n",
    "        \n",
    "    \n",
    "    split_coh_features = np.array([feature.split(' ')[0] for feature in coh_features])\n",
    "    #print(split_coh_features)\n",
    "    unique_coh_features = np.unique(split_coh_features)\n",
    "    for i in range(n_rois):\n",
    "        for j in range(n_rois):\n",
    "            if i != j:\n",
    "                area_1 = areas[i]\n",
    "                area_2 = areas[j]\n",
    "                temp_feature = area_1 + \"-\" + area_2\n",
    "                temp_feature_2 = area_2 + \"-\" + area_1\n",
    "                if temp_feature in unique_coh_features:\n",
    "                    feature_mask = np.where(split_coh_features==temp_feature,True,False)\n",
    "                    X_3d[i,j,:] = X_coh[feature_mask==1]\n",
    "                    X_3d[j,i,:] = X_coh[feature_mask==1]\n",
    "\n",
    "                elif temp_feature_2 in unique_coh_features:\n",
    "                    feature_mask = np.where(split_coh_features==temp_feature_2,1,0)\n",
    "                    X_3d[i,j,:] = X_coh[feature_mask==1]\n",
    "                    X_3d[j,i,:] = X_coh[feature_mask==1]\n",
    "\n",
    "                else:\n",
    "                    print(\"temp_feature: {} not found\".format(temp_feature))\n",
    "\n",
    "    return X_3d\n",
    "\n",
    "with open(flx_data_path,\"rb\") as f:\n",
    "    flx_dict = pickle.load(f)\n",
    "    \n",
    "with open(epm_data_path,\"rb\") as f:\n",
    "    epm_dict = pickle.load(f)\n",
    "    \n",
    "with open(oft_data_path,\"rb\") as f:\n",
    "    oft_dict = pickle.load(f)\n",
    "    \n",
    "with open(anx_info_dict,\"rb\") as f:\n",
    "    info_dict = pickle.load(f)\n",
    "    \n",
    "feature_groups = [(0,len(info_dict[\"powerFeatures\"])),\n",
    "                   (len(info_dict[\"powerFeatures\"]),len(info_dict[\"powerFeatures\"])+len(info_dict[\"cohFeatures\"])),\n",
    "                   (len(info_dict[\"powerFeatures\"])+len(info_dict[\"cohFeatures\"]),\n",
    "                    len(info_dict[\"powerFeatures\"])+len(info_dict[\"cohFeatures\"])+len(info_dict[\"gcFeatures\"]))]\n",
    "                   \n",
    "mt_X_train = np.vstack([flx_dict[\"X_train\"],epm_dict[\"X_train\"],oft_dict[\"X_train\"]])\n",
    "mt_y_train = np.hstack([flx_dict[\"y_train\"],epm_dict[\"y_train\"],oft_dict[\"y_train\"]]).reshape(-1,1)\n",
    "mt_y_mouse_train = np.hstack([flx_dict[\"y_mouse_train\"],epm_dict[\"y_mouse_train\"],oft_dict[\"y_mouse_train\"]])\n",
    "\n",
    "intercept_mask = OneHotEncoder().fit_transform(mt_y_mouse_train.reshape(-1,1)).todense()\n",
    "sample_groups = OrdinalEncoder().fit_transform(mt_y_mouse_train.reshape(-1,1))\n",
    "\n",
    "mt_X_val = np.vstack([flx_dict[\"X_val\"],epm_dict[\"X_val\"],oft_dict[\"X_val\"]])\n",
    "mt_y_val = np.hstack([flx_dict[\"y_val\"],epm_dict[\"y_val\"],oft_dict[\"y_val\"]]).reshape(-1,1)\n",
    "mt_y_mouse_val = np.hstack([flx_dict[\"y_mouse_val\"],epm_dict[\"y_mouse_val\"],oft_dict[\"y_mouse_val\"]])\n",
    "\n",
    "TRAIN = False\n",
    "if TRAIN:\n",
    "    model = DcsfaNmf(\n",
    "        n_components=N_COMPONENTS,\n",
    "        n_intercepts=intercept_mask.shape[1],\n",
    "        optim_name=\"SGD\",\n",
    "        recon_loss=\"MSE\",\n",
    "        feature_groups=feature_groups,\n",
    "        fixed_corr=[\"positive\"],\n",
    "        save_folder=saved_model_path,\n",
    "    )\n",
    "\n",
    "    model.fit(mt_X_train,\n",
    "              mt_y_train,\n",
    "              intercept_mask=intercept_mask,\n",
    "              y_sample_groups=sample_groups,\n",
    "              batch_size=128,\n",
    "              lr=1e-3,\n",
    "              n_pre_epochs=1000,\n",
    "              n_epochs=3000,\n",
    "              nmf_max_iter=3000,\n",
    "              pretrain=True,\n",
    "              verbose=True,\n",
    "              best_model_name=saved_model_name)\n",
    "\n",
    "    torch.save(model,saved_model_path + saved_model_name)\n",
    "else:\n",
    "    model = torch.load(saved_model_path + saved_model_name)\n"
   ]
  },
  {
   "cell_type": "code",
   "execution_count": 15,
   "id": "26f01555-7aeb-4cda-a9f5-a219627b36bc",
   "metadata": {},
   "outputs": [],
   "source": [
    "#Multitask Performance\n",
    "mt_train_auc = model.score(mt_X_train,mt_y_train)\n",
    "mt_val_auc = model.score(mt_X_val,mt_y_val)\n",
    "\n",
    "#FLX Performance\n",
    "flx_train_auc = model.score(flx_dict[\"X_train\"],flx_dict[\"y_train\"].reshape(-1,1),\n",
    "                           flx_dict['y_mouse_train'],return_dict=True)\n",
    "flx_val_auc = model.score(flx_dict[\"X_val\"],flx_dict[\"y_val\"].reshape(-1,1),\n",
    "                          flx_dict[\"y_mouse_val\"],return_dict=True)\n",
    "\n",
    "#EPM Performance\n",
    "epm_train_auc = model.score(epm_dict[\"X_train\"],epm_dict[\"y_train\"].reshape(-1,1),\n",
    "                           epm_dict[\"y_mouse_train\"],return_dict=True)\n",
    "epm_val_auc = model.score(epm_dict[\"X_val\"],epm_dict[\"y_val\"].reshape(-1,1),\n",
    "                          epm_dict[\"y_mouse_val\"],return_dict=True)\n",
    "\n",
    "#OFT Performance\n",
    "oft_train_auc = model.score(oft_dict[\"X_train\"],oft_dict[\"y_train\"].reshape(-1,1),oft_dict['y_mouse_train'],return_dict=True)\n",
    "oft_val_auc = model.score(oft_dict[\"X_val\"],oft_dict[\"y_val\"].reshape(-1,1),oft_dict['y_mouse_val'],return_dict=True)\n",
    "\n",
    "s = model.project(mt_X_val)\n",
    "X_sup_recon = model.get_comp_recon(torch.Tensor(s).to(\"cuda\"),0)\n",
    "X_recon = model.reconstruct(mt_X_val)\n",
    "\n",
    "recon_contribution = np.mean(X_sup_recon/X_recon,axis=0)\n",
    "rec_psd = recon_contribution[:len(info_dict[\"powerFeatures\"])]\n",
    "rec_coh = recon_contribution[len(info_dict[\"powerFeatures\"]):(len(info_dict[\"powerFeatures\"]) + len(info_dict[\"cohFeatures\"]))]\n",
    "rec_3d = reshapeData(rec_psd,rec_coh,8,56,info_dict[\"powerFeatures\"],info_dict[\"cohFeatures\"],info_dict[\"area\"])\n",
    "\n",
    "#circle_plot(rec_3d,info_dict[\"area\"],freqs=np.arange(56),freq_ticks=np.arange(0,56,5),\n",
    "#            min_max_quantiles=(0.85,0.9999),fn=plots_path + \"fold_{}_electome.png\".format(fold))\n",
    "\n",
    "#umc_dt.makeUpperTriangularPlot_pow_coh_gc(recon_contribution.reshape(1,-1),info_dict[\"area\"],info_dict[\"powerFeatures\"],\n",
    "#                                          info_dict[\"cohFeatures\"],info_dict[\"gcFeatures\"],\n",
    "#                                          saveFile=plots_path + \"fold_{}_uptri.png\".format(fold))\n",
    "\n",
    "results_dict = {\n",
    "    \"flx_train_auc\":flx_train_auc,\n",
    "    \"flx_val_auc\":flx_val_auc,\n",
    "    \"epm_train_auc\":epm_train_auc,\n",
    "    \"epm_val_auc\":epm_val_auc,\n",
    "    \"oft_train_auc\":oft_train_auc,\n",
    "    \"oft_val_auc\":oft_val_auc,\n",
    "    \"recon_cont\":recon_contribution,\n",
    "}\n",
    "\n",
    "#with open(results_file,\"wb\") as f:\n",
    "#    pickle.dump(results_dict,f)"
   ]
  },
  {
   "cell_type": "code",
   "execution_count": 25,
   "id": "708483f3-1818-4893-a00e-05bf11a0679b",
   "metadata": {},
   "outputs": [
    {
     "data": {
      "text/plain": [
       "{'Mouse04191': [0.5343522945450438],\n",
       " 'Mouse04193': [0.728167058965538],\n",
       " 'Mouse04201': [0.8114579239880986],\n",
       " 'Mouse04202': [0.6981465674917693]}"
      ]
     },
     "execution_count": 25,
     "metadata": {},
     "output_type": "execute_result"
    }
   ],
   "source": [
    "oft_val_auc"
   ]
  },
  {
   "cell_type": "code",
   "execution_count": 9,
   "id": "0fcc79da-ccd3-4e92-9ace-9b0f00c5cdbb",
   "metadata": {},
   "outputs": [
    {
     "ename": "ValueError",
     "evalue": "need at least one array to concatenate",
     "output_type": "error",
     "traceback": [
      "\u001b[0;31m---------------------------------------------------------------------------\u001b[0m",
      "\u001b[0;31mValueError\u001b[0m                                Traceback (most recent call last)",
      "\u001b[0;32m/tmp/ipykernel_888560/2164518369.py\u001b[0m in \u001b[0;36m<module>\u001b[0;34m\u001b[0m\n\u001b[1;32m      1\u001b[0m model.score(flx_dict[\"X_val\"],flx_dict[\"y_val\"].reshape(-1,1),\n\u001b[0;32m----> 2\u001b[0;31m                           flx_dict[\"y_mouse_val\"],return_dict=False)\n\u001b[0m",
      "\u001b[0;32m~/.local/lib/python3.7/site-packages/lpne/models/dcsfa_nmf.py\u001b[0m in \u001b[0;36mscore\u001b[0;34m(self, X, y, groups, return_dict)\u001b[0m\n\u001b[1;32m    965\u001b[0m                 \u001b[0mscore_results\u001b[0m \u001b[0;34m=\u001b[0m \u001b[0mauc_dict\u001b[0m\u001b[0;34m\u001b[0m\u001b[0;34m\u001b[0m\u001b[0m\n\u001b[1;32m    966\u001b[0m             \u001b[0;32melse\u001b[0m\u001b[0;34m:\u001b[0m\u001b[0;34m\u001b[0m\u001b[0;34m\u001b[0m\u001b[0m\n\u001b[0;32m--> 967\u001b[0;31m                 \u001b[0mauc_array\u001b[0m \u001b[0;34m=\u001b[0m \u001b[0mnp\u001b[0m\u001b[0;34m.\u001b[0m\u001b[0mvstack\u001b[0m\u001b[0;34m(\u001b[0m\u001b[0;34m[\u001b[0m\u001b[0mauc_dict\u001b[0m\u001b[0;34m[\u001b[0m\u001b[0mkey\u001b[0m\u001b[0;34m]\u001b[0m \u001b[0;32mfor\u001b[0m \u001b[0mkey\u001b[0m \u001b[0;32min\u001b[0m \u001b[0mnp\u001b[0m\u001b[0;34m.\u001b[0m\u001b[0munique\u001b[0m\u001b[0;34m(\u001b[0m\u001b[0mgroups\u001b[0m\u001b[0;34m)\u001b[0m\u001b[0;34m]\u001b[0m\u001b[0;34m)\u001b[0m\u001b[0;34m\u001b[0m\u001b[0;34m\u001b[0m\u001b[0m\n\u001b[0m\u001b[1;32m    968\u001b[0m                 \u001b[0mscore_results\u001b[0m \u001b[0;34m=\u001b[0m \u001b[0mnp\u001b[0m\u001b[0;34m.\u001b[0m\u001b[0mmean\u001b[0m\u001b[0;34m(\u001b[0m\u001b[0mauc_array\u001b[0m\u001b[0;34m,\u001b[0m \u001b[0maxis\u001b[0m\u001b[0;34m=\u001b[0m\u001b[0;36m0\u001b[0m\u001b[0;34m)\u001b[0m\u001b[0;34m\u001b[0m\u001b[0;34m\u001b[0m\u001b[0m\n\u001b[1;32m    969\u001b[0m         \u001b[0;32melse\u001b[0m\u001b[0;34m:\u001b[0m\u001b[0;34m\u001b[0m\u001b[0;34m\u001b[0m\u001b[0m\n",
      "\u001b[0;32m<__array_function__ internals>\u001b[0m in \u001b[0;36mvstack\u001b[0;34m(*args, **kwargs)\u001b[0m\n",
      "\u001b[0;32m/opt/conda/lib/python3.7/site-packages/numpy/core/shape_base.py\u001b[0m in \u001b[0;36mvstack\u001b[0;34m(tup)\u001b[0m\n\u001b[1;32m    280\u001b[0m     \u001b[0;32mif\u001b[0m \u001b[0;32mnot\u001b[0m \u001b[0misinstance\u001b[0m\u001b[0;34m(\u001b[0m\u001b[0marrs\u001b[0m\u001b[0;34m,\u001b[0m \u001b[0mlist\u001b[0m\u001b[0;34m)\u001b[0m\u001b[0;34m:\u001b[0m\u001b[0;34m\u001b[0m\u001b[0;34m\u001b[0m\u001b[0m\n\u001b[1;32m    281\u001b[0m         \u001b[0marrs\u001b[0m \u001b[0;34m=\u001b[0m \u001b[0;34m[\u001b[0m\u001b[0marrs\u001b[0m\u001b[0;34m]\u001b[0m\u001b[0;34m\u001b[0m\u001b[0;34m\u001b[0m\u001b[0m\n\u001b[0;32m--> 282\u001b[0;31m     \u001b[0;32mreturn\u001b[0m \u001b[0m_nx\u001b[0m\u001b[0;34m.\u001b[0m\u001b[0mconcatenate\u001b[0m\u001b[0;34m(\u001b[0m\u001b[0marrs\u001b[0m\u001b[0;34m,\u001b[0m \u001b[0;36m0\u001b[0m\u001b[0;34m)\u001b[0m\u001b[0;34m\u001b[0m\u001b[0;34m\u001b[0m\u001b[0m\n\u001b[0m\u001b[1;32m    283\u001b[0m \u001b[0;34m\u001b[0m\u001b[0m\n\u001b[1;32m    284\u001b[0m \u001b[0;34m\u001b[0m\u001b[0m\n",
      "\u001b[0;32m<__array_function__ internals>\u001b[0m in \u001b[0;36mconcatenate\u001b[0;34m(*args, **kwargs)\u001b[0m\n",
      "\u001b[0;31mValueError\u001b[0m: need at least one array to concatenate"
     ]
    }
   ],
   "source": [
    "model.score(flx_dict[\"X_val\"],flx_dict[\"y_val\"].reshape(-1,1),\n",
    "                          flx_dict[\"y_mouse_val\"],return_dict=False)"
   ]
  },
  {
   "cell_type": "code",
   "execution_count": 37,
   "id": "0aa7a199-4845-4192-a588-6250a9734a4f",
   "metadata": {},
   "outputs": [
    {
     "data": {
      "image/png": "[encoded data removed]",
      "text/plain": [
       "<Figure size 432x288 with 1 Axes>"
      ]
     },
     "metadata": {
      "needs_background": "light"
     },
     "output_type": "display_data"
    }
   ],
   "source": [
    "import matplotlib.pyplot as plt\n",
    "plt.plot(model.recon_hist)\n",
    "plt.show()"
   ]
  },
  {
   "cell_type": "code",
   "execution_count": 10,
   "id": "607a934b-ccb8-4646-8722-61319e74c4d1",
   "metadata": {},
   "outputs": [
    {
     "data": {
      "text/plain": [
       "(0, 5152)"
      ]
     },
     "execution_count": 10,
     "metadata": {},
     "output_type": "execute_result"
    }
   ],
   "source": [
    "flx_dict[\"X_val\"].shape"
   ]
  },
  {
   "cell_type": "code",
   "execution_count": null,
   "id": "ffd339ed-2845-42b5-954b-c6fd8154473f",
   "metadata": {},
   "outputs": [],
   "source": []
  }
 ],
 "metadata": {
  "kernelspec": {
   "display_name": "Python 3 (ipykernel)",
   "language": "python",
   "name": "python3"
  },
  "language_info": {
   "codemirror_mode": {
    "name": "ipython",
    "version": 3
   },
   "file_extension": ".py",
   "mimetype": "text/x-python",
   "name": "python",
   "nbconvert_exporter": "python",
   "pygments_lexer": "ipython3",
   "version": "3.7.13"
  }
 },
 "nbformat": 4,
 "nbformat_minor": 5
}

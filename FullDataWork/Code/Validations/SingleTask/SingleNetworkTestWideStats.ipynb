{
 "cells": [
  {
   "cell_type": "code",
   "execution_count": 3,
   "id": "1afd0155-dafc-40e1-b7b5-05f609f5dbfc",
   "metadata": {},
   "outputs": [],
   "source": [
    "import pandas as pd\n",
    "from scipy.stats import ttest_1samp\n",
    "import numpy as np\n",
    "\n",
    "EPM_df = pd.read_csv(\"EPM_SingleTask_kf_results.csv\")\n",
    "OFT_df = pd.read_csv(\"OFT_SingleTask_kf_results.csv\")\n",
    "FLX_df = pd.read_csv(\"FLX_SingleTask_kf_results.csv\")"
   ]
  },
  {
   "cell_type": "markdown",
   "id": "c2b44eaf-093d-4d81-b12c-3511bf9c8f5e",
   "metadata": {},
   "source": [
    "## EPM"
   ]
  },
  {
   "cell_type": "code",
   "execution_count": 18,
   "id": "5446b73b-60d1-473f-915e-b9e349dd37d9",
   "metadata": {},
   "outputs": [
    {
     "name": "stdout",
     "output_type": "stream",
     "text": [
      "\n",
      "Prediction (mean auc) +/- (stderr)\n",
      "EPM 0.743 +/- 0.007, \n",
      "OFT 0.776 +/- 0.004, \n",
      "FLX 0.496 +/- 0.005\n",
      "\n",
      "Statistics (t stat, pvalue)\n",
      "EPM 29.088, 0.000 \n",
      "OFT 62.645, 0.000 \n",
      "FLX -0.701, 0.733\n"
     ]
    }
   ],
   "source": [
    "EPM_mean_aucs = []\n",
    "OFT_mean_aucs = []\n",
    "FLX_mean_aucs = []\n",
    "\n",
    "for fold in range(4):\n",
    "    EPM_mean_aucs.append(np.nanmean(EPM_df[\"epm-auc-fold-{}\".format(fold)]))\n",
    "    OFT_mean_aucs.append(np.nanmean(EPM_df[\"oft-auc-fold-{}\".format(fold)]))\n",
    "    FLX_mean_aucs.append(np.nanmean(EPM_df[\"flx-auc-fold-{}\".format(fold)]))\n",
    "    \n",
    "\n",
    "print(\"\\nPrediction (mean auc) +/- (stderr)\")\n",
    "print(\"EPM {:.3f} +/- {:.3f}, \\nOFT {:.3f} +/- {:.3f}, \\nFLX {:.3f} +/- {:.3f}\".format(np.mean(EPM_mean_aucs),np.std(EPM_mean_aucs)/2,\n",
    "                                                           np.mean(OFT_mean_aucs),np.std(OFT_mean_aucs)/2,\n",
    "                                                           np.mean(FLX_mean_aucs),np.std(FLX_mean_aucs)/2))\n",
    "\n",
    "print(\"\\nStatistics (t stat, pvalue)\")\n",
    "print(\"EPM {:.3f}, {:.3f} \\nOFT {:.3f}, {:.3f} \\nFLX {:.3f}, {:.3f}\".format(ttest_1samp(EPM_mean_aucs,0.5,alternative=\"greater\").statistic,ttest_1samp(EPM_mean_aucs,0.5,alternative=\"greater\").pvalue,\n",
    "                                                                            ttest_1samp(OFT_mean_aucs,0.5,alternative=\"greater\").statistic,ttest_1samp(OFT_mean_aucs,0.5,alternative=\"greater\").pvalue,\n",
    "                                                                            ttest_1samp(FLX_mean_aucs,0.5,alternative=\"greater\").statistic,ttest_1samp(FLX_mean_aucs,0.5,alternative=\"greater\").pvalue,))"
   ]
  },
  {
   "cell_type": "markdown",
   "id": "f6f35e0e-cf14-4999-8387-2b62cc8a2c50",
   "metadata": {},
   "source": [
    "## OFT"
   ]
  },
  {
   "cell_type": "code",
   "execution_count": 19,
   "id": "baa7d324-195a-4591-8a05-18f9e3e5684b",
   "metadata": {},
   "outputs": [
    {
     "name": "stdout",
     "output_type": "stream",
     "text": [
      "\n",
      "Prediction (mean auc) +/- (stderr)\n",
      "EPM 0.662 +/- 0.003, \n",
      "OFT 0.755 +/- 0.007, \n",
      "FLX 0.513 +/- 0.011\n",
      "\n",
      "Statistics (t stat, pvalue)\n",
      "EPM 48.038, 0.000 \n",
      "OFT 30.008, 0.000 \n",
      "FLX 1.005, 0.195\n"
     ]
    }
   ],
   "source": [
    "EPM_mean_aucs = []\n",
    "OFT_mean_aucs = []\n",
    "FLX_mean_aucs = []\n",
    "\n",
    "for fold in range(4):\n",
    "    EPM_mean_aucs.append(np.nanmean(OFT_df[\"epm-auc-fold-{}\".format(fold)]))\n",
    "    OFT_mean_aucs.append(np.nanmean(OFT_df[\"oft-auc-fold-{}\".format(fold)]))\n",
    "    FLX_mean_aucs.append(np.nanmean(OFT_df[\"flx-auc-fold-{}\".format(fold)]))\n",
    "    \n",
    "\n",
    "print(\"\\nPrediction (mean auc) +/- (stderr)\")\n",
    "print(\"EPM {:.3f} +/- {:.3f}, \\nOFT {:.3f} +/- {:.3f}, \\nFLX {:.3f} +/- {:.3f}\".format(np.mean(EPM_mean_aucs),np.std(EPM_mean_aucs)/2,\n",
    "                                                           np.mean(OFT_mean_aucs),np.std(OFT_mean_aucs)/2,\n",
    "                                                           np.mean(FLX_mean_aucs),np.std(FLX_mean_aucs)/2))\n",
    "\n",
    "print(\"\\nStatistics (t stat, pvalue)\")\n",
    "print(\"EPM {:.3f}, {:.3f} \\nOFT {:.3f}, {:.3f} \\nFLX {:.3f}, {:.3f}\".format(ttest_1samp(EPM_mean_aucs,0.5,alternative=\"greater\").statistic,ttest_1samp(EPM_mean_aucs,0.5,alternative=\"greater\").pvalue,\n",
    "                                                                            ttest_1samp(OFT_mean_aucs,0.5,alternative=\"greater\").statistic,ttest_1samp(OFT_mean_aucs,0.5,alternative=\"greater\").pvalue,\n",
    "                                                                            ttest_1samp(FLX_mean_aucs,0.5,alternative=\"greater\").statistic,ttest_1samp(FLX_mean_aucs,0.5,alternative=\"greater\").pvalue,))"
   ]
  },
  {
   "cell_type": "markdown",
   "id": "f59136b6-2688-43cb-aebb-11bb0ee1af83",
   "metadata": {},
   "source": [
    "## FLX"
   ]
  },
  {
   "cell_type": "code",
   "execution_count": 21,
   "id": "d6b85ec9-78ac-4073-ab3f-89bb568a647d",
   "metadata": {},
   "outputs": [
    {
     "name": "stdout",
     "output_type": "stream",
     "text": [
      "\n",
      "Prediction (mean auc) +/- (stderr)\n",
      "EPM 0.489 +/- 0.006, \n",
      "OFT 0.437 +/- 0.013, \n",
      "FLX 0.680 +/- 0.010\n",
      "\n",
      "FLX Statistics (t stat, pvalue)\n",
      "EPM -1.516, 0.887 \n",
      "OFT -4.196, 0.988 \n",
      "FLX 15.678, 0.000\n"
     ]
    }
   ],
   "source": [
    "EPM_mean_aucs = []\n",
    "OFT_mean_aucs = []\n",
    "FLX_mean_aucs = []\n",
    "\n",
    "for fold in range(4):\n",
    "    EPM_mean_aucs.append(np.nanmean(FLX_df[\"epm-auc-fold-{}\".format(fold)]))\n",
    "    OFT_mean_aucs.append(np.nanmean(FLX_df[\"oft-auc-fold-{}\".format(fold)]))\n",
    "    FLX_mean_aucs.append(np.nanmean(FLX_df[\"flx-auc-fold-{}\".format(fold)]))\n",
    "    \n",
    "\n",
    "print(\"\\nPrediction (mean auc) +/- (stderr)\")\n",
    "print(\"EPM {:.3f} +/- {:.3f}, \\nOFT {:.3f} +/- {:.3f}, \\nFLX {:.3f} +/- {:.3f}\".format(np.mean(EPM_mean_aucs),np.std(EPM_mean_aucs)/2,\n",
    "                                                           np.mean(OFT_mean_aucs),np.std(OFT_mean_aucs)/2,\n",
    "                                                           np.mean(FLX_mean_aucs),np.std(FLX_mean_aucs)/2))\n",
    "\n",
    "print(\"\\nFLX Statistics (t stat, pvalue)\")\n",
    "print(\"EPM {:.3f}, {:.3f} \\nOFT {:.3f}, {:.3f} \\nFLX {:.3f}, {:.3f}\".format(ttest_1samp(EPM_mean_aucs,0.5,alternative=\"greater\").statistic,ttest_1samp(EPM_mean_aucs,0.5,alternative=\"greater\").pvalue,\n",
    "                                                                            ttest_1samp(OFT_mean_aucs,0.5,alternative=\"greater\").statistic,ttest_1samp(OFT_mean_aucs,0.5,alternative=\"greater\").pvalue,\n",
    "                                                                            ttest_1samp(FLX_mean_aucs,0.5,alternative=\"greater\").statistic,ttest_1samp(FLX_mean_aucs,0.5,alternative=\"greater\").pvalue,))"
   ]
  },
  {
   "cell_type": "code",
   "execution_count": null,
   "id": "7d54141b-f068-48ee-b12a-1a87272edc4a",
   "metadata": {},
   "outputs": [],
   "source": []
  }
 ],
 "metadata": {
  "kernelspec": {
   "display_name": "Python 3 (ipykernel)",
   "language": "python",
   "name": "python3"
  },
  "language_info": {
   "codemirror_mode": {
    "name": "ipython",
    "version": 3
   },
   "file_extension": ".py",
   "mimetype": "text/x-python",
   "name": "python",
   "nbconvert_exporter": "python",
   "pygments_lexer": "ipython3",
   "version": "3.7.13"
  }
 },
 "nbformat": 4,
 "nbformat_minor": 5
}

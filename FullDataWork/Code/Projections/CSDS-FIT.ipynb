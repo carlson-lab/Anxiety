{
 "cells": [
  {
   "cell_type": "code",
   "execution_count": 1,
   "id": "7589c556-e2b8-4149-8e93-64688b1fee25",
   "metadata": {},
   "outputs": [
    {
     "name": "stderr",
     "output_type": "stream",
     "text": [
      "/opt/conda/lib/python3.7/site-packages/tqdm/auto.py:22: TqdmWarning: IProgress not found. Please update jupyter and ipywidgets. See https://ipywidgets.readthedocs.io/en/stable/user_install.html\n",
      "  from .autonotebook import tqdm as notebook_tqdm\n",
      "/hpc/home/mk423/.local/lib/python3.7/site-packages/lpne/pipelines/__init__.py:14: UserWarning: Could not load lpne/pipelines/default_params.yaml!\n",
      "  warnings.warn(\"Could not load lpne/pipelines/default_params.yaml!\")\n"
     ]
    }
   ],
   "source": [
    "import numpy as np\n",
    "import pandas as pd\n",
    "import torch\n",
    "import pickle\n",
    "import matplotlib.pyplot as plt\n",
    "from lpne.models import DcsfaNmf\n",
    "import os, sys\n",
    "\n",
    "MODEL_FILE = \"/hpc/home/mk423/Anxiety/FullDataWork/Models/Final_mt_Model_500_epochs.pt\"\n",
    "DATA_PATH = \"/work/mk423/csds-fit/\"\n",
    "PROJECT_PATH = \"/hpc/home/mk423/Anxiety/FullDataWork/Projections/\"\n",
    "FIGURE_PATH = \"/hpc/home/mk423/Anxiety/FullDataWork/Figures/\"\n",
    "LPNE_PATH = \"/hpc/home/mk423/Anxiety/FullDataWork/Preprocessing/lpne-data-analysis/\"\n",
    "\n",
    "model = torch.load(MODEL_FILE,map_location=\"cpu\")\n",
    "model.device=\"cpu\"\n",
    "\n",
    "sys.path.append(LPNE_PATH)\n",
    "\n",
    "import data_tools"
   ]
  },
  {
   "cell_type": "markdown",
   "id": "fc1da982-6cf5-49d1-87a2-7abb9d8f7486",
   "metadata": {},
   "source": [
    "## Load Data"
   ]
  },
  {
   "cell_type": "code",
   "execution_count": null,
   "id": "4fd66615-0633-4ef7-bb37-e14c313ad18c",
   "metadata": {},
   "outputs": [],
   "source": [
    "X_psd, X_coh, X_gc, labels = data_tools.load_data(DATA_PATH + \"csds_INT_TIME_fit.mat\",\n",
    "                                                  feature_list = [\"power\",\"coherence\",\"granger\"])"
   ]
  },
  {
   "cell_type": "markdown",
   "id": "19fcc210-2852-4edc-a46f-adf542caa828",
   "metadata": {},
   "source": [
    "## Combine into common structure to experiment"
   ]
  },
  {
   "cell_type": "code",
   "execution_count": 6,
   "id": "e5f4df9f-e926-40a4-aa4f-f985f03c9f33",
   "metadata": {},
   "outputs": [
    {
     "data": {
      "text/plain": [
       "'saveFeatures_1.2'"
      ]
     },
     "execution_count": 6,
     "metadata": {},
     "output_type": "execute_result"
    }
   ],
   "source": [
    "X_psd, X_coh, X_gc, labels = data_tools.load_data(DATA_PATH + \"csds_INT_TIME_fit.mat\",\n",
    "                                                  feature_list = [\"power\",\"coherence\",\"granger\"])"
   ]
  },
  {
   "cell_type": "code",
   "execution_count": 3,
   "id": "f50b7abd-a310-4ac5-8c5d-b0a51ad165da",
   "metadata": {},
   "outputs": [
    {
     "data": {
      "text/plain": [
       "(50,)"
      ]
     },
     "execution_count": 3,
     "metadata": {},
     "output_type": "execute_result"
    }
   ],
   "source": [
    "np.unique(labels['windows']['mouse']).shape"
   ]
  },
  {
   "cell_type": "code",
   "execution_count": 3,
   "id": "df1bf3af-90c6-45f1-9e66-98d457ae14c4",
   "metadata": {},
   "outputs": [
    {
     "data": {
      "text/plain": [
       "dict_keys(['mouse', 'expDate', 'time', 'interval'])"
      ]
     },
     "execution_count": 3,
     "metadata": {},
     "output_type": "execute_result"
    }
   ],
   "source": [
    "labels['windows'].keys()"
   ]
  },
  {
   "cell_type": "code",
   "execution_count": 5,
   "id": "494044be-7192-4433-9d0d-bbfcba4e10a0",
   "metadata": {},
   "outputs": [],
   "source": [
    "dataDict = {\n",
    "    \"X_psd\":X_psd,\n",
    "    \"X_coh\":X_coh,\n",
    "    \"X_gc\":X_gc,\n",
    "    \"y_mouse\":np.array(labels['windows']['mouse']),\n",
    "    \"y_expDate\":np.array(labels['windows']['expDate']),\n",
    "    \"y_time\":np.array(labels['windows']['time']),\n",
    "    \"y_interval\":np.array(labels['windows']['interval']),\n",
    "    \"labels\":labels\n",
    "}\n",
    "\n",
    "#with open(DATA_PATH + \"csds_fit_data.pkl\",\"wb\") as f:\n",
    "#    pickle.dump(dataDict,f,protocol=4)"
   ]
  },
  {
   "cell_type": "markdown",
   "id": "cc983f6f-5212-4f8f-aeae-1a707e2f4f13",
   "metadata": {},
   "source": [
    "### Project"
   ]
  },
  {
   "cell_type": "code",
   "execution_count": 6,
   "id": "e26f5503-2a10-4086-ac4d-5d1af7531884",
   "metadata": {},
   "outputs": [],
   "source": [
    "X = np.hstack((X_psd*10,X_coh,X_gc))\n",
    "s = model.project(X)\n",
    "\n",
    "coeffs = np.abs(model.classifier[0].weight[0].detach().cpu().numpy())\n",
    "agg_score = s[:,:3] @ coeffs"
   ]
  },
  {
   "cell_type": "markdown",
   "id": "4f70dbec-c24c-4944-b809-5faa6e96485c",
   "metadata": {},
   "source": [
    "## Save Score Projection"
   ]
  },
  {
   "cell_type": "code",
   "execution_count": 7,
   "id": "7c0adbf1-cd11-44b4-a531-1df03ce81886",
   "metadata": {},
   "outputs": [
    {
     "data": {
      "text/html": [
       "<div>\n",
       "<style scoped>\n",
       "    .dataframe tbody tr th:only-of-type {\n",
       "        vertical-align: middle;\n",
       "    }\n",
       "\n",
       "    .dataframe tbody tr th {\n",
       "        vertical-align: top;\n",
       "    }\n",
       "\n",
       "    .dataframe thead th {\n",
       "        text-align: right;\n",
       "    }\n",
       "</style>\n",
       "<table border=\"1\" class=\"dataframe\">\n",
       "  <thead>\n",
       "    <tr style=\"text-align: right;\">\n",
       "      <th></th>\n",
       "      <th>mouse</th>\n",
       "      <th>expDate</th>\n",
       "      <th>time</th>\n",
       "      <th>interval</th>\n",
       "      <th>composite score</th>\n",
       "      <th>net 1 score</th>\n",
       "      <th>net 2 score</th>\n",
       "      <th>net 3 score</th>\n",
       "    </tr>\n",
       "  </thead>\n",
       "  <tbody>\n",
       "    <tr>\n",
       "      <th>0</th>\n",
       "      <td>Mouse1381</td>\n",
       "      <td>121518</td>\n",
       "      <td>1</td>\n",
       "      <td>1</td>\n",
       "      <td>2.209222</td>\n",
       "      <td>0.066753</td>\n",
       "      <td>0.090855</td>\n",
       "      <td>0.055999</td>\n",
       "    </tr>\n",
       "    <tr>\n",
       "      <th>1</th>\n",
       "      <td>Mouse1381</td>\n",
       "      <td>121518</td>\n",
       "      <td>2</td>\n",
       "      <td>1</td>\n",
       "      <td>3.267579</td>\n",
       "      <td>0.082289</td>\n",
       "      <td>0.146613</td>\n",
       "      <td>0.023522</td>\n",
       "    </tr>\n",
       "    <tr>\n",
       "      <th>2</th>\n",
       "      <td>Mouse1381</td>\n",
       "      <td>121518</td>\n",
       "      <td>3</td>\n",
       "      <td>1</td>\n",
       "      <td>4.179533</td>\n",
       "      <td>0.109650</td>\n",
       "      <td>0.184278</td>\n",
       "      <td>0.045570</td>\n",
       "    </tr>\n",
       "    <tr>\n",
       "      <th>3</th>\n",
       "      <td>Mouse1381</td>\n",
       "      <td>121518</td>\n",
       "      <td>4</td>\n",
       "      <td>1</td>\n",
       "      <td>4.508023</td>\n",
       "      <td>0.130946</td>\n",
       "      <td>0.192510</td>\n",
       "      <td>0.021586</td>\n",
       "    </tr>\n",
       "    <tr>\n",
       "      <th>4</th>\n",
       "      <td>Mouse1381</td>\n",
       "      <td>121518</td>\n",
       "      <td>5</td>\n",
       "      <td>1</td>\n",
       "      <td>5.556240</td>\n",
       "      <td>0.137605</td>\n",
       "      <td>0.251038</td>\n",
       "      <td>0.031420</td>\n",
       "    </tr>\n",
       "  </tbody>\n",
       "</table>\n",
       "</div>"
      ],
      "text/plain": [
       "       mouse expDate  time  interval  composite score  net 1 score  \\\n",
       "0  Mouse1381  121518     1         1         2.209222     0.066753   \n",
       "1  Mouse1381  121518     2         1         3.267579     0.082289   \n",
       "2  Mouse1381  121518     3         1         4.179533     0.109650   \n",
       "3  Mouse1381  121518     4         1         4.508023     0.130946   \n",
       "4  Mouse1381  121518     5         1         5.556240     0.137605   \n",
       "\n",
       "   net 2 score  net 3 score  \n",
       "0     0.090855     0.055999  \n",
       "1     0.146613     0.023522  \n",
       "2     0.184278     0.045570  \n",
       "3     0.192510     0.021586  \n",
       "4     0.251038     0.031420  "
      ]
     },
     "execution_count": 7,
     "metadata": {},
     "output_type": "execute_result"
    }
   ],
   "source": [
    "proj_dict = {\n",
    "    \"mouse\":dataDict[\"y_mouse\"],\n",
    "    \"expDate\":dataDict[\"y_expDate\"],\n",
    "    \"time\":dataDict[\"y_time\"],\n",
    "    \"interval\":dataDict[\"y_interval\"],\n",
    "    \"composite score\":agg_score,\n",
    "    \"net 1 score\":s[:,0],\n",
    "    \"net 2 score\":s[:,1],\n",
    "    \"net 3 score\":s[:,2],\n",
    "}\n",
    "\n",
    "df = pd.DataFrame.from_dict(proj_dict)\n",
    "#df.to_csv(PROJECT_PATH + \"csds_fit_Projection.csv\")\n",
    "df.head()"
   ]
  },
  {
   "cell_type": "markdown",
   "id": "e189e443-d97c-42c5-a1b6-48eb7c35ddc6",
   "metadata": {},
   "source": [
    "## Save Mean Scores"
   ]
  },
  {
   "cell_type": "code",
   "execution_count": 7,
   "id": "19fa0036-574d-44d1-878d-86a41eaffff8",
   "metadata": {},
   "outputs": [
    {
     "data": {
      "text/plain": [
       "array([1, 2, 3])"
      ]
     },
     "execution_count": 7,
     "metadata": {},
     "output_type": "execute_result"
    }
   ],
   "source": [
    "np.unique(df[\"interval\"])"
   ]
  },
  {
   "cell_type": "code",
   "execution_count": 8,
   "id": "011c039f-1cf3-4f95-bdb1-53cb53b3dbce",
   "metadata": {},
   "outputs": [
    {
     "data": {
      "text/html": [
       "<div>\n",
       "<style scoped>\n",
       "    .dataframe tbody tr th:only-of-type {\n",
       "        vertical-align: middle;\n",
       "    }\n",
       "\n",
       "    .dataframe tbody tr th {\n",
       "        vertical-align: top;\n",
       "    }\n",
       "\n",
       "    .dataframe thead th {\n",
       "        text-align: right;\n",
       "    }\n",
       "</style>\n",
       "<table border=\"1\" class=\"dataframe\">\n",
       "  <thead>\n",
       "    <tr style=\"text-align: right;\">\n",
       "      <th></th>\n",
       "      <th>mouse</th>\n",
       "      <th>interval 1 mean comp score</th>\n",
       "      <th>interval 2 mean comp score</th>\n",
       "      <th>interval 3 mean comp score</th>\n",
       "      <th>interval 1 mean net 1 score</th>\n",
       "      <th>interval 2 mean net 1 score</th>\n",
       "      <th>interval 3 mean net 1 score</th>\n",
       "      <th>interval 1 mean net 2 score</th>\n",
       "      <th>interval 2 mean net 2 score</th>\n",
       "      <th>interval 3 mean net 2 score</th>\n",
       "      <th>interval 1 mean net 3 score</th>\n",
       "      <th>interval 2 mean net 3 score</th>\n",
       "      <th>interval 3 mean net 3 score</th>\n",
       "    </tr>\n",
       "  </thead>\n",
       "  <tbody>\n",
       "    <tr>\n",
       "      <th>0</th>\n",
       "      <td>Mouse1381</td>\n",
       "      <td>3.409785</td>\n",
       "      <td>3.447243</td>\n",
       "      <td>3.762958</td>\n",
       "      <td>0.099652</td>\n",
       "      <td>0.099295</td>\n",
       "      <td>0.099468</td>\n",
       "      <td>0.143876</td>\n",
       "      <td>0.146426</td>\n",
       "      <td>0.165405</td>\n",
       "      <td>0.048098</td>\n",
       "      <td>0.045931</td>\n",
       "      <td>0.042569</td>\n",
       "    </tr>\n",
       "    <tr>\n",
       "      <th>1</th>\n",
       "      <td>Mouse1382</td>\n",
       "      <td>3.298723</td>\n",
       "      <td>3.606912</td>\n",
       "      <td>3.777740</td>\n",
       "      <td>0.082351</td>\n",
       "      <td>0.093076</td>\n",
       "      <td>0.094831</td>\n",
       "      <td>0.146763</td>\n",
       "      <td>0.159021</td>\n",
       "      <td>0.168084</td>\n",
       "      <td>0.062265</td>\n",
       "      <td>0.060535</td>\n",
       "      <td>0.064044</td>\n",
       "    </tr>\n",
       "    <tr>\n",
       "      <th>2</th>\n",
       "      <td>Mouse1383</td>\n",
       "      <td>3.698466</td>\n",
       "      <td>4.083897</td>\n",
       "      <td>3.962327</td>\n",
       "      <td>0.091606</td>\n",
       "      <td>0.097657</td>\n",
       "      <td>0.084008</td>\n",
       "      <td>0.165843</td>\n",
       "      <td>0.185271</td>\n",
       "      <td>0.185324</td>\n",
       "      <td>0.049784</td>\n",
       "      <td>0.052856</td>\n",
       "      <td>0.068378</td>\n",
       "    </tr>\n",
       "    <tr>\n",
       "      <th>3</th>\n",
       "      <td>Mouse1384</td>\n",
       "      <td>4.020345</td>\n",
       "      <td>4.172409</td>\n",
       "      <td>4.245042</td>\n",
       "      <td>0.093179</td>\n",
       "      <td>0.098468</td>\n",
       "      <td>0.088581</td>\n",
       "      <td>0.184322</td>\n",
       "      <td>0.190115</td>\n",
       "      <td>0.199905</td>\n",
       "      <td>0.047501</td>\n",
       "      <td>0.052589</td>\n",
       "      <td>0.061190</td>\n",
       "    </tr>\n",
       "    <tr>\n",
       "      <th>4</th>\n",
       "      <td>Mouse1391</td>\n",
       "      <td>3.392092</td>\n",
       "      <td>3.898128</td>\n",
       "      <td>3.599571</td>\n",
       "      <td>0.098858</td>\n",
       "      <td>0.112043</td>\n",
       "      <td>0.095338</td>\n",
       "      <td>0.143263</td>\n",
       "      <td>0.165844</td>\n",
       "      <td>0.156483</td>\n",
       "      <td>0.048502</td>\n",
       "      <td>0.049044</td>\n",
       "      <td>0.078272</td>\n",
       "    </tr>\n",
       "  </tbody>\n",
       "</table>\n",
       "</div>"
      ],
      "text/plain": [
       "       mouse  interval 1 mean comp score  interval 2 mean comp score  \\\n",
       "0  Mouse1381                    3.409785                    3.447243   \n",
       "1  Mouse1382                    3.298723                    3.606912   \n",
       "2  Mouse1383                    3.698466                    4.083897   \n",
       "3  Mouse1384                    4.020345                    4.172409   \n",
       "4  Mouse1391                    3.392092                    3.898128   \n",
       "\n",
       "   interval 3 mean comp score  interval 1 mean net 1 score  \\\n",
       "0                    3.762958                     0.099652   \n",
       "1                    3.777740                     0.082351   \n",
       "2                    3.962327                     0.091606   \n",
       "3                    4.245042                     0.093179   \n",
       "4                    3.599571                     0.098858   \n",
       "\n",
       "   interval 2 mean net 1 score  interval 3 mean net 1 score  \\\n",
       "0                     0.099295                     0.099468   \n",
       "1                     0.093076                     0.094831   \n",
       "2                     0.097657                     0.084008   \n",
       "3                     0.098468                     0.088581   \n",
       "4                     0.112043                     0.095338   \n",
       "\n",
       "   interval 1 mean net 2 score  interval 2 mean net 2 score  \\\n",
       "0                     0.143876                     0.146426   \n",
       "1                     0.146763                     0.159021   \n",
       "2                     0.165843                     0.185271   \n",
       "3                     0.184322                     0.190115   \n",
       "4                     0.143263                     0.165844   \n",
       "\n",
       "   interval 3 mean net 2 score  interval 1 mean net 3 score  \\\n",
       "0                     0.165405                     0.048098   \n",
       "1                     0.168084                     0.062265   \n",
       "2                     0.185324                     0.049784   \n",
       "3                     0.199905                     0.047501   \n",
       "4                     0.156483                     0.048502   \n",
       "\n",
       "   interval 2 mean net 3 score  interval 3 mean net 3 score  \n",
       "0                     0.045931                     0.042569  \n",
       "1                     0.060535                     0.064044  \n",
       "2                     0.052856                     0.068378  \n",
       "3                     0.052589                     0.061190  \n",
       "4                     0.049044                     0.078272  "
      ]
     },
     "execution_count": 8,
     "metadata": {},
     "output_type": "execute_result"
    }
   ],
   "source": [
    "mouse_list = []\n",
    "\n",
    "comp_list_1 = []\n",
    "comp_list_2 = []\n",
    "comp_list_3 = []\n",
    "\n",
    "net_1_list_1 = []\n",
    "net_1_list_2 = []\n",
    "net_1_list_3 = []\n",
    "\n",
    "net_2_list_1 = []\n",
    "net_2_list_2 = []\n",
    "net_2_list_3 = []\n",
    "\n",
    "net_3_list_1 = []\n",
    "net_3_list_2 = []\n",
    "net_3_list_3 = []\n",
    "\n",
    "for mouse in np.unique(dataDict[\"y_mouse\"]):\n",
    "    \n",
    "    mouse_list.append(mouse)\n",
    "    \n",
    "    comp_list_1.append(np.mean(df[np.logical_and(df[\"mouse\"]==mouse,df[\"interval\"]==1)][\"composite score\"]))\n",
    "    comp_list_2.append(np.mean(df[np.logical_and(df[\"mouse\"]==mouse,df[\"interval\"]==2)][\"composite score\"]))\n",
    "    comp_list_3.append(np.mean(df[np.logical_and(df[\"mouse\"]==mouse,df[\"interval\"]==3)][\"composite score\"]))\n",
    "    \n",
    "    net_1_list_1.append(np.mean(df[np.logical_and(df[\"mouse\"]==mouse,df[\"interval\"]==1)][\"net 1 score\"]))\n",
    "    net_1_list_2.append(np.mean(df[np.logical_and(df[\"mouse\"]==mouse,df[\"interval\"]==2)][\"net 1 score\"]))\n",
    "    net_1_list_3.append(np.mean(df[np.logical_and(df[\"mouse\"]==mouse,df[\"interval\"]==3)][\"net 1 score\"]))\n",
    "\n",
    "    net_2_list_1.append(np.mean(df[np.logical_and(df[\"mouse\"]==mouse,df[\"interval\"]==1)][\"net 2 score\"]))\n",
    "    net_2_list_2.append(np.mean(df[np.logical_and(df[\"mouse\"]==mouse,df[\"interval\"]==2)][\"net 2 score\"]))\n",
    "    net_2_list_3.append(np.mean(df[np.logical_and(df[\"mouse\"]==mouse,df[\"interval\"]==3)][\"net 2 score\"]))\n",
    "\n",
    "    net_3_list_1.append(np.mean(df[np.logical_and(df[\"mouse\"]==mouse,df[\"interval\"]==1)][\"net 3 score\"]))\n",
    "    net_3_list_2.append(np.mean(df[np.logical_and(df[\"mouse\"]==mouse,df[\"interval\"]==2)][\"net 3 score\"]))\n",
    "    net_3_list_3.append(np.mean(df[np.logical_and(df[\"mouse\"]==mouse,df[\"interval\"]==3)][\"net 3 score\"]))\n",
    "    \n",
    "dict_means = {\n",
    "    \"mouse\":mouse_list,\n",
    "    \n",
    "    \"interval 1 mean comp score\":comp_list_1,\n",
    "    \"interval 2 mean comp score\":comp_list_2,\n",
    "    \"interval 3 mean comp score\":comp_list_3,\n",
    "    \n",
    "    \"interval 1 mean net 1 score\":net_1_list_1,\n",
    "    \"interval 2 mean net 1 score\":net_1_list_2,\n",
    "    \"interval 3 mean net 1 score\":net_1_list_3,\n",
    "    \n",
    "    \"interval 1 mean net 2 score\":net_2_list_1,\n",
    "    \"interval 2 mean net 2 score\":net_2_list_2,\n",
    "    \"interval 3 mean net 2 score\":net_2_list_3,\n",
    "    \n",
    "    \"interval 1 mean net 3 score\":net_3_list_1,\n",
    "    \"interval 2 mean net 3 score\":net_3_list_2,\n",
    "    \"interval 3 mean net 3 score\":net_3_list_3,\n",
    "    \n",
    "}\n",
    "\n",
    "df_means = pd.DataFrame.from_dict(dict_means)\n",
    "#df_means.to_csv(PROJECT_PATH + \"csds_fit_mean_scores.csv\")\n",
    "df_means.head()"
   ]
  },
  {
   "cell_type": "code",
   "execution_count": 9,
   "id": "f8c2a474-517c-41df-a12b-8c582860677f",
   "metadata": {},
   "outputs": [],
   "source": [
    "control_mice = [\n",
    "    'Mouse3203',\n",
    "'Mouse3205',\n",
    "'Mouse3215',\n",
    "'Mouse3221',\n",
    "'Mouse3223',\n",
    "'Mouse3231',\n",
    "'Mouse3235',\n",
    "'Mouse3252',\n",
    "'Mouse1381',\n",
    "'Mouse1393',\n",
    "'Mouse1403',\n",
    "'Mouse1412',\n",
    "'Mouse7181',\n",
    "'Mouse7185',\n",
    "'Mouse7191',\n",
    "'Mouse7222',\n",
    "]\n",
    "\n",
    "defeat_mice = [\n",
    "'Mouse3211',\n",
    "'Mouse3212',\n",
    "'Mouse3213',\n",
    "'Mouse3214',\n",
    "'Mouse1382',\n",
    "'Mouse1392',\n",
    "'Mouse1402',\n",
    "'Mouse1404',\n",
    "'Mouse1405',\n",
    "'Mouse1413',\n",
    "'Mouse7182',\n",
    "'Mouse7192',\n",
    "'Mouse7221',\n",
    "'Mouse3201',\n",
    "'Mouse3202',\n",
    "'Mouse3204',\n",
    "'Mouse3224',\n",
    "'Mouse3233',\n",
    "'Mouse3234',\n",
    "'Mouse3251',\n",
    "'Mouse3253',\n",
    "'Mouse1383',\n",
    "'Mouse1384',\n",
    "'Mouse1391',\n",
    "'Mouse1401',\n",
    "'Mouse1411',\n",
    "'Mouse7183',\n",
    "'Mouse7184',\n",
    "'Mouse7193',\n",
    "'Mouse7194',\n",
    "'Mouse7195',\n",
    "'Mouse7202',\n",
    "'Mouse7203',\n",
    "'Mouse7204',\n",
    "]"
   ]
  },
  {
   "cell_type": "code",
   "execution_count": 10,
   "id": "5122c9ce-36bb-4d4d-963c-021eaaa8bc1b",
   "metadata": {},
   "outputs": [
    {
     "data": {
      "text/plain": [
       "50"
      ]
     },
     "execution_count": 10,
     "metadata": {},
     "output_type": "execute_result"
    }
   ],
   "source": [
    "len(control_mice) + len(defeat_mice)"
   ]
  },
  {
   "cell_type": "code",
   "execution_count": 10,
   "id": "dac69eef-9316-4bf3-a94d-aba57631f5af",
   "metadata": {
    "tags": []
   },
   "outputs": [
    {
     "data": {
      "text/html": [
       "<div>\n",
       "<style scoped>\n",
       "    .dataframe tbody tr th:only-of-type {\n",
       "        vertical-align: middle;\n",
       "    }\n",
       "\n",
       "    .dataframe tbody tr th {\n",
       "        vertical-align: top;\n",
       "    }\n",
       "\n",
       "    .dataframe thead th {\n",
       "        text-align: right;\n",
       "    }\n",
       "</style>\n",
       "<table border=\"1\" class=\"dataframe\">\n",
       "  <thead>\n",
       "    <tr style=\"text-align: right;\">\n",
       "      <th></th>\n",
       "      <th>mouse</th>\n",
       "      <th>interval 1 mean comp score</th>\n",
       "      <th>interval 2 mean comp score</th>\n",
       "      <th>interval 3 mean comp score</th>\n",
       "      <th>interval 1 mean net 1 score</th>\n",
       "      <th>interval 2 mean net 1 score</th>\n",
       "      <th>interval 3 mean net 1 score</th>\n",
       "      <th>interval 1 mean net 2 score</th>\n",
       "      <th>interval 2 mean net 2 score</th>\n",
       "      <th>interval 3 mean net 2 score</th>\n",
       "      <th>interval 1 mean net 3 score</th>\n",
       "      <th>interval 2 mean net 3 score</th>\n",
       "      <th>interval 3 mean net 3 score</th>\n",
       "    </tr>\n",
       "  </thead>\n",
       "  <tbody>\n",
       "    <tr>\n",
       "      <th>0</th>\n",
       "      <td>Mouse1381</td>\n",
       "      <td>3.409785</td>\n",
       "      <td>3.447243</td>\n",
       "      <td>3.762958</td>\n",
       "      <td>0.099652</td>\n",
       "      <td>0.099295</td>\n",
       "      <td>0.099468</td>\n",
       "      <td>0.143876</td>\n",
       "      <td>0.146426</td>\n",
       "      <td>0.165405</td>\n",
       "      <td>0.048098</td>\n",
       "      <td>0.045931</td>\n",
       "      <td>0.042569</td>\n",
       "    </tr>\n",
       "    <tr>\n",
       "      <th>1</th>\n",
       "      <td>Mouse1382</td>\n",
       "      <td>3.298723</td>\n",
       "      <td>3.606912</td>\n",
       "      <td>3.777740</td>\n",
       "      <td>0.082351</td>\n",
       "      <td>0.093076</td>\n",
       "      <td>0.094831</td>\n",
       "      <td>0.146763</td>\n",
       "      <td>0.159021</td>\n",
       "      <td>0.168084</td>\n",
       "      <td>0.062265</td>\n",
       "      <td>0.060535</td>\n",
       "      <td>0.064044</td>\n",
       "    </tr>\n",
       "    <tr>\n",
       "      <th>2</th>\n",
       "      <td>Mouse1383</td>\n",
       "      <td>3.698466</td>\n",
       "      <td>4.083897</td>\n",
       "      <td>3.962327</td>\n",
       "      <td>0.091606</td>\n",
       "      <td>0.097657</td>\n",
       "      <td>0.084008</td>\n",
       "      <td>0.165843</td>\n",
       "      <td>0.185271</td>\n",
       "      <td>0.185324</td>\n",
       "      <td>0.049784</td>\n",
       "      <td>0.052856</td>\n",
       "      <td>0.068378</td>\n",
       "    </tr>\n",
       "    <tr>\n",
       "      <th>3</th>\n",
       "      <td>Mouse1384</td>\n",
       "      <td>4.020345</td>\n",
       "      <td>4.172409</td>\n",
       "      <td>4.245042</td>\n",
       "      <td>0.093179</td>\n",
       "      <td>0.098468</td>\n",
       "      <td>0.088581</td>\n",
       "      <td>0.184322</td>\n",
       "      <td>0.190115</td>\n",
       "      <td>0.199905</td>\n",
       "      <td>0.047501</td>\n",
       "      <td>0.052589</td>\n",
       "      <td>0.061190</td>\n",
       "    </tr>\n",
       "    <tr>\n",
       "      <th>4</th>\n",
       "      <td>Mouse1391</td>\n",
       "      <td>3.392092</td>\n",
       "      <td>3.898128</td>\n",
       "      <td>3.599571</td>\n",
       "      <td>0.098858</td>\n",
       "      <td>0.112043</td>\n",
       "      <td>0.095338</td>\n",
       "      <td>0.143263</td>\n",
       "      <td>0.165844</td>\n",
       "      <td>0.156483</td>\n",
       "      <td>0.048502</td>\n",
       "      <td>0.049044</td>\n",
       "      <td>0.078272</td>\n",
       "    </tr>\n",
       "  </tbody>\n",
       "</table>\n",
       "</div>"
      ],
      "text/plain": [
       "       mouse  interval 1 mean comp score  interval 2 mean comp score  \\\n",
       "0  Mouse1381                    3.409785                    3.447243   \n",
       "1  Mouse1382                    3.298723                    3.606912   \n",
       "2  Mouse1383                    3.698466                    4.083897   \n",
       "3  Mouse1384                    4.020345                    4.172409   \n",
       "4  Mouse1391                    3.392092                    3.898128   \n",
       "\n",
       "   interval 3 mean comp score  interval 1 mean net 1 score  \\\n",
       "0                    3.762958                     0.099652   \n",
       "1                    3.777740                     0.082351   \n",
       "2                    3.962327                     0.091606   \n",
       "3                    4.245042                     0.093179   \n",
       "4                    3.599571                     0.098858   \n",
       "\n",
       "   interval 2 mean net 1 score  interval 3 mean net 1 score  \\\n",
       "0                     0.099295                     0.099468   \n",
       "1                     0.093076                     0.094831   \n",
       "2                     0.097657                     0.084008   \n",
       "3                     0.098468                     0.088581   \n",
       "4                     0.112043                     0.095338   \n",
       "\n",
       "   interval 1 mean net 2 score  interval 2 mean net 2 score  \\\n",
       "0                     0.143876                     0.146426   \n",
       "1                     0.146763                     0.159021   \n",
       "2                     0.165843                     0.185271   \n",
       "3                     0.184322                     0.190115   \n",
       "4                     0.143263                     0.165844   \n",
       "\n",
       "   interval 3 mean net 2 score  interval 1 mean net 3 score  \\\n",
       "0                     0.165405                     0.048098   \n",
       "1                     0.168084                     0.062265   \n",
       "2                     0.185324                     0.049784   \n",
       "3                     0.199905                     0.047501   \n",
       "4                     0.156483                     0.048502   \n",
       "\n",
       "   interval 2 mean net 3 score  interval 3 mean net 3 score  \n",
       "0                     0.045931                     0.042569  \n",
       "1                     0.060535                     0.064044  \n",
       "2                     0.052856                     0.068378  \n",
       "3                     0.052589                     0.061190  \n",
       "4                     0.049044                     0.078272  "
      ]
     },
     "execution_count": 10,
     "metadata": {},
     "output_type": "execute_result"
    }
   ],
   "source": [
    "df_means.head()"
   ]
  },
  {
   "cell_type": "code",
   "execution_count": 12,
   "id": "354d98d2-f6ca-4447-8518-8a78f5d2bed9",
   "metadata": {
    "tags": []
   },
   "outputs": [
    {
     "data": {
      "text/plain": [
       "Index(['mouse', 'interval 1 mean comp score', 'interval 2 mean comp score',\n",
       "       'interval 3 mean comp score', 'interval 1 mean net 1 score',\n",
       "       'interval 2 mean net 1 score', 'interval 3 mean net 1 score',\n",
       "       'interval 1 mean net 2 score', 'interval 2 mean net 2 score',\n",
       "       'interval 3 mean net 2 score', 'interval 1 mean net 3 score',\n",
       "       'interval 2 mean net 3 score', 'interval 3 mean net 3 score'],\n",
       "      dtype='object')"
      ]
     },
     "execution_count": 12,
     "metadata": {},
     "output_type": "execute_result"
    }
   ],
   "source": [
    "df_means.columns"
   ]
  },
  {
   "cell_type": "code",
   "execution_count": 25,
   "id": "cecdc205-d97a-46dc-bbd1-505886ad0c64",
   "metadata": {
    "tags": []
   },
   "outputs": [
    {
     "name": "stdout",
     "output_type": "stream",
     "text": [
      "-1.913347760857717 0.055703547228296374\n"
     ]
    }
   ],
   "source": [
    "from scipy.stats import ranksums\n",
    "\n",
    "control_hc_means = []\n",
    "for mouse in control_mice:\n",
    "    control_hc_means.append(np.mean(df_means[df_means[\"mouse\"]==mouse][\"interval 1 mean comp score\"]))\n",
    "    \n",
    "defeat_hc_means = []\n",
    "for mouse in defeat_mice:\n",
    "    defeat_hc_means.append(np.mean(df_means[df_means[\"mouse\"]==mouse][\"interval 1 mean comp score\"]))\n",
    "    \n",
    "stat, pval = ranksums(control_hc_means,defeat_hc_means)\n",
    "\n",
    "print(stat,pval)"
   ]
  },
  {
   "cell_type": "code",
   "execution_count": 26,
   "id": "7160a46a-3add-4987-9fa0-0b15c0fb73f2",
   "metadata": {
    "tags": []
   },
   "outputs": [
    {
     "data": {
      "image/png": "[encoded data removed]",
      "text/plain": [
       "<Figure size 360x720 with 1 Axes>"
      ]
     },
     "metadata": {
      "needs_background": "light"
     },
     "output_type": "display_data"
    }
   ],
   "source": [
    "plt.figure(figsize=(5,10))\n",
    "\n",
    "xa = np.zeros(len(control_hc_means))\n",
    "xb = np.ones(len(defeat_hc_means))\n",
    "\n",
    "ya = np.array(control_hc_means)\n",
    "yb = np.array(defeat_hc_means)\n",
    "\n",
    "plt.scatter(xa,ya)\n",
    "plt.scatter(xb,yb)\n",
    "plt.xlim([-.5,1.5])\n",
    "plt.xticks(range(2),[\"Control\",\"Defeat\"])\n",
    "plt.title(\"Comp net CSDS Homecage Control vs. Defeat (pval={:.2f})\".format(pval))\n",
    "plt.show()"
   ]
  },
  {
   "cell_type": "code",
   "execution_count": null,
   "id": "de56079c-66f0-4498-98ec-c4421c6c79d2",
   "metadata": {},
   "outputs": [],
   "source": []
  }
 ],
 "metadata": {
  "kernelspec": {
   "display_name": "Python 3 (ipykernel)",
   "language": "python",
   "name": "python3"
  },
  "language_info": {
   "codemirror_mode": {
    "name": "ipython",
    "version": 3
   },
   "file_extension": ".py",
   "mimetype": "text/x-python",
   "name": "python",
   "nbconvert_exporter": "python",
   "pygments_lexer": "ipython3",
   "version": "3.7.13"
  }
 },
 "nbformat": 4,
 "nbformat_minor": 5
}

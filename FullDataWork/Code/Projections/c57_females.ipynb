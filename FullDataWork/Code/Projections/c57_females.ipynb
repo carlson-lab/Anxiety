{
 "cells": [
  {
   "cell_type": "code",
   "execution_count": 51,
   "id": "d4b4ca2a-c962-42d3-8a4e-d97ab739f591",
   "metadata": {},
   "outputs": [],
   "source": [
    "import numpy as np\n",
    "import pandas as pd\n",
    "import torch\n",
    "import pickle\n",
    "import matplotlib.pyplot as plt\n",
    "from lpne.models import DcsfaNmf\n",
    "\n",
    "import os, sys\n",
    "umc_data_tools_path = \"/hpc/home/mk423/Anxiety/Universal-Mouse-Code/\"\n",
    "sys.path.append(umc_data_tools_path)\n",
    "import umc_data_tools as umc_dt\n",
    "\n",
    "MODEL_FILE = \"/hpc/home/mk423/Anxiety/FullDataWork/Models/Final_mt_Model_500_epochs.pt\"\n",
    "DATA_PATH = \"/work/mk423/C57-Females-all/\"\n",
    "PROJECT_PATH = \"/hpc/home/mk423/Anxiety/FullDataWork/Projections/\"\n",
    "data_file = \"/work/mk423/C57-Females-all/c57_female_epm_data.pkl\"\n",
    "proj_file = PROJECT_PATH + \"c57_female_epm_projection_complete.csv\"\n",
    "bxcx_proj_file = PROJECT_PATH + \"bxcx_c57_female_epm_projection.csv\"\n",
    "\n",
    "mean_file = PROJECT_PATH + \"c57_female_epm_mean_scores_complete.csv\"\n",
    "bxcx_mean_file = PROJECT_PATH + \"bxcx_c57_female_epm_mean_scores.csv\"\n",
    "\n",
    "model = torch.load(MODEL_FILE,map_location=\"cpu\")\n",
    "model.device=\"cpu\"\n",
    "\n",
    "\n",
    "FEATURE_LIST = ['X_psd','X_coh','X_gc']\n",
    "FEATURE_WEIGHT = [10,1,1]\n",
    "\n",
    "\n",
    "def get_3_net_aucs(s,y,y_group=None):\n",
    "    \n",
    "    auc_mean_list = []\n",
    "    auc_stderr_list =[]\n",
    "    \n",
    "    if y_group is None:\n",
    "        y_group = np.ones(s.shape[0])\n",
    "        \n",
    "    for i in range(3):\n",
    "        auc_dict = umc_dt.lpne_auc(y,y,y_group,s[:,i].reshape(-1,1),mannWhitneyU=True)\n",
    "        mean = np.mean([auc_dict[key][0] for key in auc_dict.keys() if key != \"auc_method\"])\n",
    "        stderr = np.std([auc_dict[key][0] for key in auc_dict.keys() if key != \"auc_method\"]) / np.sqrt(len(auc_dict.keys()))\n",
    "        \n",
    "        auc_mean_list.append(mean)\n",
    "        auc_stderr_list.append(stderr)\n",
    "        \n",
    "    return auc_mean_list, auc_stderr_list\n",
    "\n",
    "def get_3_net_auc_dict(s,y,y_group=None):\n",
    "    auc_dict_list = []\n",
    "    \n",
    "    if y_group is None:\n",
    "        y_group = np.ones(s.shape[0])\n",
    "        \n",
    "    for i in range(3):\n",
    "        auc_dict = umc_dt.lpne_auc(y,y,y_group,s[:,i].reshape(-1,1),mannWhitneyU=True)\n",
    "        auc_dict_list.append(auc_dict)\n",
    "        \n",
    "    return auc_dict_list"
   ]
  },
  {
   "cell_type": "code",
   "execution_count": 30,
   "id": "5d01016b-d45f-44cf-b013-acb12a588bca",
   "metadata": {},
   "outputs": [],
   "source": [
    "dataDict = pickle.load(open(data_file,\"rb\"))\n",
    "\n",
    "X = np.hstack([weight*dataDict[feature] for weight,feature in zip(FEATURE_WEIGHT,FEATURE_LIST)])\n",
    "y_time = dataDict['y_time']\n",
    "y_mouse = np.array(dataDict['y_mouse'])\n",
    "y_task = dataDict['y_task']\n",
    "y_expDate = dataDict['y_expDate']\n",
    "s = model.project(X)\n",
    "coeffs = model.classifier[0].weight[0].detach().cpu().numpy()\n",
    "s_comp = s[:,:3] @ coeffs"
   ]
  },
  {
   "cell_type": "code",
   "execution_count": 8,
   "id": "231866d7-a179-45db-afca-b65472b9c49e",
   "metadata": {},
   "outputs": [
    {
     "data": {
      "text/plain": [
       "{'Mouse0870': 0.6436194761739933,\n",
       " 'Mouse0871': 0.8078671328671329,\n",
       " 'Mouse0872': 0.5283251231527094,\n",
       " 'Mouse0873': 0.883139962933814,\n",
       " 'Mouse22273': 0.4871309208765722,\n",
       " 'Mouse22292': 0.5637645005222937,\n",
       " 'Mouse22294': 0.8244047619047619,\n",
       " 'Mouse34491': 0.43410138248847924}"
      ]
     },
     "execution_count": 8,
     "metadata": {},
     "output_type": "execute_result"
    }
   ],
   "source": [
    "model.score_mw(X,y_task,y_mouse,return_dict=True)"
   ]
  },
  {
   "cell_type": "code",
   "execution_count": 11,
   "id": "0dc7942e-3c7f-4a6b-95a3-7be932cb00d4",
   "metadata": {},
   "outputs": [],
   "source": [
    "from scipy.stats import ttest_1samp"
   ]
  },
  {
   "cell_type": "code",
   "execution_count": 13,
   "id": "502efa02-8e97-48a1-9df5-de11fea6df29",
   "metadata": {},
   "outputs": [],
   "source": [
    "results_dict = model.score_mw(X,y_task,y_mouse,return_dict=True)\n",
    "auc_list = [results_dict[key] for key in list(results_dict.keys())]"
   ]
  },
  {
   "cell_type": "code",
   "execution_count": 16,
   "id": "49c99c9d-07f0-4e32-873a-3662376945ef",
   "metadata": {},
   "outputs": [
    {
     "data": {
      "text/plain": [
       "Ttest_1sampResult(statistic=2.421955476024284, pvalue=0.02298002046433261)"
      ]
     },
     "execution_count": 16,
     "metadata": {},
     "output_type": "execute_result"
    }
   ],
   "source": [
    "ttest_1samp(auc_list,0.5,alternative=\"greater\")"
   ]
  },
  {
   "cell_type": "code",
   "execution_count": 23,
   "id": "4b47bd11-1f09-4eab-9baf-ad54d96226c9",
   "metadata": {},
   "outputs": [
    {
     "name": "stdout",
     "output_type": "stream",
     "text": [
      "0\n",
      "[0.6221443406022845, 0.7195687645687646, 0.4401370743199829, 0.8746096625961562, 0.45186286461895275, 0.5551054208587608, 0.8125, 0.5331797235023041]\n",
      "Ttest_1sampResult(statistic=2.20133963722782, pvalue=0.031802558296539024)\n",
      "0.6261384813834008 0.05359997301677218\n",
      "1\n",
      "[0.6433166032075689, 0.812995337995338, 0.5437459841507818, 0.8765391352915789, 0.49818322381136454, 0.5621185881576777, 0.8184523809523809, 0.4184331797235023]\n",
      "Ttest_1sampResult(statistic=2.4435243643117777, pvalue=0.0222640773803058)\n",
      "0.6467230541612742 0.05616757985214398\n"
     ]
    }
   ],
   "source": [
    "for i in [0,1]:\n",
    "    results_dict = model.score_mw(X,y_task,y_mouse,return_dict=True,net=i)\n",
    "    auc_list = [results_dict[key] for key in list(results_dict.keys())]\n",
    "    print(i)\n",
    "    print(auc_list)\n",
    "    print(ttest_1samp(auc_list,0.5,alternative=\"greater\"))\n",
    "    print(np.mean(auc_list), np.std(auc_list)/np.sqrt(len(auc_list)))"
   ]
  },
  {
   "cell_type": "code",
   "execution_count": 44,
   "id": "a467b17e-8af5-4590-ae95-b39ab311ddce",
   "metadata": {},
   "outputs": [
    {
     "name": "stdout",
     "output_type": "stream",
     "text": [
      "3.755386\n",
      "2.3545005\n",
      "3.8428452\n",
      "1.5544158\n",
      "3.8993037\n",
      "2.6058738\n",
      "2.4416416\n",
      "3.548189\n"
     ]
    }
   ],
   "source": [
    "mouse_list = []\n",
    "\n",
    "\n",
    "comp_net_mean_hc_score_list = []\n",
    "comp_net_mean_task_score_list = []\n",
    "results_dict = model.score_mw(X,y_task,y_mouse,return_dict=True)\n",
    "comp_net_hc_v_task_auc_list = [results_dict[key] for key in np.unique(y_mouse)]\n",
    "\n",
    "net_1_mean_hc_score_list = []\n",
    "net_1_mean_task_score_list = []\n",
    "\n",
    "results_dict = model.score_mw(X,y_task,y_mouse,return_dict=True,net=0)\n",
    "net_1_hc_v_task_auc_list = [results_dict[key] for key in np.unique(y_mouse)]\n",
    "\n",
    "net_2_mean_hc_score_list = []\n",
    "net_2_mean_task_score_list = []\n",
    "results_dict = model.score_mw(X,y_task,y_mouse,return_dict=True,net=1)\n",
    "net_2_hc_v_task_auc_list = [results_dict[key] for key in np.unique(y_mouse)]\n",
    "\n",
    "net_3_mean_hc_score_list = []\n",
    "net_3_mean_task_score_list = []\n",
    "results_dict = model.score_mw(X,y_task,y_mouse,return_dict=True,net=2)\n",
    "net_3_hc_v_task_auc_list = [results_dict[key] for key in np.unique(y_mouse)]\n",
    "\n",
    "for mouse in np.unique(y_mouse):\n",
    "    mouse_mask = y_mouse==mouse\n",
    "    hc_mask = y_task==0\n",
    "    task_mask = y_task\n",
    "    \n",
    "    comp_net_mean_hc_score = np.mean(s_comp[np.logical_and(mouse_mask,hc_mask)==1])\n",
    "    print(comp_net_mean_hc_score)\n",
    "    comp_net_mean_task_score = np.mean(s_comp[np.logical_and(mouse_mask,task_mask)==1])\n",
    "    \n",
    "    net_1_mean_hc_score = np.mean(s[np.logical_and(mouse_mask,hc_mask),0])\n",
    "    net_1_mean_task_score = np.mean(s[np.logical_and(mouse_mask,task_mask),0])\n",
    "    \n",
    "    net_2_mean_hc_score = np.mean(s[np.logical_and(mouse_mask,hc_mask),1])\n",
    "    net_2_mean_task_score = np.mean(s[np.logical_and(mouse_mask,task_mask),1])\n",
    "\n",
    "    net_3_mean_hc_score = np.mean(s[np.logical_and(mouse_mask,hc_mask),2])\n",
    "    net_3_mean_task_score = np.mean(s[np.logical_and(mouse_mask,task_mask),2])\n",
    "    \n",
    "    mouse_list.append(mouse)\n",
    "    comp_net_mean_hc_score_list.append(comp_net_mean_hc_score)\n",
    "    comp_net_mean_task_score_list.append(comp_net_mean_task_score)\n",
    "    net_1_mean_hc_score_list.append(net_1_mean_hc_score)\n",
    "    net_1_mean_task_score_list.append(net_1_mean_task_score)\n",
    "    net_2_mean_hc_score_list.append(net_2_mean_hc_score)\n",
    "    net_2_mean_task_score_list.append(net_2_mean_task_score)\n",
    "    net_3_mean_hc_score_list.append(net_3_mean_hc_score)\n",
    "    net_3_mean_task_score_list.append(net_3_mean_task_score)"
   ]
  },
  {
   "cell_type": "code",
   "execution_count": 41,
   "id": "79947bea-fa0b-412b-b3e2-496e296386ea",
   "metadata": {},
   "outputs": [
    {
     "data": {
      "text/plain": [
       "(5625,)"
      ]
     },
     "execution_count": 41,
     "metadata": {},
     "output_type": "execute_result"
    }
   ],
   "source": [
    "s_comp.shape"
   ]
  },
  {
   "cell_type": "code",
   "execution_count": 52,
   "id": "c54f8b4b-f395-439a-a669-7f2986ad8145",
   "metadata": {},
   "outputs": [],
   "source": [
    "mean_proj_dict = {\n",
    "    \"mouse\":mouse_list,\n",
    "    \"comp net mean hc score\":comp_net_mean_hc_score_list,\n",
    "    \"comp net mean task score\":comp_net_mean_task_score_list,\n",
    "    \"comp net hc v task aucs\":comp_net_hc_v_task_auc_list,\n",
    "    \n",
    "    \"net 1 mean hc score\":net_1_mean_hc_score_list,\n",
    "    \"net 1 mean task score\":net_1_mean_task_score_list,\n",
    "    \"net 1 hc v task aucs\":net_1_hc_v_task_auc_list,\n",
    "    \n",
    "    \"net 2 mean hc score\":net_2_mean_hc_score_list,\n",
    "    \"net 2 mean task score\":net_2_mean_task_score_list,\n",
    "    \"net 2 hc v task aucs\":net_2_hc_v_task_auc_list,\n",
    "    \n",
    "    \"net 3 mean hc score\":net_3_mean_hc_score_list,\n",
    "    \"net 3 mean task score\":net_3_mean_task_score_list,\n",
    "    \"net 3 hc v task aucs\":net_3_hc_v_task_auc_list,\n",
    "}\n",
    "\n",
    "df = pd.DataFrame.from_dict(mean_proj_dict)\n",
    "df.to_csv(mean_file)"
   ]
  },
  {
   "cell_type": "code",
   "execution_count": 46,
   "id": "a72263f3-8b17-4de1-a763-f06af4eb06b7",
   "metadata": {},
   "outputs": [
    {
     "data": {
      "text/html": [
       "<div>\n",
       "<style scoped>\n",
       "    .dataframe tbody tr th:only-of-type {\n",
       "        vertical-align: middle;\n",
       "    }\n",
       "\n",
       "    .dataframe tbody tr th {\n",
       "        vertical-align: top;\n",
       "    }\n",
       "\n",
       "    .dataframe thead th {\n",
       "        text-align: right;\n",
       "    }\n",
       "</style>\n",
       "<table border=\"1\" class=\"dataframe\">\n",
       "  <thead>\n",
       "    <tr style=\"text-align: right;\">\n",
       "      <th></th>\n",
       "      <th>mouse</th>\n",
       "      <th>comp net mean hc score</th>\n",
       "      <th>comp net mean task score</th>\n",
       "      <th>comp net hc v task aucs</th>\n",
       "      <th>net 1 mean hc score</th>\n",
       "      <th>net 1 mean task score</th>\n",
       "      <th>net 1 hc v task aucs</th>\n",
       "      <th>net 2 mean hc score</th>\n",
       "      <th>net 2 mean task score</th>\n",
       "      <th>net 2 hc v task aucs</th>\n",
       "      <th>net 3 mean hc score</th>\n",
       "      <th>net 3 mean task score</th>\n",
       "      <th>net 3 hc v task aucs</th>\n",
       "    </tr>\n",
       "  </thead>\n",
       "  <tbody>\n",
       "    <tr>\n",
       "      <th>0</th>\n",
       "      <td>Mouse0870</td>\n",
       "      <td>3.755386</td>\n",
       "      <td>4.281919</td>\n",
       "      <td>0.643619</td>\n",
       "      <td>0.094382</td>\n",
       "      <td>0.105413</td>\n",
       "      <td>0.622144</td>\n",
       "      <td>0.166449</td>\n",
       "      <td>0.192051</td>\n",
       "      <td>0.643317</td>\n",
       "      <td>0.076916</td>\n",
       "      <td>0.065308</td>\n",
       "      <td>0.379096</td>\n",
       "    </tr>\n",
       "    <tr>\n",
       "      <th>1</th>\n",
       "      <td>Mouse0871</td>\n",
       "      <td>2.354501</td>\n",
       "      <td>3.630858</td>\n",
       "      <td>0.807867</td>\n",
       "      <td>0.064664</td>\n",
       "      <td>0.086545</td>\n",
       "      <td>0.719569</td>\n",
       "      <td>0.100254</td>\n",
       "      <td>0.164035</td>\n",
       "      <td>0.812995</td>\n",
       "      <td>0.068469</td>\n",
       "      <td>0.066508</td>\n",
       "      <td>0.484231</td>\n",
       "    </tr>\n",
       "    <tr>\n",
       "      <th>2</th>\n",
       "      <td>Mouse0872</td>\n",
       "      <td>3.842845</td>\n",
       "      <td>3.901765</td>\n",
       "      <td>0.528325</td>\n",
       "      <td>0.083157</td>\n",
       "      <td>0.079115</td>\n",
       "      <td>0.440137</td>\n",
       "      <td>0.179248</td>\n",
       "      <td>0.185084</td>\n",
       "      <td>0.543746</td>\n",
       "      <td>0.054790</td>\n",
       "      <td>0.056442</td>\n",
       "      <td>0.524202</td>\n",
       "    </tr>\n",
       "    <tr>\n",
       "      <th>3</th>\n",
       "      <td>Mouse0873</td>\n",
       "      <td>1.554416</td>\n",
       "      <td>3.335455</td>\n",
       "      <td>0.883140</td>\n",
       "      <td>0.048020</td>\n",
       "      <td>0.085507</td>\n",
       "      <td>0.874610</td>\n",
       "      <td>0.062566</td>\n",
       "      <td>0.147669</td>\n",
       "      <td>0.876539</td>\n",
       "      <td>0.056495</td>\n",
       "      <td>0.049434</td>\n",
       "      <td>0.437851</td>\n",
       "    </tr>\n",
       "    <tr>\n",
       "      <th>4</th>\n",
       "      <td>Mouse22273</td>\n",
       "      <td>3.899304</td>\n",
       "      <td>3.874225</td>\n",
       "      <td>0.487131</td>\n",
       "      <td>0.089751</td>\n",
       "      <td>0.086714</td>\n",
       "      <td>0.451863</td>\n",
       "      <td>0.180082</td>\n",
       "      <td>0.180594</td>\n",
       "      <td>0.498183</td>\n",
       "      <td>0.024326</td>\n",
       "      <td>0.018980</td>\n",
       "      <td>0.419916</td>\n",
       "    </tr>\n",
       "    <tr>\n",
       "      <th>5</th>\n",
       "      <td>Mouse22292</td>\n",
       "      <td>2.605874</td>\n",
       "      <td>2.898746</td>\n",
       "      <td>0.563765</td>\n",
       "      <td>0.042376</td>\n",
       "      <td>0.047458</td>\n",
       "      <td>0.555105</td>\n",
       "      <td>0.130489</td>\n",
       "      <td>0.144671</td>\n",
       "      <td>0.562119</td>\n",
       "      <td>0.020852</td>\n",
       "      <td>0.030018</td>\n",
       "      <td>0.608805</td>\n",
       "    </tr>\n",
       "    <tr>\n",
       "      <th>6</th>\n",
       "      <td>Mouse22294</td>\n",
       "      <td>2.441642</td>\n",
       "      <td>3.681080</td>\n",
       "      <td>0.824405</td>\n",
       "      <td>0.047583</td>\n",
       "      <td>0.069621</td>\n",
       "      <td>0.812500</td>\n",
       "      <td>0.117656</td>\n",
       "      <td>0.178502</td>\n",
       "      <td>0.818452</td>\n",
       "      <td>0.019112</td>\n",
       "      <td>0.031624</td>\n",
       "      <td>0.616071</td>\n",
       "    </tr>\n",
       "    <tr>\n",
       "      <th>7</th>\n",
       "      <td>Mouse34491</td>\n",
       "      <td>3.548189</td>\n",
       "      <td>3.252272</td>\n",
       "      <td>0.434101</td>\n",
       "      <td>0.062839</td>\n",
       "      <td>0.065703</td>\n",
       "      <td>0.533180</td>\n",
       "      <td>0.174287</td>\n",
       "      <td>0.154366</td>\n",
       "      <td>0.418433</td>\n",
       "      <td>0.036899</td>\n",
       "      <td>0.048238</td>\n",
       "      <td>0.630876</td>\n",
       "    </tr>\n",
       "  </tbody>\n",
       "</table>\n",
       "</div>"
      ],
      "text/plain": [
       "        mouse  comp net mean hc score  comp net mean task score  \\\n",
       "0   Mouse0870                3.755386                  4.281919   \n",
       "1   Mouse0871                2.354501                  3.630858   \n",
       "2   Mouse0872                3.842845                  3.901765   \n",
       "3   Mouse0873                1.554416                  3.335455   \n",
       "4  Mouse22273                3.899304                  3.874225   \n",
       "5  Mouse22292                2.605874                  2.898746   \n",
       "6  Mouse22294                2.441642                  3.681080   \n",
       "7  Mouse34491                3.548189                  3.252272   \n",
       "\n",
       "   comp net hc v task aucs  net 1 mean hc score  net 1 mean task score  \\\n",
       "0                 0.643619             0.094382               0.105413   \n",
       "1                 0.807867             0.064664               0.086545   \n",
       "2                 0.528325             0.083157               0.079115   \n",
       "3                 0.883140             0.048020               0.085507   \n",
       "4                 0.487131             0.089751               0.086714   \n",
       "5                 0.563765             0.042376               0.047458   \n",
       "6                 0.824405             0.047583               0.069621   \n",
       "7                 0.434101             0.062839               0.065703   \n",
       "\n",
       "   net 1 hc v task aucs  net 2 mean hc score  net 2 mean task score  \\\n",
       "0              0.622144             0.166449               0.192051   \n",
       "1              0.719569             0.100254               0.164035   \n",
       "2              0.440137             0.179248               0.185084   \n",
       "3              0.874610             0.062566               0.147669   \n",
       "4              0.451863             0.180082               0.180594   \n",
       "5              0.555105             0.130489               0.144671   \n",
       "6              0.812500             0.117656               0.178502   \n",
       "7              0.533180             0.174287               0.154366   \n",
       "\n",
       "   net 2 hc v task aucs  net 3 mean hc score  net 3 mean task score  \\\n",
       "0              0.643317             0.076916               0.065308   \n",
       "1              0.812995             0.068469               0.066508   \n",
       "2              0.543746             0.054790               0.056442   \n",
       "3              0.876539             0.056495               0.049434   \n",
       "4              0.498183             0.024326               0.018980   \n",
       "5              0.562119             0.020852               0.030018   \n",
       "6              0.818452             0.019112               0.031624   \n",
       "7              0.418433             0.036899               0.048238   \n",
       "\n",
       "   net 3 hc v task aucs  \n",
       "0              0.379096  \n",
       "1              0.484231  \n",
       "2              0.524202  \n",
       "3              0.437851  \n",
       "4              0.419916  \n",
       "5              0.608805  \n",
       "6              0.616071  \n",
       "7              0.630876  "
      ]
     },
     "execution_count": 46,
     "metadata": {},
     "output_type": "execute_result"
    }
   ],
   "source": [
    "df"
   ]
  },
  {
   "cell_type": "code",
   "execution_count": 47,
   "id": "de41c3b4-e24d-475e-b7b4-f325ecc38549",
   "metadata": {},
   "outputs": [
    {
     "data": {
      "image/png": "[encoded data removed]",
      "text/plain": [
       "<Figure size 432x288 with 1 Axes>"
      ]
     },
     "metadata": {
      "needs_background": "light"
     },
     "output_type": "display_data"
    }
   ],
   "source": [
    "from scipy.stats import wilcoxon as ranksums\n",
    "\n",
    "x1 = np.zeros(len(net_1_mean_hc_score_list))\n",
    "y1 = net_1_mean_hc_score_list\n",
    "x2 = np.ones(len(net_1_mean_hc_score_list))\n",
    "y2 = net_1_mean_task_score_list\n",
    "\n",
    "plt.scatter(x1,y1)\n",
    "plt.scatter(x2,y2)\n",
    "\n",
    "\n",
    "for mouse in range(len(net_1_mean_hc_score_list)):\n",
    "    plt.plot([0,1],[y1[mouse],y2[mouse]],color=\"black\")\n",
    "    \n",
    "result = ranksums(y2,y1,alternative=\"greater\")\n",
    "plt.title(\"Network 1 - Females - pval: {:.3f}\".format(result.pvalue))\n",
    "plt.show()"
   ]
  },
  {
   "cell_type": "code",
   "execution_count": 48,
   "id": "4c217506-7ec6-4c64-bb87-06cf7abe7085",
   "metadata": {},
   "outputs": [
    {
     "data": {
      "image/png": "[encoded data removed]",
      "text/plain": [
       "<Figure size 432x288 with 1 Axes>"
      ]
     },
     "metadata": {
      "needs_background": "light"
     },
     "output_type": "display_data"
    }
   ],
   "source": [
    "x1 = np.zeros(len(net_2_mean_hc_score_list))\n",
    "y1 = net_2_mean_hc_score_list\n",
    "x2 = np.ones(len(net_2_mean_hc_score_list))\n",
    "y2 = net_2_mean_task_score_list\n",
    "\n",
    "plt.scatter(x1,y1)\n",
    "plt.scatter(x2,y2)\n",
    "\n",
    "for mouse in range(len(net_1_mean_hc_score_list)):\n",
    "    plt.plot([0,1],[y1[mouse],y2[mouse]],color=\"black\")\n",
    "result = ranksums(y2,y1,alternative=\"greater\")\n",
    "\n",
    "plt.title(\"Network 2 - Females - pval: {:.3f}\".format(result.pvalue))\n",
    "plt.show()"
   ]
  },
  {
   "cell_type": "code",
   "execution_count": null,
   "id": "93e39a89-6355-426e-84e2-c50049d4a5e6",
   "metadata": {},
   "outputs": [],
   "source": []
  }
 ],
 "metadata": {
  "kernelspec": {
   "display_name": "Python 3 (ipykernel)",
   "language": "python",
   "name": "python3"
  },
  "language_info": {
   "codemirror_mode": {
    "name": "ipython",
    "version": 3
   },
   "file_extension": ".py",
   "mimetype": "text/x-python",
   "name": "python",
   "nbconvert_exporter": "python",
   "pygments_lexer": "ipython3",
   "version": "3.7.13"
  }
 },
 "nbformat": 4,
 "nbformat_minor": 5
}

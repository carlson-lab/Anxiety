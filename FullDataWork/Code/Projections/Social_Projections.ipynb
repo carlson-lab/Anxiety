{
 "cells": [
  {
   "cell_type": "code",
   "execution_count": 1,
   "id": "bb7ab5db-650c-48b4-a361-995ac6887a2d",
   "metadata": {},
   "outputs": [
    {
     "name": "stderr",
     "output_type": "stream",
     "text": [
      "/opt/conda/lib/python3.7/site-packages/tqdm/auto.py:22: TqdmWarning: IProgress not found. Please update jupyter and ipywidgets. See https://ipywidgets.readthedocs.io/en/stable/user_install.html\n",
      "  from .autonotebook import tqdm as notebook_tqdm\n",
      "/hpc/home/mk423/.local/lib/python3.7/site-packages/lpne/pipelines/__init__.py:14: UserWarning: Could not load lpne/pipelines/default_params.yaml!\n",
      "  warnings.warn(\"Could not load lpne/pipelines/default_params.yaml!\")\n"
     ]
    }
   ],
   "source": [
    "import numpy as np\n",
    "import pandas as pd\n",
    "import torch\n",
    "import pickle\n",
    "import matplotlib.pyplot as plt\n",
    "from lpne.models import DcsfaNmf\n",
    "from scipy.stats import spearmanr\n",
    "\n",
    "MODEL_FILE = \"/hpc/home/mk423/Anxiety/FullDataWork/Models/Final_mt_Model_500_epochs.pt\"\n",
    "DATA_FILE = \"/work/mk423/Social_v_1_2/SocialData_v_1_2.pkl\"\n",
    "\n",
    "keep_mice_1 = \"/work/mk423/Social_v_1_2/SocialMice_Format1.xlsx\"\n",
    "keep_mice_2 = \"/work/mk423/Social_v_1_2/SocialMice_Format2.xlsx\"\n",
    "PROJECT_PATH = \"/hpc/home/mk423/Anxiety/FullDataWork/Projections/\"\n",
    "\n",
    "model = torch.load(MODEL_FILE,map_location=\"cpu\")\n",
    "model.device=\"cpu\"\n",
    "\n",
    "FEATURE_LIST = ['X_psd','X_coh','X_gc']\n",
    "FEATURE_WEIGHT = [10,1,1]\n",
    "\n",
    "dataDict = pickle.load(open(DATA_FILE,\"rb\"))"
   ]
  },
  {
   "cell_type": "code",
   "execution_count": 2,
   "id": "a8fbb23a-ee0e-442f-8034-f7ca5be001c8",
   "metadata": {
    "tags": []
   },
   "outputs": [],
   "source": [
    "df_f1 = pd.read_excel(keep_mice_1)\n",
    "df_f2 = pd.read_excel(keep_mice_2)\n",
    "\n",
    "X = np.hstack([weight*dataDict[feature] for weight,feature in zip(FEATURE_WEIGHT,FEATURE_LIST)])\n",
    "y_time = dataDict['y_time']\n",
    "y_mouse = np.array(dataDict['y_mouse'])\n",
    "y_expDate = np.array(dataDict[\"y_expDate\"])\n",
    "y_social = np.array(dataDict[\"y_social\"])\n",
    "y_object = np.array(dataDict[\"y_object\"])\n",
    "y_velocity = np.array(dataDict[\"y_velocity\"])\n",
    "\n",
    "s = model.project(X)\n",
    "coeffs = model.classifier[0].weight[0].detach().cpu().numpy()\n",
    "agg_score = s[:,:3] @ coeffs"
   ]
  },
  {
   "cell_type": "code",
   "execution_count": 3,
   "id": "436eb079-8990-461e-bd20-5eac534d1bbb",
   "metadata": {},
   "outputs": [
    {
     "data": {
      "text/plain": [
       "(28,)"
      ]
     },
     "execution_count": 3,
     "metadata": {},
     "output_type": "execute_result"
    }
   ],
   "source": [
    "np.unique(y_mouse).shape"
   ]
  },
  {
   "cell_type": "code",
   "execution_count": 3,
   "id": "83331529-8047-4a87-8de4-ed13abbd07f3",
   "metadata": {
    "tags": []
   },
   "outputs": [],
   "source": [
    "net_mean = []\n",
    "net_sterr = []\n",
    "\n",
    "net_rho2_mean = []\n",
    "net_rho2_sterr = []\n",
    "\n",
    "nan_mask = ~np.isnan(y_velocity)\n",
    "for net in range(30):\n",
    "    rho_list = []\n",
    "    rho_2_list = []\n",
    "    for mouse in np.unique(y_mouse):\n",
    "        mouse_mask = y_mouse==mouse\n",
    "        mask = np.logical_and(mouse_mask,nan_mask)\n",
    "        \n",
    "        mouse_rho_list = []\n",
    "        for expDate in np.unique(y_expDate):\n",
    "            \n",
    "            expDate_mask = y_expDate==expDate\n",
    "            temp_mask = np.logical_and(mask,expDate_mask)\n",
    "            \n",
    "            if np.sum(temp_mask) > 0:\n",
    "                result = spearmanr(s[temp_mask==1,net],y_velocity[temp_mask==1])\n",
    "                mouse_rho_list.append(result.correlation)\n",
    "            \n",
    "        rho_list.append(np.mean(mouse_rho_list))\n",
    "        rho_2_list.append(np.mean(np.array(mouse_rho_list)**2))\n",
    "        \n",
    "        \n",
    "    net_mean.append(np.mean(rho_list))\n",
    "    net_sterr.append(np.std(rho_list)/np.sqrt(len(rho_list)))\n",
    "        \n",
    "        \n",
    "    net_rho2_mean.append(np.mean(rho_2_list))\n",
    "    net_rho2_sterr.append(np.std(rho_2_list)/np.sqrt(len(rho_2_list)))"
   ]
  },
  {
   "cell_type": "code",
   "execution_count": 4,
   "id": "1630bdd6-b79e-40ab-8558-4ec2bb2ac684",
   "metadata": {
    "tags": []
   },
   "outputs": [
    {
     "data": {
      "image/png": "[encoded data removed]",
      "text/plain": [
       "<Figure size 576x288 with 1 Axes>"
      ]
     },
     "metadata": {
      "needs_background": "light"
     },
     "output_type": "display_data"
    },
    {
     "data": {
      "image/png": "[encoded data removed]",
      "text/plain": [
       "<Figure size 576x288 with 1 Axes>"
      ]
     },
     "metadata": {
      "needs_background": "light"
     },
     "output_type": "display_data"
    }
   ],
   "source": [
    "plt.figure(figsize=(8,4))\n",
    "plt.scatter(range(30),net_mean)\n",
    "plt.errorbar(range(30),net_mean,net_sterr,fmt=\"o\")\n",
    "plt.ylabel(\"Spearman Rho\")\n",
    "plt.xlabel(\"Network\")\n",
    "plt.xticks(range(30),np.arange(30) + 1)\n",
    "plt.ylim([-.2,.2])\n",
    "plt.title(\"Social Rhos\")\n",
    "plt.show()\n",
    "\n",
    "plt.figure(figsize=(8,4))\n",
    "plt.scatter(range(3),net_rho2_mean[:3])\n",
    "plt.errorbar(range(3),net_rho2_mean[:3],net_rho2_sterr[:3],fmt=\"o\")\n",
    "plt.ylabel(\"rho^2\")\n",
    "plt.xlabel(\"Network\")\n",
    "plt.xticks(range(3),np.arange(3) + 1)\n",
    "plt.title(\"Rho^2\")\n",
    "plt.show()"
   ]
  },
  {
   "cell_type": "code",
   "execution_count": 19,
   "id": "15f0a07d-eda3-4567-b6f0-cf92222e6998",
   "metadata": {
    "tags": []
   },
   "outputs": [
    {
     "data": {
      "text/html": [
       "<div>\n",
       "<style scoped>\n",
       "    .dataframe tbody tr th:only-of-type {\n",
       "        vertical-align: middle;\n",
       "    }\n",
       "\n",
       "    .dataframe tbody tr th {\n",
       "        vertical-align: top;\n",
       "    }\n",
       "\n",
       "    .dataframe thead th {\n",
       "        text-align: right;\n",
       "    }\n",
       "</style>\n",
       "<table border=\"1\" class=\"dataframe\">\n",
       "  <thead>\n",
       "    <tr style=\"text-align: right;\">\n",
       "      <th></th>\n",
       "      <th>mouse</th>\n",
       "      <th>expDate</th>\n",
       "      <th>social</th>\n",
       "      <th>object</th>\n",
       "      <th>velocity</th>\n",
       "      <th>agg score</th>\n",
       "      <th>net 1 score</th>\n",
       "      <th>net 2 score</th>\n",
       "      <th>net 3 score</th>\n",
       "    </tr>\n",
       "  </thead>\n",
       "  <tbody>\n",
       "    <tr>\n",
       "      <th>0</th>\n",
       "      <td>Mouse5321</td>\n",
       "      <td>052616</td>\n",
       "      <td>False</td>\n",
       "      <td>True</td>\n",
       "      <td>NaN</td>\n",
       "      <td>2.383564</td>\n",
       "      <td>0.068867</td>\n",
       "      <td>0.100001</td>\n",
       "      <td>0.057580</td>\n",
       "    </tr>\n",
       "    <tr>\n",
       "      <th>1</th>\n",
       "      <td>Mouse5321</td>\n",
       "      <td>052616</td>\n",
       "      <td>False</td>\n",
       "      <td>True</td>\n",
       "      <td>0.472884</td>\n",
       "      <td>3.109647</td>\n",
       "      <td>0.101021</td>\n",
       "      <td>0.123141</td>\n",
       "      <td>0.092574</td>\n",
       "    </tr>\n",
       "    <tr>\n",
       "      <th>2</th>\n",
       "      <td>Mouse5321</td>\n",
       "      <td>052616</td>\n",
       "      <td>False</td>\n",
       "      <td>True</td>\n",
       "      <td>2.429704</td>\n",
       "      <td>4.365631</td>\n",
       "      <td>0.129303</td>\n",
       "      <td>0.184024</td>\n",
       "      <td>0.042581</td>\n",
       "    </tr>\n",
       "    <tr>\n",
       "      <th>3</th>\n",
       "      <td>Mouse5321</td>\n",
       "      <td>052616</td>\n",
       "      <td>False</td>\n",
       "      <td>True</td>\n",
       "      <td>3.007293</td>\n",
       "      <td>2.903649</td>\n",
       "      <td>0.113782</td>\n",
       "      <td>0.105590</td>\n",
       "      <td>0.039570</td>\n",
       "    </tr>\n",
       "    <tr>\n",
       "      <th>4</th>\n",
       "      <td>Mouse5321</td>\n",
       "      <td>052616</td>\n",
       "      <td>False</td>\n",
       "      <td>True</td>\n",
       "      <td>1.941513</td>\n",
       "      <td>5.840670</td>\n",
       "      <td>0.174931</td>\n",
       "      <td>0.246522</td>\n",
       "      <td>0.023311</td>\n",
       "    </tr>\n",
       "  </tbody>\n",
       "</table>\n",
       "</div>"
      ],
      "text/plain": [
       "       mouse expDate  social  object  velocity  agg score  net 1 score  \\\n",
       "0  Mouse5321  052616   False    True       NaN   2.383564     0.068867   \n",
       "1  Mouse5321  052616   False    True  0.472884   3.109647     0.101021   \n",
       "2  Mouse5321  052616   False    True  2.429704   4.365631     0.129303   \n",
       "3  Mouse5321  052616   False    True  3.007293   2.903649     0.113782   \n",
       "4  Mouse5321  052616   False    True  1.941513   5.840670     0.174931   \n",
       "\n",
       "   net 2 score  net 3 score  \n",
       "0     0.100001     0.057580  \n",
       "1     0.123141     0.092574  \n",
       "2     0.184024     0.042581  \n",
       "3     0.105590     0.039570  \n",
       "4     0.246522     0.023311  "
      ]
     },
     "execution_count": 19,
     "metadata": {},
     "output_type": "execute_result"
    }
   ],
   "source": [
    "projectDict = {}\n",
    "projectDict[\"mouse\"] = []\n",
    "projectDict[\"expDate\"] = []\n",
    "projectDict[\"social\"] = []\n",
    "projectDict[\"object\"] = []\n",
    "projectDict[\"velocity\"] = []\n",
    "projectDict[\"agg score\"] = []\n",
    "projectDict[\"net 1 score\"] = []\n",
    "projectDict[\"net 2 score\"] = []\n",
    "projectDict[\"net 3 score\"] = []\n",
    "\n",
    "\n",
    "for idx in range(df_f1.shape[0]):\n",
    "    \n",
    "    mouse = \"Mouse\" + ''.join(df_f1.values[idx,0].split('-'))\n",
    "    expDate = str(df_f1.values[idx,1])\n",
    "    \n",
    "    if len(expDate) < 6:\n",
    "        expDate = '0' + expDate\n",
    "    mouse_mask = y_mouse == mouse\n",
    "    expDate_mask = y_expDate == expDate\n",
    "    mask = np.logical_and(mouse_mask,expDate_mask)\n",
    "    \n",
    "    if np.sum(mask) > 0:\n",
    "        #statistical test for the third network\n",
    "        projectDict[\"mouse\"].append(y_mouse[mask==1])\n",
    "        projectDict[\"expDate\"].append(y_expDate[mask==1])\n",
    "        projectDict[\"social\"].append(y_social[mask==1])\n",
    "        projectDict[\"object\"].append(y_object[mask==1])\n",
    "        projectDict[\"velocity\"].append(y_velocity[mask==1])\n",
    "\n",
    "        projectDict[\"agg score\"].append(agg_score[mask==1])\n",
    "        projectDict[\"net 1 score\"].append(s[mask==1,0])\n",
    "        projectDict[\"net 2 score\"].append(s[mask==1,1])\n",
    "        projectDict[\"net 3 score\"].append(s[mask==1,2])\n",
    "    \n",
    "\n",
    "\n",
    "\n",
    "for idx in range(df_f2.shape[0]):\n",
    "    \n",
    "    mouse = df_f2.values[idx,0]\n",
    "    expDate = str(df_f2.values[idx,1])\n",
    "    \n",
    "    if len(expDate) < 6:\n",
    "        expDate = '0' + expDate\n",
    "        \n",
    "    mouse_mask = y_mouse == mouse\n",
    "    expDate_mask = y_expDate == expDate\n",
    "    mask = np.logical_and(mouse_mask,expDate_mask)\n",
    "    \n",
    "    if np.sum(mask) > 0:\n",
    "        #statistical test for the third network\n",
    "        projectDict[\"mouse\"].append(y_mouse[mask==1])\n",
    "        projectDict[\"expDate\"].append(y_expDate[mask==1])\n",
    "        projectDict[\"social\"].append(y_social[mask==1])\n",
    "        projectDict[\"object\"].append(y_object[mask==1])\n",
    "        projectDict[\"velocity\"].append(y_velocity[mask==1])\n",
    "\n",
    "        projectDict[\"agg score\"].append(agg_score[mask==1])\n",
    "        projectDict[\"net 1 score\"].append(s[mask==1,0])\n",
    "        projectDict[\"net 2 score\"].append(s[mask==1,1])\n",
    "        projectDict[\"net 3 score\"].append(s[mask==1,2])\n",
    "\n",
    "projectDict[\"mouse\"] = np.hstack(projectDict[\"mouse\"])\n",
    "projectDict[\"expDate\"] = np.hstack(projectDict[\"expDate\"])\n",
    "projectDict[\"social\"] = np.hstack(projectDict[\"social\"])\n",
    "projectDict[\"object\"] = np.hstack(projectDict[\"object\"])\n",
    "projectDict[\"velocity\"] = np.hstack(projectDict[\"velocity\"])\n",
    "projectDict[\"agg score\"] = np.hstack(projectDict[\"agg score\"])\n",
    "projectDict[\"net 1 score\"] = np.hstack(projectDict[\"net 1 score\"])\n",
    "projectDict[\"net 2 score\"] = np.hstack(projectDict[\"net 2 score\"])\n",
    "projectDict[\"net 3 score\"] = np.hstack(projectDict[\"net 3 score\"])\n",
    "\n",
    "df = pd.DataFrame.from_dict(projectDict)\n",
    "df.head()"
   ]
  },
  {
   "cell_type": "code",
   "execution_count": 1,
   "id": "9f07c739-67b9-4daa-8792-93cd65de84f4",
   "metadata": {
    "tags": []
   },
   "outputs": [],
   "source": [
    "include_mice = [\"Mouse0630\",\n",
    "\"Mouse0631\",\n",
    "\"Mouse0632\",\n",
    "\"Mouse0633\",\n",
    "\"Mouse0634\",\n",
    "\"Mouse0640\",\n",
    "\"Mouse0641\",\n",
    "\"Mouse0642\",\n",
    "\"Mouse0643\",\n",
    "\"Mouse0644\",\n",
    "\"Mouse5321\",\n",
    "\"Mouse5331\",\n",
    "\"Mouse5332\",\n",
    "\"Mouse5333\",\n",
    "\"Mouse533L\",\n",
    "\"Mouse6662\",\n",
    "\"Mouse6664\",\n",
    "\"Mouse6674\",\n",
    "\"Mouse6990\",\n",
    "\"Mouse6991\",\n",
    "\"Mouse6992\",\n",
    "\"Mouse699L\",\n",
    "\"Mouse8881\",\n",
    "\"Mouse8894\"]\n"
   ]
  },
  {
   "cell_type": "code",
   "execution_count": 2,
   "id": "da7f9271-5152-4a52-99f7-11c8607207e1",
   "metadata": {},
   "outputs": [
    {
     "data": {
      "text/plain": [
       "24"
      ]
     },
     "execution_count": 2,
     "metadata": {},
     "output_type": "execute_result"
    }
   ],
   "source": [
    "len(include_mice)"
   ]
  },
  {
   "cell_type": "code",
   "execution_count": 20,
   "id": "e0a3e171-ea22-4ac6-9226-0ff8f83961fe",
   "metadata": {
    "tags": []
   },
   "outputs": [],
   "source": [
    "mouse_list = []\n",
    "expDate_list = []\n",
    "\n",
    "s_agg_score_list = []\n",
    "s_net_1_list = []\n",
    "s_net_2_list = []\n",
    "s_net_3_list = []\n",
    "\n",
    "o_agg_score_list = []\n",
    "o_net_1_list = []\n",
    "o_net_2_list = []\n",
    "o_net_3_list = []\n",
    "\n",
    "for mouse in include_mice:\n",
    "    mouse_mask = df[\"mouse\"] == mouse\n",
    "    expDates = np.unique(df[mouse_mask==1][\"expDate\"])\n",
    "    \n",
    "    #for expDate in expDates:\n",
    "        #expDate_mask = df[\"expDate\"]==expDate\n",
    "        \n",
    "    mask = mouse_mask #np.logical_and(mouse_mask,expDate_mask)\n",
    "    if np.sum(mask) > 0:\n",
    "        o_mask = np.logical_and(mask,df[\"object\"]==1)\n",
    "        s_mask = np.logical_and(mask,df[\"social\"]==1)\n",
    "\n",
    "        mouse_list.append(mouse)\n",
    "        #expDate_list.append(expDate)\n",
    "        s_agg_score_list.append(np.mean(df[s_mask==1][\"agg score\"]))\n",
    "        s_net_1_list.append(np.mean(df[s_mask==1][\"net 1 score\"]))\n",
    "        s_net_2_list.append(np.mean(df[s_mask==1][\"net 2 score\"]))\n",
    "        s_net_3_list.append(np.mean(df[s_mask==1][\"net 3 score\"]))\n",
    "\n",
    "        o_agg_score_list.append(np.mean(df[o_mask==1][\"agg score\"]))\n",
    "        o_net_1_list.append(np.mean(df[o_mask==1][\"net 1 score\"]))\n",
    "        o_net_2_list.append(np.mean(df[o_mask==1][\"net 2 score\"]))\n",
    "        o_net_3_list.append(np.mean(df[o_mask==1][\"net 3 score\"]))\n",
    "        \n",
    "        \n",
    "        \n",
    "                        "
   ]
  },
  {
   "cell_type": "code",
   "execution_count": 21,
   "id": "e1689689-139e-48e1-9037-dbf9bf1a32ac",
   "metadata": {
    "tags": []
   },
   "outputs": [
    {
     "data": {
      "text/html": [
       "<div>\n",
       "<style scoped>\n",
       "    .dataframe tbody tr th:only-of-type {\n",
       "        vertical-align: middle;\n",
       "    }\n",
       "\n",
       "    .dataframe tbody tr th {\n",
       "        vertical-align: top;\n",
       "    }\n",
       "\n",
       "    .dataframe thead th {\n",
       "        text-align: right;\n",
       "    }\n",
       "</style>\n",
       "<table border=\"1\" class=\"dataframe\">\n",
       "  <thead>\n",
       "    <tr style=\"text-align: right;\">\n",
       "      <th></th>\n",
       "      <th>mouse</th>\n",
       "      <th>social mean agg</th>\n",
       "      <th>social mean net 1</th>\n",
       "      <th>social mean net 2</th>\n",
       "      <th>social mean net 3</th>\n",
       "      <th>object mean agg</th>\n",
       "      <th>object mean net 1</th>\n",
       "      <th>object mean net 2</th>\n",
       "      <th>object mean net 3</th>\n",
       "    </tr>\n",
       "  </thead>\n",
       "  <tbody>\n",
       "    <tr>\n",
       "      <th>0</th>\n",
       "      <td>Mouse0630</td>\n",
       "      <td>4.189760</td>\n",
       "      <td>0.120192</td>\n",
       "      <td>0.179339</td>\n",
       "      <td>0.030794</td>\n",
       "      <td>4.321705</td>\n",
       "      <td>0.122935</td>\n",
       "      <td>0.185761</td>\n",
       "      <td>0.028046</td>\n",
       "    </tr>\n",
       "    <tr>\n",
       "      <th>1</th>\n",
       "      <td>Mouse0631</td>\n",
       "      <td>3.449790</td>\n",
       "      <td>0.098050</td>\n",
       "      <td>0.147030</td>\n",
       "      <td>0.052390</td>\n",
       "      <td>3.514428</td>\n",
       "      <td>0.097990</td>\n",
       "      <td>0.151137</td>\n",
       "      <td>0.047892</td>\n",
       "    </tr>\n",
       "    <tr>\n",
       "      <th>2</th>\n",
       "      <td>Mouse0632</td>\n",
       "      <td>4.366596</td>\n",
       "      <td>0.106258</td>\n",
       "      <td>0.197735</td>\n",
       "      <td>0.039906</td>\n",
       "      <td>4.410421</td>\n",
       "      <td>0.109559</td>\n",
       "      <td>0.198582</td>\n",
       "      <td>0.036270</td>\n",
       "    </tr>\n",
       "    <tr>\n",
       "      <th>3</th>\n",
       "      <td>Mouse0633</td>\n",
       "      <td>3.868243</td>\n",
       "      <td>0.113798</td>\n",
       "      <td>0.163822</td>\n",
       "      <td>0.030577</td>\n",
       "      <td>3.928467</td>\n",
       "      <td>0.115123</td>\n",
       "      <td>0.166750</td>\n",
       "      <td>0.028410</td>\n",
       "    </tr>\n",
       "    <tr>\n",
       "      <th>4</th>\n",
       "      <td>Mouse0634</td>\n",
       "      <td>4.678820</td>\n",
       "      <td>0.122561</td>\n",
       "      <td>0.207272</td>\n",
       "      <td>0.030961</td>\n",
       "      <td>4.672527</td>\n",
       "      <td>0.121370</td>\n",
       "      <td>0.207661</td>\n",
       "      <td>0.029415</td>\n",
       "    </tr>\n",
       "  </tbody>\n",
       "</table>\n",
       "</div>"
      ],
      "text/plain": [
       "       mouse  social mean agg  social mean net 1  social mean net 2  \\\n",
       "0  Mouse0630         4.189760           0.120192           0.179339   \n",
       "1  Mouse0631         3.449790           0.098050           0.147030   \n",
       "2  Mouse0632         4.366596           0.106258           0.197735   \n",
       "3  Mouse0633         3.868243           0.113798           0.163822   \n",
       "4  Mouse0634         4.678820           0.122561           0.207272   \n",
       "\n",
       "   social mean net 3  object mean agg  object mean net 1  object mean net 2  \\\n",
       "0           0.030794         4.321705           0.122935           0.185761   \n",
       "1           0.052390         3.514428           0.097990           0.151137   \n",
       "2           0.039906         4.410421           0.109559           0.198582   \n",
       "3           0.030577         3.928467           0.115123           0.166750   \n",
       "4           0.030961         4.672527           0.121370           0.207661   \n",
       "\n",
       "   object mean net 3  \n",
       "0           0.028046  \n",
       "1           0.047892  \n",
       "2           0.036270  \n",
       "3           0.028410  \n",
       "4           0.029415  "
      ]
     },
     "execution_count": 21,
     "metadata": {},
     "output_type": "execute_result"
    }
   ],
   "source": [
    "means_dict = {\n",
    "    \"mouse\":mouse_list,\n",
    "    #\"expDate\":expDate_list,\n",
    "    \"social mean agg\":s_agg_score_list,\n",
    "    \"social mean net 1\":s_net_1_list,\n",
    "    \"social mean net 2\":s_net_2_list,\n",
    "    \"social mean net 3\":s_net_3_list,\n",
    "    \"object mean agg\":o_agg_score_list,\n",
    "    \"object mean net 1\":o_net_1_list,\n",
    "    \"object mean net 2\":o_net_2_list,\n",
    "    \"object mean net 3\":o_net_3_list,\n",
    "}\n",
    " \n",
    "df = pd.DataFrame.from_dict(means_dict)\n",
    "df.to_csv(PROJECT_PATH + \"Anx_Nets_Social_vs_Object_means.csv\",index=False)\n",
    "df.head()"
   ]
  },
  {
   "cell_type": "code",
   "execution_count": 16,
   "id": "8f1b52b1-c5ed-4f41-aa6c-9a96eaa55e0c",
   "metadata": {
    "tags": []
   },
   "outputs": [
    {
     "data": {
      "text/html": [
       "<div>\n",
       "<style scoped>\n",
       "    .dataframe tbody tr th:only-of-type {\n",
       "        vertical-align: middle;\n",
       "    }\n",
       "\n",
       "    .dataframe tbody tr th {\n",
       "        vertical-align: top;\n",
       "    }\n",
       "\n",
       "    .dataframe thead th {\n",
       "        text-align: right;\n",
       "    }\n",
       "</style>\n",
       "<table border=\"1\" class=\"dataframe\">\n",
       "  <thead>\n",
       "    <tr style=\"text-align: right;\">\n",
       "      <th></th>\n",
       "      <th>mouse</th>\n",
       "      <th>expDate</th>\n",
       "      <th>social mean agg</th>\n",
       "      <th>social mean net 1</th>\n",
       "      <th>social mean net 2</th>\n",
       "      <th>social mean net 3</th>\n",
       "      <th>object mean agg</th>\n",
       "      <th>object mean net 1</th>\n",
       "      <th>object mean net 2</th>\n",
       "      <th>object mean net 3</th>\n",
       "    </tr>\n",
       "  </thead>\n",
       "  <tbody>\n",
       "    <tr>\n",
       "      <th>0</th>\n",
       "      <td>Mouse0630</td>\n",
       "      <td>091517</td>\n",
       "      <td>4.223967</td>\n",
       "      <td>0.119227</td>\n",
       "      <td>0.182319</td>\n",
       "      <td>0.022463</td>\n",
       "      <td>4.083088</td>\n",
       "      <td>0.126417</td>\n",
       "      <td>0.170026</td>\n",
       "      <td>0.013720</td>\n",
       "    </tr>\n",
       "    <tr>\n",
       "      <th>1</th>\n",
       "      <td>Mouse0630</td>\n",
       "      <td>091817</td>\n",
       "      <td>4.001165</td>\n",
       "      <td>0.117308</td>\n",
       "      <td>0.169817</td>\n",
       "      <td>0.028620</td>\n",
       "      <td>4.372710</td>\n",
       "      <td>0.122310</td>\n",
       "      <td>0.189299</td>\n",
       "      <td>0.025475</td>\n",
       "    </tr>\n",
       "    <tr>\n",
       "      <th>2</th>\n",
       "      <td>Mouse0630</td>\n",
       "      <td>092017</td>\n",
       "      <td>4.375191</td>\n",
       "      <td>0.122615</td>\n",
       "      <td>0.188947</td>\n",
       "      <td>0.032870</td>\n",
       "      <td>4.496397</td>\n",
       "      <td>0.126397</td>\n",
       "      <td>0.194356</td>\n",
       "      <td>0.024548</td>\n",
       "    </tr>\n",
       "    <tr>\n",
       "      <th>3</th>\n",
       "      <td>Mouse0630</td>\n",
       "      <td>092217</td>\n",
       "      <td>4.123518</td>\n",
       "      <td>0.121310</td>\n",
       "      <td>0.174641</td>\n",
       "      <td>0.032378</td>\n",
       "      <td>4.205983</td>\n",
       "      <td>0.123489</td>\n",
       "      <td>0.178319</td>\n",
       "      <td>0.032101</td>\n",
       "    </tr>\n",
       "    <tr>\n",
       "      <th>4</th>\n",
       "      <td>Mouse0630</td>\n",
       "      <td>092517</td>\n",
       "      <td>4.095177</td>\n",
       "      <td>0.119953</td>\n",
       "      <td>0.173868</td>\n",
       "      <td>0.029393</td>\n",
       "      <td>4.461584</td>\n",
       "      <td>0.127253</td>\n",
       "      <td>0.191792</td>\n",
       "      <td>0.023939</td>\n",
       "    </tr>\n",
       "    <tr>\n",
       "      <th>...</th>\n",
       "      <td>...</td>\n",
       "      <td>...</td>\n",
       "      <td>...</td>\n",
       "      <td>...</td>\n",
       "      <td>...</td>\n",
       "      <td>...</td>\n",
       "      <td>...</td>\n",
       "      <td>...</td>\n",
       "      <td>...</td>\n",
       "      <td>...</td>\n",
       "    </tr>\n",
       "    <tr>\n",
       "      <th>200</th>\n",
       "      <td>Mouse8894</td>\n",
       "      <td>092617</td>\n",
       "      <td>3.190023</td>\n",
       "      <td>0.103635</td>\n",
       "      <td>0.127030</td>\n",
       "      <td>0.078645</td>\n",
       "      <td>3.040766</td>\n",
       "      <td>0.100337</td>\n",
       "      <td>0.120299</td>\n",
       "      <td>0.072129</td>\n",
       "    </tr>\n",
       "    <tr>\n",
       "      <th>201</th>\n",
       "      <td>Mouse8894</td>\n",
       "      <td>093017</td>\n",
       "      <td>4.071241</td>\n",
       "      <td>0.120479</td>\n",
       "      <td>0.170162</td>\n",
       "      <td>0.074592</td>\n",
       "      <td>3.997804</td>\n",
       "      <td>0.116425</td>\n",
       "      <td>0.168340</td>\n",
       "      <td>0.069962</td>\n",
       "    </tr>\n",
       "    <tr>\n",
       "      <th>202</th>\n",
       "      <td>Mouse8894</td>\n",
       "      <td>100317</td>\n",
       "      <td>4.487424</td>\n",
       "      <td>0.134648</td>\n",
       "      <td>0.186855</td>\n",
       "      <td>0.073324</td>\n",
       "      <td>4.578022</td>\n",
       "      <td>0.133420</td>\n",
       "      <td>0.193100</td>\n",
       "      <td>0.071245</td>\n",
       "    </tr>\n",
       "    <tr>\n",
       "      <th>203</th>\n",
       "      <td>Mouse8894</td>\n",
       "      <td>100517</td>\n",
       "      <td>3.751995</td>\n",
       "      <td>0.118079</td>\n",
       "      <td>0.152885</td>\n",
       "      <td>0.063987</td>\n",
       "      <td>3.649908</td>\n",
       "      <td>0.115031</td>\n",
       "      <td>0.148179</td>\n",
       "      <td>0.072625</td>\n",
       "    </tr>\n",
       "    <tr>\n",
       "      <th>204</th>\n",
       "      <td>Mouse8894</td>\n",
       "      <td>100717</td>\n",
       "      <td>3.880154</td>\n",
       "      <td>0.121873</td>\n",
       "      <td>0.157790</td>\n",
       "      <td>0.076736</td>\n",
       "      <td>3.741164</td>\n",
       "      <td>0.115872</td>\n",
       "      <td>0.152972</td>\n",
       "      <td>0.076916</td>\n",
       "    </tr>\n",
       "  </tbody>\n",
       "</table>\n",
       "<p>205 rows × 10 columns</p>\n",
       "</div>"
      ],
      "text/plain": [
       "         mouse expDate  social mean agg  social mean net 1  social mean net 2  \\\n",
       "0    Mouse0630  091517         4.223967           0.119227           0.182319   \n",
       "1    Mouse0630  091817         4.001165           0.117308           0.169817   \n",
       "2    Mouse0630  092017         4.375191           0.122615           0.188947   \n",
       "3    Mouse0630  092217         4.123518           0.121310           0.174641   \n",
       "4    Mouse0630  092517         4.095177           0.119953           0.173868   \n",
       "..         ...     ...              ...                ...                ...   \n",
       "200  Mouse8894  092617         3.190023           0.103635           0.127030   \n",
       "201  Mouse8894  093017         4.071241           0.120479           0.170162   \n",
       "202  Mouse8894  100317         4.487424           0.134648           0.186855   \n",
       "203  Mouse8894  100517         3.751995           0.118079           0.152885   \n",
       "204  Mouse8894  100717         3.880154           0.121873           0.157790   \n",
       "\n",
       "     social mean net 3  object mean agg  object mean net 1  object mean net 2  \\\n",
       "0             0.022463         4.083088           0.126417           0.170026   \n",
       "1             0.028620         4.372710           0.122310           0.189299   \n",
       "2             0.032870         4.496397           0.126397           0.194356   \n",
       "3             0.032378         4.205983           0.123489           0.178319   \n",
       "4             0.029393         4.461584           0.127253           0.191792   \n",
       "..                 ...              ...                ...                ...   \n",
       "200           0.078645         3.040766           0.100337           0.120299   \n",
       "201           0.074592         3.997804           0.116425           0.168340   \n",
       "202           0.073324         4.578022           0.133420           0.193100   \n",
       "203           0.063987         3.649908           0.115031           0.148179   \n",
       "204           0.076736         3.741164           0.115872           0.152972   \n",
       "\n",
       "     object mean net 3  \n",
       "0             0.013720  \n",
       "1             0.025475  \n",
       "2             0.024548  \n",
       "3             0.032101  \n",
       "4             0.023939  \n",
       "..                 ...  \n",
       "200           0.072129  \n",
       "201           0.069962  \n",
       "202           0.071245  \n",
       "203           0.072625  \n",
       "204           0.076916  \n",
       "\n",
       "[205 rows x 10 columns]"
      ]
     },
     "execution_count": 16,
     "metadata": {},
     "output_type": "execute_result"
    }
   ],
   "source": [
    "df"
   ]
  },
  {
   "cell_type": "code",
   "execution_count": 18,
   "id": "883827c1-b64b-4156-8e89-9de3de19e4e6",
   "metadata": {
    "tags": []
   },
   "outputs": [
    {
     "name": "stdout",
     "output_type": "stream",
     "text": [
      "0.08894326347390198 0.0135627557354488\n"
     ]
    },
    {
     "data": {
      "image/png": "[encoded data removed]",
      "text/plain": [
       "<Figure size 576x288 with 1 Axes>"
      ]
     },
     "metadata": {
      "needs_background": "light"
     },
     "output_type": "display_data"
    }
   ],
   "source": [
    "pval_list = []\n",
    "rval_list = []\n",
    "for mouse in include_mice:\n",
    "    mouse_mask = df[\"mouse\"]==mouse\n",
    "    nan_mask = ~np.isnan(df[\"velocity\"])\n",
    "    mask = np.logical_and(mouse_mask,nan_mask)\n",
    "    \n",
    "    mouse_rhos = []\n",
    "    for expDate in np.unique(df[\"expDate\"][mask==1]):\n",
    "        expDate_mask = df[\"expDate\"]==expDate\n",
    "        sub_mask = np.logical_and(mask,expDate_mask)\n",
    "        result = spearmanr(df[sub_mask==1][\"velocity\"],df[sub_mask==1][\"net 1 score\"])\n",
    "        mouse_rhos.append(result.correlation)\n",
    "    rval_list.append(np.mean(mouse_rhos))\n",
    "    #print(mouse, np.mean(mouse_rhos))\n",
    "    \n",
    "print(np.mean(rval_list),np.std(rval_list)/np.sqrt(len(rval_list)))\n",
    "plt.figure(figsize=(8,4))\n",
    "plt.hist(rval_list)\n",
    "plt.ylabel(\"Count\")\n",
    "plt.xlabel(\"Spearman R value\")\n",
    "plt.title(\"Net 1 vs. Velocity Spearmanr r-value\")\n",
    "plt.show()"
   ]
  },
  {
   "cell_type": "code",
   "execution_count": 16,
   "id": "401ca8c9-cb51-49a1-8fc5-45bb9529c4f2",
   "metadata": {
    "tags": []
   },
   "outputs": [
    {
     "name": "stdout",
     "output_type": "stream",
     "text": [
      "0.06683998318791261 0.01304988481758718\n"
     ]
    },
    {
     "data": {
      "image/png": "[encoded data removed]",
      "text/plain": [
       "<Figure size 576x288 with 1 Axes>"
      ]
     },
     "metadata": {
      "needs_background": "light"
     },
     "output_type": "display_data"
    }
   ],
   "source": [
    "pval_list = []\n",
    "rval_list = []\n",
    "for mouse in include_mice:\n",
    "    mouse_mask = df[\"mouse\"]==mouse\n",
    "    nan_mask = ~np.isnan(df[\"velocity\"])\n",
    "    mask = np.logical_and(mouse_mask,nan_mask)\n",
    "    \n",
    "    mouse_rhos = []\n",
    "    for expDate in np.unique(df[\"expDate\"][mask==1]):\n",
    "        expDate_mask = df[\"expDate\"]==expDate\n",
    "        sub_mask = np.logical_and(mask,expDate_mask)\n",
    "        result = spearmanr(df[sub_mask==1][\"velocity\"],df[sub_mask==1][\"net 2 score\"])\n",
    "        mouse_rhos.append(result.correlation)\n",
    "    \n",
    "    rval_list.append(np.mean(mouse_rhos))\n",
    "    #print(mouse, np.mean(mouse_rhos))\n",
    "    \n",
    "print(np.mean(rval_list),np.std(rval_list)/np.sqrt(len(rval_list)))\n",
    "plt.figure(figsize=(8,4))\n",
    "plt.hist(rval_list)\n",
    "plt.ylabel(\"Count\")\n",
    "plt.xlabel(\"Spearman R value\")\n",
    "plt.title(\"Net 2 vs. Velocity Spearmanr r-value\")\n",
    "plt.show()"
   ]
  },
  {
   "cell_type": "code",
   "execution_count": 17,
   "id": "8e09b159-887c-476b-9827-02e1b7a1ba56",
   "metadata": {
    "tags": []
   },
   "outputs": [
    {
     "name": "stdout",
     "output_type": "stream",
     "text": [
      "-0.06607905393677314 0.014606130204013799\n"
     ]
    },
    {
     "data": {
      "image/png": "[encoded data removed]",
      "text/plain": [
       "<Figure size 576x288 with 1 Axes>"
      ]
     },
     "metadata": {
      "needs_background": "light"
     },
     "output_type": "display_data"
    }
   ],
   "source": [
    "pval_list = []\n",
    "rval_list = []\n",
    "for mouse in include_mice:\n",
    "    mouse_mask = df[\"mouse\"]==mouse\n",
    "    nan_mask = ~np.isnan(df[\"velocity\"])\n",
    "    mask = np.logical_and(mouse_mask,nan_mask)\n",
    "    \n",
    "    mouse_rhos = []\n",
    "    for expDate in np.unique(df[\"expDate\"][mask==1]):\n",
    "        expDate_mask = df[\"expDate\"]==expDate\n",
    "        sub_mask = np.logical_and(mask,expDate_mask)\n",
    "        result = spearmanr(df[sub_mask==1][\"velocity\"],df[sub_mask==1][\"net 3 score\"])\n",
    "        mouse_rhos.append(result.correlation)\n",
    "    \n",
    "    rval_list.append(np.mean(mouse_rhos))\n",
    "    #print(mouse, np.mean(mouse_rhos))\n",
    "    \n",
    "print(np.mean(rval_list),np.std(rval_list)/np.sqrt(len(rval_list)))\n",
    "plt.figure(figsize=(8,4))\n",
    "plt.hist(rval_list)\n",
    "plt.ylabel(\"Count\")\n",
    "plt.xlabel(\"Spearman R value\")\n",
    "plt.title(\"Net 3 vs. Velocity Spearmanr r-value\")\n",
    "plt.show()"
   ]
  },
  {
   "cell_type": "code",
   "execution_count": 61,
   "id": "e91005bb-2c25-467f-b51a-bfb0682ef072",
   "metadata": {
    "tags": []
   },
   "outputs": [
    {
     "name": "stdout",
     "output_type": "stream",
     "text": [
      "Mouse0630 Number of Windows:  5829\n",
      "Mouse0631 Number of Windows:  3869\n",
      "Mouse0632 Number of Windows:  5610\n",
      "Mouse0633 Number of Windows:  5199\n",
      "Mouse0634 Number of Windows:  5547\n",
      "Mouse0640 Number of Windows:  5505\n",
      "Mouse0641 Number of Windows:  4663\n",
      "Mouse0642 Number of Windows:  3758\n",
      "Mouse0643 Number of Windows:  5878\n",
      "Mouse0644 Number of Windows:  5373\n",
      "Mouse5321 Number of Windows:  3494\n",
      "Mouse5331 Number of Windows:  2787\n",
      "Mouse5332 Number of Windows:  4058\n",
      "Mouse5333 Number of Windows:  4986\n",
      "Mouse533L Number of Windows:  3007\n",
      "Mouse6662 Number of Windows:  4728\n",
      "Mouse6664 Number of Windows:  3930\n",
      "Mouse6674 Number of Windows:  4103\n",
      "Mouse6990 Number of Windows:  2809\n",
      "Mouse6991 Number of Windows:  3642\n",
      "Mouse6992 Number of Windows:  4742\n",
      "Mouse699L Number of Windows:  3197\n",
      "Mouse8881 Number of Windows:  5409\n",
      "Mouse8894 Number of Windows:  5629\n"
     ]
    },
    {
     "data": {
      "image/png": "[encoded data removed]",
      "text/plain": [
       "<Figure size 576x288 with 1 Axes>"
      ]
     },
     "metadata": {
      "needs_background": "light"
     },
     "output_type": "display_data"
    },
    {
     "data": {
      "image/png": "[encoded data removed]",
      "text/plain": [
       "<Figure size 576x288 with 1 Axes>"
      ]
     },
     "metadata": {
      "needs_background": "light"
     },
     "output_type": "display_data"
    },
    {
     "data": {
      "image/png": "[encoded data removed]",
      "text/plain": [
       "<Figure size 576x288 with 1 Axes>"
      ]
     },
     "metadata": {
      "needs_background": "light"
     },
     "output_type": "display_data"
    },
    {
     "data": {
      "image/png": "[encoded data removed]",
      "text/plain": [
       "<Figure size 576x288 with 1 Axes>"
      ]
     },
     "metadata": {
      "needs_background": "light"
     },
     "output_type": "display_data"
    },
    {
     "data": {
      "image/png": "[encoded data removed]",
      "text/plain": [
       "<Figure size 576x288 with 1 Axes>"
      ]
     },
     "metadata": {
      "needs_background": "light"
     },
     "output_type": "display_data"
    },
    {
     "data": {
      "image/png": "[encoded data removed]",
      "text/plain": [
       "<Figure size 576x288 with 1 Axes>"
      ]
     },
     "metadata": {
      "needs_background": "light"
     },
     "output_type": "display_data"
    }
   ],
   "source": [
    "pval_list = []\n",
    "rval_list = []\n",
    "for mouse in include_mice:\n",
    "    mouse_mask = df[\"mouse\"]==mouse\n",
    "    nan_mask = ~np.isnan(df[\"velocity\"])\n",
    "    mask = np.logical_and(mouse_mask,nan_mask)\n",
    "    \n",
    "    for expDate in np.unique(df[\"expDate\"][mask==1]):\n",
    "        expDate_mask = df[\"expDate\"]==expDate\n",
    "        sub_mask = np.logical_and(mask,expDate_mask)\n",
    "        result = spearmanr(df[mask==1][\"velocity\"],df[mask==1][\"net 1 score\"])\n",
    "        \n",
    "    pval_list.append(result.pvalue)\n",
    "    rval_list.append(result.correlation)\n",
    "    print(mouse, \"Number of Windows: \",np.sum(mask))\n",
    "    \n",
    "plt.figure(figsize=(8,4))\n",
    "plt.hist(pval_list,bins=40)\n",
    "plt.xlim([0,1])\n",
    "plt.axvline(0.05,linestyle=\"dashed\",color=\"red\",label=\"p = 0.05\")\n",
    "plt.title(\"Net 1 vs. Velocity Spearmanr p-value\")\n",
    "plt.ylabel(\"Count\")\n",
    "plt.xlabel(\"p-value\")\n",
    "plt.show()\n",
    "\n",
    "plt.figure(figsize=(8,4))\n",
    "plt.hist(rval_list)\n",
    "plt.ylabel(\"Count\")\n",
    "plt.xlabel(\"Spearman R value\")\n",
    "plt.title(\"Net 1 vs. Velocity Spearmanr r-value\")\n",
    "plt.show()\n",
    "\n",
    "pval_list = []\n",
    "rval_list = []\n",
    "for mouse in include_mice:\n",
    "    mouse_mask = df[\"mouse\"]==mouse\n",
    "    nan_mask = ~np.isnan(df[\"velocity\"])\n",
    "    mask = np.logical_and(mouse_mask,nan_mask)\n",
    "    result = spearmanr(df[mask==1][\"velocity\"],df[mask==1][\"net 2 score\"])\n",
    "    pval_list.append(result.pvalue)\n",
    "    rval_list.append(result.correlation)\n",
    "    \n",
    "plt.figure(figsize=(8,4))\n",
    "plt.hist(pval_list,bins=40)\n",
    "plt.xlim([0,1])\n",
    "plt.axvline(0.05,linestyle=\"dashed\",color=\"red\",label=\"p = 0.05\")\n",
    "plt.title(\"Net 2 vs. Velocity Spearmanr p-value\")\n",
    "plt.ylabel(\"Count\")\n",
    "plt.xlabel(\"p-value\")\n",
    "plt.show()\n",
    "\n",
    "plt.figure(figsize=(8,4))\n",
    "plt.hist(rval_list)\n",
    "plt.ylabel(\"Count\")\n",
    "plt.xlabel(\"Spearman R value\")\n",
    "plt.title(\"Net 2 vs. Velocity Spearmanr r-value\")\n",
    "plt.show()\n",
    "\n",
    "pval_list = []\n",
    "rval_list = []\n",
    "for mouse in include_mice:\n",
    "    mouse_mask = df[\"mouse\"]==mouse\n",
    "    nan_mask = ~np.isnan(df[\"velocity\"])\n",
    "    mask = np.logical_and(mouse_mask,nan_mask)\n",
    "    result = spearmanr(df[mask==1][\"velocity\"],df[mask==1][\"net 3 score\"])\n",
    "    pval_list.append(result.pvalue)\n",
    "    rval_list.append(result.correlation)\n",
    "    \n",
    "plt.figure(figsize=(8,4))\n",
    "plt.hist(pval_list,bins=40)\n",
    "plt.xlim([0,1])\n",
    "plt.axvline(0.05,linestyle=\"dashed\",color=\"red\",label=\"p = 0.05\")\n",
    "plt.title(\"Net 3 vs. Velocity Spearmanr p-value\")\n",
    "plt.ylabel(\"Count\")\n",
    "plt.xlabel(\"p-value\")\n",
    "plt.show()\n",
    "\n",
    "plt.figure(figsize=(8,4))\n",
    "plt.hist(rval_list)\n",
    "plt.ylabel(\"Count\")\n",
    "plt.xlabel(\"Spearman R value\")\n",
    "plt.title(\"Net 3 vs. Velocity Spearmanr r-value\")\n",
    "plt.show()"
   ]
  },
  {
   "cell_type": "code",
   "execution_count": 55,
   "id": "7ffe3875-0d60-4b8d-a872-a54653b15bf2",
   "metadata": {
    "tags": []
   },
   "outputs": [
    {
     "data": {
      "image/png": "[encoded data removed]",
      "text/plain": [
       "<Figure size 576x288 with 1 Axes>"
      ]
     },
     "metadata": {
      "needs_background": "light"
     },
     "output_type": "display_data"
    },
    {
     "data": {
      "image/png": "[encoded data removed]",
      "text/plain": [
       "<Figure size 576x288 with 1 Axes>"
      ]
     },
     "metadata": {
      "needs_background": "light"
     },
     "output_type": "display_data"
    }
   ],
   "source": [
    "pval_list = []\n",
    "rval_list = []\n",
    "for mouse in include_mice:\n",
    "    mouse_mask = df[\"mouse\"]==mouse\n",
    "    nan_mask = ~np.isnan(df[\"velocity\"])\n",
    "    mask = np.logical_and(mouse_mask,nan_mask)\n",
    "    \n",
    "    result = spearmanr(df[mask==1][\"velocity\"],df[mask==1][\"net 1 score\"])\n",
    "    pval_list.append(result.pvalue)\n",
    "    rval_list.append(result.correlation)\n",
    "    print(mouse, \"Number of Windows: \",np.sum(mask))\n",
    "    \n",
    "plt.figure(figsize=(8,4))\n",
    "plt.hist(pval_list,bins=40)\n",
    "plt.xlim([0,1])\n",
    "plt.axvline(0.05,linestyle=\"dashed\",color=\"red\",label=\"p = 0.05\")\n",
    "plt.title(\"Net 1 vs. Velocity Spearmanr p-value\")\n",
    "plt.ylabel(\"Count\")\n",
    "plt.xlabel(\"p-value\")\n",
    "plt.show()\n",
    "\n",
    "plt.figure(figsize=(8,4))\n",
    "plt.hist(rval_list)\n",
    "plt.ylabel(\"Count\")\n",
    "plt.xlabel(\"Spearman R value\")\n",
    "plt.title(\"Net 1 vs. Velocity Spearmanr r-value\")\n",
    "plt.show()\n",
    "\n",
    "pval_list = []\n",
    "rval_list = []\n",
    "for mouse in include_mice:\n",
    "    mouse_mask = df[\"mouse\"]==mouse\n",
    "    nan_mask = ~np.isnan(df[\"velocity\"])\n",
    "    mask = np.logical_and(mouse_mask,nan_mask)\n",
    "    result = spearmanr(df[mask==1][\"velocity\"],df[mask==1][\"net 2 score\"])\n",
    "    pval_list.append(result.pvalue)\n",
    "    rval_list.append(result.correlation)\n",
    "    \n",
    "plt.figure(figsize=(8,4))\n",
    "plt.hist(pval_list,bins=40)\n",
    "plt.xlim([0,1])\n",
    "plt.axvline(0.05,linestyle=\"dashed\",color=\"red\",label=\"p = 0.05\")\n",
    "plt.title(\"Net 2 vs. Velocity Spearmanr p-value\")\n",
    "plt.ylabel(\"Count\")\n",
    "plt.xlabel(\"p-value\")\n",
    "plt.show()\n",
    "\n",
    "plt.figure(figsize=(8,4))\n",
    "plt.hist(rval_list)\n",
    "plt.ylabel(\"Count\")\n",
    "plt.xlabel(\"Spearman R value\")\n",
    "plt.title(\"Net 2 vs. Velocity Spearmanr r-value\")\n",
    "plt.show()\n",
    "\n",
    "pval_list = []\n",
    "rval_list = []\n",
    "for mouse in include_mice:\n",
    "    mouse_mask = df[\"mouse\"]==mouse\n",
    "    nan_mask = ~np.isnan(df[\"velocity\"])\n",
    "    mask = np.logical_and(mouse_mask,nan_mask)\n",
    "    result = spearmanr(df[mask==1][\"velocity\"],df[mask==1][\"net 3 score\"])\n",
    "    pval_list.append(result.pvalue)\n",
    "    rval_list.append(result.correlation)\n",
    "    \n",
    "plt.figure(figsize=(8,4))\n",
    "plt.hist(pval_list,bins=40)\n",
    "plt.xlim([0,1])\n",
    "plt.axvline(0.05,linestyle=\"dashed\",color=\"red\",label=\"p = 0.05\")\n",
    "plt.title(\"Net 3 vs. Velocity Spearmanr p-value\")\n",
    "plt.ylabel(\"Count\")\n",
    "plt.xlabel(\"p-value\")\n",
    "plt.show()\n",
    "\n",
    "plt.figure(figsize=(8,4))\n",
    "plt.hist(rval_list)\n",
    "plt.ylabel(\"Count\")\n",
    "plt.xlabel(\"Spearman R value\")\n",
    "plt.title(\"Net 3 vs. Velocity Spearmanr r-value\")\n",
    "plt.show()"
   ]
  },
  {
   "cell_type": "code",
   "execution_count": 56,
   "id": "51ad024f-95c9-4389-9edd-363b283ff366",
   "metadata": {
    "tags": []
   },
   "outputs": [
    {
     "data": {
      "image/png": "[encoded data removed]",
      "text/plain": [
       "<Figure size 576x288 with 1 Axes>"
      ]
     },
     "metadata": {
      "needs_background": "light"
     },
     "output_type": "display_data"
    },
    {
     "data": {
      "image/png": "[encoded data removed]",
      "text/plain": [
       "<Figure size 576x288 with 1 Axes>"
      ]
     },
     "metadata": {
      "needs_background": "light"
     },
     "output_type": "display_data"
    }
   ],
   "source": []
  },
  {
   "cell_type": "code",
   "execution_count": 51,
   "id": "4fa628a8-cd95-481e-8f27-a31aa5b6083f",
   "metadata": {
    "tags": []
   },
   "outputs": [
    {
     "data": {
      "text/plain": [
       "(28,)"
      ]
     },
     "execution_count": 51,
     "metadata": {},
     "output_type": "execute_result"
    }
   ],
   "source": [
    "np.unique(y_mouse).shape"
   ]
  },
  {
   "cell_type": "code",
   "execution_count": 57,
   "id": "566642d0-4aab-4b16-a333-bea34bc815c6",
   "metadata": {
    "tags": []
   },
   "outputs": [
    {
     "data": {
      "text/plain": [
       "24"
      ]
     },
     "execution_count": 57,
     "metadata": {},
     "output_type": "execute_result"
    }
   ],
   "source": [
    "len(pval_list)"
   ]
  },
  {
   "cell_type": "code",
   "execution_count": 52,
   "id": "6017c38d-917d-46b8-8eb0-cdc383445583",
   "metadata": {
    "tags": []
   },
   "outputs": [
    {
     "data": {
      "text/plain": [
       "(28,)"
      ]
     },
     "execution_count": 52,
     "metadata": {},
     "output_type": "execute_result"
    }
   ],
   "source": [
    "np.unique(df['mouse']).shape"
   ]
  },
  {
   "cell_type": "code",
   "execution_count": null,
   "id": "eedd57f1-63bc-49d1-a31d-eb2bbb03f790",
   "metadata": {},
   "outputs": [],
   "source": []
  }
 ],
 "metadata": {
  "kernelspec": {
   "display_name": "Python 3 (ipykernel)",
   "language": "python",
   "name": "python3"
  },
  "language_info": {
   "codemirror_mode": {
    "name": "ipython",
    "version": 3
   },
   "file_extension": ".py",
   "mimetype": "text/x-python",
   "name": "python",
   "nbconvert_exporter": "python",
   "pygments_lexer": "ipython3",
   "version": "3.7.13"
  }
 },
 "nbformat": 4,
 "nbformat_minor": 5
}

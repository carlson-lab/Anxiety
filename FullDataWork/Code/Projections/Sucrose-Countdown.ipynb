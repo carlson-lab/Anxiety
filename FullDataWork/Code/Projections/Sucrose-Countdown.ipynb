{
 "cells": [
  {
   "cell_type": "code",
   "execution_count": 4,
   "id": "05bdc5a2-5443-4255-b99f-1fed82bdf73c",
   "metadata": {},
   "outputs": [],
   "source": [
    "import numpy as np\n",
    "import pandas as pd\n",
    "import torch\n",
    "import pickle\n",
    "import matplotlib.pyplot as plt\n",
    "from lpne.models import DcsfaNmf\n",
    "\n",
    "MODEL_FILE = \"/hpc/home/mk423/Anxiety/FullDataWork/Models/Final_mt_Model_500_epochs.pt\"\n",
    "DATA_PATH = \"/work/mk423/SucroseCountdown/\"\n",
    "PROJECT_PATH = \"/hpc/home/mk423/Anxiety/FullDataWork/Projections/\"\n",
    "FIGURE_PATH = \"/hpc/home/mk423/Anxiety/FullDataWork/Figures/\"\n",
    "\n",
    "proj_file = \"SucroseCD_projection.csv\"\n",
    "mean_file = \"SucroseCD_mean_scores.csv\"\n",
    "\n",
    "model = torch.load(MODEL_FILE,map_location=\"cpu\")\n",
    "model.device=\"cpu\"\n",
    "\n",
    "\n",
    "FEATURE_LIST = ['X_power_1_2','X_coh_1_2','X_gc_1_2']\n",
    "FEATURE_WEIGHT = [10,1,1]\n",
    "\n",
    "import os, sys\n",
    "umc_data_tools_path = \"/hpc/home/mk423/Anxiety/Universal-Mouse-Code/\"\n",
    "sys.path.append(umc_data_tools_path)\n",
    "import umc_data_tools as umc_dt\n",
    "\n",
    "def get_3_net_aucs(s,y,y_group=None):\n",
    "    \n",
    "    auc_mean_list = []\n",
    "    auc_stderr_list =[]\n",
    "    \n",
    "    if y_group is None:\n",
    "        y_group = np.ones(s.shape[0])\n",
    "        \n",
    "    for i in range(3):\n",
    "        auc_dict = umc_dt.lpne_auc(y,y,y_group,s[:,i].reshape(-1,1),mannWhitneyU=True)\n",
    "        mean = np.mean([auc_dict[key][0] for key in auc_dict.keys() if key != \"auc_method\"])\n",
    "        stderr = np.std([auc_dict[key][0] for key in auc_dict.keys() if key != \"auc_method\"]) / np.sqrt(len(auc_dict.keys()))\n",
    "        \n",
    "        auc_mean_list.append(mean)\n",
    "        auc_stderr_list.append(stderr)\n",
    "        \n",
    "    return auc_mean_list, auc_stderr_list\n",
    "\n",
    "def get_3_net_auc_dict(s,y,y_group=None):\n",
    "    auc_dict_list = []\n",
    "    \n",
    "    if y_group is None:\n",
    "        y_group = np.ones(s.shape[0])\n",
    "        \n",
    "    for i in range(3):\n",
    "        auc_dict = umc_dt.lpne_auc(y,y,y_group,s[:,i].reshape(-1,1),mannWhitneyU=True)\n",
    "        auc_dict_list.append(auc_dict)\n",
    "        \n",
    "    return auc_dict_list"
   ]
  },
  {
   "cell_type": "code",
   "execution_count": 2,
   "id": "96449ee8-cade-400f-ae89-5d6c919f09ea",
   "metadata": {},
   "outputs": [
    {
     "ename": "FileNotFoundError",
     "evalue": "[Errno 2] No such file or directory: '/work/mk423/SucroseCountdown/'",
     "output_type": "error",
     "traceback": [
      "\u001b[0;31m---------------------------------------------------------------------------\u001b[0m",
      "\u001b[0;31mFileNotFoundError\u001b[0m                         Traceback (most recent call last)",
      "\u001b[0;32m/tmp/ipykernel_2399679/2643027852.py\u001b[0m in \u001b[0;36m<module>\u001b[0;34m\u001b[0m\n\u001b[1;32m      1\u001b[0m \u001b[0mnum_before\u001b[0m \u001b[0;34m=\u001b[0m \u001b[0;36m3\u001b[0m\u001b[0;34m\u001b[0m\u001b[0;34m\u001b[0m\u001b[0m\n\u001b[1;32m      2\u001b[0m \u001b[0mnum_after\u001b[0m \u001b[0;34m=\u001b[0m \u001b[0;36m4\u001b[0m\u001b[0;34m\u001b[0m\u001b[0;34m\u001b[0m\u001b[0m\n\u001b[0;32m----> 3\u001b[0;31m \u001b[0mfiles\u001b[0m \u001b[0;34m=\u001b[0m \u001b[0mos\u001b[0m\u001b[0;34m.\u001b[0m\u001b[0mlistdir\u001b[0m\u001b[0;34m(\u001b[0m\u001b[0mDATA_PATH\u001b[0m\u001b[0;34m)\u001b[0m\u001b[0;34m\u001b[0m\u001b[0;34m\u001b[0m\u001b[0m\n\u001b[0m\u001b[1;32m      4\u001b[0m \u001b[0mscd_pickle_files\u001b[0m \u001b[0;34m=\u001b[0m \u001b[0;34m[\u001b[0m\u001b[0mfile\u001b[0m \u001b[0;32mfor\u001b[0m \u001b[0mfile\u001b[0m \u001b[0;32min\u001b[0m \u001b[0mfiles\u001b[0m \u001b[0;32mif\u001b[0m \u001b[0mfile\u001b[0m\u001b[0;34m.\u001b[0m\u001b[0msplit\u001b[0m\u001b[0;34m(\u001b[0m\u001b[0;34m\".\"\u001b[0m\u001b[0;34m)\u001b[0m\u001b[0;34m[\u001b[0m\u001b[0;34m-\u001b[0m\u001b[0;36m1\u001b[0m\u001b[0;34m]\u001b[0m \u001b[0;34m==\u001b[0m \u001b[0;34m\"pkl\"\u001b[0m\u001b[0;34m]\u001b[0m\u001b[0;34m\u001b[0m\u001b[0;34m\u001b[0m\u001b[0m\n\u001b[1;32m      5\u001b[0m \u001b[0mauc_list\u001b[0m \u001b[0;34m=\u001b[0m \u001b[0;34m[\u001b[0m\u001b[0;34m]\u001b[0m\u001b[0;34m\u001b[0m\u001b[0;34m\u001b[0m\u001b[0m\n",
      "\u001b[0;31mFileNotFoundError\u001b[0m: [Errno 2] No such file or directory: '/work/mk423/SucroseCountdown/'"
     ]
    }
   ],
   "source": [
    "num_before = 3\n",
    "num_after = 4\n",
    "files = os.listdir(DATA_PATH)\n",
    "scd_pickle_files = [file for file in files if file.split(\".\")[-1] == \"pkl\"]\n",
    "auc_list = []\n",
    "mouse_list = []\n",
    "mouse_snip_list = []\n",
    "for file in scd_pickle_files:\n",
    "    dictSC = pickle.load(open(DATA_PATH + file, \"rb\"))\n",
    "    X = np.hstack([dictSC[key]*weight for key, weight in zip([\"X_psd\",\"X_coh\",\"X_gc\"],FEATURE_WEIGHT)])\n",
    "    y = dictSC[\"y_countDown\"]\n",
    "    s = model.project(X)\n",
    "    coeffs = np.abs(model.classifier[0].weight[0].detach().cpu().numpy())\n",
    "    s_agg = np.sum(s[:,:3] * coeffs,axis=1)\n",
    "    mouse_auc = model.score(X,y.reshape(-1,1))\n",
    "    print(\"{} AUC: {}\".format(file.split(\"_\")[0],mouse_auc))\n",
    "    auc_list.append(mouse_auc)\n",
    "    mouse_list.append(file.split(\"_\")[0])\n",
    "    \n",
    "\n",
    "    mouse_snips = []\n",
    "    mouse_ids = []\n",
    "    for expDate in np.unique(dictSC[\"y_expDate_aw\"]):\n",
    "\n",
    "        expDate_mask = dictSC[\"y_expDate_aw\"]==expDate\n",
    "        expDate_pump_mask = np.logical_and(expDate_mask,dictSC[\"y_pump_allWindows\"])\n",
    "        pump_times = dictSC[\"y_time_aw\"][expDate_pump_mask==1]\n",
    "\n",
    "        expDate_mask_w = dictSC[\"y_expDate\"]==expDate\n",
    "        masked_time = dictSC[\"y_time\"][expDate_mask_w==1]\n",
    "\n",
    "        for pump_time in pump_times:\n",
    "            pump_idx = np.where(masked_time==pump_time)[0].astype(int)\n",
    "            if pump_idx.shape[0] < 1:\n",
    "                continue\n",
    "            else:\n",
    "                pump_idx = pump_idx[0]\n",
    "\n",
    "\n",
    "                if np.array_equal(np.arange(pump_time-num_before,pump_time+num_after),masked_time[pump_idx - num_before: pump_idx+num_after]):\n",
    "                    mouse_snips.append(s_agg[pump_idx-num_before:pump_idx+num_after])\n",
    "\n",
    "\n",
    "    mouse_mean_scores = np.mean(mouse_snips,axis=0).squeeze()\n",
    "    mouse_snip_list.append(mouse_mean_scores)\n",
    "    \n",
    "    \n",
    "    "
   ]
  },
  {
   "cell_type": "code",
   "execution_count": 3,
   "id": "90e91f8c-ed90-49c0-92b0-19c349c06233",
   "metadata": {
    "tags": []
   },
   "outputs": [
    {
     "data": {
      "text/plain": [
       "190"
      ]
     },
     "execution_count": 3,
     "metadata": {},
     "output_type": "execute_result"
    }
   ],
   "source": [
    "len(mouse_snips)"
   ]
  },
  {
   "cell_type": "code",
   "execution_count": 4,
   "id": "c0ca6e4b-4dd3-46de-8252-09773c52008d",
   "metadata": {},
   "outputs": [
    {
     "name": "stdout",
     "output_type": "stream",
     "text": [
      "0.539 +/- 0.026\n"
     ]
    }
   ],
   "source": [
    "mean_auc = np.mean(auc_list)\n",
    "std_err = np.std(auc_list) / np.sqrt(len(auc_list))\n",
    "print(\"{:.3f} +/- {:.3f}\".format(mean_auc,std_err))"
   ]
  },
  {
   "cell_type": "markdown",
   "id": "224a4277-3e73-47e0-9f69-41631c23b14b",
   "metadata": {},
   "source": [
    "### Plotting Network Score"
   ]
  },
  {
   "cell_type": "code",
   "execution_count": 5,
   "id": "2cc5d1bc-5099-4867-ad89-78c870190f0a",
   "metadata": {},
   "outputs": [
    {
     "data": {
      "image/png": "[encoded data removed]",
      "text/plain": [
       "<Figure size 720x360 with 1 Axes>"
      ]
     },
     "metadata": {
      "needs_background": "light"
     },
     "output_type": "display_data"
    }
   ],
   "source": [
    "all_mouse_mean_score = np.mean(mouse_snip_list,axis=0)\n",
    "all_mouse_sterr_score = np.std(mouse_snip_list,axis=0) / np.sqrt(8)\n",
    "plt.figure(figsize=(10,5))\n",
    "plt.plot(all_mouse_mean_score)\n",
    "plt.fill_between(range(num_before + num_after),all_mouse_mean_score + all_mouse_sterr_score,all_mouse_mean_score - all_mouse_sterr_score,alpha=0.3)\n",
    "plt.xticks(np.arange(num_before + num_after),np.arange(num_before + num_after) - num_before)\n",
    "plt.ylim([2.6,4.5])\n",
    "plt.axvline(num_before,color=\"red\",linestyle=\"--\",label=\"Sucrose Administration\")\n",
    "plt.legend()\n",
    "plt.xlabel(\"Seconds\")\n",
    "plt.ylabel(\"EN-ANX Network Score\")\n",
    "\n",
    "plt.title(\"Sucrose Countdown Anxiety Network Scores (n=8)\")\n",
    "plt.savefig(\"/hpc/home/mk423/Anxiety/FullDataWork/Figures/SucroseCD_Network_Trace.svg\")\n",
    "plt.show()"
   ]
  },
  {
   "cell_type": "code",
   "execution_count": null,
   "id": "7e4b8af6-93f1-4b48-9c93-68508c6e19d0",
   "metadata": {},
   "outputs": [],
   "source": []
  },
  {
   "cell_type": "markdown",
   "id": "193688a3-4c27-4c31-811d-40fe69630e54",
   "metadata": {},
   "source": [
    "### Comparing AUCs to FLX performance"
   ]
  },
  {
   "cell_type": "code",
   "execution_count": 6,
   "id": "92ac015b-8ecd-4afd-b6cb-77b6eefe6ebd",
   "metadata": {},
   "outputs": [
    {
     "name": "stdout",
     "output_type": "stream",
     "text": [
      "-1.2909944487358056 0.19670560245894686\n"
     ]
    }
   ],
   "source": [
    "from scipy.stats import ranksums\n",
    "\n",
    "scd_aucs = auc_list\n",
    "flx_aucs = [0.4102502200646685,0.6067541168223762,\n",
    "            0.6708565853658537,0.6314347244280166,\n",
    "            0.5610492452363276,0.6340186801104197]\n",
    "\n",
    "stat,pval = ranksums(scd_aucs,flx_aucs)\n",
    "\n",
    "print(stat,pval)"
   ]
  },
  {
   "cell_type": "markdown",
   "id": "f4714cb1-22a7-43e0-a536-a8d8ed69aa11",
   "metadata": {},
   "source": [
    "### Event Aligned Code"
   ]
  },
  {
   "cell_type": "code",
   "execution_count": 6,
   "id": "5dc902ac-776d-448a-b611-46b0aea19916",
   "metadata": {
    "tags": []
   },
   "outputs": [],
   "source": [
    "LPNE_PATH = \"/work/mk423/lpne-data-analysis/\"\n",
    "sys.path.append(LPNE_PATH)\n",
    "import data_tools"
   ]
  },
  {
   "cell_type": "code",
   "execution_count": 7,
   "id": "afd29b4f-adf4-48d5-a82b-6b9544c8cc34",
   "metadata": {
    "tags": []
   },
   "outputs": [
    {
     "name": "stdout",
     "output_type": "stream",
     "text": [
      "version saveFeatures_1.2 used to calcuate power features\n",
      "version saveFeatures_1.2 used to calcuate coherence features\n"
     ]
    },
    {
     "name": "stderr",
     "output_type": "stream",
     "text": [
      "/work/mk423/lpne-data-analysis/data_tools.py:144: UserWarning: Raw Granger causality values loaded; if you want exponentiated or capped features, you must do that yourself\n",
      "  warnings.warn(\"Raw Granger causality values loaded; if you want exponentiated or capped features, you must do that yourself\")\n"
     ]
    },
    {
     "name": "stdout",
     "output_type": "stream",
     "text": [
      "version saveFeatures_1.2 used to calcuate granger features\n",
      "Version preprocessData_1.0 of preprocessing used\n",
      "Make sure feature versions listed above match those used for any other dataset in the same project\n"
     ]
    }
   ],
   "source": [
    "X_psd, X_coh, X_gc, labels = data_tools.load_data(\"/work/mk423/Anxiety/sucroseCD_events.mat\",feature_list=[\"power\",\"coherence\",\"granger\"])"
   ]
  },
  {
   "cell_type": "code",
   "execution_count": 8,
   "id": "88522e4b-d2e3-4655-8161-b6b37b032424",
   "metadata": {
    "tags": []
   },
   "outputs": [
    {
     "name": "stdout",
     "output_type": "stream",
     "text": [
      "(2245, 10, 30)\n"
     ]
    }
   ],
   "source": [
    "X = np.hstack((X_psd*10,X_coh,X_gc))\n",
    "s = model.project(X)\n",
    "y_frame = np.array(labels['windows']['frame'])\n",
    "y_mouse = np.array(labels['windows']['mouse'])\n",
    "y_expDate = np.array(labels['windows']['expDate'])\n",
    "\n",
    "segs = []\n",
    "segs_mouse = []\n",
    "segs_expDate = []\n",
    "segs_pumpTime = []\n",
    "frames = [0]\n",
    "for frame in np.unique(y_frame):\n",
    "    if np.sum(y_frame==frame) == 10:\n",
    "        if np.sum(np.abs(np.array(frames) - frame) < 1000*0) == 0:\n",
    "            frame_mask = y_frame==frame\n",
    "            \n",
    "            if y_mouse[frame_mask==1][0] == \"Mouse04394\" and y_expDate[frame_mask==1][0] == \"070320\":\n",
    "                continue\n",
    "            else:\n",
    "                segs.append(s[frame_mask==1])\n",
    "                segs_mouse.append(y_mouse[frame_mask==1][0])\n",
    "                segs_expDate.append(y_expDate[frame_mask==1][0])\n",
    "                segs_pumpTime.append(frame)\n",
    "                frames.append(frame)\n",
    "        \n",
    "segs = np.array(segs)\n",
    "segs_mouse = np.array(segs_mouse)\n",
    "segs_expDate = np.array(segs_expDate)\n",
    "segs_pumpTime = np.array(segs_pumpTime)\n",
    "\n",
    "mouse_means = []\n",
    "mouse_id = []\n",
    "for mouse in np.unique(segs_mouse):\n",
    "    mouse_mask = segs_mouse==mouse\n",
    "    temp_mean = np.mean(segs[mouse_mask==1,:,:],axis=0)\n",
    "    mouse_means.append(temp_mean)\n",
    "    mouse_id.append(mouse)\n",
    "    \n",
    "mouse_means = np.array(mouse_means)\n",
    "\n",
    "print(segs.shape)"
   ]
  },
  {
   "cell_type": "code",
   "execution_count": 32,
   "id": "08495ccb-d8f0-4066-b64c-6dc5afd731cf",
   "metadata": {
    "tags": []
   },
   "outputs": [
    {
     "name": "stdout",
     "output_type": "stream",
     "text": [
      "(2245, 10)\n"
     ]
    },
    {
     "data": {
      "text/html": [
       "<div>\n",
       "<style scoped>\n",
       "    .dataframe tbody tr th:only-of-type {\n",
       "        vertical-align: middle;\n",
       "    }\n",
       "\n",
       "    .dataframe tbody tr th {\n",
       "        vertical-align: top;\n",
       "    }\n",
       "\n",
       "    .dataframe thead th {\n",
       "        text-align: right;\n",
       "    }\n",
       "</style>\n",
       "<table border=\"1\" class=\"dataframe\">\n",
       "  <thead>\n",
       "    <tr style=\"text-align: right;\">\n",
       "      <th></th>\n",
       "      <th>mouse</th>\n",
       "      <th>expDate</th>\n",
       "      <th>pumpTime (ms)</th>\n",
       "      <th>-5</th>\n",
       "      <th>-4</th>\n",
       "      <th>-3</th>\n",
       "      <th>-2</th>\n",
       "      <th>-1</th>\n",
       "      <th>0</th>\n",
       "      <th>1</th>\n",
       "      <th>2</th>\n",
       "      <th>3</th>\n",
       "      <th>4</th>\n",
       "    </tr>\n",
       "  </thead>\n",
       "  <tbody>\n",
       "    <tr>\n",
       "      <th>0</th>\n",
       "      <td>Mouse04395</td>\n",
       "      <td>063020</td>\n",
       "      <td>50353</td>\n",
       "      <td>0.049662</td>\n",
       "      <td>0.042654</td>\n",
       "      <td>0.069905</td>\n",
       "      <td>0.008511</td>\n",
       "      <td>0.067456</td>\n",
       "      <td>0.013892</td>\n",
       "      <td>0.060629</td>\n",
       "      <td>0.042375</td>\n",
       "      <td>0.103242</td>\n",
       "      <td>0.013136</td>\n",
       "    </tr>\n",
       "    <tr>\n",
       "      <th>1</th>\n",
       "      <td>Mouse04391</td>\n",
       "      <td>061320</td>\n",
       "      <td>51529</td>\n",
       "      <td>0.019975</td>\n",
       "      <td>0.083915</td>\n",
       "      <td>0.019211</td>\n",
       "      <td>0.022284</td>\n",
       "      <td>0.005981</td>\n",
       "      <td>0.044725</td>\n",
       "      <td>0.002958</td>\n",
       "      <td>0.040248</td>\n",
       "      <td>0.025408</td>\n",
       "      <td>0.020571</td>\n",
       "    </tr>\n",
       "    <tr>\n",
       "      <th>2</th>\n",
       "      <td>Mouse04393</td>\n",
       "      <td>053120</td>\n",
       "      <td>53740</td>\n",
       "      <td>0.062076</td>\n",
       "      <td>0.065075</td>\n",
       "      <td>0.027933</td>\n",
       "      <td>0.046829</td>\n",
       "      <td>0.026761</td>\n",
       "      <td>0.0397</td>\n",
       "      <td>0.031759</td>\n",
       "      <td>0.070558</td>\n",
       "      <td>0.07552</td>\n",
       "      <td>0.005859</td>\n",
       "    </tr>\n",
       "    <tr>\n",
       "      <th>3</th>\n",
       "      <td>Mouse04395</td>\n",
       "      <td>062820</td>\n",
       "      <td>53929</td>\n",
       "      <td>0.020747</td>\n",
       "      <td>0.021448</td>\n",
       "      <td>0.008141</td>\n",
       "      <td>0.029459</td>\n",
       "      <td>0.027918</td>\n",
       "      <td>0.061562</td>\n",
       "      <td>0.052078</td>\n",
       "      <td>0.06389</td>\n",
       "      <td>0.018901</td>\n",
       "      <td>0.013652</td>\n",
       "    </tr>\n",
       "    <tr>\n",
       "      <th>4</th>\n",
       "      <td>Mouse04395</td>\n",
       "      <td>062520</td>\n",
       "      <td>59612</td>\n",
       "      <td>0.066894</td>\n",
       "      <td>0.042929</td>\n",
       "      <td>0.029189</td>\n",
       "      <td>0.041216</td>\n",
       "      <td>0.070883</td>\n",
       "      <td>0.015491</td>\n",
       "      <td>0.078175</td>\n",
       "      <td>0.044709</td>\n",
       "      <td>0.012541</td>\n",
       "      <td>0.125959</td>\n",
       "    </tr>\n",
       "  </tbody>\n",
       "</table>\n",
       "</div>"
      ],
      "text/plain": [
       "        mouse expDate pumpTime (ms)        -5        -4        -3        -2  \\\n",
       "0  Mouse04395  063020         50353  0.049662  0.042654  0.069905  0.008511   \n",
       "1  Mouse04391  061320         51529  0.019975  0.083915  0.019211  0.022284   \n",
       "2  Mouse04393  053120         53740  0.062076  0.065075  0.027933  0.046829   \n",
       "3  Mouse04395  062820         53929  0.020747  0.021448  0.008141  0.029459   \n",
       "4  Mouse04395  062520         59612  0.066894  0.042929  0.029189  0.041216   \n",
       "\n",
       "         -1         0         1         2         3         4  \n",
       "0  0.067456  0.013892  0.060629  0.042375  0.103242  0.013136  \n",
       "1  0.005981  0.044725  0.002958  0.040248  0.025408  0.020571  \n",
       "2  0.026761    0.0397  0.031759  0.070558   0.07552  0.005859  \n",
       "3  0.027918  0.061562  0.052078   0.06389  0.018901  0.013652  \n",
       "4  0.070883  0.015491  0.078175  0.044709  0.012541  0.125959  "
      ]
     },
     "execution_count": 32,
     "metadata": {},
     "output_type": "execute_result"
    }
   ],
   "source": [
    "comp_s = model.classifier[0].weight[0].detach().cpu().numpy()\n",
    "segs_agg = segs[:,:,:3] @ comp_s\n",
    "\n",
    "print(segs_agg.shape)\n",
    "\n",
    "eventsArray = np.hstack([segs_mouse.reshape(-1,1).astype(object),\n",
    "                        segs_expDate.reshape(-1,1).astype(object),\n",
    "                        segs_pumpTime.reshape(-1,1).astype(object),\n",
    "                        segs_agg])\n",
    "\n",
    "df = pd.DataFrame(eventsArray)\n",
    "df.columns = [\"mouse\",\"expDate\",\"pumpTime (ms)\", \"-5\",\"-4\",\"-3\",\"-2\",\"-1\",\"0\",\"1\",\"2\",\"3\",\"4\"]\n",
    "df.head()\n",
    "\n",
    "temp_means = []\n",
    "temp_mice = []\n",
    "for mouse in np.unique(df.mouse):\n",
    "    mean = np.nanmean(df[np.array(df.mouse).astype(str)==mouse][[\"-5\",\"-4\",\"-3\",\"-2\",\"-1\",\"0\",\"1\",\"2\",\"3\",\"4\"]].values,axis=0)\n",
    "    temp_means.append(mean)\n",
    "    temp_mice.append(mouse)\n",
    "    \n",
    "df_means = pd.DataFrame(np.hstack([np.array(temp_mice).astype(object).reshape(-1,1),np.vstack(temp_means).astype(object)]))\n",
    "df_means.to_csv(PROJECT_PATH + \"SucroseCD_5b5a_net_{}_means.csv\".format(i+1))\n",
    "   \n",
    "df.to_csv(PROJECT_PATH + \"SucroseCD_5b5a.csv\")\n",
    "df_means.to_csv(PROJECT_PATH + \"SucroseCD_5b5a_means.csv\".format(i+1))\n",
    "\n",
    "\n",
    "for i in range(3):\n",
    "\n",
    "    eventsArray = np.hstack([segs_mouse.reshape(-1,1).astype(object),\n",
    "                            segs_expDate.reshape(-1,1).astype(object),\n",
    "                            segs_pumpTime.reshape(-1,1).astype(object),\n",
    "                            segs[:,:,i]])\n",
    "\n",
    "    df = pd.DataFrame(eventsArray)\n",
    "    df.columns = [\"mouse\",\"expDate\",\"pumpTime (ms)\", \"-5\",\"-4\",\"-3\",\"-2\",\"-1\",\"0\",\"1\",\"2\",\"3\",\"4\"]\n",
    "    \n",
    "\n",
    "    df.to_csv(PROJECT_PATH + \"SucroseCD_5b5a_net_{}.csv\".format(i+1))\n",
    "    \n",
    "    temp_means = []\n",
    "    temp_mice = []\n",
    "    for mouse in np.unique(df.mouse):\n",
    "        mean = np.nanmean(df[np.array(df.mouse).astype(str)==mouse][[\"-5\",\"-4\",\"-3\",\"-2\",\"-1\",\"0\",\"1\",\"2\",\"3\",\"4\"]].values,axis=0)\n",
    "        temp_means.append(mean)\n",
    "        temp_mice.append(mouse)\n",
    "        \n",
    "    df_means = pd.DataFrame(np.hstack([np.array(temp_mice).astype(object).reshape(-1,1),np.vstack(temp_means).astype(object)]))\n",
    "    df_means.to_csv(PROJECT_PATH + \"SucroseCD_5b5a_net_{}_means.csv\".format(i+1))\n",
    "   \n",
    "df.head()"
   ]
  },
  {
   "cell_type": "code",
   "execution_count": 30,
   "id": "9a68ce6d-1fb8-4acf-8ebb-ddc026173c7c",
   "metadata": {},
   "outputs": [
    {
     "data": {
      "text/html": [
       "<div>\n",
       "<style scoped>\n",
       "    .dataframe tbody tr th:only-of-type {\n",
       "        vertical-align: middle;\n",
       "    }\n",
       "\n",
       "    .dataframe tbody tr th {\n",
       "        vertical-align: top;\n",
       "    }\n",
       "\n",
       "    .dataframe thead th {\n",
       "        text-align: right;\n",
       "    }\n",
       "</style>\n",
       "<table border=\"1\" class=\"dataframe\">\n",
       "  <thead>\n",
       "    <tr style=\"text-align: right;\">\n",
       "      <th></th>\n",
       "      <th>0</th>\n",
       "      <th>1</th>\n",
       "      <th>2</th>\n",
       "      <th>3</th>\n",
       "      <th>4</th>\n",
       "      <th>5</th>\n",
       "      <th>6</th>\n",
       "      <th>7</th>\n",
       "      <th>8</th>\n",
       "      <th>9</th>\n",
       "      <th>10</th>\n",
       "    </tr>\n",
       "  </thead>\n",
       "  <tbody>\n",
       "    <tr>\n",
       "      <th>0</th>\n",
       "      <td>Mouse04382</td>\n",
       "      <td>0.027358</td>\n",
       "      <td>0.032614</td>\n",
       "      <td>0.031981</td>\n",
       "      <td>0.035688</td>\n",
       "      <td>0.039655</td>\n",
       "      <td>0.032964</td>\n",
       "      <td>0.033188</td>\n",
       "      <td>0.02313</td>\n",
       "      <td>0.032595</td>\n",
       "      <td>0.027647</td>\n",
       "    </tr>\n",
       "    <tr>\n",
       "      <th>1</th>\n",
       "      <td>Mouse04383</td>\n",
       "      <td>0.015925</td>\n",
       "      <td>0.023553</td>\n",
       "      <td>0.023125</td>\n",
       "      <td>0.026151</td>\n",
       "      <td>0.026234</td>\n",
       "      <td>0.02236</td>\n",
       "      <td>0.028183</td>\n",
       "      <td>0.023555</td>\n",
       "      <td>0.021928</td>\n",
       "      <td>0.023698</td>\n",
       "    </tr>\n",
       "    <tr>\n",
       "      <th>2</th>\n",
       "      <td>Mouse04384</td>\n",
       "      <td>0.033726</td>\n",
       "      <td>0.034643</td>\n",
       "      <td>0.032655</td>\n",
       "      <td>0.036172</td>\n",
       "      <td>0.035452</td>\n",
       "      <td>0.038712</td>\n",
       "      <td>0.033909</td>\n",
       "      <td>0.032968</td>\n",
       "      <td>0.027822</td>\n",
       "      <td>0.033627</td>\n",
       "    </tr>\n",
       "    <tr>\n",
       "      <th>3</th>\n",
       "      <td>Mouse04385</td>\n",
       "      <td>0.007336</td>\n",
       "      <td>0.023396</td>\n",
       "      <td>0.019621</td>\n",
       "      <td>0.027104</td>\n",
       "      <td>0.033721</td>\n",
       "      <td>0.021942</td>\n",
       "      <td>0.01697</td>\n",
       "      <td>0.013576</td>\n",
       "      <td>0.028305</td>\n",
       "      <td>0.012537</td>\n",
       "    </tr>\n",
       "    <tr>\n",
       "      <th>4</th>\n",
       "      <td>Mouse04391</td>\n",
       "      <td>0.03602</td>\n",
       "      <td>0.031691</td>\n",
       "      <td>0.032215</td>\n",
       "      <td>0.031199</td>\n",
       "      <td>0.033183</td>\n",
       "      <td>0.030053</td>\n",
       "      <td>0.028169</td>\n",
       "      <td>0.024007</td>\n",
       "      <td>0.028598</td>\n",
       "      <td>0.031388</td>\n",
       "    </tr>\n",
       "    <tr>\n",
       "      <th>5</th>\n",
       "      <td>Mouse04392</td>\n",
       "      <td>0.024236</td>\n",
       "      <td>0.017386</td>\n",
       "      <td>0.015279</td>\n",
       "      <td>0.010328</td>\n",
       "      <td>0.014984</td>\n",
       "      <td>0.017655</td>\n",
       "      <td>0.009571</td>\n",
       "      <td>0.00758</td>\n",
       "      <td>0.02732</td>\n",
       "      <td>0.016867</td>\n",
       "    </tr>\n",
       "    <tr>\n",
       "      <th>6</th>\n",
       "      <td>Mouse04393</td>\n",
       "      <td>0.046698</td>\n",
       "      <td>0.043979</td>\n",
       "      <td>0.044219</td>\n",
       "      <td>0.048417</td>\n",
       "      <td>0.048245</td>\n",
       "      <td>0.042919</td>\n",
       "      <td>0.049915</td>\n",
       "      <td>0.043734</td>\n",
       "      <td>0.031236</td>\n",
       "      <td>0.038017</td>\n",
       "    </tr>\n",
       "    <tr>\n",
       "      <th>7</th>\n",
       "      <td>Mouse04394</td>\n",
       "      <td>0.042851</td>\n",
       "      <td>0.04616</td>\n",
       "      <td>0.052942</td>\n",
       "      <td>0.057884</td>\n",
       "      <td>0.057492</td>\n",
       "      <td>0.047816</td>\n",
       "      <td>0.051353</td>\n",
       "      <td>0.044037</td>\n",
       "      <td>0.048041</td>\n",
       "      <td>0.050604</td>\n",
       "    </tr>\n",
       "    <tr>\n",
       "      <th>8</th>\n",
       "      <td>Mouse04395</td>\n",
       "      <td>0.030343</td>\n",
       "      <td>0.027531</td>\n",
       "      <td>0.029093</td>\n",
       "      <td>0.03248</td>\n",
       "      <td>0.03716</td>\n",
       "      <td>0.028829</td>\n",
       "      <td>0.038994</td>\n",
       "      <td>0.030139</td>\n",
       "      <td>0.027203</td>\n",
       "      <td>0.028916</td>\n",
       "    </tr>\n",
       "  </tbody>\n",
       "</table>\n",
       "</div>"
      ],
      "text/plain": [
       "           0         1         2         3         4         5         6   \\\n",
       "0  Mouse04382  0.027358  0.032614  0.031981  0.035688  0.039655  0.032964   \n",
       "1  Mouse04383  0.015925  0.023553  0.023125  0.026151  0.026234   0.02236   \n",
       "2  Mouse04384  0.033726  0.034643  0.032655  0.036172  0.035452  0.038712   \n",
       "3  Mouse04385  0.007336  0.023396  0.019621  0.027104  0.033721  0.021942   \n",
       "4  Mouse04391   0.03602  0.031691  0.032215  0.031199  0.033183  0.030053   \n",
       "5  Mouse04392  0.024236  0.017386  0.015279  0.010328  0.014984  0.017655   \n",
       "6  Mouse04393  0.046698  0.043979  0.044219  0.048417  0.048245  0.042919   \n",
       "7  Mouse04394  0.042851   0.04616  0.052942  0.057884  0.057492  0.047816   \n",
       "8  Mouse04395  0.030343  0.027531  0.029093   0.03248   0.03716  0.028829   \n",
       "\n",
       "         7         8         9         10  \n",
       "0  0.033188   0.02313  0.032595  0.027647  \n",
       "1  0.028183  0.023555  0.021928  0.023698  \n",
       "2  0.033909  0.032968  0.027822  0.033627  \n",
       "3   0.01697  0.013576  0.028305  0.012537  \n",
       "4  0.028169  0.024007  0.028598  0.031388  \n",
       "5  0.009571   0.00758   0.02732  0.016867  \n",
       "6  0.049915  0.043734  0.031236  0.038017  \n",
       "7  0.051353  0.044037  0.048041  0.050604  \n",
       "8  0.038994  0.030139  0.027203  0.028916  "
      ]
     },
     "execution_count": 30,
     "metadata": {},
     "output_type": "execute_result"
    }
   ],
   "source": [
    "df_means"
   ]
  },
  {
   "cell_type": "code",
   "execution_count": 23,
   "id": "4d38e51c-dbdf-45c3-aef2-dd0a01aea11d",
   "metadata": {},
   "outputs": [
    {
     "name": "stdout",
     "output_type": "stream",
     "text": [
      "Mouse04382 [0.027357600851577114 0.032614267113703216 0.0319811554456299\n",
      " 0.03568833703386851 0.039655235976996744 0.032964255173944614\n",
      " 0.0331881439038129 0.02312980810264972 0.0325949300842529\n",
      " 0.027647238087163052]\n",
      "Mouse04383 [0.015925013916598108 0.02355279880654883 0.023125179521327477\n",
      " 0.026150566707566426 0.02623402710236061 0.022359937883831116\n",
      " 0.02818270976051071 0.023554849990862978 0.021928188190836202\n",
      " 0.023697961309116042]\n",
      "Mouse04384 [0.03372614290483619 0.034642804738435125 0.03265494960676112\n",
      " 0.03617174507590101 0.03545178717237233 0.0387117507334773\n",
      " 0.03390898565100165 0.03296764691558343 0.027821591441684952\n",
      " 0.03362653366694736]\n",
      "Mouse04385 [0.00733611515412728 0.02339550418158372 0.019621084133783977\n",
      " 0.027104085311293602 0.03372085575635234 0.02194235473871231\n",
      " 0.016970061386624973 0.013576345207790533 0.028305359184741974\n",
      " 0.012536623359968265]\n",
      "Mouse04391 [0.036020382399759625 0.03169071763352947 0.03221520249089257\n",
      " 0.03119912072035827 0.033182688297146296 0.03005268997405533\n",
      " 0.02816865948568049 0.02400712890668824 0.028597738440830175\n",
      " 0.03138821867497953]\n",
      "Mouse04392 [0.024235813412815332 0.017386126925703137 0.015278891730122268\n",
      " 0.010327797720674426 0.014983589015901088 0.017655060265678913\n",
      " 0.009570654627168551 0.007579750986769796 0.027319684717804195\n",
      " 0.01686671661445871]\n",
      "Mouse04393 [0.046698357045703895 0.04397853037923954 0.044218904593676965\n",
      " 0.048416742135801515 0.048244944285608 0.04291903525171581\n",
      " 0.04991527858479346 0.043734429316138364 0.031236410881000928\n",
      " 0.03801729421377385]\n",
      "Mouse04394 [0.042850774246004066 0.04615954087592482 0.05294212318590634\n",
      " 0.05788390434732435 0.05749249160629209 0.04781609492398439\n",
      " 0.0513532554793642 0.04403714303366383 0.04804147724554639\n",
      " 0.05060392922412956]\n",
      "Mouse04395 [0.030342519595511826 0.027530824150010166 0.02909317029881381\n",
      " 0.032479741080568995 0.0371595866032089 0.028829273356079942\n",
      " 0.03899437817498963 0.030138656707765304 0.027203219534953325\n",
      " 0.028916056830864487]\n"
     ]
    }
   ],
   "source": [
    "for mouse in np.unique(df.mouse):\n",
    "    mean = np.nanmean(df[np.array(df.mouse).astype(str)==mouse][[\"-5\",\"-4\",\"-3\",\"-2\",\"-1\",\"0\",\"1\",\"2\",\"3\",\"4\"]].values,axis=0)\n",
    "    print(mouse,mean)"
   ]
  },
  {
   "cell_type": "code",
   "execution_count": 11,
   "id": "1d9cec97-2f8b-4dd1-8ba7-c86cdfcd0aa5",
   "metadata": {
    "tags": []
   },
   "outputs": [
    {
     "name": "stdout",
     "output_type": "stream",
     "text": [
      "Mouse04381 Date: 070420 Smallest pump offset in seconds:  22.189\n",
      "Mouse04382 Date: 062320 Smallest pump offset in seconds:  10.341\n",
      "Mouse04382 Date: 062420 Smallest pump offset in seconds:  10.586\n",
      "Mouse04382 Date: 062520 Smallest pump offset in seconds:  9.658\n",
      "Mouse04382 Date: 062620 Smallest pump offset in seconds:  9.791\n",
      "Mouse04382 Date: 062720 Smallest pump offset in seconds:  11.322\n",
      "Mouse04383 Date: 062420 Smallest pump offset in seconds:  8.56\n",
      "Mouse04383 Date: 062520 Smallest pump offset in seconds:  9.454\n",
      "Mouse04383 Date: 062620 Smallest pump offset in seconds:  9.785\n",
      "Mouse04383 Date: 062720 Smallest pump offset in seconds:  9.27\n",
      "Mouse04384 Date: 061920 Smallest pump offset in seconds:  7.052\n",
      "Mouse04384 Date: 062020 Smallest pump offset in seconds:  6.708\n",
      "Mouse04384 Date: 071420 Smallest pump offset in seconds:  10.87\n",
      "Mouse04384 Date: 071820 Smallest pump offset in seconds:  9.324\n",
      "Mouse04384 Date: 071920 Smallest pump offset in seconds:  9.96\n",
      "Mouse04385 Date: 062120 Smallest pump offset in seconds:  8.744\n",
      "Mouse04385 Date: 062720 Smallest pump offset in seconds:  10.903\n",
      "Mouse04391 Date: 060920 Smallest pump offset in seconds:  7.417\n",
      "Mouse04391 Date: 061120 Smallest pump offset in seconds:  8.451\n",
      "Mouse04391 Date: 061220 Smallest pump offset in seconds:  9.608\n",
      "Mouse04391 Date: 061320 Smallest pump offset in seconds:  8.452\n",
      "Mouse04391 Date: 061420 Smallest pump offset in seconds:  8.83\n",
      "Mouse04391 Date: 062620 Smallest pump offset in seconds:  9.075\n",
      "Mouse04392 Date: 061020 Smallest pump offset in seconds:  8.975\n",
      "Mouse04392 Date: 061120 Smallest pump offset in seconds:  1000.0\n",
      "Mouse04392 Date: 061220 Smallest pump offset in seconds:  10.564\n",
      "Mouse04393 Date: 053020 Smallest pump offset in seconds:  8.72\n",
      "Mouse04393 Date: 053120 Smallest pump offset in seconds:  6.842\n",
      "Mouse04393 Date: 060120 Smallest pump offset in seconds:  8.16\n",
      "Mouse04394 Date: 062220 Smallest pump offset in seconds:  8.84\n",
      "Mouse04394 Date: 062320 Smallest pump offset in seconds:  9.218\n",
      "Mouse04394 Date: 062420 Smallest pump offset in seconds:  9.645\n",
      "Mouse04394 Date: 062520 Smallest pump offset in seconds:  9.564\n",
      "Mouse04394 Date: 062620 Smallest pump offset in seconds:  8.576\n",
      "Mouse04394 Date: 062720 Smallest pump offset in seconds:  9.28\n",
      "Mouse04394 Date: 070220 Smallest pump offset in seconds:  9.071\n",
      "Mouse04394 Date: 070320 Smallest pump offset in seconds:  1.687\n",
      "Mouse04395 Date: 062520 Smallest pump offset in seconds:  9.674\n",
      "Mouse04395 Date: 062620 Smallest pump offset in seconds:  9.91\n",
      "Mouse04395 Date: 062720 Smallest pump offset in seconds:  8.406\n",
      "Mouse04395 Date: 062820 Smallest pump offset in seconds:  8.218\n",
      "Mouse04395 Date: 062920 Smallest pump offset in seconds:  10.404\n",
      "Mouse04395 Date: 063020 Smallest pump offset in seconds:  9.363\n"
     ]
    }
   ],
   "source": [
    "for mouse in np.unique(y_mouse):\n",
    "    for expDate in np.unique(y_expDate):\n",
    "        \n",
    "        mouse_mask = y_mouse == mouse\n",
    "        expDate_mask = y_expDate == expDate\n",
    "        mask = np.logical_and(mouse_mask,expDate_mask)\n",
    "        \n",
    "        \n",
    "\n",
    "        \n",
    "        if np.sum(mask) > 0:\n",
    "            temp_frames = y_frame[mask==1]\n",
    "            min_dif = 1000000\n",
    "            for idx,frame in enumerate(np.unique(temp_frames)):\n",
    "                if idx > 1:\n",
    "                    diff = np.unique(temp_frames)[idx] - np.unique(temp_frames)[idx-1]\n",
    "\n",
    "                    if diff < min_dif:\n",
    "                        min_dif = diff\n",
    "\n",
    "            print(mouse,\"Date:\",expDate,\"Smallest pump offset in seconds: \",min_dif/1000)\n",
    "            "
   ]
  },
  {
   "cell_type": "code",
   "execution_count": 41,
   "id": "22202715-46f7-4b2a-ad65-5b806053d615",
   "metadata": {
    "tags": []
   },
   "outputs": [
    {
     "data": {
      "text/plain": [
       "(9, 10, 30)"
      ]
     },
     "execution_count": 41,
     "metadata": {},
     "output_type": "execute_result"
    }
   ],
   "source": [
    "mouse_means.shape"
   ]
  },
  {
   "cell_type": "code",
   "execution_count": 64,
   "id": "8c2759da-7e1e-4dea-b7a7-ff7f863a24cc",
   "metadata": {
    "tags": []
   },
   "outputs": [
    {
     "data": {
      "image/png": "[encoded data removed]",
      "text/plain": [
       "<Figure size 720x360 with 1 Axes>"
      ]
     },
     "metadata": {
      "needs_background": "light"
     },
     "output_type": "display_data"
    }
   ],
   "source": [
    "plt.figure(figsize=(10, 5))\n",
    "comp_s = model.classifier[0].weight[0].detach().cpu().numpy()\n",
    "#for i in [1]:\n",
    "net = \"comp\"\n",
    "mean = np.mean(mouse_means[:,:,:3] @ comp_s,axis=0)\n",
    "stderr = np.std(mouse_means[:,:,:3] @ comp_s,axis=0) / np.sqrt(mouse_means.shape[0])\n",
    "plt.axvline(0,linestyle=\"dashed\",color=\"red\",label=\"pump\")\n",
    "plt.plot(np.arange(10) - 5,mean)#label=\"network {}\".format(net))\n",
    "plt.fill_between(np.arange(10) - 5, mean + stderr, mean - stderr,alpha=0.5)\n",
    "#plt.fill_between(np.arange(4) -3, 0,5,alpha=0.2,color=\"red\",label=\"pre-pump\")\n",
    "#plt.fill_between(np.arange(3), 0,5,alpha=0.2,color=\"green\",label=\"post-pump\")\n",
    "plt.title(\"Sucrose Countdown Anxiety Network Activity (n={})\".format(len(mouse_id)))\n",
    "plt.ylim([3,4.5])\n",
    "plt.xticks(np.arange(10)-5)\n",
    "#plt.xlim([-5,5])\n",
    "plt.legend(loc=\"upper left\")\n",
    "plt.ylabel(\"Aggregate Network Score\")\n",
    "plt.xlabel(\"Time to Event (s)\")\n",
    "plt.show()"
   ]
  },
  {
   "cell_type": "code",
   "execution_count": 70,
   "id": "f47a5204-60bc-4e55-bd1c-a9fa6b363ac5",
   "metadata": {
    "tags": []
   },
   "outputs": [
    {
     "data": {
      "text/plain": [
       "array(['Mouse04382', 'Mouse04383', 'Mouse04384', 'Mouse04385',\n",
       "       'Mouse04391', 'Mouse04392', 'Mouse04393', 'Mouse04394',\n",
       "       'Mouse04395'], dtype='<U10')"
      ]
     },
     "execution_count": 70,
     "metadata": {},
     "output_type": "execute_result"
    }
   ],
   "source": [
    "plt.figure(figsize=(10, 5))\n",
    "comp_s = model.classifier[0].weight[0].detach().cpu().numpy()\n",
    "for i in [0,1,2]:\n",
    "    net = i\n",
    "    mean = np.mean(mouse_means[:,:,net],axis=0)\n",
    "    stderr = np.std(mouse_means[:,:,net],axis=0) / np.sqrt(mouse_means.shape[0])\n",
    "    plt.plot(np.arange(6) -3,mean,label=\"network {}\".format(net+1))\n",
    "    plt.fill_between(np.arange(6) -3, mean + stderr, mean - stderr,alpha=0.5)\n",
    "plt.fill_between(np.arange(4) -3, 0,5,alpha=0.2,color=\"red\",label=\"pre-pump\")\n",
    "plt.fill_between(np.arange(3), 0,5,alpha=0.2,color=\"green\",label=\"post-pump\")\n",
    "plt.title(\"Sucrose Countdown Anxiety Network Activity (n={})\".format(len(mouse_id)))\n",
    "plt.ylim([0.025,0.3])\n",
    "plt.xlim([-2,2])\n",
    "plt.legend(loc=\"upper left\")\n",
    "plt.ylabel(\"Individual Network Score\")\n",
    "plt.xlabel(\"Time to Event (s)\")\n",
    "plt.show()"
   ]
  },
  {
   "cell_type": "code",
   "execution_count": 82,
   "id": "79f36775-972f-4047-9cfe-452889c50c28",
   "metadata": {
    "tags": []
   },
   "outputs": [
    {
     "data": {
      "text/plain": [
       "array(['Mouse04381', 'Mouse04382', 'Mouse04383', 'Mouse04384',\n",
       "       'Mouse04385', 'Mouse04391', 'Mouse04392', 'Mouse04393',\n",
       "       'Mouse04394', 'Mouse04395'], dtype='<U10')"
      ]
     },
     "execution_count": 82,
     "metadata": {},
     "output_type": "execute_result"
    }
   ],
   "source": [
    "np.unique(labels['windows']['mouse'])"
   ]
  },
  {
   "cell_type": "code",
   "execution_count": 84,
   "id": "2200269c-305f-474b-b94a-308d28d15184",
   "metadata": {
    "tags": []
   },
   "outputs": [
    {
     "data": {
      "text/plain": [
       "array(['053020', '053120', '060120', '060920', '061020', '061120',\n",
       "       '061220', '061320', '061420', '061920', '062020', '062120',\n",
       "       '062220', '062320', '062420', '062520', '062620', '062720',\n",
       "       '062820', '062920', '063020', '070220', '070320', '070420',\n",
       "       '071420', '071820', '071920'], dtype='<U6')"
      ]
     },
     "execution_count": 84,
     "metadata": {},
     "output_type": "execute_result"
    }
   ],
   "source": [
    "np.unique(labels['windows']['expDate'])"
   ]
  },
  {
   "cell_type": "code",
   "execution_count": 88,
   "id": "1cd05ba6-2127-4edd-9886-ca8610ba5721",
   "metadata": {
    "tags": []
   },
   "outputs": [
    {
     "name": "stdout",
     "output_type": "stream",
     "text": [
      "Mouse04381 ['070420']\n",
      "Mouse04382 ['062320' '062420' '062520' '062620' '062720']\n",
      "Mouse04383 ['062420' '062520' '062620' '062720']\n",
      "Mouse04384 ['061920' '062020' '071420' '071820' '071920']\n",
      "Mouse04385 ['062120' '062720']\n",
      "Mouse04391 ['060920' '061120' '061220' '061320' '061420' '062620']\n",
      "Mouse04392 ['061020' '061220']\n",
      "Mouse04393 ['053020' '053120' '060120']\n",
      "Mouse04394 ['062220' '062320' '062420' '062520' '062620' '062720' '070220' '070320']\n",
      "Mouse04395 ['062520' '062620' '062720' '062820' '062920' '063020']\n"
     ]
    }
   ],
   "source": [
    "for mouse in np.unique(labels['windows']['mouse']):\n",
    "    mouse_mask = y_mouse==mouse\n",
    "    \n",
    "    print(mouse,np.unique(np.array(labels['windows']['expDate'])[mouse_mask==1]))"
   ]
  },
  {
   "cell_type": "code",
   "execution_count": 87,
   "id": "9139ce04-36ea-4725-86a9-7ad647e206a0",
   "metadata": {
    "tags": []
   },
   "outputs": [
    {
     "data": {
      "text/plain": [
       "array(['062520', '062520', '062520', ..., '063020', '063020', '063020'],\n",
       "      dtype='<U6')"
      ]
     },
     "execution_count": 87,
     "metadata": {},
     "output_type": "execute_result"
    }
   ],
   "source": [
    "np.array(labels['windows']['expDate'])[mouse_mask==1]"
   ]
  },
  {
   "cell_type": "code",
   "execution_count": null,
   "id": "5e238cc7-fd0d-4734-9f16-8d87bdd7fba4",
   "metadata": {},
   "outputs": [],
   "source": []
  }
 ],
 "metadata": {
  "kernelspec": {
   "display_name": "Python 3 (ipykernel)",
   "language": "python",
   "name": "python3"
  },
  "language_info": {
   "codemirror_mode": {
    "name": "ipython",
    "version": 3
   },
   "file_extension": ".py",
   "mimetype": "text/x-python",
   "name": "python",
   "nbconvert_exporter": "python",
   "pygments_lexer": "ipython3",
   "version": "3.7.13"
  }
 },
 "nbformat": 4,
 "nbformat_minor": 5
}

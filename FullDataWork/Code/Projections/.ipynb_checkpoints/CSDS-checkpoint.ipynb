{
 "cells": [
  {
   "cell_type": "markdown",
   "id": "66ecbd66-a171-4c33-aa74-212614083341",
   "metadata": {},
   "source": [
    "### CSDS\n",
    "\n",
    "Homecage vs Task labels need to be generated. Although it is unlikely that this will provide a different result for csds vs control."
   ]
  },
  {
   "cell_type": "code",
   "execution_count": null,
   "id": "09a4f517-2378-4226-a191-0ea43d9568d0",
   "metadata": {},
   "outputs": [
    {
     "name": "stderr",
     "output_type": "stream",
     "text": [
      "/opt/conda/lib/python3.7/site-packages/tqdm/auto.py:22: TqdmWarning: IProgress not found. Please update jupyter and ipywidgets. See https://ipywidgets.readthedocs.io/en/stable/user_install.html\n",
      "  from .autonotebook import tqdm as notebook_tqdm\n",
      "/hpc/home/mk423/.local/lib/python3.7/site-packages/lpne/pipelines/__init__.py:14: UserWarning: Could not load lpne/pipelines/default_params.yaml!\n",
      "  warnings.warn(\"Could not load lpne/pipelines/default_params.yaml!\")\n"
     ]
    }
   ],
   "source": [
    "import numpy as np\n",
    "import pandas as pd\n",
    "import torch\n",
    "import pickle\n",
    "import matplotlib.pyplot as plt\n",
    "from lpne.models import DcsfaNmf\n",
    "\n",
    "MODEL_FILE = \"/hpc/home/mk423/Anxiety/FullDataWork/Models/Final_mt_Model_500_epochs.pt\"\n",
    "DATA_PATH = \"/work/mk423/Anxiety/\"\n",
    "PROJECT_PATH = \"/hpc/home/mk423/Anxiety/FullDataWork/Projections/\"\n",
    "csds_file = DATA_PATH + \"csds_epm_data.pkl\"\n",
    "proj_file = PROJECT_PATH + \"csds_projection.csv\"\n",
    "model = torch.load(MODEL_FILE,map_location=\"cpu\")\n",
    "model.device=\"cpu\"\n",
    "\n",
    "\n",
    "FEATURE_LIST = ['X_power_1_2','X_coh_1_2','X_gc_1_2']\n",
    "FEATURE_WEIGHT = [10,1,1]"
   ]
  },
  {
   "cell_type": "code",
   "execution_count": 8,
   "id": "77601859-83bf-452f-a729-51d9db9f787c",
   "metadata": {},
   "outputs": [
    {
     "name": "stderr",
     "output_type": "stream",
     "text": [
      "/opt/conda/lib/python3.7/site-packages/ipykernel_launcher.py:7: RuntimeWarning: invalid value encountered in remainder\n",
      "  import sys\n"
     ]
    },
    {
     "name": "stdout",
     "output_type": "stream",
     "text": [
      "Stressed vs Control AUC 0.517\n",
      "HC Stressed vs Control AUC 0.546\n",
      "Task Stressed vs Control AUC 0.488\n",
      "HC vs Task AUC 0.565\n",
      "ROI AUC 0.519 +/- 0.011 (n=20)\n"
     ]
    }
   ],
   "source": [
    "csds_data_dict = pickle.load(open(csds_file,'rb'))\n",
    "\n",
    "X = np.hstack([csds_data_dict[feature]*weight for feature,weight in zip(FEATURE_LIST,FEATURE_WEIGHT)])\n",
    "y = csds_data_dict['y']\n",
    "y_task = csds_data_dict['y_task']\n",
    "y_time = np.array(csds_data_dict['y_time'])\n",
    "y_roi = csds_data_dict['y_roi']%2==0\n",
    "y_mouse = np.array(csds_data_dict['y_mouse'])\n",
    "nan_mask = np.isnan(y)\n",
    "roi_nan_mask = np.isnan(y_roi)\n",
    "\n",
    "hc_nan_mask = np.logical_and(y_task==0,nan_mask==0)\n",
    "task_nan_mask = np.logical_and(y_task==1,nan_mask==0)\n",
    "\n",
    "stressed_vs_control_auc = model.score(X[nan_mask==0],y[nan_mask==0])\n",
    "hc_stressed_vs_control_auc = model.score(X[hc_nan_mask==1],y[hc_nan_mask==1])\n",
    "task_stressed_vs_control_auc = model.score(X[task_nan_mask==1],y[task_nan_mask==1])\n",
    "\n",
    "hc_vs_task_auc = model.score(X[~np.isnan(y_task)==1],y_task[~np.isnan(y_task)==1])\n",
    "roi_auc = model.score(X[roi_nan_mask==0],y_roi[roi_nan_mask==0],y_mouse[roi_nan_mask==0],return_dict=True)\n",
    "roi_auc_list = [roi_auc[key] for key in roi_auc.keys() if not np.isnan(roi_auc[key])]\n",
    "\n",
    "roi_mean = np.mean(roi_auc_list)\n",
    "roi_stderr = np.std(roi_auc_list) / np.sqrt(len(roi_auc_list))\n",
    "\n",
    "print(\"Stressed vs Control AUC {:.3f}\".format(stressed_vs_control_auc))\n",
    "print(\"HC Stressed vs Control AUC {:.3f}\".format(hc_stressed_vs_control_auc))\n",
    "print(\"Task Stressed vs Control AUC {:.3f}\".format(task_stressed_vs_control_auc))\n",
    "\n",
    "print(\"HC vs Task AUC {:.3f}\".format(hc_vs_task_auc))\n",
    "print(\"ROI AUC {:.3f} +/- {:.3f} (n={})\".format(roi_mean,roi_stderr,len(roi_auc_list)))"
   ]
  },
  {
   "cell_type": "code",
   "execution_count": null,
   "id": "98ba87cc-4b18-45da-84cc-8ad7d0795f29",
   "metadata": {},
   "outputs": [],
   "source": []
  }
 ],
 "metadata": {
  "kernelspec": {
   "display_name": "Python 3 (ipykernel)",
   "language": "python",
   "name": "python3"
  },
  "language_info": {
   "codemirror_mode": {
    "name": "ipython",
    "version": 3
   },
   "file_extension": ".py",
   "mimetype": "text/x-python",
   "name": "python",
   "nbconvert_exporter": "python",
   "pygments_lexer": "ipython3",
   "version": "3.7.13"
  }
 },
 "nbformat": 4,
 "nbformat_minor": 5
}

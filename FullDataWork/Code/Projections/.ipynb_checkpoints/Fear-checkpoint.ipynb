{
 "cells": [
  {
   "cell_type": "code",
   "execution_count": 1,
   "id": "84a62f37-e504-493f-8e61-845aa04d8bb1",
   "metadata": {},
   "outputs": [
    {
     "name": "stderr",
     "output_type": "stream",
     "text": [
      "/hpc/home/mk423/.local/lib/python3.7/site-packages/lpne/pipelines/__init__.py:14: UserWarning: Could not load lpne/pipelines/default_params.yaml!\n",
      "  warnings.warn(\"Could not load lpne/pipelines/default_params.yaml!\")\n"
     ]
    }
   ],
   "source": [
    "import numpy as np\n",
    "import pandas as pd\n",
    "import torch\n",
    "import pickle\n",
    "import matplotlib.pyplot as plt\n",
    "from lpne.models import DcsfaNmf\n",
    "import os, sys\n",
    "\n",
    "MODEL_FILE = \"/hpc/home/mk423/Anxiety/FullDataWork/Models/Final_mt_Model_500_epochs.pt\"\n",
    "DATA_PATH = \"/work/mk423/Anxiety/FearConditioning_Data.pkl\"\n",
    "PROJECT_PATH = \"/hpc/home/mk423/Anxiety/FullDataWork/Projections/\"\n",
    "FIGURE_PATH = \"/hpc/home/mk423/Anxiety/FullDataWork/Figures/\"\n",
    "\n",
    "model = torch.load(MODEL_FILE,map_location=\"cpu\")\n",
    "model.device=\"cpu\"\n",
    "\n",
    "feature_list = [\"X_psd\",\"X_coh\",\"X_gc\"]\n",
    "feature_weights = [10,1,1]\n"
   ]
  },
  {
   "cell_type": "code",
   "execution_count": 2,
   "id": "ba903dd4-2b25-4347-86c8-15bf43cfe468",
   "metadata": {},
   "outputs": [],
   "source": [
    "with open(DATA_PATH,\"rb\") as f:\n",
    "    dataDict = pickle.load(f)"
   ]
  },
  {
   "cell_type": "code",
   "execution_count": 3,
   "id": "d0a977db-188d-40c3-a240-2cb3c9503868",
   "metadata": {},
   "outputs": [
    {
     "data": {
      "text/plain": [
       "dict_keys(['X_psd', 'X_coh', 'X_gc', 'y_time', 'y_mouse', 'y_expDate', 'y_freeze_w_tone', 'y_freeze_only', 'y_tone_only', 'version', 'labels_dict', 'old_labels_dict', 'info'])"
      ]
     },
     "execution_count": 3,
     "metadata": {},
     "output_type": "execute_result"
    }
   ],
   "source": [
    "dataDict.keys()"
   ]
  },
  {
   "cell_type": "code",
   "execution_count": 36,
   "id": "dbe8d369-08d3-4de4-bd78-4f51dc1be8cd",
   "metadata": {
    "tags": []
   },
   "outputs": [
    {
     "data": {
      "text/plain": [
       "3673"
      ]
     },
     "execution_count": 36,
     "metadata": {},
     "output_type": "execute_result"
    }
   ],
   "source": [
    "np.sum(np.logical_and(1 - dataDict['y_freeze_w_tone'],dataDict['y_tone_only']))"
   ]
  },
  {
   "cell_type": "code",
   "execution_count": 43,
   "id": "f14d1811-a554-4872-88d5-f8c1d6526ee4",
   "metadata": {},
   "outputs": [],
   "source": [
    "X = np.hstack([dataDict[key]*weight for key, weight in zip(feature_list,feature_weights)])\n",
    "y = dataDict['y_freeze_w_tone']\n",
    "y_tnf = np.logical_and(1 - dataDict['y_freeze_w_tone'],dataDict['y_tone_only'])\n",
    "y_time = dataDict['y_time']\n",
    "y_mouse = dataDict['y_mouse'].squeeze()\n",
    "y_expDate = dataDict['y_expDate']\n",
    "s = model.project(X)\n",
    "coeffs = np.abs(model.classifier[0].weight[0].detach().cpu().numpy())\n",
    "\n",
    "s_agg = s[:,:3] @ coeffs"
   ]
  },
  {
   "cell_type": "code",
   "execution_count": 52,
   "id": "fe6bd068-210c-41d4-bbb8-40f16e830c5b",
   "metadata": {
    "tags": []
   },
   "outputs": [],
   "source": [
    "n_before = 3\n",
    "n_after = 4\n",
    "\n",
    "mouse_fwt_segs = []\n",
    "mouse_score_segs = []\n",
    "mouse_id = []\n",
    "idx_id = []\n",
    "time_id = []\n",
    "\n",
    "for mouse in np.unique(y_mouse):\n",
    "    mouse_mask = y_mouse==mouse\n",
    "    \n",
    "    temp_fwt = y.squeeze()[mouse_mask==1]\n",
    "    temp_scores = s_agg.squeeze()[mouse_mask==1]\n",
    "    temp_time = y_time.squeeze()[mouse_mask==1]\n",
    "    \n",
    "    for idx, fwt in enumerate(temp_fwt):\n",
    "        if (idx > n_before) and idx < (len(temp_fwt) - n_after):\n",
    "            \n",
    "            if np.sum(temp_fwt[idx:idx+n_after])==n_after and np.sum(temp_fwt[idx-n_before:idx])==0:\n",
    "                fwt_seg = temp_fwt[idx-n_before:idx+n_after]\n",
    "                score_seg = temp_scores[idx-n_before:idx+n_after]\n",
    "                \n",
    "                mouse_fwt_segs.append(fwt_seg)\n",
    "                mouse_score_segs.append(score_seg)\n",
    "                mouse_id.append(mouse)\n",
    "                idx_id.append(idx)\n",
    "                time_id.append(temp_time[idx])\n",
    "                \n",
    "                \n",
    "scores_final = np.array(mouse_score_segs)\n",
    "mouse_final = np.array(mouse_id)\n",
    "idx_final = np.array(idx_id)\n",
    "time_final = np.array(time_id)\n",
    "        \n",
    "mouse_mean_scores = []\n",
    "for mouse in np.unique(mouse_final):\n",
    "    mouse_mask = mouse_final==mouse\n",
    "    mouse_mean_scores.append(np.mean(scores_final[mouse_mask==1,:],axis=0))\n",
    "    \n",
    "mouse_mean_scores = np.array(mouse_mean_scores)\n",
    "mean = np.mean(mouse_mean_scores,axis=0)\n",
    "stderr = np.std(mouse_mean_scores,axis=0) / np.sqrt(mouse_mean_scores.shape[0])\n",
    "    \n"
   ]
  },
  {
   "cell_type": "code",
   "execution_count": 53,
   "id": "377694df-b12a-4773-87f4-8050f6c4707a",
   "metadata": {
    "tags": []
   },
   "outputs": [],
   "source": [
    "n_before = 3\n",
    "n_after = 4\n",
    "\n",
    "mouse_tnf_segs = []\n",
    "mouse_score_segs = []\n",
    "mouse_id = []\n",
    "idx_id = []\n",
    "time_id = []\n",
    "\n",
    "for mouse in np.unique(y_mouse):\n",
    "    mouse_mask = y_mouse==mouse\n",
    "    \n",
    "    temp_tnf = y_tnf.squeeze()[mouse_mask==1]\n",
    "    temp_scores = s_agg.squeeze()[mouse_mask==1]\n",
    "    temp_time = y_time.squeeze()[mouse_mask==1]\n",
    "    \n",
    "    for idx, tnf in enumerate(temp_tnf):\n",
    "        if (idx > n_before) and idx < (len(temp_fwt) - n_after):\n",
    "            \n",
    "            if np.sum(temp_tnf[idx:idx+n_after])==n_after and np.sum(temp_tnf[idx-n_before:idx])==0:\n",
    "                tnf_seg = temp_tnf[idx-n_before:idx+n_after]\n",
    "                score_seg = temp_scores[idx-n_before:idx+n_after]\n",
    "                \n",
    "                mouse_tnf_segs.append(tnf_seg)\n",
    "                mouse_score_segs.append(score_seg)\n",
    "                mouse_id.append(mouse)\n",
    "                idx_id.append(idx)\n",
    "                time_id.append(temp_time[idx])\n",
    "                \n",
    "                \n",
    "scores_final = np.array(mouse_score_segs)\n",
    "mouse_final = np.array(mouse_id)\n",
    "idx_final = np.array(idx_id)\n",
    "time_final = np.array(time_id)\n",
    "        \n",
    "mouse_mean_scores_tnf = []\n",
    "for mouse in np.unique(mouse_final):\n",
    "    mouse_mask = mouse_final==mouse\n",
    "    mouse_mean_scores_tnf.append(np.mean(scores_final[mouse_mask==1,:],axis=0))\n",
    "    \n",
    "mouse_mean_scores_tnf = np.array(mouse_mean_scores_tnf)\n",
    "mean_tnf = np.mean(mouse_mean_scores_tnf,axis=0)\n",
    "stderr_tnf = np.std(mouse_mean_scores_tnf,axis=0) / np.sqrt(mouse_mean_scores.shape[0])\n",
    "    "
   ]
  },
  {
   "cell_type": "code",
   "execution_count": 60,
   "id": "3ccb6688-8a84-4125-b2d6-c8c2037b34d0",
   "metadata": {
    "tags": []
   },
   "outputs": [
    {
     "data": {
      "image/png": "[encoded data removed]",
      "text/plain": [
       "<Figure size 720x360 with 1 Axes>"
      ]
     },
     "metadata": {
      "needs_background": "light"
     },
     "output_type": "display_data"
    }
   ],
   "source": [
    "plt.figure(figsize=(10,5))\n",
    "plt.plot(mean,label=\"Tone + Freeze (n={})\".format(mouse_mean_scores.shape[0]))\n",
    "plt.plot(mean_tnf,label=\"Tone w/o Freeze (n={})\".format(mouse_mean_scores_tnf.shape[0]))\n",
    "plt.axvline(x=n_before,color=\"red\",linestyle=\"dashed\",alpha=0.7,label=\"Tone\")\n",
    "plt.fill_between(range(n_before + n_after),mean+stderr,mean-stderr,alpha=0.5)\n",
    "plt.fill_between(range(n_before + n_after),mean_tnf+stderr_tnf,mean_tnf-stderr_tnf,alpha=0.5)\n",
    "plt.ylabel(\"Aggregate Network Score\")\n",
    "plt.xlabel(\"Time to Event\")\n",
    "plt.legend(loc=\"upper left\")\n",
    "plt.title(\"Score Trace for Tone with and without Freezing\")\n",
    "plt.savefig(FIGURE_PATH + \"FearConditioning_Tone_with_Freeze_vs_Tone_without_Freeze.svg\")\n",
    "plt.show()"
   ]
  },
  {
   "cell_type": "code",
   "execution_count": 28,
   "id": "0e6ee9f6-59ec-462c-9da0-21cc86fd1082",
   "metadata": {
    "tags": []
   },
   "outputs": [
    {
     "data": {
      "text/plain": [
       "(35577, 1)"
      ]
     },
     "execution_count": 28,
     "metadata": {},
     "output_type": "execute_result"
    }
   ],
   "source": [
    "y_mouse.shape"
   ]
  },
  {
   "cell_type": "code",
   "execution_count": 13,
   "id": "4cea9962-3fcd-4ee6-8087-5bf143d1d2b9",
   "metadata": {
    "tags": []
   },
   "outputs": [
    {
     "data": {
      "text/plain": [
       "[<matplotlib.lines.Line2D at 0x7f2ebd9bc210>]"
      ]
     },
     "execution_count": 13,
     "metadata": {},
     "output_type": "execute_result"
    },
    {
     "data": {
      "image/png": "[encoded data removed]",
      "text/plain": [
       "<Figure size 432x288 with 1 Axes>"
      ]
     },
     "metadata": {
      "needs_background": "light"
     },
     "output_type": "display_data"
    }
   ],
   "source": [
    "plt.plot(np.where(y==1)[0])"
   ]
  },
  {
   "cell_type": "code",
   "execution_count": 6,
   "id": "edca70d9-8fa0-43fd-a2d2-5bcbafc5994f",
   "metadata": {
    "tags": []
   },
   "outputs": [
    {
     "data": {
      "text/plain": [
       "dict_keys(['mouse', 'expDate', 'time'])"
      ]
     },
     "execution_count": 6,
     "metadata": {},
     "output_type": "execute_result"
    }
   ],
   "source": [
    "num_before = 3\n",
    "num_after = 4\n",
    "\n",
    "auc_list = []\n",
    "mouse_list = []\n",
    "mouse_snip_list = []\n",
    "for file in scd_pickle_files:\n",
    "    dictSC = pickle.load(open(DATA_PATH + file, \"rb\"))\n",
    "    X = np.hstack([dictSC[key] for key in [\"X_psd\",\"X_coh\",\"X_gc\"]])\n",
    "    y = dictSC[\"y_countDown\"]\n",
    "    s = model.project(X)\n",
    "    coeffs = np.abs(model.classifier[0].weight[0].detach().cpu().numpy())\n",
    "    s_agg = np.sum(s[:,:3] * coeffs,axis=1)\n",
    "    mouse_auc = model.score(X,y.reshape(-1,1))\n",
    "    print(\"{} AUC: {}\".format(file.split(\"_\")[0],mouse_auc))\n",
    "    auc_list.append(mouse_auc)\n",
    "    mouse_list.append(file.split(\"_\")[0])\n",
    "    \n",
    "\n",
    "    mouse_snips = []\n",
    "    mouse_ids = []\n",
    "    for expDate in np.unique(dictSC[\"y_expDate_aw\"]):\n",
    "\n",
    "        expDate_mask = dictSC[\"y_expDate_aw\"]==expDate\n",
    "        expDate_pump_mask = np.logical_and(expDate_mask,dictSC[\"y_pump_allWindows\"])\n",
    "        pump_times = dictSC[\"y_time_aw\"][expDate_pump_mask==1]\n",
    "\n",
    "        expDate_mask_w = dictSC[\"y_expDate\"]==expDate\n",
    "        masked_time = dictSC[\"y_time\"][expDate_mask_w==1]\n",
    "\n",
    "        for pump_time in pump_times:\n",
    "            pump_idx = np.where(masked_time==pump_time)[0].astype(int)\n",
    "            if pump_idx.shape[0] < 1:\n",
    "                continue\n",
    "            else:\n",
    "                pump_idx = pump_idx[0]\n",
    "\n",
    "\n",
    "                if np.array_equal(np.arange(pump_time-num_before,pump_time+num_after),masked_time[pump_idx - num_before: pump_idx+num_after]):\n",
    "                    mouse_snips.append(s_agg[pump_idx-num_before:pump_idx+num_after])\n",
    "\n",
    "\n",
    "    mouse_mean_scores = np.mean(mouse_snips,axis=0).squeeze()\n",
    "    mouse_snip_list.append(mouse_mean_scores)\n",
    "    "
   ]
  },
  {
   "cell_type": "code",
   "execution_count": 18,
   "id": "0d52f2cc-39e7-4b2b-9f65-de3f3edcb0be",
   "metadata": {},
   "outputs": [
    {
     "data": {
      "text/plain": [
       "{'Mouse04191': [nan],\n",
       " 'Mouse04193': [0.4747637581813253],\n",
       " 'Mouse04195': [0.4667827327711048],\n",
       " 'Mouse04201': [0.39765839713388296],\n",
       " 'Mouse04202': [0.5276233610914245],\n",
       " 'Mouse04203': [0.5113183279742765],\n",
       " 'Mouse04205': [0.5497835497835498],\n",
       " 'Mouse04211': [0.5353698389925076],\n",
       " 'Mouse04213': [0.531997183130079],\n",
       " 'Mouse04214': [0.4855333158904587],\n",
       " 'Mouse04215': [0.487664017990198],\n",
       " 'Mouse39111': [0.48276707003992897],\n",
       " 'Mouse39113': [0.46759600031707566],\n",
       " 'Mouse39114': [0.46007380073800735],\n",
       " 'Mouse39115': [0.46357661525414745],\n",
       " 'Mouse39121': [0.4961997144536827],\n",
       " 'Mouse39122': [0.4749336966699748],\n",
       " 'Mouse39124': [0.5948742895181525],\n",
       " 'Mouse39125': [0.5120510592519034],\n",
       " 'Mouse39132': [0.510909573633588],\n",
       " 'Mouse39133': [0.5447626301091647],\n",
       " 'Mouse39134': [0.5771339224672727],\n",
       " 'Mouse39135': [0.4598963775064764],\n",
       " 'Mouse9001': [nan],\n",
       " 'Mouse9002': [0.4878971173822715],\n",
       " 'Mouse9003': [nan],\n",
       " 'Mouse9011': [0.5257392307058727],\n",
       " 'Mouse9013': [nan],\n",
       " 'Mouse9021': [nan],\n",
       " 'Mouse9022': [nan],\n",
       " 'Mouse9061': [0.4880393143751922],\n",
       " 'Mouse9064': [nan],\n",
       " 'Mouse9065': [0.4421647228389599],\n",
       " 'Mouse9071': [0.5157001054009289],\n",
       " 'Mouse9072': [0.5657761278805582],\n",
       " 'Mouse9074': [0.4921364379084968],\n",
       " 'Mouse9075': [0.49190767857867196],\n",
       " 'Mouse9081': [0.48223142447764955],\n",
       " 'Mouse9084': [0.5179772591262717]}"
      ]
     },
     "execution_count": 18,
     "metadata": {},
     "output_type": "execute_result"
    }
   ],
   "source": [
    "model.score(X,dataDict[\"y_freeze_w_tone\"],dataDict[\"y_mouse\"],return_dict=True)"
   ]
  },
  {
   "cell_type": "code",
   "execution_count": null,
   "id": "16653b84-3a67-42e3-84c4-6d5f03decb71",
   "metadata": {},
   "outputs": [],
   "source": []
  }
 ],
 "metadata": {
  "kernelspec": {
   "display_name": "Python 3 (ipykernel)",
   "language": "python",
   "name": "python3"
  },
  "language_info": {
   "codemirror_mode": {
    "name": "ipython",
    "version": 3
   },
   "file_extension": ".py",
   "mimetype": "text/x-python",
   "name": "python",
   "nbconvert_exporter": "python",
   "pygments_lexer": "ipython3",
   "version": "3.7.11"
  }
 },
 "nbformat": 4,
 "nbformat_minor": 5
}

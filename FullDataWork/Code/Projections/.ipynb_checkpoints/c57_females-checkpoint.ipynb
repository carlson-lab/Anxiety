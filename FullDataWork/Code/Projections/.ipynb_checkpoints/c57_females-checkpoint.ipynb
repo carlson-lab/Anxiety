{
 "cells": [
  {
   "cell_type": "code",
   "execution_count": 8,
   "id": "d4b4ca2a-c962-42d3-8a4e-d97ab739f591",
   "metadata": {},
   "outputs": [],
   "source": [
    "import numpy as np\n",
    "import pandas as pd\n",
    "import torch\n",
    "import pickle\n",
    "import matplotlib.pyplot as plt\n",
    "from lpne.models import DcsfaNmf\n",
    "\n",
    "import os, sys\n",
    "umc_data_tools_path = \"/hpc/home/mk423/Anxiety/Universal-Mouse-Code/\"\n",
    "sys.path.append(umc_data_tools_path)\n",
    "import umc_data_tools as umc_dt\n",
    "\n",
    "MODEL_FILE = \"/hpc/home/mk423/Anxiety/FullDataWork/Models/Final_mt_Model_500_epochs.pt\"\n",
    "DATA_PATH = \"/work/mk423/C57-Females-all/\"\n",
    "PROJECT_PATH = \"/hpc/home/mk423/Anxiety/FullDataWork/Projections/\"\n",
    "data_file = \"/work/mk423/C57-Females-all/c57_female_epm_data.pkl\"\n",
    "proj_file = PROJECT_PATH + \"c57_female_epm_projection.csv\"\n",
    "bxcx_proj_file = PROJECT_PATH + \"bxcx_c57_female_epm_projection.csv\"\n",
    "\n",
    "mean_file = PROJECT_PATH + \"c57_female_epm_mean_scores.csv\"\n",
    "bxcx_mean_file = PROJECT_PATH + \"bxcx_c57_female_epm_mean_scores.csv\"\n",
    "\n",
    "model = torch.load(MODEL_FILE,map_location=\"cpu\")\n",
    "model.device=\"cpu\"\n",
    "\n",
    "\n",
    "FEATURE_LIST = ['X_psd','X_coh','X_gc']\n",
    "FEATURE_WEIGHT = [10,1,1]\n",
    "\n",
    "\n",
    "def get_3_net_aucs(s,y,y_group=None):\n",
    "    \n",
    "    auc_mean_list = []\n",
    "    auc_stderr_list =[]\n",
    "    \n",
    "    if y_group is None:\n",
    "        y_group = np.ones(s.shape[0])\n",
    "        \n",
    "    for i in range(3):\n",
    "        auc_dict = umc_dt.lpne_auc(y,y,y_group,s[:,i].reshape(-1,1),mannWhitneyU=True)\n",
    "        mean = np.mean([auc_dict[key][0] for key in auc_dict.keys() if key != \"auc_method\"])\n",
    "        stderr = np.std([auc_dict[key][0] for key in auc_dict.keys() if key != \"auc_method\"]) / np.sqrt(len(auc_dict.keys()))\n",
    "        \n",
    "        auc_mean_list.append(mean)\n",
    "        auc_stderr_list.append(stderr)\n",
    "        \n",
    "    return auc_mean_list, auc_stderr_list\n",
    "\n",
    "def get_3_net_auc_dict(s,y,y_group=None):\n",
    "    auc_dict_list = []\n",
    "    \n",
    "    if y_group is None:\n",
    "        y_group = np.ones(s.shape[0])\n",
    "        \n",
    "    for i in range(3):\n",
    "        auc_dict = umc_dt.lpne_auc(y,y,y_group,s[:,i].reshape(-1,1),mannWhitneyU=True)\n",
    "        auc_dict_list.append(auc_dict)\n",
    "        \n",
    "    return auc_dict_list"
   ]
  },
  {
   "cell_type": "code",
   "execution_count": 9,
   "id": "5d01016b-d45f-44cf-b013-acb12a588bca",
   "metadata": {},
   "outputs": [],
   "source": [
    "dataDict = pickle.load(open(data_file,\"rb\"))\n",
    "\n",
    "X = np.hstack([weight*dataDict[feature] for weight,feature in zip(FEATURE_WEIGHT,FEATURE_LIST)])\n",
    "y_time = dataDict['y_time']\n",
    "y_mouse = np.array(dataDict['y_mouse'])\n",
    "y_task = dataDict['y_task']\n",
    "y_expDate = dataDict['y_expDate']\n",
    "s = model.project(X)"
   ]
  },
  {
   "cell_type": "code",
   "execution_count": 8,
   "id": "231866d7-a179-45db-afca-b65472b9c49e",
   "metadata": {},
   "outputs": [
    {
     "data": {
      "text/plain": [
       "{'Mouse0870': 0.6436194761739933,\n",
       " 'Mouse0871': 0.8078671328671329,\n",
       " 'Mouse0872': 0.5283251231527094,\n",
       " 'Mouse0873': 0.883139962933814,\n",
       " 'Mouse22273': 0.4871309208765722,\n",
       " 'Mouse22292': 0.5637645005222937,\n",
       " 'Mouse22294': 0.8244047619047619,\n",
       " 'Mouse34491': 0.43410138248847924}"
      ]
     },
     "execution_count": 8,
     "metadata": {},
     "output_type": "execute_result"
    }
   ],
   "source": [
    "model.score_mw(X,y_task,y_mouse,return_dict=True)"
   ]
  },
  {
   "cell_type": "code",
   "execution_count": 11,
   "id": "0dc7942e-3c7f-4a6b-95a3-7be932cb00d4",
   "metadata": {},
   "outputs": [],
   "source": [
    "from scipy.stats import ttest_1samp"
   ]
  },
  {
   "cell_type": "code",
   "execution_count": 13,
   "id": "502efa02-8e97-48a1-9df5-de11fea6df29",
   "metadata": {},
   "outputs": [],
   "source": [
    "results_dict = model.score_mw(X,y_task,y_mouse,return_dict=True)\n",
    "auc_list = [results_dict[key] for key in list(results_dict.keys())]"
   ]
  },
  {
   "cell_type": "code",
   "execution_count": 16,
   "id": "49c99c9d-07f0-4e32-873a-3662376945ef",
   "metadata": {},
   "outputs": [
    {
     "data": {
      "text/plain": [
       "Ttest_1sampResult(statistic=2.421955476024284, pvalue=0.02298002046433261)"
      ]
     },
     "execution_count": 16,
     "metadata": {},
     "output_type": "execute_result"
    }
   ],
   "source": [
    "ttest_1samp(auc_list,0.5,alternative=\"greater\")"
   ]
  },
  {
   "cell_type": "code",
   "execution_count": 10,
   "id": "4b47bd11-1f09-4eab-9baf-ad54d96226c9",
   "metadata": {},
   "outputs": [
    {
     "name": "stdout",
     "output_type": "stream",
     "text": [
      "0\n",
      "[0.6221443406022845, 0.7195687645687646, 0.4401370743199829, 0.8746096625961562, 0.45186286461895275, 0.5551054208587608, 0.8125, 0.5331797235023041]\n",
      "Ttest_1sampResult(statistic=2.20133963722782, pvalue=0.031802558296539024)\n",
      "1\n",
      "[0.6433166032075689, 0.812995337995338, 0.5437459841507818, 0.8765391352915789, 0.49818322381136454, 0.5621185881576777, 0.8184523809523809, 0.4184331797235023]\n",
      "Ttest_1sampResult(statistic=2.4435243643117777, pvalue=0.0222640773803058)\n"
     ]
    }
   ],
   "source": [
    "for i in [0,1]:\n",
    "    results_dict = model.score_mw(X,y_task,y_mouse,return_dict=True,net=i)\n",
    "    auc_list = [results_dict[key] for key in list(results_dict.keys())]\n",
    "    print(i)\n",
    "    print(auc_list)\n",
    "    print(ttest_1samp(auc_list,0.5,alternative=\"greater\"))"
   ]
  },
  {
   "cell_type": "code",
   "execution_count": 11,
   "id": "a467b17e-8af5-4590-ae95-b39ab311ddce",
   "metadata": {},
   "outputs": [],
   "source": [
    "mouse_list = []\n",
    "\n",
    "net_1_mean_hc_score_list = []\n",
    "net_1_mean_task_score_list = []\n",
    "\n",
    "results_dict = model.score_mw(X,y_task,y_mouse,return_dict=True,net=0)\n",
    "net_1_hc_v_task_auc_list = [results_dict[key] for key in np.unique(y_mouse)]\n",
    "\n",
    "net_2_mean_hc_score_list = []\n",
    "net_2_mean_task_score_list = []\n",
    "results_dict = model.score_mw(X,y_task,y_mouse,return_dict=True,net=0)\n",
    "net_2_hc_v_task_auc_list = [results_dict[key] for key in np.unique(y_mouse)]\n",
    "\n",
    "for mouse in np.unique(y_mouse):\n",
    "    mouse_mask = y_mouse==mouse\n",
    "    hc_mask = y_task==0\n",
    "    task_mask = y_task\n",
    "    \n",
    "    net_1_mean_hc_score = np.mean(s[np.logical_and(mouse_mask,hc_mask),0])\n",
    "    net_1_mean_task_score = np.mean(s[np.logical_and(mouse_mask,task_mask),0])\n",
    "    \n",
    "    net_2_mean_hc_score = np.mean(s[np.logical_and(mouse_mask,hc_mask),1])\n",
    "    net_2_mean_task_score = np.mean(s[np.logical_and(mouse_mask,task_mask),1])\n",
    "\n",
    "    mouse_list.append(mouse)\n",
    "    net_1_mean_hc_score_list.append(net_1_mean_hc_score)\n",
    "    net_1_mean_task_score_list.append(net_1_mean_task_score)\n",
    "    net_2_mean_hc_score_list.append(net_2_mean_hc_score)\n",
    "    net_2_mean_task_score_list.append(net_2_mean_task_score)"
   ]
  },
  {
   "cell_type": "code",
   "execution_count": 12,
   "id": "84dab559-c07c-4648-9657-df50e4fbb226",
   "metadata": {},
   "outputs": [
    {
     "data": {
      "text/plain": [
       "{'Mouse0870': 0.6221443406022845,\n",
       " 'Mouse0871': 0.7195687645687646,\n",
       " 'Mouse0872': 0.4401370743199829,\n",
       " 'Mouse0873': 0.8746096625961562,\n",
       " 'Mouse22273': 0.45186286461895275,\n",
       " 'Mouse22292': 0.5551054208587608,\n",
       " 'Mouse22294': 0.8125,\n",
       " 'Mouse34491': 0.5331797235023041}"
      ]
     },
     "execution_count": 12,
     "metadata": {},
     "output_type": "execute_result"
    }
   ],
   "source": [
    "results_dict"
   ]
  },
  {
   "cell_type": "code",
   "execution_count": 13,
   "id": "60f6e42c-3555-4256-80b3-1b703ff3849e",
   "metadata": {},
   "outputs": [
    {
     "data": {
      "text/plain": [
       "['Mouse0870',\n",
       " 'Mouse0871',\n",
       " 'Mouse0872',\n",
       " 'Mouse0873',\n",
       " 'Mouse22273',\n",
       " 'Mouse22292',\n",
       " 'Mouse22294',\n",
       " 'Mouse34491']"
      ]
     },
     "execution_count": 13,
     "metadata": {},
     "output_type": "execute_result"
    }
   ],
   "source": [
    "mouse_list"
   ]
  },
  {
   "cell_type": "code",
   "execution_count": 14,
   "id": "c54f8b4b-f395-439a-a669-7f2986ad8145",
   "metadata": {},
   "outputs": [],
   "source": [
    "mean_proj_dict = {\n",
    "    \"mouse\":mouse_list,\n",
    "    \"net 1 mean hc score\":net_1_mean_hc_score_list,\n",
    "    \"net 1 mean task score\":net_1_mean_task_score_list,\n",
    "    \"net 1 hc v task aucs\":net_1_hc_v_task_auc_list,\n",
    "    \"net 2 mean hc score\":net_2_mean_hc_score_list,\n",
    "    \"net 2 mean task score\":net_2_mean_task_score_list,\n",
    "    \"net 2 hc v task aucs\":net_1_hc_v_task_auc_list,\n",
    "}\n",
    "\n",
    "df = pd.DataFrame.from_dict(mean_proj_dict)\n",
    "df.to_csv(mean_file)"
   ]
  },
  {
   "cell_type": "code",
   "execution_count": 19,
   "id": "de41c3b4-e24d-475e-b7b4-f325ecc38549",
   "metadata": {},
   "outputs": [
    {
     "data": {
      "image/png": "[encoded data removed]",
      "text/plain": [
       "<Figure size 432x288 with 1 Axes>"
      ]
     },
     "metadata": {
      "needs_background": "light"
     },
     "output_type": "display_data"
    }
   ],
   "source": [
    "from scipy.stats import ranksums\n",
    "\n",
    "x1 = np.zeros(len(net_1_mean_hc_score_list))\n",
    "y1 = net_1_mean_hc_score_list\n",
    "x2 = np.ones(len(net_1_mean_hc_score_list))\n",
    "y2 = net_1_mean_task_score_list\n",
    "\n",
    "plt.scatter(x1,y1)\n",
    "plt.scatter(x2,y2)\n",
    "\n",
    "\n",
    "for mouse in range(len(net_1_mean_hc_score_list)):\n",
    "    plt.plot([0,1],[y1[mouse],y2[mouse]],color=\"black\")\n",
    "    \n",
    "result = ranksums(y1,y2,alternative=\"less\")\n",
    "plt.title(\"Network 1 - Females - pval: {:.3f}\".format(result.pvalue))\n",
    "plt.show()"
   ]
  },
  {
   "cell_type": "code",
   "execution_count": 20,
   "id": "4c217506-7ec6-4c64-bb87-06cf7abe7085",
   "metadata": {},
   "outputs": [
    {
     "data": {
      "image/png": "[encoded data removed]",
      "text/plain": [
       "<Figure size 432x288 with 1 Axes>"
      ]
     },
     "metadata": {
      "needs_background": "light"
     },
     "output_type": "display_data"
    }
   ],
   "source": [
    "x1 = np.zeros(len(net_2_mean_hc_score_list))\n",
    "y1 = net_2_mean_hc_score_list\n",
    "x2 = np.ones(len(net_2_mean_hc_score_list))\n",
    "y2 = net_2_mean_task_score_list\n",
    "\n",
    "plt.scatter(x1,y1)\n",
    "plt.scatter(x2,y2)\n",
    "\n",
    "for mouse in range(len(net_1_mean_hc_score_list)):\n",
    "    plt.plot([0,1],[y1[mouse],y2[mouse]],color=\"black\")\n",
    "result = ranksums(y1,y2,alternative=\"less\")\n",
    "\n",
    "plt.title(\"Network 2 - Females - pval: {:.3f}\".format(result.pvalue))\n",
    "plt.show()"
   ]
  },
  {
   "cell_type": "code",
   "execution_count": null,
   "id": "93e39a89-6355-426e-84e2-c50049d4a5e6",
   "metadata": {},
   "outputs": [],
   "source": []
  }
 ],
 "metadata": {
  "kernelspec": {
   "display_name": "Python 3 (ipykernel)",
   "language": "python",
   "name": "python3"
  },
  "language_info": {
   "codemirror_mode": {
    "name": "ipython",
    "version": 3
   },
   "file_extension": ".py",
   "mimetype": "text/x-python",
   "name": "python",
   "nbconvert_exporter": "python",
   "pygments_lexer": "ipython3",
   "version": "3.7.13"
  }
 },
 "nbformat": 4,
 "nbformat_minor": 5
}

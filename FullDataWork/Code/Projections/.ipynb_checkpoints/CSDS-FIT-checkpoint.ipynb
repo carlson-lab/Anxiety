{
 "cells": [
  {
   "cell_type": "code",
   "execution_count": 1,
   "id": "7589c556-e2b8-4149-8e93-64688b1fee25",
   "metadata": {},
   "outputs": [
    {
     "name": "stderr",
     "output_type": "stream",
     "text": [
      "/hpc/home/mk423/.local/lib/python3.7/site-packages/lpne/pipelines/__init__.py:14: UserWarning: Could not load lpne/pipelines/default_params.yaml!\n",
      "  warnings.warn(\"Could not load lpne/pipelines/default_params.yaml!\")\n"
     ]
    }
   ],
   "source": [
    "import numpy as np\n",
    "import pandas as pd\n",
    "import torch\n",
    "import pickle\n",
    "import matplotlib.pyplot as plt\n",
    "from lpne.models import DcsfaNmf\n",
    "import os, sys\n",
    "\n",
    "MODEL_FILE = \"/hpc/home/mk423/Anxiety/FullDataWork/Models/Final_mt_Model_500_epochs.pt\"\n",
    "DATA_PATH = \"/work/mk423/csds-fit/\"\n",
    "PROJECT_PATH = \"/hpc/home/mk423/Anxiety/FullDataWork/Projections/\"\n",
    "FIGURE_PATH = \"/hpc/home/mk423/Anxiety/FullDataWork/Figures/\"\n",
    "LPNE_PATH = \"/work/mk423/lpne-data-analysis/\"\n",
    "\n",
    "model = torch.load(MODEL_FILE,map_location=\"cpu\")\n",
    "model.device=\"cpu\"\n",
    "\n",
    "sys.path.append(LPNE_PATH)\n",
    "\n",
    "import data_tools"
   ]
  },
  {
   "cell_type": "markdown",
   "id": "fc1da982-6cf5-49d1-87a2-7abb9d8f7486",
   "metadata": {},
   "source": [
    "## Load Data"
   ]
  },
  {
   "cell_type": "code",
   "execution_count": null,
   "id": "4fd66615-0633-4ef7-bb37-e14c313ad18c",
   "metadata": {},
   "outputs": [],
   "source": [
    "X_psd, X_coh, X_gc, labels = data_tools.load_data(DATA_PATH + \"csds_INT_TIME_fit.mat\",\n",
    "                                                  feature_list = [\"power\",\"coherence\",\"granger\"])"
   ]
  },
  {
   "cell_type": "markdown",
   "id": "19fcc210-2852-4edc-a46f-adf542caa828",
   "metadata": {},
   "source": [
    "## Combine into common structure to experiment"
   ]
  },
  {
   "cell_type": "code",
   "execution_count": null,
   "id": "df1bf3af-90c6-45f1-9e66-98d457ae14c4",
   "metadata": {},
   "outputs": [],
   "source": [
    "labels['windows'].keys()"
   ]
  },
  {
   "cell_type": "code",
   "execution_count": null,
   "id": "494044be-7192-4433-9d0d-bbfcba4e10a0",
   "metadata": {},
   "outputs": [],
   "source": [
    "dataDict = {\n",
    "    \"X_psd\":X_psd,\n",
    "    \"X_coh\":X_coh,\n",
    "    \"X_gc\":X_gc,\n",
    "    \"y_mouse\":np.array(labels['windows']['mouse']),\n",
    "    \"y_expDate\":np.array(labels['windows']['expDate']),\n",
    "    \"y_time\":np.array(labels['windows']['time']),\n",
    "    \"y_interval\":np.array(labels['windows']['interval']),\n",
    "    \"labels\":labels\n",
    "}\n",
    "\n",
    "with open(DATA_PATH + \"csds_fit_data.pkl\",\"wb\") as f:\n",
    "    pickle.dump(dataDict,f,protocol=4)"
   ]
  },
  {
   "cell_type": "markdown",
   "id": "cc983f6f-5212-4f8f-aeae-1a707e2f4f13",
   "metadata": {},
   "source": [
    "### Project"
   ]
  },
  {
   "cell_type": "code",
   "execution_count": null,
   "id": "e26f5503-2a10-4086-ac4d-5d1af7531884",
   "metadata": {},
   "outputs": [],
   "source": [
    "X = np.hstack((X_psd*10,X_coh,X_gc))\n",
    "s = model.project(X)\n",
    "\n",
    "coeffs = np.abs(model.classifier[0].weight[0].detach().cpu().numpy())\n",
    "agg_score = s[:,:3] @ coeffs"
   ]
  },
  {
   "cell_type": "markdown",
   "id": "4f70dbec-c24c-4944-b809-5faa6e96485c",
   "metadata": {},
   "source": [
    "## Save Score Projection"
   ]
  },
  {
   "cell_type": "code",
   "execution_count": null,
   "id": "7c0adbf1-cd11-44b4-a531-1df03ce81886",
   "metadata": {},
   "outputs": [],
   "source": [
    "proj_dict = {\n",
    "    \"mouse\":dataDict[\"y_mouse\"],\n",
    "    \"expDate\":dataDict[\"y_expDate\"],\n",
    "    \"time\":dataDict[\"y_time\"],\n",
    "    \"interval\":dataDict[\"y_interval\"],\n",
    "    \"composite score\":agg_score,\n",
    "    \"net 1 score\":s[:,0],\n",
    "    \"net 2 score\":s[:,1],\n",
    "    \"net 3 score\":s[:,2],\n",
    "}\n",
    "\n",
    "df = pd.DataFrame.from_dict(proj_dict)\n",
    "df.to_csv(PROJECT_PATH + \"csds_fit_Projection.csv\")\n",
    "df.head()"
   ]
  },
  {
   "cell_type": "markdown",
   "id": "e189e443-d97c-42c5-a1b6-48eb7c35ddc6",
   "metadata": {},
   "source": [
    "## Save Mean Scores"
   ]
  },
  {
   "cell_type": "code",
   "execution_count": null,
   "id": "19fa0036-574d-44d1-878d-86a41eaffff8",
   "metadata": {},
   "outputs": [],
   "source": [
    "np.unique(df[\"interval\"])"
   ]
  },
  {
   "cell_type": "code",
   "execution_count": null,
   "id": "011c039f-1cf3-4f95-bdb1-53cb53b3dbce",
   "metadata": {},
   "outputs": [],
   "source": [
    "mouse_list = []\n",
    "\n",
    "comp_list_1 = []\n",
    "comp_list_2 = []\n",
    "comp_list_3 = []\n",
    "\n",
    "net_1_list_1 = []\n",
    "net_1_list_2 = []\n",
    "net_1_list_3 = []\n",
    "\n",
    "net_2_list_1 = []\n",
    "net_2_list_2 = []\n",
    "net_2_list_3 = []\n",
    "\n",
    "net_3_list_1 = []\n",
    "net_3_list_2 = []\n",
    "net_3_list_3 = []\n",
    "\n",
    "for mouse in np.unique(dataDict[\"y_mouse\"]):\n",
    "    \n",
    "    mouse_list.append(mouse)\n",
    "    \n",
    "    comp_list_1.append(np.mean(df[np.logical_and(df[\"mouse\"]==mouse,df[\"interval\"]==1)][\"composite score\"]))\n",
    "    comp_list_2.append(np.mean(df[np.logical_and(df[\"mouse\"]==mouse,df[\"interval\"]==2)][\"composite score\"]))\n",
    "    comp_list_3.append(np.mean(df[np.logical_and(df[\"mouse\"]==mouse,df[\"interval\"]==3)][\"composite score\"]))\n",
    "    \n",
    "    net_1_list_1.append(np.mean(df[np.logical_and(df[\"mouse\"]==mouse,df[\"interval\"]==1)][\"net 1 score\"]))\n",
    "    net_1_list_2.append(np.mean(df[np.logical_and(df[\"mouse\"]==mouse,df[\"interval\"]==2)][\"net 1 score\"]))\n",
    "    net_1_list_3.append(np.mean(df[np.logical_and(df[\"mouse\"]==mouse,df[\"interval\"]==3)][\"net 1 score\"]))\n",
    "\n",
    "    net_2_list_1.append(np.mean(df[np.logical_and(df[\"mouse\"]==mouse,df[\"interval\"]==1)][\"net 2 score\"]))\n",
    "    net_2_list_2.append(np.mean(df[np.logical_and(df[\"mouse\"]==mouse,df[\"interval\"]==2)][\"net 2 score\"]))\n",
    "    net_2_list_3.append(np.mean(df[np.logical_and(df[\"mouse\"]==mouse,df[\"interval\"]==3)][\"net 2 score\"]))\n",
    "\n",
    "    net_3_list_1.append(np.mean(df[np.logical_and(df[\"mouse\"]==mouse,df[\"interval\"]==1)][\"net 3 score\"]))\n",
    "    net_3_list_2.append(np.mean(df[np.logical_and(df[\"mouse\"]==mouse,df[\"interval\"]==2)][\"net 3 score\"]))\n",
    "    net_3_list_3.append(np.mean(df[np.logical_and(df[\"mouse\"]==mouse,df[\"interval\"]==3)][\"net 3 score\"]))\n",
    "    \n",
    "dict_means = {\n",
    "    \"mouse\":mouse_list,\n",
    "    \n",
    "    \"interval 1 mean comp score\":comp_list_1,\n",
    "    \"interval 2 mean comp score\":comp_list_2,\n",
    "    \"interval 3 mean comp score\":comp_list_3,\n",
    "    \n",
    "    \"interval 1 mean net 1 score\":net_1_list_1,\n",
    "    \"interval 2 mean net 1 score\":net_1_list_2,\n",
    "    \"interval 3 mean net 1 score\":net_1_list_3,\n",
    "    \n",
    "    \"interval 1 mean net 2 score\":net_2_list_1,\n",
    "    \"interval 2 mean net 2 score\":net_2_list_2,\n",
    "    \"interval 3 mean net 2 score\":net_2_list_3,\n",
    "    \n",
    "    \"interval 1 mean net 3 score\":net_3_list_1,\n",
    "    \"interval 2 mean net 3 score\":net_3_list_2,\n",
    "    \"interval 3 mean net 3 score\":net_3_list_3,\n",
    "    \n",
    "}\n",
    "\n",
    "df_means = pd.DataFrame.from_dict(dict_means)\n",
    "df_means.to_csv(PROJECT_PATH + \"csds_fit_mean_scores.csv\")\n",
    "df_means.head()"
   ]
  },
  {
   "cell_type": "code",
   "execution_count": null,
   "id": "f8c2a474-517c-41df-a12b-8c582860677f",
   "metadata": {},
   "outputs": [],
   "source": [
    "control_mice = [\n",
    "    'Mouse3203',\n",
    "'Mouse3205',\n",
    "'Mouse3215',\n",
    "'Mouse3221',\n",
    "'Mouse3223',\n",
    "'Mouse3231',\n",
    "'Mouse3235',\n",
    "'Mouse3252',\n",
    "'Mouse1381',\n",
    "'Mouse1393',\n",
    "'Mouse1403',\n",
    "'Mouse1412',\n",
    "'Mouse7181',\n",
    "'Mouse7185',\n",
    "'Mouse7191',\n",
    "'Mouse7222',\n",
    "]\n",
    "\n",
    "defeat_mice = [\n",
    "'Mouse3211',\n",
    "'Mouse3212',\n",
    "'Mouse3213',\n",
    "'Mouse3214',\n",
    "'Mouse1382',\n",
    "'Mouse1392',\n",
    "'Mouse1402',\n",
    "'Mouse1404',\n",
    "'Mouse1405',\n",
    "'Mouse1413',\n",
    "'Mouse7182',\n",
    "'Mouse7192',\n",
    "'Mouse7221',\n",
    "'Mouse3201',\n",
    "'Mouse3202',\n",
    "'Mouse3204',\n",
    "'Mouse3224',\n",
    "'Mouse3233',\n",
    "'Mouse3234',\n",
    "'Mouse3251',\n",
    "'Mouse3253',\n",
    "'Mouse1383',\n",
    "'Mouse1384',\n",
    "'Mouse1391',\n",
    "'Mouse1401',\n",
    "'Mouse1411',\n",
    "'Mouse7183',\n",
    "'Mouse7184',\n",
    "'Mouse7193',\n",
    "'Mouse7194',\n",
    "'Mouse7195',\n",
    "'Mouse7202',\n",
    "'Mouse7203',\n",
    "'Mouse7204',\n",
    "]"
   ]
  }
 ],
 "metadata": {
  "kernelspec": {
   "display_name": "Python 3 (ipykernel)",
   "language": "python",
   "name": "python3"
  },
  "language_info": {
   "codemirror_mode": {
    "name": "ipython",
    "version": 3
   },
   "file_extension": ".py",
   "mimetype": "text/x-python",
   "name": "python",
   "nbconvert_exporter": "python",
   "pygments_lexer": "ipython3",
   "version": "3.7.11"
  }
 },
 "nbformat": 4,
 "nbformat_minor": 5
}

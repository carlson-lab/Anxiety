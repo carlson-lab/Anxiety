{
 "cells": [
  {
   "cell_type": "code",
   "execution_count": 26,
   "id": "05bdc5a2-5443-4255-b99f-1fed82bdf73c",
   "metadata": {},
   "outputs": [],
   "source": [
    "import numpy as np\n",
    "import pandas as pd\n",
    "import torch\n",
    "import pickle\n",
    "import matplotlib.pyplot as plt\n",
    "from lpne.models import DcsfaNmf\n",
    "\n",
    "MODEL_FILE = \"/hpc/home/mk423/Anxiety/FullDataWork/Models/Final_mt_Model_500_epochs.pt\"\n",
    "DATA_PATH = \"/work/mk423/SucroseCountdown/\"\n",
    "PROJECT_PATH = \"/hpc/home/mk423/Anxiety/FullDataWork/Projections/\"\n",
    "FIGURE_PATH = \"/hpc/home/mk423/Anxiety/FullDataWork/Figures/\"\n",
    "\n",
    "proj_file = \"SucroseCD_projection.csv\"\n",
    "mean_file = \"SucroseCD_mean_scores.csv\"\n",
    "\n",
    "model = torch.load(MODEL_FILE,map_location=\"cpu\")\n",
    "model.device=\"cpu\"\n",
    "\n",
    "\n",
    "FEATURE_LIST = ['X_power_1_2','X_coh_1_2','X_gc_1_2']\n",
    "FEATURE_WEIGHT = [10,1,1]\n",
    "\n",
    "import os, sys\n",
    "umc_data_tools_path = \"/hpc/home/mk423/Anxiety/Universal-Mouse-Code/\"\n",
    "sys.path.append(umc_data_tools_path)\n",
    "import umc_data_tools as umc_dt\n",
    "\n",
    "def get_3_net_aucs(s,y,y_group=None):\n",
    "    \n",
    "    auc_mean_list = []\n",
    "    auc_stderr_list =[]\n",
    "    \n",
    "    if y_group is None:\n",
    "        y_group = np.ones(s.shape[0])\n",
    "        \n",
    "    for i in range(3):\n",
    "        auc_dict = umc_dt.lpne_auc(y,y,y_group,s[:,i].reshape(-1,1),mannWhitneyU=True)\n",
    "        mean = np.mean([auc_dict[key][0] for key in auc_dict.keys() if key != \"auc_method\"])\n",
    "        stderr = np.std([auc_dict[key][0] for key in auc_dict.keys() if key != \"auc_method\"]) / np.sqrt(len(auc_dict.keys()))\n",
    "        \n",
    "        auc_mean_list.append(mean)\n",
    "        auc_stderr_list.append(stderr)\n",
    "        \n",
    "    return auc_mean_list, auc_stderr_list\n",
    "\n",
    "def get_3_net_auc_dict(s,y,y_group=None):\n",
    "    auc_dict_list = []\n",
    "    \n",
    "    if y_group is None:\n",
    "        y_group = np.ones(s.shape[0])\n",
    "        \n",
    "    for i in range(3):\n",
    "        auc_dict = umc_dt.lpne_auc(y,y,y_group,s[:,i].reshape(-1,1),mannWhitneyU=True)\n",
    "        auc_dict_list.append(auc_dict)\n",
    "        \n",
    "    return auc_dict_list"
   ]
  },
  {
   "cell_type": "code",
   "execution_count": 11,
   "id": "96449ee8-cade-400f-ae89-5d6c919f09ea",
   "metadata": {},
   "outputs": [
    {
     "name": "stdout",
     "output_type": "stream",
     "text": [
      "Mouse04381 AUC: 0.5517147106044934\n",
      "Mouse04385 AUC: 0.48859430355947436\n",
      "Mouse04391 AUC: 0.3790968880283989\n",
      "Mouse04384 AUC: 0.5089647928859206\n",
      "Mouse04393 AUC: 0.5763104995292792\n",
      "Mouse04394 AUC: 0.5810257797207373\n",
      "Mouse04392 AUC: 0.6391810249873993\n",
      "Mouse04382 AUC: 0.5849795163822685\n"
     ]
    }
   ],
   "source": [
    "num_before = 3\n",
    "num_after = 4\n",
    "files = os.listdir(DATA_PATH)\n",
    "scd_pickle_files = [file for file in files if file.split(\".\")[-1] == \"pkl\"]\n",
    "auc_list = []\n",
    "mouse_list = []\n",
    "mouse_snip_list = []\n",
    "for file in scd_pickle_files:\n",
    "    dictSC = pickle.load(open(DATA_PATH + file, \"rb\"))\n",
    "    X = np.hstack([dictSC[key]*weight for key, weight in zip([\"X_psd\",\"X_coh\",\"X_gc\"],FEATURE_WEIGHT)])\n",
    "    y = dictSC[\"y_countDown\"]\n",
    "    s = model.project(X)\n",
    "    coeffs = np.abs(model.classifier[0].weight[0].detach().cpu().numpy())\n",
    "    s_agg = np.sum(s[:,:3] * coeffs,axis=1)\n",
    "    mouse_auc = model.score(X,y.reshape(-1,1))\n",
    "    print(\"{} AUC: {}\".format(file.split(\"_\")[0],mouse_auc))\n",
    "    auc_list.append(mouse_auc)\n",
    "    mouse_list.append(file.split(\"_\")[0])\n",
    "    \n",
    "\n",
    "    mouse_snips = []\n",
    "    mouse_ids = []\n",
    "    for expDate in np.unique(dictSC[\"y_expDate_aw\"]):\n",
    "\n",
    "        expDate_mask = dictSC[\"y_expDate_aw\"]==expDate\n",
    "        expDate_pump_mask = np.logical_and(expDate_mask,dictSC[\"y_pump_allWindows\"])\n",
    "        pump_times = dictSC[\"y_time_aw\"][expDate_pump_mask==1]\n",
    "\n",
    "        expDate_mask_w = dictSC[\"y_expDate\"]==expDate\n",
    "        masked_time = dictSC[\"y_time\"][expDate_mask_w==1]\n",
    "\n",
    "        for pump_time in pump_times:\n",
    "            pump_idx = np.where(masked_time==pump_time)[0].astype(int)\n",
    "            if pump_idx.shape[0] < 1:\n",
    "                continue\n",
    "            else:\n",
    "                pump_idx = pump_idx[0]\n",
    "\n",
    "\n",
    "                if np.array_equal(np.arange(pump_time-num_before,pump_time+num_after),masked_time[pump_idx - num_before: pump_idx+num_after]):\n",
    "                    mouse_snips.append(s_agg[pump_idx-num_before:pump_idx+num_after])\n",
    "\n",
    "\n",
    "    mouse_mean_scores = np.mean(mouse_snips,axis=0).squeeze()\n",
    "    mouse_snip_list.append(mouse_mean_scores)\n",
    "    \n",
    "    \n",
    "    "
   ]
  },
  {
   "cell_type": "code",
   "execution_count": 16,
   "id": "90e91f8c-ed90-49c0-92b0-19c349c06233",
   "metadata": {
    "tags": []
   },
   "outputs": [
    {
     "data": {
      "text/plain": [
       "190"
      ]
     },
     "execution_count": 16,
     "metadata": {},
     "output_type": "execute_result"
    }
   ],
   "source": [
    "len(mouse_snips)"
   ]
  },
  {
   "cell_type": "code",
   "execution_count": 3,
   "id": "c0ca6e4b-4dd3-46de-8252-09773c52008d",
   "metadata": {},
   "outputs": [
    {
     "name": "stdout",
     "output_type": "stream",
     "text": [
      "0.539 +/- 0.026\n"
     ]
    }
   ],
   "source": [
    "mean_auc = np.mean(auc_list)\n",
    "std_err = np.std(auc_list) / np.sqrt(len(auc_list))\n",
    "print(\"{:.3f} +/- {:.3f}\".format(mean_auc,std_err))"
   ]
  },
  {
   "cell_type": "markdown",
   "id": "224a4277-3e73-47e0-9f69-41631c23b14b",
   "metadata": {},
   "source": [
    "### Plotting Network Score"
   ]
  },
  {
   "cell_type": "code",
   "execution_count": 91,
   "id": "2cc5d1bc-5099-4867-ad89-78c870190f0a",
   "metadata": {},
   "outputs": [
    {
     "data": {
      "image/png": "[encoded data removed]",
      "text/plain": [
       "<Figure size 720x360 with 1 Axes>"
      ]
     },
     "metadata": {
      "needs_background": "light"
     },
     "output_type": "display_data"
    }
   ],
   "source": [
    "all_mouse_mean_score = np.mean(mouse_snip_list,axis=0)\n",
    "all_mouse_sterr_score = np.std(mouse_snip_list,axis=0) / np.sqrt(8)\n",
    "plt.figure(figsize=(10,5))\n",
    "plt.plot(all_mouse_mean_score)\n",
    "plt.fill_between(range(num_before + num_after),all_mouse_mean_score + all_mouse_sterr_score,all_mouse_mean_score - all_mouse_sterr_score,alpha=0.3)\n",
    "plt.xticks(np.arange(num_before + num_after),np.arange(num_before + num_after) - num_before)\n",
    "plt.ylim([2.6,4.5])\n",
    "plt.axvline(num_before,color=\"red\",linestyle=\"--\",label=\"Sucrose Administration\")\n",
    "plt.legend()\n",
    "plt.xlabel(\"Seconds\")\n",
    "plt.ylabel(\"EN-ANX Network Score\")\n",
    "\n",
    "plt.title(\"Sucrose Countdown Anxiety Network Scores (n=8)\")\n",
    "plt.savefig(\"/hpc/home/mk423/Anxiety/FullDataWork/Figures/SucroseCD_Network_Trace.svg\")\n",
    "plt.show()"
   ]
  },
  {
   "cell_type": "code",
   "execution_count": null,
   "id": "7e4b8af6-93f1-4b48-9c93-68508c6e19d0",
   "metadata": {},
   "outputs": [],
   "source": []
  },
  {
   "cell_type": "markdown",
   "id": "193688a3-4c27-4c31-811d-40fe69630e54",
   "metadata": {},
   "source": [
    "### Comparing AUCs to FLX performance"
   ]
  },
  {
   "cell_type": "code",
   "execution_count": 5,
   "id": "92ac015b-8ecd-4afd-b6cb-77b6eefe6ebd",
   "metadata": {},
   "outputs": [
    {
     "name": "stdout",
     "output_type": "stream",
     "text": [
      "-1.2909944487358056 0.19670560245894686\n"
     ]
    }
   ],
   "source": [
    "from scipy.stats import ranksums\n",
    "\n",
    "scd_aucs = auc_list\n",
    "flx_aucs = [0.4102502200646685,0.6067541168223762,\n",
    "            0.6708565853658537,0.6314347244280166,\n",
    "            0.5610492452363276,0.6340186801104197]\n",
    "\n",
    "stat,pval = ranksums(scd_aucs,flx_aucs)\n",
    "\n",
    "print(stat,pval)"
   ]
  },
  {
   "cell_type": "markdown",
   "id": "f4714cb1-22a7-43e0-a536-a8d8ed69aa11",
   "metadata": {},
   "source": [
    "### Event Aligned Code"
   ]
  },
  {
   "cell_type": "code",
   "execution_count": 27,
   "id": "5dc902ac-776d-448a-b611-46b0aea19916",
   "metadata": {
    "tags": []
   },
   "outputs": [],
   "source": [
    "LPNE_PATH = \"/work/mk423/lpne-data-analysis/\"\n",
    "sys.path.append(LPNE_PATH)\n",
    "import data_tools"
   ]
  },
  {
   "cell_type": "code",
   "execution_count": 28,
   "id": "afd29b4f-adf4-48d5-a82b-6b9544c8cc34",
   "metadata": {
    "tags": []
   },
   "outputs": [
    {
     "name": "stdout",
     "output_type": "stream",
     "text": [
      "version saveFeatures_1.2 used to calcuate power features\n",
      "version saveFeatures_1.2 used to calcuate coherence features\n",
      "version saveFeatures_1.2 used to calcuate granger features\n",
      "Version preprocessData_1.0 of preprocessing used\n",
      "Make sure feature versions listed above match those used for any other dataset in the same project\n"
     ]
    }
   ],
   "source": [
    "X_psd, X_coh, X_gc, labels = data_tools.load_data(\"/work/mk423/Anxiety/sucroseCD_events.mat\",feature_list=[\"power\",\"coherence\",\"granger\"])"
   ]
  },
  {
   "cell_type": "code",
   "execution_count": 29,
   "id": "88522e4b-d2e3-4655-8161-b6b37b032424",
   "metadata": {
    "tags": []
   },
   "outputs": [
    {
     "name": "stdout",
     "output_type": "stream",
     "text": [
      "(2457, 10, 30)\n"
     ]
    }
   ],
   "source": [
    "X = np.hstack((X_psd*10,X_coh,X_gc))\n",
    "s = model.project(X)\n",
    "y_frame = np.array(labels['windows']['frame'])\n",
    "y_mouse = np.array(labels['windows']['mouse'])\n",
    "y_expDate = np.array(labels['windows']['expDate'])\n",
    "\n",
    "segs = []\n",
    "segs_mouse = []\n",
    "frames = [0]\n",
    "for frame in np.unique(y_frame):\n",
    "    if np.sum(y_frame==frame) == 10:\n",
    "        if np.sum(np.abs(np.array(frames) - frame) < 1000*0) == 0:\n",
    "            frame_mask = y_frame==frame\n",
    "            segs.append(s[frame_mask==1])\n",
    "            segs_mouse.append(y_mouse[frame_mask==1][0])\n",
    "            frames.append(frame)\n",
    "        \n",
    "segs = np.array(segs)\n",
    "segs_mouse = np.array(segs_mouse)\n",
    "\n",
    "mouse_means = []\n",
    "mouse_id = []\n",
    "for mouse in np.unique(segs_mouse):\n",
    "    mouse_mask = segs_mouse==mouse\n",
    "    temp_mean = np.mean(segs[mouse_mask==1,:,:],axis=0)\n",
    "    mouse_means.append(temp_mean)\n",
    "    mouse_id.append(mouse)\n",
    "    \n",
    "mouse_means = np.array(mouse_means)\n",
    "\n",
    "print(segs.shape)"
   ]
  },
  {
   "cell_type": "code",
   "execution_count": 30,
   "id": "08495ccb-d8f0-4066-b64c-6dc5afd731cf",
   "metadata": {
    "tags": []
   },
   "outputs": [
    {
     "data": {
      "text/plain": [
       "array(['Mouse04382', 'Mouse04383', 'Mouse04384', 'Mouse04385',\n",
       "       'Mouse04391', 'Mouse04392', 'Mouse04393', 'Mouse04394',\n",
       "       'Mouse04395'], dtype='<U10')"
      ]
     },
     "execution_count": 30,
     "metadata": {},
     "output_type": "execute_result"
    }
   ],
   "source": [
    "np.unique(mouse_id)"
   ]
  },
  {
   "cell_type": "code",
   "execution_count": 31,
   "id": "1d9cec97-2f8b-4dd1-8ba7-c86cdfcd0aa5",
   "metadata": {
    "tags": []
   },
   "outputs": [
    {
     "name": "stdout",
     "output_type": "stream",
     "text": [
      "Mouse04381 Date: 070420 Smallest pump offset in seconds:  22.189\n",
      "Mouse04382 Date: 062320 Smallest pump offset in seconds:  10.341\n",
      "Mouse04382 Date: 062420 Smallest pump offset in seconds:  10.586\n",
      "Mouse04382 Date: 062520 Smallest pump offset in seconds:  9.658\n",
      "Mouse04382 Date: 062620 Smallest pump offset in seconds:  9.791\n",
      "Mouse04382 Date: 062720 Smallest pump offset in seconds:  11.322\n",
      "Mouse04383 Date: 062420 Smallest pump offset in seconds:  8.56\n",
      "Mouse04383 Date: 062520 Smallest pump offset in seconds:  9.454\n",
      "Mouse04383 Date: 062620 Smallest pump offset in seconds:  9.785\n",
      "Mouse04383 Date: 062720 Smallest pump offset in seconds:  9.27\n",
      "Mouse04384 Date: 061920 Smallest pump offset in seconds:  7.052\n",
      "Mouse04384 Date: 062020 Smallest pump offset in seconds:  6.708\n",
      "Mouse04384 Date: 071420 Smallest pump offset in seconds:  10.87\n",
      "Mouse04384 Date: 071820 Smallest pump offset in seconds:  9.324\n",
      "Mouse04384 Date: 071920 Smallest pump offset in seconds:  9.96\n",
      "Mouse04385 Date: 062120 Smallest pump offset in seconds:  8.744\n",
      "Mouse04385 Date: 062720 Smallest pump offset in seconds:  10.903\n",
      "Mouse04391 Date: 060920 Smallest pump offset in seconds:  7.417\n",
      "Mouse04391 Date: 061120 Smallest pump offset in seconds:  8.451\n",
      "Mouse04391 Date: 061220 Smallest pump offset in seconds:  9.608\n",
      "Mouse04391 Date: 061320 Smallest pump offset in seconds:  8.452\n",
      "Mouse04391 Date: 061420 Smallest pump offset in seconds:  8.83\n",
      "Mouse04391 Date: 062620 Smallest pump offset in seconds:  9.075\n",
      "Mouse04392 Date: 061020 Smallest pump offset in seconds:  8.975\n",
      "Mouse04392 Date: 061120 Smallest pump offset in seconds:  1000.0\n",
      "Mouse04392 Date: 061220 Smallest pump offset in seconds:  10.564\n",
      "Mouse04393 Date: 053020 Smallest pump offset in seconds:  8.72\n",
      "Mouse04393 Date: 053120 Smallest pump offset in seconds:  6.842\n",
      "Mouse04393 Date: 060120 Smallest pump offset in seconds:  8.16\n",
      "Mouse04394 Date: 062220 Smallest pump offset in seconds:  8.84\n",
      "Mouse04394 Date: 062320 Smallest pump offset in seconds:  9.218\n",
      "Mouse04394 Date: 062420 Smallest pump offset in seconds:  9.645\n",
      "Mouse04394 Date: 062520 Smallest pump offset in seconds:  9.564\n",
      "Mouse04394 Date: 062620 Smallest pump offset in seconds:  8.576\n",
      "Mouse04394 Date: 062720 Smallest pump offset in seconds:  9.28\n",
      "Mouse04394 Date: 070220 Smallest pump offset in seconds:  9.071\n",
      "Mouse04394 Date: 070320 Smallest pump offset in seconds:  1.687\n",
      "Mouse04395 Date: 062520 Smallest pump offset in seconds:  9.674\n",
      "Mouse04395 Date: 062620 Smallest pump offset in seconds:  9.91\n",
      "Mouse04395 Date: 062720 Smallest pump offset in seconds:  8.406\n",
      "Mouse04395 Date: 062820 Smallest pump offset in seconds:  8.218\n",
      "Mouse04395 Date: 062920 Smallest pump offset in seconds:  10.404\n",
      "Mouse04395 Date: 063020 Smallest pump offset in seconds:  9.363\n"
     ]
    }
   ],
   "source": [
    "for mouse in np.unique(y_mouse):\n",
    "    for expDate in np.unique(y_expDate):\n",
    "        \n",
    "        mouse_mask = y_mouse == mouse\n",
    "        expDate_mask = y_expDate == expDate\n",
    "        mask = np.logical_and(mouse_mask,expDate_mask)\n",
    "        \n",
    "        \n",
    "\n",
    "        \n",
    "        if np.sum(mask) > 0:\n",
    "            temp_frames = y_frame[mask==1]\n",
    "            min_dif = 1000000\n",
    "            for idx,frame in enumerate(np.unique(temp_frames)):\n",
    "                if idx > 1:\n",
    "                    diff = np.unique(temp_frames)[idx] - np.unique(temp_frames)[idx-1]\n",
    "\n",
    "                    if diff < min_dif:\n",
    "                        min_dif = diff\n",
    "\n",
    "            print(mouse,\"Date:\",expDate,\"Smallest pump offset in seconds: \",min_dif/1000)\n",
    "            "
   ]
  },
  {
   "cell_type": "code",
   "execution_count": 41,
   "id": "22202715-46f7-4b2a-ad65-5b806053d615",
   "metadata": {
    "tags": []
   },
   "outputs": [
    {
     "data": {
      "text/plain": [
       "(9, 10, 30)"
      ]
     },
     "execution_count": 41,
     "metadata": {},
     "output_type": "execute_result"
    }
   ],
   "source": [
    "mouse_means.shape"
   ]
  },
  {
   "cell_type": "code",
   "execution_count": 45,
   "id": "8c2759da-7e1e-4dea-b7a7-ff7f863a24cc",
   "metadata": {
    "tags": []
   },
   "outputs": [
    {
     "data": {
      "image/png": "[encoded data removed]",
      "text/plain": [
       "<Figure size 720x360 with 1 Axes>"
      ]
     },
     "metadata": {
      "needs_background": "light"
     },
     "output_type": "display_data"
    }
   ],
   "source": [
    "plt.figure(figsize=(10, 5))\n",
    "comp_s = model.classifier[0].weight[0].detach().cpu().numpy()\n",
    "#for i in [1]:\n",
    "net = \"comp\"\n",
    "mean = np.mean(mouse_means[:,:,:3] @ comp_s,axis=0)\n",
    "stderr = np.std(mouse_means[:,:,:3] @ comp_s,axis=0) / np.sqrt(mouse_means.shape[0])\n",
    "plt.plot(np.arange(8) - 5,mean[:8])#label=\"network {}\".format(net))\n",
    "plt.fill_between(np.arange(8) - 5, mean[:8] + stderr[:8], mean[:8] - stderr[:8],alpha=0.5)\n",
    "#plt.fill_between(np.arange(4) -3, 0,5,alpha=0.2,color=\"red\",label=\"pre-pump\")\n",
    "#plt.fill_between(np.arange(3), 0,5,alpha=0.2,color=\"green\",label=\"post-pump\")\n",
    "plt.title(\"Sucrose Countdown Anxiety Network Activity (n={})\".format(len(mouse_id)))\n",
    "plt.ylim([2.6,4.5])\n",
    "#plt.xlim([-5,5])\n",
    "#plt.legend(loc=\"upper left\")\n",
    "plt.ylabel(\"Aggregate Network Score\")\n",
    "plt.xlabel(\"Time to Event (s)\")\n",
    "plt.show()"
   ]
  },
  {
   "cell_type": "code",
   "execution_count": 70,
   "id": "f47a5204-60bc-4e55-bd1c-a9fa6b363ac5",
   "metadata": {
    "tags": []
   },
   "outputs": [
    {
     "data": {
      "text/plain": [
       "array(['Mouse04382', 'Mouse04383', 'Mouse04384', 'Mouse04385',\n",
       "       'Mouse04391', 'Mouse04392', 'Mouse04393', 'Mouse04394',\n",
       "       'Mouse04395'], dtype='<U10')"
      ]
     },
     "execution_count": 70,
     "metadata": {},
     "output_type": "execute_result"
    }
   ],
   "source": [
    "plt.figure(figsize=(10, 5))\n",
    "comp_s = model.classifier[0].weight[0].detach().cpu().numpy()\n",
    "for i in [0,1,2]:\n",
    "    net = i\n",
    "    mean = np.mean(mouse_means[:,:,net],axis=0)\n",
    "    stderr = np.std(mouse_means[:,:,net],axis=0) / np.sqrt(mouse_means.shape[0])\n",
    "    plt.plot(np.arange(6) -3,mean,label=\"network {}\".format(net+1))\n",
    "    plt.fill_between(np.arange(6) -3, mean + stderr, mean - stderr,alpha=0.5)\n",
    "plt.fill_between(np.arange(4) -3, 0,5,alpha=0.2,color=\"red\",label=\"pre-pump\")\n",
    "plt.fill_between(np.arange(3), 0,5,alpha=0.2,color=\"green\",label=\"post-pump\")\n",
    "plt.title(\"Sucrose Countdown Anxiety Network Activity (n={})\".format(len(mouse_id)))\n",
    "plt.ylim([0.025,0.3])\n",
    "plt.xlim([-2,2])\n",
    "plt.legend(loc=\"upper left\")\n",
    "plt.ylabel(\"Individual Network Score\")\n",
    "plt.xlabel(\"Time to Event (s)\")\n",
    "plt.show()"
   ]
  },
  {
   "cell_type": "code",
   "execution_count": 82,
   "id": "79f36775-972f-4047-9cfe-452889c50c28",
   "metadata": {
    "tags": []
   },
   "outputs": [
    {
     "data": {
      "text/plain": [
       "array(['Mouse04381', 'Mouse04382', 'Mouse04383', 'Mouse04384',\n",
       "       'Mouse04385', 'Mouse04391', 'Mouse04392', 'Mouse04393',\n",
       "       'Mouse04394', 'Mouse04395'], dtype='<U10')"
      ]
     },
     "execution_count": 82,
     "metadata": {},
     "output_type": "execute_result"
    }
   ],
   "source": [
    "np.unique(labels['windows']['mouse'])"
   ]
  },
  {
   "cell_type": "code",
   "execution_count": 84,
   "id": "2200269c-305f-474b-b94a-308d28d15184",
   "metadata": {
    "tags": []
   },
   "outputs": [
    {
     "data": {
      "text/plain": [
       "array(['053020', '053120', '060120', '060920', '061020', '061120',\n",
       "       '061220', '061320', '061420', '061920', '062020', '062120',\n",
       "       '062220', '062320', '062420', '062520', '062620', '062720',\n",
       "       '062820', '062920', '063020', '070220', '070320', '070420',\n",
       "       '071420', '071820', '071920'], dtype='<U6')"
      ]
     },
     "execution_count": 84,
     "metadata": {},
     "output_type": "execute_result"
    }
   ],
   "source": [
    "np.unique(labels['windows']['expDate'])"
   ]
  },
  {
   "cell_type": "code",
   "execution_count": 88,
   "id": "1cd05ba6-2127-4edd-9886-ca8610ba5721",
   "metadata": {
    "tags": []
   },
   "outputs": [
    {
     "name": "stdout",
     "output_type": "stream",
     "text": [
      "Mouse04381 ['070420']\n",
      "Mouse04382 ['062320' '062420' '062520' '062620' '062720']\n",
      "Mouse04383 ['062420' '062520' '062620' '062720']\n",
      "Mouse04384 ['061920' '062020' '071420' '071820' '071920']\n",
      "Mouse04385 ['062120' '062720']\n",
      "Mouse04391 ['060920' '061120' '061220' '061320' '061420' '062620']\n",
      "Mouse04392 ['061020' '061220']\n",
      "Mouse04393 ['053020' '053120' '060120']\n",
      "Mouse04394 ['062220' '062320' '062420' '062520' '062620' '062720' '070220' '070320']\n",
      "Mouse04395 ['062520' '062620' '062720' '062820' '062920' '063020']\n"
     ]
    }
   ],
   "source": [
    "for mouse in np.unique(labels['windows']['mouse']):\n",
    "    mouse_mask = y_mouse==mouse\n",
    "    \n",
    "    print(mouse,np.unique(np.array(labels['windows']['expDate'])[mouse_mask==1]))"
   ]
  },
  {
   "cell_type": "code",
   "execution_count": 87,
   "id": "9139ce04-36ea-4725-86a9-7ad647e206a0",
   "metadata": {
    "tags": []
   },
   "outputs": [
    {
     "data": {
      "text/plain": [
       "array(['062520', '062520', '062520', ..., '063020', '063020', '063020'],\n",
       "      dtype='<U6')"
      ]
     },
     "execution_count": 87,
     "metadata": {},
     "output_type": "execute_result"
    }
   ],
   "source": [
    "np.array(labels['windows']['expDate'])[mouse_mask==1]"
   ]
  },
  {
   "cell_type": "code",
   "execution_count": null,
   "id": "5e238cc7-fd0d-4734-9f16-8d87bdd7fba4",
   "metadata": {},
   "outputs": [],
   "source": []
  }
 ],
 "metadata": {
  "kernelspec": {
   "display_name": "Python 3 (ipykernel)",
   "language": "python",
   "name": "python3"
  },
  "language_info": {
   "codemirror_mode": {
    "name": "ipython",
    "version": 3
   },
   "file_extension": ".py",
   "mimetype": "text/x-python",
   "name": "python",
   "nbconvert_exporter": "python",
   "pygments_lexer": "ipython3",
   "version": "3.7.11"
  }
 },
 "nbformat": 4,
 "nbformat_minor": 5
}

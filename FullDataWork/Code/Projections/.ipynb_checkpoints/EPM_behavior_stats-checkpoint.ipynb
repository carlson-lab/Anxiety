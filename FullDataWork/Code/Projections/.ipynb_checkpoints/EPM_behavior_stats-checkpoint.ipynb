{
 "cells": [
  {
   "cell_type": "code",
   "execution_count": 2,
   "id": "438c963b-0c83-4a7a-94fa-ccd44625d490",
   "metadata": {},
   "outputs": [],
   "source": [
    "import numpy as np\n",
    "import pandas as pd\n",
    "import torch\n",
    "import pickle\n",
    "import matplotlib.pyplot as plt\n",
    "from lpne.models import DcsfaNmf\n",
    "\n",
    "MODEL_FILE = \"/hpc/home/mk423/Anxiety/FullDataWork/Models/Final_mt_Model_500_epochs.pt\"\n",
    "DATA_PATH = \"/work/mk423/Anxiety/\"\n",
    "PROJECT_PATH = \"/hpc/home/mk423/Anxiety/FullDataWork/Projections/\"\n",
    "FIGURE_PATH = \"/hpc/home/mk423/Anxiety/FullDataWork/Figures/\"\n",
    "data_file = DATA_PATH + \"EPM_test_dict_May_17.pkl\"\n",
    "train_file = DATA_PATH + \"EPM_train_dict_May_17.pkl\"\n",
    "val_file = DATA_PATH + \"EPM_val_dict_May_17.pkl\"\n",
    "proj_file = PROJECT_PATH + \"EPM_Holdout_Projections.csv\"\n",
    "mean_file = PROJECT_PATH + \"EPM_Holdout_mean_scores.csv\"\n",
    "\n",
    "model = torch.load(MODEL_FILE,map_location=\"cpu\")\n",
    "model.device=\"cpu\"\n",
    "\n",
    "\n",
    "old_feature_list = [\"X_power_1_2\",\"X_coh_1_2\",\"X_gc_1_2\"]\n",
    "feature_weights = [10,1,1]\n",
    "\n",
    "\n",
    "\n",
    "import os, sys\n",
    "umc_data_tools_path = \"/hpc/home/mk423/Anxiety/Universal-Mouse-Code/\"\n",
    "sys.path.append(umc_data_tools_path)\n",
    "import umc_data_tools as umc_dt"
   ]
  },
  {
   "cell_type": "code",
   "execution_count": 47,
   "id": "07962084-6dcc-401a-bdb4-f2fe2560fb62",
   "metadata": {},
   "outputs": [
    {
     "data": {
      "text/plain": [
       "array(['Mouse0641', 'Mouse39115', 'Mouse39121', 'Mouse39122',\n",
       "       'Mouse39132', 'Mouse39135', 'Mouse6674', 'Mouse69061',\n",
       "       'Mouse69071', 'Mouse69075', 'Mouse8893'], dtype='<U10')"
      ]
     },
     "execution_count": 47,
     "metadata": {},
     "output_type": "execute_result"
    }
   ],
   "source": [
    "dataDict = pickle.load(open(data_file,\"rb\"))\n",
    "np.unique(dataDict[\"y_mouse\"])"
   ]
  },
  {
   "cell_type": "code",
   "execution_count": 49,
   "id": "7bfad70b-a724-43c8-9006-0b27f6dc9d49",
   "metadata": {},
   "outputs": [
    {
     "data": {
      "text/plain": [
       "array(['Mouse04193', 'Mouse0633', 'Mouse0642', 'Mouse39125', 'Mouse69065'],\n",
       "      dtype='<U10')"
      ]
     },
     "execution_count": 49,
     "metadata": {},
     "output_type": "execute_result"
    }
   ],
   "source": [
    "dataDict = pickle.load(open(val_file,\"rb\"))\n",
    "np.unique(dataDict[\"y_mouse\"])"
   ]
  },
  {
   "cell_type": "code",
   "execution_count": 51,
   "id": "49b94021-8090-44cc-9ace-eb36d9ef68c7",
   "metadata": {},
   "outputs": [
    {
     "name": "stdout",
     "output_type": "stream",
     "text": [
      "Mouse04201 314\n",
      "Mouse04202 326\n",
      "Mouse04205 9\n",
      "Mouse04215 352\n",
      "Mouse0630 603\n",
      "Mouse0634 570\n",
      "Mouse0643 169\n",
      "Mouse1551 653\n",
      "Mouse39114 198\n",
      "Mouse39124 337\n",
      "Mouse39133 368\n",
      "Mouse6291 618\n",
      "Mouse6292 629\n",
      "Mouse6293 620\n",
      "Mouse69064 292\n",
      "Mouse69074 332\n",
      "Mouse8580 549\n",
      "Mouse8581 441\n",
      "Mouse8582 42\n",
      "Mouse8891 602\n",
      "Mouse8894 372\n",
      "Mouse04193 289\n",
      "Mouse0633 611\n",
      "Mouse0642 581\n",
      "Mouse39125 284\n",
      "Mouse69065 380\n",
      "Mouse0641 264\n",
      "Mouse39115 343\n",
      "Mouse39121 346\n",
      "Mouse39122 328\n",
      "Mouse39132 290\n",
      "Mouse39135 322\n",
      "Mouse6674 620\n",
      "Mouse69061 365\n",
      "Mouse69071 346\n",
      "Mouse69075 316\n",
      "Mouse8893 586\n"
     ]
    }
   ],
   "source": [
    "data_dictionaries = [train_file,val_file,data_file]\n",
    "data_type = [\"train\",\"val\",\"test\"]\n",
    "\n",
    "mouse_names = []\n",
    "split = []\n",
    "open_arm_perc = []\n",
    "closed_arm_perc = []\n",
    "center_perc = []\n",
    "time_in_task_list = []\n",
    "\n",
    "for file, group in zip(data_dictionaries,data_type):\n",
    "    dataDict = pickle.load(open(file,\"rb\"))\n",
    "    \n",
    "    for mouse in np.unique(dataDict[\"y_mouse\"]):\n",
    "        \n",
    "        #Isolate the in task windows\n",
    "        mouse_mask = dataDict[\"y_mouse\"]==mouse\n",
    "        nan_mask = dataDict[\"y_ROI\"] > 0\n",
    "        in_task_mask = 1-dataDict[\"y_Homecage\"]\n",
    "        \n",
    "        mask = np.logical_and(mouse_mask,nan_mask)\n",
    "        mask = np.logical_and(mask,in_task_mask)\n",
    "\n",
    "        mouse_in_task_mask = np.logical_and(mouse_mask,in_task_mask)\n",
    "        print(mouse,np.sum(mouse_in_task_mask))\n",
    "\n",
    "        #Baseline Info\n",
    "        time_in_task = np.sum(mouse_in_task_mask)#np.max(dataDict[\"y_time\"][mouse_in_task_mask==1]) - np.min(dataDict[\"y_time\"][mouse_in_task_mask==1])\n",
    "        \n",
    "        ca_mask = np.logical_or(dataDict[\"y_ROI\"][mask==1]==1,\n",
    "                                dataDict[\"y_ROI\"][mask==1]==3)\n",
    "        \n",
    "        oa_mask = np.logical_or(dataDict[\"y_ROI\"][mask==1]==2,\n",
    "                                dataDict[\"y_ROI\"][mask==1]==4)\n",
    "        \n",
    "        c_mask = dataDict[\"y_ROI\"][mask==1]==5\n",
    "        \n",
    "        #frequency\n",
    "        n_transitions_to_oa = np.sum(ca_mask[1:] != ca_mask[:-1])\n",
    "        \n",
    "        #time in task\n",
    "        perc_ca = np.sum(ca_mask) / time_in_task\n",
    "        perc_oa = np.sum(oa_mask) / time_in_task\n",
    "        perc_c = np.sum(c_mask) / time_in_task\n",
    "        \n",
    "        #distance\n",
    "        #velocity_nan_mask = dataDict[\"y_vel\"] >=0\n",
    "        #vel_mask = np.logical_and(mask,velocity_nan_mask)\n",
    "        #distance = np.sum(dataDict[\"y_vel\"][vel_mask==1])\n",
    "        \n",
    "        mouse_names.append(mouse)\n",
    "        split.append(group)\n",
    "        open_arm_perc.append(perc_oa)\n",
    "        closed_arm_perc.append(perc_ca)\n",
    "        center_perc.append(perc_c)\n",
    "        time_in_task_list.append(time_in_task)\n",
    "    "
   ]
  },
  {
   "cell_type": "code",
   "execution_count": 52,
   "id": "12f7efd8-f3d2-4d79-9a90-2e819308f5cb",
   "metadata": {},
   "outputs": [],
   "source": [
    "df = pd.DataFrame({\"mouse\":mouse_names,\n",
    "                   \"split\":split,\n",
    "                   \"time-in-task\":time_in_task_list,\n",
    "                   \"OpenArmPerc\":open_arm_perc,\n",
    "                   \"ClosedArmPerc\":closed_arm_perc,\n",
    "                   \"CenterPerc\":center_perc,\n",
    "                  })\n",
    "\n",
    "df.to_csv(PROJECT_PATH + \"EPM_behaviors.csv\",index=False)"
   ]
  },
  {
   "cell_type": "code",
   "execution_count": 34,
   "id": "02d509c0-06c5-4a56-aca6-7dc944200493",
   "metadata": {},
   "outputs": [
    {
     "data": {
      "text/plain": [
       "12.6"
      ]
     },
     "execution_count": 34,
     "metadata": {},
     "output_type": "execute_result"
    }
   ],
   "source": [
    "n_transitions_to_oa/5"
   ]
  },
  {
   "cell_type": "code",
   "execution_count": 8,
   "id": "9a91bb6b-6a0a-4d0d-a956-7922546a05fe",
   "metadata": {},
   "outputs": [
    {
     "data": {
      "text/plain": [
       "array([False, False, False, ...,  True,  True,  True])"
      ]
     },
     "execution_count": 8,
     "metadata": {},
     "output_type": "execute_result"
    }
   ],
   "source": [
    "mouse_mask"
   ]
  },
  {
   "cell_type": "code",
   "execution_count": 9,
   "id": "e1be4613-0900-46b8-b7de-d9cc764ecdc4",
   "metadata": {},
   "outputs": [
    {
     "data": {
      "text/plain": [
       "dict_keys(['X_psd', 'X_ds', 'X_power_1_2', 'X_coh_1_2', 'X_gc_1_2', 'y_mouse', 'y_locx', 'y_locy', 'y_ROI', 'y_vel', 'y_expDate', 'y_Homecage', 'y_time', 'mice', 'info'])"
      ]
     },
     "execution_count": 9,
     "metadata": {},
     "output_type": "execute_result"
    }
   ],
   "source": [
    "dataDict.keys()"
   ]
  },
  {
   "cell_type": "code",
   "execution_count": null,
   "id": "82aa13dc-1aab-4b82-ac2b-68a96a3cbe38",
   "metadata": {},
   "outputs": [],
   "source": []
  }
 ],
 "metadata": {
  "kernelspec": {
   "display_name": "Python 3 (ipykernel)",
   "language": "python",
   "name": "python3"
  },
  "language_info": {
   "codemirror_mode": {
    "name": "ipython",
    "version": 3
   },
   "file_extension": ".py",
   "mimetype": "text/x-python",
   "name": "python",
   "nbconvert_exporter": "python",
   "pygments_lexer": "ipython3",
   "version": "3.7.13"
  }
 },
 "nbformat": 4,
 "nbformat_minor": 5
}

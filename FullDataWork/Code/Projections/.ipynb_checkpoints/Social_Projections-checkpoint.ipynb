{
 "cells": [
  {
   "cell_type": "code",
   "execution_count": 4,
   "id": "bb7ab5db-650c-48b4-a361-995ac6887a2d",
   "metadata": {},
   "outputs": [],
   "source": [
    "import numpy as np\n",
    "import pandas as pd\n",
    "import torch\n",
    "import pickle\n",
    "import matplotlib.pyplot as plt\n",
    "from lpne.models import DcsfaNmf\n",
    "from scipy.stats import spearmanr\n",
    "\n",
    "MODEL_FILE = \"/hpc/home/mk423/Anxiety/FullDataWork/Models/Final_mt_Model_500_epochs.pt\"\n",
    "DATA_FILE = \"/work/mk423/Social_v_1_2/SocialData_v_1_2.pkl\"\n",
    "\n",
    "keep_mice_1 = \"/work/mk423/Social_v_1_2/SocialMice_Format1.xlsx\"\n",
    "keep_mice_2 = \"/work/mk423/Social_v_1_2/SocialMice_Format2.xlsx\"\n",
    "\n",
    "model = torch.load(MODEL_FILE,map_location=\"cpu\")\n",
    "model.device=\"cpu\"\n",
    "\n",
    "FEATURE_LIST = ['X_psd','X_coh','X_gc']\n",
    "FEATURE_WEIGHT = [10,1,1]\n",
    "\n",
    "dataDict = pickle.load(open(DATA_FILE,\"rb\"))"
   ]
  },
  {
   "cell_type": "code",
   "execution_count": 5,
   "id": "a8fbb23a-ee0e-442f-8034-f7ca5be001c8",
   "metadata": {
    "tags": []
   },
   "outputs": [],
   "source": [
    "df_f1 = pd.read_excel(keep_mice_1)\n",
    "df_f2 = pd.read_excel(keep_mice_2)\n",
    "\n",
    "X = np.hstack([weight*dataDict[feature] for weight,feature in zip(FEATURE_WEIGHT,FEATURE_LIST)])\n",
    "y_time = dataDict['y_time']\n",
    "y_mouse = np.array(dataDict['y_mouse'])\n",
    "y_expDate = np.array(dataDict[\"y_expDate\"])\n",
    "y_social = np.array(dataDict[\"y_social\"])\n",
    "y_object = np.array(dataDict[\"y_object\"])\n",
    "y_velocity = np.array(dataDict[\"y_velocity\"])\n",
    "\n",
    "s = model.project(X)\n",
    "coeffs = model.classifier[0].weight[0].detach().cpu().numpy()\n",
    "agg_score = s[:,:3] @ coeffs"
   ]
  },
  {
   "cell_type": "code",
   "execution_count": 13,
   "id": "15f0a07d-eda3-4567-b6f0-cf92222e6998",
   "metadata": {
    "tags": []
   },
   "outputs": [
    {
     "data": {
      "text/html": [
       "<div>\n",
       "<style scoped>\n",
       "    .dataframe tbody tr th:only-of-type {\n",
       "        vertical-align: middle;\n",
       "    }\n",
       "\n",
       "    .dataframe tbody tr th {\n",
       "        vertical-align: top;\n",
       "    }\n",
       "\n",
       "    .dataframe thead th {\n",
       "        text-align: right;\n",
       "    }\n",
       "</style>\n",
       "<table border=\"1\" class=\"dataframe\">\n",
       "  <thead>\n",
       "    <tr style=\"text-align: right;\">\n",
       "      <th></th>\n",
       "      <th>mouse</th>\n",
       "      <th>expDate</th>\n",
       "      <th>social</th>\n",
       "      <th>object</th>\n",
       "      <th>velocity</th>\n",
       "      <th>agg score</th>\n",
       "      <th>net 1 score</th>\n",
       "      <th>net 2 score</th>\n",
       "      <th>net 3 score</th>\n",
       "    </tr>\n",
       "  </thead>\n",
       "  <tbody>\n",
       "    <tr>\n",
       "      <th>0</th>\n",
       "      <td>Mouse5321</td>\n",
       "      <td>052616</td>\n",
       "      <td>False</td>\n",
       "      <td>True</td>\n",
       "      <td>NaN</td>\n",
       "      <td>2.383564</td>\n",
       "      <td>0.068867</td>\n",
       "      <td>0.100001</td>\n",
       "      <td>0.057580</td>\n",
       "    </tr>\n",
       "    <tr>\n",
       "      <th>1</th>\n",
       "      <td>Mouse5321</td>\n",
       "      <td>052616</td>\n",
       "      <td>False</td>\n",
       "      <td>True</td>\n",
       "      <td>0.472884</td>\n",
       "      <td>3.109647</td>\n",
       "      <td>0.101021</td>\n",
       "      <td>0.123141</td>\n",
       "      <td>0.092574</td>\n",
       "    </tr>\n",
       "    <tr>\n",
       "      <th>2</th>\n",
       "      <td>Mouse5321</td>\n",
       "      <td>052616</td>\n",
       "      <td>False</td>\n",
       "      <td>True</td>\n",
       "      <td>2.429704</td>\n",
       "      <td>4.365631</td>\n",
       "      <td>0.129303</td>\n",
       "      <td>0.184024</td>\n",
       "      <td>0.042581</td>\n",
       "    </tr>\n",
       "    <tr>\n",
       "      <th>3</th>\n",
       "      <td>Mouse5321</td>\n",
       "      <td>052616</td>\n",
       "      <td>False</td>\n",
       "      <td>True</td>\n",
       "      <td>3.007293</td>\n",
       "      <td>2.903649</td>\n",
       "      <td>0.113782</td>\n",
       "      <td>0.105590</td>\n",
       "      <td>0.039570</td>\n",
       "    </tr>\n",
       "    <tr>\n",
       "      <th>4</th>\n",
       "      <td>Mouse5321</td>\n",
       "      <td>052616</td>\n",
       "      <td>False</td>\n",
       "      <td>True</td>\n",
       "      <td>1.941513</td>\n",
       "      <td>5.840670</td>\n",
       "      <td>0.174931</td>\n",
       "      <td>0.246522</td>\n",
       "      <td>0.023311</td>\n",
       "    </tr>\n",
       "  </tbody>\n",
       "</table>\n",
       "</div>"
      ],
      "text/plain": [
       "       mouse expDate  social  object  velocity  agg score  net 1 score  \\\n",
       "0  Mouse5321  052616   False    True       NaN   2.383564     0.068867   \n",
       "1  Mouse5321  052616   False    True  0.472884   3.109647     0.101021   \n",
       "2  Mouse5321  052616   False    True  2.429704   4.365631     0.129303   \n",
       "3  Mouse5321  052616   False    True  3.007293   2.903649     0.113782   \n",
       "4  Mouse5321  052616   False    True  1.941513   5.840670     0.174931   \n",
       "\n",
       "   net 2 score  net 3 score  \n",
       "0     0.100001     0.057580  \n",
       "1     0.123141     0.092574  \n",
       "2     0.184024     0.042581  \n",
       "3     0.105590     0.039570  \n",
       "4     0.246522     0.023311  "
      ]
     },
     "execution_count": 13,
     "metadata": {},
     "output_type": "execute_result"
    }
   ],
   "source": [
    "projectDict = {}\n",
    "projectDict[\"mouse\"] = []\n",
    "projectDict[\"expDate\"] = []\n",
    "projectDict[\"social\"] = []\n",
    "projectDict[\"object\"] = []\n",
    "projectDict[\"velocity\"] = []\n",
    "projectDict[\"agg score\"] = []\n",
    "projectDict[\"net 1 score\"] = []\n",
    "projectDict[\"net 2 score\"] = []\n",
    "projectDict[\"net 3 score\"] = []\n",
    "\n",
    "\n",
    "for idx in range(df_f1.shape[0]):\n",
    "    \n",
    "    mouse = \"Mouse\" + ''.join(df_f1.values[idx,0].split('-'))\n",
    "    expDate = str(df_f1.values[idx,1])\n",
    "    \n",
    "    if len(expDate) < 6:\n",
    "        expDate = '0' + expDate\n",
    "    mouse_mask = y_mouse == mouse\n",
    "    expDate_mask = y_expDate == expDate\n",
    "    mask = np.logical_and(mouse_mask,expDate_mask)\n",
    "    \n",
    "    if np.sum(mask) > 0:\n",
    "        #statistical test for the third network\n",
    "        projectDict[\"mouse\"].append(y_mouse[mask==1])\n",
    "        projectDict[\"expDate\"].append(y_expDate[mask==1])\n",
    "        projectDict[\"social\"].append(y_social[mask==1])\n",
    "        projectDict[\"object\"].append(y_object[mask==1])\n",
    "        projectDict[\"velocity\"].append(y_velocity[mask==1])\n",
    "\n",
    "        projectDict[\"agg score\"].append(agg_score[mask==1])\n",
    "        projectDict[\"net 1 score\"].append(s[mask==1,0])\n",
    "        projectDict[\"net 2 score\"].append(s[mask==1,1])\n",
    "        projectDict[\"net 3 score\"].append(s[mask==1,2])\n",
    "    \n",
    "\n",
    "\n",
    "\n",
    "for idx in range(df_f2.shape[0]):\n",
    "    \n",
    "    mouse = df_f2.values[idx,0]\n",
    "    expDate = str(df_f2.values[idx,1])\n",
    "    \n",
    "    if len(expDate) < 6:\n",
    "        expDate = '0' + expDate\n",
    "        \n",
    "    mouse_mask = y_mouse == mouse\n",
    "    expDate_mask = y_expDate == expDate\n",
    "    mask = np.logical_and(mouse_mask,expDate_mask)\n",
    "    \n",
    "    if np.sum(mask) > 0:\n",
    "        #statistical test for the third network\n",
    "        projectDict[\"mouse\"].append(y_mouse[mask==1])\n",
    "        projectDict[\"expDate\"].append(y_expDate[mask==1])\n",
    "        projectDict[\"social\"].append(y_social[mask==1])\n",
    "        projectDict[\"object\"].append(y_object[mask==1])\n",
    "        projectDict[\"velocity\"].append(y_velocity[mask==1])\n",
    "\n",
    "        projectDict[\"agg score\"].append(agg_score[mask==1])\n",
    "        projectDict[\"net 1 score\"].append(s[mask==1,0])\n",
    "        projectDict[\"net 2 score\"].append(s[mask==1,1])\n",
    "        projectDict[\"net 3 score\"].append(s[mask==1,2])\n",
    "\n",
    "projectDict[\"mouse\"] = np.hstack(projectDict[\"mouse\"])\n",
    "projectDict[\"expDate\"] = np.hstack(projectDict[\"expDate\"])\n",
    "projectDict[\"social\"] = np.hstack(projectDict[\"social\"])\n",
    "projectDict[\"object\"] = np.hstack(projectDict[\"object\"])\n",
    "projectDict[\"velocity\"] = np.hstack(projectDict[\"velocity\"])\n",
    "projectDict[\"agg score\"] = np.hstack(projectDict[\"agg score\"])\n",
    "projectDict[\"net 1 score\"] = np.hstack(projectDict[\"net 1 score\"])\n",
    "projectDict[\"net 2 score\"] = np.hstack(projectDict[\"net 2 score\"])\n",
    "projectDict[\"net 3 score\"] = np.hstack(projectDict[\"net 3 score\"])\n",
    "\n",
    "df = pd.DataFrame.from_dict(projectDict)\n",
    "df.head()"
   ]
  },
  {
   "cell_type": "code",
   "execution_count": 46,
   "id": "e91005bb-2c25-467f-b51a-bfb0682ef072",
   "metadata": {
    "tags": []
   },
   "outputs": [
    {
     "data": {
      "image/png": "[encoded data removed]",
      "text/plain": [
       "<Figure size 576x288 with 1 Axes>"
      ]
     },
     "metadata": {
      "needs_background": "light"
     },
     "output_type": "display_data"
    },
    {
     "data": {
      "image/png": "[encoded data removed]",
      "text/plain": [
       "<Figure size 576x288 with 1 Axes>"
      ]
     },
     "metadata": {
      "needs_background": "light"
     },
     "output_type": "display_data"
    }
   ],
   "source": [
    "pval_list = []\n",
    "rval_list = []\n",
    "for mouse in np.unique(df[\"mouse\"]):\n",
    "    mouse_mask = df[\"mouse\"]==mouse\n",
    "    nan_mask = ~np.isnan(df[\"velocity\"])\n",
    "    mask = np.logical_and(mouse_mask,nan_mask)\n",
    "    result = spearmanr(df[mask==1][\"velocity\"],df[mask==1][\"net 1 score\"])\n",
    "    pval_list.append(result.pvalue)\n",
    "    rval_list.append(result.correlation)\n",
    "    \n",
    "plt.figure(figsize=(8,4))\n",
    "plt.hist(pval_list,bins=40)\n",
    "plt.xlim([0,1])\n",
    "plt.axvline(0.05,linestyle=\"dashed\",color=\"red\",label=\"p = 0.05\")\n",
    "plt.title(\"Net 1 vs. Velocity Spearmanr p-value\")\n",
    "plt.ylabel(\"Count\")\n",
    "plt.xlabel(\"p-value\")\n",
    "plt.show()\n",
    "\n",
    "plt.figure(figsize=(8,4))\n",
    "plt.hist(rval_list)\n",
    "plt.ylabel(\"Count\")\n",
    "plt.xlabel(\"Spearman R value\")\n",
    "plt.title(\"Net 1 vs. Velocity Spearmanr r-value\")\n",
    "plt.show()"
   ]
  },
  {
   "cell_type": "code",
   "execution_count": 47,
   "id": "7ffe3875-0d60-4b8d-a872-a54653b15bf2",
   "metadata": {
    "tags": []
   },
   "outputs": [
    {
     "data": {
      "image/png": "[encoded data removed]",
      "text/plain": [
       "<Figure size 576x288 with 1 Axes>"
      ]
     },
     "metadata": {
      "needs_background": "light"
     },
     "output_type": "display_data"
    },
    {
     "data": {
      "image/png": "[encoded data removed]",
      "text/plain": [
       "<Figure size 576x288 with 1 Axes>"
      ]
     },
     "metadata": {
      "needs_background": "light"
     },
     "output_type": "display_data"
    }
   ],
   "source": [
    "pval_list = []\n",
    "rval_list = []\n",
    "for mouse in np.unique(df[\"mouse\"]):\n",
    "    mouse_mask = df[\"mouse\"]==mouse\n",
    "    nan_mask = ~np.isnan(df[\"velocity\"])\n",
    "    mask = np.logical_and(mouse_mask,nan_mask)\n",
    "    result = spearmanr(df[mask==1][\"velocity\"],df[mask==1][\"net 2 score\"])\n",
    "    pval_list.append(result.pvalue)\n",
    "    rval_list.append(result.correlation)\n",
    "    \n",
    "plt.figure(figsize=(8,4))\n",
    "plt.hist(pval_list,bins=40)\n",
    "plt.xlim([0,1])\n",
    "plt.axvline(0.05,linestyle=\"dashed\",color=\"red\",label=\"p = 0.05\")\n",
    "plt.title(\"Net 2 vs. Velocity Spearmanr p-value\")\n",
    "plt.ylabel(\"Count\")\n",
    "plt.xlabel(\"p-value\")\n",
    "plt.show()\n",
    "\n",
    "plt.figure(figsize=(8,4))\n",
    "plt.hist(rval_list)\n",
    "plt.ylabel(\"Count\")\n",
    "plt.xlabel(\"Spearman R value\")\n",
    "plt.title(\"Net 2 vs. Velocity Spearmanr r-value\")\n",
    "plt.show()"
   ]
  },
  {
   "cell_type": "code",
   "execution_count": 48,
   "id": "51ad024f-95c9-4389-9edd-363b283ff366",
   "metadata": {
    "tags": []
   },
   "outputs": [
    {
     "data": {
      "image/png": "[encoded data removed]",
      "text/plain": [
       "<Figure size 576x288 with 1 Axes>"
      ]
     },
     "metadata": {
      "needs_background": "light"
     },
     "output_type": "display_data"
    },
    {
     "data": {
      "image/png": "[encoded data removed]",
      "text/plain": [
       "<Figure size 576x288 with 1 Axes>"
      ]
     },
     "metadata": {
      "needs_background": "light"
     },
     "output_type": "display_data"
    }
   ],
   "source": [
    "pval_list = []\n",
    "rval_list = []\n",
    "for mouse in np.unique(df[\"mouse\"]):\n",
    "    mouse_mask = df[\"mouse\"]==mouse\n",
    "    nan_mask = ~np.isnan(df[\"velocity\"])\n",
    "    mask = np.logical_and(mouse_mask,nan_mask)\n",
    "    result = spearmanr(df[mask==1][\"velocity\"],df[mask==1][\"net 3 score\"])\n",
    "    pval_list.append(result.pvalue)\n",
    "    rval_list.append(result.correlation)\n",
    "    \n",
    "plt.figure(figsize=(8,4))\n",
    "plt.hist(pval_list,bins=40)\n",
    "plt.xlim([0,1])\n",
    "plt.axvline(0.05,linestyle=\"dashed\",color=\"red\",label=\"p = 0.05\")\n",
    "plt.title(\"Net 3 vs. Velocity Spearmanr p-value\")\n",
    "plt.ylabel(\"Count\")\n",
    "plt.xlabel(\"p-value\")\n",
    "plt.show()\n",
    "\n",
    "plt.figure(figsize=(8,4))\n",
    "plt.hist(rval_list)\n",
    "plt.ylabel(\"Count\")\n",
    "plt.xlabel(\"Spearman R value\")\n",
    "plt.title(\"Net 3 vs. Velocity Spearmanr r-value\")\n",
    "plt.show()"
   ]
  },
  {
   "cell_type": "code",
   "execution_count": null,
   "id": "4fa628a8-cd95-481e-8f27-a31aa5b6083f",
   "metadata": {},
   "outputs": [],
   "source": []
  }
 ],
 "metadata": {
  "kernelspec": {
   "display_name": "Python 3 (ipykernel)",
   "language": "python",
   "name": "python3"
  },
  "language_info": {
   "codemirror_mode": {
    "name": "ipython",
    "version": 3
   },
   "file_extension": ".py",
   "mimetype": "text/x-python",
   "name": "python",
   "nbconvert_exporter": "python",
   "pygments_lexer": "ipython3",
   "version": "3.7.11"
  }
 },
 "nbformat": 4,
 "nbformat_minor": 5
}

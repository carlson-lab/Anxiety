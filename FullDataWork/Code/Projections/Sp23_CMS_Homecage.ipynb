{
 "cells": [
  {
   "cell_type": "code",
   "execution_count": 1,
   "id": "d70e2fde-0a02-423a-9aa0-e20892e519d8",
   "metadata": {},
   "outputs": [
    {
     "name": "stderr",
     "output_type": "stream",
     "text": [
      "/opt/conda/lib/python3.7/site-packages/tqdm/auto.py:22: TqdmWarning: IProgress not found. Please update jupyter and ipywidgets. See https://ipywidgets.readthedocs.io/en/stable/user_install.html\n",
      "  from .autonotebook import tqdm as notebook_tqdm\n",
      "/hpc/home/mk423/.local/lib/python3.7/site-packages/lpne/pipelines/__init__.py:14: UserWarning: Could not load lpne/pipelines/default_params.yaml!\n",
      "  warnings.warn(\"Could not load lpne/pipelines/default_params.yaml!\")\n"
     ]
    }
   ],
   "source": [
    "import numpy as np\n",
    "import pandas as pd\n",
    "import torch\n",
    "import pickle\n",
    "import matplotlib.pyplot as plt\n",
    "from lpne.models import DcsfaNmf\n",
    "\n",
    "MODEL_FILE = \"/hpc/home/mk423/Anxiety/FullDataWork/Models/Final_mt_Model_500_epochs.pt\"\n",
    "DATA_PATH = \"/work/mk423/CUS_EPM_Spr23/Sp23_CMS_Homecage_Data.pkl\"\n",
    "PROJECT_PATH = \"/hpc/home/mk423/Anxiety/FullDataWork/Projections/\"\n",
    "FIGURE_PATH = \"/hpc/home/mk423/Anxiety/FullDataWork/Figures/\"\n",
    "#cus_file = DATA_PATH + \"CUS_data.pkl\"\n",
    "proj_file = PROJECT_PATH + \"Sp23_HC_CUS_projection.csv\"\n",
    "mean_file = PROJECT_PATH + \"Sp23_HC_CUS_mean_scores.csv\"\n",
    "model = torch.load(MODEL_FILE,map_location=\"cpu\")\n",
    "model.device=\"cpu\"\n",
    "\n",
    "\n",
    "#FEATURE_LIST = ['X_power_1_2','X_coh_1_2','X_gc_1_2']\n",
    "#FEATURE_WEIGHT = [10,1,1]\n",
    "\n",
    "import os, sys\n",
    "umc_data_tools_path = \"/hpc/home/mk423/Anxiety/Universal-Mouse-Code/\"\n",
    "sys.path.append(umc_data_tools_path)\n",
    "import umc_data_tools as umc_dt"
   ]
  },
  {
   "cell_type": "code",
   "execution_count": 2,
   "id": "b013b066-131f-421e-a2b2-b6b01f3dad83",
   "metadata": {},
   "outputs": [],
   "source": [
    "include_mice = [26352,\n",
    "26354,\n",
    "26361,\n",
    "26362,\n",
    "26363,\n",
    "26364,\n",
    "26371,\n",
    "26374,\n",
    "26382,\n",
    "26384,\n",
    "26385,\n",
    "26391,\n",
    "26392,\n",
    "26393,\n",
    "26394,]"
   ]
  },
  {
   "cell_type": "code",
   "execution_count": 3,
   "id": "a6f69b50-570e-4214-9309-f7d66532ddc8",
   "metadata": {},
   "outputs": [],
   "source": [
    "cus_data_dict = pickle.load(open(DATA_PATH,'rb'))\n",
    "\n",
    "X = cus_data_dict[\"X\"]\n",
    "y_mouse = cus_data_dict['y_mouse']\n",
    "y_time = cus_data_dict['y_time']"
   ]
  },
  {
   "cell_type": "code",
   "execution_count": 4,
   "id": "c869e7ea-6620-4f71-bede-ca31b6229a70",
   "metadata": {},
   "outputs": [
    {
     "name": "stdout",
     "output_type": "stream",
     "text": [
      "Mouse26352 289\n",
      "Mouse26354 260\n",
      "Mouse26361 294\n",
      "Mouse26362 295\n",
      "Mouse26363 248\n",
      "Mouse26364 254\n",
      "Mouse26371 295\n",
      "Mouse26374 255\n",
      "Mouse26382 292\n",
      "Mouse26384 292\n",
      "Mouse26385 300\n",
      "Mouse26391 300\n",
      "Mouse26393 300\n",
      "13 [26392, 26394]\n"
     ]
    }
   ],
   "source": [
    "i=0\n",
    "remaining_mice = include_mice.copy()\n",
    "for mouse in np.unique(y_mouse):\n",
    "    if int(mouse[-5:]) in include_mice:\n",
    "        mouse_mask = y_mouse==mouse\n",
    "        remaining_mice.remove(int(mouse[-5:]))\n",
    "        print(mouse,np.sum(mouse_mask))\n",
    "        i+=1\n",
    "        \n",
    "print(i, remaining_mice)"
   ]
  },
  {
   "cell_type": "code",
   "execution_count": 5,
   "id": "172146c6-c578-4c18-abd0-f6bff30b966d",
   "metadata": {},
   "outputs": [],
   "source": [
    "s = model.project(X)\n",
    "s_agg = s[:,:3] @ model.classifier[0].weight[0].detach().cpu().numpy()\n",
    "agg_mean_scores = []\n",
    "n1_mean_scores = []\n",
    "n2_mean_scores = []\n",
    "n3_mean_scores = []\n",
    "mouse_list = []\n",
    "for mouse in np.unique(y_mouse):\n",
    "    if int(mouse[-5:]) in include_mice:\n",
    "        mouse_mask = y_mouse==mouse\n",
    "        mouse_list.append(mouse)\n",
    "        agg_mean_scores.append(np.mean(s_agg[mouse_mask==1]))\n",
    "        n1_mean_scores.append(np.mean(s[mouse_mask==1,0]))\n",
    "        n2_mean_scores.append(np.mean(s[mouse_mask==1,1]))\n",
    "        n3_mean_scores.append(np.mean(s[mouse_mask==1,2]))"
   ]
  },
  {
   "cell_type": "code",
   "execution_count": 7,
   "id": "811964cd-d8ae-403e-a45e-be5b991abe02",
   "metadata": {},
   "outputs": [],
   "source": [
    "df = pd.DataFrame.from_dict({\n",
    "    \"mouse\":mouse_list,\n",
    "    \"agg_score\":agg_mean_scores,\n",
    "    \"n1_score\":n1_mean_scores,\n",
    "    \"n2_score\":n2_mean_scores,\n",
    "    \"n3_score\":n3_mean_scores,\n",
    "})\n",
    "\n",
    "df.to_csv(PROJECT_PATH + \"Sp23_CMS_HC_mean_scores_corrected_chan_IDs.csv\")"
   ]
  },
  {
   "cell_type": "code",
   "execution_count": null,
   "id": "8df749f0-8dd0-4bb1-a536-8ebb3680fec9",
   "metadata": {},
   "outputs": [],
   "source": []
  }
 ],
 "metadata": {
  "kernelspec": {
   "display_name": "Python 3 (ipykernel)",
   "language": "python",
   "name": "python3"
  },
  "language_info": {
   "codemirror_mode": {
    "name": "ipython",
    "version": 3
   },
   "file_extension": ".py",
   "mimetype": "text/x-python",
   "name": "python",
   "nbconvert_exporter": "python",
   "pygments_lexer": "ipython3",
   "version": "3.7.13"
  }
 },
 "nbformat": 4,
 "nbformat_minor": 5
}

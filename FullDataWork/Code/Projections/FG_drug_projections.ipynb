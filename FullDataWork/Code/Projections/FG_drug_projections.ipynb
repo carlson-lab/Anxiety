{
 "cells": [
  {
   "cell_type": "code",
   "execution_count": 5,
   "id": "2afabc60-0796-436b-9b15-715b937be9d4",
   "metadata": {
    "tags": []
   },
   "outputs": [],
   "source": [
    "import numpy as np\n",
    "import pandas as pd\n",
    "import torch\n",
    "import pickle\n",
    "import matplotlib.pyplot as plt\n",
    "from lpne.models import DcsfaNmf\n",
    "import os, sys\n",
    "from scipy.io import loadmat\n",
    "\n",
    "MODEL_FILE = \"/hpc/home/mk423/Anxiety/FullDataWork/Models/Final_mt_Model_500_epochs.pt\"\n",
    "DATA_PATH = \"/work/mk423/Anxiety/FG_Drug_Data.mat\"\n",
    "CLASS_DATA_PATH = \"/work/mk423/Anxiety/FG-7142/ClassData/\"\n",
    "PROJECT_PATH = \"/hpc/home/mk423/Anxiety/FullDataWork/Projections/\"\n",
    "FIGURE_PATH = \"/hpc/home/mk423/Anxiety/FullDataWork/Figures/\"\n",
    "LPNE_PATH = \"/work/mk423/lpne-data-analysis\"\n",
    "sys.path.append(LPNE_PATH)\n",
    "\n",
    "import data_tools\n",
    "\n",
    "model = torch.load(MODEL_FILE,map_location=\"cpu\")\n",
    "model.device=\"cpu\"\n",
    "\n",
    "feature_list = [\"X_psd\",\"X_coh\",\"X_gc\"]\n",
    "feature_weights = [10,1,1]"
   ]
  },
  {
   "cell_type": "code",
   "execution_count": 4,
   "id": "95c71262-3366-451e-9d99-7df2c7375fff",
   "metadata": {
    "tags": []
   },
   "outputs": [
    {
     "name": "stdout",
     "output_type": "stream",
     "text": [
      "version saveFeatures_1.2 used to calcuate power features\n",
      "version saveFeatures_1.2 used to calcuate coherence features\n",
      "version saveFeatures_1.2 used to calcuate granger features\n",
      "Version preprocessData_1.0 of preprocessing used\n",
      "Make sure feature versions listed above match those used for any other dataset in the same project\n"
     ]
    },
    {
     "name": "stderr",
     "output_type": "stream",
     "text": [
      "/work/mk423/lpne-data-analysis/data_tools.py:144: UserWarning: Raw Granger causality values loaded; if you want exponentiated or capped features, you must do that yourself\n",
      "  warnings.warn(\"Raw Granger causality values loaded; if you want exponentiated or capped features, you must do that yourself\")\n"
     ]
    }
   ],
   "source": [
    "X_psd,X_coh,X_gc,labels = data_tools.load_data(DATA_PATH,feature_list=[\"power\",\"coherence\",\"granger\"])"
   ]
  },
  {
   "cell_type": "code",
   "execution_count": 37,
   "id": "2d711f3f-5c83-4083-b5d5-062d1d89f5cd",
   "metadata": {
    "tags": []
   },
   "outputs": [],
   "source": [
    "X = np.hstack([X_psd*10,X_coh,X_gc])\n",
    "y_mouse = np.array(labels['windows']['mouse'])\n",
    "y_expDate = np.array(labels['windows']['expDate'])\n",
    "y_time = np.array(labels['windows']['time'])\n",
    "y_drug = np.zeros(y_mouse.shape[0])\n",
    "s = model.project(X)\n",
    "coeffs = model.classifier[0].weight[0].detach().cpu().numpy()\n",
    "s_agg = s[:,:3] @ coeffs\n",
    "\n",
    "for mouse in np.unique(y_mouse):\n",
    "    mouse_mask = y_mouse == mouse\n",
    "    expDate = np.unique(y_expDate[mouse_mask==1])[0]\n",
    "    class_file = \"_\".join([mouse,expDate,\"FG7142_ClassData.mat\"])\n",
    "    matDict = loadmat(CLASS_DATA_PATH + class_file)\n",
    "    y_drug[mouse_mask==1] = matDict['FG'][0][0]\n"
   ]
  },
  {
   "cell_type": "code",
   "execution_count": 26,
   "id": "3123465b-1840-4b5b-a421-bd0a82e3a303",
   "metadata": {
    "tags": []
   },
   "outputs": [],
   "source": [
    "project_dict = {\n",
    "    \"mouse\":y_mouse,\n",
    "    \"expDate\":y_expDate,\n",
    "    \"time\":y_time,\n",
    "    \"drug\":y_drug,\n",
    "    \"net 1\":s[:,0],\n",
    "    \"net 2\":s[:,1],\n",
    "    \"net 3\":s[:,2],\n",
    "    \"agg net\":s_agg\n",
    "}\n",
    "\n",
    "df = pd.DataFrame.from_dict(project_dict)\n",
    "df.head()\n",
    "df.to_csv(PROJECT_PATH + \"FG7142_Projection.csv\",index=False)"
   ]
  },
  {
   "cell_type": "code",
   "execution_count": 42,
   "id": "583f579e-88c8-47b8-9323-704263e44f31",
   "metadata": {
    "tags": []
   },
   "outputs": [
    {
     "data": {
      "text/html": [
       "<div>\n",
       "<style scoped>\n",
       "    .dataframe tbody tr th:only-of-type {\n",
       "        vertical-align: middle;\n",
       "    }\n",
       "\n",
       "    .dataframe tbody tr th {\n",
       "        vertical-align: top;\n",
       "    }\n",
       "\n",
       "    .dataframe thead th {\n",
       "        text-align: right;\n",
       "    }\n",
       "</style>\n",
       "<table border=\"1\" class=\"dataframe\">\n",
       "  <thead>\n",
       "    <tr style=\"text-align: right;\">\n",
       "      <th></th>\n",
       "      <th>mouse</th>\n",
       "      <th>drug</th>\n",
       "      <th>mean net 1</th>\n",
       "      <th>mean net 2</th>\n",
       "      <th>mean net 3</th>\n",
       "      <th>mean agg net</th>\n",
       "    </tr>\n",
       "  </thead>\n",
       "  <tbody>\n",
       "    <tr>\n",
       "      <th>0</th>\n",
       "      <td>Mouse0870</td>\n",
       "      <td>1.0</td>\n",
       "      <td>0.092179</td>\n",
       "      <td>0.163996</td>\n",
       "      <td>0.062758</td>\n",
       "      <td>3.682682</td>\n",
       "    </tr>\n",
       "    <tr>\n",
       "      <th>1</th>\n",
       "      <td>Mouse0871</td>\n",
       "      <td>0.0</td>\n",
       "      <td>0.093581</td>\n",
       "      <td>0.150841</td>\n",
       "      <td>0.069329</td>\n",
       "      <td>3.481817</td>\n",
       "    </tr>\n",
       "    <tr>\n",
       "      <th>2</th>\n",
       "      <td>Mouse0872</td>\n",
       "      <td>0.0</td>\n",
       "      <td>0.075068</td>\n",
       "      <td>0.166169</td>\n",
       "      <td>0.059660</td>\n",
       "      <td>3.549078</td>\n",
       "    </tr>\n",
       "    <tr>\n",
       "      <th>3</th>\n",
       "      <td>Mouse0873</td>\n",
       "      <td>1.0</td>\n",
       "      <td>0.074398</td>\n",
       "      <td>0.110006</td>\n",
       "      <td>0.046089</td>\n",
       "      <td>2.596243</td>\n",
       "    </tr>\n",
       "    <tr>\n",
       "      <th>4</th>\n",
       "      <td>Mouse1551</td>\n",
       "      <td>0.0</td>\n",
       "      <td>0.081768</td>\n",
       "      <td>0.135745</td>\n",
       "      <td>0.069750</td>\n",
       "      <td>3.114719</td>\n",
       "    </tr>\n",
       "  </tbody>\n",
       "</table>\n",
       "</div>"
      ],
      "text/plain": [
       "       mouse  drug  mean net 1  mean net 2  mean net 3  mean agg net\n",
       "0  Mouse0870   1.0    0.092179    0.163996    0.062758      3.682682\n",
       "1  Mouse0871   0.0    0.093581    0.150841    0.069329      3.481817\n",
       "2  Mouse0872   0.0    0.075068    0.166169    0.059660      3.549078\n",
       "3  Mouse0873   1.0    0.074398    0.110006    0.046089      2.596243\n",
       "4  Mouse1551   0.0    0.081768    0.135745    0.069750      3.114719"
      ]
     },
     "execution_count": 42,
     "metadata": {},
     "output_type": "execute_result"
    }
   ],
   "source": [
    "mean_mouse_names = []\n",
    "mean_drug = []\n",
    "mean_score_net_1 = []\n",
    "mean_score_net_2 = []\n",
    "mean_score_net_3 = []\n",
    "mean_score_agg_net = []\n",
    "\n",
    "for mouse in np.unique(df[\"mouse\"]):\n",
    "    mean_mouse_names.append(mouse)\n",
    "    mean_drug.append(np.unique(df[df[\"mouse\"]==mouse][\"drug\"])[0])\n",
    "    mean_score_net_1.append(np.mean(df[df[\"mouse\"]==mouse][\"net 1\"]))\n",
    "    mean_score_net_2.append(np.mean(df[df[\"mouse\"]==mouse][\"net 2\"]))\n",
    "    mean_score_net_3.append(np.mean(df[df[\"mouse\"]==mouse][\"net 3\"]))\n",
    "    mean_score_agg_net.append(np.mean(df[df[\"mouse\"]==mouse][\"agg net\"]))\n",
    "    \n",
    "means_dict = {\n",
    "    \"mouse\":mean_mouse_names,\n",
    "    \"drug\":mean_drug,\n",
    "    \"mean net 1\":mean_score_net_1,\n",
    "    \"mean net 2\":mean_score_net_2,\n",
    "    \"mean net 3\":mean_score_net_3,\n",
    "    \"mean agg net\":mean_score_agg_net,\n",
    "}\n",
    "\n",
    "df_means = pd.DataFrame.from_dict(means_dict)\n",
    "df_means.to_csv(PROJECT_PATH + \"FG7142_Mean_Projection.csv\",index=False)\n",
    "df_means.head()"
   ]
  },
  {
   "cell_type": "code",
   "execution_count": 41,
   "id": "fbf76f46-f31e-463b-8e21-0bc934125239",
   "metadata": {
    "tags": []
   },
   "outputs": [
    {
     "data": {
      "image/png": "[encoded data removed]",
      "text/plain": [
       "<Figure size 432x288 with 1 Axes>"
      ]
     },
     "metadata": {
      "needs_background": "light"
     },
     "output_type": "display_data"
    },
    {
     "data": {
      "image/png": "[encoded data removed]",
      "text/plain": [
       "<Figure size 432x288 with 1 Axes>"
      ]
     },
     "metadata": {
      "needs_background": "light"
     },
     "output_type": "display_data"
    },
    {
     "data": {
      "image/png": "[encoded data removed]",
      "text/plain": [
       "<Figure size 432x288 with 1 Axes>"
      ]
     },
     "metadata": {
      "needs_background": "light"
     },
     "output_type": "display_data"
    },
    {
     "data": {
      "image/png": "[encoded data removed]",
      "text/plain": [
       "<Figure size 432x288 with 1 Axes>"
      ]
     },
     "metadata": {
      "needs_background": "light"
     },
     "output_type": "display_data"
    }
   ],
   "source": [
    "for feature in [\"mean net 1\",\"mean net 2\",\"mean net 3\",\"mean agg net\"]:\n",
    "    ya = df_means[df_means[\"drug\"]==1][feature]\n",
    "    yb = df_means[df_means[\"drug\"]==0][feature]\n",
    "    \n",
    "    xa = np.zeros(ya.shape[0])\n",
    "    xb = np.ones(yb.shape[0])\n",
    "    \n",
    "    plt.scatter(xa,ya,label=\"Drug\")\n",
    "    plt.scatter(xb,yb,label=\"Saline\")\n",
    "    plt.title(\"{}\".format(feature))\n",
    "    plt.legend()\n",
    "    plt.show()"
   ]
  },
  {
   "cell_type": "code",
   "execution_count": null,
   "id": "6920af3c-1aee-4bd4-8891-d6885ba4a866",
   "metadata": {},
   "outputs": [],
   "source": []
  }
 ],
 "metadata": {
  "kernelspec": {
   "display_name": "Python 3 (ipykernel)",
   "language": "python",
   "name": "python3"
  },
  "language_info": {
   "codemirror_mode": {
    "name": "ipython",
    "version": 3
   },
   "file_extension": ".py",
   "mimetype": "text/x-python",
   "name": "python",
   "nbconvert_exporter": "python",
   "pygments_lexer": "ipython3",
   "version": "3.7.11"
  }
 },
 "nbformat": 4,
 "nbformat_minor": 5
}

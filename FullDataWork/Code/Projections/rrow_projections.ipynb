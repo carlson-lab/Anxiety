{
 "cells": [
  {
   "cell_type": "code",
   "execution_count": 2,
   "id": "b3fdf9da-43de-4e7b-b829-6ad5ec7d197e",
   "metadata": {
    "tags": []
   },
   "outputs": [
    {
     "name": "stderr",
     "output_type": "stream",
     "text": [
      "/hpc/home/mk423/.local/lib/python3.7/site-packages/lpne/pipelines/__init__.py:14: UserWarning: Could not load lpne/pipelines/default_params.yaml!\n",
      "  warnings.warn(\"Could not load lpne/pipelines/default_params.yaml!\")\n"
     ]
    }
   ],
   "source": [
    "import numpy as np\n",
    "import pandas as pd\n",
    "import torch\n",
    "import pickle\n",
    "import matplotlib.pyplot as plt\n",
    "from lpne.models import DcsfaNmf\n",
    "\n",
    "MODEL_FILE = \"/hpc/home/mk423/Anxiety/FullDataWork/Models/Final_mt_Model_500_epochs.pt\"\n",
    "DATA_PATH = \"/work/mk423/SucroseCountdown/\"\n",
    "PROJECT_PATH = \"/hpc/home/mk423/Anxiety/FullDataWork/Projections/\"\n",
    "FIGURE_PATH = \"/hpc/home/mk423/Anxiety/FullDataWork/Figures/\"\n",
    "\n",
    "proj_file = \"SucroseCD_projection.csv\"\n",
    "mean_file = \"SucroseCD_mean_scores.csv\"\n",
    "\n",
    "model = torch.load(MODEL_FILE,map_location=\"cpu\")\n",
    "model.device=\"cpu\"\n",
    "\n",
    "\n",
    "FEATURE_LIST = ['X_power_1_2','X_coh_1_2','X_gc_1_2']\n",
    "FEATURE_WEIGHT = [10,1,1]\n",
    "\n",
    "import os, sys\n",
    "umc_data_tools_path = \"/hpc/home/mk423/Anxiety/Universal-Mouse-Code/\"\n",
    "sys.path.append(umc_data_tools_path)\n",
    "import umc_data_tools as umc_dt\n",
    "\n",
    "LPNE_PATH = \"/work/mk423/lpne-data-analysis/\"\n",
    "sys.path.append(LPNE_PATH)\n",
    "import data_tools"
   ]
  },
  {
   "cell_type": "code",
   "execution_count": 8,
   "id": "10785529-5cc0-4129-915d-06e7ef535c76",
   "metadata": {
    "tags": []
   },
   "outputs": [
    {
     "name": "stdout",
     "output_type": "stream",
     "text": [
      "version saveFeatures_1.2 used to calcuate power features\n",
      "version saveFeatures_1.2 used to calcuate coherence features\n",
      "version saveFeatures_1.2 used to calcuate granger features\n",
      "Version preprocessData_1.0 of preprocessing used\n",
      "Make sure feature versions listed above match those used for any other dataset in the same project\n"
     ]
    }
   ],
   "source": [
    "X_psd, X_coh, X_gc, labels = data_tools.load_data(\"/work/mk423/Anxiety/rrow_data.mat\",feature_list=[\"power\",\"coherence\",\"granger\"])"
   ]
  },
  {
   "cell_type": "code",
   "execution_count": 4,
   "id": "1a3378ee-a2b7-484b-9af5-d75b27b3ed0c",
   "metadata": {
    "tags": []
   },
   "outputs": [
    {
     "data": {
      "text/plain": [
       "array([ True,  True,  True, ..., False, False, False])"
      ]
     },
     "execution_count": 4,
     "metadata": {},
     "output_type": "execute_result"
    }
   ],
   "source": [
    "np.array(labels[\"windows\"][\"mouse\"])==\"Mouse04382\""
   ]
  },
  {
   "cell_type": "code",
   "execution_count": 6,
   "id": "3ece20b1-8451-4770-90ea-0fc3e772a056",
   "metadata": {
    "tags": []
   },
   "outputs": [
    {
     "name": "stdout",
     "output_type": "stream",
     "text": [
      "5\n"
     ]
    }
   ],
   "source": [
    "print(np.sum(np.logical_and(np.array(labels['windows']['expDate'])=='080420',np.array(labels[\"windows\"][\"mouse\"])==\"Mouse04382\")))"
   ]
  },
  {
   "cell_type": "code",
   "execution_count": 13,
   "id": "705518e9-668c-4527-a52d-3d83b58eee9c",
   "metadata": {
    "tags": []
   },
   "outputs": [],
   "source": [
    "X = np.hstack([X_psd*10,X_coh,X_gc])\n",
    "s = model.project(X)\n",
    "coeffs = model.classifier[0].weight[0].detach().cpu().numpy()\n",
    "s_agg = s[:,:3]@coeffs"
   ]
  },
  {
   "cell_type": "code",
   "execution_count": 14,
   "id": "405a6b1c-4817-4374-8e96-78ba12fd67a5",
   "metadata": {
    "tags": []
   },
   "outputs": [
    {
     "data": {
      "text/html": [
       "<div>\n",
       "<style scoped>\n",
       "    .dataframe tbody tr th:only-of-type {\n",
       "        vertical-align: middle;\n",
       "    }\n",
       "\n",
       "    .dataframe tbody tr th {\n",
       "        vertical-align: top;\n",
       "    }\n",
       "\n",
       "    .dataframe thead th {\n",
       "        text-align: right;\n",
       "    }\n",
       "</style>\n",
       "<table border=\"1\" class=\"dataframe\">\n",
       "  <thead>\n",
       "    <tr style=\"text-align: right;\">\n",
       "      <th></th>\n",
       "      <th>mouse</th>\n",
       "      <th>expDate</th>\n",
       "      <th>time</th>\n",
       "      <th>comp net</th>\n",
       "      <th>net 1</th>\n",
       "      <th>net 2</th>\n",
       "      <th>net 3</th>\n",
       "    </tr>\n",
       "  </thead>\n",
       "  <tbody>\n",
       "    <tr>\n",
       "      <th>0</th>\n",
       "      <td>Mouse04382</td>\n",
       "      <td>080420</td>\n",
       "      <td>4</td>\n",
       "      <td>2.376952</td>\n",
       "      <td>0.066705</td>\n",
       "      <td>0.100906</td>\n",
       "      <td>0.056856</td>\n",
       "    </tr>\n",
       "    <tr>\n",
       "      <th>1</th>\n",
       "      <td>Mouse04382</td>\n",
       "      <td>080420</td>\n",
       "      <td>5</td>\n",
       "      <td>3.555675</td>\n",
       "      <td>0.110117</td>\n",
       "      <td>0.147589</td>\n",
       "      <td>0.022498</td>\n",
       "    </tr>\n",
       "    <tr>\n",
       "      <th>2</th>\n",
       "      <td>Mouse04382</td>\n",
       "      <td>080420</td>\n",
       "      <td>6</td>\n",
       "      <td>2.567417</td>\n",
       "      <td>0.062008</td>\n",
       "      <td>0.116191</td>\n",
       "      <td>0.031450</td>\n",
       "    </tr>\n",
       "    <tr>\n",
       "      <th>3</th>\n",
       "      <td>Mouse04382</td>\n",
       "      <td>080420</td>\n",
       "      <td>106</td>\n",
       "      <td>4.124127</td>\n",
       "      <td>0.111940</td>\n",
       "      <td>0.181260</td>\n",
       "      <td>0.007541</td>\n",
       "    </tr>\n",
       "    <tr>\n",
       "      <th>4</th>\n",
       "      <td>Mouse04382</td>\n",
       "      <td>080420</td>\n",
       "      <td>164</td>\n",
       "      <td>1.798570</td>\n",
       "      <td>0.075456</td>\n",
       "      <td>0.063346</td>\n",
       "      <td>0.004568</td>\n",
       "    </tr>\n",
       "  </tbody>\n",
       "</table>\n",
       "</div>"
      ],
      "text/plain": [
       "        mouse expDate  time  comp net     net 1     net 2     net 3\n",
       "0  Mouse04382  080420     4  2.376952  0.066705  0.100906  0.056856\n",
       "1  Mouse04382  080420     5  3.555675  0.110117  0.147589  0.022498\n",
       "2  Mouse04382  080420     6  2.567417  0.062008  0.116191  0.031450\n",
       "3  Mouse04382  080420   106  4.124127  0.111940  0.181260  0.007541\n",
       "4  Mouse04382  080420   164  1.798570  0.075456  0.063346  0.004568"
      ]
     },
     "execution_count": 14,
     "metadata": {},
     "output_type": "execute_result"
    }
   ],
   "source": [
    "projectDict = {\n",
    "    \"mouse\":labels['windows']['mouse'],\n",
    "    \"expDate\":labels['windows']['expDate'],\n",
    "    \"time\":labels['windows']['time'],\n",
    "    \"comp net\": s_agg,\n",
    "    \"net 1\": s[:,0],\n",
    "    \"net 2\": s[:,1],\n",
    "    \"net 3\": s[:,2],\n",
    "    \n",
    "}\n",
    "\n",
    "df_all = pd.DataFrame.from_dict(projectDict)\n",
    "df_all.head()\n",
    "#df.to_csv(PROJECT_PATH + \"rrow_10_mice_data_projection.csv\")"
   ]
  },
  {
   "cell_type": "code",
   "execution_count": 17,
   "id": "4c0e6c1e-6af5-4951-8b75-cd3a091bc1c8",
   "metadata": {
    "tags": []
   },
   "outputs": [
    {
     "data": {
      "text/html": [
       "<div>\n",
       "<style scoped>\n",
       "    .dataframe tbody tr th:only-of-type {\n",
       "        vertical-align: middle;\n",
       "    }\n",
       "\n",
       "    .dataframe tbody tr th {\n",
       "        vertical-align: top;\n",
       "    }\n",
       "\n",
       "    .dataframe thead th {\n",
       "        text-align: right;\n",
       "    }\n",
       "</style>\n",
       "<table border=\"1\" class=\"dataframe\">\n",
       "  <thead>\n",
       "    <tr style=\"text-align: right;\">\n",
       "      <th></th>\n",
       "      <th>mouse</th>\n",
       "      <th>expDate</th>\n",
       "      <th>time</th>\n",
       "      <th>comp net</th>\n",
       "      <th>net 1</th>\n",
       "      <th>net 2</th>\n",
       "      <th>net 3</th>\n",
       "    </tr>\n",
       "  </thead>\n",
       "  <tbody>\n",
       "    <tr>\n",
       "      <th>0</th>\n",
       "      <td>Mouse04382</td>\n",
       "      <td>080420</td>\n",
       "      <td>4</td>\n",
       "      <td>2.376952</td>\n",
       "      <td>0.066705</td>\n",
       "      <td>0.100906</td>\n",
       "      <td>0.056856</td>\n",
       "    </tr>\n",
       "    <tr>\n",
       "      <th>1</th>\n",
       "      <td>Mouse04382</td>\n",
       "      <td>080420</td>\n",
       "      <td>5</td>\n",
       "      <td>3.555675</td>\n",
       "      <td>0.110117</td>\n",
       "      <td>0.147589</td>\n",
       "      <td>0.022498</td>\n",
       "    </tr>\n",
       "    <tr>\n",
       "      <th>2</th>\n",
       "      <td>Mouse04382</td>\n",
       "      <td>080420</td>\n",
       "      <td>6</td>\n",
       "      <td>2.567417</td>\n",
       "      <td>0.062008</td>\n",
       "      <td>0.116191</td>\n",
       "      <td>0.031450</td>\n",
       "    </tr>\n",
       "    <tr>\n",
       "      <th>3</th>\n",
       "      <td>Mouse04382</td>\n",
       "      <td>080420</td>\n",
       "      <td>106</td>\n",
       "      <td>4.124127</td>\n",
       "      <td>0.111940</td>\n",
       "      <td>0.181260</td>\n",
       "      <td>0.007541</td>\n",
       "    </tr>\n",
       "    <tr>\n",
       "      <th>4</th>\n",
       "      <td>Mouse04382</td>\n",
       "      <td>080420</td>\n",
       "      <td>164</td>\n",
       "      <td>1.798570</td>\n",
       "      <td>0.075456</td>\n",
       "      <td>0.063346</td>\n",
       "      <td>0.004568</td>\n",
       "    </tr>\n",
       "  </tbody>\n",
       "</table>\n",
       "</div>"
      ],
      "text/plain": [
       "        mouse expDate  time  comp net     net 1     net 2     net 3\n",
       "0  Mouse04382  080420     4  2.376952  0.066705  0.100906  0.056856\n",
       "1  Mouse04382  080420     5  3.555675  0.110117  0.147589  0.022498\n",
       "2  Mouse04382  080420     6  2.567417  0.062008  0.116191  0.031450\n",
       "3  Mouse04382  080420   106  4.124127  0.111940  0.181260  0.007541\n",
       "4  Mouse04382  080420   164  1.798570  0.075456  0.063346  0.004568"
      ]
     },
     "execution_count": 17,
     "metadata": {},
     "output_type": "execute_result"
    }
   ],
   "source": [
    "df.head()"
   ]
  },
  {
   "cell_type": "code",
   "execution_count": 7,
   "id": "1a1aed0e-aa32-415b-b519-9c43150edc0f",
   "metadata": {},
   "outputs": [
    {
     "name": "stdout",
     "output_type": "stream",
     "text": [
      "version saveFeatures_1.2 used to calcuate power features\n",
      "version saveFeatures_1.2 used to calcuate coherence features\n",
      "version saveFeatures_1.2 used to calcuate granger features\n",
      "Version preprocessData_1.0 of preprocessing used\n",
      "Make sure feature versions listed above match those used for any other dataset in the same project\n"
     ]
    }
   ],
   "source": [
    "X_psd_od, X_coh_od, X_gc_od, labels_od = data_tools.load_data(\"/work/mk423/Anxiety/Mouse04382_080420_features.mat\",feature_list=[\"power\",\"coherence\",\"granger\"])"
   ]
  },
  {
   "cell_type": "code",
   "execution_count": 9,
   "id": "5ccc2b9a-a98b-4033-b8c9-4d99fa8a3774",
   "metadata": {
    "tags": []
   },
   "outputs": [],
   "source": [
    "X = np.hstack([X_psd_od*10,X_coh_od,X_gc_od])\n",
    "s = model.project(X)\n",
    "coeffs = model.classifier[0].weight[0].detach().cpu().numpy()\n",
    "s_agg = s[:,:3]@coeffs"
   ]
  },
  {
   "cell_type": "code",
   "execution_count": 11,
   "id": "2e8c327d-aaa4-4bc4-bc0b-8d6561a0296f",
   "metadata": {
    "tags": []
   },
   "outputs": [
    {
     "data": {
      "text/html": [
       "<div>\n",
       "<style scoped>\n",
       "    .dataframe tbody tr th:only-of-type {\n",
       "        vertical-align: middle;\n",
       "    }\n",
       "\n",
       "    .dataframe tbody tr th {\n",
       "        vertical-align: top;\n",
       "    }\n",
       "\n",
       "    .dataframe thead th {\n",
       "        text-align: right;\n",
       "    }\n",
       "</style>\n",
       "<table border=\"1\" class=\"dataframe\">\n",
       "  <thead>\n",
       "    <tr style=\"text-align: right;\">\n",
       "      <th></th>\n",
       "      <th>mouse</th>\n",
       "      <th>expDate</th>\n",
       "      <th>time</th>\n",
       "      <th>comp net</th>\n",
       "      <th>net 1</th>\n",
       "      <th>net 2</th>\n",
       "      <th>net 3</th>\n",
       "    </tr>\n",
       "  </thead>\n",
       "  <tbody>\n",
       "    <tr>\n",
       "      <th>0</th>\n",
       "      <td>Mouse04382</td>\n",
       "      <td>080420</td>\n",
       "      <td>1</td>\n",
       "      <td>1.105768</td>\n",
       "      <td>0.023795</td>\n",
       "      <td>0.051835</td>\n",
       "      <td>0.011656</td>\n",
       "    </tr>\n",
       "    <tr>\n",
       "      <th>1</th>\n",
       "      <td>Mouse04382</td>\n",
       "      <td>080420</td>\n",
       "      <td>2</td>\n",
       "      <td>1.985949</td>\n",
       "      <td>0.032589</td>\n",
       "      <td>0.099516</td>\n",
       "      <td>0.010292</td>\n",
       "    </tr>\n",
       "    <tr>\n",
       "      <th>2</th>\n",
       "      <td>Mouse04382</td>\n",
       "      <td>080420</td>\n",
       "      <td>3</td>\n",
       "      <td>0.979226</td>\n",
       "      <td>0.030151</td>\n",
       "      <td>0.039905</td>\n",
       "      <td>0.025627</td>\n",
       "    </tr>\n",
       "    <tr>\n",
       "      <th>3</th>\n",
       "      <td>Mouse04382</td>\n",
       "      <td>080420</td>\n",
       "      <td>4</td>\n",
       "      <td>1.390892</td>\n",
       "      <td>0.031592</td>\n",
       "      <td>0.064128</td>\n",
       "      <td>0.016879</td>\n",
       "    </tr>\n",
       "    <tr>\n",
       "      <th>4</th>\n",
       "      <td>Mouse04382</td>\n",
       "      <td>080420</td>\n",
       "      <td>5</td>\n",
       "      <td>3.973890</td>\n",
       "      <td>0.105922</td>\n",
       "      <td>0.174859</td>\n",
       "      <td>0.028858</td>\n",
       "    </tr>\n",
       "  </tbody>\n",
       "</table>\n",
       "</div>"
      ],
      "text/plain": [
       "        mouse expDate  time  comp net     net 1     net 2     net 3\n",
       "0  Mouse04382  080420     1  1.105768  0.023795  0.051835  0.011656\n",
       "1  Mouse04382  080420     2  1.985949  0.032589  0.099516  0.010292\n",
       "2  Mouse04382  080420     3  0.979226  0.030151  0.039905  0.025627\n",
       "3  Mouse04382  080420     4  1.390892  0.031592  0.064128  0.016879\n",
       "4  Mouse04382  080420     5  3.973890  0.105922  0.174859  0.028858"
      ]
     },
     "execution_count": 11,
     "metadata": {},
     "output_type": "execute_result"
    }
   ],
   "source": [
    "projectDict = {\n",
    "    \"mouse\":labels_od['windows']['mouse'],\n",
    "    \"expDate\":labels_od['windows']['expDate'],\n",
    "    \"time\":labels_od['windows']['time'],\n",
    "    \"comp net\": s_agg,\n",
    "    \"net 1\": s[:,0],\n",
    "    \"net 2\": s[:,1],\n",
    "    \"net 3\": s[:,2],\n",
    "    \n",
    "}\n",
    "\n",
    "df = pd.DataFrame.from_dict(projectDict)\n",
    "df.to_csv(PROJECT_PATH + \"rrow_mouse_04382_data_projection.csv\")\n",
    "df.head()"
   ]
  },
  {
   "cell_type": "code",
   "execution_count": 24,
   "id": "10e02bdf-379f-40bb-bd82-b9e3b23b2f79",
   "metadata": {
    "tags": []
   },
   "outputs": [
    {
     "data": {
      "text/plain": [
       "[<matplotlib.lines.Line2D at 0x7fc19e8f9f10>]"
      ]
     },
     "execution_count": 24,
     "metadata": {},
     "output_type": "execute_result"
    },
    {
     "data": {
      "image/png": "[encoded data removed]",
      "text/plain": [
       "<Figure size 432x288 with 1 Axes>"
      ]
     },
     "metadata": {
      "needs_background": "light"
     },
     "output_type": "display_data"
    }
   ],
   "source": [
    "plt.plot(np.mean(X_psd_od,axis=0),label=\"single day\")\n",
    "plt.plot(np.mean(X_psd_m,axis=0),label=\"single mouse\")"
   ]
  },
  {
   "cell_type": "code",
   "execution_count": 18,
   "id": "bf77e8d8-b2e5-41b1-bdb2-8e4eb68a74bc",
   "metadata": {
    "tags": []
   },
   "outputs": [
    {
     "data": {
      "image/png": "[encoded data removed]",
      "text/plain": [
       "<Figure size 432x288 with 1 Axes>"
      ]
     },
     "metadata": {
      "needs_background": "light"
     },
     "output_type": "display_data"
    }
   ],
   "source": [
    "plt.hist(df[\"comp net\"])\n",
    "plt.xlim([0,10])\n",
    "plt.show()"
   ]
  },
  {
   "cell_type": "code",
   "execution_count": 17,
   "id": "5b90f431-ddd9-43f0-b785-a908bfa999c5",
   "metadata": {},
   "outputs": [
    {
     "data": {
      "image/png": "[encoded data removed]",
      "text/plain": [
       "<Figure size 432x288 with 1 Axes>"
      ]
     },
     "metadata": {
      "needs_background": "light"
     },
     "output_type": "display_data"
    },
    {
     "data": {
      "image/png": "[encoded data removed]",
      "text/plain": [
       "<Figure size 432x288 with 1 Axes>"
      ]
     },
     "metadata": {
      "needs_background": "light"
     },
     "output_type": "display_data"
    },
    {
     "data": {
      "image/png": "[encoded data removed]",
      "text/plain": [
       "<Figure size 432x288 with 1 Axes>"
      ]
     },
     "metadata": {
      "needs_background": "light"
     },
     "output_type": "display_data"
    },
    {
     "data": {
      "image/png": "[encoded data removed]",
      "text/plain": [
       "<Figure size 432x288 with 1 Axes>"
      ]
     },
     "metadata": {
      "needs_background": "light"
     },
     "output_type": "display_data"
    },
    {
     "data": {
      "image/png": "[encoded data removed]",
      "text/plain": [
       "<Figure size 432x288 with 1 Axes>"
      ]
     },
     "metadata": {
      "needs_background": "light"
     },
     "output_type": "display_data"
    }
   ],
   "source": [
    "for mouse in np.unique(df_all[\"mouse\"]):\n",
    "    plt.hist(df_all[df_all[\"mouse\"]==mouse][\"comp net\"])\n",
    "    plt.title(mouse)\n",
    "    plt.xlim([0,10])\n",
    "    plt.show()"
   ]
  },
  {
   "cell_type": "code",
   "execution_count": null,
   "id": "3feb7918-b10d-4aa6-b8e4-b7835223706e",
   "metadata": {},
   "outputs": [],
   "source": []
  }
 ],
 "metadata": {
  "kernelspec": {
   "display_name": "Python 3 (ipykernel)",
   "language": "python",
   "name": "python3"
  },
  "language_info": {
   "codemirror_mode": {
    "name": "ipython",
    "version": 3
   },
   "file_extension": ".py",
   "mimetype": "text/x-python",
   "name": "python",
   "nbconvert_exporter": "python",
   "pygments_lexer": "ipython3",
   "version": "3.7.13"
  }
 },
 "nbformat": 4,
 "nbformat_minor": 5
}

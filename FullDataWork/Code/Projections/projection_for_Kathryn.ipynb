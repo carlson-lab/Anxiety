{
 "cells": [
  {
   "cell_type": "code",
   "execution_count": 2,
   "id": "f33595f5-4962-433a-b660-21bc4cb8e5f7",
   "metadata": {},
   "outputs": [],
   "source": [
    "import numpy as np\n",
    "import pandas as pd\n",
    "import torch\n",
    "import pickle\n",
    "import matplotlib.pyplot as plt\n",
    "from lpne.models import DcsfaNmf\n",
    "import os, sys\n",
    "\n",
    "MODEL_FILE = \"/hpc/home/mk423/Anxiety/FullDataWork/Models/Final_mt_Model_500_epochs.pt\"\n",
    "DATA_PATH = \"/work/mk423/FoberPho_EPM_Anxiety/\"\n",
    "PROJECT_PATH = \"/work/mk423/FoberPho_EPM_Anxiety/\"\n",
    "LPNE_PATH = \"/work/mk423/lpne-data-analysis/\"\n",
    "\n",
    "model = torch.load(MODEL_FILE,map_location=\"cpu\")\n",
    "model.device=\"cpu\"\n",
    "\n",
    "sys.path.append(LPNE_PATH)\n",
    "\n",
    "import data_tools"
   ]
  },
  {
   "cell_type": "code",
   "execution_count": 15,
   "id": "42d9450f-4556-4af2-acf0-51421637ce3f",
   "metadata": {},
   "outputs": [
    {
     "name": "stdout",
     "output_type": "stream",
     "text": [
      "version saveFeatures_1.2 used to calcuate power features\n",
      "version saveFeatures_1.2 used to calcuate coherence features\n",
      "version saveFeatures_1.2 used to calcuate granger features\n",
      "Version preprocessData_1.0 of preprocessing used\n",
      "Make sure feature versions listed above match those used for any other dataset in the same project\n"
     ]
    }
   ],
   "source": [
    "X_psd, X_coh, X_gc, labels = data_tools.load_data(DATA_PATH + \"FiberPho_EPM_from_Hunter.mat\",\n",
    "                                                  feature_list = [\"power\",\"coherence\",\"granger\"])"
   ]
  },
  {
   "cell_type": "code",
   "execution_count": 20,
   "id": "e60e3acb-e2c3-477b-9e0a-c6cd569d41ed",
   "metadata": {},
   "outputs": [],
   "source": [
    "s = model.project(np.hstack([X_psd*10,X_coh,X_gc]))\n",
    "coeffs = np.abs(model.classifier[0].weight[0].detach().cpu().numpy())\n",
    "agg_score = s[:,:3] @ coeffs"
   ]
  },
  {
   "cell_type": "code",
   "execution_count": 22,
   "id": "7a9357ad-0773-4779-a68a-53cf83d834d8",
   "metadata": {},
   "outputs": [],
   "source": [
    "saveDict = {\n",
    "    \"net 1\":s[:,0],\n",
    "    \"net 2\":s[:,1],\n",
    "    \"net 3\":s[:,2],\n",
    "    \"agg score\":agg_score,\n",
    "    \"time\":labels['windows']['time'],\n",
    "    \"mouse\":labels['windows']['mouse'],\n",
    "    \"expDate\":labels['windows']['expDate'],\n",
    "}\n",
    "\n",
    "df = pd.DataFrame.from_dict(saveDict)\n",
    "df.to_csv(PROJECT_PATH + \"FoberPho_EPM_Anxiety_Projection.csv\")"
   ]
  },
  {
   "cell_type": "code",
   "execution_count": 21,
   "id": "57f5d10f-56f3-46b1-9d27-15258c2f5402",
   "metadata": {},
   "outputs": [
    {
     "data": {
      "text/plain": [
       "dict_keys(['mouse', 'expDate', 'time'])"
      ]
     },
     "execution_count": 21,
     "metadata": {},
     "output_type": "execute_result"
    }
   ],
   "source": [
    "labels['windows'].keys()"
   ]
  },
  {
   "cell_type": "code",
   "execution_count": 23,
   "id": "1f7ecc14-1aa5-4e8b-9e04-fd8cc8661fd0",
   "metadata": {},
   "outputs": [
    {
     "data": {
      "text/html": [
       "<div>\n",
       "<style scoped>\n",
       "    .dataframe tbody tr th:only-of-type {\n",
       "        vertical-align: middle;\n",
       "    }\n",
       "\n",
       "    .dataframe tbody tr th {\n",
       "        vertical-align: top;\n",
       "    }\n",
       "\n",
       "    .dataframe thead th {\n",
       "        text-align: right;\n",
       "    }\n",
       "</style>\n",
       "<table border=\"1\" class=\"dataframe\">\n",
       "  <thead>\n",
       "    <tr style=\"text-align: right;\">\n",
       "      <th></th>\n",
       "      <th>net 1</th>\n",
       "      <th>net 2</th>\n",
       "      <th>net 3</th>\n",
       "      <th>agg score</th>\n",
       "      <th>time</th>\n",
       "      <th>mouse</th>\n",
       "      <th>expDate</th>\n",
       "    </tr>\n",
       "  </thead>\n",
       "  <tbody>\n",
       "    <tr>\n",
       "      <th>0</th>\n",
       "      <td>0.075902</td>\n",
       "      <td>0.085406</td>\n",
       "      <td>0.044612</td>\n",
       "      <td>2.199738</td>\n",
       "      <td>1</td>\n",
       "      <td>Mouse57461</td>\n",
       "      <td>110823</td>\n",
       "    </tr>\n",
       "    <tr>\n",
       "      <th>1</th>\n",
       "      <td>0.126518</td>\n",
       "      <td>0.220316</td>\n",
       "      <td>0.010726</td>\n",
       "      <td>4.920426</td>\n",
       "      <td>2</td>\n",
       "      <td>Mouse57461</td>\n",
       "      <td>110823</td>\n",
       "    </tr>\n",
       "    <tr>\n",
       "      <th>2</th>\n",
       "      <td>0.078984</td>\n",
       "      <td>0.090500</td>\n",
       "      <td>0.003551</td>\n",
       "      <td>2.285154</td>\n",
       "      <td>3</td>\n",
       "      <td>Mouse57461</td>\n",
       "      <td>110823</td>\n",
       "    </tr>\n",
       "    <tr>\n",
       "      <th>3</th>\n",
       "      <td>0.084782</td>\n",
       "      <td>0.114406</td>\n",
       "      <td>0.029680</td>\n",
       "      <td>2.759445</td>\n",
       "      <td>4</td>\n",
       "      <td>Mouse57461</td>\n",
       "      <td>110823</td>\n",
       "    </tr>\n",
       "    <tr>\n",
       "      <th>4</th>\n",
       "      <td>0.100374</td>\n",
       "      <td>0.083204</td>\n",
       "      <td>0.002404</td>\n",
       "      <td>2.372173</td>\n",
       "      <td>5</td>\n",
       "      <td>Mouse57461</td>\n",
       "      <td>110823</td>\n",
       "    </tr>\n",
       "    <tr>\n",
       "      <th>...</th>\n",
       "      <td>...</td>\n",
       "      <td>...</td>\n",
       "      <td>...</td>\n",
       "      <td>...</td>\n",
       "      <td>...</td>\n",
       "      <td>...</td>\n",
       "      <td>...</td>\n",
       "    </tr>\n",
       "    <tr>\n",
       "      <th>2631</th>\n",
       "      <td>0.094966</td>\n",
       "      <td>0.221003</td>\n",
       "      <td>0.046275</td>\n",
       "      <td>4.648554</td>\n",
       "      <td>408</td>\n",
       "      <td>Mouse57475</td>\n",
       "      <td>110823</td>\n",
       "    </tr>\n",
       "    <tr>\n",
       "      <th>2632</th>\n",
       "      <td>0.104525</td>\n",
       "      <td>0.148928</td>\n",
       "      <td>0.028398</td>\n",
       "      <td>3.527501</td>\n",
       "      <td>409</td>\n",
       "      <td>Mouse57475</td>\n",
       "      <td>110823</td>\n",
       "    </tr>\n",
       "    <tr>\n",
       "      <th>2633</th>\n",
       "      <td>0.053269</td>\n",
       "      <td>0.106117</td>\n",
       "      <td>0.007840</td>\n",
       "      <td>2.296788</td>\n",
       "      <td>410</td>\n",
       "      <td>Mouse57475</td>\n",
       "      <td>110823</td>\n",
       "    </tr>\n",
       "    <tr>\n",
       "      <th>2634</th>\n",
       "      <td>0.053934</td>\n",
       "      <td>0.078431</td>\n",
       "      <td>0.051762</td>\n",
       "      <td>1.873453</td>\n",
       "      <td>411</td>\n",
       "      <td>Mouse57475</td>\n",
       "      <td>110823</td>\n",
       "    </tr>\n",
       "    <tr>\n",
       "      <th>2635</th>\n",
       "      <td>0.088296</td>\n",
       "      <td>0.157661</td>\n",
       "      <td>0.042203</td>\n",
       "      <td>3.524147</td>\n",
       "      <td>412</td>\n",
       "      <td>Mouse57475</td>\n",
       "      <td>110823</td>\n",
       "    </tr>\n",
       "  </tbody>\n",
       "</table>\n",
       "<p>2636 rows × 7 columns</p>\n",
       "</div>"
      ],
      "text/plain": [
       "         net 1     net 2     net 3  agg score  time       mouse expDate\n",
       "0     0.075902  0.085406  0.044612   2.199738     1  Mouse57461  110823\n",
       "1     0.126518  0.220316  0.010726   4.920426     2  Mouse57461  110823\n",
       "2     0.078984  0.090500  0.003551   2.285154     3  Mouse57461  110823\n",
       "3     0.084782  0.114406  0.029680   2.759445     4  Mouse57461  110823\n",
       "4     0.100374  0.083204  0.002404   2.372173     5  Mouse57461  110823\n",
       "...        ...       ...       ...        ...   ...         ...     ...\n",
       "2631  0.094966  0.221003  0.046275   4.648554   408  Mouse57475  110823\n",
       "2632  0.104525  0.148928  0.028398   3.527501   409  Mouse57475  110823\n",
       "2633  0.053269  0.106117  0.007840   2.296788   410  Mouse57475  110823\n",
       "2634  0.053934  0.078431  0.051762   1.873453   411  Mouse57475  110823\n",
       "2635  0.088296  0.157661  0.042203   3.524147   412  Mouse57475  110823\n",
       "\n",
       "[2636 rows x 7 columns]"
      ]
     },
     "execution_count": 23,
     "metadata": {},
     "output_type": "execute_result"
    }
   ],
   "source": [
    "df"
   ]
  },
  {
   "cell_type": "code",
   "execution_count": null,
   "id": "48d543fe-5900-4e28-bcd9-6923ffe6c629",
   "metadata": {},
   "outputs": [],
   "source": []
  }
 ],
 "metadata": {
  "kernelspec": {
   "display_name": "Python 3 (ipykernel)",
   "language": "python",
   "name": "python3"
  },
  "language_info": {
   "codemirror_mode": {
    "name": "ipython",
    "version": 3
   },
   "file_extension": ".py",
   "mimetype": "text/x-python",
   "name": "python",
   "nbconvert_exporter": "python",
   "pygments_lexer": "ipython3",
   "version": "3.7.13"
  }
 },
 "nbformat": 4,
 "nbformat_minor": 5
}

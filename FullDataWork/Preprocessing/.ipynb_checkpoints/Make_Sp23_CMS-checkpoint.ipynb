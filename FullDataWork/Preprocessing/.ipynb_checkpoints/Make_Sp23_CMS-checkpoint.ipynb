{
 "cells": [
  {
   "cell_type": "code",
   "execution_count": 6,
   "id": "c7becad4-fbbb-4519-905c-59b8200d329d",
   "metadata": {},
   "outputs": [],
   "source": [
    "import numpy as np\n",
    "from scipy.io import loadmat\n",
    "import sys, os\n",
    "import pandas as pd\n",
    "import pickle\n",
    "\n",
    "sys.path.append(\"/work/mk423/lpne-data-analysis/\")\n",
    "import data_tools\n",
    "\n",
    "data_path = \"/work/mk423/Sp23_CMS/Sp23_CMS_Data.mat\"\n",
    "save_path = \"/work/mk423/Sp23_CMS/Sp23_CMS_Homecage_Data.pkl\""
   ]
  },
  {
   "cell_type": "code",
   "execution_count": 2,
   "id": "5909dfb8-0f47-41f2-9912-b3f7f5748ef5",
   "metadata": {},
   "outputs": [
    {
     "name": "stdout",
     "output_type": "stream",
     "text": [
      "version saveFeatures_1.2 used to calcuate power features\n",
      "version saveFeatures_1.2 used to calcuate coherence features\n",
      "version saveFeatures_1.2 used to calcuate granger features\n",
      "Version preprocessData_1.0 of preprocessing used\n",
      "Make sure feature versions listed above match those used for any other dataset in the same project\n"
     ]
    },
    {
     "name": "stderr",
     "output_type": "stream",
     "text": [
      "/work/mk423/lpne-data-analysis/data_tools.py:144: UserWarning: Raw Granger causality values loaded; if you want exponentiated or capped features, you must do that yourself\n",
      "  warnings.warn(\"Raw Granger causality values loaded; if you want exponentiated or capped features, you must do that yourself\")\n"
     ]
    }
   ],
   "source": [
    "X_psd,X_coh,X_gc,labels = data_tools.load_data(data_path,feature_list=[\"power\",\"coherence\",\"granger\"])"
   ]
  },
  {
   "cell_type": "code",
   "execution_count": 7,
   "id": "9940b24f-bdfa-4195-bd62-a818905bcb07",
   "metadata": {},
   "outputs": [],
   "source": [
    "Homecage_Endtime = 301\n",
    "\n",
    "X = np.hstack([X_psd*10,X_coh,X_gc])\n",
    "y_mouse = np.array(labels['windows']['mouse'])\n",
    "y_time = np.array(labels['windows']['time'])\n",
    "y_expDate = np.array(labels['windows']['expDate'])\n",
    "\n",
    "#Extract homecage windows\n",
    "hc_mask = y_time < Homecage_Endtime\n",
    "\n",
    "saveDict = {\n",
    "    \"X_psd\":X_psd[hc_mask==1]*10,\n",
    "    \"X_coh\":X_coh[hc_mask==1],\n",
    "    \"X_gc\":X_gc[hc_mask==1],\n",
    "    \"X\":X[hc_mask==1],\n",
    "    \"y_mouse\":y_mouse[hc_mask==1],\n",
    "    \"y_time\":y_time[hc_mask==1],\n",
    "    \"y_expDate\":y_expDate[hc_mask==1],\n",
    "\n",
    "}\n",
    "\n",
    "with open(save_path,\"wb\") as f:\n",
    "    pickle.dump(saveDict,f)"
   ]
  },
  {
   "cell_type": "code",
   "execution_count": null,
   "id": "01c9ebd0-a58d-41f1-85c4-a0ae28fd05e8",
   "metadata": {},
   "outputs": [],
   "source": []
  }
 ],
 "metadata": {
  "kernelspec": {
   "display_name": "Python 3 (ipykernel)",
   "language": "python",
   "name": "python3"
  },
  "language_info": {
   "codemirror_mode": {
    "name": "ipython",
    "version": 3
   },
   "file_extension": ".py",
   "mimetype": "text/x-python",
   "name": "python",
   "nbconvert_exporter": "python",
   "pygments_lexer": "ipython3",
   "version": "3.7.13"
  }
 },
 "nbformat": 4,
 "nbformat_minor": 5
}

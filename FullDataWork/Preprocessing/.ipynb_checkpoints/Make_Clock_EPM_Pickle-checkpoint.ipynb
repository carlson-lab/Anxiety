{
 "cells": [
  {
   "cell_type": "code",
   "execution_count": 1,
   "metadata": {},
   "outputs": [],
   "source": [
    "LPNE_PATH = \"./lpne-data-analysis/\"\n",
    "OLD_MICE_PATH = \"/work/mk423/Clock-D19-EPM/Clock_d19_saveFeatures_1_2.mat\"\n",
    "NEW_MICE_PATH = \"/work/mk423/Clock-D19-EPM/Clock-D19-New-Mice-SaveFeatures-1-2.mat\"\n",
    "RUN_SHEET = \"/work/mk423/Clock-D19-EPM/EPM_CLOCK Spreadsheet 2021.xlsx\"\n",
    "SAVE_FILE = \"/work/mk423/Clock-D19-EPM/C19_EPM_Data.pkl\"\n",
    "FEATURE_LIST = [\"power\",\"coherence\",\"granger\"]\n",
    "import os, sys\n",
    "sys.path.append(LPNE_PATH)\n",
    "import numpy as np\n",
    "import pandas as pd\n",
    "import pickle\n",
    "import data_tools"
   ]
  },
  {
   "cell_type": "code",
   "execution_count": 2,
   "metadata": {},
   "outputs": [
    {
     "data": {
      "text/html": [
       "<div>\n",
       "<style scoped>\n",
       "    .dataframe tbody tr th:only-of-type {\n",
       "        vertical-align: middle;\n",
       "    }\n",
       "\n",
       "    .dataframe tbody tr th {\n",
       "        vertical-align: top;\n",
       "    }\n",
       "\n",
       "    .dataframe thead th {\n",
       "        text-align: right;\n",
       "    }\n",
       "</style>\n",
       "<table border=\"1\" class=\"dataframe\">\n",
       "  <thead>\n",
       "    <tr style=\"text-align: right;\">\n",
       "      <th></th>\n",
       "      <th>MOUSE</th>\n",
       "      <th>EXPDATE</th>\n",
       "      <th>SEX</th>\n",
       "      <th>CONDITION</th>\n",
       "      <th>START TIME</th>\n",
       "    </tr>\n",
       "  </thead>\n",
       "  <tbody>\n",
       "    <tr>\n",
       "      <th>0</th>\n",
       "      <td>Mouse0911</td>\n",
       "      <td>22021</td>\n",
       "      <td>F</td>\n",
       "      <td>WT</td>\n",
       "      <td>216</td>\n",
       "    </tr>\n",
       "    <tr>\n",
       "      <th>1</th>\n",
       "      <td>Mouse0912</td>\n",
       "      <td>22021</td>\n",
       "      <td>F</td>\n",
       "      <td>CLOCK</td>\n",
       "      <td>205</td>\n",
       "    </tr>\n",
       "    <tr>\n",
       "      <th>2</th>\n",
       "      <td>Mouse0913</td>\n",
       "      <td>22021</td>\n",
       "      <td>F</td>\n",
       "      <td>CLOCK</td>\n",
       "      <td>200</td>\n",
       "    </tr>\n",
       "    <tr>\n",
       "      <th>3</th>\n",
       "      <td>Mouse0914</td>\n",
       "      <td>22021</td>\n",
       "      <td>F</td>\n",
       "      <td>WT</td>\n",
       "      <td>199</td>\n",
       "    </tr>\n",
       "    <tr>\n",
       "      <th>4</th>\n",
       "      <td>Mouse2401</td>\n",
       "      <td>30321</td>\n",
       "      <td>M</td>\n",
       "      <td>CLOCK</td>\n",
       "      <td>336</td>\n",
       "    </tr>\n",
       "  </tbody>\n",
       "</table>\n",
       "</div>"
      ],
      "text/plain": [
       "       MOUSE  EXPDATE SEX CONDITION  START TIME\n",
       "0  Mouse0911    22021   F        WT         216\n",
       "1  Mouse0912    22021   F     CLOCK         205\n",
       "2  Mouse0913    22021   F     CLOCK         200\n",
       "3  Mouse0914    22021   F        WT         199\n",
       "4  Mouse2401    30321   M     CLOCK         336"
      ]
     },
     "execution_count": 2,
     "metadata": {},
     "output_type": "execute_result"
    }
   ],
   "source": [
    "run_df = pd.read_excel(RUN_SHEET)\n",
    "run_df.head()"
   ]
  },
  {
   "cell_type": "code",
   "execution_count": 3,
   "metadata": {},
   "outputs": [
    {
     "name": "stdout",
     "output_type": "stream",
     "text": [
      "version saveFeatures_1.2 used to calcuate power features\n",
      "version saveFeatures_1.2 used to calcuate coherence features\n"
     ]
    },
    {
     "name": "stderr",
     "output_type": "stream",
     "text": [
      "./lpne-data-analysis/data_tools.py:144: UserWarning: Raw Granger causality values loaded; if you want exponentiated or capped features, you must do that yourself\n",
      "  warnings.warn(\"Raw Granger causality values loaded; if you want exponentiated or capped features, you must do that yourself\")\n"
     ]
    },
    {
     "name": "stdout",
     "output_type": "stream",
     "text": [
      "version saveFeatures_1.2 used to calcuate granger features\n",
      "Version preprocessData_1.0 of preprocessing used\n",
      "Make sure feature versions listed above match those used for any other dataset in the same project\n",
      "version saveFeatures_1.2 used to calcuate power features\n",
      "version saveFeatures_1.2 used to calcuate coherence features\n",
      "version saveFeatures_1.2 used to calcuate granger features\n",
      "Version preprocessData_1.0 of preprocessing used\n",
      "Make sure feature versions listed above match those used for any other dataset in the same project\n"
     ]
    }
   ],
   "source": [
    "X_psd_old,X_coh_old,X_gc_old,labels_old= data_tools.load_data(OLD_MICE_PATH,feature_list=FEATURE_LIST)\n",
    "X_psd_new,X_coh_new,X_gc_new,labels_new = data_tools.load_data(NEW_MICE_PATH,feature_list=FEATURE_LIST)"
   ]
  },
  {
   "cell_type": "code",
   "execution_count": 10,
   "metadata": {},
   "outputs": [],
   "source": [
    "X_psd = np.vstack((X_psd_old,X_psd_new))\n",
    "X_coh = np.vstack((X_coh_old,X_coh_new))\n",
    "X_gc = np.vstack((X_gc_old,X_gc_new))\n",
    "\n",
    "\n",
    "y_time_aw = np.hstack((labels_old['allWindows']['time'],labels_new['allWindows']['time']))\n",
    "y_mouse_aw = np.hstack((labels_old['allWindows']['mouse'],labels_new['allWindows']['mouse']))\n",
    "y_expDate_aw = np.hstack((labels_old['allWindows']['expDate'],labels_new['allWindows']['expDate']))\n",
    "\n",
    "y_time = np.hstack((labels_old['windows']['time'],labels_new['windows']['time']))\n",
    "y_mouse = np.hstack((labels_old['windows']['mouse'],labels_new['windows']['mouse']))\n",
    "y_expDate = np.hstack((labels_old['windows']['expDate'],labels_new['windows']['expDate']))"
   ]
  },
  {
   "cell_type": "code",
   "execution_count": 5,
   "metadata": {},
   "outputs": [],
   "source": [
    "y_task = np.zeros(y_time.shape)*np.nan\n",
    "y_sex = []\n",
    "y_condition = []\n",
    "\n",
    "for mouse in y_mouse:\n",
    "    y_sex.append(run_df[run_df[\"MOUSE\"]==mouse][\"SEX\"].values[0])\n",
    "    y_condition.append(run_df[run_df[\"MOUSE\"]==mouse][\"CONDITION\"].values[0])\n",
    "    \n",
    "for mouse in np.unique(y_mouse):\n",
    "    mouse_mask= y_mouse==mouse\n",
    "    mouse_time = y_time[mouse_mask==1]\n",
    "    y_task[mouse_mask==1] = mouse_time > run_df[run_df[\"MOUSE\"]==mouse][\"START TIME\"].values[0]"
   ]
  },
  {
   "cell_type": "markdown",
   "metadata": {},
   "source": [
    "### Make ROI tracking"
   ]
  },
  {
   "cell_type": "code",
   "execution_count": 19,
   "metadata": {},
   "outputs": [],
   "source": [
    "ROI_FOLDER = \"/work/mk423/Clock-D19-EPM/ROI_simba/\"\n",
    "y_roi = np.ones(y_time.shape)*np.nan\n",
    "y_roi_aw = np.ones(y_time_aw.shape)*np.nan\n",
    "files = os.listdir(ROI_FOLDER)\n",
    "fps = 50\n",
    "mouse_start_times = {}\n",
    "for file in files:\n",
    "    mouse = file.split(\"_\")[0] #we only need mouse name since each mouse was only run on a single day\n",
    "\n",
    "    start_time = run_df[run_df[\"MOUSE\"]==mouse][\"START TIME\"].values[0]\n",
    "    mouse_start_times[mouse] = start_time\n",
    "        \n",
    "    if mouse in np.unique(y_mouse):\n",
    "        \n",
    "        roi_df = pd.read_csv(ROI_FOLDER + file)\n",
    "        \n",
    "        mouse_mask = y_mouse == mouse\n",
    "        mouse_mask_aw = y_mouse_aw == mouse\n",
    "        \n",
    "        start_time = run_df[run_df[\"MOUSE\"]==mouse][\"START TIME\"].values[0]\n",
    "        mouse_start_times[mouse] = start_time\n",
    "        \n",
    "        entry_frames = roi_df[\"Entry_frame\"].to_numpy()\n",
    "        exit_frames = roi_df[\"Exit_frame\"].to_numpy()\n",
    "        \n",
    "        entry_times = entry_frames // fps #start time was accounted for in the video\n",
    "        exit_times = exit_frames // fps  #so no offset is needed\n",
    "        \n",
    "        roi_seg = roi_df[\"Shape_name\"].to_numpy()\n",
    "        \n",
    "        for roi, entry, exit in zip(roi_seg,entry_times,exit_times):\n",
    "            time_mask = np.logical_and(y_time > entry, y_time <= exit)\n",
    "            time_mask_aw = np.logical_and(y_time_aw > entry, y_time_aw <= exit)\n",
    "            \n",
    "            mask = np.logical_and(time_mask,mouse_mask)\n",
    "            mask_aw = np.logical_and(time_mask_aw,mouse_mask_aw)\n",
    "            \n",
    "            y_roi[mask==1] = roi\n",
    "            y_roi_aw[mask_aw==1] = roi\n"
   ]
  },
  {
   "cell_type": "code",
   "execution_count": 13,
   "metadata": {},
   "outputs": [
    {
     "data": {
      "text/plain": [
       "array([nan, nan, nan, ...,  3.,  3., nan])"
      ]
     },
     "execution_count": 13,
     "metadata": {},
     "output_type": "execute_result"
    }
   ],
   "source": [
    "y_roi_aw"
   ]
  },
  {
   "cell_type": "markdown",
   "metadata": {},
   "source": [
    "### Make Pickle File"
   ]
  },
  {
   "cell_type": "code",
   "execution_count": 95,
   "metadata": {},
   "outputs": [],
   "source": [
    "save_dict = {\n",
    "    \"X_psd\":X_psd,\n",
    "    \"X_coh\":X_coh,\n",
    "    \"X_gc\":X_gc,\n",
    "    \"y_time\":y_time,\n",
    "    \"y_mouse\":y_mouse,\n",
    "    \"y_expDate\":y_expDate,\n",
    "    \"y_sex\":y_sex,\n",
    "    \"y_roi\":y_roi,\n",
    "    \"y_condition\":y_condition,\n",
    "    \"y_task\":y_task,\n",
    "    \"labels_old_mice\":labels_old,\n",
    "    \"labels_new_mice\":labels_new,\n",
    "    \"feature version\":\"saveFeatures 1.2\"\n",
    "}\n",
    "\n",
    "#with open(SAVE_FILE,\"wb\") as f:\n",
    "#    pickle.dump(save_dict,f)"
   ]
  },
  {
   "cell_type": "code",
   "execution_count": 82,
   "metadata": {},
   "outputs": [],
   "source": [
    "df = pd.DataFrame.from_dict({ \"y_time\":y_time,\n",
    "    \"y_mouse\":y_mouse,\n",
    "    \"y_expDate\":y_expDate,\n",
    "    \"y_sex\":y_sex,\n",
    "    \"y_roi\":y_roi,\n",
    "    \"y_condition\":y_condition,\n",
    "    \"y_task\":y_task})"
   ]
  },
  {
   "cell_type": "markdown",
   "metadata": {},
   "source": [
    "### By Mouse Behavior Stats"
   ]
  },
  {
   "cell_type": "code",
   "execution_count": 43,
   "metadata": {},
   "outputs": [
    {
     "name": "stdout",
     "output_type": "stream",
     "text": [
      "Mouse0911 [234, 4, 7, 3, 40, 12]\n",
      "Mouse0912 [76, 5, 134, 8, 67, 10]\n",
      "Mouse0913 [42, 26, 84, 38, 48, 62]\n",
      "Mouse0914 [10, 3, 215, 10, 27, 35]\n",
      "Mouse2401 [41, 4, 37, 7, 92, 119]\n",
      "Mouse2402 [71, 2, 123, 9, 74, 21]\n",
      "Mouse2403 [54, 19, 60, 28, 94, 45]\n",
      "Mouse30391 [162, 0, 4, 43, 42, 42]\n",
      "Mouse30392 [137, 4, 83, 2, 42, 32]\n",
      "Mouse3881 [242, 0, 5, 32, 11, 11]\n",
      "Mouse3882 [48, 12, 92, 8, 129, 11]\n",
      "Mouse3883 [56, 9, 46, 17, 147, 25]\n",
      "Mouse69841 [168, 9, 30, 3, 75, 15]\n",
      "Mouse69861 [249, 1, 15, 3, 19, 13]\n",
      "Mouse69862 [153, 2, 91, 1, 30, 23]\n",
      "Mouse69871 [0, 0, 0, 0, 0, 300]\n",
      "Mouse69872 [112, 10, 24, 15, 97, 42]\n",
      "Mouse69873 [112, 6, 93, 1, 68, 20]\n"
     ]
    }
   ],
   "source": [
    "mouse_list = []\n",
    "counts_list = []\n",
    "all_rois = np.array([1.,2.,3.,4.,5.,np.nan])\n",
    "for mouse in np.unique(y_mouse_aw):\n",
    "    mouse_list.append(mouse)\n",
    "    mouse_mask = y_mouse_aw==mouse\n",
    "    time_mask = np.logical_and(y_time_aw >= mouse_start_times[mouse],\n",
    "                               y_time_aw < mouse_start_times[mouse] + 300)\n",
    "    \n",
    "    mask = np.logical_and(mouse_mask,time_mask)\n",
    "    \n",
    "    temp_rois, temp_counts = np.unique(y_roi_aw[mask==1],return_counts=True)\n",
    "    \n",
    "    temp_second_rois = [temp_counts[i-1] if i in temp_rois else 0 for i in range(1,6)]\n",
    "    if np.isnan(temp_rois[-1]): \n",
    "        temp_second_rois.append(temp_counts[-1])\n",
    "    else:\n",
    "        temp_second_rois.append(0)\n",
    "    \n",
    "    counts_list.append(temp_second_rois)\n",
    "    print(mouse, temp_second_rois)\n",
    "    "
   ]
  },
  {
   "cell_type": "code",
   "execution_count": 36,
   "metadata": {},
   "outputs": [],
   "source": []
  },
  {
   "cell_type": "code",
   "execution_count": 38,
   "metadata": {},
   "outputs": [],
   "source": [
    "roi_matrix = np.vstack(counts_list)\n",
    "closed_arm_times = roi_matrix[:,0] + roi_matrix[:,2]\n",
    "open_arm_times = roi_matrix[:,1] + roi_matrix[:,3]\n",
    "center_times = roi_matrix[:,4]\n",
    "nan_times = roi_matrix[:,5]\n",
    "\n",
    "df_behavior = pd.DataFrame.from_dict({\"mouse\":mouse_list,\n",
    "                                      \"closed_arm_time\":closed_arm_times,\n",
    "                                      \"open_arm_time\":open_arm_times,\n",
    "                                      \"center_time\":center_times,\n",
    "                                      \"nan_time\":nan_times})"
   ]
  },
  {
   "cell_type": "code",
   "execution_count": 44,
   "metadata": {},
   "outputs": [],
   "source": []
  },
  {
   "cell_type": "code",
   "execution_count": 46,
   "metadata": {},
   "outputs": [],
   "source": [
    "df_behavior.to_csv(\"../Projections/CLOCK_EPM_ROI_durations.csv\",index=False)"
   ]
  },
  {
   "cell_type": "code",
   "execution_count": null,
   "metadata": {},
   "outputs": [],
   "source": []
  }
 ],
 "metadata": {
  "kernelspec": {
   "display_name": "Python 3 (ipykernel)",
   "language": "python",
   "name": "python3"
  },
  "language_info": {
   "codemirror_mode": {
    "name": "ipython",
    "version": 3
   },
   "file_extension": ".py",
   "mimetype": "text/x-python",
   "name": "python",
   "nbconvert_exporter": "python",
   "pygments_lexer": "ipython3",
   "version": "3.7.13"
  },
  "vscode": {
   "interpreter": {
    "hash": "9c5fb8e4bb86d2be894c1c1230d355df1fb941695ed0103f7c22de0e950651de"
   }
  }
 },
 "nbformat": 4,
 "nbformat_minor": 4
}

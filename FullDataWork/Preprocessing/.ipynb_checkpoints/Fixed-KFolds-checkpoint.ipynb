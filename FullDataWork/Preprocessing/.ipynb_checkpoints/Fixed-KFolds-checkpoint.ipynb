{
 "cells": [
  {
   "cell_type": "code",
   "execution_count": 1,
   "id": "73a6e91f-bcf3-4be5-8e6b-4da3566563b2",
   "metadata": {},
   "outputs": [
    {
     "name": "stderr",
     "output_type": "stream",
     "text": [
      "/opt/conda/lib/python3.7/site-packages/tqdm/auto.py:22: TqdmWarning: IProgress not found. Please update jupyter and ipywidgets. See https://ipywidgets.readthedocs.io/en/stable/user_install.html\n",
      "  from .autonotebook import tqdm as notebook_tqdm\n",
      "/hpc/home/mk423/.local/lib/python3.7/site-packages/lpne/pipelines/__init__.py:14: UserWarning: Could not load lpne/pipelines/default_params.yaml!\n",
      "  warnings.warn(\"Could not load lpne/pipelines/default_params.yaml!\")\n"
     ]
    }
   ],
   "source": [
    "import torch\n",
    "import numpy as np\n",
    "import pickle\n",
    "from lpne.models import DcsfaNmf\n",
    "from lpne.plotting import circle_plot\n",
    "from sklearn.preprocessing import OneHotEncoder, OrdinalEncoder\n",
    "from PIL import Image\n",
    "import matplotlib.pyplot as plt\n",
    "import os, sys\n",
    "from sklearn.model_selection import KFold\n",
    "\n",
    "umc_data_tools_path = \"/hpc/home/mk423/Anxiety/Universal-Mouse-Code/\"\n",
    "sys.path.append(umc_data_tools_path)\n",
    "import umc_data_tools as umc_dt\n",
    "\n",
    "flx_data_path = \"/work/mk423/Anxiety/final_FLX_{}.pkl\"\n",
    "epm_data_path = \"/work/mk423/Anxiety/EPM_{}_dict_May_17.pkl\"\n",
    "oft_data_path = \"/work/mk423/Anxiety/OFT_{}_dict_old_features_hand_picked.pkl\"\n",
    "\n",
    "anx_info_dict = \"/work/mk423/Anxiety/Anx_Info_Dict.pkl\"\n",
    "\n",
    "saved_model_path = \"/hpc/home/mk423/Anxiety/FullDataWork/Models/\"\n",
    "saved_model_name = \"all_mt_model.pt\"\n",
    "\n",
    "projection_save_path = \"/hpc/home/mk423/Anxiety/FullDataWork/Projections/\"\n",
    "plots_path = \"/hpc/home/mk423/Anxiety/FullDataWork/Figures/\"\n",
    "\n",
    "feature_list = [\"X_psd\",\"X_coh\",\"X_gc\"]\n",
    "old_feature_list = [\"X_power_1_2\",\"X_coh_1_2\",\"X_gc_1_2\"]\n",
    "feature_weights = [10,1,1]\n",
    "\n",
    "RANDOM_STATE = 42\n",
    "kf = KFold(n_splits=4)"
   ]
  },
  {
   "cell_type": "code",
   "execution_count": 2,
   "id": "f113fffd-6039-4bff-ba6d-4ed731d8fe6a",
   "metadata": {},
   "outputs": [],
   "source": [
    "with open(flx_data_path.format(\"train\"),\"rb\") as f:\n",
    "    train_dict = pickle.load(f)\n",
    "    \n",
    "with open(flx_data_path.format(\"val\"),\"rb\") as f:\n",
    "    val_dict = pickle.load(f)\n",
    "    \n",
    "flx_X_train = np.hstack([train_dict[feature]*weight for feature,weight in zip(feature_list,feature_weights)])\n",
    "flx_y_train = train_dict['y_flx']\n",
    "flx_y_mouse_train = train_dict['y_mouse']\n",
    "flx_y_hab_train = train_dict['y_hab']\n",
    "flx_y_time_train = train_dict['y_time']\n",
    "\n",
    "flx_X_val = np.hstack([val_dict[feature]*weight for feature,weight in zip(feature_list,feature_weights)])\n",
    "flx_y_val = val_dict['y_flx']\n",
    "flx_y_mouse_val = val_dict['y_mouse']\n",
    "flx_y_hab_val = val_dict['y_hab']\n",
    "flx_y_time_val = val_dict['y_time']\n",
    "\n",
    "flx_X = np.vstack([flx_X_train[flx_y_hab_train==1],flx_X_val[flx_y_hab_val==1]])\n",
    "flx_y = np.hstack([flx_y_train[flx_y_hab_train==1],flx_y_val[flx_y_hab_val==1]])\n",
    "flx_y_mouse = np.hstack([flx_y_mouse_train[flx_y_hab_train==1],flx_y_mouse_val[flx_y_hab_val==1]])\n",
    "flx_y_time = np.hstack([flx_y_time_train[flx_y_hab_train==1],flx_y_time_val[flx_y_hab_val==1]])"
   ]
  },
  {
   "cell_type": "code",
   "execution_count": 21,
   "id": "fc00044c-3363-4e94-b93e-bd30cd42f15b",
   "metadata": {},
   "outputs": [],
   "source": [
    "with open(oft_data_path.format(\"train\"),'rb') as f:\n",
    "    train_dict = pickle.load(f)\n",
    "\n",
    "with open(oft_data_path.format(\"validation\"),'rb') as f:\n",
    "    val_dict = pickle.load(f)\n",
    "\n",
    "#Train Arrays\n",
    "oft_X_train = np.hstack([train_dict[feature]*weight for feature,weight in zip(old_feature_list,feature_weights)])\n",
    "oft_y_hc_train = train_dict['y_Homecage'].astype(bool)\n",
    "oft_y_task_train = ~oft_y_hc_train\n",
    "oft_y_ROI_train = train_dict['y_ROI']\n",
    "oft_y_vel_train = train_dict['y_vel']\n",
    "oft_y_mouse_train = train_dict['y_mouse']\n",
    "oft_y_time_train = train_dict['y_time']\n",
    "\n",
    "#Validation Arrays\n",
    "oft_X_val = np.hstack([val_dict[feature]*weight for feature,weight in zip(old_feature_list,feature_weights)])\n",
    "oft_y_hc_val = val_dict['y_Homecage'].astype(bool)\n",
    "oft_y_task_val = ~oft_y_hc_val\n",
    "oft_y_ROI_val = val_dict['y_ROI']\n",
    "oft_y_vel_val = val_dict['y_vel']\n",
    "oft_y_mouse_val = val_dict['y_mouse']\n",
    "oft_y_time_val = val_dict['y_time']\n",
    "\n",
    "oft_X = np.vstack([oft_X_train,oft_X_val])\n",
    "oft_y = np.hstack([oft_y_task_train,oft_y_task_val])\n",
    "oft_y_mouse = np.hstack([oft_y_mouse_train,oft_y_mouse_val])"
   ]
  },
  {
   "cell_type": "code",
   "execution_count": 19,
   "id": "3881451d-5998-4cce-a11d-0027a692b890",
   "metadata": {},
   "outputs": [],
   "source": [
    "with open(epm_data_path.format(\"train\"),\"rb\") as f:\n",
    "    epm_train_dict = pickle.load(f)\n",
    "\n",
    "with open(epm_data_path.format(\"val\"),\"rb\") as f:\n",
    "    epm_validation_dict = pickle.load(f)\n",
    "    \n",
    "\n",
    "X_train = np.hstack([epm_train_dict[feature]*weight for feature,weight in zip(old_feature_list,feature_weights)])\n",
    "X_train[X_train<0] = 0\n",
    "y_train = (epm_train_dict['y_ROI']%2).astype(bool)\n",
    "y_in_task_mask_train = ~epm_train_dict['y_Homecage'].astype(bool)\n",
    "y_mouse_train = epm_train_dict['y_mouse']\n",
    "y_time_train = epm_train_dict['y_time']\n",
    "train_nan_mask = (epm_train_dict['y_ROI'] > 0)\n",
    "\n",
    "\n",
    "X_train_task = X_train[np.logical_and(y_in_task_mask_train==1,train_nan_mask)==1]\n",
    "y_train_task = y_train[np.logical_and(y_in_task_mask_train==1,train_nan_mask)==1]\n",
    "y_mouse_train_task = y_mouse_train[np.logical_and(y_in_task_mask_train==1,train_nan_mask)==1]\n",
    "y_time_train_task = y_time_train[np.logical_and(y_in_task_mask_train==1,train_nan_mask)==1]\n",
    "X_val = np.hstack([epm_validation_dict[feature]*weight for feature,weight in zip(old_feature_list,feature_weights)])\n",
    "\n",
    "\n",
    "y_val = (epm_validation_dict['y_ROI']%2).astype(bool)\n",
    "y_in_task_mask_val= ~epm_validation_dict['y_Homecage'].astype(bool)\n",
    "y_mouse_val = epm_validation_dict['y_mouse']\n",
    "y_time_val = epm_validation_dict['y_time']\n",
    "val_nan_mask = (epm_validation_dict['y_ROI'] > 0)\n",
    "\n",
    "X_val_task = X_val[np.logical_and(y_in_task_mask_val==1,val_nan_mask)==1]\n",
    "y_val_task = y_val[np.logical_and(y_in_task_mask_val==1,val_nan_mask)==1]\n",
    "y_mouse_val_task = y_mouse_val[np.logical_and(y_in_task_mask_val==1,val_nan_mask)==1]\n",
    "y_time_val_task = y_time_val[np.logical_and(y_in_task_mask_val==1,val_nan_mask)==1]\n",
    "\n",
    "epm_X = np.vstack([X_train,X_val])\n",
    "epm_y = np.hstack([y_in_task_mask_train,y_in_task_mask_val])\n",
    "epm_y_mouse = np.hstack([y_mouse_train,y_mouse_val])\n",
    "epm_y_time = np.hstack([y_time_train,y_time_val])"
   ]
  },
  {
   "cell_type": "markdown",
   "id": "734de32c-ac34-407b-88e8-7b220c679d53",
   "metadata": {},
   "source": [
    "## Identify dataset overlap"
   ]
  },
  {
   "cell_type": "code",
   "execution_count": 29,
   "id": "911d83b7-7535-4278-977a-24274740f875",
   "metadata": {},
   "outputs": [],
   "source": [
    "epm_oft_overlap = np.intersect1d(np.unique(epm_y_mouse),np.unique(oft_y_mouse))\n",
    "flx_oft_overlap = np.intersect1d(np.unique(oft_y_mouse),np.unique(flx_y_mouse))\n",
    "#flx_epm_overlap = np.intersect1d(np.unique(epm_y_mouse),np.unique(flx_y_mouse)) This is empty\n",
    "\n",
    "shared_mice = np.union1d(epm_oft_overlap,flx_oft_overlap)\n",
    "all_mice = np.union1d(np.unique(epm_y_mouse),np.union1d(oft_y_mouse,flx_y_mouse))\n",
    "\n",
    "always_training_mice = []\n",
    "for mouse in all_mice:\n",
    "    flx_mouse_mask = flx_y_mouse == mouse\n",
    "    epm_mouse_mask = epm_y_mouse == mouse\n",
    "    oft_mouse_mask = oft_y_mouse == mouse\n",
    "    \n",
    "    flx_single_class = np.unique(flx_y[flx_mouse_mask==1]).shape[0]==1\n",
    "    epm_single_class = np.unique(epm_y[epm_mouse_mask==1]).shape[0]==1\n",
    "    oft_single_class = np.unique(oft_y[oft_mouse_mask==1]).shape[0]==1\n",
    "    \n",
    "    if flx_single_class or epm_single_class or oft_single_class:\n",
    "        always_training_mice.append(mouse)\n",
    "    \n",
    "always_training_mice = np.array(always_training_mice)"
   ]
  },
  {
   "cell_type": "markdown",
   "id": "b70cebfc-1229-4997-b77b-3e75d40a9285",
   "metadata": {},
   "source": [
    "### Collect First Pass KFolds"
   ]
  },
  {
   "cell_type": "code",
   "execution_count": 50,
   "id": "5507a3af-d885-4d0f-8141-b7de996cca00",
   "metadata": {},
   "outputs": [
    {
     "name": "stdout",
     "output_type": "stream",
     "text": [
      "['Mouse3192' 'Mouse3194' 'Mouse3202' 'Mouse3203' 'Mouse99002' 'Mouse99003'\n",
      " 'Mouse99021']\n",
      "1\n",
      "train mice ['Mouse61635' 'Mouse78744' 'Mouse78752']\n",
      "val mice ['Mouse61631']\n",
      "2\n",
      "train mice ['Mouse61631' 'Mouse78744' 'Mouse78752']\n",
      "val mice ['Mouse61635']\n",
      "3\n",
      "train mice ['Mouse61631' 'Mouse61635' 'Mouse78752']\n",
      "val mice ['Mouse78744']\n",
      "4\n",
      "train mice ['Mouse61631' 'Mouse61635' 'Mouse78744']\n",
      "val mice ['Mouse78752']\n"
     ]
    }
   ],
   "source": [
    "flx_mice = np.unique(flx_y_mouse)\n",
    "mc_unique_flx_mice = np.array([mouse \n",
    "                               for mouse in flx_mice \n",
    "                               if mouse not in np.union1d(always_training_mice,shared_mice)])\n",
    "\n",
    "flx_always_train_mice = np.array([mouse\n",
    "                                  for mouse in flx_mice\n",
    "                                  if mouse in always_training_mice])\n",
    "\n",
    "print(flx_always_train_mice)\n",
    "mc_flx_kf_train_mice = []\n",
    "mc_flx_kf_val_mice = []\n",
    "\n",
    "for i, (train_idxs,val_idxs) in enumerate(kf.split(mc_unique_flx_mice)):\n",
    "    mc_flx_kf_train_mice.append(mc_unique_flx_mice[train_idxs])\n",
    "    mc_flx_kf_val_mice.append(mc_unique_flx_mice[val_idxs])\n",
    "    \n",
    "    print(i+1)\n",
    "    print(\"train mice\",mc_flx_kf_train_mice[-1])\n",
    "    print(\"val mice\",mc_flx_kf_val_mice[-1])"
   ]
  },
  {
   "cell_type": "code",
   "execution_count": 51,
   "id": "d677950d-1396-42c2-8e11-47a192aa00c2",
   "metadata": {},
   "outputs": [
    {
     "name": "stdout",
     "output_type": "stream",
     "text": [
      "['Mouse04215']\n",
      "1\n",
      "train mice ['Mouse0643' 'Mouse1551' 'Mouse6291' 'Mouse6292' 'Mouse6293' 'Mouse8580'\n",
      " 'Mouse8581' 'Mouse8582' 'Mouse8891' 'Mouse8894']\n",
      "val mice ['Mouse0630' 'Mouse0633' 'Mouse0634' 'Mouse0642']\n",
      "2\n",
      "train mice ['Mouse0630' 'Mouse0633' 'Mouse0634' 'Mouse0642' 'Mouse6293' 'Mouse8580'\n",
      " 'Mouse8581' 'Mouse8582' 'Mouse8891' 'Mouse8894']\n",
      "val mice ['Mouse0643' 'Mouse1551' 'Mouse6291' 'Mouse6292']\n",
      "3\n",
      "train mice ['Mouse0630' 'Mouse0633' 'Mouse0634' 'Mouse0642' 'Mouse0643' 'Mouse1551'\n",
      " 'Mouse6291' 'Mouse6292' 'Mouse8582' 'Mouse8891' 'Mouse8894']\n",
      "val mice ['Mouse6293' 'Mouse8580' 'Mouse8581']\n",
      "4\n",
      "train mice ['Mouse0630' 'Mouse0633' 'Mouse0634' 'Mouse0642' 'Mouse0643' 'Mouse1551'\n",
      " 'Mouse6291' 'Mouse6292' 'Mouse6293' 'Mouse8580' 'Mouse8581']\n",
      "val mice ['Mouse8582' 'Mouse8891' 'Mouse8894']\n"
     ]
    }
   ],
   "source": [
    "epm_mice = np.unique(epm_y_mouse)\n",
    "mc_unique_epm_mice = np.array([mouse\n",
    "                               for mouse in epm_mice\n",
    "                               if mouse not in np.union1d(always_training_mice,shared_mice)])\n",
    "\n",
    "epm_always_train_mice = np.array([mouse\n",
    "                                  for mouse in epm_mice\n",
    "                                  if mouse in always_training_mice])\n",
    "\n",
    "print(epm_always_train_mice)\n",
    "mc_epm_kf_train_mice = []\n",
    "mc_epm_kf_val_mice = []\n",
    "\n",
    "for i, (train_idxs, val_idxs) in enumerate(kf.split(mc_unique_epm_mice)):\n",
    "    \n",
    "    mc_epm_kf_train_mice.append(mc_unique_epm_mice[train_idxs])\n",
    "    mc_epm_kf_val_mice.append(mc_unique_epm_mice[val_idxs])\n",
    "    \n",
    "    print(i+1)\n",
    "    print(\"train mice\",mc_epm_kf_train_mice[-1])\n",
    "    print(\"val mice\",mc_epm_kf_val_mice[-1])"
   ]
  },
  {
   "cell_type": "code",
   "execution_count": 55,
   "id": "b11e7888-1d1e-4cb4-834a-3e507e6918c9",
   "metadata": {},
   "outputs": [
    {
     "name": "stdout",
     "output_type": "stream",
     "text": [
      "unique oft mice ['Mouse04191' 'Mouse69072']\n",
      "oft always train mice ['Mouse04215' 'Mouse3192' 'Mouse3194' 'Mouse3203']\n"
     ]
    }
   ],
   "source": [
    "#oft only has 2 completely unique mice with multiple classes so inclusion of these mice in the training and test\n",
    "#sets will be done by hand.\n",
    "oft_mice = np.unique(oft_y_mouse)\n",
    "\n",
    "mc_unique_oft_mice = np.array([mouse\n",
    "                               for mouse in oft_mice\n",
    "                               if mouse not in np.union1d(always_training_mice,shared_mice)])\n",
    "\n",
    "print(\"unique oft mice\",mc_unique_oft_mice)\n",
    "\n",
    "oft_always_train_mice = np.array([mouse\n",
    "                                  for mouse in oft_mice\n",
    "                                  if mouse in always_training_mice])\n",
    "\n",
    "print(\"oft always train mice\",oft_always_train_mice)\n",
    "mc_oft_kf_train_mice = []\n",
    "mc_oft_kf_val_mice = []\n",
    "\n"
   ]
  },
  {
   "cell_type": "markdown",
   "id": "6b096d75-f70d-407e-9ac0-79c9d738aefa",
   "metadata": {},
   "source": [
    "### Overlapping Mice Kfold Splits"
   ]
  },
  {
   "cell_type": "code",
   "execution_count": 62,
   "id": "03c41c27-93ec-498f-888e-b2fc2b7f8a9f",
   "metadata": {},
   "outputs": [
    {
     "name": "stdout",
     "output_type": "stream",
     "text": [
      "['Mouse3191' 'Mouse3193']\n"
     ]
    }
   ],
   "source": [
    "#OFT FLX\n",
    "mc_oft_flx_overlap_mice = np.array([mouse\n",
    "                                    for mouse in flx_oft_overlap\n",
    "                                    if mouse not in always_training_mice])\n",
    "\n",
    "print(mc_oft_flx_overlap_mice)\n",
    "#There are only 2 mice in this category, so inclusion to the kfolds will be done by hand."
   ]
  },
  {
   "cell_type": "code",
   "execution_count": 61,
   "id": "136875a5-e8c9-4cc3-921b-ee6d3168e3fe",
   "metadata": {},
   "outputs": [
    {
     "name": "stdout",
     "output_type": "stream",
     "text": [
      "1\n",
      "train mice ['Mouse04205' 'Mouse39114' 'Mouse39124' 'Mouse39125' 'Mouse39133'\n",
      " 'Mouse69064' 'Mouse69065' 'Mouse69074']\n",
      "val mice ['Mouse04193' 'Mouse04201' 'Mouse04202']\n",
      "2\n",
      "train mice ['Mouse04193' 'Mouse04201' 'Mouse04202' 'Mouse39125' 'Mouse39133'\n",
      " 'Mouse69064' 'Mouse69065' 'Mouse69074']\n",
      "val mice ['Mouse04205' 'Mouse39114' 'Mouse39124']\n",
      "3\n",
      "train mice ['Mouse04193' 'Mouse04201' 'Mouse04202' 'Mouse04205' 'Mouse39114'\n",
      " 'Mouse39124' 'Mouse69065' 'Mouse69074']\n",
      "val mice ['Mouse39125' 'Mouse39133' 'Mouse69064']\n",
      "4\n",
      "train mice ['Mouse04193' 'Mouse04201' 'Mouse04202' 'Mouse04205' 'Mouse39114'\n",
      " 'Mouse39124' 'Mouse39125' 'Mouse39133' 'Mouse69064']\n",
      "val mice ['Mouse69065' 'Mouse69074']\n"
     ]
    }
   ],
   "source": [
    "#OFT EPM\n",
    "mc_oft_epm_overlap_mice = np.array([mouse\n",
    "                                    for mouse in epm_oft_overlap\n",
    "                                    if mouse not in always_training_mice])\n",
    "\n",
    "mc_oft_epm_kf_train_mice = []\n",
    "mc_oft_epm_kf_val_mice = []\n",
    "\n",
    "for i, (train_idxs,val_idxs) in enumerate(kf.split(mc_oft_epm_overlap_mice)):\n",
    "    mc_oft_epm_kf_train_mice.append(mc_oft_epm_overlap_mice[train_idxs])\n",
    "    mc_oft_epm_kf_val_mice.append(mc_oft_epm_overlap_mice[val_idxs])\n",
    "    \n",
    "    print(i+1)\n",
    "    print(\"train mice\",mc_oft_epm_kf_train_mice[-1])\n",
    "    print(\"val mice\",mc_oft_epm_kf_val_mice[-1])"
   ]
  },
  {
   "cell_type": "markdown",
   "id": "8f448609-1977-464a-98fc-8c382cccf7b5",
   "metadata": {},
   "source": [
    "### Combine all splits"
   ]
  },
  {
   "cell_type": "code",
   "execution_count": 71,
   "id": "24eb9d2d-313d-47e0-bc1d-9804172030f8",
   "metadata": {},
   "outputs": [],
   "source": [
    "kf_flx_train_mice = []\n",
    "kf_flx_val_mice = []\n",
    "kf_epm_train_mice = []\n",
    "kf_epm_val_mice = []\n",
    "kf_oft_train_mice = []\n",
    "kf_oft_val_mice = []\n",
    "\n",
    "for i in range(4):\n",
    "    \n",
    "    temp_flx_train_mice = np.hstack([flx_always_train_mice,mc_flx_kf_train_mice[i]])\n",
    "    temp_flx_val_mice = np.hstack([mc_flx_kf_val_mice[i],mc_oft_flx_overlap_mice])\n",
    "    \n",
    "    temp_epm_train_mice = np.hstack([epm_always_train_mice,mc_epm_kf_train_mice[i],mc_oft_epm_kf_train_mice[i]])\n",
    "    temp_epm_val_mice = np.hstack([mc_epm_kf_val_mice[i],mc_oft_epm_kf_val_mice[i]])\n",
    "    \n",
    "    temp_oft_train_mice = np.hstack([oft_always_train_mice,mc_oft_epm_kf_train_mice[i],mc_unique_oft_mice[int(i%2)]])\n",
    "    temp_oft_val_mice = np.hstack([mc_oft_epm_kf_val_mice[i],mc_oft_flx_overlap_mice,mc_unique_oft_mice[int((i+1)%2)]])\n",
    "    \n",
    "\n",
    "    kf_flx_train_mice.append(temp_flx_train_mice)\n",
    "    kf_flx_val_mice.append(temp_flx_val_mice)\n",
    "    kf_epm_train_mice.append(temp_epm_train_mice)\n",
    "    kf_epm_val_mice.append(temp_epm_val_mice)\n",
    "    kf_oft_train_mice.append(temp_oft_train_mice)\n",
    "    kf_oft_val_mice.append(temp_oft_val_mice)"
   ]
  },
  {
   "cell_type": "markdown",
   "id": "800da379-5788-4ac4-b563-dbf5f10b2f57",
   "metadata": {},
   "source": [
    "### Save the fixed splits"
   ]
  },
  {
   "cell_type": "code",
   "execution_count": 72,
   "id": "5379ad86-32f9-4845-8e99-040a79b22bdc",
   "metadata": {},
   "outputs": [],
   "source": [
    "for i in range(4):\n",
    "    \n",
    "    #FLX\n",
    "    flx_train_mask = np.array([1 if mouse in kf_flx_train_mice[i] \n",
    "                               else 0 \n",
    "                               for mouse in flx_y_mouse])\n",
    "    flx_val_mask = 1-flx_train_mask\n",
    "    \n",
    "    flx_fold_dict = {\n",
    "        \"X_train\":flx_X[flx_train_mask==1],\n",
    "        \"y_train\":flx_y[flx_train_mask==1],\n",
    "        \"y_mouse_train\":flx_y_mouse[flx_train_mask==1],\n",
    "        \"train_mice\":kf_flx_train_mice[i],\n",
    "        \n",
    "        \"X_val\":flx_X[flx_val_mask==1],\n",
    "        \"y_val\":flx_y[flx_val_mask==1],\n",
    "        \"y_mouse_val\":flx_y_mouse[flx_val_mask==1],\n",
    "        \"val_mice\":kf_flx_val_mice[i]\n",
    "    }\n",
    "    \n",
    "    with open(\"/work/mk423/Anxiety/fixed_flx_kf_dict_fold_{}.pkl\".format(i+1),\"wb\") as f:\n",
    "        pickle.dump(flx_fold_dict,f)\n",
    "        \n",
    "    #EPM\n",
    "    epm_train_mask = np.array([1 if mouse in kf_epm_train_mice[i] \n",
    "                               else 0 \n",
    "                               for mouse in epm_y_mouse])\n",
    "    epm_val_mask = 1-epm_train_mask\n",
    "    \n",
    "    epm_fold_dict = {\n",
    "        \"X_train\":epm_X[epm_train_mask==1],\n",
    "        \"y_train\":epm_y[epm_train_mask==1],\n",
    "        \"y_mouse_train\":epm_y_mouse[epm_train_mask==1],\n",
    "        \"train_mice\":kf_epm_train_mice[i],\n",
    "        \n",
    "        \"X_val\":epm_X[epm_val_mask==1],\n",
    "        \"y_val\":epm_y[epm_val_mask==1],\n",
    "        \"y_mouse_val\":epm_y_mouse[epm_val_mask==1],\n",
    "        \"val_mice\":kf_epm_val_mice[i]\n",
    "    }\n",
    "    \n",
    "    with open(\"/work/mk423/Anxiety/fixed_epm_kf_dict_fold_{}.pkl\".format(i+1),\"wb\") as f:\n",
    "        pickle.dump(epm_fold_dict,f)\n",
    "        \n",
    "    #OFT\n",
    "    oft_train_mask = np.array([1 if mouse in kf_oft_train_mice[i] \n",
    "                               else 0 \n",
    "                               for mouse in oft_y_mouse])\n",
    "    oft_val_mask = 1-oft_train_mask\n",
    "    \n",
    "    oft_fold_dict = {\n",
    "        \"X_train\":oft_X[oft_train_mask==1],\n",
    "        \"y_train\":oft_y[oft_train_mask==1],\n",
    "        \"y_mouse_train\":oft_y_mouse[oft_train_mask==1],\n",
    "        \"train_mice\":kf_oft_train_mice[i],\n",
    "        \n",
    "        \"X_val\":oft_X[oft_val_mask==1],\n",
    "        \"y_val\":oft_y[oft_val_mask==1],\n",
    "        \"y_mouse_val\":oft_y_mouse[oft_val_mask==1],\n",
    "        \"val_mice\":kf_oft_val_mice[i]\n",
    "    }\n",
    "    \n",
    "    with open(\"/work/mk423/Anxiety/fixed_oft_kf_dict_fold_{}.pkl\".format(i+1),\"wb\") as f:\n",
    "        pickle.dump(oft_fold_dict,f)\n",
    "    "
   ]
  },
  {
   "cell_type": "code",
   "execution_count": null,
   "id": "76f8f72a-b301-4e74-a244-09fe79c17397",
   "metadata": {},
   "outputs": [],
   "source": []
  }
 ],
 "metadata": {
  "kernelspec": {
   "display_name": "Python 3 (ipykernel)",
   "language": "python",
   "name": "python3"
  },
  "language_info": {
   "codemirror_mode": {
    "name": "ipython",
    "version": 3
   },
   "file_extension": ".py",
   "mimetype": "text/x-python",
   "name": "python",
   "nbconvert_exporter": "python",
   "pygments_lexer": "ipython3",
   "version": "3.7.13"
  }
 },
 "nbformat": 4,
 "nbformat_minor": 5
}

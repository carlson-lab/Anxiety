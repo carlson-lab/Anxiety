{
 "cells": [
  {
   "cell_type": "code",
   "execution_count": 3,
   "id": "01efd95d-579e-4f68-bb6f-15c697574b31",
   "metadata": {},
   "outputs": [],
   "source": [
    "LPNE_PATH = \"./lpne-data-analysis/\"\n",
    "\n",
    "OLD_MICE_PATH = \"/work/mk423/Clock-D19-EPM/Clock_d19_saveFeatures_1_2.mat\"\n",
    "NEW_MICE_PATH = \"/work/mk423/Clock-D19-EPM/Clock-D19-New-Mice-SaveFeatures-1-2.mat\"\n",
    "MICE_PATH_2024 = \"/work/mk423/CLOCK_Apr_2024/CLOCK_May_2024.mat\"\n",
    "\n",
    "LABELS_PATH = \"/work/mk423/CLOCK_Apr_2024/labels/EthovisionBehavioralLabels/\"\n",
    "\n",
    "RUN_SHEET = \"/work/mk423/Clock-D19-EPM/EPM_CLOCK Spreadsheet 2021.xlsx\"\n",
    "SAVE_FILE = \"/work/mk423/Clock-D19-EPM/Complete_C19_EPM_Data.pkl\"\n",
    "\n",
    "FEATURE_LIST = [\"power\",\"coherence\",\"granger\"]\n",
    "import os, sys\n",
    "sys.path.append(LPNE_PATH)\n",
    "import numpy as np\n",
    "import pandas as pd\n",
    "import pickle\n",
    "import data_tools\n",
    "\n",
    "FEATURE_LIST = [\"power\",\"coherence\",\"granger\"]"
   ]
  },
  {
   "cell_type": "code",
   "execution_count": 4,
   "id": "a6cb3152-552c-4b6f-8703-fc28c93334c7",
   "metadata": {},
   "outputs": [
    {
     "name": "stdout",
     "output_type": "stream",
     "text": [
      "version saveFeatures_1.2 used to calcuate power features\n",
      "version saveFeatures_1.2 used to calcuate coherence features\n"
     ]
    },
    {
     "name": "stderr",
     "output_type": "stream",
     "text": [
      "./lpne-data-analysis/data_tools.py:144: UserWarning: Raw Granger causality values loaded; if you want exponentiated or capped features, you must do that yourself\n",
      "  warnings.warn(\"Raw Granger causality values loaded; if you want exponentiated or capped features, you must do that yourself\")\n"
     ]
    },
    {
     "name": "stdout",
     "output_type": "stream",
     "text": [
      "version saveFeatures_1.2 used to calcuate granger features\n",
      "Version preprocessData_1.0 of preprocessing used\n",
      "Make sure feature versions listed above match those used for any other dataset in the same project\n",
      "version saveFeatures_1.2 used to calcuate power features\n",
      "version saveFeatures_1.2 used to calcuate coherence features\n",
      "version saveFeatures_1.2 used to calcuate granger features\n",
      "Version preprocessData_1.0 of preprocessing used\n",
      "Make sure feature versions listed above match those used for any other dataset in the same project\n",
      "version saveFeatures_1.2 used to calcuate power features\n",
      "version saveFeatures_1.2 used to calcuate coherence features\n",
      "version saveFeatures_1.2 used to calcuate granger features\n",
      "Version preprocessData_1.0 of preprocessing used\n",
      "Make sure feature versions listed above match those used for any other dataset in the same project\n"
     ]
    }
   ],
   "source": [
    "X_psd_2024, X_coh_2024, X_gc_2024, labels_2024 = data_tools.load_data(MICE_PATH_2024, feature_list = FEATURE_LIST)\n",
    "X_psd_old,X_coh_old,X_gc_old,labels_old= data_tools.load_data(OLD_MICE_PATH,feature_list=FEATURE_LIST)\n",
    "X_psd_new,X_coh_new,X_gc_new,labels_new = data_tools.load_data(NEW_MICE_PATH,feature_list=FEATURE_LIST)\n",
    "\n",
    "run_df = pd.read_excel(RUN_SHEET)\n",
    "wt_mice = list(run_df[run_df.CONDITION==\"WT\"].MOUSE.values.astype(str))\n",
    "clock_mice = list(run_df[run_df.CONDITION==\"CLOCK\"].MOUSE.values.astype(str)) + list(np.unique(labels_2024['allWindows']['mouse']))"
   ]
  },
  {
   "cell_type": "code",
   "execution_count": 5,
   "id": "845bb488-3463-47a4-896e-55893a996678",
   "metadata": {},
   "outputs": [],
   "source": [
    "X_psd = np.vstack((X_psd_old,X_psd_new,X_psd_2024))\n",
    "X_coh = np.vstack((X_coh_old,X_coh_new,X_coh_2024))\n",
    "X_gc = np.vstack((X_gc_old,X_gc_new,X_gc_2024))\n",
    "\n",
    "\n",
    "y_time_aw = np.hstack((labels_old['allWindows']['time'],labels_new['allWindows']['time'],labels_2024['allWindows']['time']))\n",
    "y_mouse_aw = np.hstack((labels_old['allWindows']['mouse'],labels_new['allWindows']['mouse'],labels_2024['allWindows']['mouse']))\n",
    "y_expDate_aw = np.hstack((labels_old['allWindows']['expDate'],labels_new['allWindows']['expDate'],labels_2024['allWindows']['expDate']))\n",
    "y_geno_aw = np.zeros(y_expDate_aw.shape) * np.nan\n",
    "y_roi_aw = np.zeros(y_expDate_aw.shape) *np.nan\n",
    "y_hc_aw = np.zeros(y_expDate_aw.shape)*np.nan\n",
    "\n",
    "y_time_w = np.hstack((labels_old['windows']['time'],labels_new['windows']['time'],labels_2024['windows']['time']))\n",
    "y_mouse_w = np.hstack((labels_old['windows']['mouse'],labels_new['windows']['mouse'],labels_2024['windows']['mouse']))\n",
    "y_expDate_w = np.hstack((labels_old['windows']['expDate'],labels_new['windows']['expDate'],labels_2024['windows']['expDate']))\n",
    "y_geno_w = np.zeros(y_expDate_w.shape) *np.nan\n",
    "y_roi_w = np.zeros(y_expDate_w.shape) *np.nan\n",
    "y_hc_w = np.zeros(y_expDate_w.shape)*np.nan"
   ]
  },
  {
   "cell_type": "code",
   "execution_count": 6,
   "id": "8d2333d3-9dd4-43b8-942e-817486c2db90",
   "metadata": {},
   "outputs": [
    {
     "name": "stdout",
     "output_type": "stream",
     "text": [
      "Mouse69861 321.0\n",
      "299 (299,)\n",
      "(array([1, 3, 5]), array([255,  18,  26]))\n",
      "Mouse67152 344.0\n",
      "401 (401,)\n",
      "(array([1, 2, 3, 4, 5]), array([ 56,   6, 154,  26, 159]))\n",
      "Mouse0913 201.0\n",
      "407 (407,)\n",
      "(array([1, 2, 3, 4, 5]), array([ 50,  69, 134,  62,  92]))\n",
      "Mouse3883 147.0\n",
      "308 (308,)\n",
      "(array([1, 2, 3, 4, 5]), array([ 61,   2,  48,   2, 195]))\n",
      "Mouse2401 336.0\n",
      "401 (401,)\n",
      "(array([1, 2, 3, 4, 5]), array([ 54,   5, 206,   5, 131]))\n",
      "Mouse30391 339.0\n",
      "295 (295,)\n",
      "(array([1, 3, 5]), array([191,  41,  63]))\n",
      "Mouse69862 325.0\n",
      "330 (330,)\n",
      "(array([1, 3, 4, 5]), array([194, 109,   2,  25]))\n",
      "Mouse30392 322.0\n",
      "305 (305,)\n",
      "(array([1, 3, 4, 5]), array([140, 120,   2,  43]))\n",
      "Mouse3882 141.0\n",
      "309 (309,)\n",
      "(array([1, 3, 5]), array([ 45,  91, 173]))\n",
      "Mouse2402 194.0\n",
      "306 (306,)\n",
      "(array([1, 2, 3, 4, 5]), array([ 14,   6, 163,   6, 117]))\n",
      "Mouse2403 193.0\n",
      "299 (299,)\n",
      "(array([1, 2, 3, 4, 5]), array([ 44,  16,  59,  13, 167]))\n",
      "Mouse0912 205.0\n",
      "504 (504,)\n",
      "(array([1, 2, 3, 4, 5]), array([132,   1, 246,  11, 114]))\n",
      "Mouse69872 317.0\n",
      "387 (387,)\n",
      "(array([1, 3, 4, 5]), array([230,  46,   4, 107]))\n",
      "Mouse69873 337.0\n",
      "320 (320,)\n",
      "(array([1, 2, 3, 4, 5]), array([118,   1, 159,   1,  41]))\n",
      "Mouse3881 158.0\n",
      "466 (466,)\n",
      "(array([1, 2, 3, 4, 5]), array([331,   3,  69,   5,  58]))\n",
      "Mouse0914 198.0\n",
      "351 (351,)\n",
      "(array([1, 2, 3, 4, 5]), array([  5,   6, 287,  19,  34]))\n",
      "Mouse0911 216.0\n",
      "331 (331,)\n",
      "(array([1. , 2. , 3. , 4. , 4.5, 5. ]), array([232,   2,  27,   8,   1,  61]))\n",
      "Mouse67151 323.0\n",
      "301 (301,)\n",
      "(array([1, 2, 3, 4, 5]), array([ 52,   2,  73,  10, 164]))\n",
      "Mouse69841 364.0\n",
      "302 (302,)\n",
      "(array([1, 3, 4, 5]), array([197,  30,   2,  73]))\n",
      "Mouse69871 313.0\n",
      "304 (304,)\n",
      "(array([1, 2, 3, 4, 5]), array([100,   1,  61,   6, 136]))\n"
     ]
    }
   ],
   "source": [
    "behavior_files = os.listdir(LABELS_PATH)\n",
    "mouse_start_times = {}\n",
    "\n",
    "for file in behavior_files:\n",
    "    df = pd.read_excel(LABELS_PATH + file)\n",
    "    start_time = df.values[1,1]\n",
    "    video_end = df.Zone.shape[0]\n",
    "    \n",
    "    mouse, date = file.split('_')[:2]\n",
    "    \n",
    "    if mouse in np.unique(y_mouse_aw):\n",
    "        mouse_mask = y_mouse_aw == mouse\n",
    "        expDate_mask = y_expDate_aw == date\n",
    "        time_mask = np.logical_and(y_time_aw >= start_time, y_time_aw < start_time + video_end)\n",
    "        mouse_start_times[mouse] = start_time\n",
    "\n",
    "        hc_mask = y_time_aw < start_time\n",
    "        aw_mask = np.logical_and(time_mask,mouse_mask)\n",
    "\n",
    "        y_roi_aw[aw_mask==1] = df.Zone.values\n",
    "        \n",
    "        #correct the 4.5\n",
    "        if mouse==\"Mouse0911\":\n",
    "            temp_mask = y_roi_aw==4.5\n",
    "            y_roi_aw[temp_mask==1] = 5\n",
    "            \n",
    "        y_hc_aw[mouse_mask==1] = hc_mask[mouse_mask==1]\n",
    "\n",
    "        #filter windows\n",
    "        mouse_mask_w = y_mouse_w==mouse\n",
    "        time_idxs = y_time_w[mouse_mask_w==1] - 1\n",
    "        mouse_y_roi_aw = y_roi_aw[mouse_mask==1]\n",
    "        mouse_y_hc_aw = y_hc_aw[mouse_mask==1]\n",
    "\n",
    "        y_roi_w[mouse_mask_w==1] = mouse_y_roi_aw[time_idxs]\n",
    "        y_hc_w[mouse_mask_w==1] = mouse_y_hc_aw[time_idxs]\n",
    "        print(mouse,start_time)\n",
    "        print(np.sum(np.logical_and(time_mask,mouse_mask)),df.Zone.shape)\n",
    "        print(np.unique(df.Zone,return_counts=True))\n",
    "        \n",
    "        if mouse in clock_mice:\n",
    "            y_geno_aw[mouse_mask==1] = 1\n",
    "            y_geno_w[mouse_mask_w==1] = 1\n",
    "        elif mouse in wt_mice:\n",
    "            y_geno_aw[mouse_mask==1] = 0\n",
    "            y_geno_w[mouse_mask_w==1] = 0\n",
    "            \n",
    "#correct the 4.5 to be 5\n"
   ]
  },
  {
   "cell_type": "code",
   "execution_count": 9,
   "id": "8cca3c2c-8d05-4db6-a271-de6e4c660a91",
   "metadata": {},
   "outputs": [],
   "source": [
    "save_dict  = {\n",
    "    \"X\" :np.hstack([X_psd*10,X_coh,X_gc]),\n",
    "    \"X_psd\":X_psd,\n",
    "    \"X_coh\":X_coh,\n",
    "    \"X_gc\":X_gc,\n",
    "    \"y_mouse\":y_mouse_w,\n",
    "    \"y_expDate\":y_expDate_w,\n",
    "    \"y_time\":y_time_w,\n",
    "    \"y_roi\":y_roi_w,\n",
    "    \"y_hc\":y_hc_w\n",
    "}"
   ]
  },
  {
   "cell_type": "code",
   "execution_count": 11,
   "id": "7ca2b25c-48a9-4f0a-853b-cb496ade1b8e",
   "metadata": {},
   "outputs": [],
   "source": [
    "with open(SAVE_FILE,'wb') as f:\n",
    "    pickle.dump(save_dict,f)"
   ]
  },
  {
   "cell_type": "code",
   "execution_count": null,
   "id": "1194d6d0-b65c-47a4-96c6-8c47f8571f13",
   "metadata": {},
   "outputs": [],
   "source": []
  }
 ],
 "metadata": {
  "kernelspec": {
   "display_name": "Python 3 (ipykernel)",
   "language": "python",
   "name": "python3"
  },
  "language_info": {
   "codemirror_mode": {
    "name": "ipython",
    "version": 3
   },
   "file_extension": ".py",
   "mimetype": "text/x-python",
   "name": "python",
   "nbconvert_exporter": "python",
   "pygments_lexer": "ipython3",
   "version": "3.7.13"
  }
 },
 "nbformat": 4,
 "nbformat_minor": 5
}

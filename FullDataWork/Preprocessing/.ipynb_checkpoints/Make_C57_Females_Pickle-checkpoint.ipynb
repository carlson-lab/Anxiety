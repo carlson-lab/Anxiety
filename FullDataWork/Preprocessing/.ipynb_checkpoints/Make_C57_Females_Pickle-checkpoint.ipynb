{
 "cells": [
  {
   "cell_type": "code",
   "execution_count": 1,
   "id": "06850476-98b1-434c-bb2a-875c441bc277",
   "metadata": {},
   "outputs": [
    {
     "data": {
      "text/plain": [
       "(14, 3)"
      ]
     },
     "execution_count": 1,
     "metadata": {},
     "output_type": "execute_result"
    }
   ],
   "source": [
    "DATA_PATH = \"/work/mk423/C57-Females-all/C57_Females-all.mat\"\n",
    "lpne_path = \"./lpne-data-analysis/\"\n",
    "START_TIMES = \"/work/mk423/C57-Females-all/StartTimes.xlsx\"\n",
    "CLASS_DATA = \"/work/mk423/C57-Females-all/ClassData/\"\n",
    "SAVE_FILE = \"/work/mk423/C57-Females-all/c57_female_epm_data.pkl\"\n",
    "\n",
    "import numpy as np\n",
    "import pickle\n",
    "import pandas as pd\n",
    "import sys, os\n",
    "\n",
    "sys.path.append(lpne_path)\n",
    "\n",
    "import data_tools\n",
    "\n",
    "start_times = pd.read_excel(START_TIMES)\n",
    "start_times.shape"
   ]
  },
  {
   "cell_type": "code",
   "execution_count": 2,
   "id": "870c5de7-4ead-49fa-abba-917da4aa3c20",
   "metadata": {},
   "outputs": [
    {
     "name": "stdout",
     "output_type": "stream",
     "text": [
      "version saveFeatures_1.2 used to calcuate power features\n",
      "version saveFeatures_1.2 used to calcuate coherence features\n",
      "version saveFeatures_1.2 used to calcuate granger features\n",
      "Version preprocessData_1.0 of preprocessing used\n",
      "Make sure feature versions listed above match those used for any other dataset in the same project\n"
     ]
    },
    {
     "name": "stderr",
     "output_type": "stream",
     "text": [
      "./lpne-data-analysis/data_tools.py:144: UserWarning: Raw Granger causality values loaded; if you want exponentiated or capped features, you must do that yourself\n",
      "  warnings.warn(\"Raw Granger causality values loaded; if you want exponentiated or capped features, you must do that yourself\")\n"
     ]
    }
   ],
   "source": [
    "X_psd, X_coh, X_gc, labels = data_tools.load_data(DATA_PATH, feature_list=[\"power\",\"coherence\",\"granger\"])"
   ]
  },
  {
   "cell_type": "code",
   "execution_count": 3,
   "id": "c731b0c4-e5e4-49ef-bad7-faa4724f81bd",
   "metadata": {},
   "outputs": [],
   "source": [
    "y_mouse_aw = np.array(labels['allWindows']['mouse'])\n",
    "y_expDate_aw = np.array(labels['allWindows']['expDate'])\n",
    "y_time_aw = np.array(labels['allWindows']['time'])\n",
    "y_task_aw = np.zeros(y_mouse_aw.shape)\n",
    "\n",
    "y_mouse_w = np.array(labels['windows']['mouse'])\n",
    "y_expDate_w = np.array(labels['windows']['expDate'])\n",
    "y_time_w = np.array(labels['windows']['time'])\n",
    "y_task_w = np.zeros(y_mouse_w.shape)"
   ]
  },
  {
   "cell_type": "code",
   "execution_count": 4,
   "id": "941c1d8a-a442-4882-9d3e-c4f041cbca62",
   "metadata": {},
   "outputs": [
    {
     "data": {
      "text/plain": [
       "(3058, 448)"
      ]
     },
     "execution_count": 4,
     "metadata": {},
     "output_type": "execute_result"
    }
   ],
   "source": [
    "X_psd.shape"
   ]
  },
  {
   "cell_type": "code",
   "execution_count": 5,
   "id": "83c22698-30fc-4f2a-afc2-e9a943795d86",
   "metadata": {},
   "outputs": [],
   "source": [
    "for mouse in np.unique(start_times.Mouse):\n",
    "    \n",
    "    if mouse in np.unique(y_mouse_aw):\n",
    "        start_time = start_times[start_times.Mouse==mouse][\"StartTime (sec)\"].values\n",
    "        mouse_mask_aw = y_mouse_aw==mouse\n",
    "        y_time_mask_aw = y_time_aw >= start_time\n",
    "        mask_aw = np.logical_and(mouse_mask_aw,y_time_mask_aw)\n",
    "        y_task_aw[mask_aw==1] = 1\n",
    "\n",
    "        mouse_mask_w = y_mouse_w==mouse\n",
    "        y_time_mask_w = y_time_w >= start_time\n",
    "        mask_w = np.logical_and(mouse_mask_w,y_time_mask_w)\n",
    "        y_task_w[mask_w==1] = 1"
   ]
  },
  {
   "cell_type": "code",
   "execution_count": 23,
   "id": "5f87f0ec-2a62-408d-90bf-5ddd983b2696",
   "metadata": {},
   "outputs": [],
   "source": [
    "saveDict = {\n",
    "    \"X_psd\":X_psd.astype(float),\n",
    "    \"X_coh\":X_coh.astype(float),\n",
    "    \"X_gc\":X_gc.astype(float),\n",
    "    \"y_mouse\":y_mouse_w,\n",
    "    \"y_expDate\":y_expDate_w,\n",
    "    \"y_time\":np.array(y_time_w),\n",
    "    \"y_task\":np.array(y_task_w),\n",
    "}\n",
    "\n",
    "with open(SAVE_FILE,\"wb\") as f:\n",
    "    pickle.dump(saveDict,f)"
   ]
  },
  {
   "cell_type": "code",
   "execution_count": 8,
   "id": "d3603fa9-4636-4fc2-be3f-986a4a589425",
   "metadata": {},
   "outputs": [
    {
     "data": {
      "text/plain": [
       "(7, 3)"
      ]
     },
     "execution_count": 8,
     "metadata": {},
     "output_type": "execute_result"
    }
   ],
   "source": [
    "start_times.shape"
   ]
  },
  {
   "cell_type": "code",
   "execution_count": 14,
   "id": "9d76db11-b488-4461-a07a-1332c4e6486d",
   "metadata": {},
   "outputs": [
    {
     "data": {
      "text/plain": [
       "array([[0.89910787, 0.91133696, 0.91904706, ..., 0.62691599, 0.71000719,\n",
       "        0.76018977],\n",
       "       [0.76853657, 0.70623618, 0.65660173, ..., 0.89870793, 0.90883106,\n",
       "        0.92544317],\n",
       "       [0.96368462, 0.94922495, 0.92166251, ..., 0.33332303, 0.2983416 ,\n",
       "        0.27560124],\n",
       "       ...,\n",
       "       [0.73610342, 0.76409382, 0.76846659, ..., 0.83907145, 0.89416373,\n",
       "        0.92391515],\n",
       "       [0.87403756, 0.86367548, 0.86171162, ..., 0.8480041 , 0.90582037,\n",
       "        0.94897294],\n",
       "       [0.82992303, 0.8580085 , 0.88312143, ..., 0.84643537, 0.83029056,\n",
       "        0.82659942]])"
      ]
     },
     "execution_count": 14,
     "metadata": {},
     "output_type": "execute_result"
    }
   ],
   "source": [
    "np.array(X_coh).astype(float)"
   ]
  },
  {
   "cell_type": "code",
   "execution_count": 22,
   "id": "6923c751-5ca5-4f73-a71a-af50cd25f472",
   "metadata": {},
   "outputs": [
    {
     "data": {
      "text/plain": [
       "array([0., 0., 0., ..., 1., 1., 1.])"
      ]
     },
     "execution_count": 22,
     "metadata": {},
     "output_type": "execute_result"
    }
   ],
   "source": [
    "y_task_w"
   ]
  },
  {
   "cell_type": "code",
   "execution_count": 18,
   "id": "25fb7136-9956-4cd3-9ffc-40b8469ffb4d",
   "metadata": {},
   "outputs": [
    {
     "data": {
      "text/plain": [
       "dtype('float64')"
      ]
     },
     "execution_count": 18,
     "metadata": {},
     "output_type": "execute_result"
    }
   ],
   "source": [
    "X_coh.dtype"
   ]
  },
  {
   "cell_type": "code",
   "execution_count": 24,
   "id": "0b8b94f9-495c-4f92-8682-437f35626d08",
   "metadata": {},
   "outputs": [
    {
     "data": {
      "text/plain": [
       "0      Mouse0870\n",
       "1      Mouse0871\n",
       "2      Mouse0872\n",
       "3      Mouse0873\n",
       "4      Mouse0890\n",
       "5      Mouse0892\n",
       "6      Mouse0894\n",
       "7     Mouse22292\n",
       "8     Mouse22294\n",
       "9     Mouse22272\n",
       "10    Mouse22273\n",
       "11    Mouse22274\n",
       "12    Mouse34491\n",
       "13    Mouse34492\n",
       "Name: Mouse, dtype: object"
      ]
     },
     "execution_count": 24,
     "metadata": {},
     "output_type": "execute_result"
    }
   ],
   "source": [
    "start_times.Mouse"
   ]
  },
  {
   "cell_type": "code",
   "execution_count": 25,
   "id": "16c1d27a-7176-4ff9-9d7b-2b906c4af6dc",
   "metadata": {},
   "outputs": [
    {
     "data": {
      "text/plain": [
       "array(['Mouse0870', 'Mouse0871', 'Mouse0872', 'Mouse0873'], dtype='<U9')"
      ]
     },
     "execution_count": 25,
     "metadata": {},
     "output_type": "execute_result"
    }
   ],
   "source": [
    "np.unique(labels['windows']['mouse'])"
   ]
  },
  {
   "cell_type": "code",
   "execution_count": null,
   "id": "e97f726e-cb9b-48bb-a3db-3d0858fa58d2",
   "metadata": {},
   "outputs": [],
   "source": []
  }
 ],
 "metadata": {
  "kernelspec": {
   "display_name": "Python 3 (ipykernel)",
   "language": "python",
   "name": "python3"
  },
  "language_info": {
   "codemirror_mode": {
    "name": "ipython",
    "version": 3
   },
   "file_extension": ".py",
   "mimetype": "text/x-python",
   "name": "python",
   "nbconvert_exporter": "python",
   "pygments_lexer": "ipython3",
   "version": "3.7.13"
  }
 },
 "nbformat": 4,
 "nbformat_minor": 5
}

{
 "cells": [
  {
   "cell_type": "code",
   "execution_count": 1,
   "id": "8bfc7be0-6726-4604-9daa-1629d81119dc",
   "metadata": {},
   "outputs": [],
   "source": [
    "LPNE_PATH = \"./lpne-data-analysis/\"\n",
    "DATA_PATH = \"/work/mk423/CLOCK_Apr_2024/\"\n",
    "LABELS_PATH = DATA_PATH + \"labels/\"\n",
    "SAVE_FILE = \"/work/mk423/CLOCK_Apr_2024/C19_EPM_Apr_2024_Data.pkl\"\n",
    "FEATURE_LIST = [\"power\",\"coherence\",\"granger\"]\n",
    "import os, sys\n",
    "sys.path.append(LPNE_PATH)\n",
    "import numpy as np\n",
    "import pandas as pd\n",
    "import pickle\n",
    "import data_tools"
   ]
  },
  {
   "cell_type": "code",
   "execution_count": 2,
   "id": "37bea549-95bd-47e0-b916-b0dd0def518e",
   "metadata": {},
   "outputs": [
    {
     "name": "stdout",
     "output_type": "stream",
     "text": [
      "version saveFeatures_1.2 used to calcuate power features\n",
      "version saveFeatures_1.2 used to calcuate coherence features\n",
      "version saveFeatures_1.2 used to calcuate granger features\n",
      "Version preprocessData_1.0 of preprocessing used\n",
      "Make sure feature versions listed above match those used for any other dataset in the same project\n"
     ]
    },
    {
     "name": "stderr",
     "output_type": "stream",
     "text": [
      "./lpne-data-analysis/data_tools.py:144: UserWarning: Raw Granger causality values loaded; if you want exponentiated or capped features, you must do that yourself\n",
      "  warnings.warn(\"Raw Granger causality values loaded; if you want exponentiated or capped features, you must do that yourself\")\n"
     ]
    }
   ],
   "source": [
    "X_psd, X_coh, X_gc, labels = data_tools.load_data(DATA_PATH + \"CLOCK_Apr_2024.mat\", feature_list = [\"power\",\"coherence\",\"granger\"])"
   ]
  },
  {
   "cell_type": "code",
   "execution_count": 54,
   "id": "4020ee57-58d1-4a15-a2c1-6bb0cb2e8e3a",
   "metadata": {},
   "outputs": [],
   "source": [
    "y_mouse_aw = np.array(labels['allWindows']['mouse'])\n",
    "y_time_aw = np.array(labels['allWindows']['time'])\n",
    "y_expDate_aw = np.array(labels['allWindows']['expDate'])\n",
    "y_roi_aw = np.zeros(y_expDate_aw.shape) *np.nan\n",
    "y_hc_aw = np.zeros(y_expDate_aw.shape)*np.nan\n",
    "\n",
    "y_mouse_w = np.array(labels['windows']['mouse'])\n",
    "y_time_w = np.array(labels['windows']['time'])\n",
    "y_expDate_w = np.array(labels['windows']['expDate'])\n",
    "y_roi_w = np.zeros(y_expDate_w.shape) *np.nan\n",
    "y_hc_w = np.zeros(y_expDate_w.shape)*np.nan\n"
   ]
  },
  {
   "cell_type": "code",
   "execution_count": 87,
   "id": "03afa014-e9c2-49ee-b096-aa10fd7e3c6e",
   "metadata": {},
   "outputs": [
    {
     "name": "stdout",
     "output_type": "stream",
     "text": [
      "788 (788,)\n",
      "668 (668,)\n"
     ]
    }
   ],
   "source": [
    "behavior_files = os.listdir(LABELS_PATH)\n",
    "\n",
    "for file in behavior_files:\n",
    "    df = pd.read_excel(LABELS_PATH + file)\n",
    "    start_time = df.StartTime[0]\n",
    "    video_end = df.Zone.shape[0]\n",
    "    \n",
    "    mouse, date = file.split('_')[:2]\n",
    "    mouse_mask = y_mouse_aw == mouse\n",
    "    expDate_mask = y_expDate_aw == date\n",
    "    time_mask = np.logical_and(y_time_aw >= start_time, y_time_aw < start_time + video_end)\n",
    "    \n",
    "    hc_mask = y_time_aw < start_time\n",
    "    aw_mask = np.logical_and(time_mask,mouse_mask)\n",
    "    \n",
    "    y_roi_aw[aw_mask==1] = df.Zone.values\n",
    "    y_hc_aw[mouse_mask==1] = hc_mask[mouse_mask==1]\n",
    "    \n",
    "    #filter windows\n",
    "    mouse_mask_w = y_mouse_w==mouse\n",
    "    time_idxs = y_time_w[mouse_mask_w==1] - 1\n",
    "    mouse_y_roi_aw = y_roi_aw[mouse_mask==1]\n",
    "    mouse_y_hc_aw = y_hc_aw[mouse_mask==1]\n",
    "    \n",
    "    y_roi_w[mouse_mask_w==1] = mouse_y_roi_aw[time_idxs]\n",
    "    y_hc_w[mouse_mask_w==1] = mouse_y_hc_aw[time_idxs]\n",
    "    print(np.sum(np.logical_and(time_mask,mouse_mask)),df.Zone.shape)\n",
    "    "
   ]
  },
  {
   "cell_type": "code",
   "execution_count": 94,
   "id": "17e89976-b342-4f8a-b8e5-5cd28129ff54",
   "metadata": {},
   "outputs": [],
   "source": [
    "save_dict  = {\n",
    "    \"X\" :np.hstack([X_psd*10,X_coh,X_gc]),\n",
    "    \"X_psd\":X_psd,\n",
    "    \"X_coh\":X_coh,\n",
    "    \"X_gc\":X_gc,\n",
    "    \"y_mouse\":y_mouse_w,\n",
    "    \"y_time\":y_time_w,\n",
    "    \"y_roi\":y_roi_w,\n",
    "    \"y_hc\":y_hc_w\n",
    "}\n",
    "\n",
    "with open(SAVE_FILE,\"wb\") as f:\n",
    "    pickle.dump(save_dict,f)"
   ]
  }
 ],
 "metadata": {
  "kernelspec": {
   "display_name": "Python 3 (ipykernel)",
   "language": "python",
   "name": "python3"
  },
  "language_info": {
   "codemirror_mode": {
    "name": "ipython",
    "version": 3
   },
   "file_extension": ".py",
   "mimetype": "text/x-python",
   "name": "python",
   "nbconvert_exporter": "python",
   "pygments_lexer": "ipython3",
   "version": "3.7.13"
  }
 },
 "nbformat": 4,
 "nbformat_minor": 5
}

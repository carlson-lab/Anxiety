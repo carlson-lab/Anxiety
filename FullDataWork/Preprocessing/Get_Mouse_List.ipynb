{
 "cells": [
  {
   "cell_type": "markdown",
   "id": "e84d97d7-563e-4aac-a966-05dde4a19d37",
   "metadata": {},
   "source": [
    "### Getting a list of mice for Hannah to run histology on"
   ]
  },
  {
   "cell_type": "code",
   "execution_count": 3,
   "id": "5122e6a7-a6c7-4e8f-a56a-d396bfe6197c",
   "metadata": {},
   "outputs": [],
   "source": [
    "import numpy as np\n",
    "import pandas as pd\n",
    "import torch\n",
    "import pickle\n",
    "import matplotlib.pyplot as plt\n",
    "from lpne.models import DcsfaNmf\n",
    "\n",
    "MODEL_FILE = \"/hpc/home/mk423/Anxiety/FullDataWork/Models/Final_mt_Model_500_epochs.pt\"\n",
    "DATA_PATH = \"/work/mk423/Anxiety/\"\n",
    "PROJECT_PATH = \"/hpc/home/mk423/Anxiety/FullDataWork/Projections/\"\n",
    "FIGURE_PATH = \"/hpc/home/mk423/Anxiety/FullDataWork/Figures/\"\n",
    "\n",
    "epm_file_base = DATA_PATH + \"EPM_{}_dict_May_17.pkl\"\n",
    "oft_file_base = DATA_PATH + \"OFT_{}_dict_old_features_hand_picked.pkl\" # validation\n",
    "flx_file_base = DATA_PATH + \"final_FLX_{}.pkl\"\n",
    "model = torch.load(MODEL_FILE,map_location=\"cpu\")\n",
    "model.device=\"cpu\"\n",
    "\n",
    "\n",
    "old_feature_list = [\"X_power_1_2\",\"X_coh_1_2\",\"X_gc_1_2\"]\n",
    "\n",
    "feature_list = [\"X_psd\",\"X_coh\",\"X_gc\"]\n",
    "feature_weights = [10,1,1]\n",
    "\n",
    "feature_weights = [10,1,1]\n",
    "\n",
    "import os, sys\n",
    "umc_data_tools_path = \"/hpc/home/mk423/Anxiety/Universal-Mouse-Code/\"\n",
    "sys.path.append(umc_data_tools_path)\n",
    "import umc_data_tools as umc_dt"
   ]
  },
  {
   "cell_type": "code",
   "execution_count": null,
   "id": "cb0cfc54-1ff8-4b13-a0ee-094ad0994a37",
   "metadata": {},
   "outputs": [],
   "source": [
    "all_mice = []\n",
    "all_experiments = []\n",
    "for split in [\"train\",\"val\",\"test\"]:\n",
    "    \n",
    "    with open(epm_file_base.format(split),\"rb\") as f:\n",
    "        epm_dict = pickle.load(f)\n",
    "    \n",
    "    with open(flx_file_base.format(split),\"rb\") as f:\n",
    "        flx_dict = pickle.load(f)\n",
    "        \n",
    "    \n",
    "    all_mice.append(np.unique(epm_dict[\"y_mouse\"]))\n",
    "    all_experiments.append([\"epm\" for i in np.unique(epm_dict[\"y_mouse\"]\n",
    "            \n",
    "        \n",
    "    \n",
    "              "
   ]
  }
 ],
 "metadata": {
  "kernelspec": {
   "display_name": "Python 3 (ipykernel)",
   "language": "python",
   "name": "python3"
  },
  "language_info": {
   "codemirror_mode": {
    "name": "ipython",
    "version": 3
   },
   "file_extension": ".py",
   "mimetype": "text/x-python",
   "name": "python",
   "nbconvert_exporter": "python",
   "pygments_lexer": "ipython3",
   "version": "3.7.13"
  }
 },
 "nbformat": 4,
 "nbformat_minor": 5
}

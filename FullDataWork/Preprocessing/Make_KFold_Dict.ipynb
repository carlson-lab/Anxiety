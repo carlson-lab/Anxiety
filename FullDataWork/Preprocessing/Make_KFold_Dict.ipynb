{
 "cells": [
  {
   "cell_type": "code",
   "execution_count": 18,
   "id": "04b88d7f-9530-4aa0-a101-881a90aec4d6",
   "metadata": {},
   "outputs": [],
   "source": [
    "import torch\n",
    "import numpy as np\n",
    "import pickle\n",
    "from lpne.models import DcsfaNmf\n",
    "from lpne.plotting import circle_plot\n",
    "from sklearn.preprocessing import OneHotEncoder, OrdinalEncoder\n",
    "from PIL import Image\n",
    "import matplotlib.pyplot as plt\n",
    "import os, sys\n",
    "from sklearn.model_selection import KFold\n",
    "\n",
    "umc_data_tools_path = \"/hpc/home/mk423/Anxiety/Universal-Mouse-Code/\"\n",
    "sys.path.append(umc_data_tools_path)\n",
    "import umc_data_tools as umc_dt\n",
    "\n",
    "flx_data_path = \"/work/mk423/Anxiety/final_FLX_{}.pkl\"\n",
    "epm_data_path = \"/work/mk423/Anxiety/EPM_{}_dict_May_17.pkl\"\n",
    "oft_data_path = \"/work/mk423/Anxiety/OFT_{}_dict_old_features_hand_picked.pkl\"\n",
    "\n",
    "anx_info_dict = \"/work/mk423/Anxiety/Anx_Info_Dict.pkl\"\n",
    "\n",
    "saved_model_path = \"/hpc/home/mk423/Anxiety/FullDataWork/Models/\"\n",
    "saved_model_name = \"all_mt_model.pt\"\n",
    "\n",
    "projection_save_path = \"/hpc/home/mk423/Anxiety/FullDataWork/Projections/\"\n",
    "plots_path = \"/hpc/home/mk423/Anxiety/FullDataWork/Figures/\"\n",
    "\n",
    "feature_list = [\"X_psd\",\"X_coh\",\"X_gc\"]\n",
    "old_feature_list = [\"X_power_1_2\",\"X_coh_1_2\",\"X_gc_1_2\"]\n",
    "feature_weights = [10,1,1]\n",
    "\n",
    "RANDOM_STATE = 42\n",
    "kf = KFold(n_splits=4)"
   ]
  },
  {
   "cell_type": "code",
   "execution_count": 2,
   "id": "fe7a4b21-68d6-412b-b137-d0a69c0883e3",
   "metadata": {},
   "outputs": [],
   "source": [
    "with open(flx_data_path.format(\"train\"),\"rb\") as f:\n",
    "    train_dict = pickle.load(f)\n",
    "    \n",
    "with open(flx_data_path.format(\"val\"),\"rb\") as f:\n",
    "    val_dict = pickle.load(f)\n",
    "    \n",
    "with open(flx_data_path.format(\"test\"),\"rb\") as f:\n",
    "    test_dict = pickle.load(f)\n",
    "    \n",
    "flx_X_train = np.hstack([train_dict[feature]*weight for feature,weight in zip(feature_list,feature_weights)])\n",
    "flx_y_train = train_dict['y_flx']\n",
    "flx_y_mouse_train = train_dict['y_mouse']\n",
    "flx_y_hab_train = train_dict['y_hab']\n",
    "flx_y_time_train = train_dict['y_time']\n",
    "\n",
    "flx_X_val = np.hstack([val_dict[feature]*weight for feature,weight in zip(feature_list,feature_weights)])\n",
    "flx_y_val = val_dict['y_flx']\n",
    "flx_y_mouse_val = val_dict['y_mouse']\n",
    "flx_y_hab_val = val_dict['y_hab']\n",
    "flx_y_time_val = val_dict['y_time']\n",
    "\n",
    "flx_X_test = np.hstack([test_dict[feature]*weight for feature,weight in zip(feature_list,feature_weights)])\n",
    "flx_y_test = test_dict['y_flx']\n",
    "flx_y_mouse_test = test_dict['y_mouse']\n",
    "flx_y_hab_test = test_dict['y_hab']\n",
    "flx_y_time_test = test_dict['y_time']\n"
   ]
  },
  {
   "cell_type": "code",
   "execution_count": null,
   "id": "0a9c0841-5d3c-4ec8-94ac-c86c937d1196",
   "metadata": {},
   "outputs": [],
   "source": []
  },
  {
   "cell_type": "code",
   "execution_count": 3,
   "id": "ce221671-08f9-4783-8e8b-37e0248aacbf",
   "metadata": {},
   "outputs": [
    {
     "name": "stdout",
     "output_type": "stream",
     "text": [
      "0 ['Mouse3194' 'Mouse3203' 'Mouse78752' 'Mouse61635' 'Mouse78744'\n",
      " 'Mouse61631'] ['Mouse3191' 'Mouse3192' 'Mouse3193']\n",
      "1 ['Mouse3191' 'Mouse3192' 'Mouse3193' 'Mouse78752' 'Mouse61635'\n",
      " 'Mouse78744' 'Mouse61631'] ['Mouse3194' 'Mouse3203']\n",
      "2 ['Mouse3191' 'Mouse3192' 'Mouse3193' 'Mouse3194' 'Mouse3203' 'Mouse78744'\n",
      " 'Mouse61631'] ['Mouse78752' 'Mouse61635']\n",
      "3 ['Mouse3191' 'Mouse3192' 'Mouse3193' 'Mouse3194' 'Mouse3203' 'Mouse78752'\n",
      " 'Mouse61635'] ['Mouse78744' 'Mouse61631']\n"
     ]
    }
   ],
   "source": [
    "overlap_mice = ['Mouse3191', 'Mouse3192', 'Mouse3193', 'Mouse3194', 'Mouse3203']\n",
    "always_train_mice = [\"Mouse3202\",\"Mouse99002\",\"Mouse99003\",\"Mouse99021\"]\n",
    "train_mice = ['Mouse3191', 'Mouse3192', 'Mouse3193', 'Mouse3194', 'Mouse3203']\n",
    "val_mice = ['Mouse78752', 'Mouse61635', 'Mouse78744', 'Mouse61631']\n",
    "overlap_train_mice_list = []\n",
    "overlap_val_mice_list = []\n",
    "\n",
    "shuffle_mice = train_mice + val_mice\n",
    "\n",
    "flx_X_kf = np.vstack([flx_X_train[flx_y_hab_train==1],flx_X_val[flx_y_hab_val==1]])\n",
    "flx_y_kf = np.hstack([flx_y_train[flx_y_hab_train==1],flx_y_val[flx_y_hab_val==1]])\n",
    "flx_y_mouse_kf = np.hstack([flx_y_mouse_train[flx_y_hab_train==1],flx_y_mouse_val[flx_y_hab_val==1]])\n",
    "flx_y_time_kf = np.hstack([flx_y_time_train[flx_y_hab_train==1],flx_y_time_val[flx_y_hab_val==1]])\n",
    "\n",
    "kf = KFold(n_splits=4)\n",
    "for i, (train_mice,val_mice) in enumerate(kf.split(shuffle_mice)):\n",
    "    \n",
    "    print(i,np.array(shuffle_mice)[train_mice],np.array(shuffle_mice)[val_mice])\n",
    "    \n",
    "    kf_train_mice = np.hstack([np.array(shuffle_mice)[train_mice],always_train_mice])\n",
    "    kf_val_mice = np.array(shuffle_mice)[val_mice]\n",
    "    \n",
    "    overlap_train_mice_list.append([mouse for mouse in np.unique(kf_train_mice) if mouse in overlap_mice])\n",
    "    overlap_val_mice_list.append([mouse for mouse in np.unique(kf_val_mice) if mouse in overlap_mice])\n",
    "    train_mask = np.array([1 if mouse in kf_train_mice else 0 for mouse in flx_y_mouse_kf])\n",
    "    val_mask = 1-train_mask\n",
    "    \n",
    "    fold_dict = {\n",
    "        \"X_train\":flx_X_kf[train_mask==1],\n",
    "        \"y_train\":flx_y_kf[train_mask==1],\n",
    "        \"y_mouse_train\":flx_y_mouse_kf[train_mask==1],\n",
    "        \"y_time_train\":flx_y_time_kf[train_mask==1],\n",
    "        \n",
    "        \"X_val\":flx_X_kf[val_mask==1],\n",
    "        \"y_val\":flx_y_kf[val_mask==1],\n",
    "        \"y_mouse_val\":flx_y_mouse_kf[val_mask==1],\n",
    "        \"y_time_val\":flx_y_time_kf[val_mask==1]\n",
    "    }\n",
    "    \n",
    "    with open(\"/work/mk423/Anxiety/flx_kf_dict_fold_{}.pkl\".format(i+1),\"wb\") as f:\n",
    "        pickle.dump(fold_dict,f)\n"
   ]
  },
  {
   "cell_type": "code",
   "execution_count": 4,
   "id": "14159254-f0d6-45fe-869f-e0be6e1bbaca",
   "metadata": {},
   "outputs": [
    {
     "data": {
      "text/plain": [
       "[['Mouse3194', 'Mouse3203'],\n",
       " ['Mouse3191', 'Mouse3192', 'Mouse3193'],\n",
       " ['Mouse3191', 'Mouse3192', 'Mouse3193', 'Mouse3194', 'Mouse3203'],\n",
       " ['Mouse3191', 'Mouse3192', 'Mouse3193', 'Mouse3194', 'Mouse3203']]"
      ]
     },
     "execution_count": 4,
     "metadata": {},
     "output_type": "execute_result"
    }
   ],
   "source": [
    "overlap_train_mice_list"
   ]
  },
  {
   "cell_type": "code",
   "execution_count": 5,
   "id": "5e4dec30-dd90-4f16-b58b-5abc2e7ac2bc",
   "metadata": {},
   "outputs": [
    {
     "data": {
      "text/plain": [
       "[['Mouse3191', 'Mouse3192', 'Mouse3193'], ['Mouse3194', 'Mouse3203'], [], []]"
      ]
     },
     "execution_count": 5,
     "metadata": {},
     "output_type": "execute_result"
    }
   ],
   "source": [
    "overlap_val_mice_list"
   ]
  },
  {
   "cell_type": "code",
   "execution_count": 6,
   "id": "bba61883-ec26-4ea6-ab18-7cd29eae3aab",
   "metadata": {},
   "outputs": [],
   "source": [
    "with open(oft_data_path.format(\"train\"),'rb') as f:\n",
    "    train_dict = pickle.load(f)\n",
    "\n",
    "with open(oft_data_path.format(\"validation\"),'rb') as f:\n",
    "    val_dict = pickle.load(f)\n",
    "    \n",
    "with open(oft_data_path.format(\"test\"),'rb') as f:\n",
    "    test_dict = pickle.load(f)\n",
    "    \n",
    "\n",
    "running_idx = 0\n",
    "feature_groups = []\n",
    "for idx,feature in enumerate(old_feature_list):\n",
    "    f_begin = running_idx\n",
    "    f_end = f_begin + train_dict[feature].shape[1] \n",
    "    if idx == 0:\n",
    "        f_end = f_end -1\n",
    "    feature_groups.append((f_begin,f_end))\n",
    "\n",
    "    running_idx = f_end\n",
    "\n",
    "NUM_FREQS = 56\n",
    "NUM_FEATURES = np.hstack([train_dict[feature] for feature in old_feature_list]).shape[1] // NUM_FREQS\n",
    "scale_vector = np.array([np.arange(1,NUM_FREQS+1) for feature in range(NUM_FEATURES)]).flatten()\n",
    "\n",
    "#Train Arrays\n",
    "oft_X_train = np.hstack([train_dict[feature]*weight for feature,weight in zip(old_feature_list,feature_weights)])\n",
    "oft_y_hc_train = train_dict['y_Homecage'].astype(bool)\n",
    "oft_y_task_train = ~oft_y_hc_train\n",
    "oft_y_ROI_train = train_dict['y_ROI']\n",
    "oft_y_vel_train = train_dict['y_vel']\n",
    "oft_y_mouse_train = train_dict['y_mouse']\n",
    "oft_y_time_train = train_dict['y_time']\n",
    "\n",
    "#Validation Arrays\n",
    "oft_X_val = np.hstack([val_dict[feature]*weight for feature,weight in zip(old_feature_list,feature_weights)])\n",
    "oft_y_hc_val = val_dict['y_Homecage'].astype(bool)\n",
    "oft_y_task_val = ~oft_y_hc_val\n",
    "oft_y_ROI_val = val_dict['y_ROI']\n",
    "oft_y_vel_val = val_dict['y_vel']\n",
    "oft_y_mouse_val = val_dict['y_mouse']\n",
    "oft_y_time_val = val_dict['y_time']\n",
    "\n",
    "#Test Arrays\n",
    "oft_X_test = np.hstack([test_dict[feature]*weight for feature,weight in zip(old_feature_list,feature_weights)])\n",
    "oft_y_hc_test = test_dict['y_Homecage'].astype(bool)\n",
    "oft_y_task_test = ~oft_y_hc_test\n",
    "oft_y_ROI_test = test_dict['y_ROI']\n",
    "oft_y_vel_test = test_dict['y_vel']\n",
    "oft_y_mouse_test = test_dict['y_mouse']\n",
    "oft_y_time_test = test_dict['y_time']\n",
    "\n",
    "oft_X = np.vstack([oft_X_train,oft_X_val])\n",
    "oft_y_task = np.hstack([oft_y_task_train,oft_y_task_val])\n",
    "oft_y_mouse = np.hstack([oft_y_mouse_train,oft_y_mouse_val])"
   ]
  },
  {
   "cell_type": "code",
   "execution_count": 7,
   "id": "6aee8759-d154-4a85-a8e1-ba398a5ca593",
   "metadata": {},
   "outputs": [
    {
     "name": "stdout",
     "output_type": "stream",
     "text": [
      "['Mouse04191' 'Mouse04201' 'Mouse04202' 'Mouse04205' 'Mouse04215'\n",
      " 'Mouse3191' 'Mouse3192' 'Mouse3193' 'Mouse3194' 'Mouse3203' 'Mouse39114'\n",
      " 'Mouse39124' 'Mouse39133' 'Mouse69064' 'Mouse69072' 'Mouse69074']\n",
      "['Mouse04193' 'Mouse39125' 'Mouse69065']\n"
     ]
    }
   ],
   "source": [
    "print(np.unique(oft_y_mouse_train))\n",
    "print(np.unique(oft_y_mouse_val))"
   ]
  },
  {
   "cell_type": "code",
   "execution_count": 8,
   "id": "a928256f-dc37-43df-b178-b587b1494a4d",
   "metadata": {},
   "outputs": [],
   "source": [
    "default_train_mice = []\n",
    "for mouse in np.unique(oft_y_mouse):\n",
    "    mouse_mask = (oft_y_mouse==mouse)\n",
    "    \n",
    "    if len(np.unique(oft_y_task[mouse_mask==1])) < 2:\n",
    "        default_train_mice.append(mouse)"
   ]
  },
  {
   "cell_type": "code",
   "execution_count": 9,
   "id": "4d0bdcec-17d6-471d-b585-e4f494d203af",
   "metadata": {},
   "outputs": [
    {
     "data": {
      "text/plain": [
       "['Mouse04215', 'Mouse3192', 'Mouse3194', 'Mouse3203']"
      ]
     },
     "execution_count": 9,
     "metadata": {},
     "output_type": "execute_result"
    }
   ],
   "source": [
    "default_train_mice"
   ]
  },
  {
   "cell_type": "code",
   "execution_count": 12,
   "id": "30974574-0afc-497b-93f2-cad44a8bc526",
   "metadata": {},
   "outputs": [
    {
     "name": "stdout",
     "output_type": "stream",
     "text": [
      "['Mouse04205' 'Mouse3191' 'Mouse3193' 'Mouse39114' 'Mouse39124'\n",
      " 'Mouse39125' 'Mouse39133' 'Mouse69064' 'Mouse69065' 'Mouse69072'\n",
      " 'Mouse69074' 'Mouse04215' 'Mouse3192' 'Mouse3194' 'Mouse3203'] ['Mouse04191' 'Mouse04193' 'Mouse04201' 'Mouse04202']\n",
      "['Mouse3194', 'Mouse3203'] ['Mouse3191', 'Mouse3192', 'Mouse3193']\n",
      "Clean train: ['Mouse04205', 'Mouse39114', 'Mouse39124', 'Mouse39125', 'Mouse39133', 'Mouse69064', 'Mouse69065', 'Mouse69072', 'Mouse69074'], Clean Val: ['Mouse04191', 'Mouse04193', 'Mouse04201', 'Mouse04202']\n",
      "Swap train: ['Mouse3191', 'Mouse3193', 'Mouse3192'], Swap Val: []\n",
      "Clean Swap Train: [], Clean Swap Val: ['Mouse04201', 'Mouse04202', 'Mouse04191']\n",
      "swapping\n",
      "Train in Val: [], Val in Train: []\n",
      "['Mouse04191' 'Mouse04193' 'Mouse04201' 'Mouse04202' 'Mouse39124'\n",
      " 'Mouse39125' 'Mouse39133' 'Mouse69064' 'Mouse69065' 'Mouse69072'\n",
      " 'Mouse69074' 'Mouse04215' 'Mouse3192' 'Mouse3194' 'Mouse3203'] ['Mouse04205' 'Mouse3191' 'Mouse3193' 'Mouse39114']\n",
      "['Mouse3191', 'Mouse3192', 'Mouse3193'] ['Mouse3194', 'Mouse3203']\n",
      "Clean train: ['Mouse04191', 'Mouse04193', 'Mouse04201', 'Mouse04202', 'Mouse39124', 'Mouse39125', 'Mouse39133', 'Mouse69064', 'Mouse69065', 'Mouse69072', 'Mouse69074'], Clean Val: ['Mouse04205', 'Mouse39114']\n",
      "Swap train: ['Mouse3194', 'Mouse3203'], Swap Val: ['Mouse3191', 'Mouse3193']\n",
      "Clean Swap Train: ['Mouse69064', 'Mouse39133'], Clean Swap Val: ['Mouse39114', 'Mouse04205']\n",
      "swapping\n",
      "Train in Val: [], Val in Train: []\n",
      "['Mouse04191' 'Mouse04193' 'Mouse04201' 'Mouse04202' 'Mouse04205'\n",
      " 'Mouse3191' 'Mouse3193' 'Mouse39114' 'Mouse69065' 'Mouse69072'\n",
      " 'Mouse69074' 'Mouse04215' 'Mouse3192' 'Mouse3194' 'Mouse3203'] ['Mouse39124' 'Mouse39125' 'Mouse39133' 'Mouse69064']\n",
      "['Mouse3191', 'Mouse3192', 'Mouse3193', 'Mouse3194', 'Mouse3203'] []\n",
      "['Mouse04191' 'Mouse04193' 'Mouse04201' 'Mouse04202' 'Mouse04205'\n",
      " 'Mouse3191' 'Mouse3193' 'Mouse39114' 'Mouse39124' 'Mouse39125'\n",
      " 'Mouse39133' 'Mouse69064' 'Mouse04215' 'Mouse3192' 'Mouse3194'\n",
      " 'Mouse3203'] ['Mouse69065' 'Mouse69072' 'Mouse69074']\n",
      "['Mouse3191', 'Mouse3192', 'Mouse3193', 'Mouse3194', 'Mouse3203'] []\n"
     ]
    }
   ],
   "source": [
    "kf_mice = np.unique(oft_y_mouse)\n",
    "\n",
    "kf_mice = np.array([mouse for mouse in np.unique(oft_y_mouse) if mouse not in default_train_mice])\n",
    "\n",
    "for i, (train_idxs,val_idxs) in enumerate(kf.split(kf_mice)):\n",
    "    \n",
    "    flx_fold_train_mice = overlap_train_mice_list[i]\n",
    "    flx_fold_val_mice = overlap_val_mice_list[i]\n",
    "    \n",
    "    kf_train_mice = np.hstack([kf_mice[train_idxs],default_train_mice])\n",
    "    kf_val_mice = kf_mice[val_idxs]\n",
    "    print(kf_train_mice,kf_val_mice)\n",
    "    print(flx_fold_train_mice,flx_fold_val_mice)\n",
    "    \n",
    "    if (len(np.intersect1d(flx_fold_train_mice,kf_train_mice)) != len(flx_fold_train_mice)) or (len(np.intersect1d(flx_fold_val_mice,kf_val_mice)) != len(flx_fold_val_mice)):\n",
    "        \n",
    "        kf_clean_train_mice = [mouse for mouse in kf_train_mice if mouse not in np.union1d(default_train_mice,np.union1d(flx_fold_train_mice,flx_fold_val_mice))]\n",
    "        kf_clean_val_mice = [mouse for mouse in kf_val_mice if mouse not in np.union1d(default_train_mice,np.union1d(flx_fold_train_mice,flx_fold_val_mice))]\n",
    "        \n",
    "        kf_train_to_val = [mouse for mouse in kf_train_mice if mouse in flx_fold_val_mice]\n",
    "        kf_val_to_train = [mouse for mouse in kf_val_mice if mouse in flx_fold_train_mice]\n",
    "        \n",
    "        kf_clean_train_to_val = list(np.random.choice(kf_clean_train_mice,size=len(kf_val_to_train),replace=False))\n",
    "        kf_clean_val_to_train = list(np.random.choice(kf_clean_val_mice,size=len(kf_train_to_val),replace=False))\n",
    "        \n",
    "        kf_stay_train = [mouse for mouse in kf_clean_train_mice if mouse not in kf_clean_train_to_val]\n",
    "        kf_stay_val = [mouse for mouse in kf_clean_val_mice if mouse not in kf_clean_val_to_train]\n",
    "        \n",
    "        kf_train_mice = np.hstack((kf_stay_train,kf_clean_val_to_train,kf_val_to_train))\n",
    "        kf_val_mice = np.hstack((kf_stay_val,kf_clean_train_to_val,kf_train_to_val))\n",
    "        \n",
    "        print(\"Clean train: {}, Clean Val: {}\".format(kf_clean_train_mice,kf_clean_val_mice))\n",
    "        print(\"Swap train: {}, Swap Val: {}\".format(kf_train_to_val,kf_val_to_train))\n",
    "        print(\"Clean Swap Train: {}, Clean Swap Val: {}\".format(kf_clean_train_to_val,kf_clean_val_to_train))\n",
    "        print(\"swapping\")\n",
    "        print(\"Train in Val: {}, Val in Train: {}\".format(np.intersect1d(kf_train_mice,flx_fold_val_mice),np.intersect1d(kf_val_mice,flx_fold_train_mice)))\n",
    "\n",
    "    train_mask = np.array([1 if mouse in kf_train_mice else 0 for mouse in oft_y_mouse])\n",
    "    val_mask = 1 - train_mask\n",
    "    \n",
    "    fold_dict = {\n",
    "        \"X_train\":oft_X[train_mask==1],\n",
    "        \"y_train\":oft_y_task[train_mask==1],\n",
    "        \"y_mouse_train\":oft_y_mouse[train_mask==1],\n",
    "        \n",
    "        \"X_val\":oft_X[val_mask==1],\n",
    "        \"y_val\":oft_y_task[val_mask==1],\n",
    "        \"y_mouse_val\":oft_y_mouse[val_mask==1],\n",
    "    }\n",
    "\n",
    "    with open(\"/work/mk423/Anxiety/oft_kf_dict_fold_{}.pkl\".format(i+1),\"wb\") as f:\n",
    "        pickle.dump(fold_dict,f)"
   ]
  },
  {
   "cell_type": "code",
   "execution_count": 42,
   "id": "d3e79d78-5172-4f05-818b-684780b6af74",
   "metadata": {},
   "outputs": [
    {
     "data": {
      "text/plain": [
       "<function numpy.union1d(ar1, ar2)>"
      ]
     },
     "execution_count": 42,
     "metadata": {},
     "output_type": "execute_result"
    }
   ],
   "source": [
    "np.union1d"
   ]
  },
  {
   "cell_type": "code",
   "execution_count": 15,
   "id": "46c40712-929d-4f75-8be6-8943525dddd0",
   "metadata": {},
   "outputs": [],
   "source": [
    "with open(epm_data_path.format(\"train\"),\"rb\") as f:\n",
    "    epm_train_dict = pickle.load(f)\n",
    "\n",
    "with open(epm_data_path.format(\"val\"),\"rb\") as f:\n",
    "    epm_validation_dict = pickle.load(f)\n",
    "    \n",
    "with open(epm_data_path.format(\"test\"),\"rb\") as f:\n",
    "    epm_test_dict = pickle.load(f)\n",
    "\n",
    "#Load the data\n",
    "NUM_FREQS = 56\n",
    "NUM_FEATURES = (epm_train_dict[\"X_power_1_2\"].shape[1] + \\\n",
    "                epm_train_dict[\"X_coh_1_2\"].shape[1] + \\\n",
    "                epm_train_dict[\"X_gc_1_2\"].shape[1]) // NUM_FREQS\n",
    "SCALE_VECTOR = np.array([np.arange(1,57) for feature in range(NUM_FEATURES)]).flatten()\n",
    "\n",
    "X_train = np.hstack([epm_train_dict[feature]*weight for feature,weight in zip(old_feature_list,feature_weights)])\n",
    "X_train[X_train<0] = 0\n",
    "y_train = (epm_train_dict['y_ROI']%2).astype(bool)\n",
    "y_in_task_mask_train = ~epm_train_dict['y_Homecage'].astype(bool)\n",
    "y_mouse_train = epm_train_dict['y_mouse']\n",
    "y_time_train = epm_train_dict['y_time']\n",
    "train_nan_mask = (epm_train_dict['y_ROI'] > 0)\n",
    "\n",
    "\n",
    "X_train_task = X_train[np.logical_and(y_in_task_mask_train==1,train_nan_mask)==1]\n",
    "y_train_task = y_train[np.logical_and(y_in_task_mask_train==1,train_nan_mask)==1]\n",
    "y_mouse_train_task = y_mouse_train[np.logical_and(y_in_task_mask_train==1,train_nan_mask)==1]\n",
    "y_time_train_task = y_time_train[np.logical_and(y_in_task_mask_train==1,train_nan_mask)==1]\n",
    "X_val = np.hstack([epm_validation_dict[feature]*weight for feature,weight in zip(old_feature_list,feature_weights)])\n",
    "\n",
    "\n",
    "y_val = (epm_validation_dict['y_ROI']%2).astype(bool)\n",
    "y_in_task_mask_val= ~epm_validation_dict['y_Homecage'].astype(bool)\n",
    "y_mouse_val = epm_validation_dict['y_mouse']\n",
    "y_time_val = epm_validation_dict['y_time']\n",
    "val_nan_mask = (epm_validation_dict['y_ROI'] > 0)\n",
    "\n",
    "X_val_task = X_val[np.logical_and(y_in_task_mask_val==1,val_nan_mask)==1]\n",
    "y_val_task = y_val[np.logical_and(y_in_task_mask_val==1,val_nan_mask)==1]\n",
    "y_mouse_val_task = y_mouse_val[np.logical_and(y_in_task_mask_val==1,val_nan_mask)==1]\n",
    "y_time_val_task = y_time_val[np.logical_and(y_in_task_mask_val==1,val_nan_mask)==1]\n",
    "\n",
    "X_test = np.hstack([epm_test_dict[feature]*weight for feature,weight in zip(old_feature_list,feature_weights)])\n",
    "y_test = (epm_test_dict['y_ROI']%2).astype(bool)\n",
    "y_in_task_mask_test= ~epm_test_dict['y_Homecage'].astype(bool)\n",
    "y_mouse_test = epm_test_dict['y_mouse']\n",
    "y_time_test = epm_test_dict['y_time']\n",
    "test_nan_mask = (epm_test_dict['y_ROI'] > 0)\n",
    "\n",
    "X_test_task = X_test[np.logical_and(y_in_task_mask_test==1,test_nan_mask)==1]\n",
    "y_test_task = y_test[np.logical_and(y_in_task_mask_test==1,test_nan_mask)==1]\n",
    "y_mouse_test_task = y_mouse_test[np.logical_and(y_in_task_mask_test==1,test_nan_mask)==1]\n",
    "y_time_test_task = y_time_test[np.logical_and(y_in_task_mask_test==1,test_nan_mask)==1]\n",
    "\n",
    "epm_X = np.vstack([X_train,X_val])\n",
    "epm_y_task = np.hstack([y_in_task_mask_train,y_in_task_mask_val])\n",
    "epm_y_mouse = np.hstack([y_mouse_train,y_mouse_val])\n",
    "epm_y_time = np.hstack([y_time_train,y_time_val])\n"
   ]
  },
  {
   "cell_type": "code",
   "execution_count": 11,
   "id": "ea46fa0e-cda9-48b7-ac76-8f7d39ba1046",
   "metadata": {},
   "outputs": [
    {
     "data": {
      "text/plain": [
       "array([1, 2, 3, 4, 5], dtype=int32)"
      ]
     },
     "execution_count": 11,
     "metadata": {},
     "output_type": "execute_result"
    }
   ],
   "source": [
    "np.unique(epm_train_dict['y_ROI'][epm_train_dict['y_ROI'] >=0])"
   ]
  },
  {
   "cell_type": "code",
   "execution_count": 9,
   "id": "d4ff7daa-78f8-4acc-bc89-4410a499b8d5",
   "metadata": {},
   "outputs": [
    {
     "data": {
      "text/plain": [
       "(array([  884.,     0.,     0.,     0.,     0.,     0.,     0.,     0.,\n",
       "            0., 11564.]),\n",
       " array([-2.14748365e+09, -1.93273528e+09, -1.71798692e+09, -1.50323855e+09,\n",
       "        -1.28849019e+09, -1.07374182e+09, -8.58993456e+08, -6.44245091e+08,\n",
       "        -4.29496726e+08, -2.14748360e+08,  5.00000000e+00]),\n",
       " <BarContainer object of 10 artists>)"
      ]
     },
     "execution_count": 9,
     "metadata": {},
     "output_type": "execute_result"
    },
    {
     "data": {
      "image/png": "[encoded data removed]",
      "text/plain": [
       "<Figure size 432x288 with 1 Axes>"
      ]
     },
     "metadata": {
      "needs_background": "light"
     },
     "output_type": "display_data"
    }
   ],
   "source": [
    "import matplotlib.pyplot as plt\n",
    "\n",
    "epm_train_dict['y_ROI'] >"
   ]
  },
  {
   "cell_type": "code",
   "execution_count": 6,
   "id": "e4971305-fc0c-4c3c-a1fd-dbb966eaf517",
   "metadata": {},
   "outputs": [
    {
     "data": {
      "text/plain": [
       "(10525,)"
      ]
     },
     "execution_count": 6,
     "metadata": {},
     "output_type": "execute_result"
    }
   ],
   "source": [
    "epm_y_task.shape"
   ]
  },
  {
   "cell_type": "code",
   "execution_count": 44,
   "id": "1947f8bb-1168-4fd0-a578-f20028a7a045",
   "metadata": {},
   "outputs": [
    {
     "name": "stdout",
     "output_type": "stream",
     "text": [
      "['Mouse04201' 'Mouse04202' 'Mouse04205' 'Mouse04215' 'Mouse0630'\n",
      " 'Mouse0634' 'Mouse0643' 'Mouse1551' 'Mouse39114' 'Mouse39124'\n",
      " 'Mouse39133' 'Mouse6291' 'Mouse6292' 'Mouse6293' 'Mouse69064'\n",
      " 'Mouse69074' 'Mouse8580' 'Mouse8581' 'Mouse8582' 'Mouse8891' 'Mouse8894']\n",
      "['Mouse04193' 'Mouse0633' 'Mouse0642' 'Mouse39125' 'Mouse69065']\n",
      "['Mouse0641' 'Mouse39115' 'Mouse39121' 'Mouse39122' 'Mouse39132'\n",
      " 'Mouse39135' 'Mouse6674' 'Mouse69061' 'Mouse69071' 'Mouse69075'\n",
      " 'Mouse8893']\n"
     ]
    }
   ],
   "source": [
    "print(np.unique(y_mouse_train))\n",
    "print(np.unique(y_mouse_val))\n",
    "print(np.unique(y_mouse_test))"
   ]
  },
  {
   "cell_type": "code",
   "execution_count": 19,
   "id": "ff8e0863-33dd-4b60-bf3d-e760dd3bc21e",
   "metadata": {},
   "outputs": [],
   "source": [
    "kf_mice = np.unique(epm_y_mouse)\n",
    "for i, (train_idxs,val_idxs) in enumerate(kf.split(kf_mice)):\n",
    "    kf_train_mice = kf_mice[train_idxs]\n",
    "    kf_val_mice = kf_mice[val_idxs]\n",
    "    \n",
    "    train_mask = np.array([1 if mouse in kf_train_mice else 0 for mouse in epm_y_mouse])\n",
    "    val_mask = 1 - train_mask\n",
    "    \n",
    "    fold_dict = {\n",
    "        \"X_train\":epm_X[train_mask==1],\n",
    "        \"y_train\":epm_y_task[train_mask==1],\n",
    "        \"y_mouse_train\":epm_y_mouse[train_mask==1],\n",
    "        \n",
    "        \"X_val\":epm_X[val_mask==1],\n",
    "        \"y_val\":epm_y_task[val_mask==1],\n",
    "        \"y_mouse_val\":epm_y_mouse[val_mask==1],\n",
    "    }\n",
    "    \n",
    "    with open(\"/work/mk423/Anxiety/epm_kf_dict_fold_{}.pkl\".format(i+1),\"wb\") as f:\n",
    "        pickle.dump(fold_dict,f)"
   ]
  },
  {
   "cell_type": "code",
   "execution_count": 12,
   "id": "d5529fa4-847f-45ce-8167-e3ac38d2e59d",
   "metadata": {},
   "outputs": [
    {
     "data": {
      "text/plain": [
       "0.7659865038560412"
      ]
     },
     "execution_count": 12,
     "metadata": {},
     "output_type": "execute_result"
    }
   ],
   "source": [
    "np.sum(y_train)/len(y_train)"
   ]
  },
  {
   "cell_type": "code",
   "execution_count": 13,
   "id": "4970a2d2-4300-488c-9b77-2da2f1cd6997",
   "metadata": {},
   "outputs": [
    {
     "data": {
      "text/plain": [
       "0.6744858611825193"
      ]
     },
     "execution_count": 13,
     "metadata": {},
     "output_type": "execute_result"
    }
   ],
   "source": [
    "np.sum(y_in_task_mask_train)/len(y_in_task_mask_train)"
   ]
  },
  {
   "cell_type": "code",
   "execution_count": null,
   "id": "3f65e96c-10e2-43df-9f38-f4e55324f839",
   "metadata": {},
   "outputs": [],
   "source": []
  }
 ],
 "metadata": {
  "kernelspec": {
   "display_name": "Python 3 (ipykernel)",
   "language": "python",
   "name": "python3"
  },
  "language_info": {
   "codemirror_mode": {
    "name": "ipython",
    "version": 3
   },
   "file_extension": ".py",
   "mimetype": "text/x-python",
   "name": "python",
   "nbconvert_exporter": "python",
   "pygments_lexer": "ipython3",
   "version": "3.7.13"
  }
 },
 "nbformat": 4,
 "nbformat_minor": 5
}

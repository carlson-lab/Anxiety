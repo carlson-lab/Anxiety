{
 "cells": [
  {
   "cell_type": "code",
   "execution_count": 1,
   "id": "8bfc7be0-6726-4604-9daa-1629d81119dc",
   "metadata": {},
   "outputs": [],
   "source": [
    "LPNE_PATH = \"./lpne-data-analysis/\"\n",
    "DATA_PATH = \"/work/mk423/CLOCK_Apr_2024/\"\n",
    "LABELS_PATH = DATA_PATH + \"labels/\"\n",
    "SAVE_FILE = \"/work/mk423/CLOCK_Apr_2024/C19_EPM_Apr_2024_Data.pkl\"\n",
    "FEATURE_LIST = [\"power\",\"coherence\",\"granger\"]\n",
    "import os, sys\n",
    "sys.path.append(LPNE_PATH)\n",
    "import numpy as np\n",
    "import pandas as pd\n",
    "import pickle\n",
    "import data_tools"
   ]
  },
  {
   "cell_type": "code",
   "execution_count": 2,
   "id": "37bea549-95bd-47e0-b916-b0dd0def518e",
   "metadata": {},
   "outputs": [
    {
     "name": "stdout",
     "output_type": "stream",
     "text": [
      "version saveFeatures_1.2 used to calcuate power features\n",
      "version saveFeatures_1.2 used to calcuate coherence features\n",
      "version saveFeatures_1.2 used to calcuate granger features\n",
      "Version preprocessData_1.0 of preprocessing used\n",
      "Make sure feature versions listed above match those used for any other dataset in the same project\n"
     ]
    },
    {
     "name": "stderr",
     "output_type": "stream",
     "text": [
      "./lpne-data-analysis/data_tools.py:144: UserWarning: Raw Granger causality values loaded; if you want exponentiated or capped features, you must do that yourself\n",
      "  warnings.warn(\"Raw Granger causality values loaded; if you want exponentiated or capped features, you must do that yourself\")\n"
     ]
    }
   ],
   "source": [
    "X_psd, X_coh, X_gc, labels = data_tools.load_data(DATA_PATH + \"CLOCK_Apr_2024.mat\", feature_list = [\"power\",\"coherence\",\"granger\"])"
   ]
  },
  {
   "cell_type": "code",
   "execution_count": 3,
   "id": "4020ee57-58d1-4a15-a2c1-6bb0cb2e8e3a",
   "metadata": {},
   "outputs": [],
   "source": [
    "y_mouse_aw = np.array(labels['allWindows']['mouse'])\n",
    "y_time_aw = np.array(labels['allWindows']['time'])\n",
    "y_expDate_aw = np.array(labels['allWindows']['expDate'])\n",
    "y_roi_aw = np.zeros(y_expDate_aw.shape) *np.nan\n",
    "y_hc_aw = np.zeros(y_expDate_aw.shape)*np.nan\n",
    "\n",
    "y_mouse_w = np.array(labels['windows']['mouse'])\n",
    "y_time_w = np.array(labels['windows']['time'])\n",
    "y_expDate_w = np.array(labels['windows']['expDate'])\n",
    "y_roi_w = np.zeros(y_expDate_w.shape) *np.nan\n",
    "y_hc_w = np.zeros(y_expDate_w.shape)*np.nan\n"
   ]
  },
  {
   "cell_type": "code",
   "execution_count": 5,
   "id": "03afa014-e9c2-49ee-b096-aa10fd7e3c6e",
   "metadata": {},
   "outputs": [
    {
     "name": "stdout",
     "output_type": "stream",
     "text": [
      "340.0\n",
      "788 (788,)\n",
      "(array([1, 2, 3, 4, 5]), array([125,  10, 278,  30, 345]))\n",
      "323.0\n",
      "668 (668,)\n",
      "(array([1, 2, 3, 4, 5]), array([161,   2, 150,  26, 329]))\n"
     ]
    }
   ],
   "source": [
    "behavior_files = os.listdir(LABELS_PATH)\n",
    "mouse_start_times = {}\n",
    "\n",
    "for file in behavior_files:\n",
    "    df = pd.read_excel(LABELS_PATH + file)\n",
    "    start_time = df.StartTime[0]\n",
    "    video_end = df.Zone.shape[0]\n",
    "    \n",
    "    mouse, date = file.split('_')[:2]\n",
    "    mouse_mask = y_mouse_aw == mouse\n",
    "    expDate_mask = y_expDate_aw == date\n",
    "    time_mask = np.logical_and(y_time_aw >= start_time, y_time_aw < start_time + video_end)\n",
    "    mouse_start_times[mouse] = start_time\n",
    "\n",
    "    hc_mask = y_time_aw < start_time\n",
    "    aw_mask = np.logical_and(time_mask,mouse_mask)\n",
    "    \n",
    "    y_roi_aw[aw_mask==1] = df.Zone.values\n",
    "    y_hc_aw[mouse_mask==1] = hc_mask[mouse_mask==1]\n",
    "    \n",
    "    #filter windows\n",
    "    mouse_mask_w = y_mouse_w==mouse\n",
    "    time_idxs = y_time_w[mouse_mask_w==1] - 1\n",
    "    mouse_y_roi_aw = y_roi_aw[mouse_mask==1]\n",
    "    mouse_y_hc_aw = y_hc_aw[mouse_mask==1]\n",
    "    \n",
    "    y_roi_w[mouse_mask_w==1] = mouse_y_roi_aw[time_idxs]\n",
    "    y_hc_w[mouse_mask_w==1] = mouse_y_hc_aw[time_idxs]\n",
    "    print(start_time)\n",
    "    print(np.sum(np.logical_and(time_mask,mouse_mask)),df.Zone.shape)\n",
    "    print(np.unique(df.Zone,return_counts=True))"
   ]
  },
  {
   "cell_type": "code",
   "execution_count": 95,
   "id": "17e89976-b342-4f8a-b8e5-5cd28129ff54",
   "metadata": {},
   "outputs": [],
   "source": [
    "save_dict  = {\n",
    "    \"X\" :np.hstack([X_psd*10,X_coh,X_gc]),\n",
    "    \"X_psd\":X_psd,\n",
    "    \"X_coh\":X_coh,\n",
    "    \"X_gc\":X_gc,\n",
    "    \"y_mouse\":y_mouse_w,\n",
    "    \"y_expDate\":y_expDate_w,\n",
    "    \"y_time\":y_time_w,\n",
    "    \"y_roi\":y_roi_w,\n",
    "    \"y_hc\":y_hc_w\n",
    "}\n",
    "\n",
    "#with open(SAVE_FILE,\"wb\") as f:\n",
    "#    pickle.dump(save_dict,f)"
   ]
  },
  {
   "cell_type": "code",
   "execution_count": 5,
   "id": "1cf79889-985a-4361-9341-646b15ae24fa",
   "metadata": {},
   "outputs": [
    {
     "data": {
      "text/plain": [
       "0      3\n",
       "1      3\n",
       "2      3\n",
       "3      3\n",
       "4      3\n",
       "      ..\n",
       "663    5\n",
       "664    5\n",
       "665    5\n",
       "666    5\n",
       "667    5\n",
       "Name: Zone, Length: 668, dtype: int64"
      ]
     },
     "execution_count": 5,
     "metadata": {},
     "output_type": "execute_result"
    }
   ],
   "source": [
    "df.Zone"
   ]
  },
  {
   "cell_type": "markdown",
   "id": "861826a9-5541-4b0e-bccf-49873ccbee58",
   "metadata": {},
   "source": [
    "### Behavior"
   ]
  },
  {
   "cell_type": "code",
   "execution_count": 6,
   "id": "094a84b9-054b-4eab-b0bc-3d51aaa37def",
   "metadata": {},
   "outputs": [
    {
     "name": "stdout",
     "output_type": "stream",
     "text": [
      "Mouse67151 [52, 2, 71, 21, 154, 0]\n",
      "Mouse67152 [59, 7, 100, 25, 109, 0]\n"
     ]
    }
   ],
   "source": [
    "mouse_list = []\n",
    "counts_list = []\n",
    "all_rois = np.array([1.,2.,3.,4.,5.,np.nan])\n",
    "for mouse in np.unique(y_mouse_aw):\n",
    "    mouse_list.append(mouse)\n",
    "    mouse_mask = y_mouse_aw==mouse\n",
    "    time_mask = np.logical_and(y_time_aw >= mouse_start_times[mouse],\n",
    "                               y_time_aw < mouse_start_times[mouse] + 300)\n",
    "    \n",
    "    mask = np.logical_and(mouse_mask,time_mask)\n",
    "    \n",
    "    temp_rois, temp_counts = np.unique(y_roi_aw[mask==1],return_counts=True)\n",
    "    \n",
    "    temp_second_rois = [temp_counts[i-1] if i in temp_rois else 0 for i in range(1,6)]\n",
    "    if np.isnan(temp_rois[-1]): \n",
    "        temp_second_rois.append(temp_counts[-1])\n",
    "    else:\n",
    "        temp_second_rois.append(0)\n",
    "    \n",
    "    counts_list.append(temp_second_rois)\n",
    "    print(mouse, temp_second_rois)"
   ]
  },
  {
   "cell_type": "code",
   "execution_count": 7,
   "id": "4ff4b490-cb09-4ac6-8537-19ebb74acb09",
   "metadata": {},
   "outputs": [],
   "source": [
    "roi_matrix = np.vstack(counts_list)\n",
    "closed_arm_times = roi_matrix[:,0] + roi_matrix[:,2]\n",
    "open_arm_times = roi_matrix[:,1] + roi_matrix[:,3]\n",
    "center_times = roi_matrix[:,4]\n",
    "nan_times = roi_matrix[:,5]\n",
    "\n",
    "df_behavior = pd.DataFrame.from_dict({\"mouse\":mouse_list,\n",
    "                                      \"closed_arm_time\":closed_arm_times,\n",
    "                                      \"open_arm_time\":open_arm_times,\n",
    "                                      \"center_time\":center_times,\n",
    "                                      \"nan_time\":nan_times})"
   ]
  },
  {
   "cell_type": "code",
   "execution_count": 8,
   "id": "25121861-1542-428d-80f4-160b342a0fbe",
   "metadata": {},
   "outputs": [
    {
     "data": {
      "text/html": [
       "<div>\n",
       "<style scoped>\n",
       "    .dataframe tbody tr th:only-of-type {\n",
       "        vertical-align: middle;\n",
       "    }\n",
       "\n",
       "    .dataframe tbody tr th {\n",
       "        vertical-align: top;\n",
       "    }\n",
       "\n",
       "    .dataframe thead th {\n",
       "        text-align: right;\n",
       "    }\n",
       "</style>\n",
       "<table border=\"1\" class=\"dataframe\">\n",
       "  <thead>\n",
       "    <tr style=\"text-align: right;\">\n",
       "      <th></th>\n",
       "      <th>mouse</th>\n",
       "      <th>closed_arm_time</th>\n",
       "      <th>open_arm_time</th>\n",
       "      <th>center_time</th>\n",
       "      <th>nan_time</th>\n",
       "    </tr>\n",
       "  </thead>\n",
       "  <tbody>\n",
       "    <tr>\n",
       "      <th>0</th>\n",
       "      <td>Mouse67151</td>\n",
       "      <td>123</td>\n",
       "      <td>23</td>\n",
       "      <td>154</td>\n",
       "      <td>0</td>\n",
       "    </tr>\n",
       "    <tr>\n",
       "      <th>1</th>\n",
       "      <td>Mouse67152</td>\n",
       "      <td>159</td>\n",
       "      <td>32</td>\n",
       "      <td>109</td>\n",
       "      <td>0</td>\n",
       "    </tr>\n",
       "  </tbody>\n",
       "</table>\n",
       "</div>"
      ],
      "text/plain": [
       "        mouse  closed_arm_time  open_arm_time  center_time  nan_time\n",
       "0  Mouse67151              123             23          154         0\n",
       "1  Mouse67152              159             32          109         0"
      ]
     },
     "execution_count": 8,
     "metadata": {},
     "output_type": "execute_result"
    }
   ],
   "source": [
    "df_behavior"
   ]
  },
  {
   "cell_type": "code",
   "execution_count": 9,
   "id": "87e3f133-1501-413f-9666-4cb8adfcb2a2",
   "metadata": {},
   "outputs": [],
   "source": [
    "df_behavior.to_csv(\"../Projections/Apr_2024_CLOCK_EPM_ROI_durations.csv\",index=False)"
   ]
  },
  {
   "cell_type": "code",
   "execution_count": null,
   "id": "5f5af53e-dfcc-4d06-825a-4f42dd660ed6",
   "metadata": {},
   "outputs": [],
   "source": []
  }
 ],
 "metadata": {
  "kernelspec": {
   "display_name": "Python 3 (ipykernel)",
   "language": "python",
   "name": "python3"
  },
  "language_info": {
   "codemirror_mode": {
    "name": "ipython",
    "version": 3
   },
   "file_extension": ".py",
   "mimetype": "text/x-python",
   "name": "python",
   "nbconvert_exporter": "python",
   "pygments_lexer": "ipython3",
   "version": "3.7.13"
  }
 },
 "nbformat": 4,
 "nbformat_minor": 5
}

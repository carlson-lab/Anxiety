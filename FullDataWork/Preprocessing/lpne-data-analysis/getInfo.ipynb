{
 "cells": [
  {
   "cell_type": "code",
   "execution_count": 1,
   "metadata": {},
   "outputs": [
    {
     "name": "stdout",
     "output_type": "stream",
     "text": [
      "version saveFeatures_1.2 used to calcuate power features\n",
      "version saveFeatures_1.2 used to calcuate coherence features\n",
      "version saveFeatures_1.2 used to calcuate granger features\n",
      "Version preprocessData_1.0 of preprocessing used\n",
      "Make sure feature versions listed above match those used for any other dataset in the same project\n"
     ]
    },
    {
     "name": "stderr",
     "output_type": "stream",
     "text": [
      "g:\\Anxiety_Datasets\\lpne-data-analysis\\data_tools.py:144: UserWarning: Raw Granger causality values loaded; if you want exponentiated or capped features, you must do that yourself\n",
      "  warnings.warn(\"Raw Granger causality values loaded; if you want exponentiated or capped features, you must do that yourself\")\n"
     ]
    }
   ],
   "source": [
    "import data_tools\n",
    "\n",
    "FILE = \"EPM_full_data_saveFeatures_1_2.mat\"\n",
    "\n",
    "X_psd,X_coh,X_gc,labels = data_tools.load_data(FILE,feature_list=['power','coherence','granger'])"
   ]
  },
  {
   "cell_type": "code",
   "execution_count": 5,
   "metadata": {},
   "outputs": [],
   "source": [
    "import pickle\n",
    "\n",
    "with open(\"Anx_Info_Dict.pkl\",\"wb\") as f:\n",
    "    pickle.dump(labels,f)"
   ]
  },
  {
   "cell_type": "code",
   "execution_count": 7,
   "metadata": {},
   "outputs": [
    {
     "data": {
      "text/plain": [
       "dict_keys(['channel', 'channelArea', 'allWindows', 'fsRaw', 'windowLength', 'windows', 'area', 's', 'fs', 'preprocessVersion', 'f', 'powerFeatures', 'powVersion', 'cohFeatures', 'cohVersion', 'gcFeatures', 'instFeatures', 'gcVersion'])"
      ]
     },
     "execution_count": 7,
     "metadata": {},
     "output_type": "execute_result"
    }
   ],
   "source": [
    "labels.keys()"
   ]
  },
  {
   "cell_type": "code",
   "execution_count": 4,
   "metadata": {},
   "outputs": [
    {
     "data": {
      "text/plain": [
       "array(['Amy 1', 'Amy 2', 'Amy 3', 'Amy 4', 'Amy 5', 'Amy 6', 'Amy 7',\n",
       "       'Amy 8', 'Amy 9', 'Amy 10', 'Amy 11', 'Amy 12', 'Amy 13', 'Amy 14',\n",
       "       'Amy 15', 'Amy 16', 'Amy 17', 'Amy 18', 'Amy 19', 'Amy 20',\n",
       "       'Amy 21', 'Amy 22', 'Amy 23', 'Amy 24', 'Amy 25', 'Amy 26',\n",
       "       'Amy 27', 'Amy 28', 'Amy 29', 'Amy 30', 'Amy 31', 'Amy 32',\n",
       "       'Amy 33', 'Amy 34', 'Amy 35', 'Amy 36', 'Amy 37', 'Amy 38',\n",
       "       'Amy 39', 'Amy 40', 'Amy 41', 'Amy 42', 'Amy 43', 'Amy 44',\n",
       "       'Amy 45', 'Amy 46', 'Amy 47', 'Amy 48', 'Amy 49', 'Amy 50',\n",
       "       'Amy 51', 'Amy 52', 'Amy 53', 'Amy 54', 'Amy 55', 'Amy 56',\n",
       "       'Cg_Cx 1', 'Cg_Cx 2', 'Cg_Cx 3', 'Cg_Cx 4', 'Cg_Cx 5', 'Cg_Cx 6',\n",
       "       'Cg_Cx 7', 'Cg_Cx 8', 'Cg_Cx 9', 'Cg_Cx 10', 'Cg_Cx 11',\n",
       "       'Cg_Cx 12', 'Cg_Cx 13', 'Cg_Cx 14', 'Cg_Cx 15', 'Cg_Cx 16',\n",
       "       'Cg_Cx 17', 'Cg_Cx 18', 'Cg_Cx 19', 'Cg_Cx 20', 'Cg_Cx 21',\n",
       "       'Cg_Cx 22', 'Cg_Cx 23', 'Cg_Cx 24', 'Cg_Cx 25', 'Cg_Cx 26',\n",
       "       'Cg_Cx 27', 'Cg_Cx 28', 'Cg_Cx 29', 'Cg_Cx 30', 'Cg_Cx 31',\n",
       "       'Cg_Cx 32', 'Cg_Cx 33', 'Cg_Cx 34', 'Cg_Cx 35', 'Cg_Cx 36',\n",
       "       'Cg_Cx 37', 'Cg_Cx 38', 'Cg_Cx 39', 'Cg_Cx 40', 'Cg_Cx 41',\n",
       "       'Cg_Cx 42', 'Cg_Cx 43', 'Cg_Cx 44', 'Cg_Cx 45', 'Cg_Cx 46',\n",
       "       'Cg_Cx 47', 'Cg_Cx 48', 'Cg_Cx 49', 'Cg_Cx 50', 'Cg_Cx 51',\n",
       "       'Cg_Cx 52', 'Cg_Cx 53', 'Cg_Cx 54', 'Cg_Cx 55', 'Cg_Cx 56',\n",
       "       'Hipp 1', 'Hipp 2', 'Hipp 3', 'Hipp 4', 'Hipp 5', 'Hipp 6',\n",
       "       'Hipp 7', 'Hipp 8', 'Hipp 9', 'Hipp 10', 'Hipp 11', 'Hipp 12',\n",
       "       'Hipp 13', 'Hipp 14', 'Hipp 15', 'Hipp 16', 'Hipp 17', 'Hipp 18',\n",
       "       'Hipp 19', 'Hipp 20', 'Hipp 21', 'Hipp 22', 'Hipp 23', 'Hipp 24',\n",
       "       'Hipp 25', 'Hipp 26', 'Hipp 27', 'Hipp 28', 'Hipp 29', 'Hipp 30',\n",
       "       'Hipp 31', 'Hipp 32', 'Hipp 33', 'Hipp 34', 'Hipp 35', 'Hipp 36',\n",
       "       'Hipp 37', 'Hipp 38', 'Hipp 39', 'Hipp 40', 'Hipp 41', 'Hipp 42',\n",
       "       'Hipp 43', 'Hipp 44', 'Hipp 45', 'Hipp 46', 'Hipp 47', 'Hipp 48',\n",
       "       'Hipp 49', 'Hipp 50', 'Hipp 51', 'Hipp 52', 'Hipp 53', 'Hipp 54',\n",
       "       'Hipp 55', 'Hipp 56', 'IL_Cx 1', 'IL_Cx 2', 'IL_Cx 3', 'IL_Cx 4',\n",
       "       'IL_Cx 5', 'IL_Cx 6', 'IL_Cx 7', 'IL_Cx 8', 'IL_Cx 9', 'IL_Cx 10',\n",
       "       'IL_Cx 11', 'IL_Cx 12', 'IL_Cx 13', 'IL_Cx 14', 'IL_Cx 15',\n",
       "       'IL_Cx 16', 'IL_Cx 17', 'IL_Cx 18', 'IL_Cx 19', 'IL_Cx 20',\n",
       "       'IL_Cx 21', 'IL_Cx 22', 'IL_Cx 23', 'IL_Cx 24', 'IL_Cx 25',\n",
       "       'IL_Cx 26', 'IL_Cx 27', 'IL_Cx 28', 'IL_Cx 29', 'IL_Cx 30',\n",
       "       'IL_Cx 31', 'IL_Cx 32', 'IL_Cx 33', 'IL_Cx 34', 'IL_Cx 35',\n",
       "       'IL_Cx 36', 'IL_Cx 37', 'IL_Cx 38', 'IL_Cx 39', 'IL_Cx 40',\n",
       "       'IL_Cx 41', 'IL_Cx 42', 'IL_Cx 43', 'IL_Cx 44', 'IL_Cx 45',\n",
       "       'IL_Cx 46', 'IL_Cx 47', 'IL_Cx 48', 'IL_Cx 49', 'IL_Cx 50',\n",
       "       'IL_Cx 51', 'IL_Cx 52', 'IL_Cx 53', 'IL_Cx 54', 'IL_Cx 55',\n",
       "       'IL_Cx 56', 'Nac 1', 'Nac 2', 'Nac 3', 'Nac 4', 'Nac 5', 'Nac 6',\n",
       "       'Nac 7', 'Nac 8', 'Nac 9', 'Nac 10', 'Nac 11', 'Nac 12', 'Nac 13',\n",
       "       'Nac 14', 'Nac 15', 'Nac 16', 'Nac 17', 'Nac 18', 'Nac 19',\n",
       "       'Nac 20', 'Nac 21', 'Nac 22', 'Nac 23', 'Nac 24', 'Nac 25',\n",
       "       'Nac 26', 'Nac 27', 'Nac 28', 'Nac 29', 'Nac 30', 'Nac 31',\n",
       "       'Nac 32', 'Nac 33', 'Nac 34', 'Nac 35', 'Nac 36', 'Nac 37',\n",
       "       'Nac 38', 'Nac 39', 'Nac 40', 'Nac 41', 'Nac 42', 'Nac 43',\n",
       "       'Nac 44', 'Nac 45', 'Nac 46', 'Nac 47', 'Nac 48', 'Nac 49',\n",
       "       'Nac 50', 'Nac 51', 'Nac 52', 'Nac 53', 'Nac 54', 'Nac 55',\n",
       "       'Nac 56', 'PrL_Cx 1', 'PrL_Cx 2', 'PrL_Cx 3', 'PrL_Cx 4',\n",
       "       'PrL_Cx 5', 'PrL_Cx 6', 'PrL_Cx 7', 'PrL_Cx 8', 'PrL_Cx 9',\n",
       "       'PrL_Cx 10', 'PrL_Cx 11', 'PrL_Cx 12', 'PrL_Cx 13', 'PrL_Cx 14',\n",
       "       'PrL_Cx 15', 'PrL_Cx 16', 'PrL_Cx 17', 'PrL_Cx 18', 'PrL_Cx 19',\n",
       "       'PrL_Cx 20', 'PrL_Cx 21', 'PrL_Cx 22', 'PrL_Cx 23', 'PrL_Cx 24',\n",
       "       'PrL_Cx 25', 'PrL_Cx 26', 'PrL_Cx 27', 'PrL_Cx 28', 'PrL_Cx 29',\n",
       "       'PrL_Cx 30', 'PrL_Cx 31', 'PrL_Cx 32', 'PrL_Cx 33', 'PrL_Cx 34',\n",
       "       'PrL_Cx 35', 'PrL_Cx 36', 'PrL_Cx 37', 'PrL_Cx 38', 'PrL_Cx 39',\n",
       "       'PrL_Cx 40', 'PrL_Cx 41', 'PrL_Cx 42', 'PrL_Cx 43', 'PrL_Cx 44',\n",
       "       'PrL_Cx 45', 'PrL_Cx 46', 'PrL_Cx 47', 'PrL_Cx 48', 'PrL_Cx 49',\n",
       "       'PrL_Cx 50', 'PrL_Cx 51', 'PrL_Cx 52', 'PrL_Cx 53', 'PrL_Cx 54',\n",
       "       'PrL_Cx 55', 'PrL_Cx 56', 'Thal 1', 'Thal 2', 'Thal 3', 'Thal 4',\n",
       "       'Thal 5', 'Thal 6', 'Thal 7', 'Thal 8', 'Thal 9', 'Thal 10',\n",
       "       'Thal 11', 'Thal 12', 'Thal 13', 'Thal 14', 'Thal 15', 'Thal 16',\n",
       "       'Thal 17', 'Thal 18', 'Thal 19', 'Thal 20', 'Thal 21', 'Thal 22',\n",
       "       'Thal 23', 'Thal 24', 'Thal 25', 'Thal 26', 'Thal 27', 'Thal 28',\n",
       "       'Thal 29', 'Thal 30', 'Thal 31', 'Thal 32', 'Thal 33', 'Thal 34',\n",
       "       'Thal 35', 'Thal 36', 'Thal 37', 'Thal 38', 'Thal 39', 'Thal 40',\n",
       "       'Thal 41', 'Thal 42', 'Thal 43', 'Thal 44', 'Thal 45', 'Thal 46',\n",
       "       'Thal 47', 'Thal 48', 'Thal 49', 'Thal 50', 'Thal 51', 'Thal 52',\n",
       "       'Thal 53', 'Thal 54', 'Thal 55', 'Thal 56', 'VTA 1', 'VTA 2',\n",
       "       'VTA 3', 'VTA 4', 'VTA 5', 'VTA 6', 'VTA 7', 'VTA 8', 'VTA 9',\n",
       "       'VTA 10', 'VTA 11', 'VTA 12', 'VTA 13', 'VTA 14', 'VTA 15',\n",
       "       'VTA 16', 'VTA 17', 'VTA 18', 'VTA 19', 'VTA 20', 'VTA 21',\n",
       "       'VTA 22', 'VTA 23', 'VTA 24', 'VTA 25', 'VTA 26', 'VTA 27',\n",
       "       'VTA 28', 'VTA 29', 'VTA 30', 'VTA 31', 'VTA 32', 'VTA 33',\n",
       "       'VTA 34', 'VTA 35', 'VTA 36', 'VTA 37', 'VTA 38', 'VTA 39',\n",
       "       'VTA 40', 'VTA 41', 'VTA 42', 'VTA 43', 'VTA 44', 'VTA 45',\n",
       "       'VTA 46', 'VTA 47', 'VTA 48', 'VTA 49', 'VTA 50', 'VTA 51',\n",
       "       'VTA 52', 'VTA 53', 'VTA 54', 'VTA 55', 'VTA 56'], dtype='<U10')"
      ]
     },
     "execution_count": 4,
     "metadata": {},
     "output_type": "execute_result"
    }
   ],
   "source": [
    "labels['powerFeatures']"
   ]
  },
  {
   "cell_type": "code",
   "execution_count": null,
   "metadata": {},
   "outputs": [],
   "source": []
  }
 ],
 "metadata": {
  "interpreter": {
   "hash": "e7fcc668915e92e9e68f231fbede55b84f4413bfe6d4c43e44892e9f909bca93"
  },
  "kernelspec": {
   "display_name": "Python 3.9.7 ('cpne')",
   "language": "python",
   "name": "python3"
  },
  "language_info": {
   "codemirror_mode": {
    "name": "ipython",
    "version": 3
   },
   "file_extension": ".py",
   "mimetype": "text/x-python",
   "name": "python",
   "nbconvert_exporter": "python",
   "pygments_lexer": "ipython3",
   "version": "3.9.7"
  },
  "orig_nbformat": 4
 },
 "nbformat": 4,
 "nbformat_minor": 2
}

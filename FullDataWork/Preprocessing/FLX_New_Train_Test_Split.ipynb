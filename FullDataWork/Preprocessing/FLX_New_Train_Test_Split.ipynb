{
 "cells": [
  {
   "cell_type": "code",
   "execution_count": 1,
   "id": "2b4ffb02-adae-4ccf-b0e7-4821e1f61274",
   "metadata": {},
   "outputs": [],
   "source": [
    "import pickle\n",
    "import numpy as np\n",
    "\n",
    "NewDataPath = \"/work/mk423/Anxiety/New_FLX_Animals_April_12.pkl\"\n",
    "OldDataPath = \"/work/mk423/Anxiety/FLX_{}_dict_old_features.pkl\"\n",
    "\n",
    "FEATURE_LIST = [\"X_psd\",\"X_coh\",\"X_gc\"]\n",
    "FEATURE_WEIGHT = [10,1,1]"
   ]
  },
  {
   "cell_type": "code",
   "execution_count": 2,
   "id": "b2ad2e19-f97c-479c-b0c0-fd0db62592d3",
   "metadata": {},
   "outputs": [],
   "source": [
    "newDict = pickle.load(open(NewDataPath,\"rb\"))\n",
    "oldTrainDict = pickle.load(open(OldDataPath.format(\"train\"),\"rb\"))\n",
    "oldValDict = pickle.load(open(OldDataPath.format(\"validation\"),\"rb\"))\n",
    "oldTestDict = pickle.load(open(OldDataPath.format(\"test\"),\"rb\"))"
   ]
  },
  {
   "cell_type": "code",
   "execution_count": 3,
   "id": "f1624289-eca0-4e36-b785-ae9b8e1a9237",
   "metadata": {},
   "outputs": [
    {
     "data": {
      "text/plain": [
       "dict_keys(['X_psd', 'X_coh', 'X_gc', 'y_flx', 'y_sal', 'y_hab', 'y_mouse', 'y_expDate', 'y_time'])"
      ]
     },
     "execution_count": 3,
     "metadata": {},
     "output_type": "execute_result"
    }
   ],
   "source": [
    "newDict.keys()"
   ]
  },
  {
   "cell_type": "code",
   "execution_count": 4,
   "id": "93ce2f64-e157-4029-872f-d0168ef5f9de",
   "metadata": {},
   "outputs": [
    {
     "data": {
      "text/plain": [
       "dict_keys(['X_psd', 'X_psd_first_30', 'X_ds', 'X_ds_first_30', 'y_mouse', 'y_mouse_first_30', 'y_expDate', 'y_expDate_first_30', 'y_time', 'y_time_first_30', 'mice', 'y_flx', 'y_flx_train_first_30', 'X_psd_full', 'X_ds_full', 'y_mouse_full', 'y_expDate_full', 'y_time_full', 'y_flx_full', 'X_power_1_2', 'X_power_1_2_first_30', 'X_power_1_2_full', 'X_coh_1_2', 'X_coh_1_2_first_30', 'X_coh_1_2_full', 'X_gc_1_2', 'X_gc_1_2_first_30', 'X_gc_1_2_full'])"
      ]
     },
     "execution_count": 4,
     "metadata": {},
     "output_type": "execute_result"
    }
   ],
   "source": [
    "oldTrainDict.keys()"
   ]
  },
  {
   "cell_type": "code",
   "execution_count": 18,
   "id": "8c15aae4-75fc-46b0-a94c-cc85e9f7cb21",
   "metadata": {},
   "outputs": [],
   "source": [
    "oft_train_mice = ['Mouse04191', 'Mouse04201', 'Mouse04202', 'Mouse04205', 'Mouse04215','Mouse3191', 'Mouse3192', 'Mouse3193', 'Mouse3194', 'Mouse3203', 'Mouse39114','Mouse39124', 'Mouse39133', 'Mouse69064', 'Mouse69072', 'Mouse69074']\n",
    "\n",
    "oft_val_mice= ['Mouse04193', 'Mouse39125', 'Mouse69065']\n",
    "\n",
    "oft_mice = oft_train_mice + oft_val_mice\n"
   ]
  },
  {
   "cell_type": "code",
   "execution_count": 19,
   "id": "114d08dc-4bfb-4c82-bc98-800ccd049f11",
   "metadata": {},
   "outputs": [],
   "source": [
    "X_psd_full = np.vstack([newDict['X_psd'],oldTrainDict['X_power_1_2_full'],oldValDict['X_power_1_2_full'],oldTestDict['X_power_1_2_full']])\n",
    "X_coh_full = np.vstack([newDict['X_coh'],oldTrainDict['X_coh_1_2_full'],oldValDict['X_coh_1_2_full'],oldTestDict['X_coh_1_2_full']])\n",
    "X_gc_full = np.vstack([newDict['X_gc'],oldTrainDict['X_gc_1_2_full'],oldValDict['X_gc_1_2_full'],oldTestDict['X_gc_1_2_full']])\n",
    "\n",
    "y_flx_full = np.hstack([newDict['y_flx'].squeeze(),oldTrainDict['y_flx_full'],oldValDict['y_flx_full'],oldTestDict['y_flx_full']])\n",
    "y_mouse_full = np.hstack([newDict['y_mouse'].squeeze(),oldTrainDict['y_mouse_full'],oldValDict['y_mouse_full'],oldTestDict['y_mouse_full']])\n",
    "y_expDate_full = np.hstack([newDict['y_expDate'].squeeze(),oldTrainDict['y_expDate_full'],oldValDict['y_expDate_full'],oldTestDict['y_expDate_full']])\n",
    "y_time_full = np.hstack([newDict['y_time'].squeeze(),oldTrainDict['y_time_full'],oldValDict['y_time_full'],oldTestDict['y_time_full']])\n",
    "\n",
    "y_hab_full = y_time_full > 60*30"
   ]
  },
  {
   "cell_type": "code",
   "execution_count": 20,
   "id": "e8848881-658b-4af5-abd6-b9a1dc643516",
   "metadata": {},
   "outputs": [
    {
     "data": {
      "text/plain": [
       "array(['Mouse3191', 'Mouse3192', 'Mouse3193', 'Mouse3194', 'Mouse3202',\n",
       "       'Mouse3203', 'Mouse61631', 'Mouse61635', 'Mouse69061',\n",
       "       'Mouse78732', 'Mouse78743', 'Mouse78744', 'Mouse78745',\n",
       "       'Mouse78751', 'Mouse78752', 'Mouse78764', 'Mouse99002',\n",
       "       'Mouse99003', 'Mouse99021'], dtype='<U10')"
      ]
     },
     "execution_count": 20,
     "metadata": {},
     "output_type": "execute_result"
    }
   ],
   "source": [
    "np.unique(y_mouse_full)"
   ]
  },
  {
   "cell_type": "code",
   "execution_count": 21,
   "id": "72aeff38-0e41-4de0-a4b0-0ce9eaf36ee0",
   "metadata": {},
   "outputs": [
    {
     "data": {
      "text/plain": [
       "array(['Mouse3191', 'Mouse3192', 'Mouse3193', 'Mouse3194', 'Mouse3203'],\n",
       "      dtype='<U10')"
      ]
     },
     "execution_count": 21,
     "metadata": {},
     "output_type": "execute_result"
    }
   ],
   "source": [
    "np.intersect1d(oft_mice,np.unique(y_mouse_full))"
   ]
  },
  {
   "cell_type": "code",
   "execution_count": 22,
   "id": "6acec6b4-bca5-4139-b858-f53384b97791",
   "metadata": {},
   "outputs": [
    {
     "name": "stdout",
     "output_type": "stream",
     "text": [
      "Mouse3202 only has one class and will be kept in the training data\n",
      "Mouse99002 only has one class and will be kept in the training data\n",
      "Mouse99003 only has one class and will be kept in the training data\n",
      "Mouse99021 only has one class and will be kept in the training data\n",
      "['Mouse3191', 'Mouse3192', 'Mouse3193', 'Mouse3194', 'Mouse3203', 'Mouse3202', 'Mouse99002', 'Mouse99003', 'Mouse99021'] 9\n",
      "['Mouse61631', 'Mouse61635', 'Mouse69061', 'Mouse78732', 'Mouse78743', 'Mouse78744', 'Mouse78745', 'Mouse78751', 'Mouse78752', 'Mouse78764'] 10\n"
     ]
    }
   ],
   "source": [
    "## Define Training Data\n",
    "default_training_mice = list(np.intersect1d(oft_mice,np.unique(y_mouse_full))) #mice only given one condition must be in the training data\n",
    "for mouse in np.unique(y_mouse_full):\n",
    "    mouse_mask = np.logical_and(y_mouse_full==mouse,y_hab_full)\n",
    "    \n",
    "    if np.mean(y_flx_full[mouse_mask==1]) > .9:\n",
    "        print(\"{} only has one class and will be kept in the training data\".format(mouse))\n",
    "        default_training_mice.append(mouse)\n",
    "    \n",
    "    \n",
    "remaining_mice = [mouse for mouse in np.unique(y_mouse_full) if mouse not in default_training_mice]\n",
    "print(default_training_mice,len(default_training_mice))\n",
    "print(remaining_mice,len(remaining_mice))"
   ]
  },
  {
   "cell_type": "code",
   "execution_count": 24,
   "id": "7a3e8d8a-9c6a-40c9-b9d8-91a7e0ac28cb",
   "metadata": {},
   "outputs": [
    {
     "name": "stdout",
     "output_type": "stream",
     "text": [
      "train ['Mouse3191', 'Mouse3192', 'Mouse3193', 'Mouse3194', 'Mouse3203', 'Mouse3202', 'Mouse99002', 'Mouse99003', 'Mouse99021']\n",
      "val ['Mouse78752', 'Mouse61635', 'Mouse78744', 'Mouse61631']\n",
      "test ['Mouse78751', 'Mouse69061', 'Mouse78764', 'Mouse78743', 'Mouse78732', 'Mouse78745']\n"
     ]
    }
   ],
   "source": [
    "#Get other splits randomly\n",
    "np.random.seed(42)\n",
    "\n",
    "\n",
    "rem_idxs = np.arange(len(remaining_mice))\n",
    "np.random.shuffle(rem_idxs)\n",
    "\n",
    "train_mice = default_training_mice \n",
    "val_mice = [remaining_mice[idx] for idx in rem_idxs[:4]]\n",
    "test_mice = [remaining_mice[idx] for idx in rem_idxs[4:]]\n",
    "\n",
    "\n",
    "print(\"train\",train_mice)\n",
    "print(\"val\",val_mice)\n",
    "print(\"test\",test_mice)"
   ]
  },
  {
   "cell_type": "code",
   "execution_count": 25,
   "id": "cacf1644-51c6-4859-b5a5-b61af0709874",
   "metadata": {},
   "outputs": [],
   "source": [
    "train_idxs = np.array([1 if mouse in train_mice else 0 for mouse in y_mouse_full])\n",
    "val_idxs = np.array([1 if mouse in val_mice else 0 for mouse in y_mouse_full])\n",
    "test_idxs = np.array([1 if mouse in test_mice else 0 for mouse in y_mouse_full])"
   ]
  },
  {
   "cell_type": "code",
   "execution_count": 26,
   "id": "55e39b41-b565-4ceb-af66-7bc740a4ce0d",
   "metadata": {},
   "outputs": [
    {
     "data": {
      "text/plain": [
       "0.3988027157910106"
      ]
     },
     "execution_count": 26,
     "metadata": {},
     "output_type": "execute_result"
    }
   ],
   "source": [
    "np.mean(train_idxs)"
   ]
  },
  {
   "cell_type": "code",
   "execution_count": 27,
   "id": "14aaae9c-378e-4e0a-bc5b-087d7f693c1a",
   "metadata": {},
   "outputs": [
    {
     "data": {
      "text/plain": [
       "0.23797240405908548"
      ]
     },
     "execution_count": 27,
     "metadata": {},
     "output_type": "execute_result"
    }
   ],
   "source": [
    "np.mean(val_idxs)"
   ]
  },
  {
   "cell_type": "code",
   "execution_count": 28,
   "id": "63d9969b-5cf1-485c-b7ba-bd683f0535b9",
   "metadata": {},
   "outputs": [
    {
     "data": {
      "text/plain": [
       "0.3632248801499039"
      ]
     },
     "execution_count": 28,
     "metadata": {},
     "output_type": "execute_result"
    }
   ],
   "source": [
    "np.mean(test_idxs)"
   ]
  },
  {
   "cell_type": "code",
   "execution_count": 29,
   "id": "121dcdfe-9489-49a7-9d94-a5dd5c948c07",
   "metadata": {},
   "outputs": [],
   "source": [
    "#Create and Save New Dictionaries\n",
    "\n",
    "slice_idxs = train_idxs\n",
    "train_dict = {\n",
    "    \"X_psd\":X_psd_full[slice_idxs==1],\n",
    "    \"X_coh\":X_coh_full[slice_idxs==1],\n",
    "    \"X_gc\":X_gc_full[slice_idxs==1],\n",
    "    \n",
    "    \"y_flx\":y_flx_full[slice_idxs==1],\n",
    "    \"y_mouse\":y_mouse_full[slice_idxs==1],\n",
    "    \"y_expDate\":y_expDate_full[slice_idxs==1],\n",
    "    \"y_time\":y_time_full[slice_idxs==1],\n",
    "    \"y_hab\":y_hab_full[slice_idxs==1],\n",
    "    \n",
    "    \"date-created\":\"April 27 2023\"\n",
    "}\n",
    "\n",
    "with open(\"/work/mk423/Anxiety/final_FLX_train.pkl\",\"wb\") as f:\n",
    "    pickle.dump(train_dict,f)\n",
    "    \n",
    "slice_idxs = val_idxs\n",
    "val_dict = {\n",
    "    \"X_psd\":X_psd_full[slice_idxs==1],\n",
    "    \"X_coh\":X_coh_full[slice_idxs==1],\n",
    "    \"X_gc\":X_gc_full[slice_idxs==1],\n",
    "    \n",
    "    \"y_flx\":y_flx_full[slice_idxs==1],\n",
    "    \"y_mouse\":y_mouse_full[slice_idxs==1],\n",
    "    \"y_expDate\":y_expDate_full[slice_idxs==1],\n",
    "    \"y_time\":y_time_full[slice_idxs==1],\n",
    "    \"y_hab\":y_hab_full[slice_idxs==1],\n",
    "    \n",
    "    \"date-created\":\"April 27 2023\"\n",
    "}\n",
    "\n",
    "with open(\"/work/mk423/Anxiety/final_FLX_val.pkl\",\"wb\") as f:\n",
    "    pickle.dump(val_dict,f)\n",
    "    \n",
    "slice_idxs = test_idxs\n",
    "test_dict = {\n",
    "    \"X_psd\":X_psd_full[slice_idxs==1],\n",
    "    \"X_coh\":X_coh_full[slice_idxs==1],\n",
    "    \"X_gc\":X_gc_full[slice_idxs==1],\n",
    "    \n",
    "    \"y_flx\":y_flx_full[slice_idxs==1],\n",
    "    \"y_mouse\":y_mouse_full[slice_idxs==1],\n",
    "    \"y_expDate\":y_expDate_full[slice_idxs==1],\n",
    "    \"y_time\":y_time_full[slice_idxs==1],\n",
    "    \"y_hab\":y_hab_full[slice_idxs==1],\n",
    "    \n",
    "    \"date-created\":\"April 27 2023\"\n",
    "}\n",
    "\n",
    "with open(\"/work/mk423/Anxiety/final_FLX_test.pkl\",\"wb\") as f:\n",
    "    pickle.dump(test_dict,f)"
   ]
  },
  {
   "cell_type": "code",
   "execution_count": 75,
   "id": "c9b8342d-fe7c-41eb-af70-cb57fa43b5bd",
   "metadata": {},
   "outputs": [
    {
     "data": {
      "text/plain": [
       "array(['Mouse3194', 'Mouse3203', 'Mouse61635', 'Mouse69061', 'Mouse78744',\n",
       "       'Mouse78751'], dtype='<U10')"
      ]
     },
     "execution_count": 75,
     "metadata": {},
     "output_type": "execute_result"
    }
   ],
   "source": [
    "np.unique(test_dict[\"y_mouse\"])"
   ]
  },
  {
   "cell_type": "code",
   "execution_count": 76,
   "id": "d2af0f9d-7a97-4451-8366-8ed2a6cc9e30",
   "metadata": {},
   "outputs": [
    {
     "data": {
      "text/plain": [
       "['Mouse3203',\n",
       " 'Mouse69061',\n",
       " 'Mouse78744',\n",
       " 'Mouse78751',\n",
       " 'Mouse3194',\n",
       " 'Mouse61635']"
      ]
     },
     "execution_count": 76,
     "metadata": {},
     "output_type": "execute_result"
    }
   ],
   "source": [
    "test_mice"
   ]
  },
  {
   "cell_type": "code",
   "execution_count": null,
   "id": "948cdb94-4d17-4b2a-bc09-dc37e4546f2d",
   "metadata": {},
   "outputs": [],
   "source": []
  }
 ],
 "metadata": {
  "kernelspec": {
   "display_name": "Python 3 (ipykernel)",
   "language": "python",
   "name": "python3"
  },
  "language_info": {
   "codemirror_mode": {
    "name": "ipython",
    "version": 3
   },
   "file_extension": ".py",
   "mimetype": "text/x-python",
   "name": "python",
   "nbconvert_exporter": "python",
   "pygments_lexer": "ipython3",
   "version": "3.7.13"
  }
 },
 "nbformat": 4,
 "nbformat_minor": 5
}

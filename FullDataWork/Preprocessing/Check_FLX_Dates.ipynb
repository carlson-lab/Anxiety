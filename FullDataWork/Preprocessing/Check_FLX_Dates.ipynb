{
 "cells": [
  {
   "cell_type": "code",
   "execution_count": 10,
   "id": "1c8cd688-e2d5-421b-966c-e4641a55f4bd",
   "metadata": {},
   "outputs": [],
   "source": [
    "import pickle\n",
    "import numpy as np\n",
    "import pandas as pd\n",
    "\n",
    "FLX_data_path = \"/work/mk423/Anxiety/final_FLX_{}.pkl\""
   ]
  },
  {
   "cell_type": "code",
   "execution_count": 11,
   "id": "83af87ab-8aef-4328-8385-cebde72a71ef",
   "metadata": {},
   "outputs": [
    {
     "name": "stdout",
     "output_type": "stream",
     "text": [
      "dict_keys(['X_psd', 'X_coh', 'X_gc', 'y_flx', 'y_mouse', 'y_expDate', 'y_time', 'y_hab', 'date-created'])\n",
      "Mouse: Mouse3191, Treatment: SAL, ExpDate: 110918\n",
      "Mouse: Mouse3191, Treatment: FLX, ExpDate: 121218\n",
      "Mouse: Mouse3192, Treatment: SAL, ExpDate: 121218\n",
      "Mouse: Mouse3192, Treatment: FLX, ExpDate: 110918\n",
      "Mouse: Mouse3193, Treatment: SAL, ExpDate: 110918\n",
      "Mouse: Mouse3193, Treatment: FLX, ExpDate: 121218\n",
      "Mouse: Mouse3194, Treatment: SAL, ExpDate: 121218\n",
      "Mouse: Mouse3194, Treatment: FLX, ExpDate: 110918\n",
      "Mouse: Mouse3202, Treatment: FLX, ExpDate: 111018\n",
      "Mouse: Mouse3203, Treatment: SAL, ExpDate: 121218\n",
      "Mouse: Mouse3203, Treatment: FLX, ExpDate: 111018\n",
      "Mouse: Mouse99002, Treatment: FLX, ExpDate: 072321\n",
      "Mouse: Mouse99003, Treatment: FLX, ExpDate: 072321\n",
      "Mouse: Mouse99021, Treatment: FLX, ExpDate: 072321\n",
      "dict_keys(['X_psd', 'X_coh', 'X_gc', 'y_flx', 'y_mouse', 'y_expDate', 'y_time', 'y_hab', 'date-created'])\n",
      "Mouse: Mouse61631, Treatment: SAL, ExpDate: 121422\n",
      "Mouse: Mouse61631, Treatment: FLX, ExpDate: 121422\n",
      "Mouse: Mouse61635, Treatment: SAL, ExpDate: 121422\n",
      "Mouse: Mouse61635, Treatment: FLX, ExpDate: 121422\n",
      "Mouse: Mouse78744, Treatment: SAL, ExpDate: 040623\n",
      "Mouse: Mouse78744, Treatment: FLX, ExpDate: 040623\n",
      "Mouse: Mouse78752, Treatment: SAL, ExpDate: 040723\n",
      "Mouse: Mouse78752, Treatment: FLX, ExpDate: 040723\n",
      "dict_keys(['X_psd', 'X_coh', 'X_gc', 'y_flx', 'y_mouse', 'y_expDate', 'y_time', 'y_hab', 'date-created'])\n",
      "Mouse: Mouse69061, Treatment: SAL, ExpDate: 110521\n",
      "Mouse: Mouse69061, Treatment: FLX, ExpDate: 110421\n",
      "Mouse: Mouse78732, Treatment: SAL, ExpDate: 040623\n",
      "Mouse: Mouse78732, Treatment: FLX, ExpDate: 040623\n",
      "Mouse: Mouse78743, Treatment: SAL, ExpDate: 040623\n",
      "Mouse: Mouse78743, Treatment: FLX, ExpDate: 040623\n",
      "Mouse: Mouse78745, Treatment: SAL, ExpDate: 040623\n",
      "Mouse: Mouse78745, Treatment: FLX, ExpDate: 040623\n",
      "Mouse: Mouse78751, Treatment: SAL, ExpDate: 040723\n",
      "Mouse: Mouse78751, Treatment: FLX, ExpDate: 040723\n",
      "Mouse: Mouse78764, Treatment: SAL, ExpDate: 040723\n",
      "Mouse: Mouse78764, Treatment: FLX, ExpDate: 040723\n"
     ]
    }
   ],
   "source": [
    "mouse_list = []\n",
    "treat_list = []\n",
    "expDate_list = []\n",
    "split_list = []\n",
    "for split in [\"train\",\"val\",\"test\"]:\n",
    "    dataDict = pickle.load(open(FLX_data_path.format(split),\"rb\"))\n",
    "    \n",
    "    print(dataDict.keys())\n",
    "    \n",
    "    for mouse in np.unique(dataDict[\"y_mouse\"]):\n",
    "        for flx in [0,1]:\n",
    "            mouse_mask = np.array(dataDict[\"y_mouse\"])==mouse\n",
    "            flx_mask = np.array(dataDict[\"y_flx\"])==flx\n",
    "            mask = np.logical_and(mouse_mask,flx_mask)\n",
    "            \n",
    "            if np.sum(mask) > 0:\n",
    "                \n",
    "                if flx==1:\n",
    "                    expDate = np.unique(np.array(dataDict[\"y_expDate\"])[mask==1])\n",
    "                    print(\"Mouse: {}, Treatment: {}, ExpDate: {}\".format(mouse,\"FLX\",expDate[0]))\n",
    "                else:\n",
    "                    expDate = np.unique(np.array(dataDict[\"y_expDate\"])[mask==1])\n",
    "                    print(\"Mouse: {}, Treatment: {}, ExpDate: {}\".format(mouse,\"SAL\",expDate[0]))\n",
    "                    \n",
    "                mouse_list.append(mouse)\n",
    "                treat_list.append(flx)\n",
    "                expDate_list.append(expDate[0])\n",
    "                split_list.append(split)\n",
    "                    \n",
    "            \n",
    "    \n",
    "saveDict = {\n",
    "    \"split\":split_list,\n",
    "    \"mouse\":mouse_list,\n",
    "    \"drug\":treat_list,\n",
    "    \"expDate\":expDate_list,\n",
    "}\n",
    "\n",
    "df = pd.DataFrame.from_dict(saveDict)"
   ]
  },
  {
   "cell_type": "code",
   "execution_count": 13,
   "id": "3c02c5d5-8e6b-4639-85df-fb5df9f5477f",
   "metadata": {},
   "outputs": [],
   "source": [
    "df.to_csv(\"flx_drug_dates.csv\",index=False)"
   ]
  },
  {
   "cell_type": "code",
   "execution_count": null,
   "id": "37cd9c20-2792-408d-b876-88d66c9b20f0",
   "metadata": {},
   "outputs": [],
   "source": []
  }
 ],
 "metadata": {
  "kernelspec": {
   "display_name": "Python 3 (ipykernel)",
   "language": "python",
   "name": "python3"
  },
  "language_info": {
   "codemirror_mode": {
    "name": "ipython",
    "version": 3
   },
   "file_extension": ".py",
   "mimetype": "text/x-python",
   "name": "python",
   "nbconvert_exporter": "python",
   "pygments_lexer": "ipython3",
   "version": "3.7.13"
  }
 },
 "nbformat": 4,
 "nbformat_minor": 5
}

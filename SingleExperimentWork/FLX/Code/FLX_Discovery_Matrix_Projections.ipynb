{
 "cells": [
  {
   "cell_type": "code",
   "execution_count": 1,
   "metadata": {},
   "outputs": [
    {
     "name": "stdout",
     "output_type": "stream",
     "text": [
      "Using device: cuda:0\n"
     ]
    }
   ],
   "source": [
    "import pickle\n",
    "import numpy as np\n",
    "import torch\n",
    "import matplotlib.pyplot as plt\n",
    "import os\n",
    "import sys\n",
    "import sklearn\n",
    "from sklearn.model_selection import train_test_split\n",
    "from sklearn.preprocessing import OneHotEncoder\n",
    "import pandas as pd\n",
    "\n",
    "MODEL_NAME = \".\\\\{}_{}_10_res_loss_10_power_features.pt\".format(\"Positive\",\"FLX\")\n",
    "EPM_TRAIN_FILE = \".\\\\EPM_model\\\\EPM_train_dict_May_17.pkl\"\n",
    "EPM_VAL_FILE = \".\\\\EPM_model\\\\EPM_val_dict_May_17.pkl\"\n",
    "OFT_TRAIN_FILE_NAME = \".\\\\OFT_model\\\\OFT_train_dict_old_features_hand_picked.pkl\"\n",
    "OFT_VAL_FILE_NAME = \".\\\\OFT_model\\\\OFT_validation_dict_old_features_hand_picked.pkl\"\n",
    "FLX_TRAIN_FILE = \".\\\\FLX_model\\\\FLX_train_dict_old_features.pkl\"\n",
    "FLX_VAL_FILE = \".\\\\FLX_model\\\\FLX_validation_dict_old_features.pkl\"\n",
    "FLX_FULL_DATA_TRAIN = \".\\\\FLX_model\\\\FLX_train_dict_full_recordings.pkl\"\n",
    "FLX_FULL_DATA_VAL = \".\\\\FLX_model\\\\FLX_val_dict_full_recordings.pkl\"\n",
    "FEATURE_WEIGHT = [10,1,1]\n",
    "\n",
    "FEATURE_LIST = ['X_power_1_2','X_coh_1_2','X_gc_1_2']\n",
    "FEATURE_VECTOR = FEATURE_LIST\n",
    "FEATURE_WEIGHTS = [10,1,1]\n",
    "NETWORK_CONSTRAINT = \"Positive\"\n",
    "UMC_PATH = \".\\\\Universal-Mouse-Code\\\\\"\n",
    "\n",
    "sys.path.append(UMC_PATH)\n",
    "#from dCSFA_model import dCSFA_model\n",
    "import umc_data_tools as umc_dt\n",
    "from dCSFA_NMF import dCSFA_NMF\n",
    "\n",
    "if torch.cuda.is_available():\n",
    "    device=\"cuda:0\"\n",
    "else:\n",
    "    device=\"cpu\"\n",
    "\n",
    "\n",
    "print(\"Using device: %s\"%(device))\n",
    "\n",
    "#For Consistency\n",
    "RANDOM_STATE=42\n",
    "\n",
    "import pandas as pd\n",
    "\n",
    "model = torch.load(MODEL_NAME,map_location='cpu')\n",
    "model.device = \"cpu\""
   ]
  },
  {
   "cell_type": "code",
   "execution_count": 2,
   "metadata": {},
   "outputs": [],
   "source": [
    "with open(FLX_TRAIN_FILE,\"rb\") as f:\n",
    "    flx_train_dict = pickle.load(f)\n",
    "\n",
    "with open(FLX_VAL_FILE,\"rb\") as f:\n",
    "    flx_validation_dict = pickle.load(f)\n",
    "    \n",
    "#scale_vector = np.array([np.arange(1,57) for feature in range(64)]).flatten()\n",
    "#Load the data\n",
    "running_idx = 0\n",
    "feature_groups = []\n",
    "for idx,feature in enumerate(FEATURE_LIST):\n",
    "    f_begin = running_idx\n",
    "    f_end = f_begin + flx_train_dict[feature].shape[1] \n",
    "    if idx == 0:\n",
    "        f_end = f_end -1\n",
    "    feature_groups.append((f_begin,f_end))\n",
    "\n",
    "    running_idx = f_end\n",
    "\n",
    "flx_X_train = np.hstack([flx_train_dict[feature]*weight for feature,weight in zip(FEATURE_LIST,FEATURE_WEIGHT)])\n",
    "flx_y_train = flx_train_dict['y_flx']\n",
    "flx_y_mouse_train = flx_train_dict['y_mouse']\n",
    "flx_y_expDate_train = flx_train_dict['y_expDate']\n",
    "flx_y_time_train = flx_train_dict['y_time']\n",
    "\n",
    "flx_X_validation = np.hstack([flx_validation_dict[feature]*weight for feature,weight in zip(FEATURE_LIST,FEATURE_WEIGHT)])\n",
    "flx_y_validation = flx_validation_dict['y_flx']\n",
    "flx_y_mouse_validation = flx_validation_dict['y_mouse']\n",
    "flx_y_expDate_validation = flx_validation_dict['y_expDate']\n",
    "flx_y_time_validation = flx_validation_dict['y_time']\n",
    "\n",
    "flx_X = np.vstack([flx_X_train,flx_X_validation])\n",
    "flx_y_task = np.hstack([flx_y_train,flx_y_validation])\n",
    "flx_y_mouse = np.hstack([flx_y_mouse_train,flx_y_mouse_validation])\n",
    "flx_y_expDate = np.hstack([flx_y_expDate_train,flx_y_expDate_validation])\n",
    "flx_y_time = np.hstack([flx_y_time_train,flx_y_time_validation])\n",
    "intercept_mask = OneHotEncoder().fit_transform(flx_y_mouse_train.reshape(-1,1)).todense()"
   ]
  },
  {
   "cell_type": "code",
   "execution_count": 6,
   "metadata": {},
   "outputs": [
    {
     "name": "stderr",
     "output_type": "stream",
     "text": [
      "c:\\Users\\micha\\Anaconda3\\envs\\cpne\\lib\\site-packages\\sklearn\\metrics\\_ranking.py:990: UndefinedMetricWarning: No negative samples in y_true, false positive value should be meaningless\n",
      "  warnings.warn(\n",
      "c:\\Users\\micha\\Anaconda3\\envs\\cpne\\lib\\site-packages\\sklearn\\metrics\\_ranking.py:990: UndefinedMetricWarning: No negative samples in y_true, false positive value should be meaningless\n",
      "  warnings.warn(\n"
     ]
    },
    {
     "name": "stdout",
     "output_type": "stream",
     "text": [
      "train roc auc mean: 0.84 +/- 0.03\n",
      "Mouse  Mouse3202  has only one class - AUC cannot be calculated\n",
      "n_positive samples  1504\n",
      "n_negative samples  0\n",
      "Mouse  Mouse99003  has only one class - AUC cannot be calculated\n",
      "n_positive samples  1874\n",
      "n_negative samples  0\n",
      "train mw auc mean: 1.00 +/- 0.00\n"
     ]
    },
    {
     "name": "stderr",
     "output_type": "stream",
     "text": [
      "g:\\Anx-Analyses-March-7\\Final_Analyses\\.\\Universal-Mouse-Code\\umc_data_tools.py:277: RuntimeWarning: invalid value encountered in double_scalars\n",
      "  std = np.std(auc_list) / np.sqrt(len(auc_list)-1)\n",
      "g:\\Anx-Analyses-March-7\\Final_Analyses\\.\\Universal-Mouse-Code\\umc_data_tools.py:273: RuntimeWarning: invalid value encountered in double_scalars\n",
      "  std = np.std(auc_list) / np.sqrt(len(auc_list)-1)\n"
     ]
    },
    {
     "name": "stdout",
     "output_type": "stream",
     "text": [
      "val roc auc mean: 0.59 +/- nan\n",
      "val mw auc mean: 0.66 +/- nan\n"
     ]
    },
    {
     "name": "stderr",
     "output_type": "stream",
     "text": [
      "c:\\Users\\micha\\Anaconda3\\envs\\cpne\\lib\\site-packages\\sklearn\\metrics\\_ranking.py:990: UndefinedMetricWarning: No negative samples in y_true, false positive value should be meaningless\n",
      "  warnings.warn(\n",
      "c:\\Users\\micha\\Anaconda3\\envs\\cpne\\lib\\site-packages\\sklearn\\metrics\\_ranking.py:990: UndefinedMetricWarning: No negative samples in y_true, false positive value should be meaningless\n",
      "  warnings.warn(\n"
     ]
    },
    {
     "name": "stdout",
     "output_type": "stream",
     "text": [
      "ROC AUCs:  {'auc_method': 'sklearn_roc_auc', 'Mouse3191': 0.9026334661847197, 'Mouse3192': 0.5243080072570364, 'Mouse3193': 0.8513127198507965, 'Mouse3194': 0.9415610916778505, 'Mouse3202': nan, 'Mouse3203': 0.7906219303097431, 'Mouse99003': nan}\n",
      "Mouse  Mouse3202  has only one class - AUC cannot be calculated\n",
      "n_positive samples  1504\n",
      "n_negative samples  0\n",
      "Mouse  Mouse99003  has only one class - AUC cannot be calculated\n",
      "n_positive samples  1874\n",
      "n_negative samples  0\n",
      "MW AUCs:  {'auc_method': 'mannWhitneyU', 'Mouse3191': (0.9978038011315429, 0.0), 'Mouse3192': (0.6530373516720605, 1.1666947956043844e-56), 'Mouse3193': (0.9988499463604681, 0.0), 'Mouse3194': (0.9990340799768633, 0.0), 'Mouse3203': (0.9982608647042802, 0.0)}\n"
     ]
    }
   ],
   "source": [
    "FULL_FEATURE_LIST = [\"X_power_1_2_full\",\"X_coh_1_2_full\",\"X_gc_1_2_full\"]\n",
    "\n",
    "flx_X_train = np.hstack([flx_train_dict[feature]*weight for feature,weight in zip(FEATURE_VECTOR,FEATURE_WEIGHTS)])\n",
    "flx_y_train = flx_train_dict['y_flx']\n",
    "flx_y_mouse_train = flx_train_dict['y_mouse']\n",
    "flx_y_expDate_train = flx_train_dict['y_expDate']\n",
    "flx_y_time_train = flx_train_dict['y_time']\n",
    "\n",
    "flx_X_validation = np.hstack([flx_validation_dict[feature]*weight for feature,weight in zip(FEATURE_VECTOR,FEATURE_WEIGHTS)])\n",
    "flx_y_validation = flx_validation_dict['y_flx']\n",
    "flx_y_mouse_validation = flx_validation_dict['y_mouse']\n",
    "flx_y_expDate_validation = flx_validation_dict['y_expDate']\n",
    "flx_y_time_validation = flx_validation_dict['y_time']\n",
    "\n",
    "flx_X = np.vstack([flx_X_train,flx_X_validation])\n",
    "flx_y_task = np.hstack([flx_y_train,flx_y_validation])\n",
    "flx_y_mouse = np.hstack([flx_y_mouse_train,flx_y_mouse_validation])\n",
    "flx_y_expDate = np.hstack([flx_y_expDate_train,flx_y_expDate_validation])\n",
    "flx_y_time = np.hstack([flx_y_time_train,flx_y_time_validation])\n",
    "\n",
    "y_pred, s = model.predict(flx_X_train,include_scores=True)\n",
    "roc_mean,roc_std = umc_dt.get_mean_std_err_auc(y_pred,flx_y_train,flx_y_mouse_train)\n",
    "print(\"train roc auc mean: %0.2f +/- %0.2f\"%(roc_mean,roc_std))\n",
    "mw_mean,mw_std = umc_dt.get_mean_std_err_auc(y_pred,flx_y_train,flx_y_mouse_train,s,True)\n",
    "print(\"train mw auc mean: %0.2f +/- %0.2f\"%(mw_mean,mw_std))\n",
    "y_pred, s = model.predict(flx_X_validation,include_scores=True)\n",
    "roc_mean,roc_std = umc_dt.get_mean_std_err_auc(y_pred,flx_y_validation,flx_y_mouse_validation)\n",
    "print(\"val roc auc mean: %0.2f +/- %0.2f\"%(roc_mean,roc_std))\n",
    "mw_mean,mw_std = umc_dt.get_mean_std_err_auc(y_pred,flx_y_validation,flx_y_mouse_validation,s,True)\n",
    "print(\"val mw auc mean: %0.2f +/- %0.2f\"%(mw_mean,mw_std))\n",
    "\n",
    "y_pred, s = model.predict(flx_X,include_scores=True)\n",
    "roc_auc_dict = umc_dt.lpne_auc(y_pred,flx_y_task,flx_y_mouse)\n",
    "print(\"ROC AUCs: \",roc_auc_dict)\n",
    "mw_auc_dict = umc_dt.lpne_auc(y_pred,flx_y_task,flx_y_mouse,s,True)\n",
    "print(\"MW AUCs: \",mw_auc_dict)\n",
    "\n",
    "df = umc_dt.make_projection_csv(FLX_TRAIN_FILE,model,FULL_FEATURE_LIST,\n",
    "                    ['y_mouse_full','y_expDate_full','y_time_full','y_flx_full'],\n",
    "                    save_file = \".\\\\July_30_Projections\\\\{}_FLX_onto_FLX_flx_vs_saline_Train_Projection_2022_July_30.csv\".format(NETWORK_CONSTRAINT),\n",
    "                    auc_dict=mw_auc_dict,mousevar=\"y_mouse_full\")\n",
    "\n",
    "df = umc_dt.make_projection_csv(FLX_VAL_FILE,model,FULL_FEATURE_LIST,\n",
    "                    ['y_mouse_full','y_expDate_full','y_time_full','y_flx_full'],\n",
    "                    save_file = \".\\\\July_30_Projections\\\\{}_FLX_onto_FLX_flx_vs_saline_Val_Projection_2022_July_30.csv\".format(NETWORK_CONSTRAINT),\n",
    "                    auc_dict=mw_auc_dict,mousevar=\"y_mouse_full\")"
   ]
  },
  {
   "cell_type": "markdown",
   "metadata": {},
   "source": [
    "## EPM Projections"
   ]
  },
  {
   "cell_type": "code",
   "execution_count": 3,
   "metadata": {},
   "outputs": [
    {
     "name": "stdout",
     "output_type": "stream",
     "text": [
      "ROC AUC dict:  {'auc_method': 'sklearn_roc_auc', 'Mouse04193': 0.4999170876770178, 'Mouse04201': 0.5083145810290248, 'Mouse04202': 0.5059289442358759, 'Mouse04205': 0.5, 'Mouse04215': 0.4890957845784578, 'Mouse0630': 0.43684095247035265, 'Mouse0633': 0.5457186718938327, 'Mouse0634': 0.5046213093709884, 'Mouse0642': 0.5055807646169092, 'Mouse0643': 0.41035502958579884, 'Mouse1551': 0.4690484194275327, 'Mouse39114': 0.4693084693084693, 'Mouse39124': 0.5310246231847033, 'Mouse39125': 0.5082842013320231, 'Mouse39133': 0.46297807206818425, 'Mouse6291': 0.4088313171694097, 'Mouse6292': 0.48170855461218415, 'Mouse6293': 0.4736559139784946, 'Mouse69064': 0.477074939564867, 'Mouse69065': 0.5163890739506996, 'Mouse69074': 0.5029383267335075, 'Mouse8580': 0.4160910059456302, 'Mouse8581': 0.4684172335600907, 'Mouse8582': 0.5714285714285714, 'Mouse8891': 0.5443403876840976, 'Mouse8894': 0.3804690396737115}\n",
      "MW auc dict:  {'auc_method': 'mannWhitneyU', 'Mouse04193': (0.48169848657373115, 0.4375937268137211), 'Mouse04201': (0.5124623364735497, 0.5832940080794857), 'Mouse04202': (0.6829044959252816, 4.0256681212995653e-16), 'Mouse04205': (0.5172839506172839, 0.8694817827381617), 'Mouse04215': (0.4203514101410141, 0.00043497109322276315), 'Mouse0630': (0.41738894625405465, 0.001337921495709524), 'Mouse0633': (0.5740620916276532, 0.008149983490383464), 'Mouse0634': (0.45381543289117104, 0.10788007772557391), 'Mouse0642': (0.5186112415028078, 0.5536922204670318), 'Mouse0643': (0.3443331816112881, 3.9499272406020615e-06), 'Mouse1551': (0.4844806334740223, 0.5848097561641837), 'Mouse39114': (0.4603729603729604, 0.16745248405730606), 'Mouse39124': (0.5388114842690668, 0.09003497865684534), 'Mouse39125': (0.5587400371219565, 0.018106447858220617), 'Mouse39133': (0.4272103247383752, 0.000474621048595589), 'Mouse6291': (0.36854265095270233, 4.962083452933236e-08), 'Mouse6292': (0.4647109562628962, 0.14166376919803295), 'Mouse6293': (0.4248370804822418, 0.0014348287422564735), 'Mouse69064': (0.4024039752887456, 8.127267038958761e-05), 'Mouse69065': (0.5576865423051299, 0.008722968486125164), 'Mouse69074': (0.5103104726598703, 0.658392126736648), 'Mouse8580': (0.3548991304945527, 2.202104543303217e-06), 'Mouse8581': (0.4865124716553288, 0.6452456501675896), 'Mouse8582': (0.6587301587301587, 0.0981076780974621), 'Mouse8891': (0.541332042796976, 0.1429118784515422), 'Mouse8894': (0.32512977382276603, 1.8237502743481114e-05)}\n",
      "FLX->EPM roc-auc: 0.48416774134924745 +/- 0.008919539312827287\n",
      "FLX->EPM mw-auc: 0.48 +/- 0.02\n"
     ]
    }
   ],
   "source": [
    "with open(EPM_TRAIN_FILE,\"rb\") as f:\n",
    "    epm_train_dict = pickle.load(f)\n",
    "\n",
    "with open(EPM_VAL_FILE,\"rb\") as f:\n",
    "    epm_validation_dict = pickle.load(f)\n",
    "#Load the data\n",
    "NUM_FREQS = 56\n",
    "NUM_FEATURES = (epm_train_dict[\"X_power_1_2\"].shape[1] + \\\n",
    "                epm_train_dict[\"X_coh_1_2\"].shape[1] + \\\n",
    "                epm_train_dict[\"X_gc_1_2\"].shape[1]) // NUM_FREQS\n",
    "SCALE_VECTOR = np.array([np.arange(1,57) for feature in range(NUM_FEATURES)]).flatten()\n",
    "\n",
    "X_train = np.hstack([epm_train_dict[\"X_power_1_2\"]*FEATURE_WEIGHTS[0],\n",
    "                    epm_train_dict[\"X_coh_1_2\"],\n",
    "                    epm_train_dict[\"X_gc_1_2\"]])#*SCALE_VECTOR\n",
    "\n",
    "y_train = (epm_train_dict['y_ROI']%2).astype(bool)\n",
    "y_in_task_mask_train = ~epm_train_dict['y_Homecage'].astype(bool)\n",
    "y_mouse_train = epm_train_dict['y_mouse']\n",
    "y_time_train = epm_train_dict['y_time']\n",
    "train_nan_mask = (epm_train_dict['y_ROI'] > 0)\n",
    "\n",
    "\n",
    "X_train_task = X_train[np.logical_and(y_in_task_mask_train==1,train_nan_mask)==1]\n",
    "y_train_task = y_train[np.logical_and(y_in_task_mask_train==1,train_nan_mask)==1]\n",
    "y_mouse_train_task = y_mouse_train[np.logical_and(y_in_task_mask_train==1,train_nan_mask)==1]\n",
    "y_time_train_task = y_time_train[np.logical_and(y_in_task_mask_train==1,train_nan_mask)==1]\n",
    "\n",
    "X_val = np.hstack([epm_validation_dict[\"X_power_1_2\"]*FEATURE_WEIGHTS[0],\n",
    "                    epm_validation_dict[\"X_coh_1_2\"],\n",
    "                    epm_validation_dict[\"X_gc_1_2\"]])#*SCALE_VECTOR\n",
    "\n",
    "y_val = (epm_validation_dict['y_ROI']%2).astype(bool)\n",
    "y_in_task_mask_val= ~epm_validation_dict['y_Homecage'].astype(bool)\n",
    "y_mouse_val = epm_validation_dict['y_mouse']\n",
    "y_time_val = epm_validation_dict['y_time']\n",
    "val_nan_mask = (epm_validation_dict['y_ROI'] > 0)\n",
    "\n",
    "X_val_task = X_val[np.logical_and(y_in_task_mask_val==1,val_nan_mask)==1]\n",
    "y_val_task = y_val[np.logical_and(y_in_task_mask_val==1,val_nan_mask)==1]\n",
    "y_mouse_val_task = y_mouse_val[np.logical_and(y_in_task_mask_val==1,val_nan_mask)==1]\n",
    "y_time_val_task = y_time_val[np.logical_and(y_in_task_mask_val==1,val_nan_mask)==1]\n",
    "\n",
    "epm_X = np.vstack([X_train,X_val])\n",
    "epm_y_task = np.hstack([y_in_task_mask_train,y_in_task_mask_val])\n",
    "epm_y_mouse = np.hstack([y_mouse_train,y_mouse_val])\n",
    "epm_y_time = np.hstack([y_time_train,y_time_val])\n",
    "\n",
    "y_pred, s = model.predict(epm_X,include_scores=True)\n",
    "roc_auc_dict = umc_dt.lpne_auc(y_pred,epm_y_task,epm_y_mouse)\n",
    "mw_auc_dict = umc_dt.lpne_auc(y_pred,epm_y_task,epm_y_mouse,s,True)\n",
    "print(\"ROC AUC dict: \",roc_auc_dict)\n",
    "print(\"MW auc dict: \",mw_auc_dict)\n",
    "\n",
    "df = umc_dt.make_projection_csv(EPM_TRAIN_FILE,model,FEATURE_VECTOR,\n",
    "                    ['y_mouse','y_expDate','y_time','y_Homecage','y_ROI','y_vel','y_locx','y_locy'],\n",
    "                    save_file = \".\\\\July_30_Projections\\\\{}_FLX_onto_EPM_HC_vs_Task_Train_Projection_2022_July_30.csv\".format(NETWORK_CONSTRAINT),\n",
    "                    auc_dict=mw_auc_dict)\n",
    "\n",
    "df = umc_dt.make_projection_csv(EPM_VAL_FILE,model,FEATURE_VECTOR,\n",
    "                    ['y_mouse','y_expDate','y_time','y_Homecage','y_ROI','y_vel','y_locx','y_locy'],\n",
    "                    save_file = \".\\\\July_30_Projections\\\\{}_FLX_onto_EPM_HC_vs_Task_Val_Projection_2022_July_30.csv\".format(NETWORK_CONSTRAINT),\n",
    "                    auc_dict=mw_auc_dict)\n",
    "\n",
    "y_pred, s = model.predict(epm_X,include_scores=True)\n",
    "roc_mean,roc_std = umc_dt.get_mean_std_err_auc(y_pred,epm_y_task,epm_y_mouse)\n",
    "mw_mean,mw_std = umc_dt.get_mean_std_err_auc(y_pred,epm_y_task,epm_y_mouse,s,True)\n",
    "print(\"FLX->EPM roc-auc: {} +/- {}\".format(roc_mean,roc_std))\n",
    "print(\"FLX->EPM mw-auc: {:0.2f} +/- {:0.2f}\".format(mw_mean,mw_std))\n",
    "#umc_dt.make_recon_plots(model,flx_X,0,task=\"FLX onto EPM (HC vs Task) Train and Val\",saveFile=\"flx_onto_epm_recon.png\")"
   ]
  },
  {
   "cell_type": "markdown",
   "metadata": {},
   "source": [
    "## OFT Projections\n"
   ]
  },
  {
   "cell_type": "code",
   "execution_count": 4,
   "metadata": {},
   "outputs": [
    {
     "name": "stderr",
     "output_type": "stream",
     "text": [
      "c:\\Users\\micha\\Anaconda3\\envs\\cpne\\lib\\site-packages\\sklearn\\metrics\\_ranking.py:990: UndefinedMetricWarning: No negative samples in y_true, false positive value should be meaningless\n",
      "  warnings.warn(\n",
      "c:\\Users\\micha\\Anaconda3\\envs\\cpne\\lib\\site-packages\\sklearn\\metrics\\_ranking.py:990: UndefinedMetricWarning: No negative samples in y_true, false positive value should be meaningless\n",
      "  warnings.warn(\n",
      "c:\\Users\\micha\\Anaconda3\\envs\\cpne\\lib\\site-packages\\sklearn\\metrics\\_ranking.py:990: UndefinedMetricWarning: No negative samples in y_true, false positive value should be meaningless\n",
      "  warnings.warn(\n",
      "c:\\Users\\micha\\Anaconda3\\envs\\cpne\\lib\\site-packages\\sklearn\\metrics\\_ranking.py:990: UndefinedMetricWarning: No negative samples in y_true, false positive value should be meaningless\n",
      "  warnings.warn(\n"
     ]
    },
    {
     "name": "stdout",
     "output_type": "stream",
     "text": [
      "Mouse  Mouse04215  has only one class - AUC cannot be calculated\n",
      "n_positive samples  506\n",
      "n_negative samples  0\n",
      "Mouse  Mouse3192  has only one class - AUC cannot be calculated\n",
      "n_positive samples  279\n",
      "n_negative samples  0\n",
      "Mouse  Mouse3194  has only one class - AUC cannot be calculated\n",
      "n_positive samples  324\n",
      "n_negative samples  0\n",
      "Mouse  Mouse3203  has only one class - AUC cannot be calculated\n",
      "n_positive samples  500\n",
      "n_negative samples  0\n",
      "ROC AUC dict:  {'auc_method': 'sklearn_roc_auc', 'Mouse04191': 0.3643413771034898, 'Mouse04193': 0.47769328263624844, 'Mouse04201': 0.5343522521005258, 'Mouse04202': 0.5543531276673577, 'Mouse04205': 0.5172682350413579, 'Mouse04215': nan, 'Mouse3191': 0.40757380532573806, 'Mouse3192': nan, 'Mouse3193': 0.47506395906619764, 'Mouse3194': nan, 'Mouse3203': nan, 'Mouse39114': 0.5008647798742139, 'Mouse39124': 0.4566960252935862, 'Mouse39125': 0.4322689888727625, 'Mouse39133': 0.2969087238042191, 'Mouse69064': 0.4940508593203204, 'Mouse69065': 0.40365482784837625, 'Mouse69072': 0.4965854862596676, 'Mouse69074': 0.4691978609625668}\n",
      "MW AUC dict:  {'auc_method': 'mannWhitneyU', 'Mouse04191': (0.2900086586605429, 8.059581800070037e-15), 'Mouse04193': (0.4936930412215583, 0.7940238195093505), 'Mouse04201': (0.5538838675873425, 0.01771507514446673), 'Mouse04202': (0.6155143681664837, 6.063421977710032e-07), 'Mouse04205': (0.5416711426218355, 0.06235895364758483), 'Mouse3191': (0.34735973597359737, 1.177647992705247e-10), 'Mouse3193': (0.4517348896706108, 0.029519750656985238), 'Mouse39114': (0.44787735849056604, 0.04297287452901351), 'Mouse39124': (0.4567995332731105, 0.056274188184827635), 'Mouse39125': (0.38951378809869375, 1.7413810777724913e-05), 'Mouse39133': (0.2321474158137808, 3.492479097690127e-29), 'Mouse69064': (0.4392448868496773, 0.007771499326871129), 'Mouse69065': (0.39152818507657217, 3.7688873857978355e-06), 'Mouse69072': (0.4852906222002816, 0.513238860701982), 'Mouse69074': (0.4279241614000972, 0.0016866926227623567)}\n",
      "Mouse  Mouse04215  has only one class - AUC cannot be calculated\n",
      "n_positive samples  506\n",
      "n_negative samples  0\n",
      "Mouse  Mouse3192  has only one class - AUC cannot be calculated\n",
      "n_positive samples  279\n",
      "n_negative samples  0\n",
      "Mouse  Mouse3194  has only one class - AUC cannot be calculated\n",
      "n_positive samples  324\n",
      "n_negative samples  0\n",
      "Mouse  Mouse3203  has only one class - AUC cannot be calculated\n",
      "n_positive samples  500\n",
      "n_negative samples  0\n",
      "EPM->FLX roc-auc: 0.4587249060784419 +/- 0.01758395422978076\n",
      "FLX->OFT mw-auc: 0.44 +/- 0.03\n"
     ]
    },
    {
     "name": "stderr",
     "output_type": "stream",
     "text": [
      "c:\\Users\\micha\\Anaconda3\\envs\\cpne\\lib\\site-packages\\sklearn\\metrics\\_ranking.py:990: UndefinedMetricWarning: No negative samples in y_true, false positive value should be meaningless\n",
      "  warnings.warn(\n",
      "c:\\Users\\micha\\Anaconda3\\envs\\cpne\\lib\\site-packages\\sklearn\\metrics\\_ranking.py:990: UndefinedMetricWarning: No negative samples in y_true, false positive value should be meaningless\n",
      "  warnings.warn(\n",
      "c:\\Users\\micha\\Anaconda3\\envs\\cpne\\lib\\site-packages\\sklearn\\metrics\\_ranking.py:990: UndefinedMetricWarning: No negative samples in y_true, false positive value should be meaningless\n",
      "  warnings.warn(\n",
      "c:\\Users\\micha\\Anaconda3\\envs\\cpne\\lib\\site-packages\\sklearn\\metrics\\_ranking.py:990: UndefinedMetricWarning: No negative samples in y_true, false positive value should be meaningless\n",
      "  warnings.warn(\n"
     ]
    }
   ],
   "source": [
    "with open(OFT_TRAIN_FILE_NAME,'rb') as f:\n",
    "    train_dict = pickle.load(f)\n",
    "\n",
    "with open(OFT_VAL_FILE_NAME,'rb') as f:\n",
    "    val_dict = pickle.load(f)\n",
    "\n",
    "NUM_FREQS = 56\n",
    "NUM_FEATURES = np.hstack([train_dict[feature]*weight for feature,weight in zip(FEATURE_VECTOR,FEATURE_WEIGHTS)]).shape[1] // NUM_FREQS\n",
    "\n",
    "#Train Arrays\n",
    "oft_X_train = np.hstack([train_dict[feature]*weight for feature,weight in zip(FEATURE_VECTOR,FEATURE_WEIGHTS)])\n",
    "oft_y_hc_train = train_dict['y_Homecage'].astype(bool)\n",
    "oft_y_task_train = ~oft_y_hc_train\n",
    "oft_y_ROI_train = train_dict['y_ROI']\n",
    "oft_y_vel_train = train_dict['y_vel']\n",
    "oft_y_mouse_train = train_dict['y_mouse']\n",
    "oft_y_time_train = train_dict['y_time']\n",
    "\n",
    "#Validation Arrays\n",
    "oft_X_val = np.hstack([val_dict[feature] for feature in FEATURE_VECTOR])\n",
    "oft_y_hc_val = val_dict['y_Homecage'].astype(bool)\n",
    "oft_y_task_val = ~oft_y_hc_val\n",
    "oft_y_ROI_val = val_dict['y_ROI']\n",
    "oft_y_vel_val = val_dict['y_vel']\n",
    "oft_y_mouse_val = val_dict['y_mouse']\n",
    "oft_y_time_val = val_dict['y_time']\n",
    "\n",
    "oft_X = np.vstack([oft_X_train,oft_X_val])\n",
    "oft_y_task = np.hstack([oft_y_task_train,oft_y_task_val])\n",
    "oft_y_mouse = np.hstack([oft_y_mouse_train,oft_y_mouse_val])\n",
    "\n",
    "y_pred, s = model.predict(oft_X,include_scores=True)\n",
    "roc_auc_dict = umc_dt.lpne_auc(y_pred,oft_y_task,oft_y_mouse)\n",
    "mw_auc_dict = umc_dt.lpne_auc(y_pred,oft_y_task,oft_y_mouse,s,True)\n",
    "print(\"ROC AUC dict: \",roc_auc_dict)\n",
    "print(\"MW AUC dict: \",mw_auc_dict)\n",
    "\n",
    "df = umc_dt.make_projection_csv(OFT_TRAIN_FILE_NAME,model,FEATURE_VECTOR,\n",
    "                    ['y_mouse','y_expDate','y_time','y_Homecage','y_ROI','y_vel'],\n",
    "                    save_file = \".\\\\July_30_Projections\\\\FLX_onto_OFT_HC_vs_Task_Train_Projection_2022_July_30.csv\".format(NETWORK_CONSTRAINT),\n",
    "                    auc_dict=mw_auc_dict)\n",
    "\n",
    "df = umc_dt.make_projection_csv(OFT_VAL_FILE_NAME,model,FEATURE_VECTOR,\n",
    "                    ['y_mouse','y_expDate','y_time','y_Homecage','y_ROI','y_vel'],\n",
    "                    save_file = \".\\\\July_30_Projections\\\\FLX_onto_OFT_HC_vs_Task_Val_Projection_2022_July_30.csv\".format(NETWORK_CONSTRAINT),\n",
    "                    auc_dict=mw_auc_dict)\n",
    "\n",
    "y_pred, s = model.predict(oft_X,include_scores=True)\n",
    "roc_mean,roc_std = umc_dt.get_mean_std_err_auc(y_pred,oft_y_task,oft_y_mouse)\n",
    "mw_mean,mw_std = umc_dt.get_mean_std_err_auc(y_pred,oft_y_task,oft_y_mouse,s,True)\n",
    "print(\"EPM->FLX roc-auc: {} +/- {}\".format(roc_mean,roc_std))\n",
    "print(\"FLX->OFT mw-auc: {:0.2f} +/- {:0.2f}\".format(mw_mean,mw_std))\n",
    "#umc_dt.make_recon_plots(model,oft_X,0,task=\"FLX onto OFT (HC vs Task) Train and Val\",saveFile=\"flx_onto_oft_recon.png\")"
   ]
  },
  {
   "cell_type": "code",
   "execution_count": null,
   "metadata": {},
   "outputs": [],
   "source": []
  }
 ],
 "metadata": {
  "kernelspec": {
   "display_name": "Python 3.9.7 ('cpne')",
   "language": "python",
   "name": "python3"
  },
  "language_info": {
   "codemirror_mode": {
    "name": "ipython",
    "version": 3
   },
   "file_extension": ".py",
   "mimetype": "text/x-python",
   "name": "python",
   "nbconvert_exporter": "python",
   "pygments_lexer": "ipython3",
   "version": "3.9.7"
  },
  "orig_nbformat": 4,
  "vscode": {
   "interpreter": {
    "hash": "e7fcc668915e92e9e68f231fbede55b84f4413bfe6d4c43e44892e9f909bca93"
   }
  }
 },
 "nbformat": 4,
 "nbformat_minor": 2
}

{
 "cells": [
  {
   "cell_type": "code",
   "execution_count": 1,
   "metadata": {},
   "outputs": [],
   "source": [
    "import pickle\n",
    "import numpy as np\n",
    "import torch\n",
    "import matplotlib.pyplot as plt\n",
    "import os\n",
    "import sys\n",
    "import sklearn\n",
    "RANDOM_STATE=42"
   ]
  },
  {
   "cell_type": "code",
   "execution_count": 14,
   "metadata": {},
   "outputs": [
    {
     "name": "stdout",
     "output_type": "stream",
     "text": [
      " Volume in drive E is HunterData\n",
      " Volume Serial Number is 1C77-F27A\n",
      "\n",
      " Directory of e:\\Anx-Analyses-March-7\\Final_Analyses\\EPM_model\n",
      "\n",
      "03/04/2022  05:52 PM    <DIR>          .\n",
      "03/04/2022  05:52 PM    <DIR>          ..\n",
      "02/06/2022  09:23 PM         3,382,895 EPM_FINAL_MODEL_10000_scaled_fixed.pt\n",
      "02/07/2022  01:07 AM         3,058,799 EPM_FINAL_MODEL_1000_scaled_fixed.pt\n",
      "02/04/2022  07:21 PM         3,826,095 EPM_FINAL_MODEL_100_scaled.pt\n",
      "02/07/2022  12:35 AM         3,026,415 EPM_FINAL_MODEL_100_scaled_fixed.pt\n",
      "02/07/2022  03:49 PM         2,089,263 EPM_FINAL_MODEL_2000_scaled_fixed.pt\n",
      "02/03/2022  11:26 AM         4,722,671 EPM_FINAL_MODEL_25000_scaled.pt\n",
      "02/07/2022  12:09 AM         3,023,855 EPM_FINAL_MODEL_30_scaled_fixed.pt\n",
      "02/04/2022  04:17 PM         5,622,895 EPM_FINAL_MODEL_50000_scaled.pt\n",
      "02/06/2022  05:52 PM         4,823,215 EPM_FINAL_MODEL_50000_scaled_fixed.pt\n",
      "02/07/2022  05:13 PM         2,197,295 EPM_FINAL_MODEL_5000_FINAL.pt\n",
      "02/07/2022  12:07 AM         3,024,943 EPM_FINAL_MODEL_60_scaled_fixed.pt\n",
      "03/11/2022  03:58 PM           145,350 EPM_Final_Network_Generation.ipynb\n",
      "03/11/2022  03:58 PM           684,403 EPM_Final_Network_Generation._Old_Features.ipynb\n",
      "03/01/2022  03:09 PM           104,130 EPM_Final_Network_VAE.ipynb\n",
      "02/17/2022  12:03 AM         3,027,225 EPM_FLX_Train_Data_Projection_2022_02_16.csv\n",
      "02/17/2022  12:03 AM           185,102 EPM_FLX_Val_Data_Projection_2022_02_16.csv\n",
      "02/07/2022  08:21 PM           595,133 EPM_projections.zip\n",
      "02/06/2022  01:29 AM       205,204,607 EPM_test_dict.pkl\n",
      "03/04/2022  11:07 AM       397,047,444 EPM_test_dict_new.pkl\n",
      "03/04/2022  11:09 AM       397,047,444 EPM_test_dict_old_features.pkl\n",
      "02/06/2022  01:29 AM       455,002,941 EPM_train_dict.pkl\n",
      "03/04/2022  11:07 AM       880,379,218 EPM_train_dict_new.pkl\n",
      "03/04/2022  11:09 AM       880,379,218 EPM_train_dict_old_features.pkl\n",
      "02/06/2022  01:29 AM        67,884,415 EPM_validation_dict.pkl\n",
      "03/04/2022  11:07 AM       131,348,372 EPM_validation_dict_new.pkl\n",
      "03/04/2022  11:09 AM       131,348,372 EPM_validation_dict_old_features.pkl\n",
      "03/04/2022  02:03 PM         7,165,243 OLD_FEATURE_MODEL.pt\n",
      "03/04/2022  05:52 PM         7,164,923 OLD_FEATURE_MODEL_FLIPPED_LABELS.pt\n",
      "03/03/2022  04:28 PM    <DIR>          EPM_projections\n",
      "03/08/2022  07:07 PM         7,356,283 EPM_model_old_features_unscaled_2022_March_8.pt\n",
      "03/08/2022  07:14 PM           645,834 EPM_Validation_Projection_2022_March_08.csv\n",
      "03/08/2022  07:14 PM           105,493 EPM_Training_Projection_2022_March_08.csv\n",
      "03/08/2022  07:21 PM           445,351 EPM_model_OFT_Training_Projection_2022_March_08.csv\n",
      "03/08/2022  07:21 PM            81,758 EPM_model_OFT_Validation_Projection_2022_March_08.csv\n",
      "03/08/2022  07:23 PM            66,586 EPM_Model_FLX_Train_Projection_2022_March_08.csv\n",
      "03/08/2022  07:23 PM            66,586 EPM_Model_FLX_Validation_Projection_2022_March_08.csv\n",
      "03/11/2022  04:18 PM         3,985,985 dCSFA-best-model.pt\n",
      "03/11/2022  05:47 PM           203,554 EPM_Final_Network_DS_March_11.ipynb\n",
      "03/15/2022  12:06 PM         3,985,985 dCSFA-NMF-best-model.pt\n",
      "05/17/2022  09:51 PM            10,283 EPM_Train_Test_Val_Split.ipynb\n",
      "03/23/2022  09:15 AM       692,508,501 EPM_train_dict_hand_picked.pkl\n",
      "03/23/2022  09:15 AM       181,361,360 EPM_val_dict_hand_picked.pkl\n",
      "03/23/2022  09:15 AM       379,077,620 EPM_test_dict_hand_picked.pkl\n",
      "03/22/2022  11:11 PM           445,641 EPM_network_hand_picked.ipynb\n",
      "03/15/2022  01:04 PM         3,985,985 EPM_HC_MSE_model.pt\n",
      "03/23/2022  02:38 PM         5,717,121 EPM_HC_IS_model.pt\n",
      "03/16/2022  11:10 AM         4,841,665 EPM_hc_vs_task_hand_picked.pt\n",
      "03/28/2022  06:09 PM           352,305 EPM_network_hc_vs_task_March_22.ipynb\n",
      "03/22/2022  11:34 PM         4,902,337 EPM_hc_vs_task_hand_picked_no velocity.pt\n",
      "03/24/2022  01:16 PM         6,964,993 EPM_hc_vs_task_hand_picked_no_velocity.pt\n",
      "03/24/2022  02:59 PM         6,964,993 EPM_hc_vs_task_hand_picked_no_velocity_no_feature_balancing.pt\n",
      "03/24/2022  03:37 PM         6,964,609 EPM_hc_vs_task_hand_picked_no_velocity_feature_balancing.pt\n",
      "05/17/2022  09:50 PM       692,608,212 EPM_train_dict_May_17.pkl\n",
      "05/17/2022  09:50 PM       181,387,560 EPM_val_dict_May_17.pkl\n",
      "05/17/2022  09:50 PM       379,132,261 EPM_test_dict_May_17.pkl\n",
      "              54 File(s)  6,167,680,742 bytes\n",
      "               3 Dir(s)  477,256,613,888 bytes free\n"
     ]
    }
   ],
   "source": [
    "!dir"
   ]
  },
  {
   "cell_type": "code",
   "execution_count": 2,
   "metadata": {},
   "outputs": [],
   "source": [
    "DATA_PATH = \"E:\\\\Anx-Analyses-March-7\\\\ANX_EPM_data_2022_May_17.pkl\"\n",
    "sys.path.append(DATA_PATH)\n",
    "with open(DATA_PATH,\"rb\") as f:\n",
    "    data_dict = pickle.load(f)"
   ]
  },
  {
   "cell_type": "markdown",
   "metadata": {},
   "source": [
    "### Dalton Hand Picked Train Test Splits"
   ]
  },
  {
   "cell_type": "code",
   "execution_count": 3,
   "metadata": {},
   "outputs": [],
   "source": [
    "EPM_TRAIN_MICE = [\n",
    "    'Mouse04201',\n",
    "    'Mouse04202',\n",
    "    'Mouse04205',\n",
    "    'Mouse04215',\n",
    "    'Mouse39134',\n",
    "    'Mouse69064',\n",
    "    'Mouse69074',\n",
    "    'Mouse3191',\n",
    "    'Mouse3193',\n",
    "    'Mouse3204',\n",
    "    'Mouse3192',\n",
    "    'Mouse3194',\n",
    "    'Mouse3203',\n",
    "    'Mouse04191',\n",
    "    'Mouse39114',\n",
    "    'Mouse39124',\n",
    "    'Mouse39133',\n",
    "    'Mouse69072',\n",
    "    'Mouse0630',\n",
    "    'Mouse0634',\n",
    "    'Mouse0643',\n",
    "    'Mouse1551',\n",
    "    'Mouse6293',\n",
    "    'Mouse8580',\n",
    "    'Mouse8581',\n",
    "    'Mouse8891',\n",
    "    'Mouse6291',\n",
    "    'Mouse6292',\n",
    "    'Mouse8582',\n",
    "    'Mouse8894',\n",
    "]\n",
    "\n",
    "EPM_VAL_MICE = [\n",
    "    'Mouse04193',\n",
    "    'Mouse39125',\n",
    "    'Mouse69065',\n",
    "    'Mouse0633',\n",
    "    'Mouse0642',\n",
    "]\n",
    "\n",
    "EPM_TEST_MICE = [\n",
    "    'Mouse39115',\n",
    "    'Mouse39122',\n",
    "    'Mouse39132',\n",
    "    'Mouse39135',\n",
    "    'Mouse69075',\n",
    "    'Mouse04203',\n",
    "    'Mouse39121',\n",
    "    'Mouse69061',\n",
    "    'Mouse69071',\n",
    "    'Mouse0631',\n",
    "    'Mouse0641',\n",
    "    'Mouse1552',\n",
    "    'Mouse1553',\n",
    "    'Mouse6672',\n",
    "    'Mouse6674',\n",
    "    'Mouse8893',\n",
    "    ]"
   ]
  },
  {
   "cell_type": "code",
   "execution_count": 8,
   "metadata": {},
   "outputs": [
    {
     "data": {
      "text/plain": [
       "dict_keys(['X_power', 'X_directedSpectrum', 'y_mouse', 'y_ROI', 'y_avg_velocity', 'y_expDate', 'y_Homecage', 'y_time', 'area', 'channel', 'powerFeatures', 'dsFeatures', 's', 'fs', 'preprocessVersion', 'powVersion', 'dsVersion', 'windowLength', 'channelArea', 'fsRaw', 'X_power_1_2', 'X_coh_1_2', 'X_gc_1_2', 'y_locx', 'y_locy'])"
      ]
     },
     "execution_count": 8,
     "metadata": {},
     "output_type": "execute_result"
    }
   ],
   "source": [
    "data_dict.keys()"
   ]
  },
  {
   "cell_type": "code",
   "execution_count": 9,
   "metadata": {},
   "outputs": [],
   "source": [
    "X_psd = data_dict[\"X_power\"]\n",
    "X_ds = data_dict[\"X_directedSpectrum\"]\n",
    "X_power_1_2 = data_dict[\"X_power_1_2\"]\n",
    "X_coh_1_2 = data_dict[\"X_coh_1_2\"]\n",
    "X_gc_1_2 = data_dict[\"X_gc_1_2\"]\n",
    "y_mouse = data_dict[\"y_mouse\"]\n",
    "y_ROI = data_dict[\"y_ROI\"]\n",
    "y_vel = data_dict[\"y_avg_velocity\"]\n",
    "y_expDate = data_dict[\"y_expDate\"]\n",
    "y_Homecage = data_dict[\"y_Homecage\"]\n",
    "y_time = data_dict[\"y_time\"]\n",
    "y_locx = data_dict[\"y_locx\"]\n",
    "y_locy = data_dict[\"y_locy\"]\n"
   ]
  },
  {
   "cell_type": "markdown",
   "metadata": {},
   "source": [
    "### Save Training Data"
   ]
  },
  {
   "cell_type": "code",
   "execution_count": 10,
   "metadata": {},
   "outputs": [],
   "source": [
    "train_mask = np.zeros_like(y_time)\n",
    "for mouse in EPM_TRAIN_MICE:\n",
    "    mouse_idxs = np.array(y_mouse)==mouse\n",
    "    train_mask = np.logical_or(train_mask,mouse_idxs)\n",
    "\n",
    "X_psd_train, X_ds_train = X_psd[train_mask==1], X_ds[train_mask==1]\n",
    "X_power_1_2_train = X_power_1_2[train_mask==1]\n",
    "X_coh_1_2_train = X_coh_1_2[train_mask==1]\n",
    "X_gc_1_2_train = X_gc_1_2[train_mask==1]\n",
    "y_mouse_train = np.array(y_mouse)[train_mask==1]\n",
    "y_ROI_train = y_ROI[train_mask==1]\n",
    "y_vel_train = y_vel[train_mask==1]\n",
    "y_expDate_train = np.array(y_expDate)[train_mask==1]\n",
    "y_Homecage_train = y_Homecage[train_mask==1]\n",
    "y_time_train = np.array(y_time)[train_mask==1]\n",
    "y_locx_train = np.array(y_locx)[train_mask==1]\n",
    "y_locy_train = np.array(y_locy)[train_mask==1]\n",
    "\n",
    "train_dict = {\n",
    "    \"X_psd\":X_psd_train,\n",
    "    \"X_ds\":X_ds_train,\n",
    "    \"X_power_1_2\":X_power_1_2_train,\n",
    "    \"X_coh_1_2\":X_coh_1_2_train,\n",
    "    \"X_gc_1_2\":X_gc_1_2_train,\n",
    "    \"y_mouse\":y_mouse_train,\n",
    "    \"y_locx\":y_locx_train,\n",
    "    \"y_locy\":y_locy_train,\n",
    "    \"y_ROI\":y_ROI_train,\n",
    "    \"y_vel\":y_vel_train,\n",
    "    \"y_expDate\":y_expDate_train,\n",
    "    \"y_Homecage\":y_Homecage_train,\n",
    "    \"y_time\":y_time_train,\n",
    "    \"mice\":EPM_TRAIN_MICE,\n",
    "    \"info\": \"This training set was hand selected by Dalton and processed on May 17 2022\"\n",
    "}\n",
    "\n",
    "TRAIN_FILE_NAME = \"EPM_train_dict_May_17.pkl\"\n",
    "with open(TRAIN_FILE_NAME,\"wb\") as f:\n",
    "    pickle.dump(train_dict,f)"
   ]
  },
  {
   "cell_type": "markdown",
   "metadata": {},
   "source": [
    "### Save Validation Data"
   ]
  },
  {
   "cell_type": "code",
   "execution_count": 11,
   "metadata": {},
   "outputs": [],
   "source": [
    "validation_mask = np.zeros_like(y_time)\n",
    "for mouse in EPM_VAL_MICE:\n",
    "    validation_mask = np.logical_or(validation_mask,np.array(y_mouse)==mouse)\n",
    "\n",
    "X_psd_validation, X_ds_validation = X_psd[validation_mask==1], X_ds[validation_mask==1]\n",
    "X_power_1_2_validation = X_power_1_2[validation_mask==1]\n",
    "X_coh_1_2_validation = X_coh_1_2[validation_mask==1]\n",
    "X_gc_1_2_validation = X_gc_1_2[validation_mask==1]\n",
    "y_mouse_validation = np.array(y_mouse)[validation_mask==1]\n",
    "y_ROI_validation = y_ROI[validation_mask==1]\n",
    "y_vel_validation = y_vel[validation_mask==1]\n",
    "y_expDate_validation = np.array(y_expDate)[validation_mask==1]\n",
    "y_Homecage_validation = y_Homecage[validation_mask==1]\n",
    "y_time_validation = np.array(y_time)[validation_mask==1]\n",
    "y_locx_validation = np.array(y_locx)[validation_mask==1]\n",
    "y_locy_validation = np.array(y_locy)[validation_mask==1]\n",
    "validation_dict = {\n",
    "    \"X_psd\":X_psd_validation,\n",
    "    \"X_ds\":X_ds_validation,\n",
    "    \"X_power_1_2\":X_power_1_2_validation,\n",
    "    \"X_coh_1_2\":X_coh_1_2_validation,\n",
    "    \"X_gc_1_2\":X_gc_1_2_validation,\n",
    "    \"y_mouse\":y_mouse_validation,\n",
    "    \"y_locx\":y_locx_validation,\n",
    "    \"y_locy\":y_locy_validation,\n",
    "    \"y_ROI\":y_ROI_validation,\n",
    "    \"y_vel\":y_vel_validation,\n",
    "    \"y_expDate\":y_expDate_validation,\n",
    "    \"y_Homecage\":y_Homecage_validation,\n",
    "    \"y_time\":y_time_validation,\n",
    "    \"mice\":EPM_VAL_MICE,\n",
    "    \"info\": \"This validation set was hand selected by Dalton and processed on March 15 2022\"\n",
    "}\n",
    "\n",
    "VAL_FILE_NAME = \"EPM_val_dict_May_17.pkl\"\n",
    "with open(VAL_FILE_NAME,\"wb\") as f:\n",
    "    pickle.dump(validation_dict,f)"
   ]
  },
  {
   "cell_type": "markdown",
   "metadata": {},
   "source": [
    "### Save Test Data"
   ]
  },
  {
   "cell_type": "code",
   "execution_count": 12,
   "metadata": {},
   "outputs": [],
   "source": [
    "test_mask = np.zeros_like(y_time)\n",
    "for mouse in EPM_TEST_MICE:\n",
    "    test_mask = np.logical_or(test_mask,np.array(y_mouse)==mouse)\n",
    "\n",
    "X_psd_test, X_ds_test = X_psd[test_mask==1], X_ds[test_mask==1]\n",
    "X_power_1_2_test = X_power_1_2[test_mask==1]\n",
    "X_coh_1_2_test = X_coh_1_2[test_mask==1]\n",
    "X_gc_1_2_test = X_gc_1_2[test_mask==1]\n",
    "y_mouse_test = np.array(y_mouse)[test_mask==1]\n",
    "y_ROI_test = y_ROI[test_mask==1]\n",
    "y_vel_test = y_vel[test_mask==1]\n",
    "y_expDate_test = np.array(y_expDate)[test_mask==1]\n",
    "y_Homecage_test = y_Homecage[test_mask==1]\n",
    "y_time_test = np.array(y_time)[test_mask==1]\n",
    "y_locx_test = np.array(y_locx)[test_mask==1]\n",
    "y_locy_test = np.array(y_locy)[test_mask==1]\n",
    "\n",
    "test_dict = {\n",
    "    \"X_psd\":X_psd_test,\n",
    "    \"X_ds\":X_ds_test,\n",
    "    \"X_power_1_2\":X_power_1_2_test,\n",
    "    \"X_coh_1_2\":X_coh_1_2_test,\n",
    "    \"X_gc_1_2\":X_gc_1_2_test,\n",
    "    \"y_mouse\":y_mouse_test,\n",
    "    \"y_locx\":y_locx_test,\n",
    "    \"y_locy\":y_locy_test,\n",
    "    \"y_ROI\":y_ROI_test,\n",
    "    \"y_vel\":y_vel_test,\n",
    "    \"y_expDate\":y_expDate_test,\n",
    "    \"y_Homecage\":y_Homecage_test,\n",
    "    \"y_time\":y_time_test,\n",
    "    \"mice\":EPM_TEST_MICE,\n",
    "    \"info\": \"This test set was hand selected by Dalton and processed on March 15 2022\"\n",
    "}\n",
    "\n",
    "TEST_FILE_NAME = \"EPM_test_dict_May_17.pkl\"\n",
    "with open(TEST_FILE_NAME,\"wb\") as f:\n",
    "    pickle.dump(test_dict,f)"
   ]
  },
  {
   "cell_type": "code",
   "execution_count": null,
   "metadata": {},
   "outputs": [],
   "source": []
  }
 ],
 "metadata": {
  "interpreter": {
   "hash": "9c5fb8e4bb86d2be894c1c1230d355df1fb941695ed0103f7c22de0e950651de"
  },
  "kernelspec": {
   "display_name": "Python 3.9.7 ('lpne')",
   "language": "python",
   "name": "python3"
  },
  "language_info": {
   "codemirror_mode": {
    "name": "ipython",
    "version": 3
   },
   "file_extension": ".py",
   "mimetype": "text/x-python",
   "name": "python",
   "nbconvert_exporter": "python",
   "pygments_lexer": "ipython3",
   "version": "3.9.7"
  },
  "orig_nbformat": 4
 },
 "nbformat": 4,
 "nbformat_minor": 2
}

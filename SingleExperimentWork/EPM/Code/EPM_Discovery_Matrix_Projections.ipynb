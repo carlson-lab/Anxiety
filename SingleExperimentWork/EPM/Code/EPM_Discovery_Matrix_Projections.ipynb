{
 "cells": [
  {
   "cell_type": "code",
   "execution_count": 6,
   "metadata": {},
   "outputs": [
    {
     "name": "stdout",
     "output_type": "stream",
     "text": [
      "Using device: cuda:0\n"
     ]
    }
   ],
   "source": [
    "import pickle\n",
    "import numpy as np\n",
    "import torch\n",
    "import matplotlib.pyplot as plt\n",
    "import os\n",
    "import sys\n",
    "import sklearn\n",
    "from sklearn.model_selection import train_test_split\n",
    "from sklearn.preprocessing import OneHotEncoder\n",
    "import pandas as pd\n",
    "\n",
    "MODEL_NAME = \".\\\\{}_{}_10_res_loss_10_power_features.pt\".format(\"Positive\",\"EPM\")\n",
    "EPM_TRAIN_DICT_PATH = \".\\\\EPM_model\\\\EPM_train_dict_May_17.pkl\"\n",
    "EPM_VAL_DICT_PATH = \".\\\\EPM_model\\\\EPM_val_dict_May_17.pkl\"\n",
    "OFT_TRAIN_FILE_NAME = \".\\\\OFT_model\\\\OFT_train_dict_old_features_hand_picked.pkl\"\n",
    "OFT_VAL_FILE_NAME = \".\\\\OFT_model\\\\OFT_validation_dict_old_features_hand_picked.pkl\"\n",
    "FLX_TRAIN_FILE = \".\\\\FLX_model\\\\FLX_train_dict_old_features.pkl\"\n",
    "FLX_VAL_FILE = \".\\\\FLX_model\\\\FLX_validation_dict_old_features.pkl\"\n",
    "\n",
    "FEATURE_LIST = ['X_power_1_2','X_coh_1_2','X_gc_1_2']\n",
    "FEATURE_VECTOR = FEATURE_LIST\n",
    "FEATURE_WEIGHTS = [10,1,1]\n",
    "NETWORK_CONSTRAINT = \"Positive\"\n",
    "UMC_PATH = \".\\\\Universal-Mouse-Code\\\\\"\n",
    "\n",
    "sys.path.append(UMC_PATH)\n",
    "#from dCSFA_model import dCSFA_model\n",
    "import umc_data_tools as umc_dt\n",
    "from dCSFA_NMF import dCSFA_NMF\n",
    "\n",
    "if torch.cuda.is_available():\n",
    "    device=\"cuda:0\"\n",
    "else:\n",
    "    device=\"cpu\"\n",
    "\n",
    "\n",
    "print(\"Using device: %s\"%(device))\n",
    "\n",
    "#For Consistency\n",
    "RANDOM_STATE=42\n",
    "\n",
    "import pandas as pd\n",
    "\n",
    "model = torch.load(MODEL_NAME,map_location='cpu')\n",
    "model.device = \"cpu\""
   ]
  },
  {
   "cell_type": "code",
   "execution_count": 3,
   "metadata": {},
   "outputs": [],
   "source": [
    "#We aren't working with the test data yet\n",
    "with open(EPM_TRAIN_DICT_PATH,\"rb\") as f:\n",
    "    train_dict = pickle.load(f)\n",
    "\n",
    "with open(EPM_VAL_DICT_PATH,\"rb\") as f:\n",
    "    validation_dict = pickle.load(f)\n",
    "\n",
    "#scale_vector = np.array([np.arange(1,57) for feature in range(64)]).flatten()\n",
    "#Load the data\n",
    "running_idx = 0\n",
    "feature_groups = []\n",
    "for idx,feature in enumerate(FEATURE_VECTOR):\n",
    "    f_begin = running_idx\n",
    "    f_end = f_begin + train_dict[feature].shape[1] \n",
    "    if idx == 0:\n",
    "        f_end = f_end -1\n",
    "    feature_groups.append((f_begin,f_end))\n",
    "\n",
    "    running_idx = f_end\n",
    "\n",
    "X_train = np.hstack([train_dict[feature]*weight for feature,weight in zip(FEATURE_VECTOR,FEATURE_WEIGHTS)])\n",
    "y_roi_train = ~(train_dict['y_ROI']%2).astype(bool)\n",
    "y_hc_train = train_dict['y_Homecage'].astype(bool)\n",
    "y_vel_train = np.array(train_dict['y_vel'])\n",
    "y_mouse_train = train_dict['y_mouse']\n",
    "y_time_train = train_dict['y_time']\n",
    "\n",
    "train_roi_nan_mask = (train_dict['y_ROI'] > 0)\n",
    "train_in_hc_mask = y_hc_train\n",
    "train_in_task_mask = ~y_hc_train\n",
    "train_velocity_gt_8_mask = np.ones_like(y_time_train)#(y_vel_train > 0)\n",
    "\n",
    "train_with_hc_mask = train_velocity_gt_8_mask\n",
    "#train_with_hc_mask = np.logical_and(train_roi_nan_mask,train_velocity_gt_8_mask)\n",
    "train_in_task_mask = np.logical_and(train_with_hc_mask,train_in_task_mask)\n",
    "\n",
    "\n",
    "X_task_train = X_train[train_with_hc_mask==1]\n",
    "y_hc_task_train = ~y_hc_train[train_with_hc_mask==1]\n",
    "y_mouse_task_train = y_mouse_train[train_with_hc_mask==1]\n",
    "y_roi_task_train = y_roi_train[train_with_hc_mask==1]\n",
    "\n",
    "X_validation = np.hstack([validation_dict[feature]*weight for feature,weight in zip(FEATURE_VECTOR,FEATURE_WEIGHTS)])\n",
    "y_roi_validation = ~(validation_dict['y_ROI']%2).astype(bool)\n",
    "y_hc_validation = validation_dict['y_Homecage'].astype(bool)\n",
    "y_vel_validation = validation_dict['y_vel']\n",
    "y_mouse_validation = validation_dict['y_mouse']\n",
    "y_time_validation = validation_dict['y_time']\n",
    "validation_roi_nan_mask = (validation_dict['y_ROI'] > 0)\n",
    "validation_in_task_mask = ~y_hc_validation\n",
    "validation_in_hc_mask = y_hc_validation\n",
    "validation_velocity_gt_8_mask = np.ones_like(y_time_validation)#(y_vel_validation > 0)\n",
    "\n",
    "validation_with_hc_mask = np.logical_and(validation_roi_nan_mask,validation_velocity_gt_8_mask)\n",
    "validation_with_hc_mask = validation_velocity_gt_8_mask\n",
    "validation_in_task_mask = np.logical_and(validation_with_hc_mask,validation_in_task_mask)\n",
    "\n",
    "X_task_val = X_validation[validation_with_hc_mask==1]\n",
    "y_hc_task_val = ~y_hc_validation[validation_with_hc_mask==1]\n",
    "y_mouse_task_val = y_mouse_validation[validation_with_hc_mask==1]\n",
    "y_roi_task_val = y_roi_validation[validation_with_hc_mask==1]\n",
    "\n",
    "intercept_mask = OneHotEncoder().fit_transform(y_mouse_task_train.reshape(-1,1)).todense()"
   ]
  },
  {
   "cell_type": "code",
   "execution_count": 7,
   "metadata": {},
   "outputs": [
    {
     "name": "stdout",
     "output_type": "stream",
     "text": [
      "train roc auc mean: 0.99 +/- 0.00\n",
      "train mw auc mean: 0.99 +/- 0.00\n",
      "val roc auc mean: 0.69 +/- 0.03\n",
      "val mw auc mean: 0.81 +/- 0.02\n",
      "train roc auc dict:  {'auc_method': 'sklearn_roc_auc', 'Mouse04201': 0.9952229299363058, 'Mouse04202': 0.9984662576687117, 'Mouse04205': 0.9444444444444444, 'Mouse04215': 0.9928977272727273, 'Mouse0630': 0.9991708126036485, 'Mouse0634': 0.9842105263157894, 'Mouse0643': 0.9940828402366864, 'Mouse1551': 0.9885145482388974, 'Mouse39114': 0.9873737373737373, 'Mouse39124': 1.0, 'Mouse39133': 1.0, 'Mouse6291': 0.9991909385113269, 'Mouse6292': 0.9992050874403815, 'Mouse6293': 0.9959677419354839, 'Mouse69064': 0.9982876712328768, 'Mouse69074': 1.0, 'Mouse8580': 0.9863387978142076, 'Mouse8581': 0.9807256235827664, 'Mouse8582': 0.9285714285714286, 'Mouse8891': 0.9975083056478405, 'Mouse8894': 0.9879032258064516}\n",
      "train mw auc dict:  {'auc_method': 'mannWhitneyU', 'Mouse04201': (0.9951085090964568, 2.205912216434579e-105), 'Mouse04202': (0.9999450599761927, 1.291921524006752e-109), 'Mouse04205': (0.9012345679012346, 7.825305599519989e-05), 'Mouse04215': (0.9970372037203721, 7.908770789573371e-107), 'Mouse0630': (1.0, 5.695529992412083e-84), 'Mouse0634': (0.9982028241335045, 2.1124589761156484e-67), 'Mouse0643': (0.9998634501593081, 1.1281175943649506e-49), 'Mouse1551': (0.9970119149889815, 1.3229907826264084e-68), 'Mouse39114': (1.0, 5.543004380911705e-68), 'Mouse39124': (1.0, 9.339016637569592e-106), 'Mouse39133': (1.0, 2.389099291754851e-127), 'Mouse6291': (1.0, 1.5158069385857266e-95), 'Mouse6292': (1.0, 2.5704434269544583e-96), 'Mouse6293': (0.9977680026067123, 6.3563305692899e-99), 'Mouse69064': (0.9966693526725758, 1.8242789629316173e-89), 'Mouse69074': (1.0, 4.397637037822473e-102), 'Mouse8580': (0.9962710932398529, 5.782316683039055e-59), 'Mouse8581': (0.9949206349206349, 4.172104543094191e-64), 'Mouse8582': (1.0, 1.66984627324056e-07), 'Mouse8891': (0.9983781097130301, 7.423153150780225e-70), 'Mouse8894': (1.0, 1.5938443338939939e-34)}\n",
      "validation roc auc dict:  {'auc_method': 'sklearn_roc_auc', 'Mouse04193': 0.5872071813126679, 'Mouse0633': 0.7278511526408606, 'Mouse0642': 0.7200751056172744, 'Mouse39125': 0.6689867889507589, 'Mouse69065': 0.7588441039307129}\n",
      "validation mw auc dict:  {'auc_method': 'mannWhitneyU', 'Mouse04193': (0.7261350697016262, 8.454175051429191e-22), 'Mouse0633': (0.8205255078090308, 2.3191393748963545e-30), 'Mouse0642': (0.7972322189189659, 3.006658133345938e-21), 'Mouse39125': (0.8297712632383448, 3.4662088034289913e-40), 'Mouse69065': (0.8677964690206529, 8.92318948733512e-63)}\n"
     ]
    }
   ],
   "source": [
    "y_pred, s = model.predict(X_task_train,include_scores=True)\n",
    "roc_mean,roc_std = umc_dt.get_mean_std_err_auc(y_pred,y_hc_task_train,y_mouse_task_train)\n",
    "print(\"train roc auc mean: %0.2f +/- %0.2f\"%(roc_mean,roc_std))\n",
    "mw_mean,mw_std = umc_dt.get_mean_std_err_auc(y_pred,y_hc_task_train,y_mouse_task_train,s,True)\n",
    "print(\"train mw auc mean: %0.2f +/- %0.2f\"%(mw_mean,mw_std))\n",
    "y_pred, s = model.predict(X_task_val,include_scores=True)\n",
    "roc_mean,roc_std = umc_dt.get_mean_std_err_auc(y_pred,y_hc_task_val,y_mouse_task_val)\n",
    "print(\"val roc auc mean: %0.2f +/- %0.2f\"%(roc_mean,roc_std))\n",
    "mw_mean,mw_std = umc_dt.get_mean_std_err_auc(y_pred,y_hc_task_val,y_mouse_task_val,s,True)\n",
    "print(\"val mw auc mean: %0.2f +/- %0.2f\"%(mw_mean,mw_std))\n",
    "\n",
    "y_pred, s = model.predict(X_task_train,include_scores=True)\n",
    "roc_auc_dict = umc_dt.lpne_auc(y_pred,y_hc_task_train,y_mouse_task_train)\n",
    "mw_auc_dict = umc_dt.lpne_auc(y_pred,y_hc_task_train,y_mouse_task_train,s,True)\n",
    "print(\"train roc auc dict: \",roc_auc_dict)\n",
    "print(\"train mw auc dict: \",mw_auc_dict)\n",
    "df = umc_dt.make_projection_csv(EPM_TRAIN_DICT_PATH,model,FEATURE_VECTOR,\n",
    "                                ['y_mouse','y_expDate','y_time','y_Homecage','y_ROI','y_vel','y_locx','y_locy'],\n",
    "                                save_file =\".\\\\July_30_Projections\\\\{}_EPM_onto_EPM_Train_Projection_2022_July_30.csv\".format(NETWORK_CONSTRAINT),\n",
    "                                auc_dict=mw_auc_dict)\n",
    "\n",
    "y_pred, s = model.predict(X_task_val,include_scores=True)\n",
    "roc_auc_dict = umc_dt.lpne_auc(y_pred,y_hc_task_val,y_mouse_task_val)\n",
    "mw_auc_dict = umc_dt.lpne_auc(y_pred,y_hc_task_val,y_mouse_task_val,s,True)\n",
    "print(\"validation roc auc dict: \",roc_auc_dict)\n",
    "print(\"validation mw auc dict: \",mw_auc_dict)\n",
    "\n",
    "df = umc_dt.make_projection_csv(EPM_VAL_DICT_PATH,model,FEATURE_VECTOR,\n",
    "                                ['y_mouse','y_expDate','y_time','y_Homecage','y_ROI','y_vel','y_locx','y_locy'],\n",
    "                                save_file =\".\\\\July_30_Projections\\\\{}_EPM_onto_EPM_Val_Projection_2022_July_30.csv\".format(NETWORK_CONSTRAINT),\n",
    "                                auc_dict=mw_auc_dict)"
   ]
  },
  {
   "cell_type": "markdown",
   "metadata": {},
   "source": [
    "### FLX Projections"
   ]
  },
  {
   "cell_type": "code",
   "execution_count": 8,
   "metadata": {},
   "outputs": [
    {
     "name": "stderr",
     "output_type": "stream",
     "text": [
      "c:\\Users\\micha\\Anaconda3\\envs\\cpne\\lib\\site-packages\\sklearn\\metrics\\_ranking.py:990: UndefinedMetricWarning: No negative samples in y_true, false positive value should be meaningless\n",
      "  warnings.warn(\n",
      "c:\\Users\\micha\\Anaconda3\\envs\\cpne\\lib\\site-packages\\sklearn\\metrics\\_ranking.py:990: UndefinedMetricWarning: No negative samples in y_true, false positive value should be meaningless\n",
      "  warnings.warn(\n"
     ]
    },
    {
     "name": "stdout",
     "output_type": "stream",
     "text": [
      "ROC AUCs:  {'auc_method': 'sklearn_roc_auc', 'Mouse3191': 0.5131899994641982, 'Mouse3192': 0.6566808865352555, 'Mouse3193': 0.4020916811355944, 'Mouse3194': 0.3934731830963697, 'Mouse3202': nan, 'Mouse3203': 0.5095354303785321, 'Mouse99003': nan}\n",
      "Mouse  Mouse3202  has only one class - AUC cannot be calculated\n",
      "n_positive samples  1504\n",
      "n_negative samples  0\n",
      "Mouse  Mouse99003  has only one class - AUC cannot be calculated\n",
      "n_positive samples  1874\n",
      "n_negative samples  0\n",
      "MW AUCs:  {'auc_method': 'mannWhitneyU', 'Mouse3191': (0.5211005841417955, 0.026575407787861396), 'Mouse3192': (0.8033684846033147, 5.240451088883674e-217), 'Mouse3193': (0.3423598695972237, 1.695419428563834e-60), 'Mouse3194': (0.30396394695297496, 1.0246819820737664e-93), 'Mouse3203': (0.4941479650098401, 0.5439473304515186)}\n"
     ]
    }
   ],
   "source": [
    "with open(FLX_TRAIN_FILE,\"rb\") as f:\n",
    "    flx_train_dict = pickle.load(f)\n",
    "\n",
    "with open(FLX_VAL_FILE,\"rb\") as f:\n",
    "    flx_validation_dict = pickle.load(f)\n",
    "\n",
    "FULL_FEATURE_LIST = [\"X_power_1_2_full\",\"X_coh_1_2_full\",\"X_gc_1_2_full\"]\n",
    "\n",
    "flx_X_train = np.hstack([flx_train_dict[feature]*weight for feature,weight in zip(FEATURE_VECTOR,FEATURE_WEIGHTS)])\n",
    "flx_y_train = flx_train_dict['y_flx']\n",
    "flx_y_mouse_train = flx_train_dict['y_mouse']\n",
    "flx_y_expDate_train = flx_train_dict['y_expDate']\n",
    "flx_y_time_train = flx_train_dict['y_time']\n",
    "\n",
    "flx_X_validation = np.hstack([flx_validation_dict[feature]*weight for feature,weight in zip(FEATURE_VECTOR,FEATURE_WEIGHTS)])\n",
    "flx_y_validation = flx_validation_dict['y_flx']\n",
    "flx_y_mouse_validation = flx_validation_dict['y_mouse']\n",
    "flx_y_expDate_validation = flx_validation_dict['y_expDate']\n",
    "flx_y_time_validation = flx_validation_dict['y_time']\n",
    "\n",
    "flx_X = np.vstack([flx_X_train,flx_X_validation])\n",
    "flx_y_task = np.hstack([flx_y_train,flx_y_validation])\n",
    "flx_y_mouse = np.hstack([flx_y_mouse_train,flx_y_mouse_validation])\n",
    "flx_y_expDate = np.hstack([flx_y_expDate_train,flx_y_expDate_validation])\n",
    "flx_y_time = np.hstack([flx_y_time_train,flx_y_time_validation])\n",
    "\n",
    "y_pred, s = model.predict(flx_X,include_scores=True)\n",
    "roc_auc_dict = umc_dt.lpne_auc(y_pred,flx_y_task,flx_y_mouse)\n",
    "print(\"ROC AUCs: \",roc_auc_dict)\n",
    "mw_auc_dict = umc_dt.lpne_auc(y_pred,flx_y_task,flx_y_mouse,s,True)\n",
    "print(\"MW AUCs: \",mw_auc_dict)\n",
    "\n",
    "df = umc_dt.make_projection_csv(FLX_TRAIN_FILE,model,FULL_FEATURE_LIST,\n",
    "                    ['y_mouse_full','y_expDate_full','y_time_full','y_flx_full'],\n",
    "                    save_file = \".\\\\July_30_Projections\\\\{}_EPM_onto_FLX_flx_vs_saline_Train_Projection_2022_July_30.csv\".format(NETWORK_CONSTRAINT),\n",
    "                    auc_dict=mw_auc_dict,mousevar=\"y_mouse_full\")\n",
    "\n",
    "df = umc_dt.make_projection_csv(FLX_VAL_FILE,model,FULL_FEATURE_LIST,\n",
    "                    ['y_mouse_full','y_expDate_full','y_time_full','y_flx_full'],\n",
    "                    save_file = \".\\\\July_30_Projections\\\\{}_EPM_onto_FLX_flx_vs_saline_Val_Projection_2022_July_30.csv\".format(NETWORK_CONSTRAINT),\n",
    "                    auc_dict=mw_auc_dict,mousevar=\"y_mouse_full\")"
   ]
  },
  {
   "cell_type": "code",
   "execution_count": 9,
   "metadata": {},
   "outputs": [
    {
     "name": "stdout",
     "output_type": "stream",
     "text": [
      "Mouse  Mouse3202  has only one class - AUC cannot be calculated\n",
      "n_positive samples  1504\n",
      "n_negative samples  0\n",
      "Mouse  Mouse99003  has only one class - AUC cannot be calculated\n",
      "n_positive samples  1874\n",
      "n_negative samples  0\n",
      "EPM->FLX roc-auc: 0.49499423612199 +/- 0.047761131679591055\n",
      "EPM->FLX mw-auc: 0.49 +/- 0.09\n"
     ]
    },
    {
     "name": "stderr",
     "output_type": "stream",
     "text": [
      "c:\\Users\\micha\\Anaconda3\\envs\\cpne\\lib\\site-packages\\sklearn\\metrics\\_ranking.py:990: UndefinedMetricWarning: No negative samples in y_true, false positive value should be meaningless\n",
      "  warnings.warn(\n",
      "c:\\Users\\micha\\Anaconda3\\envs\\cpne\\lib\\site-packages\\sklearn\\metrics\\_ranking.py:990: UndefinedMetricWarning: No negative samples in y_true, false positive value should be meaningless\n",
      "  warnings.warn(\n"
     ]
    }
   ],
   "source": [
    "y_pred, s = model.predict(flx_X,include_scores=True)\n",
    "roc_mean,roc_std = umc_dt.get_mean_std_err_auc(y_pred,flx_y_task,flx_y_mouse)\n",
    "mw_mean,mw_std = umc_dt.get_mean_std_err_auc(y_pred,flx_y_task,flx_y_mouse,s,True)\n",
    "print(\"EPM->FLX roc-auc: {} +/- {}\".format(roc_mean,roc_std))\n",
    "print(\"EPM->FLX mw-auc: {:0.2f} +/- {:0.2f}\".format(mw_mean,mw_std))\n",
    "#umc_dt.make_recon_plots(model,flx_X,0,task=\"EPM onto FLX (FLX vs Saline) Train and Val\",saveFile=\"epm_onto_flx_recon.png\")"
   ]
  },
  {
   "cell_type": "markdown",
   "metadata": {},
   "source": [
    "## OFT Projections"
   ]
  },
  {
   "cell_type": "code",
   "execution_count": 10,
   "metadata": {},
   "outputs": [
    {
     "name": "stderr",
     "output_type": "stream",
     "text": [
      "c:\\Users\\micha\\Anaconda3\\envs\\cpne\\lib\\site-packages\\sklearn\\metrics\\_ranking.py:990: UndefinedMetricWarning: No negative samples in y_true, false positive value should be meaningless\n",
      "  warnings.warn(\n",
      "c:\\Users\\micha\\Anaconda3\\envs\\cpne\\lib\\site-packages\\sklearn\\metrics\\_ranking.py:990: UndefinedMetricWarning: No negative samples in y_true, false positive value should be meaningless\n",
      "  warnings.warn(\n",
      "c:\\Users\\micha\\Anaconda3\\envs\\cpne\\lib\\site-packages\\sklearn\\metrics\\_ranking.py:990: UndefinedMetricWarning: No negative samples in y_true, false positive value should be meaningless\n",
      "  warnings.warn(\n",
      "c:\\Users\\micha\\Anaconda3\\envs\\cpne\\lib\\site-packages\\sklearn\\metrics\\_ranking.py:990: UndefinedMetricWarning: No negative samples in y_true, false positive value should be meaningless\n",
      "  warnings.warn(\n"
     ]
    },
    {
     "name": "stdout",
     "output_type": "stream",
     "text": [
      "ROC AUCs:  {'auc_method': 'sklearn_roc_auc', 'Mouse04191': 0.6366091932387155, 'Mouse04193': 0.7554046713742533, 'Mouse04201': 0.7927075731207546, 'Mouse04202': 0.762163150835264, 'Mouse04205': 0.7693898377913847, 'Mouse04215': nan, 'Mouse3191': 0.4798985035489851, 'Mouse3192': nan, 'Mouse3193': 0.5555724336424688, 'Mouse3194': nan, 'Mouse3203': nan, 'Mouse39114': 0.6642295597484278, 'Mouse39124': 0.7445234869015356, 'Mouse39125': 0.7472484276729559, 'Mouse39133': 0.7538408874654784, 'Mouse69064': 0.6018158488218369, 'Mouse69065': 0.6779515585967198, 'Mouse69072': 0.5848691788711535, 'Mouse69074': 0.6767914438502673}\n",
      "Mouse  Mouse04215  has only one class - AUC cannot be calculated\n",
      "n_positive samples  506\n",
      "n_negative samples  0\n",
      "Mouse  Mouse3192  has only one class - AUC cannot be calculated\n",
      "n_positive samples  279\n",
      "n_negative samples  0\n",
      "Mouse  Mouse3194  has only one class - AUC cannot be calculated\n",
      "n_positive samples  324\n",
      "n_negative samples  0\n",
      "Mouse  Mouse3203  has only one class - AUC cannot be calculated\n",
      "n_positive samples  500\n",
      "n_negative samples  0\n",
      "MW AUCs:  {'auc_method': 'mannWhitneyU', 'Mouse04191': (0.7740842525317171, 3.775578721706931e-24), 'Mouse04193': (0.8422234292956726, 1.2126170037972259e-45), 'Mouse04201': (0.9308557420610416, 3.375570362098898e-80), 'Mouse04202': (0.8572836645937487, 9.98648150322747e-54), 'Mouse04205': (0.9501557632398754, 3.6355619546037645e-90), 'Mouse3191': (0.46760703467607034, 0.17163847548606792), 'Mouse3193': (0.604405180684362, 2.4982220912360065e-06), 'Mouse39114': (0.777185534591195, 5.052263796510167e-27), 'Mouse39124': (0.8618921258657031, 1.4407895347302917e-57), 'Mouse39125': (0.8697236332849541, 7.36801917266619e-47), 'Mouse39133': (0.8617396551324004, 8.250828851179291e-52), 'Mouse69064': (0.633845944474687, 4.507747394964425e-09), 'Mouse69065': (0.7453567937438905, 1.3338273748041803e-25), 'Mouse69072': (0.6850328195564331, 1.9244675722080301e-16), 'Mouse69074': (0.7547107438016529, 1.2717423777959195e-28)}\n"
     ]
    }
   ],
   "source": [
    "with open(OFT_TRAIN_FILE_NAME,'rb') as f:\n",
    "    train_dict = pickle.load(f)\n",
    "\n",
    "with open(OFT_VAL_FILE_NAME,'rb') as f:\n",
    "    val_dict = pickle.load(f)\n",
    "\n",
    "NUM_FREQS = 56\n",
    "NUM_FEATURES = np.hstack([train_dict[feature]*weight for feature,weight in zip(FEATURE_VECTOR,FEATURE_WEIGHTS)]).shape[1] // NUM_FREQS\n",
    "\n",
    "#Train Arrays\n",
    "oft_X_train = np.hstack([train_dict[feature]*weight for feature,weight in zip(FEATURE_VECTOR,FEATURE_WEIGHTS)])\n",
    "oft_y_hc_train = train_dict['y_Homecage'].astype(bool)\n",
    "oft_y_task_train = ~oft_y_hc_train\n",
    "oft_y_ROI_train = train_dict['y_ROI']\n",
    "oft_y_vel_train = train_dict['y_vel']\n",
    "oft_y_mouse_train = train_dict['y_mouse']\n",
    "oft_y_time_train = train_dict['y_time']\n",
    "\n",
    "#Validation Arrays\n",
    "oft_X_val = np.hstack([val_dict[feature]*weight for feature,weight in zip(FEATURE_VECTOR,FEATURE_WEIGHTS)])\n",
    "oft_y_hc_val = val_dict['y_Homecage'].astype(bool)\n",
    "oft_y_task_val = ~oft_y_hc_val\n",
    "oft_y_ROI_val = val_dict['y_ROI']\n",
    "oft_y_vel_val = val_dict['y_vel']\n",
    "oft_y_mouse_val = val_dict['y_mouse']\n",
    "oft_y_time_val = val_dict['y_time']\n",
    "\n",
    "oft_X = np.vstack([oft_X_train,oft_X_val])\n",
    "oft_y_task = np.hstack([oft_y_task_train,oft_y_task_val])\n",
    "oft_y_mouse = np.hstack([oft_y_mouse_train,oft_y_mouse_val])\n",
    "\n",
    "\n",
    "y_pred, s = model.predict(oft_X,include_scores=True)\n",
    "roc_auc_dict = umc_dt.lpne_auc(y_pred,oft_y_task,oft_y_mouse)\n",
    "print(\"ROC AUCs: \",roc_auc_dict)\n",
    "mw_auc_dict = umc_dt.lpne_auc(y_pred,oft_y_task,oft_y_mouse,s,True)\n",
    "print(\"MW AUCs: \",mw_auc_dict)\n",
    "\n",
    "df = umc_dt.make_projection_csv(OFT_TRAIN_FILE_NAME,model,FEATURE_VECTOR,\n",
    "                    ['y_mouse','y_expDate','y_time','y_Homecage','y_ROI','y_vel'],\n",
    "                    save_file = \".\\\\July_30_Projections\\\\{}_EPM_onto_OFT_HC_vs_Task_Train_Projection_2022_July_30.csv\".format(NETWORK_CONSTRAINT),\n",
    "                    auc_dict=mw_auc_dict)\n",
    "\n",
    "df = umc_dt.make_projection_csv(OFT_VAL_FILE_NAME,model,FEATURE_VECTOR,\n",
    "                    ['y_mouse','y_expDate','y_time','y_Homecage','y_ROI','y_vel'],\n",
    "                    save_file = \".\\\\July_30_Projections\\\\{}_EPM_onto_OFT_HC_vs_Task_Val_Projection_2022_July_30.csv\".format(NETWORK_CONSTRAINT),\n",
    "                    auc_dict=mw_auc_dict)"
   ]
  },
  {
   "cell_type": "code",
   "execution_count": 11,
   "metadata": {},
   "outputs": [
    {
     "name": "stdout",
     "output_type": "stream",
     "text": [
      "Mouse  Mouse04215  has only one class - AUC cannot be calculated\n",
      "n_positive samples  506\n",
      "n_negative samples  0\n",
      "Mouse  Mouse3192  has only one class - AUC cannot be calculated\n",
      "n_positive samples  279\n",
      "n_negative samples  0\n",
      "Mouse  Mouse3194  has only one class - AUC cannot be calculated\n",
      "n_positive samples  324\n",
      "n_negative samples  0\n",
      "Mouse  Mouse3203  has only one class - AUC cannot be calculated\n",
      "n_positive samples  500\n",
      "n_negative samples  0\n",
      "EPM->OFT roc-auc: 0.6802010503653466 +/- 0.0239144419711592\n",
      "EPM->OFT mw-auc: 0.77 +/- 0.03\n"
     ]
    },
    {
     "name": "stderr",
     "output_type": "stream",
     "text": [
      "c:\\Users\\micha\\Anaconda3\\envs\\cpne\\lib\\site-packages\\sklearn\\metrics\\_ranking.py:990: UndefinedMetricWarning: No negative samples in y_true, false positive value should be meaningless\n",
      "  warnings.warn(\n",
      "c:\\Users\\micha\\Anaconda3\\envs\\cpne\\lib\\site-packages\\sklearn\\metrics\\_ranking.py:990: UndefinedMetricWarning: No negative samples in y_true, false positive value should be meaningless\n",
      "  warnings.warn(\n",
      "c:\\Users\\micha\\Anaconda3\\envs\\cpne\\lib\\site-packages\\sklearn\\metrics\\_ranking.py:990: UndefinedMetricWarning: No negative samples in y_true, false positive value should be meaningless\n",
      "  warnings.warn(\n",
      "c:\\Users\\micha\\Anaconda3\\envs\\cpne\\lib\\site-packages\\sklearn\\metrics\\_ranking.py:990: UndefinedMetricWarning: No negative samples in y_true, false positive value should be meaningless\n",
      "  warnings.warn(\n"
     ]
    }
   ],
   "source": [
    "y_pred, s = model.predict(oft_X,include_scores=True)\n",
    "roc_mean,roc_std = umc_dt.get_mean_std_err_auc(y_pred,oft_y_task,oft_y_mouse)\n",
    "mw_mean,mw_std = umc_dt.get_mean_std_err_auc(y_pred,oft_y_task,oft_y_mouse,s,True)\n",
    "print(\"EPM->OFT roc-auc: {} +/- {}\".format(roc_mean,roc_std))\n",
    "print(\"EPM->OFT mw-auc: {:0.2f} +/- {:0.2f}\".format(mw_mean,mw_std))\n",
    "#umc_dt.make_recon_plots(model,oft_X,0,task=\"EPM onto OFT (HC vs Task) Train and Val\",saveFile=\"epm_onto_oft_recon.png\")"
   ]
  },
  {
   "cell_type": "code",
   "execution_count": null,
   "metadata": {},
   "outputs": [],
   "source": []
  }
 ],
 "metadata": {
  "kernelspec": {
   "display_name": "Python 3.9.7 ('cpne')",
   "language": "python",
   "name": "python3"
  },
  "language_info": {
   "codemirror_mode": {
    "name": "ipython",
    "version": 3
   },
   "file_extension": ".py",
   "mimetype": "text/x-python",
   "name": "python",
   "nbconvert_exporter": "python",
   "pygments_lexer": "ipython3",
   "version": "3.9.7"
  },
  "orig_nbformat": 4,
  "vscode": {
   "interpreter": {
    "hash": "e7fcc668915e92e9e68f231fbede55b84f4413bfe6d4c43e44892e9f909bca93"
   }
  }
 },
 "nbformat": 4,
 "nbformat_minor": 2
}

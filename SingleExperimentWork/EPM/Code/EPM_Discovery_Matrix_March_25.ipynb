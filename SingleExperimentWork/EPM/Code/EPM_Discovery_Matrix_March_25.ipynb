{
 "cells": [
  {
   "cell_type": "code",
   "execution_count": 1,
   "metadata": {},
   "outputs": [],
   "source": [
    "import pickle\n",
    "import numpy as np\n",
    "#import torch\n",
    "import matplotlib.pyplot as plt\n",
    "import os\n",
    "import sys\n",
    "import sklearn\n",
    "from sklearn.model_selection import train_test_split\n",
    "from sklearn.preprocessing import OneHotEncoder,OrdinalEncoder\n",
    "import torch\n",
    "DATA_PATH = \"D:\\\\Synology Backup\\\\mhunterklein\\\\Projects\\\\lpne\\\\DATA\\\\Pickle_Files_For_UMC\\\\ANX_EPM_data_2022_March_2.pkl\"\n",
    "OLD_DATA_PATH = \"D:\\\\Synology Backup\\\\mhunterklein\\\\Projects\\\\lpne\\\\DATA\\\\Dalton\\\\Directed_Spectrum_Data\\\\EPM_DS_2021_11_29.mat\"\n",
    "UMC_PATH = \".\\\\Universal-Mouse-Code\\\\\"\n",
    "LPNE_FOLDER = \"D:\\\\Feature Pipeline Demo\\\\lpne-data-analysis\"\n",
    "AUSTIN_CODE = \"..\\\\ForHunter\\\\\"\n",
    "dCSFA_NMF_PATH = \"C:\\\\Users\\\\micha\\\\Documents\\\\cpne\\\\lpne-missing-data\\\\models\\\\dCSFA_NMF.py\"\n",
    "\n",
    "EPM_TRAIN_DICT_PATH = \".\\\\EPM_model\\\\EPM_train_dict_hand_picked.pkl\"\n",
    "EPM_VAL_DICT_PATH = \".\\\\EPM_model\\\\EPM_val_dict_hand_picked.pkl\"\n",
    "OFT_TRAIN_FILE_NAME = \".\\\\OFT_model\\\\OFT_train_dict_old_features_hand_picked.pkl\"\n",
    "OFT_VAL_FILE_NAME = \".\\\\OFT_model\\\\OFT_validation_dict_old_features_hand_picked.pkl\"\n",
    "FLX_TRAIN_FILE = \".\\\\FLX_model\\\\FLX_train_dict_old_features.pkl\"\n",
    "FLX_VAL_FILE = \".\\\\FLX_model\\\\FLX_validation_dict_old_features.pkl\"\n",
    "\n",
    "FEATURE_VECTOR = [\"X_power_1_2\",\"X_coh_1_2\",\"X_gc_1_2\"]\n",
    "EPM_DISCOVERY_DICT = {}\n",
    "sys.path.append(DATA_PATH)\n",
    "sys.path.append(OLD_DATA_PATH)\n",
    "sys.path.append(LPNE_FOLDER)\n",
    "sys.path.append(dCSFA_NMF_PATH)\n",
    "sys.path.append(UMC_PATH)\n",
    "#from dCSFA_model import dCSFA_model\n",
    "import umc_data_tools as umc_dt\n",
    "#from dCSFA_NMF import dCSFA_NMF\n",
    "#import data_tools\n",
    "#import ml_base, nmf_elastic, nmf_log_ri\n",
    "\n",
    "#For Consistency\n",
    "RANDOM_STATE=42"
   ]
  },
  {
   "cell_type": "code",
   "execution_count": 2,
   "metadata": {},
   "outputs": [],
   "source": [
    "#We aren't working with the test data yet\n",
    "with open(EPM_TRAIN_DICT_PATH,\"rb\") as f:\n",
    "    train_dict = pickle.load(f)\n",
    "\n",
    "with open(EPM_VAL_DICT_PATH,\"rb\") as f:\n",
    "    validation_dict = pickle.load(f)\n",
    "\n",
    "#scale_vector = np.array([np.arange(1,57) for feature in range(64)]).flatten()\n",
    "#Load the data\n",
    "running_idx = 0\n",
    "feature_groups = []\n",
    "for idx,feature in enumerate(FEATURE_VECTOR):\n",
    "    f_begin = running_idx\n",
    "    f_end = f_begin + train_dict[feature].shape[1] \n",
    "    if idx == 0:\n",
    "        f_end = f_end -1\n",
    "    feature_groups.append((f_begin,f_end))\n",
    "\n",
    "    running_idx = f_end\n",
    "\n",
    "X_train = np.hstack([train_dict[feature] for feature in FEATURE_VECTOR])\n",
    "y_roi_train = ~(train_dict['y_ROI']%2).astype(bool)\n",
    "y_hc_train = train_dict['y_Homecage'].astype(bool)\n",
    "y_vel_train = np.array(train_dict['y_vel'])\n",
    "y_mouse_train = train_dict['y_mouse']\n",
    "y_time_train = train_dict['y_time']\n",
    "\n",
    "train_roi_nan_mask = (train_dict['y_ROI'] > 0)\n",
    "train_in_hc_mask = y_hc_train\n",
    "train_in_task_mask = ~y_hc_train\n",
    "train_velocity_gt_8_mask = np.ones_like(y_time_train)#(y_vel_train > 0)\n",
    "\n",
    "train_with_hc_mask = train_velocity_gt_8_mask\n",
    "#train_with_hc_mask = np.logical_and(train_roi_nan_mask,train_velocity_gt_8_mask)\n",
    "train_in_task_mask = np.logical_and(train_with_hc_mask,train_in_task_mask)\n",
    "\n",
    "\n",
    "X_task_train = X_train[train_with_hc_mask==1]\n",
    "y_hc_task_train = ~y_hc_train[train_with_hc_mask==1]\n",
    "y_mouse_task_train = y_mouse_train[train_with_hc_mask==1]\n",
    "y_roi_task_train = y_roi_train[train_with_hc_mask==1]\n",
    "\n",
    "X_validation = np.hstack([validation_dict[feature] for feature in FEATURE_VECTOR])\n",
    "y_roi_validation = ~(validation_dict['y_ROI']%2).astype(bool)\n",
    "y_hc_validation = validation_dict['y_Homecage'].astype(bool)\n",
    "y_vel_validation = validation_dict['y_vel']\n",
    "y_mouse_validation = validation_dict['y_mouse']\n",
    "y_time_validation = validation_dict['y_time']\n",
    "validation_roi_nan_mask = (validation_dict['y_ROI'] > 0)\n",
    "validation_in_task_mask = ~y_hc_validation\n",
    "validation_in_hc_mask = y_hc_validation\n",
    "validation_velocity_gt_8_mask = np.ones_like(y_time_validation)#(y_vel_validation > 0)\n",
    "\n",
    "validation_with_hc_mask = np.logical_and(validation_roi_nan_mask,validation_velocity_gt_8_mask)\n",
    "validation_with_hc_mask = validation_velocity_gt_8_mask\n",
    "validation_in_task_mask = np.logical_and(validation_with_hc_mask,validation_in_task_mask)\n",
    "\n",
    "X_task_val = X_validation[validation_with_hc_mask==1]\n",
    "y_hc_task_val = ~y_hc_validation[validation_with_hc_mask==1]\n",
    "y_mouse_task_val = y_mouse_validation[validation_with_hc_mask==1]\n",
    "y_roi_task_val = y_roi_validation[validation_with_hc_mask==1]\n",
    "\n",
    "intercept_mask = OneHotEncoder().fit_transform(y_mouse_task_train.reshape(-1,1)).todense()"
   ]
  },
  {
   "cell_type": "code",
   "execution_count": 3,
   "metadata": {},
   "outputs": [],
   "source": [
    "N_COMPONENTS=20\n",
    "DIM_IN = X_task_train.shape[1]\n",
    "'''model = dCSFA_NMF(n_components=N_COMPONENTS,dim_in=DIM_IN,device='auto',n_intercepts=intercept_mask.shape[1],\n",
    "                n_sup_networks=1,optim_name='AdamW',recon_loss='IS',sup_recon_weight=1,sup_weight=1,\n",
    "                useDeepEnc=True,h=256,sup_recon_type=\"Residual\",feature_groups=feature_groups)\n",
    "model.fit(X_task_train,y_hc_task_train,intercept_mask=intercept_mask,batch_size=128,lr=1e-3,\n",
    "        n_pre_epochs=100,n_epochs=3000,verbose=True,pretrain=True,best_model_name=\"DS_EPM_Network_March_25_state_dict.pt\")\n",
    "torch.save(model,\"DS_EPM_Network_HC_vs_Task_March_25.pt\")'''\n",
    "model = torch.load(\"EPM_Network_HC_vs_Task_March_25.pt\",map_location=\"cpu\")\n",
    "model.device=\"cpu\""
   ]
  },
  {
   "cell_type": "code",
   "execution_count": 7,
   "metadata": {},
   "outputs": [
    {
     "name": "stdout",
     "output_type": "stream",
     "text": [
      "train roc auc dict:  {'auc_method': 'sklearn_roc_auc', 'Mouse04201': 0.9697452229299364, 'Mouse04202': 1.0, 'Mouse04205': 0.8388888888888889, 'Mouse04215': 1.0, 'Mouse0630': 0.9966832504145937, 'Mouse0634': 0.9973684210526316, 'Mouse0643': 1.0, 'Mouse1551': 0.9946401225114854, 'Mouse39114': 1.0, 'Mouse39124': 1.0, 'Mouse39133': 1.0, 'Mouse6291': 0.9983818770226538, 'Mouse6292': 1.0, 'Mouse6293': 0.9854838709677419, 'Mouse69064': 1.0, 'Mouse69074': 1.0, 'Mouse8580': 0.994535519125683, 'Mouse8581': 1.0, 'Mouse8582': 0.8690476190476191, 'Mouse8891': 0.9950166112956811, 'Mouse8894': 0.7096774193548387}\n",
      "train mw auc dict:  {'auc_method': 'mannWhitneyU', 'Mouse04201': (0.0, 1.948546217773956e-107), 'Mouse04202': (0.0, 1.2234124412320264e-109), 'Mouse04205': (0.0, 8.504586546833693e-07), 'Mouse04215': (0.0, 4.406077578101495e-108), 'Mouse0630': (0.0, 5.695529992412083e-84), 'Mouse0634': (0.0, 7.095752964106866e-68), 'Mouse0643': (0.0, 1.062145166618735e-49), 'Mouse1551': (0.0, 2.0725984242173268e-69), 'Mouse39114': (0.0, 5.543004380911705e-68), 'Mouse39124': (0.0, 9.339016637569592e-106), 'Mouse39133': (0.0, 2.389099291754851e-127), 'Mouse6291': (0.0, 1.5158069385857266e-95), 'Mouse6292': (0.0, 2.5704434269544583e-96), 'Mouse6293': (0.0, 8.539950679766352e-100), 'Mouse69064': (0.0, 1.2103028988737524e-90), 'Mouse69074': (0.0, 4.397637037822473e-102), 'Mouse8580': (0.0, 7.945758239699976e-60), 'Mouse8581': (0.0, 2.1662766549097016e-65), 'Mouse8582': (0.0, 1.66984627324056e-07), 'Mouse8891': (0.0, 2.674770263742948e-70), 'Mouse8894': (0.0, 1.5938443338939939e-34)}\n",
      "validation roc auc dict:  {'auc_method': 'sklearn_roc_auc', 'Mouse04193': 0.595586853422068, 'Mouse0633': 0.7486519747776551, 'Mouse0642': 0.7152071489420887, 'Mouse39125': 0.7126187356698329, 'Mouse69065': 0.7543137908061291}\n",
      "validation mw auc dict:  {'auc_method': 'mannWhitneyU', 'Mouse04193': (0.257658334899455, 8.507914135811782e-25), 'Mouse0633': (0.19387457338966493, 7.692688447175125e-28), 'Mouse0642': (0.21523322728142005, 1.238673420547417e-19), 'Mouse39125': (0.17609728136259417, 7.877576492323224e-39), 'Mouse69065': (0.14695203197868087, 5.505481807807876e-58)}\n"
     ]
    }
   ],
   "source": [
    "y_pred, s = model.predict(X_task_train,include_scores=True)\n",
    "roc_auc_dict = umc_dt.lpne_auc(y_pred,y_hc_task_train,y_mouse_task_train)\n",
    "mw_auc_dict = umc_dt.lpne_auc(y_pred,y_hc_task_train,y_mouse_task_train,s,True)\n",
    "print(\"train roc auc dict: \",roc_auc_dict)\n",
    "print(\"train mw auc dict: \",mw_auc_dict)\n",
    "\n",
    "y_pred, s = model.predict(X_task_val,include_scores=True)\n",
    "roc_auc_dict = umc_dt.lpne_auc(y_pred,y_hc_task_val,y_mouse_task_val)\n",
    "mw_auc_dict = umc_dt.lpne_auc(y_pred,y_hc_task_val,y_mouse_task_val,s,True)\n",
    "print(\"validation roc auc dict: \",roc_auc_dict)\n",
    "print(\"validation mw auc dict: \",mw_auc_dict)\n"
   ]
  },
  {
   "cell_type": "code",
   "execution_count": 4,
   "metadata": {},
   "outputs": [
    {
     "name": "stdout",
     "output_type": "stream",
     "text": [
      "train roc auc mean: 0.97 +/- 0.02\n",
      "train mw auc mean: 0.00 +/- 0.00\n",
      "val roc auc mean: 0.71 +/- 0.03\n",
      "val mw auc mean: 0.20 +/- 0.02\n"
     ]
    }
   ],
   "source": [
    "y_pred, s = model.predict(X_task_train,include_scores=True)\n",
    "roc_mean,roc_std = umc_dt.get_mean_std_err_auc(y_pred,y_hc_task_train,y_mouse_task_train)\n",
    "print(\"train roc auc mean: %0.2f +/- %0.2f\"%(roc_mean,roc_std))\n",
    "mw_mean,mw_std = umc_dt.get_mean_std_err_auc(y_pred,y_hc_task_train,y_mouse_task_train,s,True)\n",
    "print(\"train mw auc mean: %0.2f +/- %0.2f\"%(mw_mean,mw_std))\n",
    "y_pred, s = model.predict(X_task_val,include_scores=True)\n",
    "roc_mean,roc_std = umc_dt.get_mean_std_err_auc(y_pred,y_hc_task_val,y_mouse_task_val)\n",
    "print(\"val roc auc mean: %0.2f +/- %0.2f\"%(roc_mean,roc_std))\n",
    "mw_mean,mw_std = umc_dt.get_mean_std_err_auc(y_pred,y_hc_task_val,y_mouse_task_val,s,True)\n",
    "print(\"val mw auc mean: %0.2f +/- %0.2f\"%(mw_mean,mw_std))\n",
    "\n",
    "#umc_dt.make_recon_plots(model,X_train,0,task=\"EPM (HC vs Task) Training\",saveFile=\"epm_train_recon.png\")\n",
    "#umc_dt.make_recon_plots(model,X_validation,0,task=\"EPM (HC vs Task) Val\",saveFile=\"epm_val_recon.png\")"
   ]
  },
  {
   "cell_type": "code",
   "execution_count": 29,
   "metadata": {},
   "outputs": [],
   "source": [
    "import pandas as pd\n",
    "def make_projection_csv(pickle_file,model,X_feature_list,other_features,save_file):\n",
    "\n",
    "    with open(pickle_file,'rb') as f:\n",
    "        project_dict = pickle.load(f)\n",
    "    \n",
    "    X_project = np.hstack([project_dict[feature] for feature in X_feature_list])\n",
    "    s = model.transform(X_project)[3]\n",
    "    s = s[:,0]\n",
    "    save_dict = {}\n",
    "    save_dict['scores'] = s\n",
    "    for feature in other_features:\n",
    "        save_dict[feature] = project_dict[feature]\n",
    "\n",
    "    df = pd.DataFrame.from_dict(save_dict)\n",
    "    df.to_csv(save_file,index=False,header=True)\n",
    "\n",
    "    return df\n",
    "\n",
    "df = make_projection_csv(EPM_TRAIN_DICT_PATH,model,FEATURE_VECTOR,\n",
    "                    ['y_mouse','y_expDate','y_time','y_Homecage','y_ROI','y_vel'],\n",
    "                    save_file = r\".\\\\EPM_Train_Projection_2022_March_25.csv\")\n",
    "\n",
    "df = make_projection_csv(EPM_VAL_DICT_PATH,model,FEATURE_VECTOR,\n",
    "                    ['y_mouse','y_expDate','y_time','y_Homecage','y_ROI','y_vel'],\n",
    "                    save_file = r\".\\\\EPM_Val_Projection_2022_March_25.csv\")"
   ]
  },
  {
   "cell_type": "markdown",
   "metadata": {},
   "source": [
    "### OFT Projections"
   ]
  },
  {
   "cell_type": "code",
   "execution_count": 9,
   "metadata": {},
   "outputs": [],
   "source": [
    "with open(OFT_TRAIN_FILE_NAME,'rb') as f:\n",
    "    train_dict = pickle.load(f)\n",
    "\n",
    "with open(OFT_VAL_FILE_NAME,'rb') as f:\n",
    "    val_dict = pickle.load(f)\n",
    "\n",
    "NUM_FREQS = 56\n",
    "NUM_FEATURES = np.hstack([train_dict[feature] for feature in FEATURE_VECTOR]).shape[1] // NUM_FREQS\n",
    "\n",
    "#Train Arrays\n",
    "oft_X_train = np.hstack([train_dict[feature] for feature in FEATURE_VECTOR])\n",
    "oft_y_hc_train = train_dict['y_Homecage'].astype(bool)\n",
    "oft_y_task_train = ~oft_y_hc_train\n",
    "oft_y_ROI_train = train_dict['y_ROI']\n",
    "oft_y_vel_train = train_dict['y_vel']\n",
    "oft_y_mouse_train = train_dict['y_mouse']\n",
    "oft_y_time_train = train_dict['y_time']\n",
    "\n",
    "#Validation Arrays\n",
    "oft_X_val = np.hstack([val_dict[feature] for feature in FEATURE_VECTOR])\n",
    "oft_y_hc_val = val_dict['y_Homecage'].astype(bool)\n",
    "oft_y_task_val = ~oft_y_hc_val\n",
    "oft_y_ROI_val = val_dict['y_ROI']\n",
    "oft_y_vel_val = val_dict['y_vel']\n",
    "oft_y_mouse_val = val_dict['y_mouse']\n",
    "oft_y_time_val = val_dict['y_time']\n",
    "\n",
    "oft_X = np.vstack([oft_X_train,oft_X_val])\n",
    "oft_y_task = np.hstack([oft_y_task_train,oft_y_task_val])\n",
    "oft_y_mouse = np.hstack([oft_y_mouse_train,oft_y_mouse_val])"
   ]
  },
  {
   "cell_type": "code",
   "execution_count": 10,
   "metadata": {},
   "outputs": [
    {
     "name": "stdout",
     "output_type": "stream",
     "text": [
      "ROC AUCs:  {'auc_method': 'sklearn_roc_auc', 'Mouse04191': 0.6398373677671949, 'Mouse04193': 0.7446073993602511, 'Mouse04201': 0.6934355059039278, 'Mouse04202': 0.7788481079543146, 'Mouse04205': 0.7973735095069288, 'Mouse04215': nan, 'Mouse3191': 0.46943803969438047, 'Mouse3192': nan, 'Mouse3193': 0.5603413815158298, 'Mouse3194': nan, 'Mouse3203': nan, 'Mouse39114': 0.6398191823899371, 'Mouse39124': 0.7493036735922914, 'Mouse39125': 0.7240263667150459, 'Mouse39133': 0.7559411914873866, 'Mouse69064': 0.5985302123026675, 'Mouse69065': 0.6784348864994026, 'Mouse69072': 0.5974302013054686, 'Mouse69074': 0.6164171122994653}\n",
      "Mouse  Mouse04215  has only one class - AUC cannot be calculated\n",
      "n_positive samples  506\n",
      "n_negative samples  0\n",
      "Mouse  Mouse3192  has only one class - AUC cannot be calculated\n",
      "n_positive samples  279\n",
      "n_negative samples  0\n",
      "Mouse  Mouse3194  has only one class - AUC cannot be calculated\n",
      "n_positive samples  324\n",
      "n_negative samples  0\n",
      "Mouse  Mouse3203  has only one class - AUC cannot be calculated\n",
      "n_positive samples  500\n",
      "n_negative samples  0\n",
      "MW AUCs:  {'auc_method': 'mannWhitneyU', 'Mouse04191': (0.22486164966306516, 2.5314535339793554e-24), 'Mouse04193': (0.16153056913513186, 1.0994547601602498e-44), 'Mouse04201': (0.07131495724096634, 2.0675314581155775e-79), 'Mouse04202': (0.1416392309880909, 4.8511748184740455e-54), 'Mouse04205': (0.09225838793998639, 2.5803070039823116e-74), 'Mouse3191': (0.5487024729870247, 0.039847466302659514), 'Mouse3193': (0.4161096897985289, 0.00015488898011298982), 'Mouse39114': (0.2387735849056604, 3.4912143780084115e-24), 'Mouse39124': (0.13956639566395665, 4.046768405080036e-57), 'Mouse39125': (0.17561683599419448, 1.7997252032094664e-36), 'Mouse39133': (0.16460117431362992, 8.672220557957294e-45), 'Mouse69064': (0.3396356637374601, 2.1204123077957814e-12), 'Mouse69065': (0.23469099598131857, 1.1784257621419354e-29), 'Mouse69072': (0.31334905746622055, 1.0530858714593791e-16), 'Mouse69074': (0.24751579970831308, 3.7476959718474357e-28)}\n"
     ]
    },
    {
     "name": "stderr",
     "output_type": "stream",
     "text": [
      "C:\\Users\\micha\\anaconda3\\envs\\lpne\\lib\\site-packages\\sklearn\\metrics\\_ranking.py:941: UndefinedMetricWarning: No negative samples in y_true, false positive value should be meaningless\n",
      "  warnings.warn(\"No negative samples in y_true, \"\n",
      "C:\\Users\\micha\\anaconda3\\envs\\lpne\\lib\\site-packages\\sklearn\\metrics\\_ranking.py:941: UndefinedMetricWarning: No negative samples in y_true, false positive value should be meaningless\n",
      "  warnings.warn(\"No negative samples in y_true, \"\n",
      "C:\\Users\\micha\\anaconda3\\envs\\lpne\\lib\\site-packages\\sklearn\\metrics\\_ranking.py:941: UndefinedMetricWarning: No negative samples in y_true, false positive value should be meaningless\n",
      "  warnings.warn(\"No negative samples in y_true, \"\n",
      "C:\\Users\\micha\\anaconda3\\envs\\lpne\\lib\\site-packages\\sklearn\\metrics\\_ranking.py:941: UndefinedMetricWarning: No negative samples in y_true, false positive value should be meaningless\n",
      "  warnings.warn(\"No negative samples in y_true, \"\n"
     ]
    }
   ],
   "source": [
    "y_pred, s = model.predict(oft_X,include_scores=True)\n",
    "roc_auc_dict = umc_dt.lpne_auc(y_pred,oft_y_task,oft_y_mouse)\n",
    "print(\"ROC AUCs: \",roc_auc_dict)\n",
    "mw_auc_dict = umc_dt.lpne_auc(y_pred,oft_y_task,oft_y_mouse,s,True)\n",
    "print(\"MW AUCs: \",mw_auc_dict)"
   ]
  },
  {
   "cell_type": "code",
   "execution_count": 6,
   "metadata": {},
   "outputs": [
    {
     "name": "stdout",
     "output_type": "stream",
     "text": [
      "Mouse  Mouse04215  has only one class - AUC cannot be calculated\n",
      "n_positive samples  506\n",
      "n_negative samples  0\n",
      "Mouse  Mouse3192  has only one class - AUC cannot be calculated\n",
      "n_positive samples  279\n",
      "n_negative samples  0\n",
      "Mouse  Mouse3194  has only one class - AUC cannot be calculated\n",
      "n_positive samples  324\n",
      "n_negative samples  0\n",
      "Mouse  Mouse3203  has only one class - AUC cannot be calculated\n",
      "n_positive samples  500\n",
      "n_negative samples  0\n",
      "EPM->FLX roc-auc: 0.6695856092196328 +/- 0.023721198086133696\n",
      "EPM->FLX mw-auc: 0.23 +/- 0.03\n"
     ]
    },
    {
     "name": "stderr",
     "output_type": "stream",
     "text": [
      "C:\\Users\\micha\\anaconda3\\envs\\lpne\\lib\\site-packages\\sklearn\\metrics\\_ranking.py:941: UndefinedMetricWarning: No negative samples in y_true, false positive value should be meaningless\n",
      "  warnings.warn(\"No negative samples in y_true, \"\n",
      "C:\\Users\\micha\\anaconda3\\envs\\lpne\\lib\\site-packages\\sklearn\\metrics\\_ranking.py:941: UndefinedMetricWarning: No negative samples in y_true, false positive value should be meaningless\n",
      "  warnings.warn(\"No negative samples in y_true, \"\n",
      "C:\\Users\\micha\\anaconda3\\envs\\lpne\\lib\\site-packages\\sklearn\\metrics\\_ranking.py:941: UndefinedMetricWarning: No negative samples in y_true, false positive value should be meaningless\n",
      "  warnings.warn(\"No negative samples in y_true, \"\n",
      "C:\\Users\\micha\\anaconda3\\envs\\lpne\\lib\\site-packages\\sklearn\\metrics\\_ranking.py:941: UndefinedMetricWarning: No negative samples in y_true, false positive value should be meaningless\n",
      "  warnings.warn(\"No negative samples in y_true, \"\n"
     ]
    }
   ],
   "source": [
    "y_pred, s = model.predict(oft_X,include_scores=True)\n",
    "roc_mean,roc_std = umc_dt.get_mean_std_err_auc(y_pred,oft_y_task,oft_y_mouse)\n",
    "mw_mean,mw_std = umc_dt.get_mean_std_err_auc(y_pred,oft_y_task,oft_y_mouse,s,True)\n",
    "print(\"EPM->FLX roc-auc: {} +/- {}\".format(roc_mean,roc_std))\n",
    "print(\"EPM->FLX mw-auc: {:0.2f} +/- {:0.2f}\".format(mw_mean,mw_std))\n",
    "#umc_dt.make_recon_plots(model,oft_X,0,task=\"EPM onto OFT (HC vs Task) Train and Val\",saveFile=\"epm_onto_oft_recon.png\")"
   ]
  },
  {
   "cell_type": "code",
   "execution_count": 34,
   "metadata": {},
   "outputs": [],
   "source": [
    "df = make_projection_csv(OFT_TRAIN_FILE_NAME,model,FEATURE_VECTOR,\n",
    "                    ['y_mouse','y_expDate','y_time','y_Homecage','y_ROI','y_vel'],\n",
    "                    save_file = r\".\\\\EPM_onto_OFT_HC_vs_Task_Train_Projection_2022_March_25.csv\")\n",
    "\n",
    "df = make_projection_csv(OFT_VAL_FILE_NAME,model,FEATURE_VECTOR,\n",
    "                    ['y_mouse','y_expDate','y_time','y_Homecage','y_ROI','y_vel'],\n",
    "                    save_file = r\".\\\\EPM_onto_OFT_HC_vs_Task_Val_Projection_2022_March_25.csv\")"
   ]
  },
  {
   "cell_type": "markdown",
   "metadata": {},
   "source": [
    "### FLX Projections"
   ]
  },
  {
   "cell_type": "code",
   "execution_count": 11,
   "metadata": {},
   "outputs": [],
   "source": [
    "with open(FLX_TRAIN_FILE,\"rb\") as f:\n",
    "    flx_train_dict = pickle.load(f)\n",
    "\n",
    "with open(FLX_VAL_FILE,\"rb\") as f:\n",
    "    flx_validation_dict = pickle.load(f)\n",
    "    \n",
    "flx_X_train = np.hstack([flx_train_dict[feature] for feature in FEATURE_VECTOR])\n",
    "flx_y_train = flx_train_dict['y_flx']\n",
    "flx_y_mouse_train = flx_train_dict['y_mouse']\n",
    "flx_y_expDate_train = flx_train_dict['y_expDate']\n",
    "flx_y_time_train = flx_train_dict['y_time']\n",
    "\n",
    "flx_X_validation = np.hstack([flx_validation_dict[feature] for feature in FEATURE_VECTOR])\n",
    "flx_y_validation = flx_validation_dict['y_flx']\n",
    "flx_y_mouse_validation = flx_validation_dict['y_mouse']\n",
    "flx_y_expDate_validation = flx_validation_dict['y_expDate']\n",
    "flx_y_time_validation = flx_validation_dict['y_time']\n",
    "\n",
    "flx_X = np.vstack([flx_X_train,flx_X_validation])\n",
    "flx_y_task = np.hstack([flx_y_train,flx_y_validation])\n",
    "flx_y_mouse = np.hstack([flx_y_mouse_train,flx_y_mouse_validation])\n",
    "flx_y_expDate = np.hstack([flx_y_expDate_train,flx_y_expDate_validation])\n",
    "flx_y_time = np.hstack([flx_y_time_train,flx_y_time_validation])"
   ]
  },
  {
   "cell_type": "code",
   "execution_count": 12,
   "metadata": {},
   "outputs": [
    {
     "name": "stdout",
     "output_type": "stream",
     "text": [
      "ROC AUCs:  {'auc_method': 'sklearn_roc_auc', 'Mouse3191': 0.45662683872775905, 'Mouse3192': 0.6928735167206042, 'Mouse3193': 0.43572469475749065, 'Mouse3194': 0.44847281262286876, 'Mouse3202': nan, 'Mouse3203': 0.5463417444334471, 'Mouse99003': nan}\n",
      "Mouse  Mouse3202  has only one class - AUC cannot be calculated\n",
      "n_positive samples  1504\n",
      "n_negative samples  0\n",
      "Mouse  Mouse99003  has only one class - AUC cannot be calculated\n",
      "n_positive samples  1874\n",
      "n_negative samples  0\n",
      "MW AUCs:  {'auc_method': 'mannWhitneyU', 'Mouse3191': (0.5646683415872336, 1.0700018576610867e-11), 'Mouse3192': (0.18093710159850937, 8.128284515007517e-240), 'Mouse3193': (0.617558568880732, 2.006461702164672e-34), 'Mouse3194': (0.599350237282302, 2.2891940457461176e-25), 'Mouse3203': (0.43530432227916166, 1.9584289796246316e-11)}\n"
     ]
    },
    {
     "name": "stderr",
     "output_type": "stream",
     "text": [
      "C:\\Users\\micha\\anaconda3\\envs\\lpne\\lib\\site-packages\\sklearn\\metrics\\_ranking.py:941: UndefinedMetricWarning: No negative samples in y_true, false positive value should be meaningless\n",
      "  warnings.warn(\"No negative samples in y_true, \"\n",
      "C:\\Users\\micha\\anaconda3\\envs\\lpne\\lib\\site-packages\\sklearn\\metrics\\_ranking.py:941: UndefinedMetricWarning: No negative samples in y_true, false positive value should be meaningless\n",
      "  warnings.warn(\"No negative samples in y_true, \"\n"
     ]
    }
   ],
   "source": [
    "y_pred, s = model.predict(flx_X,include_scores=True)\n",
    "roc_auc_dict = umc_dt.lpne_auc(y_pred,flx_y_task,flx_y_mouse)\n",
    "print(\"ROC AUCs: \",roc_auc_dict)\n",
    "mw_auc_dict = umc_dt.lpne_auc(y_pred,flx_y_task,flx_y_mouse,s,True)\n",
    "print(\"MW AUCs: \",mw_auc_dict)"
   ]
  },
  {
   "cell_type": "code",
   "execution_count": 9,
   "metadata": {},
   "outputs": [
    {
     "name": "stdout",
     "output_type": "stream",
     "text": [
      "Mouse  Mouse3202  has only one class - AUC cannot be calculated\n",
      "n_positive samples  1504\n",
      "n_negative samples  0\n",
      "Mouse  Mouse99003  has only one class - AUC cannot be calculated\n",
      "n_positive samples  1874\n",
      "n_negative samples  0\n",
      "EPM->FLX roc-auc: 0.5160079214524339 +/- 0.04833946628011897\n",
      "EPM->FLX mw-auc: 0.48 +/- 0.08\n"
     ]
    },
    {
     "name": "stderr",
     "output_type": "stream",
     "text": [
      "C:\\Users\\micha\\anaconda3\\envs\\lpne\\lib\\site-packages\\sklearn\\metrics\\_ranking.py:941: UndefinedMetricWarning: No negative samples in y_true, false positive value should be meaningless\n",
      "  warnings.warn(\"No negative samples in y_true, \"\n",
      "C:\\Users\\micha\\anaconda3\\envs\\lpne\\lib\\site-packages\\sklearn\\metrics\\_ranking.py:941: UndefinedMetricWarning: No negative samples in y_true, false positive value should be meaningless\n",
      "  warnings.warn(\"No negative samples in y_true, \"\n"
     ]
    }
   ],
   "source": [
    "y_pred, s = model.predict(flx_X,include_scores=True)\n",
    "roc_mean,roc_std = umc_dt.get_mean_std_err_auc(y_pred,flx_y_task,flx_y_mouse)\n",
    "mw_mean,mw_std = umc_dt.get_mean_std_err_auc(y_pred,flx_y_task,flx_y_mouse,s,True)\n",
    "print(\"EPM->FLX roc-auc: {} +/- {}\".format(roc_mean,roc_std))\n",
    "print(\"EPM->FLX mw-auc: {:0.2f} +/- {:0.2f}\".format(mw_mean,mw_std))\n",
    "#umc_dt.make_recon_plots(model,flx_X,0,task=\"EPM onto FLX (FLX vs Saline) Train and Val\",saveFile=\"epm_onto_flx_recon.png\")"
   ]
  },
  {
   "cell_type": "code",
   "execution_count": 42,
   "metadata": {},
   "outputs": [
    {
     "name": "stdout",
     "output_type": "stream",
     "text": [
      "Mouse  Mouse3202  has only one class - AUC cannot be calculated\n",
      "n_positive samples  1504\n",
      "n_negative samples  0\n",
      "Mouse  Mouse99003  has only one class - AUC cannot be calculated\n",
      "n_positive samples  1874\n",
      "n_negative samples  0\n"
     ]
    },
    {
     "data": {
      "text/plain": [
       "{'auc_method': 'mannWhitneyU',\n",
       " 'Mouse3191': (0.5646648088276596, 1.0727617945997764e-11),\n",
       " 'Mouse3192': (0.18092989972540943, 7.92991562462114e-240),\n",
       " 'Mouse3193': (0.6175495242040148, 2.0298596107301814e-34),\n",
       " 'Mouse3194': (0.5993544200476357, 2.278683853919311e-25),\n",
       " 'Mouse3203': (0.435291589324318, 1.940787661371215e-11)}"
      ]
     },
     "execution_count": 42,
     "metadata": {},
     "output_type": "execute_result"
    }
   ],
   "source": [
    "umc_dt.lpne_auc(y_pred,flx_y_task,flx_y_mouse,s,True)"
   ]
  },
  {
   "cell_type": "code",
   "execution_count": 41,
   "metadata": {},
   "outputs": [],
   "source": [
    "df = make_projection_csv(FLX_TRAIN_FILE,model,FEATURE_VECTOR,\n",
    "                    ['y_mouse','y_expDate','y_time','y_flx'],\n",
    "                    save_file = r\".\\\\EPM_onto_FLX_flx_vs_saline_Train_Projection_2022_March_25.csv\")\n",
    "\n",
    "df = make_projection_csv(FLX_VAL_FILE,model,FEATURE_VECTOR,\n",
    "                    ['y_mouse','y_expDate','y_time','y_flx'],\n",
    "                    save_file = r\".\\\\EPM_onto_FLX_flx_vs_saline_Val_Projection_2022_March_25.csv\")"
   ]
  }
 ],
 "metadata": {
  "interpreter": {
   "hash": "92fd6134afde98d59026f11d273187d167496709da5e40ccd028795ab1362aa3"
  },
  "kernelspec": {
   "display_name": "Python 3 (ipykernel)",
   "language": "python",
   "name": "python3"
  },
  "language_info": {
   "codemirror_mode": {
    "name": "ipython",
    "version": 3
   },
   "file_extension": ".py",
   "mimetype": "text/x-python",
   "name": "python",
   "nbconvert_exporter": "python",
   "pygments_lexer": "ipython3",
   "version": "3.7.13"
  }
 },
 "nbformat": 4,
 "nbformat_minor": 4
}

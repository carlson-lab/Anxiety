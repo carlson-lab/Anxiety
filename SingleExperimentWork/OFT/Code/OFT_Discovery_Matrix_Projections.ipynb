{
 "cells": [
  {
   "cell_type": "code",
   "execution_count": 2,
   "metadata": {},
   "outputs": [
    {
     "name": "stdout",
     "output_type": "stream",
     "text": [
      "Using device: cuda:0\n"
     ]
    }
   ],
   "source": [
    "import pickle\n",
    "import numpy as np\n",
    "import torch\n",
    "import matplotlib.pyplot as plt\n",
    "import os\n",
    "import sys\n",
    "import sklearn\n",
    "from sklearn.model_selection import train_test_split\n",
    "from sklearn.preprocessing import OneHotEncoder\n",
    "import pandas as pd\n",
    "\n",
    "MODEL_NAME = \".\\\\{}_{}_10_res_loss_10_power_features.pt\".format(\"Positive\",\"OFT\")\n",
    "\n",
    "TRAIN_FILE_NAME = \".\\\\OFT_model\\\\OFT_train_dict_old_features_hand_picked.pkl\"\n",
    "VALIDATION_FILE_NAME = \".\\\\OFT_model\\\\OFT_validation_dict_old_features_hand_picked.pkl\"\n",
    "\n",
    "EPM_TRAIN_FILE = \".\\\\EPM_model\\\\EPM_train_dict_May_17.pkl\"\n",
    "EPM_VAL_FILE = \".\\\\EPM_model\\\\EPM_val_dict_May_17.pkl\"\n",
    "OFT_TRAIN_FILE_NAME = \".\\\\OFT_model\\\\OFT_train_dict_old_features_hand_picked.pkl\"\n",
    "OFT_VAL_FILE_NAME = \".\\\\OFT_model\\\\OFT_validation_dict_old_features_hand_picked.pkl\"\n",
    "FLX_TRAIN_FILE = \".\\\\FLX_model\\\\FLX_train_dict_old_features.pkl\"\n",
    "FLX_VAL_FILE = \".\\\\FLX_model\\\\FLX_validation_dict_old_features.pkl\"\n",
    "\n",
    "FEATURE_LIST = ['X_power_1_2','X_coh_1_2','X_gc_1_2']\n",
    "FEATURE_VECTOR = FEATURE_LIST\n",
    "FEATURE_WEIGHTS = [10,1,1]\n",
    "NETWORK_CONSTRAINT = \"Positive\"\n",
    "UMC_PATH = \".\\\\Universal-Mouse-Code\\\\\"\n",
    "\n",
    "sys.path.append(UMC_PATH)\n",
    "#from dCSFA_model import dCSFA_model\n",
    "import umc_data_tools as umc_dt\n",
    "from dCSFA_NMF import dCSFA_NMF\n",
    "\n",
    "if torch.cuda.is_available():\n",
    "    device=\"cuda:0\"\n",
    "else:\n",
    "    device=\"cpu\"\n",
    "\n",
    "\n",
    "print(\"Using device: %s\"%(device))\n",
    "\n",
    "#For Consistency\n",
    "RANDOM_STATE=42\n",
    "\n",
    "import pandas as pd\n",
    "\n",
    "model = torch.load(MODEL_NAME,map_location='cpu')\n",
    "model.device = \"cpu\""
   ]
  },
  {
   "cell_type": "code",
   "execution_count": 3,
   "metadata": {},
   "outputs": [],
   "source": [
    "with open(TRAIN_FILE_NAME,'rb') as f:\n",
    "    train_dict = pickle.load(f)\n",
    "\n",
    "with open(VALIDATION_FILE_NAME,'rb') as f:\n",
    "    val_dict = pickle.load(f)\n",
    "\n",
    "NUM_FREQS = 56\n",
    "FEATURE_LIST = ['X_power_1_2','X_coh_1_2','X_gc_1_2']\n",
    "\n",
    "running_idx = 0\n",
    "feature_groups = []\n",
    "for idx,feature in enumerate(FEATURE_VECTOR):\n",
    "    f_begin = running_idx\n",
    "    f_end = f_begin + train_dict[feature].shape[1] \n",
    "    if idx == 0:\n",
    "        f_end = f_end -1\n",
    "    feature_groups.append((f_begin,f_end))\n",
    "\n",
    "    running_idx = f_end\n",
    "\n",
    "\n",
    "NUM_FEATURES = np.hstack([train_dict[feature] for feature in FEATURE_VECTOR]).shape[1] // NUM_FREQS\n",
    "scale_vector = np.array([np.arange(1,NUM_FREQS+1) for feature in range(NUM_FEATURES)]).flatten()\n",
    "\n",
    "#Train Arrays\n",
    "X_train = np.hstack([train_dict[feature]*weight for feature,weight in zip(FEATURE_LIST,FEATURE_WEIGHTS)])#*scale_vector\n",
    "y_hc_train = train_dict['y_Homecage'].astype(bool)\n",
    "y_task_train = ~y_hc_train\n",
    "y_ROI_train = train_dict['y_ROI']\n",
    "y_vel_train = train_dict['y_vel']\n",
    "y_mouse_train = train_dict['y_mouse']\n",
    "y_time_train = train_dict['y_time']\n",
    "\n",
    "#Validation Arrays\n",
    "X_val = np.hstack([val_dict[feature]*weight for feature,weight in zip(FEATURE_LIST,FEATURE_WEIGHTS)])#*scale_vector\n",
    "y_hc_val = val_dict['y_Homecage'].astype(bool)\n",
    "y_task_val = ~y_hc_val\n",
    "y_ROI_val = val_dict['y_ROI']\n",
    "y_vel_val = val_dict['y_vel']\n",
    "y_mouse_val = val_dict['y_mouse']\n",
    "y_time_val = val_dict['y_time']\n",
    "\n",
    "intercept_mask = OneHotEncoder().fit_transform(y_mouse_train.reshape(-1,1)).todense()"
   ]
  },
  {
   "cell_type": "code",
   "execution_count": 4,
   "metadata": {},
   "outputs": [
    {
     "name": "stderr",
     "output_type": "stream",
     "text": [
      "c:\\Users\\micha\\Anaconda3\\envs\\cpne\\lib\\site-packages\\sklearn\\metrics\\_ranking.py:990: UndefinedMetricWarning: No negative samples in y_true, false positive value should be meaningless\n",
      "  warnings.warn(\n",
      "c:\\Users\\micha\\Anaconda3\\envs\\cpne\\lib\\site-packages\\sklearn\\metrics\\_ranking.py:990: UndefinedMetricWarning: No negative samples in y_true, false positive value should be meaningless\n",
      "  warnings.warn(\n",
      "c:\\Users\\micha\\Anaconda3\\envs\\cpne\\lib\\site-packages\\sklearn\\metrics\\_ranking.py:990: UndefinedMetricWarning: No negative samples in y_true, false positive value should be meaningless\n",
      "  warnings.warn(\n",
      "c:\\Users\\micha\\Anaconda3\\envs\\cpne\\lib\\site-packages\\sklearn\\metrics\\_ranking.py:990: UndefinedMetricWarning: No negative samples in y_true, false positive value should be meaningless\n",
      "  warnings.warn(\n"
     ]
    },
    {
     "name": "stdout",
     "output_type": "stream",
     "text": [
      "Training ROC AUCs:  {'auc_method': 'sklearn_roc_auc', 'Mouse04191': 0.9956236117908368, 'Mouse04201': 0.99822695035461, 'Mouse04202': 0.9985875706214689, 'Mouse04205': 0.998442367601246, 'Mouse04215': nan, 'Mouse3191': 0.9833740223337403, 'Mouse3192': nan, 'Mouse3193': 0.985501279181324, 'Mouse3194': nan, 'Mouse3203': nan, 'Mouse39114': 0.9981132075471698, 'Mouse39124': 0.9953891900030112, 'Mouse39133': 0.9981549815498155, 'Mouse69064': 0.9968796173885994, 'Mouse69072': 0.9951456310679612, 'Mouse69074': 0.9866310160427808}\n",
      "Mouse  Mouse04215  has only one class - AUC cannot be calculated\n",
      "n_positive samples  506\n",
      "n_negative samples  0\n",
      "Mouse  Mouse3192  has only one class - AUC cannot be calculated\n",
      "n_positive samples  279\n",
      "n_negative samples  0\n",
      "Mouse  Mouse3194  has only one class - AUC cannot be calculated\n",
      "n_positive samples  324\n",
      "n_negative samples  0\n",
      "Mouse  Mouse3203  has only one class - AUC cannot be calculated\n",
      "n_positive samples  500\n",
      "n_negative samples  0\n",
      "Training MW AUCs:  {'auc_method': 'mannWhitneyU', 'Mouse04191': (0.9999811768249068, 2.370924263136743e-76), 'Mouse04201': (1.0, 2.4380794996704538e-107), 'Mouse04202': (0.9999898386375645, 1.966523539349695e-103), 'Mouse04205': (1.0, 8.702625054292337e-111), 'Mouse3191': (0.9958632849586329, 2.9488037694949383e-97), 'Mouse3193': (0.9942196993923889, 4.8209012917340015e-110), 'Mouse39114': (0.9975943396226415, 3.32990418557581e-83), 'Mouse39124': (0.9980898072869617, 2.2413228823298386e-107), 'Mouse39133': (1.0, 2.6908296491528975e-97), 'Mouse69064': (0.9972295668403452, 3.1192825865891947e-105), 'Mouse69072': (1.0, 1.73340171048179e-109), 'Mouse69074': (1.0, 3.0669560438369563e-105)}\n",
      "Training ROC AUCs:  {'auc_method': 'sklearn_roc_auc', 'Mouse04193': 0.8166998611865532, 'Mouse39125': 0.8081156265118529, 'Mouse69065': 0.6273976322363419}\n",
      "Training MW AUCs:  {'auc_method': 'mannWhitneyU', 'Mouse04193': (0.9086124690687428, 2.645811327424949e-64), 'Mouse39125': (0.8965439042089985, 1.2312442319687998e-53), 'Mouse69065': (0.7139350494189204, 7.55039690457026e-20)}\n"
     ]
    }
   ],
   "source": [
    "y_pred, s = model.predict(X_train,include_scores=True)\n",
    "roc_auc_dict = umc_dt.lpne_auc(y_pred,y_task_train,y_mouse_train)\n",
    "print(\"Training ROC AUCs: \",roc_auc_dict)\n",
    "mw_auc_dict = umc_dt.lpne_auc(y_pred,y_task_train,y_mouse_train,s,True)\n",
    "print(\"Training MW AUCs: \",mw_auc_dict)\n",
    "\n",
    "df = umc_dt.make_projection_csv(OFT_TRAIN_FILE_NAME,model,FEATURE_VECTOR,\n",
    "                    ['y_mouse','y_expDate','y_time','y_Homecage','y_ROI','y_vel'],\n",
    "                    save_file = \".\\\\July_30_Projections\\\\{}_OFT_HC_vs_Task_Train_Projection_2022_July_30.csv\".format(NETWORK_CONSTRAINT),\n",
    "                    auc_dict=mw_auc_dict)\n",
    "\n",
    "y_pred, s = model.predict(X_val,include_scores=True)\n",
    "roc_auc_dict = umc_dt.lpne_auc(y_pred,y_task_val,y_mouse_val)\n",
    "print(\"Training ROC AUCs: \",roc_auc_dict)\n",
    "mw_auc_dict = umc_dt.lpne_auc(y_pred,y_task_val,y_mouse_val,s,True)\n",
    "print(\"Training MW AUCs: \",mw_auc_dict)\n",
    "\n",
    "df = umc_dt.make_projection_csv(OFT_VAL_FILE_NAME,model,FEATURE_VECTOR,\n",
    "                    ['y_mouse','y_expDate','y_time','y_Homecage','y_ROI','y_vel'],\n",
    "                    save_file = \".\\\\July_30_Projections\\\\{}_OFT_HC_vs_Task_Val_Projection_2022_July_30.csv\".format(NETWORK_CONSTRAINT),\n",
    "                    auc_dict=mw_auc_dict)\n"
   ]
  },
  {
   "cell_type": "code",
   "execution_count": 5,
   "metadata": {},
   "outputs": [
    {
     "name": "stdout",
     "output_type": "stream",
     "text": [
      "Mouse  Mouse04215  has only one class - AUC cannot be calculated\n",
      "n_positive samples  506\n",
      "n_negative samples  0\n",
      "Mouse  Mouse3192  has only one class - AUC cannot be calculated\n",
      "n_positive samples  279\n",
      "n_negative samples  0\n",
      "Mouse  Mouse3194  has only one class - AUC cannot be calculated\n",
      "n_positive samples  324\n",
      "n_negative samples  0\n",
      "Mouse  Mouse3203  has only one class - AUC cannot be calculated\n",
      "n_positive samples  500\n",
      "n_negative samples  0\n",
      "train mw auc mean: 1.00 +/- 0.00\n",
      "val mw auc mean: 0.84 +/- 0.06\n"
     ]
    }
   ],
   "source": [
    "y_pred, s = model.predict(X_train,include_scores=True)\n",
    "#roc_mean,roc_std = umc_dt.get_mean_std_err_auc(y_pred,y_task_train,y_mouse_train)\n",
    "#print(\"train roc auc mean: %0.2f +/- %0.2f\"%(roc_mean,roc_std))\n",
    "mw_mean,mw_std = umc_dt.get_mean_std_err_auc(y_pred,y_task_train,y_mouse_train,s,True)\n",
    "print(\"train mw auc mean: %0.2f +/- %0.2f\"%(mw_mean,mw_std))\n",
    "\n",
    "\n",
    "y_pred, s = model.predict(X_val,include_scores=True)\n",
    "#roc_mean,roc_std = umc_dt.get_mean_std_err_auc(y_pred,y_task_val,y_mouse_val)\n",
    "#print(\"val roc auc mean: %0.2f +/- %0.2f\"%(roc_mean,roc_std))\n",
    "mw_mean,mw_std = umc_dt.get_mean_std_err_auc(y_pred,y_task_val,y_mouse_val,s,True)\n",
    "print(\"val mw auc mean: %0.2f +/- %0.2f\"%(mw_mean,mw_std))\n",
    "#umc_dt.make_recon_plots(model,X_train,0,task=\"OFT (HC vs Task) Training\",saveFile=\"oft_train_recon.png\")\n",
    "#umc_dt.make_recon_plots(model,X_val,0,task=\"OFT (HC vs Task) Val\",saveFile=\"oft_val_recon.png\")"
   ]
  },
  {
   "cell_type": "code",
   "execution_count": 6,
   "metadata": {},
   "outputs": [
    {
     "name": "stderr",
     "output_type": "stream",
     "text": [
      "c:\\Users\\micha\\Anaconda3\\envs\\cpne\\lib\\site-packages\\sklearn\\metrics\\_ranking.py:990: UndefinedMetricWarning: No negative samples in y_true, false positive value should be meaningless\n",
      "  warnings.warn(\n",
      "c:\\Users\\micha\\Anaconda3\\envs\\cpne\\lib\\site-packages\\sklearn\\metrics\\_ranking.py:990: UndefinedMetricWarning: No negative samples in y_true, false positive value should be meaningless\n",
      "  warnings.warn(\n"
     ]
    },
    {
     "name": "stdout",
     "output_type": "stream",
     "text": [
      "ROC AUCs:  {'auc_method': 'sklearn_roc_auc', 'Mouse3191': 0.5458903996669785, 'Mouse3192': 0.6135640384426793, 'Mouse3193': 0.4773608675776547, 'Mouse3194': 0.4236473534448658, 'Mouse3202': nan, 'Mouse3203': 0.4167402952368501, 'Mouse99003': nan}\n",
      "Mouse  Mouse3202  has only one class - AUC cannot be calculated\n",
      "n_positive samples  1504\n",
      "n_negative samples  0\n",
      "Mouse  Mouse99003  has only one class - AUC cannot be calculated\n",
      "n_positive samples  1874\n",
      "n_negative samples  0\n",
      "MW AUCs:  {'auc_method': 'mannWhitneyU', 'Mouse3191': (0.5615857144623523, 9.622433431733594e-11), 'Mouse3192': (0.6807863219574385, 2.4355634278180347e-78), 'Mouse3193': (0.4446372272148497, 8.302826272090886e-09), 'Mouse3194': (0.39739855897758875, 6.043847322966595e-27), 'Mouse3203': (0.37630105177312606, 1.1445687834739185e-37)}\n"
     ]
    }
   ],
   "source": [
    "with open(FLX_TRAIN_FILE,\"rb\") as f:\n",
    "    flx_train_dict = pickle.load(f)\n",
    "\n",
    "with open(FLX_VAL_FILE,\"rb\") as f:\n",
    "    flx_validation_dict = pickle.load(f)\n",
    "\n",
    "FULL_FEATURE_LIST = [\"X_power_1_2_full\",\"X_coh_1_2_full\",\"X_gc_1_2_full\"]\n",
    "\n",
    "flx_X_train = np.hstack([flx_train_dict[feature]*weight for feature,weight in zip(FEATURE_VECTOR,FEATURE_WEIGHTS)])\n",
    "flx_y_train = flx_train_dict['y_flx']\n",
    "flx_y_mouse_train = flx_train_dict['y_mouse']\n",
    "flx_y_expDate_train = flx_train_dict['y_expDate']\n",
    "flx_y_time_train = flx_train_dict['y_time']\n",
    "\n",
    "flx_X_validation = np.hstack([flx_validation_dict[feature]*weight for feature,weight in zip(FEATURE_VECTOR,FEATURE_WEIGHTS)])\n",
    "flx_y_validation = flx_validation_dict['y_flx']\n",
    "flx_y_mouse_validation = flx_validation_dict['y_mouse']\n",
    "flx_y_expDate_validation = flx_validation_dict['y_expDate']\n",
    "flx_y_time_validation = flx_validation_dict['y_time']\n",
    "\n",
    "flx_X = np.vstack([flx_X_train,flx_X_validation])\n",
    "flx_y_task = np.hstack([flx_y_train,flx_y_validation])\n",
    "flx_y_mouse = np.hstack([flx_y_mouse_train,flx_y_mouse_validation])\n",
    "flx_y_expDate = np.hstack([flx_y_expDate_train,flx_y_expDate_validation])\n",
    "flx_y_time = np.hstack([flx_y_time_train,flx_y_time_validation])\n",
    "\n",
    "y_pred, s = model.predict(flx_X,include_scores=True)\n",
    "roc_auc_dict = umc_dt.lpne_auc(y_pred,flx_y_task,flx_y_mouse)\n",
    "print(\"ROC AUCs: \",roc_auc_dict)\n",
    "mw_auc_dict = umc_dt.lpne_auc(y_pred,flx_y_task,flx_y_mouse,s,True)\n",
    "print(\"MW AUCs: \",mw_auc_dict)\n",
    "\n",
    "df = umc_dt.make_projection_csv(FLX_TRAIN_FILE,model,FULL_FEATURE_LIST,\n",
    "                    ['y_mouse_full','y_expDate_full','y_time_full','y_flx_full'],\n",
    "                    save_file = \".\\\\July_30_Projections\\\\{}_OFT_onto_FLX_flx_vs_saline_Train_Projection_2022_July_30.csv\".format(NETWORK_CONSTRAINT),\n",
    "                    auc_dict=mw_auc_dict,mousevar=\"y_mouse_full\")\n",
    "\n",
    "df = umc_dt.make_projection_csv(FLX_VAL_FILE,model,FULL_FEATURE_LIST,\n",
    "                    ['y_mouse_full','y_expDate_full','y_time_full','y_flx_full'],\n",
    "                    save_file = \".\\\\July_30_Projections\\\\{}_OFT_onto_FLX_flx_vs_saline_Val_Projection_2022_July_30.csv\".format(NETWORK_CONSTRAINT),\n",
    "                    auc_dict=mw_auc_dict,mousevar=\"y_mouse_full\")"
   ]
  },
  {
   "cell_type": "code",
   "execution_count": 7,
   "metadata": {},
   "outputs": [
    {
     "name": "stdout",
     "output_type": "stream",
     "text": [
      "Mouse  Mouse3202  has only one class - AUC cannot be calculated\n",
      "n_positive samples  1504\n",
      "n_negative samples  0\n",
      "Mouse  Mouse99003  has only one class - AUC cannot be calculated\n",
      "n_positive samples  1874\n",
      "n_negative samples  0\n",
      "EPM->FLX mw-auc: 0.49 +/- 0.06\n"
     ]
    }
   ],
   "source": [
    "y_pred, s = model.predict(flx_X,include_scores=True)\n",
    "#roc_mean,roc_std = umc_dt.get_mean_std_err_auc(y_pred,oft_y_task,oft_y_mouse)\n",
    "mw_mean,mw_std = umc_dt.get_mean_std_err_auc(y_pred,flx_y_task,flx_y_mouse,s,True)\n",
    "#print(\"EPM->FLX roc-auc: {} +/- {}\".format(roc_mean,roc_std))\n",
    "print(\"EPM->FLX mw-auc: {:0.2f} +/- {:0.2f}\".format(mw_mean,mw_std))\n",
    "#umc_dt.make_recon_plots(model,flx_X,0,task=\"OFT onto FLX (FLX vs Saline) Train and Val\",saveFile=\"oft_onto_flx_recon.png\")"
   ]
  },
  {
   "cell_type": "code",
   "execution_count": 8,
   "metadata": {},
   "outputs": [
    {
     "name": "stdout",
     "output_type": "stream",
     "text": [
      "ROC AUCs:  {'auc_method': 'sklearn_roc_auc', 'Mouse04193': 0.6187636114396895, 'Mouse04201': 0.7455852625958275, 'Mouse04202': 0.7179058694258769, 'Mouse04205': 0.6444444444444444, 'Mouse04215': 0.6180336783678367, 'Mouse0630': 0.4736068087236772, 'Mouse0633': 0.5800378081427067, 'Mouse0634': 0.531364997860505, 'Mouse0642': 0.6173003703124185, 'Mouse0643': 0.582544378698225, 'Mouse1551': 0.5366787435102529, 'Mouse39114': 0.6643113830613832, 'Mouse39124': 0.6836372747460059, 'Mouse39125': 0.6284665356479965, 'Mouse39133': 0.731025461214802, 'Mouse6291': 0.5804691691327899, 'Mouse6292': 0.5761974427493827, 'Mouse6293': 0.6042929292929293, 'Mouse69064': 0.7194332527531561, 'Mouse69065': 0.6966189207195203, 'Mouse69074': 0.6379433819192855, 'Mouse8580': 0.5275973468055126, 'Mouse8581': 0.5036009070294785, 'Mouse8582': 0.5952380952380953, 'Mouse8891': 0.5049049101420462, 'Mouse8894': 0.5902855024100853}\n",
      "MW AUCs:  {'auc_method': 'mannWhitneyU', 'Mouse04193': (0.6911350144267442, 5.093267512437848e-16), 'Mouse04201': (0.8274915137877112, 3.809113833197479e-47), 'Mouse04202': (0.8291914659829686, 1.4173032123267405e-48), 'Mouse04205': (0.7518518518518519, 0.013252044336621051), 'Mouse04215': (0.6763238823882388, 6.8029905828611855e-15), 'Mouse0630': (0.48710326772844376, 0.6166536675205105), 'Mouse0633': (0.6184676283637194, 2.3134392856208935e-05), 'Mouse0634': (0.5708600770218228, 0.013627277214481828), 'Mouse0642': (0.6616074688363845, 2.679361005256865e-07), 'Mouse0643': (0.6140191169776968, 0.0007265162570445849), 'Mouse1551': (0.5307087986653221, 0.2795439395694477), 'Mouse39114': (0.7075806138306139, 4.724042344004323e-13), 'Mouse39124': (0.7606854402892684, 4.827466084088648e-30), 'Mouse39125': (0.7179277213669615, 1.7998422342521366e-18), 'Mouse39133': (0.8255744956305966, 4.4331158048870606e-55), 'Mouse6291': (0.6446359655954174, 1.981552570051529e-09), 'Mouse6292': (0.5952626594053377, 7.261741049479355e-05), 'Mouse6293': (0.6511404366243075, 1.4568806108824092e-10), 'Mouse69064': (0.7836959441310771, 2.2131464483973066e-30), 'Mouse69065': (0.7952864756828781, 4.2573295774030273e-41), 'Mouse69074': (0.7070098576122672, 6.607379655804462e-19), 'Mouse8580': (0.5753342268962436, 0.013984812686803941), 'Mouse8581': (0.5571156462585034, 0.051109301334924306), 'Mouse8582': (0.6011904761904762, 0.29338899796798545), 'Mouse8891': (0.512386533078714, 0.6607456223962365), 'Mouse8894': (0.6733870967741935, 2.146383297543233e-05)}\n"
     ]
    }
   ],
   "source": [
    "with open(EPM_TRAIN_FILE,\"rb\") as f:\n",
    "    epm_train_dict = pickle.load(f)\n",
    "\n",
    "with open(EPM_VAL_FILE,\"rb\") as f:\n",
    "    epm_validation_dict = pickle.load(f)\n",
    "#Load the data\n",
    "NUM_FREQS = 56\n",
    "NUM_FEATURES = (epm_train_dict[\"X_power_1_2\"].shape[1] + \\\n",
    "                epm_train_dict[\"X_coh_1_2\"].shape[1] + \\\n",
    "                epm_train_dict[\"X_gc_1_2\"].shape[1]) // NUM_FREQS\n",
    "SCALE_VECTOR = np.array([np.arange(1,57) for feature in range(NUM_FEATURES)]).flatten()\n",
    "\n",
    "X_train = np.hstack([epm_train_dict[\"X_power_1_2\"]*FEATURE_WEIGHTS[0],\n",
    "                    epm_train_dict[\"X_coh_1_2\"],\n",
    "                    epm_train_dict[\"X_gc_1_2\"]])#*SCALE_VECTOR\n",
    "\n",
    "y_train = (epm_train_dict['y_ROI']%2).astype(bool)\n",
    "y_in_task_mask_train = ~epm_train_dict['y_Homecage'].astype(bool)\n",
    "y_mouse_train = epm_train_dict['y_mouse']\n",
    "y_time_train = epm_train_dict['y_time']\n",
    "train_nan_mask = (epm_train_dict['y_ROI'] > 0)\n",
    "\n",
    "\n",
    "X_train_task = X_train[np.logical_and(y_in_task_mask_train==1,train_nan_mask)==1]\n",
    "y_train_task = y_train[np.logical_and(y_in_task_mask_train==1,train_nan_mask)==1]\n",
    "y_mouse_train_task = y_mouse_train[np.logical_and(y_in_task_mask_train==1,train_nan_mask)==1]\n",
    "y_time_train_task = y_time_train[np.logical_and(y_in_task_mask_train==1,train_nan_mask)==1]\n",
    "\n",
    "X_val = np.hstack([epm_validation_dict[\"X_power_1_2\"]*FEATURE_WEIGHTS[0],\n",
    "                    epm_validation_dict[\"X_coh_1_2\"],\n",
    "                    epm_validation_dict[\"X_gc_1_2\"]])#*SCALE_VECTOR\n",
    "\n",
    "y_val = (epm_validation_dict['y_ROI']%2).astype(bool)\n",
    "y_in_task_mask_val= ~epm_validation_dict['y_Homecage'].astype(bool)\n",
    "y_mouse_val = epm_validation_dict['y_mouse']\n",
    "y_time_val = epm_validation_dict['y_time']\n",
    "val_nan_mask = (epm_validation_dict['y_ROI'] > 0)\n",
    "\n",
    "X_val_task = X_val[np.logical_and(y_in_task_mask_val==1,val_nan_mask)==1]\n",
    "y_val_task = y_val[np.logical_and(y_in_task_mask_val==1,val_nan_mask)==1]\n",
    "y_mouse_val_task = y_mouse_val[np.logical_and(y_in_task_mask_val==1,val_nan_mask)==1]\n",
    "y_time_val_task = y_time_val[np.logical_and(y_in_task_mask_val==1,val_nan_mask)==1]\n",
    "\n",
    "epm_X = np.vstack([X_train,X_val])\n",
    "epm_y_task = np.hstack([y_in_task_mask_train,y_in_task_mask_val])\n",
    "epm_y_mouse = np.hstack([y_mouse_train,y_mouse_val])\n",
    "epm_y_time = np.hstack([y_time_train,y_time_val])\n",
    "\n",
    "y_pred, s = model.predict(epm_X,include_scores=True)\n",
    "roc_auc_dict = umc_dt.lpne_auc(y_pred,epm_y_task,epm_y_mouse)\n",
    "print(\"ROC AUCs: \",roc_auc_dict)\n",
    "mw_auc_dict = umc_dt.lpne_auc(y_pred,epm_y_task,epm_y_mouse,s,True)\n",
    "print(\"MW AUCs: \",mw_auc_dict)\n",
    "\n",
    "df = umc_dt.make_projection_csv(EPM_TRAIN_FILE,model,FEATURE_VECTOR,\n",
    "                    ['y_mouse','y_expDate','y_time','y_Homecage','y_ROI','y_vel','y_locx','y_locy'],\n",
    "                    save_file = \".\\\\July_30_Projections\\\\{}_OFT_onto_EPM_HC_vs_Task_Train_Projection_2022_July_30.csv\".format(NETWORK_CONSTRAINT),\n",
    "                    auc_dict=mw_auc_dict)\n",
    "\n",
    "df = umc_dt.make_projection_csv(EPM_VAL_FILE,model,FEATURE_VECTOR,\n",
    "                    ['y_mouse','y_expDate','y_time','y_Homecage','y_ROI','y_vel','y_locx','y_locy'],\n",
    "                    save_file = \".\\\\July_30_Projections\\\\{}_OFT_onto_EPM_HC_vs_Task_Val_Projection_2022_July_30.csv\".format(NETWORK_CONSTRAINT),\n",
    "                    auc_dict=mw_auc_dict)"
   ]
  },
  {
   "cell_type": "code",
   "execution_count": 9,
   "metadata": {},
   "outputs": [
    {
     "name": "stdout",
     "output_type": "stream",
     "text": [
      "OFT->EPM roc-auc: 0.6119341725532281 +/- 0.014600019701238457\n",
      "OFT->EPM mw-auc: 0.67 +/- 0.02\n"
     ]
    }
   ],
   "source": [
    "y_pred, s = model.predict(epm_X,include_scores=True)\n",
    "roc_mean,roc_std = umc_dt.get_mean_std_err_auc(y_pred,epm_y_task,epm_y_mouse)\n",
    "mw_mean,mw_std = umc_dt.get_mean_std_err_auc(y_pred,epm_y_task,epm_y_mouse,s,True)\n",
    "print(\"OFT->EPM roc-auc: {} +/- {}\".format(roc_mean,roc_std))\n",
    "print(\"OFT->EPM mw-auc: {:0.2f} +/- {:0.2f}\".format(mw_mean,mw_std))\n",
    "#umc_dt.make_recon_plots(model,flx_X,0,task=\"OFT onto EPM (HC vs Task) Train and Val\",saveFile=\"oft_onto_epm_recon.png\")"
   ]
  },
  {
   "cell_type": "code",
   "execution_count": null,
   "metadata": {},
   "outputs": [],
   "source": []
  }
 ],
 "metadata": {
  "kernelspec": {
   "display_name": "Python 3.9.7 ('cpne')",
   "language": "python",
   "name": "python3"
  },
  "language_info": {
   "codemirror_mode": {
    "name": "ipython",
    "version": 3
   },
   "file_extension": ".py",
   "mimetype": "text/x-python",
   "name": "python",
   "nbconvert_exporter": "python",
   "pygments_lexer": "ipython3",
   "version": "3.9.7"
  },
  "orig_nbformat": 4,
  "vscode": {
   "interpreter": {
    "hash": "e7fcc668915e92e9e68f231fbede55b84f4413bfe6d4c43e44892e9f909bca93"
   }
  }
 },
 "nbformat": 4,
 "nbformat_minor": 2
}

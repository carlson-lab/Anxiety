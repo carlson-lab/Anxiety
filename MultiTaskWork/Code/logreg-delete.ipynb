{
 "cells": [
  {
   "cell_type": "code",
   "execution_count": 1,
   "id": "9eb162ed-abb2-4809-b756-20c77d170ab3",
   "metadata": {},
   "outputs": [
    {
     "name": "stderr",
     "output_type": "stream",
     "text": [
      "/opt/conda/lib/python3.7/site-packages/tqdm/auto.py:22: TqdmWarning: IProgress not found. Please update jupyter and ipywidgets. See https://ipywidgets.readthedocs.io/en/stable/user_install.html\n",
      "  from .autonotebook import tqdm as notebook_tqdm\n",
      "/hpc/home/mk423/.local/lib/python3.7/site-packages/lpne/pipelines/__init__.py:14: UserWarning: Could not load lpne/pipelines/default_params.yaml!\n",
      "  warnings.warn(\"Could not load lpne/pipelines/default_params.yaml!\")\n"
     ]
    }
   ],
   "source": [
    "from lpne.models import DcsfaNmf\n",
    "import numpy as np\n",
    "import pickle\n",
    "import matplotlib.pyplot as plt\n",
    "import seaborn as sns\n",
    "import sys,os\n",
    "from sklearn.preprocessing import OneHotEncoder\n",
    "from sklearn.linear_model import LogisticRegression\n",
    "import torch\n",
    "\n",
    "DATA_PATH = \"/work/mk423/Anxiety/Anxiety_Network_Generation_Data.pkl\"\n",
    "\n",
    "with open(DATA_PATH,\"rb\") as f:\n",
    "    dataDict = pickle.load(f)\n",
    "    "
   ]
  },
  {
   "cell_type": "code",
   "execution_count": 9,
   "id": "abc43a0f-fc4b-4ea3-84eb-548f6dfe6e8f",
   "metadata": {},
   "outputs": [],
   "source": [
    "from sklearn.metrics import roc_auc_score\n",
    "\n",
    "lr_model = LogisticRegression(max_iter=2000)\n",
    "\n",
    "lr_model.fit(dataDict['X_train'],dataDict['y_train'])\n",
    "y_pred = lr_model.predict_proba(dataDict['X_val'])\n"
   ]
  },
  {
   "cell_type": "code",
   "execution_count": 10,
   "id": "7223e66d-a4ac-4cbd-9fff-b3f54a77aa2f",
   "metadata": {},
   "outputs": [
    {
     "data": {
      "text/plain": [
       "0.7579891161646064"
      ]
     },
     "execution_count": 10,
     "metadata": {},
     "output_type": "execute_result"
    }
   ],
   "source": [
    "roc_auc_score(dataDict['y_val'],y_pred[:,1])"
   ]
  },
  {
   "cell_type": "code",
   "execution_count": 11,
   "id": "1b695404-2a22-415c-a32b-0cf65dd644a3",
   "metadata": {},
   "outputs": [
    {
     "data": {
      "text/plain": [
       "0.9038311980324543"
      ]
     },
     "execution_count": 11,
     "metadata": {},
     "output_type": "execute_result"
    }
   ],
   "source": [
    "y_pred = lr_model.predict_proba(dataDict['X_train'])\n",
    "roc_auc_score(dataDict['y_train'],y_pred[:,1])"
   ]
  },
  {
   "cell_type": "code",
   "execution_count": null,
   "id": "ac505283-14d3-4c63-aa13-58d2fe01dfb6",
   "metadata": {},
   "outputs": [],
   "source": []
  }
 ],
 "metadata": {
  "kernelspec": {
   "display_name": "Python 3 (ipykernel)",
   "language": "python",
   "name": "python3"
  },
  "language_info": {
   "codemirror_mode": {
    "name": "ipython",
    "version": 3
   },
   "file_extension": ".py",
   "mimetype": "text/x-python",
   "name": "python",
   "nbconvert_exporter": "python",
   "pygments_lexer": "ipython3",
   "version": "3.7.13"
  }
 },
 "nbformat": 4,
 "nbformat_minor": 5
}

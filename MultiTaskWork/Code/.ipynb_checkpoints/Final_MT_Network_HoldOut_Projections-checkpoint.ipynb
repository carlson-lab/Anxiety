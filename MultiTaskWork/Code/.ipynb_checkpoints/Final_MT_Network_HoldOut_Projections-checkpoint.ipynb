{
 "cells": [
  {
   "cell_type": "code",
   "execution_count": null,
   "id": "36313fb4-645a-4030-a4dc-c98ff2fbf3bf",
   "metadata": {},
   "outputs": [],
   "source": [
    "DATA_LOCATION = \"/work/mk423/Anxiety/\"\n",
    "UMC_PATH = \"/hpc/home/mk423/Anxiety/Universal-Mouse-Code/\"\n",
    "MODEL_PATH = \"../Models/\"\n",
    "\n",
    "FLX_TRAIN_FILE = DATA_LOCATION + \"FLX_train_dict_old_features.pkl\"\n",
    "FLX_VAL_FILE = DATA_LOCATION + \"FLX_validation_dict_old_features.pkl\"\n",
    "\n",
    "EPM_TRAIN_FILE = DATA_LOCATION + \"EPM_train_dict_May_17.pkl\"\n",
    "EPM_VAL_FILE = DATA_LOCATION + \"EPM_val_dict_May_17.pkl\"\n",
    "\n",
    "OFT_TRAIN_FILE = DATA_LOCATION + \"OFT_train_dict_old_features_hand_picked.pkl\"\n",
    "OFT_VAL_FILE = DATA_LOCATION + \"OFT_validation_dict_old_features_hand_picked.pkl\"\n",
    "\n",
    "FEATURE_LIST = ['X_power_1_2','X_coh_1_2','X_gc_1_2']\n",
    "FEATURE_VECTOR = FEATURE_LIST\n",
    "FEATURE_WEIGHT = [10,1,1]\n",
    "\n",
    "MT_MODEL_PATH = MODEL_PATH + \"Positive_MT_10_res_loss_10_power_features.pt\"\n",
    "PROJECTION_SAVE_PATH = \"/hpc/home/mk423/Anxiety/MultiTaskWork/Projections/withinExperiment/final_projections/\"\n",
    "\n",
    "TRAIN = False"
   ]
  }
 ],
 "metadata": {
  "kernelspec": {
   "display_name": "Python 3 (ipykernel)",
   "language": "python",
   "name": "python3"
  },
  "language_info": {
   "codemirror_mode": {
    "name": "ipython",
    "version": 3
   },
   "file_extension": ".py",
   "mimetype": "text/x-python",
   "name": "python",
   "nbconvert_exporter": "python",
   "pygments_lexer": "ipython3",
   "version": "3.7.13"
  }
 },
 "nbformat": 4,
 "nbformat_minor": 5
}

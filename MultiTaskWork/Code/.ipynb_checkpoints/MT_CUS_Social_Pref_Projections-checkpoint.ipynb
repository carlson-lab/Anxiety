{
 "cells": [
  {
   "cell_type": "markdown",
   "id": "3e06860f-b622-450a-a600-91b58c983feb",
   "metadata": {},
   "source": [
    "## CUS Social Preference Projections\n",
    "\n",
    "Created: February 16th 2023\n",
    "\n",
    "Author: Hunter Klein\n",
    "\n",
    "Data Location: R:/Internal/Anxiety-Program/Projection_CUS_Social_pref\n",
    "\n",
    "Description: Here we do projections for our Control experiment by looking at Social vs. Object interactions for the control mice from a CUS cohort. We anticiapte that the anxiety network will not be able to differentiate between these two states.\n",
    "\n",
    "Additional Notes: Labels for object and social were only included for timepoints under the 10 minute mark. Dr. Kathryn Walder informed us that labels after that point may not be accurate due to recording procedure. \n",
    "\n"
   ]
  },
  {
   "cell_type": "code",
   "execution_count": 4,
   "id": "5e77eec0-d239-430f-a24a-df87b8a4d984",
   "metadata": {},
   "outputs": [],
   "source": [
    "DATA_LOCATION = \"/work/mk423/Anxiety/\"\n",
    "UMC_PATH = \"/hpc/home/mk423/Anxiety/Universal-Mouse-Code/\"\n",
    "MODEL_PATH = \"../Models/\"\n",
    "data_file = \"CUS_social_pref_projection.pkl\"\n",
    "\n",
    "FEATURE_LIST = ['X_psd','X_coh','X_gc']\n",
    "FEATURE_VECTOR = FEATURE_LIST\n",
    "FEATURE_WEIGHT = [10,1,1]\n",
    "\n",
    "MT_MODEL_PATH = MODEL_PATH + \"Positive_MT_10_res_loss_10_power_features.pt\"\n",
    "PROJECTION_SAVE_PATH = \"/hpc/home/mk423/Anxiety/MultiTaskWork/Projections/holdoutExperiments/\"\n",
    "\n",
    "TRAIN = False\n",
    "PROJ_TEST = True"
   ]
  },
  {
   "cell_type": "code",
   "execution_count": 5,
   "id": "0873c85a-11ff-46ad-bc3b-aed631817923",
   "metadata": {},
   "outputs": [
    {
     "name": "stdout",
     "output_type": "stream",
     "text": [
      "Using device: cuda:0\n"
     ]
    },
    {
     "data": {
      "text/plain": [
       "dCSFA_NMF(\n",
       "  (recon_loss_f): MSELoss()\n",
       "  (Encoder): Sequential(\n",
       "    (0): Linear(in_features=5152, out_features=256, bias=True)\n",
       "    (1): BatchNorm1d(256, eps=1e-05, momentum=0.1, affine=True, track_running_stats=True)\n",
       "    (2): LeakyReLU(negative_slope=0.01)\n",
       "    (3): Linear(in_features=256, out_features=20, bias=True)\n",
       "    (4): Softplus(beta=1, threshold=20)\n",
       "  )\n",
       ")"
      ]
     },
     "execution_count": 5,
     "metadata": {},
     "output_type": "execute_result"
    }
   ],
   "source": [
    "import pickle\n",
    "import numpy as np\n",
    "import torch\n",
    "import matplotlib.pyplot as plt\n",
    "import os\n",
    "import sys\n",
    "import sklearn\n",
    "from sklearn.model_selection import train_test_split\n",
    "from sklearn.metrics import roc_auc_score\n",
    "from sklearn.preprocessing import OneHotEncoder\n",
    "import pandas as pd\n",
    "sys.path.append(UMC_PATH)\n",
    "sys.path.append(PROJECTION_SAVE_PATH)\n",
    "#from dCSFA_model import dCSFA_model\n",
    "import umc_data_tools as umc_dt\n",
    "from dCSFA_NMF import dCSFA_NMF\n",
    "\n",
    "if torch.cuda.is_available():\n",
    "    device=\"cuda:0\"\n",
    "else:\n",
    "    device=\"cpu\"\n",
    "\n",
    "\n",
    "print(\"Using device: %s\"%(device))\n",
    "\n",
    "#For Consistency\n",
    "RANDOM_STATE=42\n",
    "\n",
    "import pandas as pd\n",
    "\n",
    "model = torch.load(MT_MODEL_PATH,map_location='cpu')\n",
    "model.device = \"cpu\"\n",
    "model.eval()"
   ]
  },
  {
   "cell_type": "code",
   "execution_count": 14,
   "id": "de738e9f-018e-4828-bc87-c34683c73d09",
   "metadata": {},
   "outputs": [],
   "source": [
    "dataDict = pickle.load(open(DATA_LOCATION + data_file,\"rb\"))\n",
    "\n",
    "X = np.hstack([weight*dataDict[feature] for weight,feature in zip(FEATURE_WEIGHT,FEATURE_LIST)])\n",
    "y_time = dataDict['y_time']\n",
    "y_mouse = np.array(dataDict['y_mouse'])\n",
    "y_social = dataDict['y_social'].squeeze()\n",
    "y_object = dataDict['y_object'].squeeze()\n",
    "y_nan = dataDict['y_nan']\n",
    "y_stressed = np.array([mouse[-3]=='S' for mouse in y_mouse])"
   ]
  },
  {
   "cell_type": "code",
   "execution_count": 29,
   "id": "6a3398ea-ea35-4813-be95-ea6763f92828",
   "metadata": {},
   "outputs": [
    {
     "data": {
      "text/plain": [
       "array([False, False, False, ...,  True,  True,  True])"
      ]
     },
     "execution_count": 29,
     "metadata": {},
     "output_type": "execute_result"
    }
   ],
   "source": [
    "y_stressed"
   ]
  },
  {
   "cell_type": "code",
   "execution_count": 15,
   "id": "86a6d1c1-e14a-43bb-8af6-bc371cde4324",
   "metadata": {},
   "outputs": [],
   "source": [
    "#get the projection\n",
    "y_pred,s = model.transform(X,None)[2:]"
   ]
  },
  {
   "cell_type": "code",
   "execution_count": 16,
   "id": "bbd8074a-b457-4570-ae68-a61d268c7fc2",
   "metadata": {},
   "outputs": [],
   "source": [
    "#Get Average Scores for effect sizes\n",
    "mouse_list = []\n",
    "avg_score_list = []\n",
    "avg_social_score_list = []\n",
    "avg_object_score_list = []\n",
    "\n",
    "for mouse in np.unique(y_mouse):\n",
    "    mouse_mask=y_mouse==mouse\n",
    "    social_mouse_mask = np.logical_and(mouse_mask,y_social)\n",
    "    object_mouse_mask = np.logical_and(mouse_mask,y_object)\n",
    "    avg_score = np.mean(s[mouse_mask==1,0])\n",
    "    avg_social_score = np.mean(s[social_mouse_mask==1,0])\n",
    "    avg_object_score = np.mean(s[object_mouse_mask==1,0])\n",
    "    \n",
    "    mouse_list.append(mouse)\n",
    "    avg_score_list.append(avg_score)\n",
    "    avg_social_score_list.append(avg_social_score)\n",
    "    avg_object_score_list.append(avg_object_score)\n",
    "    \n",
    "scores_dict = {\n",
    "    \"mouse\":mouse_list,\n",
    "    \"avgScore\":avg_score_list,\n",
    "    \"avgSocScore\":avg_social_score_list,\n",
    "    \"avgObjScore\":avg_object_score_list\n",
    "}\n",
    "\n",
    "df_scores = pd.DataFrame.from_dict(scores_dict)\n",
    "df_scores.to_csv(PROJECTION_SAVE_PATH + \"CUS_socPref_proj_mean_scores.csv\")"
   ]
  },
  {
   "cell_type": "code",
   "execution_count": 32,
   "id": "459f4681-c178-4cb0-8327-8ec20ced2ef6",
   "metadata": {},
   "outputs": [
    {
     "data": {
      "text/plain": [
       "0.6465334708986307"
      ]
     },
     "execution_count": 32,
     "metadata": {},
     "output_type": "execute_result"
    }
   ],
   "source": [
    "roc_auc_score(y_stressed,y_pred)"
   ]
  },
  {
   "cell_type": "code",
   "execution_count": 18,
   "id": "ede2da37-ad49-46ec-a6d1-eb06023a0351",
   "metadata": {},
   "outputs": [
    {
     "name": "stdout",
     "output_type": "stream",
     "text": [
      "by mouse soc vs obj auc: 0.494 +/- 0.0124\n"
     ]
    }
   ],
   "source": [
    "#Get AUCs and Projections\n",
    "\n",
    "not_nan_mask = 1-y_nan\n",
    "soc_or_obj_mask = np.logical_or(y_social,y_object)\n",
    "mw_auc_dict = umc_dt.lpne_auc(y_pred[soc_or_obj_mask==1],y_social[soc_or_obj_mask==1],\n",
    "                               y_mouse[soc_or_obj_mask==1],s[soc_or_obj_mask==1],True)\n",
    "mw_mean, mw_std = umc_dt.get_mean_std_err_auc(y_pred[soc_or_obj_mask==1],y_social[soc_or_obj_mask==1],\n",
    "                                               y_mouse[soc_or_obj_mask==1],s[soc_or_obj_mask==1],True)\n",
    "print(\"by mouse soc vs obj auc: {:.3} +/- {:.3}\".format(mw_mean,mw_std))"
   ]
  },
  {
   "cell_type": "code",
   "execution_count": 19,
   "id": "532cc27a-d83c-44cd-b889-174af3f54f5f",
   "metadata": {},
   "outputs": [],
   "source": [
    "auc_list = []\n",
    "p_val_list = []\n",
    "\n",
    "for mouse in y_mouse:\n",
    "    auc_list.append(mw_auc_dict[mouse][0])\n",
    "    p_val_list.append(mw_auc_dict[mouse][1])\n",
    "    \n",
    "saveDict = {\n",
    "    \"mouse\":y_mouse,\n",
    "    \"social\":y_social,\n",
    "    \"object\":y_object,\n",
    "    \"time\":y_time,\n",
    "    \"scores\":s[:,0],\n",
    "    \"soc vs obj auc\": auc_list,\n",
    "    \"soc vs obj pval\": p_val_list,\n",
    "}\n",
    "\n",
    "df = pd.DataFrame.from_dict(saveDict)\n",
    "df.to_csv(PROJECTION_SAVE_PATH + \"MT_onto_CUS_socPref_projection.csv\")"
   ]
  },
  {
   "cell_type": "code",
   "execution_count": 20,
   "id": "e027d69d-ca76-4f69-8c22-f0c455fdc4ac",
   "metadata": {},
   "outputs": [
    {
     "data": {
      "text/html": [
       "<div>\n",
       "<style scoped>\n",
       "    .dataframe tbody tr th:only-of-type {\n",
       "        vertical-align: middle;\n",
       "    }\n",
       "\n",
       "    .dataframe tbody tr th {\n",
       "        vertical-align: top;\n",
       "    }\n",
       "\n",
       "    .dataframe thead th {\n",
       "        text-align: right;\n",
       "    }\n",
       "</style>\n",
       "<table border=\"1\" class=\"dataframe\">\n",
       "  <thead>\n",
       "    <tr style=\"text-align: right;\">\n",
       "      <th></th>\n",
       "      <th>mouse</th>\n",
       "      <th>social</th>\n",
       "      <th>object</th>\n",
       "      <th>time</th>\n",
       "      <th>scores</th>\n",
       "      <th>soc vs obj auc</th>\n",
       "      <th>soc vs obj pval</th>\n",
       "    </tr>\n",
       "  </thead>\n",
       "  <tbody>\n",
       "    <tr>\n",
       "      <th>0</th>\n",
       "      <td>MouseC5C12</td>\n",
       "      <td>1.0</td>\n",
       "      <td>-0.0</td>\n",
       "      <td>1</td>\n",
       "      <td>0.062646</td>\n",
       "      <td>0.48102</td>\n",
       "      <td>0.508778</td>\n",
       "    </tr>\n",
       "    <tr>\n",
       "      <th>1</th>\n",
       "      <td>MouseC5C12</td>\n",
       "      <td>1.0</td>\n",
       "      <td>-0.0</td>\n",
       "      <td>2</td>\n",
       "      <td>0.103863</td>\n",
       "      <td>0.48102</td>\n",
       "      <td>0.508778</td>\n",
       "    </tr>\n",
       "    <tr>\n",
       "      <th>2</th>\n",
       "      <td>MouseC5C12</td>\n",
       "      <td>1.0</td>\n",
       "      <td>-0.0</td>\n",
       "      <td>3</td>\n",
       "      <td>0.043891</td>\n",
       "      <td>0.48102</td>\n",
       "      <td>0.508778</td>\n",
       "    </tr>\n",
       "    <tr>\n",
       "      <th>3</th>\n",
       "      <td>MouseC5C12</td>\n",
       "      <td>1.0</td>\n",
       "      <td>-0.0</td>\n",
       "      <td>4</td>\n",
       "      <td>0.019248</td>\n",
       "      <td>0.48102</td>\n",
       "      <td>0.508778</td>\n",
       "    </tr>\n",
       "    <tr>\n",
       "      <th>4</th>\n",
       "      <td>MouseC5C12</td>\n",
       "      <td>1.0</td>\n",
       "      <td>-0.0</td>\n",
       "      <td>5</td>\n",
       "      <td>0.040896</td>\n",
       "      <td>0.48102</td>\n",
       "      <td>0.508778</td>\n",
       "    </tr>\n",
       "  </tbody>\n",
       "</table>\n",
       "</div>"
      ],
      "text/plain": [
       "        mouse  social  object  time    scores  soc vs obj auc  soc vs obj pval\n",
       "0  MouseC5C12     1.0    -0.0     1  0.062646         0.48102         0.508778\n",
       "1  MouseC5C12     1.0    -0.0     2  0.103863         0.48102         0.508778\n",
       "2  MouseC5C12     1.0    -0.0     3  0.043891         0.48102         0.508778\n",
       "3  MouseC5C12     1.0    -0.0     4  0.019248         0.48102         0.508778\n",
       "4  MouseC5C12     1.0    -0.0     5  0.040896         0.48102         0.508778"
      ]
     },
     "execution_count": 20,
     "metadata": {},
     "output_type": "execute_result"
    }
   ],
   "source": [
    "df.head()"
   ]
  },
  {
   "cell_type": "code",
   "execution_count": 26,
   "id": "fdc1a6ab-b39b-4c00-820a-4919cdc70776",
   "metadata": {},
   "outputs": [
    {
     "data": {
      "text/html": [
       "<div>\n",
       "<style scoped>\n",
       "    .dataframe tbody tr th:only-of-type {\n",
       "        vertical-align: middle;\n",
       "    }\n",
       "\n",
       "    .dataframe tbody tr th {\n",
       "        vertical-align: top;\n",
       "    }\n",
       "\n",
       "    .dataframe thead th {\n",
       "        text-align: right;\n",
       "    }\n",
       "</style>\n",
       "<table border=\"1\" class=\"dataframe\">\n",
       "  <thead>\n",
       "    <tr style=\"text-align: right;\">\n",
       "      <th></th>\n",
       "      <th>mouse</th>\n",
       "      <th>avgScore</th>\n",
       "      <th>avgSocScore</th>\n",
       "      <th>avgObjScore</th>\n",
       "    </tr>\n",
       "  </thead>\n",
       "  <tbody>\n",
       "    <tr>\n",
       "      <th>0</th>\n",
       "      <td>MouseC5C12</td>\n",
       "      <td>0.076701</td>\n",
       "      <td>0.078983</td>\n",
       "      <td>0.078919</td>\n",
       "    </tr>\n",
       "    <tr>\n",
       "      <th>1</th>\n",
       "      <td>MouseC5C13</td>\n",
       "      <td>0.072386</td>\n",
       "      <td>0.071084</td>\n",
       "      <td>0.074573</td>\n",
       "    </tr>\n",
       "    <tr>\n",
       "      <th>2</th>\n",
       "      <td>MouseC5C20</td>\n",
       "      <td>0.080929</td>\n",
       "      <td>0.091074</td>\n",
       "      <td>0.093927</td>\n",
       "    </tr>\n",
       "    <tr>\n",
       "      <th>3</th>\n",
       "      <td>MouseC5C22</td>\n",
       "      <td>0.085346</td>\n",
       "      <td>0.085581</td>\n",
       "      <td>0.085827</td>\n",
       "    </tr>\n",
       "    <tr>\n",
       "      <th>4</th>\n",
       "      <td>MouseC5C23</td>\n",
       "      <td>0.050578</td>\n",
       "      <td>0.050977</td>\n",
       "      <td>0.051602</td>\n",
       "    </tr>\n",
       "    <tr>\n",
       "      <th>5</th>\n",
       "      <td>MouseC5C24</td>\n",
       "      <td>0.104040</td>\n",
       "      <td>0.103804</td>\n",
       "      <td>0.109064</td>\n",
       "    </tr>\n",
       "    <tr>\n",
       "      <th>6</th>\n",
       "      <td>MouseC5S10</td>\n",
       "      <td>0.106643</td>\n",
       "      <td>0.112090</td>\n",
       "      <td>0.104242</td>\n",
       "    </tr>\n",
       "    <tr>\n",
       "      <th>7</th>\n",
       "      <td>MouseC5S11</td>\n",
       "      <td>0.101985</td>\n",
       "      <td>0.106242</td>\n",
       "      <td>0.099583</td>\n",
       "    </tr>\n",
       "    <tr>\n",
       "      <th>8</th>\n",
       "      <td>MouseC5S12</td>\n",
       "      <td>0.115412</td>\n",
       "      <td>0.114269</td>\n",
       "      <td>0.119820</td>\n",
       "    </tr>\n",
       "    <tr>\n",
       "      <th>9</th>\n",
       "      <td>MouseC5S13</td>\n",
       "      <td>0.094522</td>\n",
       "      <td>0.094601</td>\n",
       "      <td>0.091497</td>\n",
       "    </tr>\n",
       "    <tr>\n",
       "      <th>10</th>\n",
       "      <td>MouseC5S14</td>\n",
       "      <td>0.110916</td>\n",
       "      <td>0.108782</td>\n",
       "      <td>0.113836</td>\n",
       "    </tr>\n",
       "    <tr>\n",
       "      <th>11</th>\n",
       "      <td>MouseC5S23</td>\n",
       "      <td>0.097517</td>\n",
       "      <td>0.101329</td>\n",
       "      <td>0.097193</td>\n",
       "    </tr>\n",
       "  </tbody>\n",
       "</table>\n",
       "</div>"
      ],
      "text/plain": [
       "         mouse  avgScore  avgSocScore  avgObjScore\n",
       "0   MouseC5C12  0.076701     0.078983     0.078919\n",
       "1   MouseC5C13  0.072386     0.071084     0.074573\n",
       "2   MouseC5C20  0.080929     0.091074     0.093927\n",
       "3   MouseC5C22  0.085346     0.085581     0.085827\n",
       "4   MouseC5C23  0.050578     0.050977     0.051602\n",
       "5   MouseC5C24  0.104040     0.103804     0.109064\n",
       "6   MouseC5S10  0.106643     0.112090     0.104242\n",
       "7   MouseC5S11  0.101985     0.106242     0.099583\n",
       "8   MouseC5S12  0.115412     0.114269     0.119820\n",
       "9   MouseC5S13  0.094522     0.094601     0.091497\n",
       "10  MouseC5S14  0.110916     0.108782     0.113836\n",
       "11  MouseC5S23  0.097517     0.101329     0.097193"
      ]
     },
     "execution_count": 26,
     "metadata": {},
     "output_type": "execute_result"
    }
   ],
   "source": [
    "df_scores"
   ]
  },
  {
   "cell_type": "code",
   "execution_count": null,
   "id": "dbabf0fb-d838-4b2f-b243-bfda62486891",
   "metadata": {},
   "outputs": [],
   "source": []
  }
 ],
 "metadata": {
  "kernelspec": {
   "display_name": "Python 3 (ipykernel)",
   "language": "python",
   "name": "python3"
  },
  "language_info": {
   "codemirror_mode": {
    "name": "ipython",
    "version": 3
   },
   "file_extension": ".py",
   "mimetype": "text/x-python",
   "name": "python",
   "nbconvert_exporter": "python",
   "pygments_lexer": "ipython3",
   "version": "3.7.13"
  }
 },
 "nbformat": 4,
 "nbformat_minor": 5
}

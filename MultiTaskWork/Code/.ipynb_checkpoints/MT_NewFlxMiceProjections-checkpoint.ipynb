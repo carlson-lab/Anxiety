{
 "cells": [
  {
   "cell_type": "code",
   "execution_count": 1,
   "id": "ba3ac2ec-d693-4d73-8d82-058ea1e0bd24",
   "metadata": {},
   "outputs": [],
   "source": [
    "DATA_LOCATION = \"/work/mk423/Anxiety/\"\n",
    "UMC_PATH = \"/hpc/home/mk423/Anxiety/Universal-Mouse-Code/\"\n",
    "MODEL_PATH = \"../Models/\"\n",
    "data_file =  \"/work/mk423/Anxiety/New_FLX_Animals_April_12.pkl\"\n",
    "OLD_FLX_TEST_DATA = \"/work/mk423/Anxiety/FLX_test_dict_old_features.pkl\"\n",
    "\n",
    "FEATURE_LIST = ['X_psd','X_coh','X_gc']\n",
    "FEATURE_VECTOR = FEATURE_LIST\n",
    "FEATURE_WEIGHT = [10,1,1]\n",
    "\n",
    "MT_MODEL_PATH = MODEL_PATH + \"Positive_MT_10_res_loss_10_power_features.pt\"\n",
    "PROJECTION_SAVE_PATH = \"/hpc/home/mk423/Anxiety/MultiTaskWork/Projections/holdoutExperiments/\"\n",
    "\n",
    "TRAIN = False\n",
    "PROJ_TEST = True"
   ]
  },
  {
   "cell_type": "code",
   "execution_count": 2,
   "id": "b37d9ffc-53bb-4d38-8762-5948724595af",
   "metadata": {},
   "outputs": [
    {
     "name": "stderr",
     "output_type": "stream",
     "text": [
      "/opt/conda/lib/python3.7/site-packages/tqdm/auto.py:22: TqdmWarning: IProgress not found. Please update jupyter and ipywidgets. See https://ipywidgets.readthedocs.io/en/stable/user_install.html\n",
      "  from .autonotebook import tqdm as notebook_tqdm\n"
     ]
    },
    {
     "name": "stdout",
     "output_type": "stream",
     "text": [
      "Using device: cuda:0\n"
     ]
    },
    {
     "data": {
      "text/plain": [
       "dCSFA_NMF(\n",
       "  (recon_loss_f): MSELoss()\n",
       "  (Encoder): Sequential(\n",
       "    (0): Linear(in_features=5152, out_features=256, bias=True)\n",
       "    (1): BatchNorm1d(256, eps=1e-05, momentum=0.1, affine=True, track_running_stats=True)\n",
       "    (2): LeakyReLU(negative_slope=0.01)\n",
       "    (3): Linear(in_features=256, out_features=20, bias=True)\n",
       "    (4): Softplus(beta=1, threshold=20)\n",
       "  )\n",
       ")"
      ]
     },
     "execution_count": 2,
     "metadata": {},
     "output_type": "execute_result"
    }
   ],
   "source": [
    "import pickle\n",
    "import numpy as np\n",
    "import torch\n",
    "import matplotlib.pyplot as plt\n",
    "import os\n",
    "import sys\n",
    "import sklearn\n",
    "from sklearn.model_selection import train_test_split\n",
    "from sklearn.metrics import roc_auc_score\n",
    "from sklearn.preprocessing import OneHotEncoder\n",
    "import pandas as pd\n",
    "sys.path.append(UMC_PATH)\n",
    "sys.path.append(PROJECTION_SAVE_PATH)\n",
    "#from dCSFA_model import dCSFA_model\n",
    "import umc_data_tools as umc_dt\n",
    "from dCSFA_NMF import dCSFA_NMF\n",
    "\n",
    "if torch.cuda.is_available():\n",
    "    device=\"cuda:0\"\n",
    "else:\n",
    "    device=\"cpu\"\n",
    "\n",
    "\n",
    "print(\"Using device: %s\"%(device))\n",
    "\n",
    "#For Consistency\n",
    "RANDOM_STATE=42\n",
    "\n",
    "import pandas as pd\n",
    "\n",
    "model = torch.load(MT_MODEL_PATH,map_location='cpu')\n",
    "model.device = \"cpu\"\n",
    "model.eval()"
   ]
  },
  {
   "cell_type": "code",
   "execution_count": 20,
   "id": "fe864c4b-9cb6-4d4e-8eae-d1c9215441cb",
   "metadata": {},
   "outputs": [],
   "source": [
    "dataDict = pickle.load(open(data_file,\"rb\"))\n",
    "X = np.hstack([weight*dataDict[feature] for weight,feature in zip(FEATURE_WEIGHT,FEATURE_LIST)])\n",
    "\n",
    "y_time = dataDict['y_time']\n",
    "y_mouse = np.array(dataDict['y_mouse'])\n",
    "y_hab = dataDict['y_hab'].squeeze()\n",
    "y_flx = dataDict['y_flx']\n"
   ]
  },
  {
   "cell_type": "code",
   "execution_count": 21,
   "id": "8e2b6827-8ce2-4fd1-9a9c-37b6f5b55f36",
   "metadata": {},
   "outputs": [],
   "source": [
    "y_pred,s = model.transform(X[y_hab==1],None)[2:]"
   ]
  },
  {
   "cell_type": "code",
   "execution_count": 29,
   "id": "220a4eb9-6e6e-44b6-99b3-4f4d4455d9e0",
   "metadata": {},
   "outputs": [],
   "source": [
    "mw_mean, mw_std = umc_dt.get_mean_std_err_auc(y_pred,y_flx[y_hab==1].squeeze(),y_mouse[y_hab==1].squeeze(),s,True)"
   ]
  },
  {
   "cell_type": "code",
   "execution_count": 33,
   "id": "cba0788c-bb60-4087-96a8-f99314c7a6a5",
   "metadata": {},
   "outputs": [],
   "source": [
    "mw_auc_dict = umc_dt.lpne_auc(y_pred,y_flx[y_hab==1].squeeze(),y_mouse[y_hab==1].squeeze(),s,True)"
   ]
  },
  {
   "cell_type": "code",
   "execution_count": 34,
   "id": "22057fdb-23f1-49a4-8272-9e416d924af9",
   "metadata": {},
   "outputs": [
    {
     "data": {
      "text/plain": [
       "{'auc_method': 'mannWhitneyU',\n",
       " 'Mouse61631': (0.503480192151725, 0.7029941918681643),\n",
       " 'Mouse61635': (0.5042003402428699, 0.6737291617683763),\n",
       " 'Mouse78732': (0.4641826398225716, 0.00015327349972039478),\n",
       " 'Mouse78743': (0.5294389593495935, 0.0014182898036250587),\n",
       " 'Mouse78744': (0.4914713514498542, 0.3490510046646229),\n",
       " 'Mouse78745': (0.4974471343298, 0.7865660727667789),\n",
       " 'Mouse78751': (0.4591173643233777, 6.06113178401539e-06),\n",
       " 'Mouse78752': (0.5272537057187985, 0.0022406914758796768),\n",
       " 'Mouse78764': (0.518653987117703, 0.029707428656953805)}"
      ]
     },
     "execution_count": 34,
     "metadata": {},
     "output_type": "execute_result"
    }
   ],
   "source": [
    "mw_auc_dict"
   ]
  },
  {
   "cell_type": "code",
   "execution_count": 36,
   "id": "b4e7d6fd-5298-498c-b3df-49b82485e222",
   "metadata": {},
   "outputs": [
    {
     "data": {
      "text/plain": [
       "0.49947174161181046"
      ]
     },
     "execution_count": 36,
     "metadata": {},
     "output_type": "execute_result"
    }
   ],
   "source": [
    "mw_mean"
   ]
  },
  {
   "cell_type": "code",
   "execution_count": 37,
   "id": "44fedd66-44be-4b84-bdb5-a59ef3c25f74",
   "metadata": {},
   "outputs": [
    {
     "data": {
      "text/plain": [
       "0.00834845235224681"
      ]
     },
     "execution_count": 37,
     "metadata": {},
     "output_type": "execute_result"
    }
   ],
   "source": [
    "mw_std"
   ]
  },
  {
   "cell_type": "code",
   "execution_count": null,
   "id": "a6aa61ad-20c9-42e9-a430-c02d065778b0",
   "metadata": {},
   "outputs": [],
   "source": []
  }
 ],
 "metadata": {
  "kernelspec": {
   "display_name": "Python 3 (ipykernel)",
   "language": "python",
   "name": "python3"
  },
  "language_info": {
   "codemirror_mode": {
    "name": "ipython",
    "version": 3
   },
   "file_extension": ".py",
   "mimetype": "text/x-python",
   "name": "python",
   "nbconvert_exporter": "python",
   "pygments_lexer": "ipython3",
   "version": "3.7.13"
  }
 },
 "nbformat": 4,
 "nbformat_minor": 5
}

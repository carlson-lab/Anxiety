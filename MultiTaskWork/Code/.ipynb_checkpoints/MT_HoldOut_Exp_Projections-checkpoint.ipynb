{
 "cells": [
  {
   "cell_type": "code",
   "execution_count": 1,
   "metadata": {},
   "outputs": [],
   "source": [
    "import pickle\n",
    "import numpy as np\n",
    "import torch\n",
    "import matplotlib.pyplot as plt\n",
    "import os\n",
    "import sys\n",
    "import sklearn\n",
    "from sklearn.model_selection import train_test_split\n",
    "from sklearn.preprocessing import OneHotEncoder\n",
    "import pandas as pd\n",
    "\n",
    "NETWORK_CONSTRAINT = \"Positive\"\n",
    "MODEL_NAME = \".\\\\{}_{}_10_res_loss_10_power_features.pt\".format(\"Positive\",\"MT\")\n",
    "FEATURE_LIST = ['X_power_1_2','X_coh_1_2','X_gc_1_2']\n",
    "FEATURE_WEIGHT = [10,1,1]\n",
    "UMC_PATH = \"G:\\\\Anx-Analyses-March-7\\\\Final_Analyses\\\\Universal-Mouse-Code\"\n",
    "\n",
    "DATA_FOLDER = \"G:\\\\Anxiety_Datasets\\\\Box_Anx_Data\\\\\"\n",
    "CUS_FILE = \"CUS_data.pkl\"\n",
    "CSDS_FILE = \"csds_epm_data.pkl\"\n",
    "DZP_FILE = \"DZP_data.pkl\"\n",
    "\n",
    "sys.path.append(UMC_PATH)\n",
    "#from dCSFA_model import dCSFA_model\n",
    "import umc_data_tools as umc_dt\n",
    "from dCSFA_NMF import dCSFA_NMF\n",
    "\n",
    "if torch.cuda.is_available():\n",
    "    device=\"cuda:0\"\n",
    "else:\n",
    "    device=\"cpu\"\n",
    "\n",
    "model = torch.load(MODEL_NAME,map_location='cpu')\n",
    "model.device = \"cpu\""
   ]
  },
  {
   "cell_type": "markdown",
   "metadata": {},
   "source": [
    "## CSDS data projections"
   ]
  },
  {
   "cell_type": "code",
   "execution_count": 5,
   "metadata": {},
   "outputs": [
    {
     "name": "stderr",
     "output_type": "stream",
     "text": [
      "C:\\Users\\micha\\AppData\\Local\\Temp/ipykernel_21792/1153682343.py:5: RuntimeWarning: invalid value encountered in remainder\n",
      "  y_roi = csds_data_dict['y_roi']%2==0\n"
     ]
    },
    {
     "name": "stdout",
     "output_type": "stream",
     "text": [
      "Global ROC AUC: 0.4694243227213867\n",
      "CUS ROC Dict {'auc_method': 'sklearn_roc_auc', 'Mouse1381': 0.5085117752585977, 'Mouse1382': nan, 'Mouse1384': 0.41515864398600555, 'Mouse1392': 0.42197206587450486, 'Mouse1393': 0.5097844112769486, 'Mouse1402': 0.4851660939289805, 'Mouse1403': 0.4985433550505853, 'Mouse1404': nan, 'Mouse1405': 0.5442028985507247, 'Mouse1411': 0.5447653429602888, 'Mouse1412': 0.38538467595873693, 'Mouse7181': nan, 'Mouse7182': 0.4817515923566879, 'Mouse7183': 0.5061123363010156, 'Mouse7184': 0.4438492063492063, 'Mouse7185': 0.4904425045153522, 'Mouse7191': 0.42050625711035267, 'Mouse7192': nan, 'Mouse7194': 0.5404040404040403, 'Mouse7195': 0.5002149998208335, 'Mouse7202': 0.4705882352941177, 'Mouse7204': 0.4537037037037037, 'Mouse7221': 0.38266692546583847, 'Mouse7222': 0.4203124502847689}\n",
      "Mouse  Mouse1382  has only one class - AUC cannot be calculated\n",
      "n_positive samples  0\n",
      "n_negative samples  607\n",
      "Mouse  Mouse1404  has only one class - AUC cannot be calculated\n",
      "n_positive samples  0\n",
      "n_negative samples  628\n",
      "Mouse  Mouse7181  has only one class - AUC cannot be calculated\n",
      "n_positive samples  0\n",
      "n_negative samples  618\n",
      "Mouse  Mouse7192  has only one class - AUC cannot be calculated\n",
      "n_positive samples  0\n",
      "n_negative samples  693\n",
      "CUS MW Dict {'auc_method': 'mannWhitneyU', 'Mouse1381': (0.5085117752585977, 0.8018861911483101), 'Mouse1382': (nan, nan), 'Mouse1384': (0.41515864398600555, 0.038578042259057706), 'Mouse1392': (0.4219720658745049, 0.09465760036662291), 'Mouse1393': (0.5097844112769486, 0.7931277880091354), 'Mouse1402': (0.4851660939289805, 0.7051934901021746), 'Mouse1403': (0.4985433550505853, 0.9785501816470411), 'Mouse1404': (nan, nan), 'Mouse1405': (0.5442028985507247, 0.23619681890092858), 'Mouse1411': (0.5447653429602888, 0.4964830791586967), 'Mouse1412': (0.38538467595873693, 0.1058556842807804), 'Mouse7181': (nan, nan), 'Mouse7182': (0.4817515923566879, 0.667557066344784), 'Mouse7183': (0.5061123363010156, 0.8822318924555332), 'Mouse7184': (0.4438492063492063, 0.29779597894487775), 'Mouse7185': (0.4904425045153522, 0.7988348993397576), 'Mouse7191': (0.42050625711035267, 0.18664306300118916), 'Mouse7192': (nan, nan), 'Mouse7194': (0.5404040404040404, 0.38131074327171555), 'Mouse7195': (0.5002149998208335, 0.994470413948247), 'Mouse7202': (0.47058823529411764, 0.42473649362954513), 'Mouse7204': (0.4537037037037037, 0.3497964733241249), 'Mouse7221': (0.3826669254658385, 0.00770542396848813), 'Mouse7222': (0.4203124502847688, 0.054408765287283514)}\n"
     ]
    },
    {
     "name": "stderr",
     "output_type": "stream",
     "text": [
      "c:\\Users\\micha\\Anaconda3\\envs\\dcsfa_anx\\lib\\site-packages\\sklearn\\metrics\\_ranking.py:999: UndefinedMetricWarning: No positive samples in y_true, true positive value should be meaningless\n",
      "  warnings.warn(\n",
      "c:\\Users\\micha\\Anaconda3\\envs\\dcsfa_anx\\lib\\site-packages\\sklearn\\metrics\\_ranking.py:999: UndefinedMetricWarning: No positive samples in y_true, true positive value should be meaningless\n",
      "  warnings.warn(\n",
      "c:\\Users\\micha\\Anaconda3\\envs\\dcsfa_anx\\lib\\site-packages\\sklearn\\metrics\\_ranking.py:999: UndefinedMetricWarning: No positive samples in y_true, true positive value should be meaningless\n",
      "  warnings.warn(\n",
      "c:\\Users\\micha\\Anaconda3\\envs\\dcsfa_anx\\lib\\site-packages\\sklearn\\metrics\\_ranking.py:999: UndefinedMetricWarning: No positive samples in y_true, true positive value should be meaningless\n",
      "  warnings.warn(\n",
      "c:\\Users\\micha\\Anaconda3\\envs\\dcsfa_anx\\lib\\site-packages\\sklearn\\metrics\\_ranking.py:999: UndefinedMetricWarning: No positive samples in y_true, true positive value should be meaningless\n",
      "  warnings.warn(\n",
      "c:\\Users\\micha\\Anaconda3\\envs\\dcsfa_anx\\lib\\site-packages\\sklearn\\metrics\\_ranking.py:999: UndefinedMetricWarning: No positive samples in y_true, true positive value should be meaningless\n",
      "  warnings.warn(\n",
      "c:\\Users\\micha\\Anaconda3\\envs\\dcsfa_anx\\lib\\site-packages\\sklearn\\metrics\\_ranking.py:999: UndefinedMetricWarning: No positive samples in y_true, true positive value should be meaningless\n",
      "  warnings.warn(\n",
      "c:\\Users\\micha\\Anaconda3\\envs\\dcsfa_anx\\lib\\site-packages\\sklearn\\metrics\\_ranking.py:999: UndefinedMetricWarning: No positive samples in y_true, true positive value should be meaningless\n",
      "  warnings.warn(\n"
     ]
    },
    {
     "name": "stdout",
     "output_type": "stream",
     "text": [
      "csds roc auc mean: 0.49 +/- 0.01\n",
      "Mouse  Mouse1382  has only one class - AUC cannot be calculated\n",
      "n_positive samples  0\n",
      "n_negative samples  607\n",
      "Mouse  Mouse1404  has only one class - AUC cannot be calculated\n",
      "n_positive samples  0\n",
      "n_negative samples  628\n",
      "Mouse  Mouse7181  has only one class - AUC cannot be calculated\n",
      "n_positive samples  0\n",
      "n_negative samples  618\n",
      "Mouse  Mouse7192  has only one class - AUC cannot be calculated\n",
      "n_positive samples  0\n",
      "n_negative samples  693\n",
      "csds mw auc mean: 0.47 +/- 0.01\n"
     ]
    }
   ],
   "source": [
    "from sklearn.metrics import roc_auc_score\n",
    "csds_data_dict = pickle.load(open(DATA_FOLDER + CSDS_FILE,'rb'))\n",
    "X = np.hstack([csds_data_dict[feature]*weight for feature,weight in zip(FEATURE_LIST,FEATURE_WEIGHT)])\n",
    "y = csds_data_dict['y']\n",
    "y_roi = csds_data_dict['y_roi']%2==0\n",
    "y_mouse = np.array(csds_data_dict['y_mouse'])\n",
    "\n",
    "nan_mask = np.isnan(y)\n",
    "roi_nan_mask = np.isnan(y_roi)\n",
    "y_pred,s = model.transform(X,None)[2:]\n",
    "\n",
    "global_roc_auc = roc_auc_score(y[nan_mask==0],y_pred[nan_mask==0])\n",
    "\n",
    "print(\"Global ROC AUC: {}\".format(global_roc_auc))\n",
    "\n",
    "\n",
    "roc_auc_dict = umc_dt.lpne_auc(y_pred[roi_nan_mask==0],y_roi[roi_nan_mask==0].squeeze(),y_mouse[roi_nan_mask==0])\n",
    "print(\"CUS ROC Dict\",roc_auc_dict)\n",
    "mw_auc_dict = umc_dt.lpne_auc(y_pred[roi_nan_mask==0],y_roi[roi_nan_mask==0].squeeze(),y_mouse[roi_nan_mask==0],s[roi_nan_mask==0],True)\n",
    "print(\"CUS MW Dict\",mw_auc_dict)\n",
    "\n",
    "y_pred, s = model.predict(X,include_scores=True)\n",
    "roc_mean,roc_std = umc_dt.get_mean_std_err_auc(y_pred[roi_nan_mask==0],y_roi[roi_nan_mask==0].squeeze(),y_mouse[roi_nan_mask==0])\n",
    "print(\"csds roc auc mean: %0.2f +/- %0.2f\"%(roc_mean,roc_std))\n",
    "mw_mean,mw_std = umc_dt.get_mean_std_err_auc(y_pred[roi_nan_mask==0],y_roi[roi_nan_mask==0].squeeze(),y_mouse[roi_nan_mask==0],s[roi_nan_mask==0],True)\n",
    "print(\"csds mw auc mean: %0.2f +/- %0.2f\"%(mw_mean,mw_std))\n",
    "\n",
    "\n",
    "save_dict = {}\n",
    "\n",
    "save_dict['scores'] = s[:,0]\n",
    "save_dict['global SvC auc'] = np.ones(len(y_mouse))*global_roc_auc\n",
    "saveFeatures = ['y_mouse','y_time','y','y_roi','y_vel']\n",
    "\n",
    "for feature in saveFeatures:\n",
    "    save_dict[feature] = csds_data_dict[feature]\n",
    "\n",
    "auc_array = np.ones(len(y_mouse))*np.nan\n",
    "p_val_array = np.ones(len(y_mouse))*np.nan\n",
    "\n",
    "for mouse in mw_auc_dict.keys() - ['auc_method']:\n",
    "    mask = y_mouse==mouse\n",
    "    auc_array[mask==1] = mw_auc_dict[mouse][0]\n",
    "    p_val_array[mask==1]= mw_auc_dict[mouse][1]\n",
    "\n",
    "save_dict['roi auc'] = auc_array\n",
    "save_dict['p_val'] = p_val_array\n",
    "\n",
    "df = pd.DataFrame.from_dict(save_dict)\n",
    "df.to_csv(\"MT_onto_CSDS_Projection.csv\",index=False,header=True)"
   ]
  },
  {
   "cell_type": "code",
   "execution_count": 6,
   "metadata": {},
   "outputs": [
    {
     "data": {
      "text/plain": [
       "array(['Mouse1382', 'Mouse1404', 'Mouse7181', 'Mouse7192'], dtype='<U9')"
      ]
     },
     "execution_count": 6,
     "metadata": {},
     "output_type": "execute_result"
    }
   ],
   "source": [
    "#Mice with no stressed or unstressed label\n",
    "np.unique(np.array(y_mouse)[np.isnan(y)==1])"
   ]
  },
  {
   "cell_type": "code",
   "execution_count": 7,
   "metadata": {},
   "outputs": [
    {
     "data": {
      "text/plain": [
       "array(['Mouse1381', 'Mouse1384', 'Mouse1392', 'Mouse1393', 'Mouse1402',\n",
       "       'Mouse1403', 'Mouse1405', 'Mouse1411', 'Mouse1412', 'Mouse7182',\n",
       "       'Mouse7183', 'Mouse7184', 'Mouse7185', 'Mouse7191', 'Mouse7194',\n",
       "       'Mouse7195', 'Mouse7202', 'Mouse7204', 'Mouse7221', 'Mouse7222'],\n",
       "      dtype='<U9')"
      ]
     },
     "execution_count": 7,
     "metadata": {},
     "output_type": "execute_result"
    }
   ],
   "source": [
    "#Mice with labels\n",
    "np.unique(np.array(y_mouse)[np.isnan(y)==0])"
   ]
  },
  {
   "cell_type": "markdown",
   "metadata": {},
   "source": [
    "## CUS data projections"
   ]
  },
  {
   "cell_type": "code",
   "execution_count": 2,
   "metadata": {},
   "outputs": [
    {
     "name": "stdout",
     "output_type": "stream",
     "text": [
      "Homecage Global AUC: 0.6331244267176435\n",
      "Global AUC: 0.6331944718126311\n",
      "\n",
      "CUS ROC Dict {'auc_method': 'sklearn_roc_auc', 'MouseC5C12': 0.5753855944266743, 'MouseC5C13': 0.6823529411764706, 'MouseC5C20': 0.47925076975709885, 'MouseC5C21': 0.46664827664927544, 'MouseC5C23': 0.5917504825764504, 'MouseC5C24': 0.6454257032846141, 'MouseC5S10': 0.5996829810901001, 'MouseC5S11': 0.5415688575899844, 'MouseC5S12': 0.570508504606662, 'MouseC5S13': 0.636765447480051, 'MouseC5S14': 0.5598523389660457, 'MouseC5S23': 0.597174519695181}\n",
      "\n",
      "CUS MW Dict {'auc_method': 'mannWhitneyU', 'MouseC5C12': (0.5753855944266743, 0.0002624081246879539), 'MouseC5C13': (0.6823529411764706, 3.853884601058983e-17), 'MouseC5C20': (0.47925076975709885, 0.2918252781540559), 'MouseC5C21': (0.46664827664927544, 0.08682730317923862), 'MouseC5C23': (0.5917504825764502, 0.0008772928535697707), 'MouseC5C24': (0.6454257032846141, 3.4331709388164226e-13), 'MouseC5S10': (0.5996829810901001, 9.333865232725485e-07), 'MouseC5S11': (0.5415688575899843, 0.03549939774657425), 'MouseC5S12': (0.5705055516182377, 0.0009828096951898934), 'MouseC5S13': (0.636765447480051, 7.473147357059704e-12), 'MouseC5S14': (0.5598523389660456, 0.0035442876302594294), 'MouseC5S23': (0.5971745196951809, 9.235257571225147e-06)}\n",
      "CUS hc-vs-task roc auc mean: 0.58 +/- 0.02\n",
      "CUS hc-vs-task mw auc mean: 0.58 +/- 0.02\n"
     ]
    }
   ],
   "source": [
    "from sklearn.metrics import roc_auc_score\n",
    "cus_data_dict = pickle.load(open(DATA_FOLDER + CUS_FILE,'rb'))\n",
    "X = np.hstack([cus_data_dict[feature]*weight for feature,weight in zip(FEATURE_LIST,FEATURE_WEIGHT)])\n",
    "y = np.array(cus_data_dict['y'])=='S'\n",
    "y_mouse = cus_data_dict['y_mouse']\n",
    "y_time = cus_data_dict['y_time']\n",
    "y_task = cus_data_dict['y_task']\n",
    "y_Homecage = cus_data_dict['y_Homecage']\n",
    "y_pred,s = model.transform(X,None)[2:]\n",
    "\n",
    "cus_hc_auc = roc_auc_score(y[y_Homecage==1],y_pred[y_Homecage==1])\n",
    "print(\"Homecage Global AUC: {}\".format(cus_hc_auc))\n",
    "\n",
    "cus_auc = roc_auc_score(y,y_pred)\n",
    "print(\"Global AUC: {}\".format(cus_auc))\n",
    "\n",
    "\n",
    "roc_auc_dict = umc_dt.lpne_auc(y_pred,y_task.squeeze(),y_mouse)\n",
    "print(\"\\nCUS ROC Dict\",roc_auc_dict)\n",
    "mw_auc_dict = umc_dt.lpne_auc(y_pred,y_task.squeeze(),y_mouse,s,True)\n",
    "print(\"\\nCUS MW Dict\",mw_auc_dict)\n",
    "\n",
    "roc_mean,roc_std = umc_dt.get_mean_std_err_auc(y_pred,y_task.squeeze(),y_mouse)\n",
    "print(\"CUS hc-vs-task roc auc mean: %0.2f +/- %0.2f\"%(roc_mean,roc_std))\n",
    "mw_mean,mw_std = umc_dt.get_mean_std_err_auc(y_pred,y_task.squeeze(),y_mouse,s,True)\n",
    "print(\"CUS hc-vs-task mw auc mean: %0.2f +/- %0.2f\"%(mw_mean,mw_std))\n",
    "\n",
    "save_dict = {}\n",
    "\n",
    "save_dict['scores'] = s[:,0]\n",
    "save_dict['global SvC auc'] = np.ones(len(y_mouse))*cus_auc\n",
    "save_dict['HC global SvC auc'] = np.ones(len(y_mouse))*cus_auc\n",
    "saveFeatures = ['y_mouse','y_time','y','y_task']\n",
    "\n",
    "for feature in saveFeatures:\n",
    "    save_dict[feature] = cus_data_dict[feature]\n",
    "\n",
    "auc_array = np.ones(len(y_mouse))*np.nan\n",
    "p_val_array = np.ones(len(y_mouse))*np.nan\n",
    "\n",
    "for mouse in mw_auc_dict.keys() - ['auc_method']:\n",
    "    mask = y_mouse==mouse\n",
    "    auc_array[mask==1] = mw_auc_dict[mouse][0]\n",
    "    p_val_array[mask==1]= mw_auc_dict[mouse][1]\n",
    "\n",
    "save_dict['hc vs task auc'] = auc_array\n",
    "save_dict['p_val'] = p_val_array\n",
    "\n",
    "df = pd.DataFrame.from_dict(save_dict)\n",
    "df.to_csv(\"MT_onto_CUS_Projection.csv\",index=False,header=True)"
   ]
  },
  {
   "cell_type": "code",
   "execution_count": 4,
   "metadata": {},
   "outputs": [
    {
     "name": "stdout",
     "output_type": "stream",
     "text": [
      "3409\n",
      "10703\n"
     ]
    }
   ],
   "source": [
    "print(len(y_pred[y_Homecage==1]))\n",
    "print(len(y_pred))"
   ]
  },
  {
   "cell_type": "markdown",
   "metadata": {},
   "source": [
    "### DZP Dataset"
   ]
  },
  {
   "cell_type": "code",
   "execution_count": 9,
   "metadata": {},
   "outputs": [
    {
     "name": "stderr",
     "output_type": "stream",
     "text": [
      "c:\\Users\\micha\\Anaconda3\\envs\\dcsfa_anx\\lib\\site-packages\\sklearn\\metrics\\_ranking.py:990: UndefinedMetricWarning: No negative samples in y_true, false positive value should be meaningless\n",
      "  warnings.warn(\n"
     ]
    },
    {
     "name": "stdout",
     "output_type": "stream",
     "text": [
      "dzp roc auc mean: 0.49 +/- 0.03\n",
      "Mouse  Mouse39114  has only one class - AUC cannot be calculated\n",
      "n_positive samples  3148\n",
      "n_negative samples  0\n",
      "dzp mw auc mean: 0.49 +/- 0.03\n",
      "Mouse  Mouse39114  has only one class - AUC cannot be calculated\n",
      "n_positive samples  3148\n",
      "n_negative samples  0\n"
     ]
    }
   ],
   "source": [
    "from sklearn.metrics import roc_auc_score\n",
    "dzp_data_dict = pickle.load(open(DATA_FOLDER + DZP_FILE,'rb'))\n",
    "X = dzp_data_dict['X']\n",
    "X[:,:448] = X[:,:448]*10\n",
    "y_mouse = dzp_data_dict['y_mouse']\n",
    "y_time = dzp_data_dict['y_time']\n",
    "y_expDate = dzp_data_dict['y_expDate']\n",
    "y_dzp = dzp_data_dict['y_dzp']\n",
    "\n",
    "y_pred,s = model.transform(X,None)[2:]\n",
    "\n",
    "roc_mean,roc_std = umc_dt.get_mean_std_err_auc(y_pred,y_dzp.squeeze(),y_mouse)\n",
    "print(\"dzp roc auc mean: %0.2f +/- %0.2f\"%(roc_mean,roc_std))\n",
    "mw_mean,mw_std = umc_dt.get_mean_std_err_auc(y_pred,y_dzp.squeeze(),y_mouse,s,True)\n",
    "print(\"dzp mw auc mean: %0.2f +/- %0.2f\"%(mw_mean,mw_std))\n",
    "\n",
    "save_dict = {}\n",
    "\n",
    "save_dict['scores'] = s[:,0]\n",
    "saveFeatures = ['y_mouse','y_time','y_expDate','y_dzp']\n",
    "mw_auc_dict = umc_dt.lpne_auc(y_pred,y_dzp.squeeze(),y_mouse,s,True)\n",
    "\n",
    "for feature in saveFeatures:\n",
    "    save_dict[feature] = dzp_data_dict[feature]\n",
    "\n",
    "auc_array = np.ones(len(y_mouse))*np.nan\n",
    "p_val_array = np.ones(len(y_mouse))*np.nan\n",
    "\n",
    "for mouse in mw_auc_dict.keys() - ['auc_method']:\n",
    "    mask = y_mouse==mouse\n",
    "    auc_array[mask==1] = mw_auc_dict[mouse][0]\n",
    "    p_val_array[mask==1]= mw_auc_dict[mouse][1]\n",
    "\n",
    "save_dict['dzp auc'] = auc_array\n",
    "save_dict['p_val'] = p_val_array\n",
    "\n",
    "df = pd.DataFrame.from_dict(save_dict)\n",
    "df.to_csv(\"MT_onto_DZP_Projection.csv\",index=False,header=True)"
   ]
  },
  {
   "cell_type": "code",
   "execution_count": 94,
   "metadata": {},
   "outputs": [
    {
     "data": {
      "text/plain": [
       "[<matplotlib.lines.Line2D at 0x16ddc241c10>]"
      ]
     },
     "execution_count": 94,
     "metadata": {},
     "output_type": "execute_result"
    },
    {
     "data": {
      "image/png": "[encoded data removed]",
      "text/plain": [
       "<Figure size 432x288 with 1 Axes>"
      ]
     },
     "metadata": {
      "needs_background": "light"
     },
     "output_type": "display_data"
    }
   ],
   "source": [
    "plt.plot(X[0,:])"
   ]
  },
  {
   "cell_type": "code",
   "execution_count": null,
   "metadata": {},
   "outputs": [],
   "source": []
  }
 ],
 "metadata": {
  "kernelspec": {
   "display_name": "Python 3.9.7 ('dcsfa_anx')",
   "language": "python",
   "name": "python3"
  },
  "language_info": {
   "codemirror_mode": {
    "name": "ipython",
    "version": 3
   },
   "file_extension": ".py",
   "mimetype": "text/x-python",
   "name": "python",
   "nbconvert_exporter": "python",
   "pygments_lexer": "ipython3",
   "version": "3.9.7"
  },
  "orig_nbformat": 4,
  "vscode": {
   "interpreter": {
    "hash": "ba88c5bd9f8e5d1e33efe8d35671a9e43a902027e61d609e60674deba7de0fb1"
   }
  }
 },
 "nbformat": 4,
 "nbformat_minor": 2
}

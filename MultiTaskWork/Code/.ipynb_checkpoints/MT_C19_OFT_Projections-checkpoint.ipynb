{
 "cells": [
  {
   "cell_type": "code",
   "execution_count": 1,
   "id": "201fd7ab-39f9-4ec3-817f-0e06551dc7f4",
   "metadata": {},
   "outputs": [],
   "source": [
    "DATA_LOCATION = \"/work/mk423/Anxiety/\"\n",
    "UMC_PATH = \"/hpc/home/mk423/Anxiety/Universal-Mouse-Code/\"\n",
    "MODEL_PATH = \"../Models/\"\n",
    "data_file = \"OFT_clock_D19_Data.pkl\"\n",
    "\n",
    "FEATURE_LIST = ['X_psd','X_coh','X_gc']\n",
    "FEATURE_VECTOR = FEATURE_LIST\n",
    "FEATURE_WEIGHT = [10,1,1]\n",
    "\n",
    "MT_MODEL_PATH = MODEL_PATH + \"Positive_MT_10_res_loss_10_power_features.pt\"\n",
    "PROJECTION_SAVE_PATH = \"/hpc/home/mk423/Anxiety/MultiTaskWork/Projections/holdoutExperiments/\"\n",
    "\n",
    "TRAIN = False\n",
    "PROJ_TEST = True"
   ]
  },
  {
   "cell_type": "code",
   "execution_count": 3,
   "id": "138e1a9a-c3a3-4174-b9b9-b42ecd71c3af",
   "metadata": {},
   "outputs": [
    {
     "name": "stderr",
     "output_type": "stream",
     "text": [
      "/opt/conda/lib/python3.7/site-packages/tqdm/auto.py:22: TqdmWarning: IProgress not found. Please update jupyter and ipywidgets. See https://ipywidgets.readthedocs.io/en/stable/user_install.html\n",
      "  from .autonotebook import tqdm as notebook_tqdm\n"
     ]
    },
    {
     "name": "stdout",
     "output_type": "stream",
     "text": [
      "Using device: cuda:0\n"
     ]
    },
    {
     "data": {
      "text/plain": [
       "dCSFA_NMF(\n",
       "  (recon_loss_f): MSELoss()\n",
       "  (Encoder): Sequential(\n",
       "    (0): Linear(in_features=5152, out_features=256, bias=True)\n",
       "    (1): BatchNorm1d(256, eps=1e-05, momentum=0.1, affine=True, track_running_stats=True)\n",
       "    (2): LeakyReLU(negative_slope=0.01)\n",
       "    (3): Linear(in_features=256, out_features=20, bias=True)\n",
       "    (4): Softplus(beta=1, threshold=20)\n",
       "  )\n",
       ")"
      ]
     },
     "execution_count": 3,
     "metadata": {},
     "output_type": "execute_result"
    }
   ],
   "source": [
    "import pickle\n",
    "import numpy as np\n",
    "import torch\n",
    "import matplotlib.pyplot as plt\n",
    "import os\n",
    "import sys\n",
    "import sklearn\n",
    "from sklearn.model_selection import train_test_split\n",
    "from sklearn.metrics import roc_auc_score\n",
    "from sklearn.preprocessing import OneHotEncoder\n",
    "import pandas as pd\n",
    "sys.path.append(UMC_PATH)\n",
    "sys.path.append(PROJECTION_SAVE_PATH)\n",
    "#from dCSFA_model import dCSFA_model\n",
    "import umc_data_tools as umc_dt\n",
    "from dCSFA_NMF import dCSFA_NMF\n",
    "\n",
    "if torch.cuda.is_available():\n",
    "    device=\"cuda:0\"\n",
    "else:\n",
    "    device=\"cpu\"\n",
    "\n",
    "\n",
    "print(\"Using device: %s\"%(device))\n",
    "\n",
    "#For Consistency\n",
    "RANDOM_STATE=42\n",
    "\n",
    "import pandas as pd\n",
    "\n",
    "model = torch.load(MT_MODEL_PATH,map_location='cpu')\n",
    "model.device = \"cpu\"\n",
    "model.eval()"
   ]
  },
  {
   "cell_type": "code",
   "execution_count": 4,
   "id": "d0f199ef-fa5c-4635-8397-f1eeb5e573e3",
   "metadata": {},
   "outputs": [],
   "source": [
    "dataDict = pickle.load(open(DATA_LOCATION + data_file,\"rb\"))\n",
    "\n",
    "X = np.hstack([weight*dataDict[feature] for weight,feature in zip(FEATURE_WEIGHT,FEATURE_LIST)])\n",
    "y_time = dataDict['y_time']\n",
    "y_mouse = np.array(dataDict['y_mouse'])\n",
    "y_condition = np.array(dataDict['y_condition'])\n",
    "y_task = dataDict['y_task']\n",
    "y_expDate = dataDict['y_expDate']\n",
    "y_sex = np.array(dataDict['y_sex'])\n",
    "\n",
    "y_pred,s = model.transform(X,None)[2:]\n",
    "\n",
    "#Get per mouse average scores, average scores in HC and average scores in EPM\n",
    "mouse_list = []\n",
    "avg_score_list = []\n",
    "avg_hc_score_list = []\n",
    "avg_task_score_list = []\n",
    "condition_list = []\n",
    "for mouse in np.unique(y_mouse):\n",
    "    mouse_mask = y_mouse==mouse\n",
    "    hc_mouse_mask = np.logical_and(mouse_mask,y_task==0)\n",
    "    task_mouse_mask = np.logical_and(mouse_mask,y_task==1)\n",
    "    avg_score = np.mean(s[mouse_mask==1,0])\n",
    "    avg_score_hc = np.mean(s[hc_mouse_mask==1,0])\n",
    "    avg_score_task = np.mean(s[task_mouse_mask==1,0])\n",
    "    \n",
    "    mouse_list.append(mouse)\n",
    "    avg_score_list.append(avg_score)\n",
    "    avg_hc_score_list.append(avg_score_hc)\n",
    "    avg_task_score_list.append(avg_score_task)\n",
    "    condition_list.append(np.unique(y_condition[y_mouse==mouse])[0])\n",
    "    \n",
    "proj_dict = {\n",
    "    \"mouse\":mouse_list,\n",
    "    \"condition\":condition_list,\n",
    "    \"avgScore\":avg_score_list,\n",
    "    \"avgHCScore\":avg_hc_score_list,\n",
    "    \"avgTaskScore\":avg_task_score_list\n",
    "}\n",
    "df_projections = pd.DataFrame.from_dict(proj_dict)\n",
    "\n",
    "df_projections.to_csv(PROJECTION_SAVE_PATH + \"OFT_clock_D19_mean_scores.csv\")"
   ]
  },
  {
   "cell_type": "code",
   "execution_count": 5,
   "id": "28a07834-879b-439c-aee0-219ae229999b",
   "metadata": {},
   "outputs": [
    {
     "name": "stdout",
     "output_type": "stream",
     "text": [
      "by mouse hc vs task auc: 0.516 +/- 0.0153\n",
      "by wildtype mouse hc vs task auc: 0.514 +/- 0.0275\n",
      "by clock-19 mouse hc vs task auc: 0.519 +/- 0.0183\n",
      "by Female mouse hc vs task auc: 0.493 +/- 0.0157\n",
      "by Male mouse hc vs task auc: 0.556 +/- 0.011\n"
     ]
    }
   ],
   "source": [
    "wild_type_mask = (np.array(y_condition)==\"WT\").astype(float)\n",
    "sex_mask = y_sex==\"M\"\n",
    "task_mask = y_task\n",
    "\n",
    "\n",
    "mw_auc_dict = umc_dt.lpne_auc(y_pred,y_task.squeeze(),y_mouse,s,True)\n",
    "mw_mean, mw_std = umc_dt.get_mean_std_err_auc(y_pred,y_task.squeeze(),y_mouse,s,True)\n",
    "print(\"by mouse hc vs task auc: {:.3} +/- {:.3}\".format(mw_mean,mw_std))\n",
    "\n",
    "mw_auc_dict = umc_dt.lpne_auc(y_pred[wild_type_mask==1],y_task[wild_type_mask==1].squeeze(),y_mouse[wild_type_mask==1],s[wild_type_mask==1],True)\n",
    "mw_mean, mw_std = umc_dt.get_mean_std_err_auc(y_pred[wild_type_mask==1],y_task[wild_type_mask==1].squeeze(),y_mouse[wild_type_mask==1],s[wild_type_mask==1],True)\n",
    "print(\"by wildtype mouse hc vs task auc: {:.3} +/- {:.3}\".format(mw_mean,mw_std))\n",
    "\n",
    "mw_auc_dict = umc_dt.lpne_auc(y_pred[wild_type_mask==0],y_task[wild_type_mask==0].squeeze(),y_mouse[wild_type_mask==0],s[wild_type_mask==0],True)\n",
    "mw_mean, mw_std = umc_dt.get_mean_std_err_auc(y_pred[wild_type_mask==0],y_task[wild_type_mask==0].squeeze(),y_mouse[wild_type_mask==0],s[wild_type_mask==0],True)\n",
    "print(\"by clock-19 mouse hc vs task auc: {:.3} +/- {:.3}\".format(mw_mean,mw_std))\n",
    "\n",
    "mw_auc_dict = umc_dt.lpne_auc(y_pred[sex_mask==0],y_task[sex_mask==0].squeeze(),y_mouse[sex_mask==0],s[sex_mask==0],True)\n",
    "mw_mean, mw_std = umc_dt.get_mean_std_err_auc(y_pred[sex_mask==0],y_task[sex_mask==0].squeeze(),y_mouse[sex_mask==0],s[sex_mask==0],True)\n",
    "print(\"by Female mouse hc vs task auc: {:.3} +/- {:.3}\".format(mw_mean,mw_std))\n",
    "\n",
    "mw_auc_dict = umc_dt.lpne_auc(y_pred[sex_mask==1],y_task[sex_mask==1].squeeze(),y_mouse[sex_mask==1],s[sex_mask==1],True)\n",
    "mw_mean, mw_std = umc_dt.get_mean_std_err_auc(y_pred[sex_mask==1],y_task[sex_mask==1].squeeze(),y_mouse[sex_mask==1],s[sex_mask==1],True)\n",
    "print(\"by Male mouse hc vs task auc: {:.3} +/- {:.3}\".format(mw_mean,mw_std))"
   ]
  },
  {
   "cell_type": "code",
   "execution_count": 7,
   "id": "58ebe04b-0097-45c6-a2dd-22d1192f8ebf",
   "metadata": {},
   "outputs": [
    {
     "name": "stdout",
     "output_type": "stream",
     "text": [
      "by mouse hc vs task auc: 0.516 +/- 0.0153\n"
     ]
    }
   ],
   "source": [
    "mw_auc_dict = umc_dt.lpne_auc(y_pred,y_task.squeeze(),y_mouse,s,True)\n",
    "mw_mean, mw_std = umc_dt.get_mean_std_err_auc(y_pred,y_task.squeeze(),y_mouse,s,True)\n",
    "print(\"by mouse hc vs task auc: {:.3} +/- {:.3}\".format(mw_mean,mw_std))\n",
    "\n",
    "auc_list = []\n",
    "p_val_list = []\n",
    "\n",
    "for mouse in y_mouse:\n",
    "    auc_list.append(mw_auc_dict[mouse][0])\n",
    "    p_val_list.append(mw_auc_dict[mouse][1])\n",
    "\n",
    "saveDict = {\n",
    "    \"mouse\":y_mouse,\n",
    "    \"sex\":y_sex,\n",
    "    \"condition\":y_condition,\n",
    "    \"in-task\":y_task,\n",
    "    \"time\":y_time,\n",
    "    \"expDate\":y_expDate,\n",
    "    \"scores\":s[:,0],\n",
    "    \"hc vs task auc\": auc_list,\n",
    "    \"hc vs task pval\": p_val_list,\n",
    "    \n",
    "}\n",
    "\n",
    "df = pd.DataFrame.from_dict(saveDict)\n",
    "df.to_csv(PROJECTION_SAVE_PATH + \"MT_onto_CLK-19_OFT.csv\")"
   ]
  },
  {
   "cell_type": "code",
   "execution_count": null,
   "id": "6e9a385f-a200-4618-a268-daebf4eab03a",
   "metadata": {},
   "outputs": [],
   "source": []
  }
 ],
 "metadata": {
  "kernelspec": {
   "display_name": "Python 3 (ipykernel)",
   "language": "python",
   "name": "python3"
  },
  "language_info": {
   "codemirror_mode": {
    "name": "ipython",
    "version": 3
   },
   "file_extension": ".py",
   "mimetype": "text/x-python",
   "name": "python",
   "nbconvert_exporter": "python",
   "pygments_lexer": "ipython3",
   "version": "3.7.13"
  }
 },
 "nbformat": 4,
 "nbformat_minor": 5
}

{
 "cells": [
  {
   "cell_type": "code",
   "execution_count": 2,
   "id": "ea0290a2-8761-4157-8e2b-363c4f12ade4",
   "metadata": {},
   "outputs": [
    {
     "name": "stdout",
     "output_type": "stream",
     "text": [
      "Using device: cuda:0\n"
     ]
    }
   ],
   "source": [
    "import pickle\n",
    "import numpy as np\n",
    "import torch\n",
    "import matplotlib.pyplot as plt\n",
    "import os\n",
    "import sys\n",
    "import sklearn\n",
    "from sklearn.model_selection import train_test_split\n",
    "from sklearn.preprocessing import OneHotEncoder\n",
    "import pandas as pd\n",
    "\n",
    "FEATURE_LIST = ['X_power_1_2','X_coh_1_2','X_gc_1_2']\n",
    "FEATURE_VECTOR = FEATURE_LIST\n",
    "\n",
    "UMC_PATH = \"/hpc/home/mk423/Anxiety/Universal-Mouse-Code/\"\n",
    "DATA_PATH = \"/work/mk423/Anxiety/Anxiety_Network_Generation_Data.pkl\"\n",
    "\n",
    "sys.path.append(UMC_PATH)\n",
    "sys.path.append(DATA_PATH)\n",
    "\n",
    "#from dCSFA_model import dCSFA_model\n",
    "import umc_data_tools as umc_dt\n",
    "from dCSFA_NMF import dCSFA_NMF\n",
    "\n",
    "if torch.cuda.is_available():\n",
    "    device=\"cuda:0\"\n",
    "else:\n",
    "    device=\"cpu\"\n",
    "\n",
    "\n",
    "print(\"Using device: %s\"%(device))\n",
    "\n",
    "#For Consistency\n",
    "RANDOM_STATE=42"
   ]
  },
  {
   "cell_type": "code",
   "execution_count": null,
   "id": "85d401e4-6c1a-4562-ab46-2922fed97ebc",
   "metadata": {},
   "outputs": [],
   "source": []
  }
 ],
 "metadata": {
  "kernelspec": {
   "display_name": "Python 3 (ipykernel)",
   "language": "python",
   "name": "python3"
  },
  "language_info": {
   "codemirror_mode": {
    "name": "ipython",
    "version": 3
   },
   "file_extension": ".py",
   "mimetype": "text/x-python",
   "name": "python",
   "nbconvert_exporter": "python",
   "pygments_lexer": "ipython3",
   "version": "3.7.13"
  }
 },
 "nbformat": 4,
 "nbformat_minor": 5
}

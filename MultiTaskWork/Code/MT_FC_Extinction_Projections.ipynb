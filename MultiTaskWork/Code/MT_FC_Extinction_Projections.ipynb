{
 "cells": [
  {
   "cell_type": "code",
   "execution_count": 1,
   "id": "6a06ed1e-99c1-4954-b70b-be42356a33d1",
   "metadata": {},
   "outputs": [],
   "source": [
    "DATA_LOCATION = \"/work/mk423/Anxiety/\"\n",
    "UMC_PATH = \"/hpc/home/mk423/Anxiety/Universal-Mouse-Code/\"\n",
    "MODEL_PATH = \"../Models/\"\n",
    "controls_data_file = \"FC_Extinction_Controls.pkl\"\n",
    "conditioned_data_file = \"FC_Extinction_Conditioned.pkl\"\n",
    "\n",
    "FEATURE_LIST = ['X_psd','X_coh','X_gc']\n",
    "FEATURE_VECTOR = FEATURE_LIST\n",
    "FEATURE_WEIGHT = [10,1,1]\n",
    "\n",
    "MT_MODEL_PATH = MODEL_PATH + \"Positive_MT_10_res_loss_10_power_features.pt\"\n",
    "PROJECTION_SAVE_PATH = \"/hpc/home/mk423/Anxiety/MultiTaskWork/Projections/holdoutExperiments/\"\n",
    "\n",
    "TRAIN = False\n",
    "PROJ_TEST = True"
   ]
  },
  {
   "cell_type": "code",
   "execution_count": 3,
   "id": "68656b9c-2312-4947-810a-d425ced0bc98",
   "metadata": {},
   "outputs": [
    {
     "name": "stdout",
     "output_type": "stream",
     "text": [
      "Using device: cuda:0\n"
     ]
    },
    {
     "data": {
      "text/plain": [
       "Sequential(\n",
       "  (0): Linear(in_features=5152, out_features=256, bias=True)\n",
       "  (1): BatchNorm1d(256, eps=1e-05, momentum=0.1, affine=True, track_running_stats=True)\n",
       "  (2): LeakyReLU(negative_slope=0.01)\n",
       "  (3): Linear(in_features=256, out_features=20, bias=True)\n",
       "  (4): Softplus(beta=1, threshold=20)\n",
       ")"
      ]
     },
     "execution_count": 3,
     "metadata": {},
     "output_type": "execute_result"
    }
   ],
   "source": [
    "import pickle\n",
    "import numpy as np\n",
    "import torch\n",
    "import matplotlib.pyplot as plt\n",
    "import os\n",
    "import sys\n",
    "import sklearn\n",
    "from sklearn.model_selection import train_test_split\n",
    "from sklearn.metrics import roc_auc_score\n",
    "from sklearn.preprocessing import OneHotEncoder\n",
    "import pandas as pd\n",
    "sys.path.append(UMC_PATH)\n",
    "sys.path.append(PROJECTION_SAVE_PATH)\n",
    "#from dCSFA_model import dCSFA_model\n",
    "import umc_data_tools as umc_dt\n",
    "from dCSFA_NMF import dCSFA_NMF\n",
    "\n",
    "if torch.cuda.is_available():\n",
    "    device=\"cuda:0\"\n",
    "else:\n",
    "    device=\"cpu\"\n",
    "\n",
    "\n",
    "print(\"Using device: %s\"%(device))\n",
    "\n",
    "#For Consistency\n",
    "RANDOM_STATE=42\n",
    "\n",
    "import pandas as pd\n",
    "\n",
    "model = torch.load(MT_MODEL_PATH,map_location='cpu')\n",
    "model.device = \"cpu\"\n",
    "model.Encoder.eval()"
   ]
  },
  {
   "cell_type": "code",
   "execution_count": 4,
   "id": "7e6f1242-d211-45fb-b16d-063d17b066a9",
   "metadata": {},
   "outputs": [],
   "source": [
    "with open(DATA_LOCATION+controls_data_file,\"rb\") as f:\n",
    "    controls_dict = pickle.load(f)\n",
    "    \n",
    "with open(DATA_LOCATION+conditioned_data_file,\"rb\") as f:\n",
    "    conditioned_dict = pickle.load(f)"
   ]
  },
  {
   "cell_type": "code",
   "execution_count": 5,
   "id": "12df8f7f-6bd9-40dc-9aef-268fdcfb9794",
   "metadata": {},
   "outputs": [
    {
     "data": {
      "text/plain": [
       "dict_keys(['X_psd', 'X_coh', 'X_gc', 'y_time', 'y_mouse', 'y_expDate', 'y_tone', 'y_freeze_w_tone', 'labels', 'feature version'])"
      ]
     },
     "execution_count": 5,
     "metadata": {},
     "output_type": "execute_result"
    }
   ],
   "source": [
    "controls_dict.keys()"
   ]
  },
  {
   "cell_type": "code",
   "execution_count": 10,
   "id": "990baa80-bc90-40b8-987d-99e7716d1761",
   "metadata": {},
   "outputs": [],
   "source": [
    "X_controls = np.hstack([weight*controls_dict[feature] for weight,feature in zip(FEATURE_WEIGHT,FEATURE_LIST)])\n",
    "X_cond = np.hstack([weight*conditioned_dict[feature] for weight,feature in zip(FEATURE_WEIGHT,FEATURE_LIST)])\n",
    "X = np.vstack([X_controls,X_cond])\n",
    "y_time = np.hstack([controls_dict['y_time'],conditioned_dict['y_time']])\n",
    "y_mouse = np.hstack([controls_dict['y_mouse'],conditioned_dict['y_mouse']])\n",
    "y_expDate = np.hstack([controls_dict['y_expDate'],conditioned_dict['y_expDate']])\n",
    "y_tone = np.hstack([controls_dict['y_tone'],conditioned_dict['y_tone']])\n",
    "y_freeze_w_tone = np.hstack([controls_dict['y_freeze_w_tone'],conditioned_dict['y_freeze_w_tone']])\n",
    "y_conditioned = np.hstack([np.zeros(controls_dict['y_time'].shape),np.ones(conditioned_dict['y_time'].shape)])"
   ]
  },
  {
   "cell_type": "code",
   "execution_count": 17,
   "id": "257e3a89-3d72-4d43-9abb-0fab3fc010fe",
   "metadata": {},
   "outputs": [],
   "source": [
    "y_pred,s = model.transform(X,None)[2:]\n",
    "\n",
    "#Get per mouse average scores, average scores in HC and average scores in EPM\n",
    "mouse_list = []\n",
    "conditioned_list = []\n",
    "avg_score_list = []\n",
    "avg_tone_score_list = []\n",
    "avg_no_tone_score_list = []\n",
    "avg_freeze_w_tone_score_list = []\n",
    "condition_list = []\n",
    "for mouse in np.unique(y_mouse):\n",
    "    if mouse in controls_dict['y_mouse']:\n",
    "        conditioned_list.append(0)\n",
    "    else:\n",
    "        conditioned_list.append(1)\n",
    "        \n",
    "    mouse_mask = y_mouse==mouse\n",
    "    tone_mouse_mask = np.logical_and(mouse_mask,y_tone.squeeze()==1)\n",
    "    no_tone_mouse_mask = np.logical_and(mouse_mask,y_tone.squeeze()==0)\n",
    "    freeze_w_tone_mouse_mask = np.logical_and(mouse_mask,y_freeze_w_tone.squeeze()==1)\n",
    "    \n",
    "    avg_score = np.mean(s[mouse_mask==1,0])\n",
    "    avg_tone_score = np.mean(s[tone_mouse_mask==1,0])\n",
    "    avg_no_tone_score = np.mean(s[no_tone_mouse_mask==1,0])\n",
    "    avg_freeze_w_tone_score = np.mean(s[freeze_w_tone_mouse_mask==1,0])\n",
    "    \n",
    "    mouse_list.append(mouse)\n",
    "    avg_score_list.append(avg_score)\n",
    "    avg_tone_score_list.append(avg_tone_score)\n",
    "    avg_no_tone_score_list.append(avg_no_tone_score)\n",
    "    avg_freeze_w_tone_score_list.append(avg_freeze_w_tone_score)\n",
    "    \n",
    "proj_dict = {\n",
    "    \"mouse\":mouse_list,\n",
    "    \"conditioned\":conditioned_list,\n",
    "    \"Average Score\":avg_score_list,\n",
    "    \"Average Tone Score\":avg_tone_score_list,\n",
    "    \"Average No Tone Score\":avg_no_tone_score_list,\n",
    "    \"Average Freeze With Tone Score\":avg_freeze_w_tone_score_list,\n",
    "}\n",
    "\n",
    "df_projections = pd.DataFrame.from_dict(proj_dict)\n",
    "\n",
    "df_projections.to_csv(PROJECTION_SAVE_PATH + \"FC_extinction_mean_scores.csv\")"
   ]
  },
  {
   "cell_type": "code",
   "execution_count": 20,
   "id": "a7ca70ec-97d2-4e07-9e36-817af1194ff2",
   "metadata": {},
   "outputs": [
    {
     "name": "stdout",
     "output_type": "stream",
     "text": [
      "Mouse  Mouse9071  has only one class - AUC cannot be calculated\n",
      "n_positive samples  0\n",
      "n_negative samples  860\n",
      "Mouse  Mouse9072  has only one class - AUC cannot be calculated\n",
      "n_positive samples  0\n",
      "n_negative samples  968\n",
      "Mouse  Mouse9071  has only one class - AUC cannot be calculated\n",
      "n_positive samples  0\n",
      "n_negative samples  860\n",
      "Mouse  Mouse9072  has only one class - AUC cannot be calculated\n",
      "n_positive samples  0\n",
      "n_negative samples  968\n",
      "by freezing with tone auc: 0.504 +/- 0.00694\n",
      "by tone only auc: 0.499 +/- 0.00687\n"
     ]
    }
   ],
   "source": [
    "mw_auc_dict = umc_dt.lpne_auc(y_pred,y_freeze_w_tone.squeeze(),y_mouse,s,True)\n",
    "mw_mean, mw_std = umc_dt.get_mean_std_err_auc(y_pred,y_freeze_w_tone.squeeze(),y_mouse,s,True)\n",
    "print(\"by freezing with tone auc: {:.3} +/- {:.3}\".format(mw_mean,mw_std))\n",
    "\n",
    "mw_auc_dict = umc_dt.lpne_auc(y_pred,y_tone.squeeze(),y_mouse,s,True)\n",
    "mw_mean, mw_std = umc_dt.get_mean_std_err_auc(y_pred,y_tone.squeeze(),y_mouse,s,True)\n",
    "print(\"by tone only auc: {:.3} +/- {:.3}\".format(mw_mean,mw_std))"
   ]
  },
  {
   "cell_type": "code",
   "execution_count": 21,
   "id": "c5bfc993-d093-4311-b9ae-81839e521045",
   "metadata": {},
   "outputs": [
    {
     "name": "stdout",
     "output_type": "stream",
     "text": [
      "Mouse  Mouse9071  has only one class - AUC cannot be calculated\n",
      "n_positive samples  0\n",
      "n_negative samples  860\n",
      "Mouse  Mouse9072  has only one class - AUC cannot be calculated\n",
      "n_positive samples  0\n",
      "n_negative samples  968\n",
      "Mouse  Mouse9071  has only one class - AUC cannot be calculated\n",
      "n_positive samples  0\n",
      "n_negative samples  860\n",
      "Mouse  Mouse9072  has only one class - AUC cannot be calculated\n",
      "n_positive samples  0\n",
      "n_negative samples  968\n",
      "by freezing with tone auc: 0.504 +/- 0.00694\n"
     ]
    }
   ],
   "source": [
    "mw_auc_dict = umc_dt.lpne_auc(y_pred,y_freeze_w_tone.squeeze(),y_mouse,s,True)\n",
    "mw_mean, mw_std = umc_dt.get_mean_std_err_auc(y_pred,y_freeze_w_tone.squeeze(),y_mouse,s,True)\n",
    "print(\"by freezing with tone auc: {:.3} +/- {:.3}\".format(mw_mean,mw_std))\n",
    "\n",
    "auc_list = []\n",
    "p_val_list = []\n",
    "\n",
    "for mouse in y_mouse:\n",
    "    auc_list.append(mw_auc_dict[mouse][0])\n",
    "    p_val_list.append(mw_auc_dict[mouse][1])\n",
    "\n",
    "saveDict = {\n",
    "    \"mouse\":y_mouse.squeeze(),\n",
    "    \"conditioned\":y_conditioned,\n",
    "    \"freeze with tone\":y_freeze_w_tone.squeeze(),\n",
    "    \"tone only\":y_tone.squeeze(),\n",
    "    \"time\":y_time.squeeze(),\n",
    "    \"expDate\":y_expDate.squeeze(),\n",
    "    \"scores\":s[:,0],\n",
    "    \"freeze with tone auc\": auc_list,\n",
    "    \"freeze with tone pval\": p_val_list,\n",
    "    \n",
    "}\n",
    "\n",
    "df = pd.DataFrame.from_dict(saveDict)\n",
    "df.to_csv(PROJECTION_SAVE_PATH + \"MT_onto_FC_Extinction.csv\")"
   ]
  },
  {
   "cell_type": "code",
   "execution_count": null,
   "id": "fc5a9e6d-94c9-4067-9d2e-334709610d7c",
   "metadata": {},
   "outputs": [],
   "source": []
  }
 ],
 "metadata": {
  "kernelspec": {
   "display_name": "Python 3 (ipykernel)",
   "language": "python",
   "name": "python3"
  },
  "language_info": {
   "codemirror_mode": {
    "name": "ipython",
    "version": 3
   },
   "file_extension": ".py",
   "mimetype": "text/x-python",
   "name": "python",
   "nbconvert_exporter": "python",
   "pygments_lexer": "ipython3",
   "version": "3.7.13"
  }
 },
 "nbformat": 4,
 "nbformat_minor": 5
}

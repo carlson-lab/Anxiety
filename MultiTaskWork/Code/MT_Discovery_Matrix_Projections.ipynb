{
 "cells": [
  {
   "cell_type": "code",
   "execution_count": 4,
   "metadata": {},
   "outputs": [
    {
     "name": "stdout",
     "output_type": "stream",
     "text": [
      "Using device: cuda:0\n"
     ]
    }
   ],
   "source": [
    "import pickle\n",
    "import numpy as np\n",
    "import torch\n",
    "import matplotlib.pyplot as plt\n",
    "import os\n",
    "import sys\n",
    "import sklearn\n",
    "from sklearn.model_selection import train_test_split\n",
    "from sklearn.preprocessing import OneHotEncoder\n",
    "import pandas as pd\n",
    "NETWORK_CONSTRAINT = \"Positive\"\n",
    "MODEL_NAME = \".\\\\{}_{}_10_res_loss_10_power_features.pt\".format(\"Positive\",\"MT\")\n",
    "\n",
    "FLX_TRAIN_FILE = \".\\\\FLX_model\\\\FLX_train_dict_old_features.pkl\"\n",
    "FLX_VAL_FILE = \".\\\\FLX_model\\\\FLX_validation_dict_old_features.pkl\"\n",
    "FLX_TEST_FILE = \".\\\\FLX_model\\\\FLX_test_dict_old_features.pkl\"\n",
    "\n",
    "EPM_TRAIN_FILE = \".\\\\EPM_model\\\\EPM_train_dict_May_17.pkl\"\n",
    "EPM_VAL_FILE = \".\\\\EPM_model\\\\EPM_val_dict_May_17.pkl\"\n",
    "EPM_TEST_FILE = \".\\\\EPM_model\\\\EPM_test_dict_May_17.pkl\"\n",
    "\n",
    "OFT_TRAIN_FILE = \".\\\\OFT_model\\\\OFT_train_dict_old_features_hand_picked.pkl\"\n",
    "OFT_VAL_FILE = \".\\\\OFT_model\\\\OFT_validation_dict_old_features_hand_picked.pkl\"\n",
    "OFT_TEST_FILE = \".\\\\OFT_model\\\\OFT_test_dict_old_features_hand_picked.pkl\"\n",
    "\n",
    "OFT_PROJECTION_FILE = \"G:\\\\Anxiety_Datasets\\\\new_OFT\\\\oft_flx_projection_data.pkl\"\n",
    "FEATURE_LIST = ['X_power_1_2','X_coh_1_2','X_gc_1_2']\n",
    "FEATURE_VECTOR = FEATURE_LIST\n",
    "FEATURE_WEIGHT = [10,1,1]\n",
    "\n",
    "UMC_PATH = \".\\\\Universal-Mouse-Code\\\\\"\n",
    "\n",
    "sys.path.append(UMC_PATH)\n",
    "#from dCSFA_model import dCSFA_model\n",
    "import umc_data_tools as umc_dt\n",
    "from dCSFA_NMF import dCSFA_NMF\n",
    "\n",
    "if torch.cuda.is_available():\n",
    "    device=\"cuda:0\"\n",
    "else:\n",
    "    device=\"cpu\"\n",
    "\n",
    "\n",
    "print(\"Using device: %s\"%(device))\n",
    "\n",
    "#For Consistency\n",
    "RANDOM_STATE=42\n",
    "\n",
    "import pandas as pd\n",
    "\n",
    "model = torch.load(MODEL_NAME,map_location='cpu')\n",
    "model.device = \"cpu\""
   ]
  },
  {
   "cell_type": "code",
   "execution_count": 2,
   "metadata": {},
   "outputs": [],
   "source": [
    "with open(OFT_TRAIN_FILE,'rb') as f:\n",
    "    train_dict = pickle.load(f)\n",
    "\n",
    "with open(OFT_VAL_FILE,'rb') as f:\n",
    "    val_dict = pickle.load(f)\n",
    "\n",
    "with open(OFT_TEST_FILE,'rb') as f:\n",
    "    test_dict = pickle.load(f)\n",
    "    \n",
    "running_idx = 0\n",
    "feature_groups = []\n",
    "for idx,feature in enumerate(FEATURE_LIST):\n",
    "    f_begin = running_idx\n",
    "    f_end = f_begin + train_dict[feature].shape[1] \n",
    "    if idx == 0:\n",
    "        f_end = f_end -1\n",
    "    feature_groups.append((f_begin,f_end))\n",
    "\n",
    "    running_idx = f_end\n",
    "\n",
    "NUM_FREQS = 56\n",
    "NUM_FEATURES = np.hstack([train_dict[feature] for feature in FEATURE_LIST]).shape[1] // NUM_FREQS\n",
    "scale_vector = np.array([np.arange(1,NUM_FREQS+1) for feature in range(NUM_FEATURES)]).flatten()\n",
    "\n",
    "#Train Arrays\n",
    "oft_X_train = np.hstack([train_dict[feature]*weight for feature,weight in zip(FEATURE_LIST,FEATURE_WEIGHT)])#*scale_vector\n",
    "#oft_X_train[np.isnan(oft_X_train)] = 0\n",
    "#oft_X_train[oft_X_train<0] = 0\n",
    "oft_y_hc_train = train_dict['y_Homecage'].astype(bool)\n",
    "oft_y_task_train = ~oft_y_hc_train\n",
    "oft_y_ROI_train = train_dict['y_ROI']\n",
    "oft_y_vel_train = train_dict['y_vel']\n",
    "oft_y_mouse_train = train_dict['y_mouse']\n",
    "oft_y_time_train = train_dict['y_time']\n",
    "\n",
    "#Validation Arrays\n",
    "oft_X_val = np.hstack([val_dict[feature]*weight for feature,weight in zip(FEATURE_LIST,FEATURE_WEIGHT)])#*scale_vector\n",
    "oft_y_hc_val = val_dict['y_Homecage'].astype(bool)\n",
    "oft_y_task_val = ~oft_y_hc_val\n",
    "oft_y_ROI_val = val_dict['y_ROI']\n",
    "oft_y_vel_val = val_dict['y_vel']\n",
    "oft_y_mouse_val = val_dict['y_mouse']\n",
    "oft_y_time_val = val_dict['y_time']\n",
    "\n",
    "oft_X_test = np.hstack([test_dict[feature]*weight for feature,weight in zip(FEATURE_LIST,FEATURE_WEIGHT)])\n",
    "oft_y_hc_test = test_dict['y_Homecage'].astype(bool)\n",
    "oft_y_task_test = ~oft_y_hc_test\n",
    "oft_y_ROI_test = test_dict['y_ROI']\n",
    "oft_y_vel_test = test_dict['y_vel']\n",
    "oft_y_mouse_test = test_dict['y_mouse']\n",
    "oft_y_time_test = test_dict['y_time']\n",
    "\n",
    "oft_X = np.vstack([oft_X_train,oft_X_val])\n",
    "oft_y_task = np.hstack([oft_y_task_train,oft_y_task_val])\n",
    "oft_y_mouse = np.hstack([oft_y_mouse_train,oft_y_mouse_val])\n",
    "\n",
    "with open(FLX_TRAIN_FILE,\"rb\") as f:\n",
    "    flx_train_dict = pickle.load(f)\n",
    "\n",
    "with open(FLX_VAL_FILE,\"rb\") as f:\n",
    "    flx_validation_dict = pickle.load(f)\n",
    "\n",
    "with open(FLX_TEST_FILE,\"rb\") as f:\n",
    "    flx_test_dict = pickle.load(f)\n",
    "\n",
    "flx_X_train = np.hstack([flx_train_dict[feature]*weight for feature,weight in zip(FEATURE_LIST,FEATURE_WEIGHT)])\n",
    "flx_y_train = flx_train_dict['y_flx']\n",
    "flx_y_mouse_train = flx_train_dict['y_mouse']\n",
    "flx_y_expDate_train = flx_train_dict['y_expDate']\n",
    "flx_y_time_train = flx_train_dict['y_time']\n",
    "\n",
    "flx_X_validation = np.hstack([flx_validation_dict[feature]*weight for feature,weight in zip(FEATURE_LIST,FEATURE_WEIGHT)])\n",
    "flx_y_validation = flx_validation_dict['y_flx']\n",
    "flx_y_mouse_validation = flx_validation_dict['y_mouse']\n",
    "flx_y_expDate_validation = flx_validation_dict['y_expDate']\n",
    "flx_y_time_validation = flx_validation_dict['y_time']\n",
    "\n",
    "flx_X_test = np.hstack([flx_test_dict[feature]*weight for feature,weight in zip(FEATURE_LIST,FEATURE_WEIGHT)])\n",
    "flx_y_test = flx_test_dict['y_flx']\n",
    "flx_y_mouse_test = flx_test_dict['y_mouse']\n",
    "flx_y_expDate_test = flx_test_dict['y_expDate']\n",
    "flx_y_time_test = flx_test_dict['y_time']\n",
    "\n",
    "flx_X = np.vstack([flx_X_train,flx_X_validation])\n",
    "flx_y_task = np.hstack([flx_y_train,flx_y_validation])\n",
    "flx_y_mouse = np.hstack([flx_y_mouse_train,flx_y_mouse_validation])\n",
    "flx_y_expDate = np.hstack([flx_y_expDate_train,flx_y_expDate_validation])\n",
    "flx_y_time = np.hstack([flx_y_time_train,flx_y_time_validation])\n",
    "\n",
    "with open(EPM_TRAIN_FILE,\"rb\") as f:\n",
    "    epm_train_dict = pickle.load(f)\n",
    "\n",
    "with open(EPM_VAL_FILE,\"rb\") as f:\n",
    "    epm_validation_dict = pickle.load(f)\n",
    "\n",
    "with open(EPM_TEST_FILE,\"rb\") as f:\n",
    "    epm_test_dict = pickle.load(f)\n",
    "\n",
    "#Load the data\n",
    "NUM_FREQS = 56\n",
    "NUM_FEATURES = (epm_train_dict[\"X_power_1_2\"].shape[1] + \\\n",
    "                epm_train_dict[\"X_coh_1_2\"].shape[1] + \\\n",
    "                epm_train_dict[\"X_gc_1_2\"].shape[1]) // NUM_FREQS\n",
    "SCALE_VECTOR = np.array([np.arange(1,57) for feature in range(NUM_FEATURES)]).flatten()\n",
    "\n",
    "X_train = np.hstack([epm_train_dict[feature]*weight for feature,weight in zip(FEATURE_LIST,FEATURE_WEIGHT)])\n",
    "#X_train[X_train<0] = 0\n",
    "y_train = (epm_train_dict['y_ROI']%2).astype(bool)\n",
    "y_in_task_mask_train = ~epm_train_dict['y_Homecage'].astype(bool)\n",
    "y_mouse_train = epm_train_dict['y_mouse']\n",
    "y_time_train = epm_train_dict['y_time']\n",
    "train_nan_mask = (epm_train_dict['y_ROI'] > 0)\n",
    "\n",
    "\n",
    "X_train_task = X_train[np.logical_and(y_in_task_mask_train==1,train_nan_mask)==1]\n",
    "y_train_task = y_train[np.logical_and(y_in_task_mask_train==1,train_nan_mask)==1]\n",
    "y_mouse_train_task = y_mouse_train[np.logical_and(y_in_task_mask_train==1,train_nan_mask)==1]\n",
    "y_time_train_task = y_time_train[np.logical_and(y_in_task_mask_train==1,train_nan_mask)==1]\n",
    "\n",
    "X_val = np.hstack([epm_validation_dict[feature]*weight for feature,weight in zip(FEATURE_LIST,FEATURE_WEIGHT)])\n",
    "y_val = (epm_validation_dict['y_ROI']%2).astype(bool)\n",
    "y_in_task_mask_val= ~epm_validation_dict['y_Homecage'].astype(bool)\n",
    "y_mouse_val = epm_validation_dict['y_mouse']\n",
    "y_time_val = epm_validation_dict['y_time']\n",
    "val_nan_mask = (epm_validation_dict['y_ROI'] > 0)\n",
    "\n",
    "X_val_task = X_val[np.logical_and(y_in_task_mask_val==1,val_nan_mask)==1]\n",
    "y_val_task = y_val[np.logical_and(y_in_task_mask_val==1,val_nan_mask)==1]\n",
    "y_mouse_val_task = y_mouse_val[np.logical_and(y_in_task_mask_val==1,val_nan_mask)==1]\n",
    "y_time_val_task = y_time_val[np.logical_and(y_in_task_mask_val==1,val_nan_mask)==1]\n",
    "\n",
    "X_test = np.hstack([epm_test_dict[feature]*weight for feature,weight in zip(FEATURE_LIST,FEATURE_WEIGHT)])\n",
    "y_test = (epm_test_dict['y_ROI']%2).astype(bool)\n",
    "y_in_task_mask_test= ~epm_test_dict['y_Homecage'].astype(bool)\n",
    "y_mouse_test = epm_test_dict['y_mouse']\n",
    "y_time_test = epm_test_dict['y_time']\n",
    "test_nan_mask = (epm_test_dict['y_ROI'] > 0)\n",
    "\n",
    "X_test_task = X_test[np.logical_and(y_in_task_mask_test==1,test_nan_mask)==1]\n",
    "y_test_task = y_test[np.logical_and(y_in_task_mask_test==1,test_nan_mask)==1]\n",
    "y_mouse_test_task = y_mouse_test[np.logical_and(y_in_task_mask_test==1,test_nan_mask)==1]\n",
    "y_time_test_task = y_time_test[np.logical_and(y_in_task_mask_test==1,test_nan_mask)==1]\n",
    "\n",
    "epm_X = np.vstack([X_train_task,X_val_task])\n",
    "epm_y_task = np.hstack([y_train_task,y_val_task])\n",
    "epm_y_mouse = np.hstack([y_mouse_train_task,y_mouse_val_task])\n",
    "epm_y_time = np.hstack([y_time_train_task,y_time_val_task])\n",
    "\n",
    "mt_X_train = np.vstack([flx_X_train,oft_X_train,X_train])\n",
    "mt_y_train = np.hstack([flx_y_train,oft_y_task_train,y_in_task_mask_train])\n",
    "mt_y_mouse_train = np.hstack([flx_y_mouse_train,oft_y_mouse_train,y_mouse_train])\n",
    "\n",
    "mt_X_val = np.vstack([flx_X_validation,oft_X_val,X_val])\n",
    "mt_y_val = np.hstack([flx_y_validation,oft_y_task_val,y_in_task_mask_val])\n",
    "mt_y_mouse_val = np.hstack([flx_y_mouse_validation,oft_y_mouse_val,y_mouse_val])\n",
    "\n",
    "mt_X_test = np.vstack([flx_X_test,oft_X_test,X_test])\n",
    "mt_y_test = np.hstack([flx_y_test,oft_y_task_test,y_in_task_mask_test])\n",
    "mt_y_mouse_test = np.hstack([flx_y_mouse_test,oft_y_mouse_test,y_mouse_test])\n",
    "\n",
    "intercept_mask = OneHotEncoder().fit_transform(mt_y_mouse_train.reshape(-1,1)).todense()"
   ]
  },
  {
   "cell_type": "code",
   "execution_count": 3,
   "metadata": {},
   "outputs": [
    {
     "name": "stderr",
     "output_type": "stream",
     "text": [
      "c:\\Users\\micha\\Anaconda3\\envs\\cpne\\lib\\site-packages\\sklearn\\metrics\\_ranking.py:990: UndefinedMetricWarning: No negative samples in y_true, false positive value should be meaningless\n",
      "  warnings.warn(\n",
      "c:\\Users\\micha\\Anaconda3\\envs\\cpne\\lib\\site-packages\\sklearn\\metrics\\_ranking.py:990: UndefinedMetricWarning: No negative samples in y_true, false positive value should be meaningless\n",
      "  warnings.warn(\n",
      "c:\\Users\\micha\\Anaconda3\\envs\\cpne\\lib\\site-packages\\sklearn\\metrics\\_ranking.py:990: UndefinedMetricWarning: No negative samples in y_true, false positive value should be meaningless\n",
      "  warnings.warn(\n"
     ]
    },
    {
     "name": "stdout",
     "output_type": "stream",
     "text": [
      "Training ROC AUCs:  {'auc_method': 'sklearn_roc_auc', 'Mouse04191': 1.0, 'Mouse04201': 0.9978354978354979, 'Mouse04202': 1.0, 'Mouse04205': 1.0, 'Mouse04215': 0.9924242424242424, 'Mouse0630': 0.9892205638474295, 'Mouse0634': 0.9728070175438597, 'Mouse0643': 0.9822485207100592, 'Mouse1551': 0.9846860643185298, 'Mouse3191': 0.9971605808303632, 'Mouse3192': nan, 'Mouse3193': 0.9976478084236595, 'Mouse3194': 0.9995353159851301, 'Mouse3202': nan, 'Mouse3203': 0.997174359654267, 'Mouse39114': 0.9989200863930885, 'Mouse39124': 1.0, 'Mouse39133': 1.0, 'Mouse6291': 1.0, 'Mouse6292': 1.0, 'Mouse6293': 0.9967741935483871, 'Mouse69064': 0.9992012779552716, 'Mouse69072': 1.0, 'Mouse69074': 0.9958813838550247, 'Mouse8580': 0.9936247723132969, 'Mouse8581': 0.9988662131519275, 'Mouse8582': 0.9642857142857143, 'Mouse8891': 0.9975083056478405, 'Mouse8894': 0.9758064516129032, 'Mouse99003': nan}\n",
      "Mouse  Mouse3192  has only one class - AUC cannot be calculated\n",
      "n_positive samples  279\n",
      "n_negative samples  0\n",
      "Mouse  Mouse3202  has only one class - AUC cannot be calculated\n",
      "n_positive samples  1504\n",
      "n_negative samples  0\n",
      "Mouse  Mouse99003  has only one class - AUC cannot be calculated\n",
      "n_positive samples  1874\n",
      "n_negative samples  0\n",
      "Training Mann Whitney AUCs:  {'auc_method': 'mannWhitneyU', 'Mouse04191': (1.0, 2.3404825988249602e-76), 'Mouse04201': (0.9959310170349132, 3.6943989623529717e-211), 'Mouse04202': (1.0, 3.62322915995375e-212), 'Mouse04205': (1.0, 1.6881996393705464e-126), 'Mouse04215': (0.9949841137959949, 4.528679113318231e-145), 'Mouse0630': (0.9980495843632988, 2.480877210069327e-83), 'Mouse0634': (0.9945942090999857, 1.8664214055676173e-66), 'Mouse0643': (0.9875284478834775, 2.438923961685025e-47), 'Mouse1551': (0.9985806596197662, 5.006195355844542e-69), 'Mouse3191': (0.9968495760404529, 0.0), 'Mouse3192': (nan, nan), 'Mouse3193': (0.9992445252998151, 0.0), 'Mouse3194': (0.9995365849201789, 0.0), 'Mouse3202': (nan, nan), 'Mouse3203': (0.9997024867840659, 0.0), 'Mouse39114': (0.9978739200863931, 3.8189008593406596e-149), 'Mouse39124': (1.0, 3.24727384491188e-212), 'Mouse39133': (1.0, 1.2249997891944936e-223), 'Mouse6291': (1.0, 1.5158069385857266e-95), 'Mouse6292': (1.0, 2.5704434269544583e-96), 'Mouse6293': (0.9988269794721407, 2.45519843890172e-99), 'Mouse69064': (0.9984990267791782, 4.4771518825276496e-194), 'Mouse69072': (1.0, 1.73340171048179e-109), 'Mouse69074': (0.9944960311517148, 1.2725137603243255e-203), 'Mouse8580': (0.9978691961370588, 2.474411260578058e-59), 'Mouse8581': (1.0, 2.1662766549097016e-65), 'Mouse8582': (1.0, 1.66984627324056e-07), 'Mouse8891': (0.9996206869490151, 3.3969578922918715e-70), 'Mouse8894': (0.9973118279569892, 3.58474308228059e-34), 'Mouse99003': (nan, nan)}\n",
      "Validation ROC AUCs:  {'auc_method': 'sklearn_roc_auc', 'Mouse04193': 0.7143004966887417, 'Mouse0633': 0.6557936538144357, 'Mouse0642': 0.6726733774926547, 'Mouse3192': 0.6443010199078161, 'Mouse39125': 0.7577109810081394, 'Mouse69065': 0.6629876687698502}\n",
      "Validation MW AUCs:  {'auc_method': 'mannWhitneyU', 'Mouse04193': (0.7836989514348786, 7.801951371588227e-64), 'Mouse0633': (0.7483982288534491, 7.037105263672095e-19), 'Mouse0642': (0.7307498391835742, 2.0430768994010008e-13), 'Mouse3192': (0.7427564479748946, 1.0779346769364289e-139), 'Mouse39125': (0.8330608310723976, 5.542321780277907e-78), 'Mouse69065': (0.736353297058532, 2.6441758200128463e-49)}\n",
      "Test ROC AUCs:  {'auc_method': 'sklearn_roc_auc', 'Mouse04203': 0.7167373041701354, 'Mouse0641': 0.5992520138089759, 'Mouse39115': 0.7086274593945114, 'Mouse39121': 0.7618882739226828, 'Mouse39122': 0.5889985380116959, 'Mouse39132': 0.6700525468260021, 'Mouse39135': 0.6775874452345041, 'Mouse6674': 0.5291563275434243, 'Mouse69061': 0.5004403818229427, 'Mouse69071': 0.6931071661401134, 'Mouse69075': 0.7273263293310464, 'Mouse8893': 0.5897123354461239, 'Mouse99002': nan, 'Mouse99021': nan}\n",
      "Mouse  Mouse99002  has only one class - AUC cannot be calculated\n",
      "n_positive samples  1890\n",
      "n_negative samples  0\n",
      "Mouse  Mouse99021  has only one class - AUC cannot be calculated\n",
      "n_positive samples  2025\n",
      "n_negative samples  0\n",
      "Test MW AUCs:  {'auc_method': 'mannWhitneyU', 'Mouse04203': (0.8302524029365019, 7.486194990398274e-48), 'Mouse0641': (0.6527617951668585, 3.792424846945141e-05), 'Mouse39115': (0.7928494289126812, 1.7864525261782205e-59), 'Mouse39121': (0.8666696508033471, 1.2035667714853678e-109), 'Mouse39122': (0.6879946393762183, 3.61876837784691e-31), 'Mouse39132': (0.7555612057518999, 1.511843589203462e-52), 'Mouse39135': (0.7531817855347267, 1.0823941657727423e-45), 'Mouse6674': (0.5864516129032258, 0.0019204031405929214), 'Mouse69061': (0.5140185342489266, 0.08435999804736757), 'Mouse69071': (0.7872874981194524, 1.1595528530665934e-69), 'Mouse69075': (0.7843745533161807, 1.9370791151888432e-72), 'Mouse8893': (0.6294920698654889, 8.276901472429768e-06), 'Mouse99002': (nan, nan), 'Mouse99021': (nan, nan)}\n"
     ]
    },
    {
     "name": "stderr",
     "output_type": "stream",
     "text": [
      "c:\\Users\\micha\\Anaconda3\\envs\\cpne\\lib\\site-packages\\sklearn\\metrics\\_ranking.py:990: UndefinedMetricWarning: No negative samples in y_true, false positive value should be meaningless\n",
      "  warnings.warn(\n",
      "c:\\Users\\micha\\Anaconda3\\envs\\cpne\\lib\\site-packages\\sklearn\\metrics\\_ranking.py:990: UndefinedMetricWarning: No negative samples in y_true, false positive value should be meaningless\n",
      "  warnings.warn(\n"
     ]
    }
   ],
   "source": [
    "y_pred, s = model.predict(mt_X_train,include_scores=True)\n",
    "roc_auc_dict = umc_dt.lpne_auc(y_pred,mt_y_train,mt_y_mouse_train)\n",
    "print(\"Training ROC AUCs: \",roc_auc_dict)\n",
    "mw_auc_dict = umc_dt.lpne_auc(y_pred,mt_y_train,mt_y_mouse_train,s,True)\n",
    "print(\"Training Mann Whitney AUCs: \",mw_auc_dict)\n",
    "\n",
    "y_pred, s = model.predict(mt_X_val,include_scores=True)\n",
    "roc_auc_dict = umc_dt.lpne_auc(y_pred,mt_y_val,mt_y_mouse_val)\n",
    "print(\"Validation ROC AUCs: \",roc_auc_dict)\n",
    "mw_auc_dict = umc_dt.lpne_auc(y_pred,mt_y_val,mt_y_mouse_val,s,True)\n",
    "print(\"Validation MW AUCs: \",mw_auc_dict)\n",
    "\n",
    "y_pred, s = model.predict(mt_X_test,include_scores=True)\n",
    "roc_auc_dict = umc_dt.lpne_auc(y_pred,mt_y_test,mt_y_mouse_test)\n",
    "print(\"Test ROC AUCs: \",roc_auc_dict)\n",
    "mw_auc_dict = umc_dt.lpne_auc(y_pred,mt_y_test,mt_y_mouse_test,s,True)\n",
    "print(\"Test MW AUCs: \",mw_auc_dict)"
   ]
  },
  {
   "cell_type": "code",
   "execution_count": 4,
   "metadata": {},
   "outputs": [
    {
     "name": "stderr",
     "output_type": "stream",
     "text": [
      "c:\\Users\\micha\\Anaconda3\\envs\\cpne\\lib\\site-packages\\sklearn\\metrics\\_ranking.py:990: UndefinedMetricWarning: No negative samples in y_true, false positive value should be meaningless\n",
      "  warnings.warn(\n",
      "c:\\Users\\micha\\Anaconda3\\envs\\cpne\\lib\\site-packages\\sklearn\\metrics\\_ranking.py:990: UndefinedMetricWarning: No negative samples in y_true, false positive value should be meaningless\n",
      "  warnings.warn(\n",
      "c:\\Users\\micha\\Anaconda3\\envs\\cpne\\lib\\site-packages\\sklearn\\metrics\\_ranking.py:990: UndefinedMetricWarning: No negative samples in y_true, false positive value should be meaningless\n",
      "  warnings.warn(\n"
     ]
    },
    {
     "name": "stdout",
     "output_type": "stream",
     "text": [
      "train roc auc mean: 0.99 +/- 0.00\n",
      "Mouse  Mouse3192  has only one class - AUC cannot be calculated\n",
      "n_positive samples  279\n",
      "n_negative samples  0\n",
      "Mouse  Mouse3202  has only one class - AUC cannot be calculated\n",
      "n_positive samples  1504\n",
      "n_negative samples  0\n",
      "Mouse  Mouse99003  has only one class - AUC cannot be calculated\n",
      "n_positive samples  1874\n",
      "n_negative samples  0\n",
      "train mw auc mean: 1.00 +/- 0.00\n",
      "val roc auc mean: 0.68 +/- 0.02\n",
      "val mw auc mean: 0.76 +/- 0.02\n",
      "test roc auc mean: 0.65 +/- 0.02\n",
      "Mouse  Mouse99002  has only one class - AUC cannot be calculated\n",
      "n_positive samples  1890\n",
      "n_negative samples  0\n",
      "Mouse  Mouse99021  has only one class - AUC cannot be calculated\n",
      "n_positive samples  2025\n",
      "n_negative samples  0\n",
      "test mw auc mean: 0.72 +/- 0.03\n"
     ]
    },
    {
     "name": "stderr",
     "output_type": "stream",
     "text": [
      "c:\\Users\\micha\\Anaconda3\\envs\\cpne\\lib\\site-packages\\sklearn\\metrics\\_ranking.py:990: UndefinedMetricWarning: No negative samples in y_true, false positive value should be meaningless\n",
      "  warnings.warn(\n",
      "c:\\Users\\micha\\Anaconda3\\envs\\cpne\\lib\\site-packages\\sklearn\\metrics\\_ranking.py:990: UndefinedMetricWarning: No negative samples in y_true, false positive value should be meaningless\n",
      "  warnings.warn(\n"
     ]
    }
   ],
   "source": [
    "y_pred, s = model.predict(mt_X_train,include_scores=True)\n",
    "roc_mean,roc_std = umc_dt.get_mean_std_err_auc(y_pred,mt_y_train,mt_y_mouse_train)\n",
    "print(\"train roc auc mean: %0.2f +/- %0.2f\"%(roc_mean,roc_std))\n",
    "mw_mean,mw_std = umc_dt.get_mean_std_err_auc(y_pred,mt_y_train,mt_y_mouse_train,s,True)\n",
    "print(\"train mw auc mean: %0.2f +/- %0.2f\"%(mw_mean,mw_std))\n",
    "\n",
    "y_pred, s = model.predict(mt_X_val,include_scores=True)\n",
    "roc_mean,roc_std = umc_dt.get_mean_std_err_auc(y_pred,mt_y_val,mt_y_mouse_val)\n",
    "print(\"val roc auc mean: %0.2f +/- %0.2f\"%(roc_mean,roc_std))\n",
    "mw_mean,mw_std = umc_dt.get_mean_std_err_auc(y_pred,mt_y_val,mt_y_mouse_val,s,True)\n",
    "print(\"val mw auc mean: %0.2f +/- %0.2f\"%(mw_mean,mw_std))\n",
    "\n",
    "y_pred, s = model.predict(mt_X_test,include_scores=True)\n",
    "roc_mean,roc_std = umc_dt.get_mean_std_err_auc(y_pred,mt_y_test,mt_y_mouse_test)\n",
    "print(\"test roc auc mean: %0.2f +/- %0.2f\"%(roc_mean,roc_std))\n",
    "mw_mean,mw_std = umc_dt.get_mean_std_err_auc(y_pred,mt_y_test,mt_y_mouse_test,s,True)\n",
    "print(\"test mw auc mean: %0.2f +/- %0.2f\"%(mw_mean,mw_std))"
   ]
  },
  {
   "cell_type": "code",
   "execution_count": 13,
   "metadata": {},
   "outputs": [
    {
     "data": {
      "image/png": "[encoded data removed]",
      "text/plain": [
       "<Figure size 432x288 with 1 Axes>"
      ]
     },
     "metadata": {
      "needs_background": "light"
     },
     "output_type": "display_data"
    }
   ],
   "source": [
    "'''pos_s = s[:,0][mt_y_val==1].squeeze()\n",
    "neg_s = s[:,0][mt_y_val==0].squeeze()\n",
    "\n",
    "figure = plt.figure()\n",
    "score_list = [pos_s,neg_s]\n",
    "ax = figure.add_axes([0,0,1,1])\n",
    "bp = ax.boxplot(score_list)\n",
    "\n",
    "plt.xticks(range(1,3),[\"Positive\",\"Negative\"])\n",
    "plt.title(\"Multitask Model Scores\")\n",
    "plt.show()'''"
   ]
  },
  {
   "cell_type": "code",
   "execution_count": 16,
   "metadata": {},
   "outputs": [
    {
     "name": "stderr",
     "output_type": "stream",
     "text": [
      "c:\\Users\\micha\\Anaconda3\\envs\\cpne\\lib\\site-packages\\seaborn\\distributions.py:1699: FutureWarning: The `bw` parameter is deprecated in favor of `bw_method` and `bw_adjust`. Using 0.5 for `bw_method`, but please see the docs for the new parameters and update your code.\n",
      "  warnings.warn(msg, FutureWarning)\n",
      "c:\\Users\\micha\\Anaconda3\\envs\\cpne\\lib\\site-packages\\seaborn\\distributions.py:1699: FutureWarning: The `bw` parameter is deprecated in favor of `bw_method` and `bw_adjust`. Using 0.5 for `bw_method`, but please see the docs for the new parameters and update your code.\n",
      "  warnings.warn(msg, FutureWarning)\n"
     ]
    },
    {
     "data": {
      "image/png": "[encoded data removed]",
      "text/plain": [
       "<Figure size 432x288 with 1 Axes>"
      ]
     },
     "metadata": {},
     "output_type": "display_data"
    }
   ],
   "source": [
    "'''import seaborn as sns\n",
    "\n",
    "sns.set_style('whitegrid')\n",
    "sns.kdeplot(pos_s,label='positive scores',bw=0.5)\n",
    "sns.kdeplot(neg_s,label='negative scores',bw=0.5)\n",
    "plt.legend()\n",
    "plt.title(\"Kernel Density Plot Multitask Scores\")\n",
    "plt.show()'''"
   ]
  },
  {
   "cell_type": "code",
   "execution_count": 5,
   "metadata": {},
   "outputs": [
    {
     "data": {
      "image/png": "[encoded data removed]",
      "text/plain": [
       "<Figure size 1440x576 with 2 Axes>"
      ]
     },
     "metadata": {
      "needs_background": "light"
     },
     "output_type": "display_data"
    }
   ],
   "source": [
    "umc_dt.make_recon_plots(model,X_test,0,task=\"Positive MT onto EPM (HC vs Task) Train\",saveFile=\"test_recon.png\")"
   ]
  },
  {
   "cell_type": "markdown",
   "metadata": {},
   "source": [
    "## EPM Projection"
   ]
  },
  {
   "cell_type": "code",
   "execution_count": 5,
   "metadata": {},
   "outputs": [
    {
     "name": "stdout",
     "output_type": "stream",
     "text": [
      "Training ROC AUCs:  {'auc_method': 'sklearn_roc_auc', 'Mouse04201': 0.9952229299363058, 'Mouse04202': 1.0, 'Mouse04205': 1.0, 'Mouse04215': 0.9914772727272727, 'Mouse0630': 0.9859038142620232, 'Mouse0634': 0.9850877192982457, 'Mouse0643': 0.9822485207100592, 'Mouse1551': 0.9816232771822359, 'Mouse39114': 0.9974747474747474, 'Mouse39124': 0.9966887417218543, 'Mouse39133': 1.0, 'Mouse6291': 1.0, 'Mouse6292': 1.0, 'Mouse6293': 0.9967741935483871, 'Mouse69064': 0.9982876712328768, 'Mouse69074': 0.9939759036144578, 'Mouse8580': 0.9899817850637522, 'Mouse8581': 0.9988662131519275, 'Mouse8582': 0.9642857142857143, 'Mouse8891': 0.9950166112956811, 'Mouse8894': 0.9798387096774194}\n",
      "Training Mann Whitney AUCs:  {'auc_method': 'mannWhitneyU', 'Mouse04201': (0.9907605171821962, 1.420286725626699e-103), 'Mouse04202': (1.0, 1.2234124412320264e-109), 'Mouse04205': (1.0, 8.504586546833693e-07), 'Mouse04215': (0.9892364236423642, 1.4602615650043137e-103), 'Mouse0630': (0.9977053933685869, 3.2145827028469097e-83), 'Mouse0634': (0.9949222650121238, 1.532046506968939e-66), 'Mouse0643': (0.9888029130632681, 1.4081128235721438e-47), 'Mouse1551': (0.9984810567860656, 5.325297151891187e-69), 'Mouse39114': (0.9949494949494949, 1.1832095062895546e-66), 'Mouse39124': (1.0, 9.339016637569592e-106), 'Mouse39133': (1.0, 2.389099291754851e-127), 'Mouse6291': (1.0, 1.5158069385857266e-95), 'Mouse6292': (1.0, 2.5704372804516997e-96), 'Mouse6293': (0.9987292277614859, 2.6807570580294033e-99), 'Mouse69064': (1.0, 1.2103028988737524e-90), 'Mouse69074': (0.9930596511921813, 2.5359062396219498e-99), 'Mouse8580': (0.9981785063752276, 2.098883194810183e-59), 'Mouse8581': (1.0, 2.1662766549097016e-65), 'Mouse8582': (1.0, 1.66984627324056e-07), 'Mouse8891': (0.9988882203678029, 5.3866294417937105e-70), 'Mouse8894': (0.9980997404523545, 2.8279785742537984e-34)}\n",
      "Validation ROC AUCs:  {'auc_method': 'sklearn_roc_auc', 'Mouse04193': 0.6030876549078568, 'Mouse0633': 0.6702698587903932, 'Mouse0642': 0.6626158312905301, 'Mouse39125': 0.7185555191614805, 'Mouse69065': 0.6963191205862758}\n",
      "Validation MW AUCs:  {'auc_method': 'mannWhitneyU', 'Mouse04193': (0.6624694606277015, 5.461725632319302e-12), 'Mouse0633': (0.73927606287824, 1.2480900583824576e-17), 'Mouse0642': (0.7263686781759071, 5.742233235791872e-13), 'Mouse39125': (0.7884594388033628, 3.780204527796018e-31), 'Mouse69065': (0.7751249167221852, 6.640883861435739e-36)}\n"
     ]
    }
   ],
   "source": [
    "y_pred, s = model.predict(X_train,include_scores=True)\n",
    "roc_auc_dict = umc_dt.lpne_auc(y_pred,y_in_task_mask_train,y_mouse_train)\n",
    "print(\"Training ROC AUCs: \",roc_auc_dict)\n",
    "mw_auc_dict = umc_dt.lpne_auc(y_pred,y_in_task_mask_train,y_mouse_train,s,True)\n",
    "print(\"Training Mann Whitney AUCs: \",mw_auc_dict)\n",
    "df = umc_dt.make_projection_csv(EPM_TRAIN_FILE,model,FEATURE_VECTOR,\n",
    "                                ['y_mouse','y_expDate','y_time','y_Homecage','y_ROI','y_vel','y_locx','y_locy'],\n",
    "                                save_file =\".\\\\Final_Projections\\\\{}_MT_onto_EPM_Train_Projection_2022_July_30.csv\".format(NETWORK_CONSTRAINT),\n",
    "                                auc_dict=mw_auc_dict,weights=FEATURE_WEIGHT)\n",
    "                                \n",
    "y_pred, s = model.predict(X_val,include_scores=True)\n",
    "roc_auc_dict = umc_dt.lpne_auc(y_pred,y_in_task_mask_val,y_mouse_val)\n",
    "print(\"Validation ROC AUCs: \",roc_auc_dict)\n",
    "mw_auc_dict = umc_dt.lpne_auc(y_pred,y_in_task_mask_val,y_mouse_val,s,True)\n",
    "print(\"Validation MW AUCs: \",mw_auc_dict)\n",
    "\n",
    "df = umc_dt.make_projection_csv(EPM_VAL_FILE,model,FEATURE_VECTOR,\n",
    "                                ['y_mouse','y_expDate','y_time','y_Homecage','y_ROI','y_vel','y_locx','y_locy'],\n",
    "                                save_file =\".\\\\Final_Projections\\\\{}_MT_onto_EPM_Val_Projection_2022_July_30.csv\".format(NETWORK_CONSTRAINT),\n",
    "                                auc_dict=mw_auc_dict,weights=FEATURE_WEIGHT)"
   ]
  },
  {
   "cell_type": "markdown",
   "metadata": {},
   "source": [
    "### EPM Test Projection"
   ]
  },
  {
   "cell_type": "code",
   "execution_count": 6,
   "metadata": {},
   "outputs": [
    {
     "name": "stdout",
     "output_type": "stream",
     "text": [
      "Test ROC AUCs:  {'auc_method': 'sklearn_roc_auc', 'Mouse0641': 0.6379219409282699, 'Mouse39115': 0.6884739117321806, 'Mouse39121': 0.7567246609053969, 'Mouse39122': 0.6143898400904539, 'Mouse39132': 0.6075342465753425, 'Mouse39135': 0.6678565698700465, 'Mouse6674': 0.5415632754342432, 'Mouse69061': 0.6459729597072865, 'Mouse69071': 0.7145557843059624, 'Mouse69075': 0.6955654426202112, 'Mouse8893': 0.6025253104654831}\n",
      "Test MW AUCs:  {'auc_method': 'mannWhitneyU', 'Mouse0641': (0.6547276563099348, 3.0087913610201623e-05), 'Mouse39115': (0.7918870011058611, 9.262203828338314e-37), 'Mouse39121': (0.8377210553425285, 6.221698564381611e-50), 'Mouse39122': (0.7113955742206429, 4.5194789117926964e-20), 'Mouse39132': (0.6666391119508739, 3.481358033151943e-12), 'Mouse39135': (0.7420011001352249, 2.974062950611337e-24), 'Mouse6674': (0.5901861042183623, 0.0012109271925543656), 'Mouse69061': (0.7446611039221811, 7.760615217216041e-28), 'Mouse69071': (0.7862459418798005, 1.1140277573423653e-35), 'Mouse69075': (0.759744328863266, 5.0278739075639114e-29), 'Mouse8893': (0.6374365445837038, 2.2297108380581884e-06)}\n"
     ]
    }
   ],
   "source": [
    "y_pred, s = model.predict(X_test,include_scores=True)\n",
    "roc_auc_dict = umc_dt.lpne_auc(y_pred,y_in_task_mask_test,y_mouse_test)\n",
    "print(\"Test ROC AUCs: \",roc_auc_dict)\n",
    "mw_auc_dict = umc_dt.lpne_auc(y_pred,y_in_task_mask_test,y_mouse_test,s,True)\n",
    "print(\"Test MW AUCs: \",mw_auc_dict)\n",
    "\n",
    "df = umc_dt.make_projection_csv(EPM_TEST_FILE,model,FEATURE_VECTOR,\n",
    "                                ['y_mouse','y_expDate','y_time','y_Homecage','y_ROI','y_vel','y_locx','y_locy'],\n",
    "                                save_file =\".\\\\Final_Projections\\\\{}_MT_onto_EPM_Test_Projection_2022_July_30.csv\".format(NETWORK_CONSTRAINT),\n",
    "                                auc_dict=mw_auc_dict)"
   ]
  },
  {
   "cell_type": "code",
   "execution_count": 7,
   "metadata": {},
   "outputs": [
    {
     "name": "stdout",
     "output_type": "stream",
     "text": [
      "train roc auc mean: 0.99 +/- 0.00\n",
      "train mw auc mean: 1.00 +/- 0.00\n",
      "val roc auc mean: 0.67 +/- 0.02\n",
      "val mw auc mean: 0.74 +/- 0.02\n",
      "test roc auc mean: 0.65 +/- 0.02\n",
      "test mw auc mean: 0.72 +/- 0.02\n"
     ]
    }
   ],
   "source": [
    "y_pred, s = model.predict(X_train,include_scores=True)\n",
    "roc_mean,roc_std = umc_dt.get_mean_std_err_auc(y_pred,y_in_task_mask_train,y_mouse_train)\n",
    "print(\"train roc auc mean: %0.2f +/- %0.2f\"%(roc_mean,roc_std))\n",
    "mw_mean,mw_std = umc_dt.get_mean_std_err_auc(y_pred,y_in_task_mask_train,y_mouse_train,s,True)\n",
    "print(\"train mw auc mean: %0.2f +/- %0.2f\"%(mw_mean,mw_std))\n",
    "y_pred, s = model.predict(X_val,include_scores=True)\n",
    "roc_mean,roc_std = umc_dt.get_mean_std_err_auc(y_pred,y_in_task_mask_val,y_mouse_val)\n",
    "print(\"val roc auc mean: %0.2f +/- %0.2f\"%(roc_mean,roc_std))\n",
    "mw_mean,mw_std = umc_dt.get_mean_std_err_auc(y_pred,y_in_task_mask_val,y_mouse_val,s,True)\n",
    "print(\"val mw auc mean: %0.2f +/- %0.2f\"%(mw_mean,mw_std))\n",
    "\n",
    "y_pred, s = model.predict(X_test,include_scores=True)\n",
    "roc_mean,roc_std = umc_dt.get_mean_std_err_auc(y_pred,y_in_task_mask_test,y_mouse_test)\n",
    "print(\"test roc auc mean: %0.2f +/- %0.2f\"%(roc_mean,roc_std))\n",
    "mw_mean,mw_std = umc_dt.get_mean_std_err_auc(y_pred,y_in_task_mask_test,y_mouse_test,s,True)\n",
    "print(\"test mw auc mean: %0.2f +/- %0.2f\"%(mw_mean,mw_std))"
   ]
  },
  {
   "cell_type": "markdown",
   "metadata": {},
   "source": [
    "##### EPM ROI AUCs"
   ]
  },
  {
   "cell_type": "code",
   "execution_count": 7,
   "metadata": {},
   "outputs": [
    {
     "name": "stdout",
     "output_type": "stream",
     "text": [
      "Test ROC AUCs:  {'auc_method': 'sklearn_roc_auc', 'Mouse04193': 0.47640177490923763, 'Mouse0633': 0.4635806461547938, 'Mouse0642': 0.4774340628507295, 'Mouse39125': 0.5109041783267394, 'Mouse69065': 0.48607142857142854}\n",
      "Test MW AUCs:  {'auc_method': 'mannWhitneyU', 'Mouse04193': (0.5047061987360495, 0.907715063211952), 'Mouse0633': (0.4221411192214112, 0.005469749219838264), 'Mouse0642': (0.44566498316498315, 0.03727420602177409), 'Mouse39125': (0.45855447264305704, 0.38718458376698295), 'Mouse69065': (0.4396785714285714, 0.07332334408601866)}\n",
      "test roc auc mean: 0.48 +/- 0.01\n",
      "test mw auc mean: 0.45 +/- 0.01\n"
     ]
    }
   ],
   "source": [
    "#Val\n",
    "y_pred, s = model.predict(X_val,include_scores=True)\n",
    "roc_auc_dict = umc_dt.lpne_auc(y_pred[y_in_task_mask_val==1],y_val[y_in_task_mask_val==1],y_mouse_val[y_in_task_mask_val==1])\n",
    "print(\"Test ROC AUCs: \",roc_auc_dict)\n",
    "mw_auc_dict = umc_dt.lpne_auc(y_pred[y_in_task_mask_val==1],y_val[y_in_task_mask_val==1],y_mouse_val[y_in_task_mask_val==1],s[y_in_task_mask_val==1],True)\n",
    "print(\"Test MW AUCs: \",mw_auc_dict)\n",
    "\n",
    "roc_mean,roc_std = umc_dt.get_mean_std_err_auc(y_pred[y_in_task_mask_val==1],y_val[y_in_task_mask_val==1],y_mouse_val[y_in_task_mask_val==1])\n",
    "print(\"test roc auc mean: %0.2f +/- %0.2f\"%(roc_mean,roc_std))\n",
    "mw_mean,mw_std = umc_dt.get_mean_std_err_auc(y_pred[y_in_task_mask_val==1],y_val[y_in_task_mask_val==1],y_mouse_val[y_in_task_mask_val==1],s[y_in_task_mask_val==1],True)\n",
    "print(\"test mw auc mean: %0.2f +/- %0.2f\"%(mw_mean,mw_std))\n",
    "\n",
    "df = umc_dt.make_projection_csv(EPM_VAL_FILE,model,FEATURE_VECTOR,\n",
    "                                ['y_mouse','y_expDate','y_time','y_Homecage','y_ROI','y_vel','y_locx','y_locy'],\n",
    "                                save_file =\".\\\\Final_Projections\\\\{}_MT_onto_EPM_ROI_Val_Projection_2022_Sep_7.csv\".format(NETWORK_CONSTRAINT),\n",
    "                                auc_dict=mw_auc_dict)"
   ]
  },
  {
   "cell_type": "code",
   "execution_count": 8,
   "metadata": {},
   "outputs": [
    {
     "name": "stdout",
     "output_type": "stream",
     "text": [
      "Test ROC AUCs:  {'auc_method': 'sklearn_roc_auc', 'Mouse0641': 0.4714596585202544, 'Mouse39115': 0.5708527131782946, 'Mouse39121': 0.5569629260656087, 'Mouse39122': 0.45282805429864253, 'Mouse39132': 0.5266544117647058, 'Mouse39135': 0.5028340080971659, 'Mouse6674': 0.5309701843175686, 'Mouse69061': 0.49933901292596944, 'Mouse69071': 0.45134902411021816, 'Mouse69075': 0.5133670805979593, 'Mouse8893': 0.5204850361197111}\n",
      "Test MW AUCs:  {'auc_method': 'mannWhitneyU', 'Mouse0641': (0.46434549715433543, 0.4074660865722043), 'Mouse39115': (0.5667441860465117, 0.1570580057696819), 'Mouse39121': (0.5674944851633104, 0.13697978771264283), 'Mouse39122': (0.4904411764705882, 0.8087645830315899), 'Mouse39132': (0.4689797794117647, 0.5574711139876887), 'Mouse39135': (0.4812415654520918, 0.6231399027341329), 'Mouse6674': (0.5629941872172477, 0.01686023543064731), 'Mouse69061': (0.5108695652173914, 0.7789846302759617), 'Mouse69071': (0.4216417910447761, 0.03518997824260025), 'Mouse69075': (0.5529542039073004, 0.24702347580426742), 'Mouse8893': (0.48464912280701755, 0.6659237005109184)}\n",
      "test roc auc mean: 0.51 +/- 0.01\n",
      "test mw auc mean: 0.51 +/- 0.01\n"
     ]
    }
   ],
   "source": [
    "y_pred, s = model.predict(X_test,include_scores=True)\n",
    "roc_auc_dict = umc_dt.lpne_auc(y_pred[y_in_task_mask_test==1],y_test[y_in_task_mask_test==1],y_mouse_test[y_in_task_mask_test==1])\n",
    "print(\"Test ROC AUCs: \",roc_auc_dict)\n",
    "mw_auc_dict = umc_dt.lpne_auc(y_pred[y_in_task_mask_test==1],y_test[y_in_task_mask_test==1],y_mouse_test[y_in_task_mask_test==1],s[y_in_task_mask_test==1],True)\n",
    "print(\"Test MW AUCs: \",mw_auc_dict)\n",
    "\n",
    "roc_mean,roc_std = umc_dt.get_mean_std_err_auc(y_pred[y_in_task_mask_test==1],y_test[y_in_task_mask_test==1],y_mouse_test[y_in_task_mask_test==1])\n",
    "print(\"test roc auc mean: %0.2f +/- %0.2f\"%(roc_mean,roc_std))\n",
    "mw_mean,mw_std = umc_dt.get_mean_std_err_auc(y_pred[y_in_task_mask_test==1],y_test[y_in_task_mask_test==1],y_mouse_test[y_in_task_mask_test==1],s[y_in_task_mask_test==1],True)\n",
    "print(\"test mw auc mean: %0.2f +/- %0.2f\"%(mw_mean,mw_std))\n",
    "\n",
    "df = umc_dt.make_projection_csv(EPM_TEST_FILE,model,FEATURE_VECTOR,\n",
    "                                ['y_mouse','y_expDate','y_time','y_Homecage','y_ROI','y_vel','y_locx','y_locy'],\n",
    "                                save_file =\".\\\\Final_Projections\\\\{}_MT_onto_EPM_ROI_Test_Projection_2022_Sep_7.csv\".format(NETWORK_CONSTRAINT),\n",
    "                                auc_dict=mw_auc_dict)"
   ]
  },
  {
   "cell_type": "markdown",
   "metadata": {},
   "source": [
    "### FLX Projections"
   ]
  },
  {
   "cell_type": "code",
   "execution_count": 8,
   "metadata": {},
   "outputs": [
    {
     "name": "stderr",
     "output_type": "stream",
     "text": [
      "c:\\Users\\micha\\Anaconda3\\envs\\cpne\\lib\\site-packages\\sklearn\\metrics\\_ranking.py:990: UndefinedMetricWarning: No negative samples in y_true, false positive value should be meaningless\n",
      "  warnings.warn(\n",
      "c:\\Users\\micha\\Anaconda3\\envs\\cpne\\lib\\site-packages\\sklearn\\metrics\\_ranking.py:990: UndefinedMetricWarning: No negative samples in y_true, false positive value should be meaningless\n",
      "  warnings.warn(\n"
     ]
    },
    {
     "name": "stdout",
     "output_type": "stream",
     "text": [
      "Training ROC AUCs:  {'auc_method': 'sklearn_roc_auc', 'Mouse3191': 0.9980453535674099, 'Mouse3193': 0.9950208288173825, 'Mouse3194': 0.9972656665475575, 'Mouse3202': nan, 'Mouse3203': 0.9963628780328889, 'Mouse99003': nan}\n",
      "Mouse  Mouse3202  has only one class - AUC cannot be calculated\n",
      "n_positive samples  1504\n",
      "n_negative samples  0\n",
      "Mouse  Mouse99003  has only one class - AUC cannot be calculated\n",
      "n_positive samples  1874\n",
      "n_negative samples  0\n",
      "Training Mann Whitney AUCs:  {'auc_method': 'mannWhitneyU', 'Mouse3191': (0.9991153381233628, 0.0), 'Mouse3193': (0.9994956442983125, 0.0), 'Mouse3194': (0.9991583678610653, 0.0), 'Mouse3202': (nan, nan), 'Mouse3203': (0.9994158368765627, 0.0), 'Mouse99003': (nan, nan)}\n",
      "Validation ROC AUCs:  {'auc_method': 'sklearn_roc_auc', 'Mouse3192': 0.6733598117093262}\n",
      "Validation MW AUCs:  {'auc_method': 'mannWhitneyU', 'Mouse3192': (0.746827498283809, 2.3769790974754586e-144)}\n"
     ]
    }
   ],
   "source": [
    "FULL_FEATURE_LIST = [\"X_power_1_2_full\",\"X_coh_1_2_full\",\"X_gc_1_2_full\"]\n",
    "y_pred, s = model.predict(flx_X_train,include_scores=True)\n",
    "roc_auc_dict = umc_dt.lpne_auc(y_pred,flx_y_train,flx_y_mouse_train)\n",
    "print(\"Training ROC AUCs: \",roc_auc_dict)\n",
    "mw_auc_dict = umc_dt.lpne_auc(y_pred,flx_y_train,flx_y_mouse_train,s,True)\n",
    "print(\"Training Mann Whitney AUCs: \",mw_auc_dict)\n",
    "\n",
    "df = umc_dt.make_projection_csv(FLX_TRAIN_FILE,model,FULL_FEATURE_LIST,\n",
    "                    ['y_mouse_full','y_expDate_full','y_time_full','y_flx_full'],\n",
    "                    save_file = \".\\\\Final_Projections\\\\{}_MT_onto_FLX_flx_vs_saline_Train_Projection_2022_July_30.csv\".format(NETWORK_CONSTRAINT),\n",
    "                    auc_dict=mw_auc_dict,mousevar=\"y_mouse_full\",weights=FEATURE_WEIGHT)\n",
    "\n",
    "y_pred, s = model.predict(flx_X_validation,include_scores=True)\n",
    "roc_auc_dict = umc_dt.lpne_auc(y_pred,flx_y_validation,flx_y_mouse_validation)\n",
    "print(\"Validation ROC AUCs: \",roc_auc_dict)\n",
    "mw_auc_dict = umc_dt.lpne_auc(y_pred,flx_y_validation,flx_y_mouse_validation,s,True)\n",
    "print(\"Validation MW AUCs: \",mw_auc_dict)\n",
    "\n",
    "df = umc_dt.make_projection_csv(FLX_VAL_FILE,model,FULL_FEATURE_LIST,\n",
    "                    ['y_mouse_full','y_expDate_full','y_time_full','y_flx_full'],\n",
    "                    save_file = \".\\\\Final_Projections\\\\{}_MT_onto_FLX_flx_vs_saline_Val_Projection_2022_July_30.csv\".format(NETWORK_CONSTRAINT),\n",
    "                    auc_dict=mw_auc_dict,mousevar=\"y_mouse_full\",weights=FEATURE_WEIGHT)"
   ]
  },
  {
   "cell_type": "markdown",
   "metadata": {},
   "source": [
    "### FLX Test Performance"
   ]
  },
  {
   "cell_type": "code",
   "execution_count": 9,
   "metadata": {},
   "outputs": [
    {
     "name": "stderr",
     "output_type": "stream",
     "text": [
      "c:\\Users\\micha\\Anaconda3\\envs\\cpne\\lib\\site-packages\\sklearn\\metrics\\_ranking.py:990: UndefinedMetricWarning: No negative samples in y_true, false positive value should be meaningless\n",
      "  warnings.warn(\n",
      "c:\\Users\\micha\\Anaconda3\\envs\\cpne\\lib\\site-packages\\sklearn\\metrics\\_ranking.py:990: UndefinedMetricWarning: No negative samples in y_true, false positive value should be meaningless\n",
      "  warnings.warn(\n"
     ]
    },
    {
     "name": "stdout",
     "output_type": "stream",
     "text": [
      "Test ROC AUCs:  {'auc_method': 'sklearn_roc_auc', 'Mouse69061': 0.43988966262561113, 'Mouse99002': nan, 'Mouse99021': nan}\n",
      "Mouse  Mouse99002  has only one class - AUC cannot be calculated\n",
      "n_positive samples  1890\n",
      "n_negative samples  0\n",
      "Mouse  Mouse99021  has only one class - AUC cannot be calculated\n",
      "n_positive samples  2025\n",
      "n_negative samples  0\n",
      "Test MW AUCs:  {'auc_method': 'mannWhitneyU', 'Mouse69061': (0.4270515401621651, 1.4361783905316726e-14), 'Mouse99002': (nan, nan), 'Mouse99021': (nan, nan)}\n"
     ]
    }
   ],
   "source": [
    "y_pred, s = model.predict(flx_X_test,include_scores=True)\n",
    "roc_auc_dict = umc_dt.lpne_auc(y_pred,flx_y_test,flx_y_mouse_test)\n",
    "print(\"Test ROC AUCs: \",roc_auc_dict)\n",
    "mw_auc_dict = umc_dt.lpne_auc(y_pred,flx_y_test,flx_y_mouse_test,s,True)\n",
    "print(\"Test MW AUCs: \",mw_auc_dict)\n",
    "\n",
    "df = umc_dt.make_projection_csv(FLX_TEST_FILE,model,FULL_FEATURE_LIST,\n",
    "                    ['y_mouse_full','y_expDate_full','y_time_full','y_flx_full'],\n",
    "                    save_file = \".\\\\Final_Projections\\\\{}_MT_onto_FLX_flx_vs_saline_Test_Projection_2022_July_30.csv\".format(NETWORK_CONSTRAINT),\n",
    "                    auc_dict=mw_auc_dict,mousevar=\"y_mouse_full\",weights=FEATURE_WEIGHT)"
   ]
  },
  {
   "cell_type": "markdown",
   "metadata": {},
   "source": [
    "## OFT Performance"
   ]
  },
  {
   "cell_type": "code",
   "execution_count": 10,
   "metadata": {},
   "outputs": [
    {
     "name": "stderr",
     "output_type": "stream",
     "text": [
      "c:\\Users\\micha\\Anaconda3\\envs\\cpne\\lib\\site-packages\\sklearn\\metrics\\_ranking.py:990: UndefinedMetricWarning: No negative samples in y_true, false positive value should be meaningless\n",
      "  warnings.warn(\n",
      "c:\\Users\\micha\\Anaconda3\\envs\\cpne\\lib\\site-packages\\sklearn\\metrics\\_ranking.py:990: UndefinedMetricWarning: No negative samples in y_true, false positive value should be meaningless\n",
      "  warnings.warn(\n",
      "c:\\Users\\micha\\Anaconda3\\envs\\cpne\\lib\\site-packages\\sklearn\\metrics\\_ranking.py:990: UndefinedMetricWarning: No negative samples in y_true, false positive value should be meaningless\n",
      "  warnings.warn(\n",
      "c:\\Users\\micha\\Anaconda3\\envs\\cpne\\lib\\site-packages\\sklearn\\metrics\\_ranking.py:990: UndefinedMetricWarning: No negative samples in y_true, false positive value should be meaningless\n",
      "  warnings.warn(\n"
     ]
    },
    {
     "name": "stdout",
     "output_type": "stream",
     "text": [
      "Training ROC AUCs:  {'auc_method': 'sklearn_roc_auc', 'Mouse04191': 1.0, 'Mouse04201': 0.99822695035461, 'Mouse04202': 1.0, 'Mouse04205': 1.0, 'Mouse04215': nan, 'Mouse3191': 0.9847133685971337, 'Mouse3192': nan, 'Mouse3193': 0.9968220338983051, 'Mouse3194': nan, 'Mouse3203': nan, 'Mouse39114': 1.0, 'Mouse39124': 1.0, 'Mouse39133': 0.9984276729559749, 'Mouse69064': 0.9985029940119761, 'Mouse69072': 1.0, 'Mouse69074': 0.9981818181818182}\n",
      "Mouse  Mouse04215  has only one class - AUC cannot be calculated\n",
      "n_positive samples  506\n",
      "n_negative samples  0\n",
      "Mouse  Mouse3192  has only one class - AUC cannot be calculated\n",
      "n_positive samples  279\n",
      "n_negative samples  0\n",
      "Mouse  Mouse3194  has only one class - AUC cannot be calculated\n",
      "n_positive samples  324\n",
      "n_negative samples  0\n",
      "Mouse  Mouse3203  has only one class - AUC cannot be calculated\n",
      "n_positive samples  500\n",
      "n_negative samples  0\n",
      "Training Mann Whitney AUCs:  {'auc_method': 'mannWhitneyU', 'Mouse04191': (1.0, 2.3405065517684796e-76), 'Mouse04201': (1.0, 2.4380794996704538e-107), 'Mouse04202': (1.0, 1.947932523448159e-103), 'Mouse04205': (1.0, 8.702625054292337e-111), 'Mouse04215': (nan, nan), 'Mouse3191': (0.9830462498304625, 2.1592226149928134e-92), 'Mouse3192': (nan, nan), 'Mouse3193': (0.9966661336744483, 4.07761872181743e-111), 'Mouse3194': (nan, nan), 'Mouse3203': (nan, nan), 'Mouse39114': (1.0, 5.424331580515132e-84), 'Mouse39124': (1.0, 3.47009630987548e-108), 'Mouse39133': (1.0, 2.6908296491528975e-97), 'Mouse69064': (0.9970545921144723, 3.6875214032937275e-105), 'Mouse69072': (1.0, 1.73340171048179e-109), 'Mouse69074': (0.9963733592610597, 9.54393920774719e-104)}\n",
      "Mouse  Mouse04215  has only one class - AUC cannot be calculated\n",
      "n_positive samples  506\n",
      "n_negative samples  0\n",
      "Mouse  Mouse3192  has only one class - AUC cannot be calculated\n",
      "n_positive samples  279\n",
      "n_negative samples  0\n",
      "Mouse  Mouse3194  has only one class - AUC cannot be calculated\n",
      "n_positive samples  324\n",
      "n_negative samples  0\n",
      "Mouse  Mouse3203  has only one class - AUC cannot be calculated\n",
      "n_positive samples  500\n",
      "n_negative samples  0\n",
      "train mw auc mean: 1.00 +/- 0.00\n",
      "val mw auc mean: 0.80 +/- 0.06\n",
      "Validation ROC AUCs:  {'auc_method': 'sklearn_roc_auc', 'Mouse04193': 0.7891242682117207, 'Mouse39125': 0.7605224963715531, 'Mouse69065': 0.5926197458455522}\n",
      "Validation MW AUCs:  {'auc_method': 'mannWhitneyU', 'Mouse04193': (0.8686945500633714, 1.0848378864248009e-52), 'Mouse39125': (0.8401820270924044, 6.1370564828694215e-40), 'Mouse69065': (0.6770500705984577, 4.4502222994851506e-14)}\n"
     ]
    }
   ],
   "source": [
    "y_pred, s = model.predict(oft_X_train,include_scores=True)\n",
    "roc_auc_dict = umc_dt.lpne_auc(y_pred,oft_y_task_train,oft_y_mouse_train)\n",
    "print(\"Training ROC AUCs: \",roc_auc_dict)\n",
    "mw_auc_dict = umc_dt.lpne_auc(y_pred,oft_y_task_train,oft_y_mouse_train,s,True)\n",
    "print(\"Training Mann Whitney AUCs: \",mw_auc_dict)\n",
    "\n",
    "y_pred, s = model.predict(oft_X_train,include_scores=True)\n",
    "mw_mean,mw_std = umc_dt.get_mean_std_err_auc(y_pred,oft_y_task_train.astype(bool),oft_y_mouse_train,s,True)\n",
    "print(\"train mw auc mean: %0.2f +/- %0.2f\"%(mw_mean,mw_std))\n",
    "\n",
    "df = umc_dt.make_projection_csv(OFT_TRAIN_FILE,model,FEATURE_VECTOR,\n",
    "                    ['y_mouse','y_expDate','y_time','y_Homecage','y_ROI','y_vel'],\n",
    "                    save_file = \".\\\\Final_Projections\\\\{}_MT_onto_OFT_HC_vs_Task_Train_Projection_2022_July_30.csv\".format(NETWORK_CONSTRAINT),\n",
    "                    auc_dict=mw_auc_dict,weights=FEATURE_WEIGHT)\n",
    "\n",
    "y_pred, s = model.predict(oft_X_val,include_scores=True)\n",
    "mw_mean,mw_std = umc_dt.get_mean_std_err_auc(y_pred,oft_y_task_val.astype(bool),oft_y_mouse_val,s,True)\n",
    "print(\"val mw auc mean: %0.2f +/- %0.2f\"%(mw_mean,mw_std))\n",
    "\n",
    "y_pred, s = model.predict(oft_X_val,include_scores=True)\n",
    "roc_auc_dict = umc_dt.lpne_auc(y_pred,oft_y_task_val,oft_y_mouse_val)\n",
    "print(\"Validation ROC AUCs: \",roc_auc_dict)\n",
    "mw_auc_dict = umc_dt.lpne_auc(y_pred,oft_y_task_val,oft_y_mouse_val,s,True)\n",
    "print(\"Validation MW AUCs: \",mw_auc_dict)\n",
    "\n",
    "df = umc_dt.make_projection_csv(OFT_VAL_FILE,model,FEATURE_VECTOR,\n",
    "                    ['y_mouse','y_expDate','y_time','y_Homecage','y_ROI','y_vel'],\n",
    "                    save_file = \".\\\\Final_Projections\\\\{}_MT_onto_OFT_HC_vs_Task_Val_Projection_2022_July_30.csv\".format(NETWORK_CONSTRAINT),\n",
    "                    auc_dict=mw_auc_dict,weights=FEATURE_WEIGHT)"
   ]
  },
  {
   "cell_type": "markdown",
   "metadata": {},
   "source": [
    "### OFT Test Projections"
   ]
  },
  {
   "cell_type": "code",
   "execution_count": 11,
   "metadata": {},
   "outputs": [
    {
     "name": "stdout",
     "output_type": "stream",
     "text": [
      "Test ROC AUCs:  {'auc_method': 'sklearn_roc_auc', 'Mouse04203': 0.732422614092182, 'Mouse39115': 0.7189896472392638, 'Mouse39121': 0.7922608949985377, 'Mouse39122': 0.6139773073408468, 'Mouse39132': 0.7641820078680258, 'Mouse39135': 0.6967702348413009, 'Mouse69061': 0.5894861404955714, 'Mouse69071': 0.7009371442510977, 'Mouse69075': 0.7634429551122195}\n",
      "Test MW AUCs:  {'auc_method': 'mannWhitneyU', 'Mouse04203': (0.8242923635813214, 3.3309221863302892e-46), 'Mouse39115': (0.8195216641104295, 2.9978457046182826e-26), 'Mouse39121': (0.8925416788534659, 2.628038038198101e-60), 'Mouse39122': (0.6741928114529394, 2.8033109621429028e-14), 'Mouse39132': (0.8482688169705928, 1.1319728719300143e-49), 'Mouse39135': (0.7795875866941857, 4.229150180142404e-25), 'Mouse69061': (0.671011582457776, 2.1122208703695573e-14), 'Mouse69071': (0.7885021954789396, 9.720432311465478e-36), 'Mouse69075': (0.815126246882793, 5.600994073762925e-48)}\n"
     ]
    }
   ],
   "source": [
    "y_pred, s = model.predict(oft_X_test,include_scores=True)\n",
    "roc_auc_dict = umc_dt.lpne_auc(y_pred,oft_y_task_test,oft_y_mouse_test)\n",
    "print(\"Test ROC AUCs: \",roc_auc_dict)\n",
    "mw_auc_dict = umc_dt.lpne_auc(y_pred,oft_y_task_test,oft_y_mouse_test,s,True)\n",
    "print(\"Test MW AUCs: \",mw_auc_dict)\n",
    "\n",
    "df = umc_dt.make_projection_csv(OFT_TEST_FILE,model,FEATURE_VECTOR,\n",
    "                    ['y_mouse','y_expDate','y_time','y_Homecage','y_ROI','y_vel'],\n",
    "                    save_file = \".\\\\Final_Projections\\\\{}_MT_onto_OFT_HC_vs_Task_Test_Projection_2022_July_30.csv\".format(NETWORK_CONSTRAINT),\n",
    "                    auc_dict=mw_auc_dict,weights=FEATURE_WEIGHT)"
   ]
  },
  {
   "cell_type": "code",
   "execution_count": 12,
   "metadata": {},
   "outputs": [
    {
     "name": "stdout",
     "output_type": "stream",
     "text": [
      "test mw auc mean: 0.79 +/- 0.02\n"
     ]
    }
   ],
   "source": [
    "y_pred, s = model.predict(oft_X_test,include_scores=True)\n",
    "mw_mean,mw_std = umc_dt.get_mean_std_err_auc(y_pred,oft_y_task_test.astype(bool),oft_y_mouse_test,s,True)\n",
    "print(\"test mw auc mean: %0.2f +/- %0.2f\"%(mw_mean,mw_std))"
   ]
  },
  {
   "cell_type": "markdown",
   "metadata": {},
   "source": [
    "#### OFT ROI Projections"
   ]
  },
  {
   "cell_type": "code",
   "execution_count": 5,
   "metadata": {},
   "outputs": [
    {
     "name": "stderr",
     "output_type": "stream",
     "text": [
      "C:\\Users\\micha\\AppData\\Local\\Temp/ipykernel_8296/2285183967.py:3: RuntimeWarning: invalid value encountered in remainder\n",
      "  roc_auc_dict = umc_dt.lpne_auc(y_pred[oft_y_task_val==1],(oft_y_ROI_val%2==0)[oft_y_task_val==1],oft_y_mouse_val[oft_y_task_val==1])\n",
      "C:\\Users\\micha\\AppData\\Local\\Temp/ipykernel_8296/2285183967.py:5: RuntimeWarning: invalid value encountered in remainder\n",
      "  mw_auc_dict = umc_dt.lpne_auc(y_pred[oft_y_task_val==1],(oft_y_ROI_val%2==0)[oft_y_task_val==1],oft_y_mouse_val[oft_y_task_val==1],s[oft_y_task_val==1],True)\n",
      "C:\\Users\\micha\\AppData\\Local\\Temp/ipykernel_8296/2285183967.py:8: RuntimeWarning: invalid value encountered in remainder\n",
      "  roc_mean,roc_std = umc_dt.get_mean_std_err_auc(y_pred[oft_y_task_val==1],(oft_y_ROI_val%2==0)[oft_y_task_val==1],oft_y_mouse_val[oft_y_task_val==1])\n",
      "C:\\Users\\micha\\AppData\\Local\\Temp/ipykernel_8296/2285183967.py:10: RuntimeWarning: invalid value encountered in remainder\n",
      "  mw_mean,mw_std = umc_dt.get_mean_std_err_auc(y_pred[oft_y_task_val==1],(oft_y_ROI_val%2==0)[oft_y_task_val==1],oft_y_mouse_val[oft_y_task_val==1],s[oft_y_task_val==1],True)\n"
     ]
    },
    {
     "name": "stdout",
     "output_type": "stream",
     "text": [
      "Test ROC AUCs:  {'auc_method': 'sklearn_roc_auc', 'Mouse04193': 0.5128119429590018, 'Mouse39125': 0.5069826491747779, 'Mouse69065': 0.5060068649885584}\n",
      "Test MW AUCs:  {'auc_method': 'mannWhitneyU', 'Mouse04193': (0.49732620320855614, 0.9524586813580205), 'Mouse39125': (0.536923402454507, 0.4827575175146105), 'Mouse69065': (0.5091533180778032, 0.8184147102690822)}\n",
      "test roc auc mean: 0.51 +/- 0.00\n",
      "test mw auc mean: 0.51 +/- 0.01\n"
     ]
    }
   ],
   "source": [
    "#Val\n",
    "y_pred, s = model.predict(oft_X_val,include_scores=True)\n",
    "roc_auc_dict = umc_dt.lpne_auc(y_pred[oft_y_task_val==1],(oft_y_ROI_val%2==0)[oft_y_task_val==1],oft_y_mouse_val[oft_y_task_val==1])\n",
    "print(\"Test ROC AUCs: \",roc_auc_dict)\n",
    "mw_auc_dict = umc_dt.lpne_auc(y_pred[oft_y_task_val==1],(oft_y_ROI_val%2==0)[oft_y_task_val==1],oft_y_mouse_val[oft_y_task_val==1],s[oft_y_task_val==1],True)\n",
    "print(\"Test MW AUCs: \",mw_auc_dict)\n",
    "\n",
    "roc_mean,roc_std = umc_dt.get_mean_std_err_auc(y_pred[oft_y_task_val==1],(oft_y_ROI_val%2==0)[oft_y_task_val==1],oft_y_mouse_val[oft_y_task_val==1])\n",
    "print(\"test roc auc mean: %0.2f +/- %0.2f\"%(roc_mean,roc_std))\n",
    "mw_mean,mw_std = umc_dt.get_mean_std_err_auc(y_pred[oft_y_task_val==1],(oft_y_ROI_val%2==0)[oft_y_task_val==1],oft_y_mouse_val[oft_y_task_val==1],s[oft_y_task_val==1],True)\n",
    "print(\"test mw auc mean: %0.2f +/- %0.2f\"%(mw_mean,mw_std))\n",
    "\n",
    "df = umc_dt.make_projection_csv(OFT_VAL_FILE,model,FEATURE_VECTOR,\n",
    "                    ['y_mouse','y_expDate','y_time','y_Homecage','y_ROI','y_vel'],\n",
    "                    save_file = \".\\\\Final_Projections\\\\{}_MT_onto_OFT_ROI_Val_Projection_2022_Sep_12.csv\".format(NETWORK_CONSTRAINT),\n",
    "                    auc_dict=mw_auc_dict,weights=FEATURE_WEIGHT)"
   ]
  },
  {
   "cell_type": "code",
   "execution_count": 13,
   "metadata": {},
   "outputs": [
    {
     "name": "stderr",
     "output_type": "stream",
     "text": [
      "C:\\Users\\micha\\AppData\\Local\\Temp/ipykernel_5232/551855144.py:2: RuntimeWarning: invalid value encountered in remainder\n",
      "  roc_auc_dict = umc_dt.lpne_auc(y_pred[oft_y_task_test==1],(oft_y_ROI_test%2==0)[oft_y_task_test==1],oft_y_mouse_test[oft_y_task_test==1])\n",
      "C:\\Users\\micha\\AppData\\Local\\Temp/ipykernel_5232/551855144.py:4: RuntimeWarning: invalid value encountered in remainder\n",
      "  mw_auc_dict = umc_dt.lpne_auc(y_pred[oft_y_task_test==1],(oft_y_ROI_test%2==0)[oft_y_task_test==1],oft_y_mouse_test[oft_y_task_test==1],s[oft_y_task_test==1],True)\n",
      "C:\\Users\\micha\\AppData\\Local\\Temp/ipykernel_5232/551855144.py:7: RuntimeWarning: invalid value encountered in remainder\n",
      "  roc_mean,roc_std = umc_dt.get_mean_std_err_auc(y_pred[oft_y_task_test==1],(oft_y_ROI_test%2==0)[oft_y_task_test==1],oft_y_mouse_test[oft_y_task_test==1])\n",
      "C:\\Users\\micha\\AppData\\Local\\Temp/ipykernel_5232/551855144.py:9: RuntimeWarning: invalid value encountered in remainder\n",
      "  mw_mean,mw_std = umc_dt.get_mean_std_err_auc(y_pred[oft_y_task_test==1],(oft_y_ROI_test%2==0)[oft_y_task_test==1],oft_y_mouse_test[oft_y_task_test==1],s[oft_y_task_test==1],True)\n"
     ]
    },
    {
     "name": "stdout",
     "output_type": "stream",
     "text": [
      "Test ROC AUCs:  {'auc_method': 'sklearn_roc_auc', 'Mouse04203': 0.45465268676277854, 'Mouse39115': 0.5110235676273412, 'Mouse39121': 0.510915706488781, 'Mouse39122': 0.46603128054740955, 'Mouse39132': 0.4639198360865668, 'Mouse39135': 0.507748538011696, 'Mouse69061': 0.5163054695562436, 'Mouse69071': 0.528939393939394, 'Mouse69075': 0.4748523944893943}\n",
      "Test MW AUCs:  {'auc_method': 'mannWhitneyU', 'Mouse04203': (0.4486675404106597, 0.31846102258371045), 'Mouse39115': (0.5540811389867993, 0.21298962078054184), 'Mouse39121': (0.4833232261976956, 0.7510205781225469), 'Mouse39122': (0.4179374389051808, 0.040314234632236365), 'Mouse39132': (0.43110513510052506, 0.10181121705308292), 'Mouse39135': (0.526608187134503, 0.5734350843349205), 'Mouse69061': (0.5663054695562435, 0.08935395263444883), 'Mouse69071': (0.5923484848484849, 0.04793212037039578), 'Mouse69075': (0.5376485166557329, 0.394337143143178)}\n",
      "test roc auc mean: 0.49 +/- 0.01\n",
      "test mw auc mean: 0.51 +/- 0.02\n"
     ]
    }
   ],
   "source": [
    "y_pred, s = model.predict(oft_X_test,include_scores=True)\n",
    "roc_auc_dict = umc_dt.lpne_auc(y_pred[oft_y_task_test==1],(oft_y_ROI_test%2==0)[oft_y_task_test==1],oft_y_mouse_test[oft_y_task_test==1])\n",
    "print(\"Test ROC AUCs: \",roc_auc_dict)\n",
    "mw_auc_dict = umc_dt.lpne_auc(y_pred[oft_y_task_test==1],(oft_y_ROI_test%2==0)[oft_y_task_test==1],oft_y_mouse_test[oft_y_task_test==1],s[oft_y_task_test==1],True)\n",
    "print(\"Test MW AUCs: \",mw_auc_dict)\n",
    "\n",
    "roc_mean,roc_std = umc_dt.get_mean_std_err_auc(y_pred[oft_y_task_test==1],(oft_y_ROI_test%2==0)[oft_y_task_test==1],oft_y_mouse_test[oft_y_task_test==1])\n",
    "print(\"test roc auc mean: %0.2f +/- %0.2f\"%(roc_mean,roc_std))\n",
    "mw_mean,mw_std = umc_dt.get_mean_std_err_auc(y_pred[oft_y_task_test==1],(oft_y_ROI_test%2==0)[oft_y_task_test==1],oft_y_mouse_test[oft_y_task_test==1],s[oft_y_task_test==1],True)\n",
    "print(\"test mw auc mean: %0.2f +/- %0.2f\"%(mw_mean,mw_std))\n",
    "\n",
    "df = umc_dt.make_projection_csv(OFT_TEST_FILE,model,FEATURE_VECTOR,\n",
    "                    ['y_mouse','y_expDate','y_time','y_Homecage','y_ROI','y_vel'],\n",
    "                    save_file = \".\\\\Final_Projections\\\\{}_MT_onto_OFT_ROI_Test_Projection_2022_Sep_7.csv\".format(NETWORK_CONSTRAINT),\n",
    "                    auc_dict=mw_auc_dict,weights=FEATURE_WEIGHT)"
   ]
  },
  {
   "cell_type": "markdown",
   "metadata": {},
   "source": [
    "## OFT FLX Projections"
   ]
  },
  {
   "cell_type": "code",
   "execution_count": 5,
   "metadata": {},
   "outputs": [],
   "source": [
    "oft_flx_data_dict = pickle.load(open(OFT_PROJECTION_FILE,\"rb\"))\n"
   ]
  },
  {
   "cell_type": "code",
   "execution_count": 42,
   "metadata": {},
   "outputs": [
    {
     "name": "stdout",
     "output_type": "stream",
     "text": [
      "Mouse3191 _ 110918 [0.]\n",
      "Mouse3191 _ 121218 [0.]\n",
      "Mouse3192 _ 110918 [0.]\n",
      "Mouse3192 _ 121218 [0.]\n",
      "Mouse3193 _ 110918 [0. 1.]\n",
      "Mouse3193 _ 121218 [0.]\n",
      "Mouse3194 _ 110918 [0. 1.]\n",
      "Mouse3194 _ 121218 [0.]\n",
      "Mouse3202 _ 110918 [0.]\n",
      "Mouse3202 _ 121218 []\n",
      "Mouse3203 _ 110918 [0.]\n",
      "Mouse3203 _ 121218 [0. 1.]\n"
     ]
    }
   ],
   "source": [
    "old_oft_flx_data_dict = pickle.load(open(\"G:\\\\Anxiety_Datasets\\\\new_OFT\\\\oft_projection_data.pkl\",\"rb\"))\n",
    "\n",
    "for mouse in np.unique(old_oft_flx_data_dict['y_mouse']):\n",
    "    for expDate in np.unique(old_oft_flx_data_dict['y_expDate']):\n",
    "        #try:\n",
    "        mouse_mask = np.array(old_oft_flx_data_dict['y_mouse'])==mouse\n",
    "        expDate_mask = np.array(old_oft_flx_data_dict['y_expDate'])==expDate\n",
    "\n",
    "        mask = np.logical_and(mouse_mask,expDate_mask)\n",
    "\n",
    "        print(mouse,\"_\",expDate,np.unique(old_oft_flx_data_dict['y_flx'][mask==1]))\n",
    "\n",
    "        #except:\n",
    "        #    print(mouse,expDate,\" skipped\")"
   ]
  },
  {
   "cell_type": "code",
   "execution_count": 27,
   "metadata": {},
   "outputs": [
    {
     "data": {
      "text/plain": [
       "dict_keys(['X', 'y_mouse', 'y_ROI', 'y_flx', 'y_time', 'y_expDate'])"
      ]
     },
     "execution_count": 27,
     "metadata": {},
     "output_type": "execute_result"
    }
   ],
   "source": [
    "old_oft_flx_data_dict.keys()"
   ]
  },
  {
   "cell_type": "code",
   "execution_count": 32,
   "metadata": {},
   "outputs": [],
   "source": [
    "disagreement = old_oft_flx_data_dict['y_flx']==oft_flx_data_dict['y_flx']"
   ]
  },
  {
   "cell_type": "code",
   "execution_count": 34,
   "metadata": {},
   "outputs": [
    {
     "data": {
      "text/plain": [
       "array(['Mouse3191', 'Mouse3192', 'Mouse3193', 'Mouse3194', 'Mouse3202',\n",
       "       'Mouse3203'], dtype='<U9')"
      ]
     },
     "execution_count": 34,
     "metadata": {},
     "output_type": "execute_result"
    }
   ],
   "source": [
    "np.unique(np.array(oft_flx_data_dict['y_mouse'])[disagreement==1])"
   ]
  },
  {
   "cell_type": "code",
   "execution_count": 38,
   "metadata": {},
   "outputs": [
    {
     "data": {
      "text/plain": [
       "array(['Mouse3191_110918', 'Mouse3192_121218', 'Mouse3193_110918',\n",
       "       'Mouse3194_110918', 'Mouse3194_121218', 'Mouse3202_110918',\n",
       "       'Mouse3203_110918', 'Mouse3203_121218'], dtype='<U16')"
      ]
     },
     "execution_count": 38,
     "metadata": {},
     "output_type": "execute_result"
    }
   ],
   "source": [
    "np.unique([mouse +\"_\"+ expDate for mouse,expDate in zip(np.array(oft_flx_data_dict['y_mouse'])[disagreement==1],\n",
    "                                          np.array(oft_flx_data_dict['y_expDate'])[disagreement==1])])"
   ]
  },
  {
   "cell_type": "code",
   "execution_count": null,
   "metadata": {},
   "outputs": [],
   "source": []
  },
  {
   "cell_type": "code",
   "execution_count": 6,
   "metadata": {},
   "outputs": [
    {
     "data": {
      "text/plain": [
       "dict_keys(['X', 'X_power_1_2', 'X_coh_1_2', 'X_gc_1_2', 'y_task', 'y_roi', 'y_vel', 'y_mouse', 'y_time', 'y_flx', 'y_Homecage', 'y_expDate', 'labels'])"
      ]
     },
     "execution_count": 6,
     "metadata": {},
     "output_type": "execute_result"
    }
   ],
   "source": [
    "oft_flx_data_dict.keys()"
   ]
  },
  {
   "cell_type": "code",
   "execution_count": 10,
   "metadata": {},
   "outputs": [
    {
     "data": {
      "text/plain": [
       "(3987, 3584)"
      ]
     },
     "execution_count": 10,
     "metadata": {},
     "output_type": "execute_result"
    }
   ],
   "source": [
    "X_oft_proj.shape"
   ]
  },
  {
   "cell_type": "code",
   "execution_count": 19,
   "metadata": {},
   "outputs": [
    {
     "data": {
      "text/plain": [
       "array(['Mouse3191', 'Mouse3192', 'Mouse3193', 'Mouse3194', 'Mouse3202',\n",
       "       'Mouse3203'], dtype='<U9')"
      ]
     },
     "execution_count": 19,
     "metadata": {},
     "output_type": "execute_result"
    }
   ],
   "source": [
    "np.unique(y_mouse[y_flx==0])"
   ]
  },
  {
   "cell_type": "code",
   "execution_count": 24,
   "metadata": {},
   "outputs": [
    {
     "name": "stderr",
     "output_type": "stream",
     "text": [
      "C:\\Users\\micha\\AppData\\Local\\Temp/ipykernel_4220/1310316917.py:6: RuntimeWarning: invalid value encountered in remainder\n",
      "  y_ROI = oft_flx_data_dict['y_roi']%2==0\n"
     ]
    },
    {
     "name": "stdout",
     "output_type": "stream",
     "text": [
      "roi ROC AUCs:  {'auc_method': 'sklearn_roc_auc', 'Mouse3191': 0.44621993127147763, 'Mouse3192': 0.37873226862414444, 'Mouse3193': 0.4666633769456351, 'Mouse3194': 0.550529405144277, 'Mouse3202': 0.5367294204503508, 'Mouse3203': 0.45963726884779516}\n",
      "roi MW AUCs:  {'auc_method': 'mannWhitneyU', 'Mouse3191': (0.4184803360061092, 0.010514417739702119), 'Mouse3192': (0.37565717686737427, 0.08030531028145006), 'Mouse3193': (0.44973071283555155, 0.01909245843179857), 'Mouse3194': (0.5439583748171106, 0.0627093785847487), 'Mouse3202': (0.582687338501292, 0.08325370181813306), 'Mouse3203': (0.42472197077460233, 0.021196993930273342)}\n",
      "roi roc auc mean: 0.47 +/- 0.03\n",
      "roi mw auc mean: 0.47 +/- 0.03\n"
     ]
    },
    {
     "name": "stderr",
     "output_type": "stream",
     "text": [
      "c:\\Users\\micha\\Anaconda3\\envs\\cpne\\lib\\site-packages\\sklearn\\metrics\\_ranking.py:999: UndefinedMetricWarning: No positive samples in y_true, true positive value should be meaningless\n",
      "  warnings.warn(\n",
      "c:\\Users\\micha\\Anaconda3\\envs\\cpne\\lib\\site-packages\\sklearn\\metrics\\_ranking.py:999: UndefinedMetricWarning: No positive samples in y_true, true positive value should be meaningless\n",
      "  warnings.warn(\n",
      "c:\\Users\\micha\\Anaconda3\\envs\\cpne\\lib\\site-packages\\sklearn\\metrics\\_ranking.py:999: UndefinedMetricWarning: No positive samples in y_true, true positive value should be meaningless\n",
      "  warnings.warn(\n",
      "c:\\Users\\micha\\Anaconda3\\envs\\cpne\\lib\\site-packages\\sklearn\\metrics\\_ranking.py:999: UndefinedMetricWarning: No positive samples in y_true, true positive value should be meaningless\n",
      "  warnings.warn(\n"
     ]
    },
    {
     "name": "stdout",
     "output_type": "stream",
     "text": [
      "flx ROC AUCs:  {'auc_method': 'sklearn_roc_auc', 'Mouse3191': 0.3879717441361277, 'Mouse3192': 0.5579920260964117, 'Mouse3193': 0.33641908668897763, 'Mouse3194': 0.3958742756361804, 'Mouse3202': nan, 'Mouse3203': nan}\n",
      "Mouse  Mouse3202  has only one class - AUC cannot be calculated\n",
      "n_positive samples  0\n",
      "n_negative samples  299\n",
      "Mouse  Mouse3203  has only one class - AUC cannot be calculated\n",
      "n_positive samples  0\n",
      "n_negative samples  810\n",
      "flx MW AUCs:  {'auc_method': 'mannWhitneyU', 'Mouse3191': (0.37658548959918825, 6.923679130517586e-08), 'Mouse3192': (0.5677278401997503, 0.003370786369465205), 'Mouse3193': (0.2794653460002159, 1.0278670821690663e-25), 'Mouse3194': (0.4202317964222726, 0.0001150150294577975), 'Mouse3202': (nan, nan), 'Mouse3203': (nan, nan)}\n",
      "flx roc auc mean: 0.42 +/- 0.05\n",
      "Mouse  Mouse3202  has only one class - AUC cannot be calculated\n",
      "n_positive samples  0\n",
      "n_negative samples  299\n",
      "Mouse  Mouse3203  has only one class - AUC cannot be calculated\n",
      "n_positive samples  0\n",
      "n_negative samples  810\n",
      "flx mw auc mean: 0.41 +/- 0.06\n"
     ]
    }
   ],
   "source": [
    "\n",
    "X_oft_proj = np.hstack([10*oft_flx_data_dict['X_power_1_2'],oft_flx_data_dict['X_coh_1_2'],oft_flx_data_dict['X_gc_1_2']])\n",
    "X_oft_proj = oft_flx_data_dict['X']\n",
    "X_oft_proj[:,:448] = 10*X_oft_proj[:,:448]\n",
    "y_flx = oft_flx_data_dict['y_flx']\n",
    "task_nan_mask = oft_flx_data_dict['y_task']\n",
    "y_ROI = oft_flx_data_dict['y_roi']%2==0\n",
    "y_time = oft_flx_data_dict['y_time']\n",
    "y_mouse = np.array(oft_flx_data_dict['y_mouse'])\n",
    "\n",
    "save_dict = {}\n",
    "\n",
    "#ROI Projection\n",
    "y_pred, s = model.predict(X_oft_proj,include_scores=True)\n",
    "roc_auc_dict = umc_dt.lpne_auc(y_pred[task_nan_mask==1],(y_ROI%2==0)[task_nan_mask==1],y_mouse[task_nan_mask==1])\n",
    "print(\"roi ROC AUCs: \",roc_auc_dict)\n",
    "mw_auc_dict = umc_dt.lpne_auc(y_pred[task_nan_mask==1],(y_ROI%2==0)[task_nan_mask==1],y_mouse[task_nan_mask==1],s[task_nan_mask==1],True)\n",
    "print(\"roi MW AUCs: \",mw_auc_dict)\n",
    "\n",
    "roc_mean,roc_std = umc_dt.get_mean_std_err_auc(y_pred[task_nan_mask==1],(y_ROI%2==0)[task_nan_mask==1],y_mouse[task_nan_mask==1])\n",
    "print(\"roi roc auc mean: %0.2f +/- %0.2f\"%(roc_mean,roc_std))\n",
    "mw_mean,mw_std = umc_dt.get_mean_std_err_auc(y_pred[task_nan_mask==1],(y_ROI%2==0)[task_nan_mask==1],y_mouse[task_nan_mask==1],s[task_nan_mask==1],True)\n",
    "print(\"roi mw auc mean: %0.2f +/- %0.2f\"%(mw_mean,mw_std))\n",
    "\n",
    "auc_array = np.ones(len(y_mouse))*np.nan\n",
    "p_val_array = np.ones(len(y_mouse))*np.nan\n",
    "\n",
    "for mouse in mw_auc_dict.keys() - ['auc_method']:\n",
    "    mask = y_mouse==mouse\n",
    "    auc_array[mask==1] = mw_auc_dict[mouse][0]\n",
    "    p_val_array[mask==1]= mw_auc_dict[mouse][1]\n",
    "\n",
    "save_dict['roi auc'] = auc_array\n",
    "save_dict['roi p_val'] = p_val_array\n",
    "\n",
    "\n",
    "#FLX Projection\n",
    "y_pred, s = model.predict(X_oft_proj,include_scores=True)\n",
    "roc_auc_dict = umc_dt.lpne_auc(y_pred,y_flx,y_mouse)\n",
    "print(\"flx ROC AUCs: \",roc_auc_dict)\n",
    "mw_auc_dict = umc_dt.lpne_auc(y_pred,y_flx,y_mouse,s,True)\n",
    "print(\"flx MW AUCs: \",mw_auc_dict)\n",
    "\n",
    "roc_mean,roc_std = umc_dt.get_mean_std_err_auc(y_pred,y_flx,y_mouse)\n",
    "print(\"flx roc auc mean: %0.2f +/- %0.2f\"%(roc_mean,roc_std))\n",
    "mw_mean,mw_std = umc_dt.get_mean_std_err_auc(y_pred,y_flx,y_mouse,s,True)\n",
    "print(\"flx mw auc mean: %0.2f +/- %0.2f\"%(mw_mean,mw_std))\n",
    "\n",
    "auc_array = np.ones(len(y_mouse))*np.nan\n",
    "p_val_array = np.ones(len(y_mouse))*np.nan\n",
    "\n",
    "for mouse in mw_auc_dict.keys() - ['auc_method']:\n",
    "    mask = y_mouse==mouse\n",
    "    auc_array[mask==1] = mw_auc_dict[mouse][0]\n",
    "    p_val_array[mask==1]= mw_auc_dict[mouse][1]\n",
    "\n",
    "save_dict['flx auc'] = auc_array\n",
    "save_dict['flx p_val'] = p_val_array\n",
    "\n",
    "\n",
    "save_dict['scores'] = s[:,0]\n",
    "\n",
    "saveFeatures = ['y_mouse','y_time','y_flx','y_roi','y_vel','y_expDate']\n",
    "\n",
    "for feature in saveFeatures:\n",
    "    save_dict[feature] = oft_flx_data_dict[feature]\n",
    "\n",
    "\n",
    "df = pd.DataFrame.from_dict(save_dict)\n",
    "df.to_csv(\"MT_onto_New_OFT_FLX_Projection.csv\",index=False,header=True)"
   ]
  },
  {
   "cell_type": "code",
   "execution_count": 20,
   "metadata": {},
   "outputs": [
    {
     "data": {
      "text/html": [
       "<div>\n",
       "<style scoped>\n",
       "    .dataframe tbody tr th:only-of-type {\n",
       "        vertical-align: middle;\n",
       "    }\n",
       "\n",
       "    .dataframe tbody tr th {\n",
       "        vertical-align: top;\n",
       "    }\n",
       "\n",
       "    .dataframe thead th {\n",
       "        text-align: right;\n",
       "    }\n",
       "</style>\n",
       "<table border=\"1\" class=\"dataframe\">\n",
       "  <thead>\n",
       "    <tr style=\"text-align: right;\">\n",
       "      <th></th>\n",
       "      <th>roi auc</th>\n",
       "      <th>roi p_val</th>\n",
       "      <th>flx auc</th>\n",
       "      <th>flx p_val</th>\n",
       "      <th>scores</th>\n",
       "      <th>y_mouse</th>\n",
       "      <th>y_time</th>\n",
       "      <th>y_flx</th>\n",
       "      <th>y_roi</th>\n",
       "      <th>y_vel</th>\n",
       "    </tr>\n",
       "  </thead>\n",
       "  <tbody>\n",
       "    <tr>\n",
       "      <th>0</th>\n",
       "      <td>0.41848</td>\n",
       "      <td>0.010514</td>\n",
       "      <td>0.376585</td>\n",
       "      <td>6.923679e-08</td>\n",
       "      <td>0.034035</td>\n",
       "      <td>Mouse3191</td>\n",
       "      <td>1</td>\n",
       "      <td>0.0</td>\n",
       "      <td>NaN</td>\n",
       "      <td>NaN</td>\n",
       "    </tr>\n",
       "    <tr>\n",
       "      <th>1</th>\n",
       "      <td>0.41848</td>\n",
       "      <td>0.010514</td>\n",
       "      <td>0.376585</td>\n",
       "      <td>6.923679e-08</td>\n",
       "      <td>0.136688</td>\n",
       "      <td>Mouse3191</td>\n",
       "      <td>2</td>\n",
       "      <td>0.0</td>\n",
       "      <td>NaN</td>\n",
       "      <td>NaN</td>\n",
       "    </tr>\n",
       "    <tr>\n",
       "      <th>2</th>\n",
       "      <td>0.41848</td>\n",
       "      <td>0.010514</td>\n",
       "      <td>0.376585</td>\n",
       "      <td>6.923679e-08</td>\n",
       "      <td>0.080212</td>\n",
       "      <td>Mouse3191</td>\n",
       "      <td>3</td>\n",
       "      <td>0.0</td>\n",
       "      <td>NaN</td>\n",
       "      <td>NaN</td>\n",
       "    </tr>\n",
       "    <tr>\n",
       "      <th>3</th>\n",
       "      <td>0.41848</td>\n",
       "      <td>0.010514</td>\n",
       "      <td>0.376585</td>\n",
       "      <td>6.923679e-08</td>\n",
       "      <td>0.077651</td>\n",
       "      <td>Mouse3191</td>\n",
       "      <td>22</td>\n",
       "      <td>0.0</td>\n",
       "      <td>0.0</td>\n",
       "      <td>NaN</td>\n",
       "    </tr>\n",
       "    <tr>\n",
       "      <th>4</th>\n",
       "      <td>0.41848</td>\n",
       "      <td>0.010514</td>\n",
       "      <td>0.376585</td>\n",
       "      <td>6.923679e-08</td>\n",
       "      <td>0.112465</td>\n",
       "      <td>Mouse3191</td>\n",
       "      <td>23</td>\n",
       "      <td>0.0</td>\n",
       "      <td>0.0</td>\n",
       "      <td>NaN</td>\n",
       "    </tr>\n",
       "  </tbody>\n",
       "</table>\n",
       "</div>"
      ],
      "text/plain": [
       "   roi auc  roi p_val   flx auc     flx p_val    scores    y_mouse  y_time  \\\n",
       "0  0.41848   0.010514  0.376585  6.923679e-08  0.034035  Mouse3191       1   \n",
       "1  0.41848   0.010514  0.376585  6.923679e-08  0.136688  Mouse3191       2   \n",
       "2  0.41848   0.010514  0.376585  6.923679e-08  0.080212  Mouse3191       3   \n",
       "3  0.41848   0.010514  0.376585  6.923679e-08  0.077651  Mouse3191      22   \n",
       "4  0.41848   0.010514  0.376585  6.923679e-08  0.112465  Mouse3191      23   \n",
       "\n",
       "   y_flx  y_roi  y_vel  \n",
       "0    0.0    NaN    NaN  \n",
       "1    0.0    NaN    NaN  \n",
       "2    0.0    NaN    NaN  \n",
       "3    0.0    0.0    NaN  \n",
       "4    0.0    0.0    NaN  "
      ]
     },
     "execution_count": 20,
     "metadata": {},
     "output_type": "execute_result"
    }
   ],
   "source": [
    "df.head()"
   ]
  },
  {
   "cell_type": "code",
   "execution_count": 25,
   "metadata": {},
   "outputs": [
    {
     "data": {
      "text/plain": [
       "{'auc_method': 'mannWhitneyU',\n",
       " 'Mouse3191': (0.37658548959918825, 6.923679130517586e-08),\n",
       " 'Mouse3192': (0.5677278401997503, 0.003370786369465205),\n",
       " 'Mouse3193': (0.2794653460002159, 1.0278670821690663e-25),\n",
       " 'Mouse3194': (0.4202317964222726, 0.0001150150294577975),\n",
       " 'Mouse3202': (nan, nan),\n",
       " 'Mouse3203': (nan, nan)}"
      ]
     },
     "execution_count": 25,
     "metadata": {},
     "output_type": "execute_result"
    }
   ],
   "source": [
    "mw_auc_dict"
   ]
  },
  {
   "cell_type": "code",
   "execution_count": null,
   "metadata": {},
   "outputs": [],
   "source": []
  }
 ],
 "metadata": {
  "kernelspec": {
   "display_name": "Python 3 (ipykernel)",
   "language": "python",
   "name": "python3"
  },
  "language_info": {
   "codemirror_mode": {
    "name": "ipython",
    "version": 3
   },
   "file_extension": ".py",
   "mimetype": "text/x-python",
   "name": "python",
   "nbconvert_exporter": "python",
   "pygments_lexer": "ipython3",
   "version": "3.7.13"
  },
  "vscode": {
   "interpreter": {
    "hash": "e7fcc668915e92e9e68f231fbede55b84f4413bfe6d4c43e44892e9f909bca93"
   }
  }
 },
 "nbformat": 4,
 "nbformat_minor": 4
}

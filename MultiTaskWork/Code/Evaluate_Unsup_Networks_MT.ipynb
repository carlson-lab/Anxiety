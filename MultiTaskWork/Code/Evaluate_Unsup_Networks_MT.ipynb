{
 "cells": [
  {
   "cell_type": "code",
   "execution_count": 4,
   "id": "ea0290a2-8761-4157-8e2b-363c4f12ade4",
   "metadata": {},
   "outputs": [
    {
     "name": "stdout",
     "output_type": "stream",
     "text": [
      "Using device: cuda:0\n"
     ]
    }
   ],
   "source": [
    "import pickle\n",
    "import numpy as np\n",
    "import torch\n",
    "import matplotlib.pyplot as plt\n",
    "import os\n",
    "import sys\n",
    "import sklearn\n",
    "from sklearn.model_selection import train_test_split\n",
    "from sklearn.preprocessing import OneHotEncoder\n",
    "import pandas as pd\n",
    "\n",
    "FEATURE_LIST = ['X_power_1_2','X_coh_1_2','X_gc_1_2']\n",
    "FEATURE_VECTOR = FEATURE_LIST\n",
    "\n",
    "UMC_PATH = \"/hpc/home/mk423/Anxiety/Universal-Mouse-Code/\"\n",
    "DATA_PATH = \"/work/mk423/Anxiety/Anxiety_Network_Generation_Data.pkl\"\n",
    "MODEL_PATH = \"../Models/\"\n",
    "MT_MODEL_PATH = MODEL_PATH + \"Positive_MT_10_res_loss_10_power_features.pt\"\n",
    "sys.path.append(UMC_PATH)\n",
    "sys.path.append(DATA_PATH)\n",
    "\n",
    "#from dCSFA_model import dCSFA_model\n",
    "import umc_data_tools as umc_dt\n",
    "from dCSFA_NMF import dCSFA_NMF\n",
    "\n",
    "if torch.cuda.is_available():\n",
    "    device=\"cuda:0\"\n",
    "else:\n",
    "    device=\"cpu\"\n",
    "\n",
    "\n",
    "print(\"Using device: %s\"%(device))\n",
    "\n",
    "#For Consistency\n",
    "RANDOM_STATE=42"
   ]
  },
  {
   "cell_type": "code",
   "execution_count": 5,
   "id": "85d401e4-6c1a-4562-ab46-2922fed97ebc",
   "metadata": {},
   "outputs": [
    {
     "data": {
      "text/plain": [
       "dCSFA_NMF(\n",
       "  (recon_loss_f): MSELoss()\n",
       "  (Encoder): Sequential(\n",
       "    (0): Linear(in_features=5152, out_features=256, bias=True)\n",
       "    (1): BatchNorm1d(256, eps=1e-05, momentum=0.1, affine=True, track_running_stats=True)\n",
       "    (2): LeakyReLU(negative_slope=0.01)\n",
       "    (3): Linear(in_features=256, out_features=20, bias=True)\n",
       "    (4): Softplus(beta=1, threshold=20)\n",
       "  )\n",
       ")"
      ]
     },
     "execution_count": 5,
     "metadata": {},
     "output_type": "execute_result"
    }
   ],
   "source": [
    "with open(DATA_PATH,\"rb\") as f:\n",
    "    dataDict = pickle.load(f)\n",
    "\n",
    "model = torch.load(MT_MODEL_PATH,map_location='cpu')\n",
    "model.device = \"cpu\"\n",
    "model.eval()"
   ]
  },
  {
   "cell_type": "code",
   "execution_count": 7,
   "id": "0635dcc7-8fd6-40cc-8d70-2aa88e8f00d0",
   "metadata": {},
   "outputs": [],
   "source": [
    "X_train = dataDict['X_train']\n",
    "y_train = dataDict['y_train']\n",
    "y_mouse_train = dataDict['y_mouse_train']\n",
    "y_exp_train = dataDict['y_exp_train']\n",
    "\n",
    "X_val = dataDict['X_val']\n",
    "y_val = dataDict['y_val']\n",
    "y_mouse_val = dataDict['y_mouse_val']\n",
    "y_exp_val = dataDict['y_exp_val']\n",
    "\n",
    "X_test = dataDict['X_test']\n",
    "y_test = dataDict['y_test']\n",
    "y_mouse_test = dataDict['y_mouse_test']\n",
    "y_exp_test = dataDict['y_exp_test']"
   ]
  },
  {
   "cell_type": "code",
   "execution_count": 9,
   "id": "08f17302-371c-41b6-a7f3-f5b38b6dd9ec",
   "metadata": {},
   "outputs": [],
   "source": [
    "y_pred, s = model.transform(X_test,None)[2:]"
   ]
  },
  {
   "cell_type": "code",
   "execution_count": 16,
   "id": "3f8bcaa8-e009-4a76-bba5-deba7db04d7d",
   "metadata": {},
   "outputs": [
    {
     "name": "stdout",
     "output_type": "stream",
     "text": [
      "Mouse  Mouse99002  has only one class - AUC cannot be calculated\n",
      "n_positive samples  1890\n",
      "n_negative samples  0\n",
      "Mouse  Mouse99021  has only one class - AUC cannot be calculated\n",
      "n_positive samples  2025\n",
      "n_negative samples  0\n",
      "Mouse  Mouse99002  has only one class - AUC cannot be calculated\n",
      "n_positive samples  1890\n",
      "n_negative samples  0\n",
      "Mouse  Mouse99021  has only one class - AUC cannot be calculated\n",
      "n_positive samples  2025\n",
      "n_negative samples  0\n",
      "Mouse  Mouse99002  has only one class - AUC cannot be calculated\n",
      "n_positive samples  1890\n",
      "n_negative samples  0\n",
      "Mouse  Mouse99021  has only one class - AUC cannot be calculated\n",
      "n_positive samples  2025\n",
      "n_negative samples  0\n",
      "Mouse  Mouse99002  has only one class - AUC cannot be calculated\n",
      "n_positive samples  1890\n",
      "n_negative samples  0\n",
      "Mouse  Mouse99021  has only one class - AUC cannot be calculated\n",
      "n_positive samples  2025\n",
      "n_negative samples  0\n",
      "Mouse  Mouse99002  has only one class - AUC cannot be calculated\n",
      "n_positive samples  1890\n",
      "n_negative samples  0\n",
      "Mouse  Mouse99021  has only one class - AUC cannot be calculated\n",
      "n_positive samples  2025\n",
      "n_negative samples  0\n",
      "Mouse  Mouse99002  has only one class - AUC cannot be calculated\n",
      "n_positive samples  1890\n",
      "n_negative samples  0\n",
      "Mouse  Mouse99021  has only one class - AUC cannot be calculated\n",
      "n_positive samples  2025\n",
      "n_negative samples  0\n"
     ]
    },
    {
     "name": "stderr",
     "output_type": "stream",
     "text": [
      "/hpc/home/mk423/Anxiety/Universal-Mouse-Code/umc_data_tools.py:274: RuntimeWarning: invalid value encountered in double_scalars\n",
      "  std = np.std(auc_list) / np.sqrt(len(auc_list)-1)\n"
     ]
    },
    {
     "name": "stdout",
     "output_type": "stream",
     "text": [
      "Mouse  Mouse99002  has only one class - AUC cannot be calculated\n",
      "n_positive samples  1890\n",
      "n_negative samples  0\n",
      "Mouse  Mouse99021  has only one class - AUC cannot be calculated\n",
      "n_positive samples  2025\n",
      "n_negative samples  0\n",
      "Mouse  Mouse99002  has only one class - AUC cannot be calculated\n",
      "n_positive samples  1890\n",
      "n_negative samples  0\n",
      "Mouse  Mouse99021  has only one class - AUC cannot be calculated\n",
      "n_positive samples  2025\n",
      "n_negative samples  0\n",
      "Mouse  Mouse99002  has only one class - AUC cannot be calculated\n",
      "n_positive samples  1890\n",
      "n_negative samples  0\n",
      "Mouse  Mouse99021  has only one class - AUC cannot be calculated\n",
      "n_positive samples  2025\n",
      "n_negative samples  0\n",
      "Mouse  Mouse99002  has only one class - AUC cannot be calculated\n",
      "n_positive samples  1890\n",
      "n_negative samples  0\n",
      "Mouse  Mouse99021  has only one class - AUC cannot be calculated\n",
      "n_positive samples  2025\n",
      "n_negative samples  0\n",
      "Mouse  Mouse99002  has only one class - AUC cannot be calculated\n",
      "n_positive samples  1890\n",
      "n_negative samples  0\n",
      "Mouse  Mouse99021  has only one class - AUC cannot be calculated\n",
      "n_positive samples  2025\n",
      "n_negative samples  0\n",
      "Mouse  Mouse99002  has only one class - AUC cannot be calculated\n",
      "n_positive samples  1890\n",
      "n_negative samples  0\n",
      "Mouse  Mouse99021  has only one class - AUC cannot be calculated\n",
      "n_positive samples  2025\n",
      "n_negative samples  0\n",
      "Mouse  Mouse99002  has only one class - AUC cannot be calculated\n",
      "n_positive samples  1890\n",
      "n_negative samples  0\n",
      "Mouse  Mouse99021  has only one class - AUC cannot be calculated\n",
      "n_positive samples  2025\n",
      "n_negative samples  0\n",
      "Mouse  Mouse99002  has only one class - AUC cannot be calculated\n",
      "n_positive samples  1890\n",
      "n_negative samples  0\n",
      "Mouse  Mouse99021  has only one class - AUC cannot be calculated\n",
      "n_positive samples  2025\n",
      "n_negative samples  0\n",
      "Mouse  Mouse99002  has only one class - AUC cannot be calculated\n",
      "n_positive samples  1890\n",
      "n_negative samples  0\n",
      "Mouse  Mouse99021  has only one class - AUC cannot be calculated\n",
      "n_positive samples  2025\n",
      "n_negative samples  0\n",
      "Mouse  Mouse99002  has only one class - AUC cannot be calculated\n",
      "n_positive samples  1890\n",
      "n_negative samples  0\n",
      "Mouse  Mouse99021  has only one class - AUC cannot be calculated\n",
      "n_positive samples  2025\n",
      "n_negative samples  0\n",
      "Mouse  Mouse99002  has only one class - AUC cannot be calculated\n",
      "n_positive samples  1890\n",
      "n_negative samples  0\n",
      "Mouse  Mouse99021  has only one class - AUC cannot be calculated\n",
      "n_positive samples  2025\n",
      "n_negative samples  0\n",
      "Mouse  Mouse99002  has only one class - AUC cannot be calculated\n",
      "n_positive samples  1890\n",
      "n_negative samples  0\n",
      "Mouse  Mouse99021  has only one class - AUC cannot be calculated\n",
      "n_positive samples  2025\n",
      "n_negative samples  0\n",
      "Mouse  Mouse99002  has only one class - AUC cannot be calculated\n",
      "n_positive samples  1890\n",
      "n_negative samples  0\n",
      "Mouse  Mouse99021  has only one class - AUC cannot be calculated\n",
      "n_positive samples  2025\n",
      "n_negative samples  0\n",
      "Mouse  Mouse99002  has only one class - AUC cannot be calculated\n",
      "n_positive samples  1890\n",
      "n_negative samples  0\n",
      "Mouse  Mouse99021  has only one class - AUC cannot be calculated\n",
      "n_positive samples  2025\n",
      "n_negative samples  0\n"
     ]
    }
   ],
   "source": [
    "results_dict = {\n",
    "            \"epm-mean\":[],\n",
    "            \"flx-mean\":[],\n",
    "            \"oft-mean\":[],\n",
    "    \n",
    "            \"epm-sterr\":[],\n",
    "            \"flx-sterr\":[],\n",
    "            \"oft-sterr\":[],\n",
    "    \n",
    "            \"network\":[],\n",
    "}\n",
    "for i in range(20):\n",
    "    for exp in ['epm','flx','oft']:\n",
    "        \n",
    "        mw_mean, mw_std = umc_dt.get_mean_std_err_auc(y_pred[y_exp_test==exp],y_test[y_exp_test==exp],\n",
    "                                                      y_mouse_test[y_exp_test==exp],s[y_exp_test==exp,i].reshape(-1,1),True)\n",
    "        \n",
    "        results_dict[exp + \"-mean\"].append(mw_mean)\n",
    "        results_dict[exp + \"-sterr\"].append(mw_std)\n",
    "    \n",
    "    results_dict[\"network\"].append(i)"
   ]
  },
  {
   "cell_type": "code",
   "execution_count": 18,
   "id": "e494f11c-ef76-445f-8f0a-8c3011a30826",
   "metadata": {},
   "outputs": [],
   "source": [
    "df = pd.DataFrame.from_dict(results_dict)\n",
    "df.to_csv(\"../Validations/all_network_aucs.csv\")"
   ]
  },
  {
   "cell_type": "code",
   "execution_count": null,
   "id": "8fd863dd-0ae6-4859-b915-11213f95c29f",
   "metadata": {},
   "outputs": [],
   "source": []
  }
 ],
 "metadata": {
  "kernelspec": {
   "display_name": "Python 3 (ipykernel)",
   "language": "python",
   "name": "python3"
  },
  "language_info": {
   "codemirror_mode": {
    "name": "ipython",
    "version": 3
   },
   "file_extension": ".py",
   "mimetype": "text/x-python",
   "name": "python",
   "nbconvert_exporter": "python",
   "pygments_lexer": "ipython3",
   "version": "3.7.13"
  }
 },
 "nbformat": 4,
 "nbformat_minor": 5
}

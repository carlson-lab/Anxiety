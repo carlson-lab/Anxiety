{
 "cells": [
  {
   "cell_type": "code",
   "execution_count": 1,
   "id": "dcb53384-315e-488d-9a7c-30a4b7d706e9",
   "metadata": {},
   "outputs": [],
   "source": [
    "DATA_LOCATION = \"/work/mk423/Anxiety/\"\n",
    "UMC_PATH = \"/hpc/home/mk423/Anxiety/Universal-Mouse-Code/\"\n",
    "MODEL_PATH = \"../Models/\"\n",
    "data_file = \"ChR2_pickle_file.pkl\"\n",
    "\n",
    "FEATURE_LIST = ['X_psd','X_coh','X_gc']\n",
    "FEATURE_VECTOR = FEATURE_LIST\n",
    "FEATURE_WEIGHT = [10,1,1]\n",
    "\n",
    "MT_MODEL_PATH = MODEL_PATH + \"Positive_MT_10_res_loss_10_power_features.pt\"\n",
    "PROJECTION_SAVE_PATH = \"/hpc/home/mk423/Anxiety/MultiTaskWork/Projections/holdoutExperiments/\"\n",
    "\n",
    "TRAIN = False\n",
    "PROJ_TEST = True"
   ]
  },
  {
   "cell_type": "code",
   "execution_count": 2,
   "id": "5dc23d6f-c639-4d1c-892b-e089fd346119",
   "metadata": {},
   "outputs": [
    {
     "name": "stderr",
     "output_type": "stream",
     "text": [
      "/opt/conda/lib/python3.7/site-packages/tqdm/auto.py:22: TqdmWarning: IProgress not found. Please update jupyter and ipywidgets. See https://ipywidgets.readthedocs.io/en/stable/user_install.html\n",
      "  from .autonotebook import tqdm as notebook_tqdm\n"
     ]
    },
    {
     "name": "stdout",
     "output_type": "stream",
     "text": [
      "Using device: cuda:0\n"
     ]
    },
    {
     "data": {
      "text/plain": [
       "dCSFA_NMF(\n",
       "  (recon_loss_f): MSELoss()\n",
       "  (Encoder): Sequential(\n",
       "    (0): Linear(in_features=5152, out_features=256, bias=True)\n",
       "    (1): BatchNorm1d(256, eps=1e-05, momentum=0.1, affine=True, track_running_stats=True)\n",
       "    (2): LeakyReLU(negative_slope=0.01)\n",
       "    (3): Linear(in_features=256, out_features=20, bias=True)\n",
       "    (4): Softplus(beta=1, threshold=20)\n",
       "  )\n",
       ")"
      ]
     },
     "execution_count": 2,
     "metadata": {},
     "output_type": "execute_result"
    }
   ],
   "source": [
    "import pickle\n",
    "import numpy as np\n",
    "import torch\n",
    "import matplotlib.pyplot as plt\n",
    "import os\n",
    "import sys\n",
    "import sklearn\n",
    "from sklearn.model_selection import train_test_split\n",
    "from sklearn.metrics import roc_auc_score\n",
    "from sklearn.preprocessing import OneHotEncoder\n",
    "import pandas as pd\n",
    "sys.path.append(UMC_PATH)\n",
    "sys.path.append(PROJECTION_SAVE_PATH)\n",
    "#from dCSFA_model import dCSFA_model\n",
    "import umc_data_tools as umc_dt\n",
    "from dCSFA_NMF import dCSFA_NMF\n",
    "\n",
    "if torch.cuda.is_available():\n",
    "    device=\"cuda:0\"\n",
    "else:\n",
    "    device=\"cpu\"\n",
    "\n",
    "\n",
    "print(\"Using device: %s\"%(device))\n",
    "\n",
    "#For Consistency\n",
    "RANDOM_STATE=42\n",
    "\n",
    "import pandas as pd\n",
    "\n",
    "model = torch.load(MT_MODEL_PATH,map_location='cpu')\n",
    "model.device = \"cpu\"\n",
    "model.eval()"
   ]
  },
  {
   "cell_type": "code",
   "execution_count": 3,
   "id": "8e44a624-fe23-46ca-98c3-940a7f7c378c",
   "metadata": {},
   "outputs": [],
   "source": [
    "dataDict = pickle.load(open(DATA_LOCATION + data_file,\"rb\"))\n",
    "\n",
    "X = np.hstack([weight*dataDict[feature] for weight,feature in zip(FEATURE_WEIGHT,FEATURE_LIST)])\n",
    "y_time = dataDict['y_time']\n",
    "y_mouse = np.array(dataDict['y_mouse'])\n",
    "y_expDate = dataDict['y_expDate']\n",
    "y_BLaser = np.array(dataDict['y_BLaser'])\n",
    "y_YLaser = np.array(dataDict['y_YLaser'])\n",
    "\n",
    "y_Laser = np.logical_or(y_BLaser,y_YLaser)"
   ]
  },
  {
   "cell_type": "code",
   "execution_count": 4,
   "id": "6e064107-c72f-412c-99ae-96ea0d902a04",
   "metadata": {},
   "outputs": [],
   "source": [
    "y_pred,s = model.transform(X,None)[2:]"
   ]
  },
  {
   "cell_type": "code",
   "execution_count": 5,
   "id": "8a913887-29f7-41f0-95c7-9df67616e4e1",
   "metadata": {},
   "outputs": [],
   "source": [
    "#Get per mouse average scores, average scores in HC and average scores in EPM\n",
    "mouse_list = []\n",
    "avg_laser_list = []\n",
    "avg_BLaser_list = []\n",
    "avg_YLaser_list = []\n",
    "\n",
    "for mouse in np.unique(y_mouse):\n",
    "    mouse_mask = y_mouse==mouse\n",
    "    mouse_and_laser = np.logical_and(mouse_mask,y_Laser)\n",
    "    mouse_and_BLaser = np.logical_and(mouse_mask,y_BLaser)\n",
    "    mouse_and_YLaser = np.logical_and(mouse_mask,y_YLaser)\n",
    "    \n",
    "    avg_laser_score = np.mean(s[mouse_and_laser==1,0])\n",
    "    avg_BLaser_score = np.mean(s[mouse_and_BLaser==1,0])\n",
    "    avg_YLaser_score = np.mean(s[mouse_and_YLaser==1,0])\n",
    "    \n",
    "    mouse_list.append(mouse)\n",
    "    avg_laser_list.append(avg_laser_score)\n",
    "    avg_BLaser_list.append(avg_BLaser_score)\n",
    "    avg_YLaser_list.append(avg_YLaser_score)\n",
    "    \n",
    "\n",
    "proj_dict = {\n",
    "    \"mouse\":mouse_list,\n",
    "    \"avgLaserScore\":avg_laser_list,\n",
    "    \"avgBLaserScore\":avg_BLaser_list,\n",
    "    \"avgYLaserScore\":avg_YLaser_list\n",
    "}\n",
    "df_projections = pd.DataFrame.from_dict(proj_dict)\n",
    "\n",
    "df_projections.to_csv(PROJECTION_SAVE_PATH + \"ChR2_mean_scores.csv\")"
   ]
  },
  {
   "cell_type": "code",
   "execution_count": 11,
   "id": "fbaf3bbb-0dfb-4d82-8385-8ee7df30aa62",
   "metadata": {},
   "outputs": [
    {
     "name": "stdout",
     "output_type": "stream",
     "text": [
      "by mouse hc vs task auc: 0.602 +/- 0.0239\n"
     ]
    }
   ],
   "source": [
    "\n",
    "mw_auc_dict = umc_dt.lpne_auc(y_pred[y_Laser==1],y_BLaser[y_Laser==1].squeeze(),y_mouse[y_Laser==1],s[y_Laser==1],True)\n",
    "mw_mean, mw_std = umc_dt.get_mean_std_err_auc(y_pred[y_Laser==1],y_BLaser[y_Laser==1].squeeze(),y_mouse[y_Laser==1],s[y_Laser==1],True)\n",
    "print(\"by mouse hc vs task auc: {:.3} +/- {:.3}\".format(mw_mean,mw_std))\n",
    "\n",
    "auc_list = []\n",
    "p_val_list = []\n",
    "\n",
    "for mouse in y_mouse:\n",
    "    auc_list.append(mw_auc_dict[mouse][0])\n",
    "    p_val_list.append(mw_auc_dict[mouse][1])\n",
    "\n",
    "\n",
    "saveDict = {\n",
    "    \"mouse\":y_mouse,\n",
    "    \"time\":y_time,\n",
    "    \"expDate\":y_expDate,\n",
    "    \"scores\":s[:,0],\n",
    "    \"BLaser vs YLaser auc\": auc_list,\n",
    "    \"BLaser vs YLaser pval\": p_val_list,\n",
    "    \"y_BLaser\":y_BLaser,\n",
    "    \"y_YLaser\":y_YLaser,\n",
    "    \"y_Laser\":y_Laser\n",
    "    \n",
    "}\n",
    "\n",
    "df = pd.DataFrame.from_dict(saveDict)\n",
    "df.to_csv(PROJECTION_SAVE_PATH + \"MT_onto_ChR2.csv\")"
   ]
  },
  {
   "cell_type": "code",
   "execution_count": 8,
   "id": "68a93bbc-30e1-4e72-bf99-61afed6a9281",
   "metadata": {},
   "outputs": [
    {
     "data": {
      "text/plain": [
       "0.10947455"
      ]
     },
     "execution_count": 8,
     "metadata": {},
     "output_type": "execute_result"
    }
   ],
   "source": [
    "avg_YLaser_score"
   ]
  },
  {
   "cell_type": "code",
   "execution_count": 10,
   "id": "f66b78c1-852c-44b2-9cb7-28ccbc2aa36f",
   "metadata": {},
   "outputs": [
    {
     "data": {
      "text/plain": [
       "{'auc_method': 'mannWhitneyU',\n",
       " 'Mouse5371': (0.6249247222167074, 9.298713261971126e-13),\n",
       " 'Mouse5373': (0.6973381641220353, 1.6645357942637355e-29),\n",
       " 'Mouse5391': (0.630943348688863, 6.490635381370341e-15),\n",
       " 'Mouse5392': (0.5196898286274341, 0.242040776479166),\n",
       " 'Mouse5393': (0.5432357350089619, 0.010542567019269485),\n",
       " 'Mouse5394': (0.7637109958481823, 5.437022253242543e-47),\n",
       " 'Mouse5395': (0.58918429616428, 9.898047642916311e-08),\n",
       " 'Mouse9511': (0.5494003773000874, 0.0015403678533822951),\n",
       " 'Mouse9512': (0.506118147228524, 0.6909146093499594),\n",
       " 'Mouse9513': (0.5569474814397758, 0.0010546075306827776),\n",
       " 'Mouse9514': (0.6422875883330584, 1.6142809725134186e-16)}"
      ]
     },
     "execution_count": 10,
     "metadata": {},
     "output_type": "execute_result"
    }
   ],
   "source": [
    "mw_auc_dict"
   ]
  },
  {
   "cell_type": "code",
   "execution_count": null,
   "id": "71bdb376-f048-4bcb-83b1-ef1025f2d7fb",
   "metadata": {},
   "outputs": [],
   "source": []
  }
 ],
 "metadata": {
  "kernelspec": {
   "display_name": "Python 3 (ipykernel)",
   "language": "python",
   "name": "python3"
  },
  "language_info": {
   "codemirror_mode": {
    "name": "ipython",
    "version": 3
   },
   "file_extension": ".py",
   "mimetype": "text/x-python",
   "name": "python",
   "nbconvert_exporter": "python",
   "pygments_lexer": "ipython3",
   "version": "3.7.13"
  }
 },
 "nbformat": 4,
 "nbformat_minor": 5
}

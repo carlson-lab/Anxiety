{
 "cells": [
  {
   "cell_type": "code",
   "execution_count": 1,
   "id": "539ee3e2-df2b-4e9d-bf2a-5d2a3f76257a",
   "metadata": {},
   "outputs": [
    {
     "name": "stderr",
     "output_type": "stream",
     "text": [
      "/opt/conda/lib/python3.7/site-packages/tqdm/auto.py:22: TqdmWarning: IProgress not found. Please update jupyter and ipywidgets. See https://ipywidgets.readthedocs.io/en/stable/user_install.html\n",
      "  from .autonotebook import tqdm as notebook_tqdm\n"
     ]
    }
   ],
   "source": [
    "import numpy as np\n",
    "import pickle\n",
    "import matplotlib.pyplot as plt\n",
    "import pandas\n",
    "import sys, os\n",
    "from sklearn.model_selection import KFold\n",
    "from lpne.models import DcsfaNmf\n",
    "import torch\n",
    "\n",
    "NewDataPath = \"/work/mk423/Anxiety/New_FLX_Animals_April_12.pkl\"\n",
    "OldDataPath = \"/work/mk423/Anxiety/FLX_{}_dict_old_features.pkl\"\n",
    "\n",
    "FEATURE_LIST = [\"X_psd\",\"X_coh\",\"X_gc\"]\n",
    "OLD_FEATURE_LIST = [\"X_power_1_2\",\"X_coh_1_2\",\"X_gc_1_2\"]\n",
    "FEATURE_WEIGHT = [10,1,1]\n",
    "\n",
    "np.random.seed(42)"
   ]
  },
  {
   "cell_type": "code",
   "execution_count": 2,
   "id": "17e90daa-4115-4ca0-a281-228e1e42acc4",
   "metadata": {},
   "outputs": [],
   "source": [
    "newDict = pickle.load(open(NewDataPath,\"rb\"))\n",
    "oldTrainDict = pickle.load(open(OldDataPath.format(\"train\"),\"rb\"))\n",
    "oldValDict = pickle.load(open(OldDataPath.format(\"validation\"),\"rb\"))\n",
    "oldTestDict = pickle.load(open(OldDataPath.format(\"test\"),\"rb\"))"
   ]
  },
  {
   "cell_type": "code",
   "execution_count": 3,
   "id": "367566b0-d367-427d-b79f-e44ba94860d3",
   "metadata": {},
   "outputs": [
    {
     "data": {
      "text/plain": [
       "dict_keys(['X_psd', 'X_psd_first_30', 'X_ds', 'X_ds_first_30', 'y_mouse', 'y_mouse_first_30', 'y_expDate', 'y_expDate_first_30', 'y_time', 'y_time_first_30', 'mice', 'y_flx', 'y_flx_train_first_30', 'X_psd_full', 'X_ds_full', 'y_mouse_full', 'y_expDate_full', 'y_time_full', 'y_flx_full', 'X_power_1_2', 'X_power_1_2_first_30', 'X_power_1_2_full', 'X_coh_1_2', 'X_coh_1_2_first_30', 'X_coh_1_2_full', 'X_gc_1_2', 'X_gc_1_2_first_30', 'X_gc_1_2_full'])"
      ]
     },
     "execution_count": 3,
     "metadata": {},
     "output_type": "execute_result"
    }
   ],
   "source": [
    "oldTrainDict.keys()"
   ]
  },
  {
   "cell_type": "code",
   "execution_count": 4,
   "id": "8d91a14f-b7c0-434f-9950-d28d57220e45",
   "metadata": {},
   "outputs": [],
   "source": [
    "X_new = np.hstack([newDict[feature] * weight for feature, weight in zip(FEATURE_LIST,FEATURE_WEIGHT)])\n",
    "y_flx = newDict['y_flx']\n",
    "y_hab = newDict['y_hab'].squeeze()\n",
    "y_mouse = newDict['y_mouse']\n",
    "\n",
    "X_new_hab = X_new[y_hab==1]\n",
    "y_flx_hab = y_flx[y_hab==1]\n",
    "y_mouse_hab = y_mouse[y_hab==1]\n",
    "\n",
    "X_train = np.hstack([oldTrainDict[feature]*weight for feature,weight in zip(OLD_FEATURE_LIST,FEATURE_WEIGHT)])\n",
    "y_train = oldTrainDict['y_flx']\n",
    "y_mouse_train = oldTrainDict['y_mouse']\n",
    "\n",
    "X_val = np.hstack([oldValDict[feature]*weight for feature,weight in zip(OLD_FEATURE_LIST,FEATURE_WEIGHT)])\n",
    "y_val = oldValDict['y_flx']\n",
    "y_mouse_val = oldValDict['y_mouse']\n",
    "\n",
    "X_test = np.hstack([oldTestDict[feature]*weight for feature,weight in zip(OLD_FEATURE_LIST,FEATURE_WEIGHT)])\n",
    "y_test = oldTestDict['y_flx']\n",
    "y_mouse_test = oldTestDict['y_mouse']"
   ]
  },
  {
   "cell_type": "code",
   "execution_count": 5,
   "id": "0458d8ed-6a72-4448-9e65-6abf168ec1a0",
   "metadata": {},
   "outputs": [],
   "source": [
    "X_full = np.vstack([X_new_hab,X_train,X_val,X_test])\n",
    "y_flx_full = np.hstack([y_flx_hab.squeeze(),y_train.squeeze(),y_val.squeeze(),y_test.squeeze()])\n",
    "y_mouse_full = np.hstack([y_mouse_hab.squeeze(),y_mouse_train.squeeze(),y_mouse_val.squeeze(),y_mouse_test.squeeze()])"
   ]
  },
  {
   "cell_type": "code",
   "execution_count": 17,
   "id": "f9a92be9-5ef2-4a9a-bb0f-413a511559bc",
   "metadata": {},
   "outputs": [
    {
     "data": {
      "text/plain": [
       "(9,)"
      ]
     },
     "execution_count": 17,
     "metadata": {},
     "output_type": "execute_result"
    }
   ],
   "source": [
    "np.unique(y_mouse).shape"
   ]
  },
  {
   "cell_type": "code",
   "execution_count": 7,
   "id": "0b3f1405-63cc-49b2-b4bd-bfc1c8baec83",
   "metadata": {},
   "outputs": [],
   "source": [
    "results_dict = pickle.load(open(\"/work/mk423/Anxiety/FLX_model_kfold/flx_kfold_cv_check_April_14th_2023.pkl\",\"rb\"))"
   ]
  },
  {
   "cell_type": "code",
   "execution_count": 10,
   "id": "96fc9a8c-9476-4d53-96c9-00d561683fe3",
   "metadata": {},
   "outputs": [
    {
     "name": "stdout",
     "output_type": "stream",
     "text": [
      "4\n"
     ]
    }
   ],
   "source": [
    "print(len(results_dict['test_mice'][0]))"
   ]
  },
  {
   "cell_type": "code",
   "execution_count": 37,
   "id": "aff674c1-15ae-4390-aa70-2045ce52a658",
   "metadata": {},
   "outputs": [
    {
     "name": "stdout",
     "output_type": "stream",
     "text": [
      "0\n",
      "train auc:  [1.]\n",
      "val auc:  [0.73423706]\n",
      "test auc:  [0.73402772]\n",
      "1\n",
      "train auc:  [1.]\n",
      "val auc:  [0.81082277]\n",
      "test auc:  [0.58491514]\n",
      "2\n",
      "train auc:  [1.]\n",
      "val auc:  [0.73179101]\n",
      "test auc:  [0.69662694]\n",
      "3\n",
      "train auc:  [1.]\n",
      "val auc:  [0.63118101]\n",
      "test auc:  [0.73878715]\n"
     ]
    }
   ],
   "source": [
    "###KFold CV\n",
    "TRAIN=False\n",
    "if TRAIN:\n",
    "    train_auc_list = []\n",
    "    val_auc_list = []\n",
    "    test_auc_list = []\n",
    "    electome_list = []\n",
    "\n",
    "    train_mice_list = []\n",
    "    val_mice_list = []\n",
    "    test_mice_list = []\n",
    "\n",
    "    all_mice = np.unique(y_mouse_full)\n",
    "    kf = KFold(n_splits=5)\n",
    "\n",
    "    for i, (train_idx,test_idx) in enumerate(kf.split(all_mice)):\n",
    "\n",
    "        train_mice = all_mice[train_idx]\n",
    "\n",
    "        val_mice = np.random.choice(train_mice,size=3)\n",
    "        train_mice = [mouse for mouse in train_mice if mouse not in val_mice]\n",
    "        test_mice = all_mice[test_idx]\n",
    "\n",
    "        train_mice_list.append(train_mice)\n",
    "        val_mice_list.append(val_mice)\n",
    "        test_mice_list.append(test_mice)\n",
    "\n",
    "        print(i, train_mice, val_mice, test_mice)\n",
    "\n",
    "        train_slice = np.array([1 if mouse in train_mice else 0 for mouse in y_mouse_full])\n",
    "        val_slice = np.array([1 if mouse in val_mice else 0 for mouse in y_mouse_full])\n",
    "        test_slice = np.array([1 if mouse in test_mice else 0 for mouse in y_mouse_full])\n",
    "\n",
    "        X_kf_train = X_full[train_slice==1]\n",
    "        X_kf_val = X_full[val_slice==1]\n",
    "        X_kf_test = X_full[test_slice==1]\n",
    "\n",
    "        y_kf_flx_train = y_flx_full[train_slice==1].reshape(-1,1)\n",
    "        y_kf_flx_val = y_flx_full[val_slice==1].reshape(-1,1)\n",
    "        y_kf_flx_test = y_flx_full[test_slice==1].reshape(-1,1)\n",
    "\n",
    "\n",
    "        y_kf_mouse_train = y_mouse_full[train_slice==1]\n",
    "        y_kf_mouse_val = y_mouse_full[val_slice==1]\n",
    "        y_kf_mouse_test = y_mouse_full[test_slice==1]\n",
    "\n",
    "        model = DcsfaNmf(n_components=20,\n",
    "                         optim_name=\"SGD\",\n",
    "                        save_folder=\"/work/mk423/Anxiety/FLX_model_kfold/\")\n",
    "\n",
    "        model.fit(X_kf_train,y_kf_flx_train,n_epochs=1500,n_pre_epochs=400,nmf_max_iter=2000,pretrain=True,X_val=X_kf_val,y_val=y_kf_flx_val,verbose=True)\n",
    "        torch.save(model,\"/work/mk423/Anxiety/FLX_model_kfold/SGD_{}_fold_flx.pt\".format(i))\n",
    "\n",
    "\n",
    "        train_auc_list.append(model.score(X_kf_train,y_kf_flx_train,y_kf_mouse_train))\n",
    "        val_auc_list.append(model.score(X_kf_val,y_kf_flx_val,y_kf_mouse_val))\n",
    "        test_auc_list.append(model.score(X_kf_test,y_kf_flx_test,y_kf_mouse_test))\n",
    "        electome_list.append(model.get_factor(0))\n",
    "\n",
    "        print(train_auc_list[-1],val_auc_list[-1],test_auc_list[-1])\n",
    "        \n",
    "    results_dict = {\n",
    "    \"train_aucs\":train_auc_list,\n",
    "    \"val_aucs\":val_auc_list,\n",
    "    \"test_aucs\":test_auc_list,\n",
    "    \"train_mice\":train_mice_list,\n",
    "    \"val_mice\":val_mice_list,\n",
    "    \"test_mice\":test_mice_list,\n",
    "    \"electomes\":electome_list,\n",
    "    }\n",
    "\n",
    "    with open(\"/work/mk423/Anxiety/FLX_model_kfold/flx_kfold_cv_check_April_14th_2023.pkl\",\"wb\") as f:\n",
    "        pickle.dump(results_dict,f)\n",
    "    \n",
    "else:\n",
    "    results_dict = pickle.load(open(\"/work/mk423/Anxiety/FLX_model_kfold/flx_kfold_cv_check_April_14th_2023.pkl\",\"rb\"))\n",
    "    results_dict['perc_recon'] = []\n",
    "    for fold in range(4):\n",
    "        train_mice = results_dict[\"train_mice\"][fold]\n",
    "        val_mice = results_dict[\"val_mice\"][fold]\n",
    "        test_mice = results_dict[\"test_mice\"][fold]\n",
    "        \n",
    "        train_slice = np.array([1 if mouse in train_mice else 0 for mouse in y_mouse_full])\n",
    "        val_slice = np.array([1 if mouse in val_mice else 0 for mouse in y_mouse_full])\n",
    "        test_slice = np.array([1 if mouse in test_mice else 0 for mouse in y_mouse_full])\n",
    "        \n",
    "        X_kf_train = X_full[train_slice==1]\n",
    "        X_kf_val = X_full[val_slice==1]\n",
    "        X_kf_test = X_full[test_slice==1]\n",
    "\n",
    "        y_kf_flx_train = y_flx_full[train_slice==1].reshape(-1,1)\n",
    "        y_kf_flx_val = y_flx_full[val_slice==1].reshape(-1,1)\n",
    "        y_kf_flx_test = y_flx_full[test_slice==1].reshape(-1,1)\n",
    "\n",
    "\n",
    "        y_kf_mouse_train = y_mouse_full[train_slice==1]\n",
    "        y_kf_mouse_val = y_mouse_full[val_slice==1]\n",
    "        y_kf_mouse_test = y_mouse_full[test_slice==1]\n",
    "\n",
    "        model = torch.load(\"/work/mk423/Anxiety/FLX_model_kfold/SGD_{}_fold_flx.pt\".format(fold))\n",
    "        \n",
    "        s = model.project(X_kf_test)\n",
    "        sup_recon = model.get_comp_recon(torch.Tensor(s).to(\"cuda\"),0)\n",
    "        perc_recon = sup_recon / model.reconstruct(X_kf_test)\n",
    "        perc_recon = np.mean(perc_recon,axis=0)\n",
    "        results_dict['perc_recon'].append(perc_recon)\n",
    "        print(fold)\n",
    "        print(\"train auc: \",model.score(X_kf_train,y_kf_flx_train,y_kf_mouse_train))\n",
    "        print(\"val auc: \",model.score(X_kf_val,y_kf_flx_val,y_kf_mouse_val))\n",
    "        print(\"test auc: \",model.score(X_kf_test,y_kf_flx_test,y_kf_mouse_test))"
   ]
  },
  {
   "cell_type": "code",
   "execution_count": 38,
   "id": "65204826-00fd-4961-ad5f-c6ff3114485e",
   "metadata": {},
   "outputs": [],
   "source": [
    "with open(\"/work/mk423/Anxiety/FLX_model_kfold/flx_kfold_cv_check_April_14th_2023.pkl\",\"wb\") as f:\n",
    "    pickle.dump(results_dict,f)"
   ]
  },
  {
   "cell_type": "code",
   "execution_count": 36,
   "id": "0b75d4c3-6343-474c-8de2-853c1d3ad8b5",
   "metadata": {},
   "outputs": [
    {
     "data": {
      "text/plain": [
       "(5152,)"
      ]
     },
     "execution_count": 36,
     "metadata": {},
     "output_type": "execute_result"
    }
   ],
   "source": [
    "np.mean(perc_recon,axis=0).shape"
   ]
  },
  {
   "cell_type": "code",
   "execution_count": 25,
   "id": "d80794ff-bb37-440f-a94f-8a8be73c5036",
   "metadata": {},
   "outputs": [
    {
     "data": {
      "text/plain": [
       "(14604, 20)"
      ]
     },
     "execution_count": 25,
     "metadata": {},
     "output_type": "execute_result"
    }
   ],
   "source": [
    "s.shape"
   ]
  },
  {
   "cell_type": "code",
   "execution_count": 28,
   "id": "bd27d85e-48f6-40e3-b67b-43485dec1f1d",
   "metadata": {},
   "outputs": [
    {
     "data": {
      "text/plain": [
       "array([[0.03460997, 0.05778772, 0.08378834, ..., 0.03386989, 0.05048679,\n",
       "        0.05238559],\n",
       "       [0.05343117, 0.08921319, 0.12935317, ..., 0.05228863, 0.07794195,\n",
       "        0.08087333],\n",
       "       [0.03068154, 0.05122847, 0.07427787, ..., 0.03002546, 0.04475625,\n",
       "        0.04643952],\n",
       "       ...,\n",
       "       [0.01996471, 0.03333475, 0.04833317, ..., 0.01953779, 0.02912322,\n",
       "        0.03021854],\n",
       "       [0.03472406, 0.05797822, 0.08406455, ..., 0.03398154, 0.05065322,\n",
       "        0.05255828],\n",
       "       [0.02154848, 0.03597916, 0.05216738, ..., 0.0210877 , 0.03143353,\n",
       "        0.03261574]], dtype=float32)"
      ]
     },
     "execution_count": 28,
     "metadata": {},
     "output_type": "execute_result"
    }
   ],
   "source": [
    "model.get_comp_recon(torch.Tensor(s).to(\"cuda\"),0)"
   ]
  },
  {
   "cell_type": "code",
   "execution_count": null,
   "id": "f6dbb205-4f2b-4d09-ac60-50177bdbe763",
   "metadata": {},
   "outputs": [],
   "source": [
    "len(train_mice)"
   ]
  },
  {
   "cell_type": "code",
   "execution_count": null,
   "id": "29cf11d0-75b7-4d7f-b749-f986dcd5bd3f",
   "metadata": {},
   "outputs": [],
   "source": [
    "len(val_mice)"
   ]
  },
  {
   "cell_type": "code",
   "execution_count": null,
   "id": "dcd452d7-4a77-4204-9a33-770975665664",
   "metadata": {},
   "outputs": [],
   "source": [
    "len(test_mice)"
   ]
  },
  {
   "cell_type": "code",
   "execution_count": null,
   "id": "3cfd8e1f-2a5d-4450-a1ef-af03d9aecd25",
   "metadata": {},
   "outputs": [],
   "source": []
  }
 ],
 "metadata": {
  "kernelspec": {
   "display_name": "Python 3 (ipykernel)",
   "language": "python",
   "name": "python3"
  },
  "language_info": {
   "codemirror_mode": {
    "name": "ipython",
    "version": 3
   },
   "file_extension": ".py",
   "mimetype": "text/x-python",
   "name": "python",
   "nbconvert_exporter": "python",
   "pygments_lexer": "ipython3",
   "version": "3.7.13"
  }
 },
 "nbformat": 4,
 "nbformat_minor": 5
}

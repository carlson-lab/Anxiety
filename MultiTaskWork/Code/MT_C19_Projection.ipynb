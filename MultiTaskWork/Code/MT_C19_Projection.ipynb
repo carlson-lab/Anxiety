{
 "cells": [
  {
   "cell_type": "code",
   "execution_count": 1,
   "id": "eb5dc162-5083-49dc-8f8c-0e7790e126c5",
   "metadata": {},
   "outputs": [],
   "source": [
    "DATA_LOCATION = \"/work/mk423/Anxiety/\"\n",
    "UMC_PATH = \"/hpc/home/mk423/Anxiety/Universal-Mouse-Code/\"\n",
    "MODEL_PATH = \"../Models/\"\n",
    "data_file = \"C19_Data.pkl\"\n",
    "\n",
    "FEATURE_LIST = ['X_psd','X_coh','X_gc']\n",
    "FEATURE_VECTOR = FEATURE_LIST\n",
    "FEATURE_WEIGHT = [10,1,1]\n",
    "\n",
    "MT_MODEL_PATH = MODEL_PATH + \"Positive_MT_10_res_loss_10_power_features.pt\"\n",
    "PROJECTION_SAVE_PATH = \"/hpc/home/mk423/Anxiety/MultiTaskWork/Projections/holdoutExperiments/\"\n",
    "\n",
    "TRAIN = False\n",
    "PROJ_TEST = True"
   ]
  },
  {
   "cell_type": "code",
   "execution_count": 2,
   "id": "d5798e51-81a5-4b1c-80d0-04c51c0e1d22",
   "metadata": {},
   "outputs": [
    {
     "name": "stderr",
     "output_type": "stream",
     "text": [
      "/opt/conda/lib/python3.7/site-packages/tqdm/auto.py:22: TqdmWarning: IProgress not found. Please update jupyter and ipywidgets. See https://ipywidgets.readthedocs.io/en/stable/user_install.html\n",
      "  from .autonotebook import tqdm as notebook_tqdm\n"
     ]
    },
    {
     "name": "stdout",
     "output_type": "stream",
     "text": [
      "Using device: cuda:0\n"
     ]
    },
    {
     "data": {
      "text/plain": [
       "dCSFA_NMF(\n",
       "  (recon_loss_f): MSELoss()\n",
       "  (Encoder): Sequential(\n",
       "    (0): Linear(in_features=5152, out_features=256, bias=True)\n",
       "    (1): BatchNorm1d(256, eps=1e-05, momentum=0.1, affine=True, track_running_stats=True)\n",
       "    (2): LeakyReLU(negative_slope=0.01)\n",
       "    (3): Linear(in_features=256, out_features=20, bias=True)\n",
       "    (4): Softplus(beta=1, threshold=20)\n",
       "  )\n",
       ")"
      ]
     },
     "execution_count": 2,
     "metadata": {},
     "output_type": "execute_result"
    }
   ],
   "source": [
    "import pickle\n",
    "import numpy as np\n",
    "import torch\n",
    "import matplotlib.pyplot as plt\n",
    "import os\n",
    "import sys\n",
    "import sklearn\n",
    "from sklearn.model_selection import train_test_split\n",
    "from sklearn.metrics import roc_auc_score\n",
    "from sklearn.preprocessing import OneHotEncoder\n",
    "import pandas as pd\n",
    "sys.path.append(UMC_PATH)\n",
    "sys.path.append(PROJECTION_SAVE_PATH)\n",
    "#from dCSFA_model import dCSFA_model\n",
    "import umc_data_tools as umc_dt\n",
    "from dCSFA_NMF import dCSFA_NMF\n",
    "\n",
    "if torch.cuda.is_available():\n",
    "    device=\"cuda:0\"\n",
    "else:\n",
    "    device=\"cpu\"\n",
    "\n",
    "\n",
    "print(\"Using device: %s\"%(device))\n",
    "\n",
    "#For Consistency\n",
    "RANDOM_STATE=42\n",
    "\n",
    "import pandas as pd\n",
    "\n",
    "model = torch.load(MT_MODEL_PATH,map_location='cpu')\n",
    "model.device = \"cpu\"\n",
    "model.eval()"
   ]
  },
  {
   "cell_type": "code",
   "execution_count": 7,
   "id": "90164e14-860e-4310-8366-02b9c4980d46",
   "metadata": {},
   "outputs": [],
   "source": [
    "dataDict = pickle.load(open(DATA_LOCATION + data_file,\"rb\"))\n",
    "\n",
    "X = np.hstack([weight*dataDict[feature] for weight,feature in zip(FEATURE_WEIGHT,FEATURE_LIST)])\n",
    "y_time = dataDict['y_time']\n",
    "y_mouse = np.array(dataDict['y_mouse'])\n",
    "y_condition = np.array(dataDict['y_condition'])\n",
    "y_task = dataDict['y_task']\n",
    "y_expDate = dataDict['y_expDate']\n",
    "y_sex = np.array(dataDict['y_sex'])\n",
    "\n",
    "y_pred,s = model.transform(X,None)[2:]\n",
    "\n",
    "#Get per mouse average scores, average scores in HC and average scores in EPM\n",
    "mouse_list = []\n",
    "avg_score_list = []\n",
    "avg_hc_score_list = []\n",
    "avg_task_score_list = []\n",
    "condition_list = []\n",
    "for mouse in np.unique(y_mouse):\n",
    "    mouse_mask = y_mouse==mouse\n",
    "    hc_mouse_mask = np.logical_and(mouse_mask,y_task==0)\n",
    "    task_mouse_mask = np.logical_and(mouse_mask,y_task==1)\n",
    "    avg_score = np.mean(s[mouse_mask==1,0])\n",
    "    avg_score_hc = np.mean(s[hc_mouse_mask==1,0])\n",
    "    avg_score_task = np.mean(s[task_mouse_mask==1,0])\n",
    "    \n",
    "    mouse_list.append(mouse)\n",
    "    avg_score_list.append(avg_score)\n",
    "    avg_hc_score_list.append(avg_score_hc)\n",
    "    avg_task_score_list.append(avg_score_task)\n",
    "    condition_list.append(np.unique(y_condition[y_mouse==mouse])[0])\n",
    "    \n",
    "proj_dict = {\n",
    "    \"mouse\":mouse_list,\n",
    "    \"condition\":condition_list,\n",
    "    \"avgScore\":avg_score_list,\n",
    "    \"avgHCScore\":avg_hc_score_list,\n",
    "    \"avgTaskScore\":avg_task_score_list\n",
    "}\n",
    "df_projections = pd.DataFrame.from_dict(proj_dict)\n",
    "\n",
    "df_projections.to_csv(PROJECTION_SAVE_PATH + \"C19_mean_scores.csv\")"
   ]
  },
  {
   "cell_type": "code",
   "execution_count": 4,
   "id": "63061cc7-0c65-4b25-b0d3-48f3d5832d28",
   "metadata": {},
   "outputs": [
    {
     "name": "stdout",
     "output_type": "stream",
     "text": [
      "by mouse hc vs task auc: 0.629 +/- 0.0246\n",
      "by wildtype mouse hc vs task auc: 0.65 +/- 0.0302\n",
      "by clock-19 mouse hc vs task auc: 0.611 +/- 0.0386\n",
      "by Female mouse hc vs task auc: 0.686 +/- 0.0405\n",
      "by Male mouse hc vs task auc: 0.579 +/- 0.0183\n"
     ]
    }
   ],
   "source": [
    "wild_type_mask = (np.array(y_condition)==\"WT\").astype(float)\n",
    "sex_mask = y_sex==\"M\"\n",
    "task_mask = y_task\n",
    "\n",
    "\n",
    "mw_auc_dict = umc_dt.lpne_auc(y_pred,y_task.squeeze(),y_mouse,s,True)\n",
    "mw_mean, mw_std = umc_dt.get_mean_std_err_auc(y_pred,y_task.squeeze(),y_mouse,s,True)\n",
    "print(\"by mouse hc vs task auc: {:.3} +/- {:.3}\".format(mw_mean,mw_std))\n",
    "\n",
    "mw_auc_dict = umc_dt.lpne_auc(y_pred[wild_type_mask==1],y_task[wild_type_mask==1].squeeze(),y_mouse[wild_type_mask==1],s[wild_type_mask==1],True)\n",
    "mw_mean, mw_std = umc_dt.get_mean_std_err_auc(y_pred[wild_type_mask==1],y_task[wild_type_mask==1].squeeze(),y_mouse[wild_type_mask==1],s[wild_type_mask==1],True)\n",
    "print(\"by wildtype mouse hc vs task auc: {:.3} +/- {:.3}\".format(mw_mean,mw_std))\n",
    "\n",
    "mw_auc_dict = umc_dt.lpne_auc(y_pred[wild_type_mask==0],y_task[wild_type_mask==0].squeeze(),y_mouse[wild_type_mask==0],s[wild_type_mask==0],True)\n",
    "mw_mean, mw_std = umc_dt.get_mean_std_err_auc(y_pred[wild_type_mask==0],y_task[wild_type_mask==0].squeeze(),y_mouse[wild_type_mask==0],s[wild_type_mask==0],True)\n",
    "print(\"by clock-19 mouse hc vs task auc: {:.3} +/- {:.3}\".format(mw_mean,mw_std))\n",
    "\n",
    "mw_auc_dict = umc_dt.lpne_auc(y_pred[sex_mask==0],y_task[sex_mask==0].squeeze(),y_mouse[sex_mask==0],s[sex_mask==0],True)\n",
    "mw_mean, mw_std = umc_dt.get_mean_std_err_auc(y_pred[sex_mask==0],y_task[sex_mask==0].squeeze(),y_mouse[sex_mask==0],s[sex_mask==0],True)\n",
    "print(\"by Female mouse hc vs task auc: {:.3} +/- {:.3}\".format(mw_mean,mw_std))\n",
    "\n",
    "mw_auc_dict = umc_dt.lpne_auc(y_pred[sex_mask==1],y_task[sex_mask==1].squeeze(),y_mouse[sex_mask==1],s[sex_mask==1],True)\n",
    "mw_mean, mw_std = umc_dt.get_mean_std_err_auc(y_pred[sex_mask==1],y_task[sex_mask==1].squeeze(),y_mouse[sex_mask==1],s[sex_mask==1],True)\n",
    "print(\"by Male mouse hc vs task auc: {:.3} +/- {:.3}\".format(mw_mean,mw_std))"
   ]
  },
  {
   "cell_type": "code",
   "execution_count": 5,
   "id": "04b0c304-2af5-4c36-aa7b-992ec51c1720",
   "metadata": {},
   "outputs": [
    {
     "name": "stdout",
     "output_type": "stream",
     "text": [
      "by mouse hc vs task auc: 0.629 +/- 0.0246\n"
     ]
    }
   ],
   "source": [
    "mw_auc_dict = umc_dt.lpne_auc(y_pred,y_task.squeeze(),y_mouse,s,True)\n",
    "mw_mean, mw_std = umc_dt.get_mean_std_err_auc(y_pred,y_task.squeeze(),y_mouse,s,True)\n",
    "print(\"by mouse hc vs task auc: {:.3} +/- {:.3}\".format(mw_mean,mw_std))\n",
    "\n",
    "auc_list = []\n",
    "p_val_list = []\n",
    "\n",
    "for mouse in y_mouse:\n",
    "    auc_list.append(mw_auc_dict[mouse][0])\n",
    "    p_val_list.append(mw_auc_dict[mouse][1])\n",
    "\n",
    "saveDict = {\n",
    "    \"mouse\":y_mouse,\n",
    "    \"sex\":y_sex,\n",
    "    \"condition\":y_condition,\n",
    "    \"in-task\":y_task,\n",
    "    \"time\":y_time,\n",
    "    \"expDate\":y_expDate,\n",
    "    \"scores\":s[:,0],\n",
    "    \"hc vs task auc\": auc_list,\n",
    "    \"hc vs task pval\": p_val_list,\n",
    "    \n",
    "}\n",
    "\n",
    "df = pd.DataFrame.from_dict(saveDict)\n",
    "df.to_csv(PROJECTION_SAVE_PATH + \"MT_onto_CLK-19_EPM.csv\")"
   ]
  },
  {
   "cell_type": "code",
   "execution_count": 89,
   "id": "ce5ee6a3-015a-43c3-acc5-9aa5f39e82db",
   "metadata": {},
   "outputs": [
    {
     "data": {
      "text/plain": [
       "0.4667825728886914"
      ]
     },
     "execution_count": 89,
     "metadata": {},
     "output_type": "execute_result"
    }
   ],
   "source": [
    "roc_auc_score((np.array(y_condition)==\"CLOCK\").astype(float)[y_task==0],y_pred[y_task==0])"
   ]
  },
  {
   "cell_type": "code",
   "execution_count": 75,
   "id": "f69ecd62-c749-476e-aacc-c58bc85a5317",
   "metadata": {},
   "outputs": [
    {
     "name": "stdout",
     "output_type": "stream",
     "text": [
      "Wild Type HC vs Task: 0.6573685997893017\n"
     ]
    }
   ],
   "source": [
    "wild_type_mask = (np.array(y_condition)==\"WT\").astype(float)\n",
    "task_mask = y_task\n",
    "\n",
    "print(\"Wild Type HC vs Task:\",roc_auc_score(task_mask[wild_type_mask==1],y_pred[wild_type_mask==1]))"
   ]
  },
  {
   "cell_type": "code",
   "execution_count": 74,
   "id": "fdcc61bd-6e5d-4d1b-a771-a395baac625c",
   "metadata": {},
   "outputs": [
    {
     "name": "stdout",
     "output_type": "stream",
     "text": [
      "Clock Mice HC vs Task: 0.617495384502002\n"
     ]
    }
   ],
   "source": [
    "print(\"Clock Mice HC vs Task:\",roc_auc_score(task_mask[wild_type_mask==0],y_pred[wild_type_mask==0]))"
   ]
  },
  {
   "cell_type": "code",
   "execution_count": 38,
   "id": "f7cf4fd3-294e-4838-b2d3-38c231da0f24",
   "metadata": {},
   "outputs": [
    {
     "data": {
      "text/plain": [
       "0.6404977392009688"
      ]
     },
     "execution_count": 38,
     "metadata": {},
     "output_type": "execute_result"
    }
   ],
   "source": [
    "roc_auc_score(y_task,y_pred)"
   ]
  },
  {
   "cell_type": "code",
   "execution_count": 41,
   "id": "6a12e232-e528-441a-8214-d841692bdc71",
   "metadata": {},
   "outputs": [
    {
     "data": {
      "text/plain": [
       "array([False, False, False, ..., False, False, False])"
      ]
     },
     "execution_count": 41,
     "metadata": {},
     "output_type": "execute_result"
    }
   ],
   "source": [
    "np.array(y_condition)==\"CLK\""
   ]
  },
  {
   "cell_type": "code",
   "execution_count": 76,
   "id": "d783533b-8871-4065-97e5-2a6db7325923",
   "metadata": {},
   "outputs": [
    {
     "data": {
      "text/html": [
       "<div>\n",
       "<style scoped>\n",
       "    .dataframe tbody tr th:only-of-type {\n",
       "        vertical-align: middle;\n",
       "    }\n",
       "\n",
       "    .dataframe tbody tr th {\n",
       "        vertical-align: top;\n",
       "    }\n",
       "\n",
       "    .dataframe thead th {\n",
       "        text-align: right;\n",
       "    }\n",
       "</style>\n",
       "<table border=\"1\" class=\"dataframe\">\n",
       "  <thead>\n",
       "    <tr style=\"text-align: right;\">\n",
       "      <th></th>\n",
       "      <th>mouse</th>\n",
       "      <th>avgScore</th>\n",
       "      <th>avgHCScore</th>\n",
       "      <th>avgTaskScore</th>\n",
       "    </tr>\n",
       "  </thead>\n",
       "  <tbody>\n",
       "    <tr>\n",
       "      <th>0</th>\n",
       "      <td>Mouse0911</td>\n",
       "      <td>0.063547</td>\n",
       "      <td>0.064684</td>\n",
       "      <td>0.062216</td>\n",
       "    </tr>\n",
       "    <tr>\n",
       "      <th>1</th>\n",
       "      <td>Mouse0912</td>\n",
       "      <td>0.071724</td>\n",
       "      <td>0.070832</td>\n",
       "      <td>0.072075</td>\n",
       "    </tr>\n",
       "    <tr>\n",
       "      <th>2</th>\n",
       "      <td>Mouse0913</td>\n",
       "      <td>0.067201</td>\n",
       "      <td>0.071164</td>\n",
       "      <td>0.065972</td>\n",
       "    </tr>\n",
       "    <tr>\n",
       "      <th>3</th>\n",
       "      <td>Mouse0914</td>\n",
       "      <td>0.067377</td>\n",
       "      <td>0.070309</td>\n",
       "      <td>0.066531</td>\n",
       "    </tr>\n",
       "    <tr>\n",
       "      <th>4</th>\n",
       "      <td>Mouse2401</td>\n",
       "      <td>0.067612</td>\n",
       "      <td>0.067482</td>\n",
       "      <td>0.067702</td>\n",
       "    </tr>\n",
       "  </tbody>\n",
       "</table>\n",
       "</div>"
      ],
      "text/plain": [
       "       mouse  avgScore  avgHCScore  avgTaskScore\n",
       "0  Mouse0911  0.063547    0.064684      0.062216\n",
       "1  Mouse0912  0.071724    0.070832      0.072075\n",
       "2  Mouse0913  0.067201    0.071164      0.065972\n",
       "3  Mouse0914  0.067377    0.070309      0.066531\n",
       "4  Mouse2401  0.067612    0.067482      0.067702"
      ]
     },
     "execution_count": 76,
     "metadata": {},
     "output_type": "execute_result"
    }
   ],
   "source": [
    "df_projections.head()"
   ]
  },
  {
   "cell_type": "code",
   "execution_count": 69,
   "id": "af51e610-55c3-48a4-85b9-6c61352122ef",
   "metadata": {},
   "outputs": [
    {
     "data": {
      "image/png": "[encoded data removed]",
      "text/plain": [
       "<Figure size 432x288 with 1 Axes>"
      ]
     },
     "metadata": {
      "needs_background": "light"
     },
     "output_type": "display_data"
    }
   ],
   "source": [
    "import matplotlib.pyplot as plt\n",
    "plt.plot(df_projections.values[:,2:].T)\n",
    "plt.show()"
   ]
  },
  {
   "cell_type": "code",
   "execution_count": 67,
   "id": "cf8bb6cd-890e-490d-8e54-906b0e65ceff",
   "metadata": {},
   "outputs": [
    {
     "data": {
      "text/plain": [
       "array([[0.06468416005373001, 0.062216393649578094],\n",
       "       [0.07083234935998917, 0.07207459956407547],\n",
       "       [0.07116377353668213, 0.06597200781106949],\n",
       "       [0.07030855864286423, 0.06653071939945221],\n",
       "       [0.06748200207948685, 0.06770232319831848],\n",
       "       [0.0704551562666893, 0.071412093937397],\n",
       "       [0.06998889148235321, 0.06853090971708298],\n",
       "       [0.05982178449630737, 0.06218354031443596],\n",
       "       [0.060201797634363174, 0.0594886913895607],\n",
       "       [0.07732944935560226, 0.07326607406139374],\n",
       "       [0.07534714043140411, 0.07004065811634064],\n",
       "       [0.06907346099615097, 0.06603098660707474],\n",
       "       [0.05332735553383827, 0.05061051994562149],\n",
       "       [0.05769411474466324, 0.0585951954126358],\n",
       "       [0.06266482919454575, 0.057514168322086334],\n",
       "       [0.0579715259373188, 0.05180870741605759],\n",
       "       [0.0747944638133049, 0.06679071485996246]], dtype=object)"
      ]
     },
     "execution_count": 67,
     "metadata": {},
     "output_type": "execute_result"
    }
   ],
   "source": [
    "df_projections.values[:,2:]"
   ]
  },
  {
   "cell_type": "code",
   "execution_count": null,
   "id": "7744bce0-757b-47df-a88e-2994c6b56ce8",
   "metadata": {},
   "outputs": [
    {
     "name": "stdout",
     "output_type": "stream",
     "text": [
      "/hpc/home/mk423/Anxiety/MultiTaskWork/Code\n"
     ]
    }
   ],
   "source": []
  }
 ],
 "metadata": {
  "kernelspec": {
   "display_name": "Python 3 (ipykernel)",
   "language": "python",
   "name": "python3"
  },
  "language_info": {
   "codemirror_mode": {
    "name": "ipython",
    "version": 3
   },
   "file_extension": ".py",
   "mimetype": "text/x-python",
   "name": "python",
   "nbconvert_exporter": "python",
   "pygments_lexer": "ipython3",
   "version": "3.7.13"
  }
 },
 "nbformat": 4,
 "nbformat_minor": 5
}

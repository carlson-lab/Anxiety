{
 "cells": [
  {
   "cell_type": "code",
   "execution_count": 1,
   "id": "d625d848-1d2f-445a-a546-2ac57995ed72",
   "metadata": {},
   "outputs": [],
   "source": [
    "import pandas as pd\n",
    "import numpy as np\n",
    "import os"
   ]
  },
  {
   "cell_type": "code",
   "execution_count": 8,
   "id": "5ec39d2c-e861-414e-9394-e68b7c6d08ee",
   "metadata": {},
   "outputs": [
    {
     "name": "stdout",
     "output_type": "stream",
     "text": [
      "MT_onto_FC_Extinction.csv 22\n",
      "OFT_clock_D19_mean_scores.csv 8\n",
      "ChR2_mean_scores.csv 11\n",
      "MT_onto_DeltaFosB_EPM.csv 9\n",
      "MT_onto_CLK-19_EPM.csv 17\n",
      "MT_onto_CLK-19_OFT.csv 8\n",
      "MT_onto_CUS_socPref_projection.csv 12\n",
      "C19_mean_scores.csv 17\n",
      "CUS_socPref_proj_mean_scores.csv 12\n",
      "DeltaFosB_mean_scores.csv 9\n",
      "FC_mean_scores.csv 39\n",
      "MT_onto_CSDS_Projection.csv 24\n",
      "MT_onto_DZP_Projection.csv 8\n",
      "MT_onto_FC.csv 39\n",
      "MT_onto_CUS_Projection.csv 12\n",
      "MT_onto_ChR2.csv 11\n",
      "FC_extinction_mean_scores.csv 22\n",
      "MT_onto_New_OFT_FLX_Projection.csv 6\n"
     ]
    }
   ],
   "source": [
    "for file in os.listdir('.'):\n",
    "    if file.split('.')[-1]=='csv':\n",
    "        df = pd.read_csv(file)\n",
    "        \n",
    "        if \"mouse\" in df.columns:\n",
    "            n_mice = len(np.unique(df.mouse))\n",
    "        else:\n",
    "            n_mice = len(np.unique(df.y_mouse))\n",
    "            \n",
    "        print(file,n_mice)"
   ]
  },
  {
   "cell_type": "code",
   "execution_count": null,
   "id": "0bd326ac-622f-4277-a11b-92a2c298e13a",
   "metadata": {},
   "outputs": [],
   "source": []
  }
 ],
 "metadata": {
  "kernelspec": {
   "display_name": "Python 3 (ipykernel)",
   "language": "python",
   "name": "python3"
  },
  "language_info": {
   "codemirror_mode": {
    "name": "ipython",
    "version": 3
   },
   "file_extension": ".py",
   "mimetype": "text/x-python",
   "name": "python",
   "nbconvert_exporter": "python",
   "pygments_lexer": "ipython3",
   "version": "3.7.13"
  }
 },
 "nbformat": 4,
 "nbformat_minor": 5
}

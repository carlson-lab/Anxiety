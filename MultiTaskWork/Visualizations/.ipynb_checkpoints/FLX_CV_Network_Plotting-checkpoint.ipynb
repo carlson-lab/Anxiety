{
 "cells": [
  {
   "cell_type": "code",
   "execution_count": 9,
   "id": "f809682b-fd6b-4543-85b1-6350977caeb6",
   "metadata": {},
   "outputs": [],
   "source": [
    "import numpy as np\n",
    "import pickle\n",
    "import matplotlib.pyplot as plt\n",
    "import pandas as pd\n",
    "from lpne.plotting import circle_plot"
   ]
  },
  {
   "cell_type": "code",
   "execution_count": 43,
   "id": "d16a2448-1aa6-47b4-a32c-49467ad96d60",
   "metadata": {},
   "outputs": [],
   "source": [
    "with open(\"/work/mk423/Anxiety/Anx_Info_Dict.pkl\",\"rb\") as f:\n",
    "    anxInfo = pickle.load(f)"
   ]
  },
  {
   "cell_type": "code",
   "execution_count": null,
   "id": "8b5204e0-dd24-45a1-aed0-18b4c7424f12",
   "metadata": {},
   "outputs": [],
   "source": []
  },
  {
   "cell_type": "code",
   "execution_count": 3,
   "id": "720f6ee3-3d94-4f0e-8b0f-6b2063a69da7",
   "metadata": {},
   "outputs": [
    {
     "data": {
      "text/plain": [
       "dict_keys(['channel', 'channelArea', 'allWindows', 'fsRaw', 'windowLength', 'windows', 'area', 's', 'fs', 'preprocessVersion', 'f', 'powerFeatures', 'powVersion', 'cohFeatures', 'cohVersion', 'gcFeatures', 'instFeatures', 'gcVersion'])"
      ]
     },
     "execution_count": 3,
     "metadata": {},
     "output_type": "execute_result"
    }
   ],
   "source": [
    "anxInfo.keys()"
   ]
  },
  {
   "cell_type": "code",
   "execution_count": 52,
   "id": "8176b162-0613-4938-b30e-fa67eeed04e2",
   "metadata": {},
   "outputs": [],
   "source": [
    "with open(\"/work/mk423/Anxiety/FLX_model_kfold/flx_kfold_cv_check_April_14th_2023.pkl\",\"rb\") as f:\n",
    "    cvDict = pickle.load(f)"
   ]
  },
  {
   "cell_type": "code",
   "execution_count": 5,
   "id": "dc2f04db-eb1f-46dc-9378-aa04df89c5e3",
   "metadata": {},
   "outputs": [
    {
     "data": {
      "text/plain": [
       "dict_keys(['train_aucs', 'val_aucs', 'test_aucs', 'train_mice', 'val_mice', 'test_mice', 'electomes'])"
      ]
     },
     "execution_count": 5,
     "metadata": {},
     "output_type": "execute_result"
    }
   ],
   "source": [
    "cvDict.keys()"
   ]
  },
  {
   "cell_type": "code",
   "execution_count": 6,
   "id": "ef4facae-ad8e-47a7-ac57-08414e6f21df",
   "metadata": {},
   "outputs": [],
   "source": [
    "def reshapeData(X_psd,X_coh,n_rois,n_freqs,pow_features,coh_features,areas):\n",
    "    X_3d = np.zeros((n_rois,n_rois,n_freqs))\n",
    "    \n",
    "    for i in range(n_rois):\n",
    "        X_3d[i,i,:] = X_psd[i*n_freqs:(i+1)*n_freqs]\n",
    "        \n",
    "    \n",
    "    split_coh_features = np.array([feature.split(' ')[0] for feature in coh_features])\n",
    "    #print(split_coh_features)\n",
    "    unique_coh_features = np.unique(split_coh_features)\n",
    "    for i in range(n_rois):\n",
    "        for j in range(n_rois):\n",
    "            if i != j:\n",
    "                area_1 = areas[i]\n",
    "                area_2 = areas[j]\n",
    "                temp_feature = area_1 + \"-\" + area_2\n",
    "                temp_feature_2 = area_2 + \"-\" + area_1\n",
    "                if temp_feature in unique_coh_features:\n",
    "                    feature_mask = np.where(split_coh_features==temp_feature,True,False)\n",
    "                    X_3d[i,j,:] = X_coh[feature_mask==1]\n",
    "                    X_3d[j,i,:] = X_coh[feature_mask==1]\n",
    "\n",
    "                elif temp_feature_2 in unique_coh_features:\n",
    "                    feature_mask = np.where(split_coh_features==temp_feature_2,1,0)\n",
    "                    X_3d[i,j,:] = X_coh[feature_mask==1]\n",
    "                    X_3d[j,i,:] = X_coh[feature_mask==1]\n",
    "\n",
    "                else:\n",
    "                    print(\"temp_feature: {} not found\".format(temp_feature))\n",
    "\n",
    "    return X_3d"
   ]
  },
  {
   "cell_type": "code",
   "execution_count": 48,
   "id": "1c310179-e201-459a-a2ff-1ca240e81edd",
   "metadata": {},
   "outputs": [
    {
     "data": {
      "text/plain": [
       "(14604, 5152)"
      ]
     },
     "execution_count": 48,
     "metadata": {},
     "output_type": "execute_result"
    }
   ],
   "source": [
    "electome.shape"
   ]
  },
  {
   "cell_type": "code",
   "execution_count": 55,
   "id": "ba50970e-c008-455c-b1d3-348435d8ff63",
   "metadata": {},
   "outputs": [],
   "source": [
    "for fold in range(4):\n",
    "    electome = cvDict['perc_recon'][fold]\n",
    "    el_psd = electome[:len(anxInfo[\"powerFeatures\"])]\n",
    "    el_coh = electome[len(anxInfo[\"powerFeatures\"]):(len(anxInfo[\"powerFeatures\"]) + len(anxInfo[\"cohFeatures\"]))]\n",
    "\n",
    "    X_3d = reshapeData(el_psd,el_coh,8,56,anxInfo[\"powerFeatures\"],anxInfo[\"cohFeatures\"],anxInfo[\"area\"])\n",
    "    circle_plot(X_3d,anxInfo[\"area\"],freqs=np.arange(56),freq_ticks=np.arange(0,56,5),min_max_quantiles=(0.95,0.9999),fn=\"FLX_kcv_fold_{}.pdf\".format(fold))"
   ]
  },
  {
   "cell_type": "code",
   "execution_count": 8,
   "id": "6ff062ee-6417-4844-bd2a-37af8e3d9a85",
   "metadata": {},
   "outputs": [],
   "source": []
  },
  {
   "cell_type": "code",
   "execution_count": 41,
   "id": "78891fa8-dfff-4ef7-a06f-4e8f29eabd6a",
   "metadata": {},
   "outputs": [],
   "source": [
    "df = pd.read_csv(\"MT_val_network_perc_contribution_positive_labels.csv\")\n",
    "electome = np.array(df.to_numpy()[0][0].split(' '),dtype=np.float32)\n",
    "\n",
    "el_psd = electome[:len(anxInfo[\"powerFeatures\"])]\n",
    "el_coh = electome[len(anxInfo[\"powerFeatures\"]):(len(anxInfo[\"powerFeatures\"]) + len(anxInfo[\"cohFeatures\"]))]\n",
    "X_3d = reshapeData(el_psd,el_coh,8,56,anxInfo[\"powerFeatures\"],anxInfo[\"cohFeatures\"],anxInfo[\"area\"])\n",
    "\n",
    "circle_plot(X_3d,anxInfo[\"area\"],freqs=np.arange(56),freq_ticks=np.arange(0,56,5),max_alpha=1,min_max_quantiles=(0.95,0.9999),fn=\"old_net.pdf\")"
   ]
  },
  {
   "cell_type": "code",
   "execution_count": 19,
   "id": "155d089d-6bf8-418e-9bd7-8b04ad9e02c7",
   "metadata": {},
   "outputs": [],
   "source": [
    "X_3d_original = df.shape"
   ]
  },
  {
   "cell_type": "code",
   "execution_count": 20,
   "id": "a1a29257-9461-4062-a649-1aa55ce1d3d1",
   "metadata": {},
   "outputs": [
    {
     "data": {
      "text/plain": [
       "(19, 1)"
      ]
     },
     "execution_count": 20,
     "metadata": {},
     "output_type": "execute_result"
    }
   ],
   "source": [
    "X_3d_original"
   ]
  },
  {
   "cell_type": "code",
   "execution_count": 28,
   "id": "fe47a1b3-5274-4b45-8f4a-9531b3fe68a2",
   "metadata": {},
   "outputs": [
    {
     "data": {
      "text/plain": [
       "(19, 1)"
      ]
     },
     "execution_count": 28,
     "metadata": {},
     "output_type": "execute_result"
    }
   ],
   "source": [
    "df.to_numpy().shape"
   ]
  },
  {
   "cell_type": "code",
   "execution_count": 35,
   "id": "08880cfe-930c-42f6-abc7-d20669f00d7c",
   "metadata": {},
   "outputs": [
    {
     "data": {
      "text/plain": [
       "array([8.8446689e-01, 7.9015130e-01, 6.3032705e-01, ..., 6.7143856e-06,\n",
       "       6.0668308e-06, 6.2479594e-06], dtype=float32)"
      ]
     },
     "execution_count": 35,
     "metadata": {},
     "output_type": "execute_result"
    }
   ],
   "source": [
    "np.array(df.to_numpy()[0][0].split(' '),dtype=np.float32)"
   ]
  },
  {
   "cell_type": "code",
   "execution_count": null,
   "id": "97b2774e-07fa-4220-923e-db275be3f608",
   "metadata": {},
   "outputs": [],
   "source": []
  }
 ],
 "metadata": {
  "kernelspec": {
   "display_name": "Python 3 (ipykernel)",
   "language": "python",
   "name": "python3"
  },
  "language_info": {
   "codemirror_mode": {
    "name": "ipython",
    "version": 3
   },
   "file_extension": ".py",
   "mimetype": "text/x-python",
   "name": "python",
   "nbconvert_exporter": "python",
   "pygments_lexer": "ipython3",
   "version": "3.7.13"
  }
 },
 "nbformat": 4,
 "nbformat_minor": 5
}
